{
 "metadata": {
  "language_info": {
   "codemirror_mode": {
    "name": "ipython",
    "version": 3
   },
   "file_extension": ".py",
   "mimetype": "text/x-python",
   "name": "python",
   "nbconvert_exporter": "python",
   "pygments_lexer": "ipython3",
   "version": "3.8.7-final"
  },
  "orig_nbformat": 2,
  "kernelspec": {
   "name": "python3",
   "display_name": "Python 3",
   "language": "python"
  }
 },
 "nbformat": 4,
 "nbformat_minor": 2,
 "cells": [
  {
   "cell_type": "code",
   "execution_count": 27,
   "metadata": {},
   "outputs": [
    {
     "output_type": "stream",
     "name": "stdout",
     "text": [
      "found checkpoint: /home/hugo/lab/instrument-recognition/test-tubes/mdb-solos/debug/openl3-mel256-512-music-small-transformer-wce-mixFalse/version_0/checkpoints/epoch=29-fscore_val=0.87.ckpt\n200\n"
     ]
    },
    {
     "output_type": "error",
     "ename": "AttributeError",
     "evalue": "type object 'DataModule' has no attribute 'from_hparams'",
     "traceback": [
      "\u001b[0;31m---------------------------------------------------------------------------\u001b[0m",
      "\u001b[0;31mAttributeError\u001b[0m                            Traceback (most recent call last)",
      "\u001b[0;32m<ipython-input-27-867ffd772da4>\u001b[0m in \u001b[0;36m<module>\u001b[0;34m\u001b[0m\n\u001b[1;32m     21\u001b[0m \u001b[0;34m\u001b[0m\u001b[0m\n\u001b[1;32m     22\u001b[0m \u001b[0mmodel\u001b[0m \u001b[0;34m=\u001b[0m \u001b[0mir\u001b[0m\u001b[0;34m.\u001b[0m\u001b[0mmodels\u001b[0m\u001b[0;34m.\u001b[0m\u001b[0mModel\u001b[0m\u001b[0;34m(\u001b[0m\u001b[0;34m**\u001b[0m\u001b[0mckpt\u001b[0m\u001b[0;34m[\u001b[0m\u001b[0;34m'hyper_parameters'\u001b[0m\u001b[0;34m]\u001b[0m\u001b[0;34m)\u001b[0m\u001b[0;34m\u001b[0m\u001b[0;34m\u001b[0m\u001b[0m\n\u001b[0;32m---> 23\u001b[0;31m \u001b[0mdm\u001b[0m \u001b[0;34m=\u001b[0m \u001b[0mir\u001b[0m\u001b[0;34m.\u001b[0m\u001b[0mdatasets\u001b[0m\u001b[0;34m.\u001b[0m\u001b[0mDataModule\u001b[0m\u001b[0;34m.\u001b[0m\u001b[0mfrom_hparams\u001b[0m\u001b[0;34m(\u001b[0m\u001b[0mhparams\u001b[0m\u001b[0;34m)\u001b[0m\u001b[0;34m\u001b[0m\u001b[0;34m\u001b[0m\u001b[0m\n\u001b[0m\u001b[1;32m     24\u001b[0m \u001b[0mtask\u001b[0m \u001b[0;34m=\u001b[0m \u001b[0mir\u001b[0m\u001b[0;34m.\u001b[0m\u001b[0mtask\u001b[0m\u001b[0;34m.\u001b[0m\u001b[0mInstrumentDetectionTask\u001b[0m\u001b[0;34m.\u001b[0m\u001b[0mload_from_checkpoint\u001b[0m\u001b[0;34m(\u001b[0m\u001b[0mmodel\u001b[0m\u001b[0;34m,\u001b[0m \u001b[0mdm\u001b[0m\u001b[0;34m,\u001b[0m \u001b[0mckpt\u001b[0m\u001b[0;34m)\u001b[0m\u001b[0;34m\u001b[0m\u001b[0;34m\u001b[0m\u001b[0m\n",
      "\u001b[0;31mAttributeError\u001b[0m: type object 'DataModule' has no attribute 'from_hparams'"
     ]
    }
   ],
   "source": [
    "from pathlib import Path\n",
    "import torch\n",
    "import instrument_recognition as ir\n",
    "\n",
    "test_tube_dir = Path('/home/hugo/lab/instrument-recognition/test-tubes/mdb-solos/debug/openl3-mel256-512-music-small-transformer-wce-mixFalse/version_0/')\n",
    "ckpt = ir.utils.train.get_best_ckpt_path(test_tube_dir / 'checkpoints')\n",
    "\n",
    "ckpt = torch.load(ckpt)\n",
    "# print(ckpt['hyper_parameters'].keys())\n",
    "# print(ckpt['state_dict'].keys())\n",
    "\n",
    "class Namespace:\n",
    "    def __init__(self, **kwargs):\n",
    "        self.__dict__.update(kwargs)\n",
    "\n",
    "def strip_state_dict_keys(state_dict, pattern='model.'):\n",
    "    from collections import OrderedDict\n",
    "    # remove the pattern from the state dict keys\n",
    "    output = OrderedDict()\n",
    "    for k in state_dict:\n",
    "        if pattern in k:\n",
    "            new_k = k.replace(pattern, '')\n",
    "            output[new_k] = ckpt['state_dict'][k]\n",
    "    return output\n",
    "\n",
    "model = ir.models.Model(**ckpt['hyper_parameters'])\n",
    "model.load_state_dict()\n"
   ]
  },
  {
   "cell_type": "code",
   "execution_count": null,
   "metadata": {},
   "outputs": [],
   "source": []
  }
 ]
}