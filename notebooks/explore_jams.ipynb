{
 "metadata": {
  "language_info": {
   "codemirror_mode": {
    "name": "ipython",
    "version": 3
   },
   "file_extension": ".py",
   "mimetype": "text/x-python",
   "name": "python",
   "nbconvert_exporter": "python",
   "pygments_lexer": "ipython3",
   "version": "3.6.9-final"
  },
  "orig_nbformat": 2,
  "kernelspec": {
   "name": "python3",
   "display_name": "Python 3",
   "language": "python"
  }
 },
 "nbformat": 4,
 "nbformat_minor": 2,
 "cells": [
  {
   "cell_type": "code",
   "execution_count": 11,
   "metadata": {},
   "outputs": [],
   "source": [
    "import jams\n",
    "import glob\n",
    "\n",
    "import instrument_recognition as ir\n",
    "\n",
    "# load data path\n",
    "dataset = 'medleydb'\n",
    "partition = 'train'\n",
    "soundscape_name = 'mdb-synthetic-mono-OVERLAP'\n",
    "data_path = ir.DATA_DIR / dataset / partition / soundscape_name\n",
    "all_jams_files = glob.glob(str(data_path / '*.jams'), recursive=True)\n"
   ]
  },
  {
   "cell_type": "code",
   "execution_count": 12,
   "metadata": {},
   "outputs": [],
   "source": [
    "records = [jams.load(p) for p in all_jams_files]"
   ]
  },
  {
   "cell_type": "code",
   "execution_count": 70,
   "metadata": {},
   "outputs": [
    {
     "output_type": "execute_result",
     "data": {
      "text/plain": [
       "['auxiliary percussion',\n",
       " 'cello',\n",
       " 'vocalists',\n",
       " 'double bass',\n",
       " 'acoustic guitar',\n",
       " 'viola section',\n",
       " 'female singer',\n",
       " 'tack piano',\n",
       " 'violin',\n",
       " 'distorted electric guitar',\n",
       " 'brass section',\n",
       " 'electric bass',\n",
       " 'vibraphone',\n",
       " 'male singer',\n",
       " 'oboe',\n",
       " 'viola',\n",
       " 'violin section',\n",
       " 'clean electric guitar',\n",
       " 'trumpet',\n",
       " 'drum set',\n",
       " 'synthesizer',\n",
       " 'piano']"
      ]
     },
     "metadata": {},
     "execution_count": 70
    }
   ],
   "source": [
    "classlist = os.listdir(data_path.parent / 'foreground' )\n",
    "classlist"
   ]
  },
  {
   "cell_type": "code",
   "execution_count": 66,
   "metadata": {},
   "outputs": [
    {
     "output_type": "execute_result",
     "data": {
      "text/plain": [
       "{'label': 'male singer',\n",
       " 'source_file': '/home/hugo/lab/instrument-recognition/data/medleydb/train/foreground/male singer/Meaxic_YouListen-1-male singer.wav',\n",
       " 'source_time': 26.224890859771936,\n",
       " 'event_time': 0.0,\n",
       " 'event_duration': 3.2899817759553738,\n",
       " 'snr': 13.918368980280475,\n",
       " 'role': 'foreground',\n",
       " 'pitch_shift': 2.2979419414087676,\n",
       " 'time_stretch': 1.0181099059809644}"
      ]
     },
     "metadata": {},
     "execution_count": 66
    }
   ],
   "source": [
    "example_jam = records[0]\n",
    "get_scaper_observations(example_jam)[0].value"
   ]
  },
  {
   "cell_type": "code",
   "execution_count": 91,
   "metadata": {},
   "outputs": [],
   "source": [
    "import numpy as np \n",
    "def get_scaper_observations(jam):\n",
    "    return jam.search(namespace='scaper')[0]['data']\n",
    "\n",
    "def get_path_to_audio(jam):\n",
    "    obvs = get_scaper_observations(jam)\n",
    "    return obvs[0].value['source_file']\n",
    "\n",
    "def get_simple_annotation(obv):\n",
    "    \"\"\" for a jams Observation, returns a dict\n",
    "    with label, start_time and end_time\n",
    "    \"\"\"\n",
    "    return dict(label=obv.value['label'],\n",
    "        start_time=obv.value['event_time'],\n",
    "        end_time=start_time+obv.value['event_duration']) \n",
    "\n",
    "def quantize_ceil(value, numerator, denominator, num_decimals=4):\n",
    "    ratio = (numerator/denominator)\n",
    "    return round((value // ratio + 1) * ratio, num_decimals)\n",
    "\n",
    "def quantize_floor(value, numerator, denominator, num_decimals=4):\n",
    "    ratio = (numerator/denominator)\n",
    "    return round(value // ratio * ratio, num_decimals)\n",
    "\n",
    "def get_one_hot_matrix(jam, classlist: list, resolution: float = 1.0):\n",
    "    # get duration from file metadata\n",
    "    duration = jam.file_metadata.duration\n",
    "    obvs = get_scaper_observations(jam)\n",
    "\n",
    "    # determine the number of bins in the time axis\n",
    "    assert duration % resolution == 0, \\\n",
    "        f'resolution {resolution} is not divisible by audio duration: {duration}'\n",
    "    num_time_bins = int(duration // resolution)\n",
    "\n",
    "    # make an empty matrix shape (time, classes)\n",
    "    one_hot = np.zeros((num_time_bins, len(classlist)))\n",
    "    time_axis = list(np.arange(0.0, duration, resolution))\n",
    "\n",
    "    # get the indices for each label\n",
    "    for obv in obvs:\n",
    "        ann = obv.value\n",
    "\n",
    "        start_time = ann['event_time']\n",
    "        end_time = start_time + ann['event_duration']\n",
    "\n",
    "        start_idx = time_axis.index(quantize_floor(start_time, resolution, duration))\n",
    "        end_idx = time_axis.index(quantize_ceil(end_time, resolution, duration))\n",
    "\n",
    "        label_idx = classlist.index(ann['label'])\n",
    "\n",
    "        # now, index\n",
    "        one_hot[start_idx:end_idx, label_idx] = 1\n",
    "    \n",
    "\n"
   ]
  },
  {
   "cell_type": "code",
   "execution_count": 92,
   "metadata": {},
   "outputs": [
    {
     "output_type": "error",
     "ename": "ValueError",
     "evalue": "3.3 is not in list",
     "traceback": [
      "\u001b[0;31m---------------------------------------------------------------------------\u001b[0m",
      "\u001b[0;31mValueError\u001b[0m                                Traceback (most recent call last)",
      "\u001b[0;32m<ipython-input-92-bce35dc84b97>\u001b[0m in \u001b[0;36m<module>\u001b[0;34m\u001b[0m\n\u001b[1;32m      1\u001b[0m \u001b[0mget_path_to_audio\u001b[0m\u001b[0;34m(\u001b[0m\u001b[0mexample_jam\u001b[0m\u001b[0;34m)\u001b[0m\u001b[0;34m\u001b[0m\u001b[0;34m\u001b[0m\u001b[0m\n\u001b[0;32m----> 2\u001b[0;31m \u001b[0mprint\u001b[0m\u001b[0;34m(\u001b[0m\u001b[0mget_one_hot_matrix\u001b[0m\u001b[0;34m(\u001b[0m\u001b[0mexample_jam\u001b[0m\u001b[0;34m,\u001b[0m \u001b[0mclasslist\u001b[0m\u001b[0;34m)\u001b[0m\u001b[0;34m)\u001b[0m\u001b[0;34m\u001b[0m\u001b[0;34m\u001b[0m\u001b[0m\n\u001b[0m",
      "\u001b[0;32m<ipython-input-91-b1f62889d40a>\u001b[0m in \u001b[0;36mget_one_hot_matrix\u001b[0;34m(jam, classlist, resolution)\u001b[0m\n\u001b[1;32m     45\u001b[0m \u001b[0;34m\u001b[0m\u001b[0m\n\u001b[1;32m     46\u001b[0m         \u001b[0mstart_idx\u001b[0m \u001b[0;34m=\u001b[0m \u001b[0mtime_axis\u001b[0m\u001b[0;34m.\u001b[0m\u001b[0mindex\u001b[0m\u001b[0;34m(\u001b[0m\u001b[0mquantize_floor\u001b[0m\u001b[0;34m(\u001b[0m\u001b[0mstart_time\u001b[0m\u001b[0;34m,\u001b[0m \u001b[0mresolution\u001b[0m\u001b[0;34m,\u001b[0m \u001b[0mduration\u001b[0m\u001b[0;34m)\u001b[0m\u001b[0;34m)\u001b[0m\u001b[0;34m\u001b[0m\u001b[0;34m\u001b[0m\u001b[0m\n\u001b[0;32m---> 47\u001b[0;31m         \u001b[0mend_idx\u001b[0m \u001b[0;34m=\u001b[0m \u001b[0mtime_axis\u001b[0m\u001b[0;34m.\u001b[0m\u001b[0mindex\u001b[0m\u001b[0;34m(\u001b[0m\u001b[0mquantize_ceil\u001b[0m\u001b[0;34m(\u001b[0m\u001b[0mend_time\u001b[0m\u001b[0;34m,\u001b[0m \u001b[0mresolution\u001b[0m\u001b[0;34m,\u001b[0m \u001b[0mduration\u001b[0m\u001b[0;34m)\u001b[0m\u001b[0;34m)\u001b[0m\u001b[0;34m\u001b[0m\u001b[0;34m\u001b[0m\u001b[0m\n\u001b[0m\u001b[1;32m     48\u001b[0m \u001b[0;34m\u001b[0m\u001b[0m\n\u001b[1;32m     49\u001b[0m         \u001b[0mlabel_idx\u001b[0m \u001b[0;34m=\u001b[0m \u001b[0mclasslist\u001b[0m\u001b[0;34m.\u001b[0m\u001b[0mindex\u001b[0m\u001b[0;34m(\u001b[0m\u001b[0mann\u001b[0m\u001b[0;34m[\u001b[0m\u001b[0;34m'label'\u001b[0m\u001b[0;34m]\u001b[0m\u001b[0;34m)\u001b[0m\u001b[0;34m\u001b[0m\u001b[0;34m\u001b[0m\u001b[0m\n",
      "\u001b[0;31mValueError\u001b[0m: 3.3 is not in list"
     ]
    }
   ],
   "source": [
    "get_path_to_audio(example_jam)\n",
    "print(get_one_hot_matrix(example_jam, classlist))"
   ]
  },
  {
   "cell_type": "code",
   "execution_count": null,
   "metadata": {},
   "outputs": [],
   "source": []
  }
 ]
}