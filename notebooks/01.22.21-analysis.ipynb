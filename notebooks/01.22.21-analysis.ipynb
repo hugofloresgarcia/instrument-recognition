{
 "cells": [
  {
   "cell_type": "code",
   "execution_count": 1,
   "metadata": {},
   "outputs": [
    {
     "name": "stderr",
     "output_type": "stream",
     "text": [
      "/home/hugo/lab/venv/lib/python3.8/site-packages/torchaudio/backend/utils.py:53: UserWarning: \"sox\" backend is being deprecated. The default backend will be changed to \"sox_io\" backend in 0.8.0 and \"sox\" backend will be removed in 0.9.0. Please migrate to \"sox_io\" backend. Please refer to https://github.com/pytorch/audio/issues/903 for the detail.\n",
      "  warnings.warn(\n"
     ]
    }
   ],
   "source": [
    "%load_ext autoreload\n",
    "%autoreload 2\n",
    "import instrument_recognition as ir\n",
    "import os"
   ]
  },
  {
   "cell_type": "code",
   "execution_count": 43,
   "metadata": {},
   "outputs": [
    {
     "name": "stdout",
     "output_type": "stream",
     "text": [
      "loaded 175 trials\n"
     ]
    }
   ],
   "source": [
    "exp_name = 'transformer-search'\n",
    "\n",
    "exp_path = ir.LOG_DIR / exp_name\n",
    "trial_paths = [exp_path / p / 'version_0' for p in os.listdir(exp_path) if 'test' not in p]\n",
    "trial_paths = [p for p in trial_paths if p.exists()]\n",
    "\n",
    "test_output_dir = ir.LOG_DIR / 'tests' / exp_name\n",
    "os.makedirs(test_output_dir, exist_ok=True)\n",
    "\n",
    "print(f'loaded {len(trial_paths)} trials')\n"
   ]
  },
  {
   "cell_type": "code",
   "execution_count": 3,
   "metadata": {},
   "outputs": [
    {
     "data": {
      "text/plain": [
       "PosixPath('/home/hugo/lab/instrument-recognition/test-tubes/transformer-search/seed=12_rnn=xfmr-1_recurrence_num_layers=8_/version_0')"
      ]
     },
     "execution_count": 3,
     "metadata": {},
     "output_type": "execute_result"
    }
   ],
   "source": [
    "trial_paths[0]"
   ]
  },
  {
   "cell_type": "code",
   "execution_count": 4,
   "metadata": {
    "collapsed": true,
    "jupyter": {
     "outputs_hidden": true
    }
   },
   "outputs": [
    {
     "name": "stdout",
     "output_type": "stream",
     "text": [
      "found checkpoint: /home/hugo/lab/instrument-recognition/test-tubes/transformer-search/seed=12_rnn=xfmr-1_recurrence_num_layers=8_/version_0/checkpoints/epoch=25-fscore_val=0.92.ckpt\n",
      "found checkpoint: /home/hugo/lab/instrument-recognition/test-tubes/transformer-search/seed=12_rnn=xfmr-1_recurrence_num_layers=8_/version_0/checkpoints/epoch=25-fscore_val=0.92.ckpt\n",
      "/home/hugo/lab/instrument-recognition/test-tubes/transformer-search/seed=12_rnn=xfmr-1_recurrence_num_layers=8_/version_0\n",
      "/home/hugo/lab/instrument-recognition/test-tubes/transformer-search/seed=12_rnn=xfmr-1_recurrence_num_layers=8_/version_0/checkpoints/epoch=25-fscore_val=0.92.ckpt\n"
     ]
    },
    {
     "name": "stderr",
     "output_type": "stream",
     "text": [
      "100%|██████████| 5208/5208 [00:00<00:00, 41617.09it/s]"
     ]
    },
    {
     "name": "stdout",
     "output_type": "stream",
     "text": [
      "loading metadata from /home/hugo/lab/instrument-recognition/data/mdb-solos-train-soundscapes/train...\n",
      "found 5208 entries\n",
      "{'trumpet': 1965, 'clarinet': 1966, 'tenor saxophone': 1914, 'piano': 1941, 'violin': 1948, 'female singer': 2011, 'flute': 1932, 'distorted electric guitar': 1945}\n",
      "loading metadata from /home/hugo/lab/instrument-recognition/data/mdb-solos-train-soundscapes/test...\n"
     ]
    },
    {
     "name": "stderr",
     "output_type": "stream",
     "text": [
      "\n",
      "100%|██████████| 12236/12236 [00:00<00:00, 31597.42it/s]\n",
      "100%|██████████| 3494/3494 [00:00<00:00, 48891.22it/s]\n",
      "/home/hugo/lab/venv/lib/python3.8/site-packages/pytorch_lightning/utilities/distributed.py:45: UserWarning: Checkpoint directory /home/hugo/lab/instrument-recognition/test-tubes/transformer-search/seed=12_rnn=xfmr-1_recurrence_num_layers=8_/version_0/checkpoints exists and is not empty. With save_top_k=3, all files in this directory will be deleted when a checkpoint is saved!\n",
      "  warnings.warn(*args, **kwargs)\n",
      "GPU available: True, used: False\n",
      "TPU available: False, using: 0 TPU cores\n",
      "/home/hugo/lab/venv/lib/python3.8/site-packages/pytorch_lightning/utilities/distributed.py:45: UserWarning: GPU available but not used. Set the --gpus flag when calling the script.\n",
      "  warnings.warn(*args, **kwargs)\n"
     ]
    },
    {
     "name": "stdout",
     "output_type": "stream",
     "text": [
      "found 12236 entries\n",
      "{'clarinet': 732, 'piano': 2609, 'violin': 2900, 'tenor saxophone': 325, 'flute': 3167, 'distorted electric guitar': 955, 'female singer': 1142, 'trumpet': 406}\n",
      "loading metadata from /home/hugo/lab/instrument-recognition/data/mdb-solos-train-soundscapes/validation...\n",
      "found 3494 entries\n",
      "{'clarinet': 328, 'piano': 1022, 'flute': 233, 'female singer': 284, 'tenor saxophone': 29, 'violin': 1031, 'distorted electric guitar': 495, 'trumpet': 72}\n",
      "train entries: 5208\n",
      "val entries: 3494\n",
      "found checkpoint: /home/hugo/lab/instrument-recognition/test-tubes/transformer-search/seed=12_rnn=xfmr-1_recurrence_num_layers=8_/version_0/checkpoints/epoch=25-fscore_val=0.92.ckpt\n"
     ]
    },
    {
     "data": {
      "application/vnd.jupyter.widget-view+json": {
       "model_id": "1fe62e94cc0c4155b23d87227a535150",
       "version_major": 2,
       "version_minor": 0
      },
      "text/plain": [
       "HBox(children=(HTML(value='Testing'), FloatProgress(value=1.0, bar_style='info', layout=Layout(flex='2'), max=…"
      ]
     },
     "metadata": {},
     "output_type": "display_data"
    },
    {
     "name": "stdout",
     "output_type": "stream",
     "text": [
      "--------------------------------------------------------------------------------\n",
      "DATALOADER:0 TEST RESULTS\n",
      "{'ECE/test': 0.1407300355849579,\n",
      " 'accuracy/test': 0.8301187751988668,\n",
      " 'fscore/test': 0.8189040005740004,\n",
      " 'fscore_test': 0.8189040005740004,\n",
      " 'loss/test': tensor(1.0314),\n",
      " 'loss_test': tensor(1.0314),\n",
      " 'precision/test': 0.8551274879744586,\n",
      " 'recall/test': 0.8301187751988668}\n",
      "--------------------------------------------------------------------------------\n",
      "\n",
      "found checkpoint: /home/hugo/lab/instrument-recognition/test-tubes/transformer-search/seed=23_rnn=xfmr-8_recurrence_num_layers=2_/version_0/checkpoints/epoch=115-fscore_val=0.94.ckpt\n",
      "found checkpoint: /home/hugo/lab/instrument-recognition/test-tubes/transformer-search/seed=23_rnn=xfmr-8_recurrence_num_layers=2_/version_0/checkpoints/epoch=115-fscore_val=0.94.ckpt\n",
      "/home/hugo/lab/instrument-recognition/test-tubes/transformer-search/seed=23_rnn=xfmr-8_recurrence_num_layers=2_/version_0\n",
      "/home/hugo/lab/instrument-recognition/test-tubes/transformer-search/seed=23_rnn=xfmr-8_recurrence_num_layers=2_/version_0/checkpoints/epoch=115-fscore_val=0.94.ckpt\n"
     ]
    },
    {
     "name": "stderr",
     "output_type": "stream",
     "text": [
      "100%|██████████| 5208/5208 [00:00<00:00, 35209.95it/s]"
     ]
    },
    {
     "name": "stdout",
     "output_type": "stream",
     "text": [
      "loading metadata from /home/hugo/lab/instrument-recognition/data/mdb-solos-train-soundscapes/train...\n",
      "found 5208 entries\n",
      "{'trumpet': 1965, 'clarinet': 1966, 'tenor saxophone': 1914, 'piano': 1941, 'violin': 1948, 'female singer': 2011, 'flute': 1932, 'distorted electric guitar': 1945}\n",
      "loading metadata from /home/hugo/lab/instrument-recognition/data/mdb-solos-train-soundscapes/test...\n"
     ]
    },
    {
     "name": "stderr",
     "output_type": "stream",
     "text": [
      "\n",
      "100%|██████████| 12236/12236 [00:00<00:00, 48796.85it/s]\n",
      "100%|██████████| 3494/3494 [00:00<00:00, 48904.11it/s]\n",
      "/home/hugo/lab/venv/lib/python3.8/site-packages/pytorch_lightning/utilities/distributed.py:45: UserWarning: Checkpoint directory /home/hugo/lab/instrument-recognition/test-tubes/transformer-search/seed=23_rnn=xfmr-8_recurrence_num_layers=2_/version_0/checkpoints exists and is not empty. With save_top_k=3, all files in this directory will be deleted when a checkpoint is saved!\n",
      "  warnings.warn(*args, **kwargs)\n",
      "GPU available: True, used: False\n",
      "TPU available: False, using: 0 TPU cores\n"
     ]
    },
    {
     "name": "stdout",
     "output_type": "stream",
     "text": [
      "found 12236 entries\n",
      "{'clarinet': 732, 'piano': 2609, 'violin': 2900, 'tenor saxophone': 325, 'flute': 3167, 'distorted electric guitar': 955, 'female singer': 1142, 'trumpet': 406}\n",
      "loading metadata from /home/hugo/lab/instrument-recognition/data/mdb-solos-train-soundscapes/validation...\n",
      "found 3494 entries\n",
      "{'clarinet': 328, 'piano': 1022, 'flute': 233, 'female singer': 284, 'tenor saxophone': 29, 'violin': 1031, 'distorted electric guitar': 495, 'trumpet': 72}\n",
      "train entries: 5208\n",
      "val entries: 3494\n",
      "found checkpoint: /home/hugo/lab/instrument-recognition/test-tubes/transformer-search/seed=23_rnn=xfmr-8_recurrence_num_layers=2_/version_0/checkpoints/epoch=115-fscore_val=0.94.ckpt\n"
     ]
    },
    {
     "data": {
      "application/vnd.jupyter.widget-view+json": {
       "model_id": "1f6f0f5037a54659a22c009730cf4950",
       "version_major": 2,
       "version_minor": 0
      },
      "text/plain": [
       "HBox(children=(HTML(value='Testing'), FloatProgress(value=1.0, bar_style='info', layout=Layout(flex='2'), max=…"
      ]
     },
     "metadata": {},
     "output_type": "display_data"
    },
    {
     "name": "stderr",
     "output_type": "stream",
     "text": [
      "/home/hugo/lab/venv/lib/python3.8/site-packages/sklearn/metrics/_classification.py:1221: UndefinedMetricWarning: Precision is ill-defined and being set to 0.0 in labels with no predicted samples. Use `zero_division` parameter to control this behavior.\n",
      "  _warn_prf(average, modifier, msg_start, len(result))\n"
     ]
    },
    {
     "name": "stdout",
     "output_type": "stream",
     "text": [
      "--------------------------------------------------------------------------------\n",
      "DATALOADER:0 TEST RESULTS\n",
      "{'ECE/test': 0.1442155774686413,\n",
      " 'accuracy/test': 0.8303911953797537,\n",
      " 'fscore/test': 0.8170827615659868,\n",
      " 'fscore_test': 0.8170827615659868,\n",
      " 'loss/test': tensor(1.3083),\n",
      " 'loss_test': tensor(1.3083),\n",
      " 'precision/test': 0.8559022527163139,\n",
      " 'recall/test': 0.8303911953797537}\n",
      "--------------------------------------------------------------------------------\n",
      "\n",
      "found checkpoint: /home/hugo/lab/instrument-recognition/test-tubes/transformer-search/seed=12_rnn=xfmr-2_recurrence_num_layers=1_/version_0/checkpoints/epoch=30-fscore_val=0.94.ckpt\n",
      "found checkpoint: /home/hugo/lab/instrument-recognition/test-tubes/transformer-search/seed=12_rnn=xfmr-2_recurrence_num_layers=1_/version_0/checkpoints/epoch=30-fscore_val=0.94.ckpt\n",
      "/home/hugo/lab/instrument-recognition/test-tubes/transformer-search/seed=12_rnn=xfmr-2_recurrence_num_layers=1_/version_0\n",
      "/home/hugo/lab/instrument-recognition/test-tubes/transformer-search/seed=12_rnn=xfmr-2_recurrence_num_layers=1_/version_0/checkpoints/epoch=30-fscore_val=0.94.ckpt\n",
      "loading metadata from /home/hugo/lab/instrument-recognition/data/mdb-solos-train-soundscapes/train...\n"
     ]
    },
    {
     "name": "stderr",
     "output_type": "stream",
     "text": [
      "100%|██████████| 5208/5208 [00:00<00:00, 41834.52it/s]\n",
      " 41%|████      | 4980/12236 [00:00<00:00, 49790.91it/s]"
     ]
    },
    {
     "name": "stdout",
     "output_type": "stream",
     "text": [
      "found 5208 entries\n",
      "{'trumpet': 1965, 'clarinet': 1966, 'tenor saxophone': 1914, 'piano': 1941, 'violin': 1948, 'female singer': 2011, 'flute': 1932, 'distorted electric guitar': 1945}\n",
      "loading metadata from /home/hugo/lab/instrument-recognition/data/mdb-solos-train-soundscapes/test...\n"
     ]
    },
    {
     "name": "stderr",
     "output_type": "stream",
     "text": [
      "100%|██████████| 12236/12236 [00:00<00:00, 49088.19it/s]\n",
      "100%|██████████| 3494/3494 [00:00<00:00, 48231.81it/s]\n",
      "/home/hugo/lab/venv/lib/python3.8/site-packages/pytorch_lightning/utilities/distributed.py:45: UserWarning: Checkpoint directory /home/hugo/lab/instrument-recognition/test-tubes/transformer-search/seed=12_rnn=xfmr-2_recurrence_num_layers=1_/version_0/checkpoints exists and is not empty. With save_top_k=3, all files in this directory will be deleted when a checkpoint is saved!\n",
      "  warnings.warn(*args, **kwargs)\n",
      "GPU available: True, used: False\n",
      "TPU available: False, using: 0 TPU cores\n"
     ]
    },
    {
     "name": "stdout",
     "output_type": "stream",
     "text": [
      "found 12236 entries\n",
      "{'clarinet': 732, 'piano': 2609, 'violin': 2900, 'tenor saxophone': 325, 'flute': 3167, 'distorted electric guitar': 955, 'female singer': 1142, 'trumpet': 406}\n",
      "loading metadata from /home/hugo/lab/instrument-recognition/data/mdb-solos-train-soundscapes/validation...\n",
      "found 3494 entries\n",
      "{'clarinet': 328, 'piano': 1022, 'flute': 233, 'female singer': 284, 'tenor saxophone': 29, 'violin': 1031, 'distorted electric guitar': 495, 'trumpet': 72}\n",
      "train entries: 5208\n",
      "val entries: 3494\n",
      "found checkpoint: /home/hugo/lab/instrument-recognition/test-tubes/transformer-search/seed=12_rnn=xfmr-2_recurrence_num_layers=1_/version_0/checkpoints/epoch=30-fscore_val=0.94.ckpt\n"
     ]
    },
    {
     "data": {
      "application/vnd.jupyter.widget-view+json": {
       "model_id": "e0b2ea14b4eb44919579ac4222ec63e3",
       "version_major": 2,
       "version_minor": 0
      },
      "text/plain": [
       "HBox(children=(HTML(value='Testing'), FloatProgress(value=1.0, bar_style='info', layout=Layout(flex='2'), max=…"
      ]
     },
     "metadata": {},
     "output_type": "display_data"
    },
    {
     "name": "stdout",
     "output_type": "stream",
     "text": [
      "--------------------------------------------------------------------------------\n",
      "DATALOADER:0 TEST RESULTS\n",
      "{'ECE/test': 0.1206118547841395,\n",
      " 'accuracy/test': 0.8496785441865533,\n",
      " 'fscore/test': 0.8400673174763286,\n",
      " 'fscore_test': 0.8400673174763286,\n",
      " 'loss/test': tensor(1.0637),\n",
      " 'loss_test': tensor(1.0637),\n",
      " 'precision/test': 0.8703634653170126,\n",
      " 'recall/test': 0.8496785441865533}\n",
      "--------------------------------------------------------------------------------\n",
      "\n",
      "found checkpoint: /home/hugo/lab/instrument-recognition/test-tubes/transformer-search/seed=11_rnn=xfmr-2_recurrence_num_layers=2_/version_0/checkpoints/epoch=21-fscore_val=0.93.ckpt\n",
      "found checkpoint: /home/hugo/lab/instrument-recognition/test-tubes/transformer-search/seed=11_rnn=xfmr-2_recurrence_num_layers=2_/version_0/checkpoints/epoch=21-fscore_val=0.93.ckpt\n",
      "/home/hugo/lab/instrument-recognition/test-tubes/transformer-search/seed=11_rnn=xfmr-2_recurrence_num_layers=2_/version_0\n",
      "/home/hugo/lab/instrument-recognition/test-tubes/transformer-search/seed=11_rnn=xfmr-2_recurrence_num_layers=2_/version_0/checkpoints/epoch=21-fscore_val=0.93.ckpt\n"
     ]
    },
    {
     "name": "stderr",
     "output_type": "stream",
     "text": [
      "100%|██████████| 5208/5208 [00:00<00:00, 41060.88it/s]"
     ]
    },
    {
     "name": "stdout",
     "output_type": "stream",
     "text": [
      "loading metadata from /home/hugo/lab/instrument-recognition/data/mdb-solos-train-soundscapes/train...\n",
      "found 5208 entries\n",
      "{'trumpet': 1965, 'clarinet': 1966, 'tenor saxophone': 1914, 'piano': 1941, 'violin': 1948, 'female singer': 2011, 'flute': 1932, 'distorted electric guitar': 1945}\n",
      "loading metadata from /home/hugo/lab/instrument-recognition/data/mdb-solos-train-soundscapes/test...\n"
     ]
    },
    {
     "name": "stderr",
     "output_type": "stream",
     "text": [
      "\n",
      "100%|██████████| 12236/12236 [00:00<00:00, 17122.38it/s]\n",
      "100%|██████████| 3494/3494 [00:00<00:00, 49219.96it/s]\n",
      "/home/hugo/lab/venv/lib/python3.8/site-packages/pytorch_lightning/utilities/distributed.py:45: UserWarning: Checkpoint directory /home/hugo/lab/instrument-recognition/test-tubes/transformer-search/seed=11_rnn=xfmr-2_recurrence_num_layers=2_/version_0/checkpoints exists and is not empty. With save_top_k=3, all files in this directory will be deleted when a checkpoint is saved!\n",
      "  warnings.warn(*args, **kwargs)\n",
      "GPU available: True, used: False\n",
      "TPU available: False, using: 0 TPU cores\n"
     ]
    },
    {
     "name": "stdout",
     "output_type": "stream",
     "text": [
      "found 12236 entries\n",
      "{'clarinet': 732, 'piano': 2609, 'violin': 2900, 'tenor saxophone': 325, 'flute': 3167, 'distorted electric guitar': 955, 'female singer': 1142, 'trumpet': 406}\n",
      "loading metadata from /home/hugo/lab/instrument-recognition/data/mdb-solos-train-soundscapes/validation...\n",
      "found 3494 entries\n",
      "{'clarinet': 328, 'piano': 1022, 'flute': 233, 'female singer': 284, 'tenor saxophone': 29, 'violin': 1031, 'distorted electric guitar': 495, 'trumpet': 72}\n",
      "train entries: 5208\n",
      "val entries: 3494\n",
      "found checkpoint: /home/hugo/lab/instrument-recognition/test-tubes/transformer-search/seed=11_rnn=xfmr-2_recurrence_num_layers=2_/version_0/checkpoints/epoch=21-fscore_val=0.93.ckpt\n"
     ]
    },
    {
     "data": {
      "application/vnd.jupyter.widget-view+json": {
       "model_id": "2584076910fd4ca69bd367db6a132a47",
       "version_major": 2,
       "version_minor": 0
      },
      "text/plain": [
       "HBox(children=(HTML(value='Testing'), FloatProgress(value=1.0, bar_style='info', layout=Layout(flex='2'), max=…"
      ]
     },
     "metadata": {},
     "output_type": "display_data"
    },
    {
     "name": "stdout",
     "output_type": "stream",
     "text": [
      "--------------------------------------------------------------------------------\n",
      "DATALOADER:0 TEST RESULTS\n",
      "{'ECE/test': 0.1351312402028123,\n",
      " 'accuracy/test': 0.83445025607497,\n",
      " 'fscore/test': 0.822767720440281,\n",
      " 'fscore_test': 0.822767720440281,\n",
      " 'loss/test': tensor(1.1660),\n",
      " 'loss_test': tensor(1.1660),\n",
      " 'precision/test': 0.8533641049601322,\n",
      " 'recall/test': 0.83445025607497}\n",
      "--------------------------------------------------------------------------------\n",
      "\n",
      "found checkpoint: /home/hugo/lab/instrument-recognition/test-tubes/transformer-search/seed=12_rnn=xfmr-16_recurrence_num_layers=4_/version_0/checkpoints/epoch=118-fscore_val=0.94.ckpt\n",
      "found checkpoint: /home/hugo/lab/instrument-recognition/test-tubes/transformer-search/seed=12_rnn=xfmr-16_recurrence_num_layers=4_/version_0/checkpoints/epoch=118-fscore_val=0.94.ckpt\n",
      "/home/hugo/lab/instrument-recognition/test-tubes/transformer-search/seed=12_rnn=xfmr-16_recurrence_num_layers=4_/version_0\n",
      "/home/hugo/lab/instrument-recognition/test-tubes/transformer-search/seed=12_rnn=xfmr-16_recurrence_num_layers=4_/version_0/checkpoints/epoch=118-fscore_val=0.94.ckpt\n"
     ]
    },
    {
     "name": "stderr",
     "output_type": "stream",
     "text": [
      "100%|██████████| 5208/5208 [00:00<00:00, 41869.16it/s]"
     ]
    },
    {
     "name": "stdout",
     "output_type": "stream",
     "text": [
      "loading metadata from /home/hugo/lab/instrument-recognition/data/mdb-solos-train-soundscapes/train...\n",
      "found 5208 entries\n",
      "{'trumpet': 1965, 'clarinet': 1966, 'tenor saxophone': 1914, 'piano': 1941, 'violin': 1948, 'female singer': 2011, 'flute': 1932, 'distorted electric guitar': 1945}\n",
      "loading metadata from /home/hugo/lab/instrument-recognition/data/mdb-solos-train-soundscapes/test...\n"
     ]
    },
    {
     "name": "stderr",
     "output_type": "stream",
     "text": [
      "\n",
      "100%|██████████| 12236/12236 [00:00<00:00, 49735.49it/s]\n",
      "100%|██████████| 3494/3494 [00:00<00:00, 48793.39it/s]\n",
      "/home/hugo/lab/venv/lib/python3.8/site-packages/pytorch_lightning/utilities/distributed.py:45: UserWarning: Checkpoint directory /home/hugo/lab/instrument-recognition/test-tubes/transformer-search/seed=12_rnn=xfmr-16_recurrence_num_layers=4_/version_0/checkpoints exists and is not empty. With save_top_k=3, all files in this directory will be deleted when a checkpoint is saved!\n",
      "  warnings.warn(*args, **kwargs)\n",
      "GPU available: True, used: False\n",
      "TPU available: False, using: 0 TPU cores\n"
     ]
    },
    {
     "name": "stdout",
     "output_type": "stream",
     "text": [
      "found 12236 entries\n",
      "{'clarinet': 732, 'piano': 2609, 'violin': 2900, 'tenor saxophone': 325, 'flute': 3167, 'distorted electric guitar': 955, 'female singer': 1142, 'trumpet': 406}\n",
      "loading metadata from /home/hugo/lab/instrument-recognition/data/mdb-solos-train-soundscapes/validation...\n",
      "found 3494 entries\n",
      "{'clarinet': 328, 'piano': 1022, 'flute': 233, 'female singer': 284, 'tenor saxophone': 29, 'violin': 1031, 'distorted electric guitar': 495, 'trumpet': 72}\n",
      "train entries: 5208\n",
      "val entries: 3494\n",
      "found checkpoint: /home/hugo/lab/instrument-recognition/test-tubes/transformer-search/seed=12_rnn=xfmr-16_recurrence_num_layers=4_/version_0/checkpoints/epoch=118-fscore_val=0.94.ckpt\n"
     ]
    },
    {
     "data": {
      "application/vnd.jupyter.widget-view+json": {
       "model_id": "9ec03207b9624535b16a4f37f0373493",
       "version_major": 2,
       "version_minor": 0
      },
      "text/plain": [
       "HBox(children=(HTML(value='Testing'), FloatProgress(value=1.0, bar_style='info', layout=Layout(flex='2'), max=…"
      ]
     },
     "metadata": {},
     "output_type": "display_data"
    },
    {
     "name": "stdout",
     "output_type": "stream",
     "text": [
      "--------------------------------------------------------------------------------\n",
      "DATALOADER:0 TEST RESULTS\n",
      "{'ECE/test': 0.1250029822497491,\n",
      " 'accuracy/test': 0.8526751661763103,\n",
      " 'fscore/test': 0.8461693143219141,\n",
      " 'fscore_test': 0.8461693143219141,\n",
      " 'loss/test': tensor(1.1604),\n",
      " 'loss_test': tensor(1.1604),\n",
      " 'precision/test': 0.8683877710590525,\n",
      " 'recall/test': 0.8526751661763103}\n",
      "--------------------------------------------------------------------------------\n",
      "\n",
      "found checkpoint: /home/hugo/lab/instrument-recognition/test-tubes/transformer-search/seed=12_rnn=xfmr-32_recurrence_num_layers=4_/version_0/checkpoints/epoch=80-fscore_val=0.94.ckpt\n",
      "found checkpoint: /home/hugo/lab/instrument-recognition/test-tubes/transformer-search/seed=12_rnn=xfmr-32_recurrence_num_layers=4_/version_0/checkpoints/epoch=80-fscore_val=0.94.ckpt\n",
      "/home/hugo/lab/instrument-recognition/test-tubes/transformer-search/seed=12_rnn=xfmr-32_recurrence_num_layers=4_/version_0\n",
      "/home/hugo/lab/instrument-recognition/test-tubes/transformer-search/seed=12_rnn=xfmr-32_recurrence_num_layers=4_/version_0/checkpoints/epoch=80-fscore_val=0.94.ckpt\n"
     ]
    },
    {
     "name": "stderr",
     "output_type": "stream",
     "text": [
      "100%|██████████| 5208/5208 [00:00<00:00, 42674.44it/s]"
     ]
    },
    {
     "name": "stdout",
     "output_type": "stream",
     "text": [
      "loading metadata from /home/hugo/lab/instrument-recognition/data/mdb-solos-train-soundscapes/train...\n",
      "found 5208 entries\n",
      "{'trumpet': 1965, 'clarinet': 1966, 'tenor saxophone': 1914, 'piano': 1941, 'violin': 1948, 'female singer': 2011, 'flute': 1932, 'distorted electric guitar': 1945}\n",
      "loading metadata from /home/hugo/lab/instrument-recognition/data/mdb-solos-train-soundscapes/test...\n"
     ]
    },
    {
     "name": "stderr",
     "output_type": "stream",
     "text": [
      "\n",
      "100%|██████████| 12236/12236 [00:00<00:00, 48903.66it/s]\n",
      "100%|██████████| 3494/3494 [00:00<00:00, 48297.30it/s]\n",
      "/home/hugo/lab/venv/lib/python3.8/site-packages/pytorch_lightning/utilities/distributed.py:45: UserWarning: Checkpoint directory /home/hugo/lab/instrument-recognition/test-tubes/transformer-search/seed=12_rnn=xfmr-32_recurrence_num_layers=4_/version_0/checkpoints exists and is not empty. With save_top_k=3, all files in this directory will be deleted when a checkpoint is saved!\n",
      "  warnings.warn(*args, **kwargs)\n",
      "GPU available: True, used: False\n",
      "TPU available: False, using: 0 TPU cores\n"
     ]
    },
    {
     "name": "stdout",
     "output_type": "stream",
     "text": [
      "found 12236 entries\n",
      "{'clarinet': 732, 'piano': 2609, 'violin': 2900, 'tenor saxophone': 325, 'flute': 3167, 'distorted electric guitar': 955, 'female singer': 1142, 'trumpet': 406}\n",
      "loading metadata from /home/hugo/lab/instrument-recognition/data/mdb-solos-train-soundscapes/validation...\n",
      "found 3494 entries\n",
      "{'clarinet': 328, 'piano': 1022, 'flute': 233, 'female singer': 284, 'tenor saxophone': 29, 'violin': 1031, 'distorted electric guitar': 495, 'trumpet': 72}\n",
      "train entries: 5208\n",
      "val entries: 3494\n",
      "found checkpoint: /home/hugo/lab/instrument-recognition/test-tubes/transformer-search/seed=12_rnn=xfmr-32_recurrence_num_layers=4_/version_0/checkpoints/epoch=80-fscore_val=0.94.ckpt\n"
     ]
    },
    {
     "data": {
      "application/vnd.jupyter.widget-view+json": {
       "model_id": "7473b7b5e9a44cd7be3b90a49defb673",
       "version_major": 2,
       "version_minor": 0
      },
      "text/plain": [
       "HBox(children=(HTML(value='Testing'), FloatProgress(value=1.0, bar_style='info', layout=Layout(flex='2'), max=…"
      ]
     },
     "metadata": {},
     "output_type": "display_data"
    },
    {
     "name": "stdout",
     "output_type": "stream",
     "text": [
      "--------------------------------------------------------------------------------\n",
      "DATALOADER:0 TEST RESULTS\n",
      "{'ECE/test': 0.1404990431270828,\n",
      " 'accuracy/test': 0.833905415713196,\n",
      " 'fscore/test': 0.8252362680586747,\n",
      " 'fscore_test': 0.8252362680586747,\n",
      " 'loss/test': tensor(1.1932),\n",
      " 'loss_test': tensor(1.1932),\n",
      " 'precision/test': 0.8486994129984017,\n",
      " 'recall/test': 0.833905415713196}\n",
      "--------------------------------------------------------------------------------\n",
      "\n",
      "found checkpoint: /home/hugo/lab/instrument-recognition/test-tubes/transformer-search/seed=12_rnn=xfmr-8_recurrence_num_layers=1_/version_0/checkpoints/epoch=04-fscore_val=0.93.ckpt\n",
      "found checkpoint: /home/hugo/lab/instrument-recognition/test-tubes/transformer-search/seed=12_rnn=xfmr-8_recurrence_num_layers=1_/version_0/checkpoints/epoch=04-fscore_val=0.93.ckpt\n",
      "/home/hugo/lab/instrument-recognition/test-tubes/transformer-search/seed=12_rnn=xfmr-8_recurrence_num_layers=1_/version_0\n",
      "/home/hugo/lab/instrument-recognition/test-tubes/transformer-search/seed=12_rnn=xfmr-8_recurrence_num_layers=1_/version_0/checkpoints/epoch=04-fscore_val=0.93.ckpt\n",
      "loading metadata from /home/hugo/lab/instrument-recognition/data/mdb-solos-train-soundscapes/train...\n"
     ]
    },
    {
     "name": "stderr",
     "output_type": "stream",
     "text": [
      "100%|██████████| 5208/5208 [00:00<00:00, 41438.19it/s]\n",
      " 41%|████      | 5003/12236 [00:00<00:00, 50027.07it/s]"
     ]
    },
    {
     "name": "stdout",
     "output_type": "stream",
     "text": [
      "found 5208 entries\n",
      "{'trumpet': 1965, 'clarinet': 1966, 'tenor saxophone': 1914, 'piano': 1941, 'violin': 1948, 'female singer': 2011, 'flute': 1932, 'distorted electric guitar': 1945}\n",
      "loading metadata from /home/hugo/lab/instrument-recognition/data/mdb-solos-train-soundscapes/test...\n"
     ]
    },
    {
     "name": "stderr",
     "output_type": "stream",
     "text": [
      "100%|██████████| 12236/12236 [00:00<00:00, 49021.28it/s]\n",
      "100%|██████████| 3494/3494 [00:00<00:00, 48117.00it/s]\n",
      "/home/hugo/lab/venv/lib/python3.8/site-packages/pytorch_lightning/utilities/distributed.py:45: UserWarning: Checkpoint directory /home/hugo/lab/instrument-recognition/test-tubes/transformer-search/seed=12_rnn=xfmr-8_recurrence_num_layers=1_/version_0/checkpoints exists and is not empty. With save_top_k=3, all files in this directory will be deleted when a checkpoint is saved!\n",
      "  warnings.warn(*args, **kwargs)\n",
      "GPU available: True, used: False\n",
      "TPU available: False, using: 0 TPU cores\n"
     ]
    },
    {
     "name": "stdout",
     "output_type": "stream",
     "text": [
      "found 12236 entries\n",
      "{'clarinet': 732, 'piano': 2609, 'violin': 2900, 'tenor saxophone': 325, 'flute': 3167, 'distorted electric guitar': 955, 'female singer': 1142, 'trumpet': 406}\n",
      "loading metadata from /home/hugo/lab/instrument-recognition/data/mdb-solos-train-soundscapes/validation...\n",
      "found 3494 entries\n",
      "{'clarinet': 328, 'piano': 1022, 'flute': 233, 'female singer': 284, 'tenor saxophone': 29, 'violin': 1031, 'distorted electric guitar': 495, 'trumpet': 72}\n",
      "train entries: 5208\n",
      "val entries: 3494\n",
      "found checkpoint: /home/hugo/lab/instrument-recognition/test-tubes/transformer-search/seed=12_rnn=xfmr-8_recurrence_num_layers=1_/version_0/checkpoints/epoch=04-fscore_val=0.93.ckpt\n"
     ]
    },
    {
     "data": {
      "application/vnd.jupyter.widget-view+json": {
       "model_id": "ad6da2bcfdb54aec82ec41feb454ecac",
       "version_major": 2,
       "version_minor": 0
      },
      "text/plain": [
       "HBox(children=(HTML(value='Testing'), FloatProgress(value=1.0, bar_style='info', layout=Layout(flex='2'), max=…"
      ]
     },
     "metadata": {},
     "output_type": "display_data"
    },
    {
     "name": "stdout",
     "output_type": "stream",
     "text": [
      "--------------------------------------------------------------------------------\n",
      "DATALOADER:0 TEST RESULTS\n",
      "{'ECE/test': 0.11182884875613117,\n",
      " 'accuracy/test': 0.8453470633104501,\n",
      " 'fscore/test': 0.8341924123844483,\n",
      " 'fscore_test': 0.8341924123844483,\n",
      " 'loss/test': tensor(0.8936),\n",
      " 'loss_test': tensor(0.8936),\n",
      " 'precision/test': 0.8640533851338138,\n",
      " 'recall/test': 0.8453470633104501}\n",
      "--------------------------------------------------------------------------------\n",
      "\n",
      "found checkpoint: /home/hugo/lab/instrument-recognition/test-tubes/transformer-search/seed=433_rnn=xfmr-1_recurrence_num_layers=1_/version_0/checkpoints/epoch=51-fscore_val=0.93.ckpt\n",
      "found checkpoint: /home/hugo/lab/instrument-recognition/test-tubes/transformer-search/seed=433_rnn=xfmr-1_recurrence_num_layers=1_/version_0/checkpoints/epoch=51-fscore_val=0.93.ckpt\n",
      "/home/hugo/lab/instrument-recognition/test-tubes/transformer-search/seed=433_rnn=xfmr-1_recurrence_num_layers=1_/version_0\n",
      "/home/hugo/lab/instrument-recognition/test-tubes/transformer-search/seed=433_rnn=xfmr-1_recurrence_num_layers=1_/version_0/checkpoints/epoch=51-fscore_val=0.93.ckpt\n",
      "loading metadata from /home/hugo/lab/instrument-recognition/data/mdb-solos-train-soundscapes/train...\n"
     ]
    },
    {
     "name": "stderr",
     "output_type": "stream",
     "text": [
      "100%|██████████| 5208/5208 [00:00<00:00, 42605.52it/s]\n",
      " 42%|████▏     | 5100/12236 [00:00<00:00, 50991.17it/s]"
     ]
    },
    {
     "name": "stdout",
     "output_type": "stream",
     "text": [
      "found 5208 entries\n",
      "{'trumpet': 1965, 'clarinet': 1966, 'tenor saxophone': 1914, 'piano': 1941, 'violin': 1948, 'female singer': 2011, 'flute': 1932, 'distorted electric guitar': 1945}\n",
      "loading metadata from /home/hugo/lab/instrument-recognition/data/mdb-solos-train-soundscapes/test...\n"
     ]
    },
    {
     "name": "stderr",
     "output_type": "stream",
     "text": [
      "100%|██████████| 12236/12236 [00:00<00:00, 49641.44it/s]\n",
      "100%|██████████| 3494/3494 [00:00<00:00, 48844.45it/s]\n",
      "/home/hugo/lab/venv/lib/python3.8/site-packages/pytorch_lightning/utilities/distributed.py:45: UserWarning: Checkpoint directory /home/hugo/lab/instrument-recognition/test-tubes/transformer-search/seed=433_rnn=xfmr-1_recurrence_num_layers=1_/version_0/checkpoints exists and is not empty. With save_top_k=3, all files in this directory will be deleted when a checkpoint is saved!\n",
      "  warnings.warn(*args, **kwargs)\n",
      "GPU available: True, used: False\n",
      "TPU available: False, using: 0 TPU cores\n"
     ]
    },
    {
     "name": "stdout",
     "output_type": "stream",
     "text": [
      "found 12236 entries\n",
      "{'clarinet': 732, 'piano': 2609, 'violin': 2900, 'tenor saxophone': 325, 'flute': 3167, 'distorted electric guitar': 955, 'female singer': 1142, 'trumpet': 406}\n",
      "loading metadata from /home/hugo/lab/instrument-recognition/data/mdb-solos-train-soundscapes/validation...\n",
      "found 3494 entries\n",
      "{'clarinet': 328, 'piano': 1022, 'flute': 233, 'female singer': 284, 'tenor saxophone': 29, 'violin': 1031, 'distorted electric guitar': 495, 'trumpet': 72}\n",
      "train entries: 5208\n",
      "val entries: 3494\n",
      "found checkpoint: /home/hugo/lab/instrument-recognition/test-tubes/transformer-search/seed=433_rnn=xfmr-1_recurrence_num_layers=1_/version_0/checkpoints/epoch=51-fscore_val=0.93.ckpt\n"
     ]
    },
    {
     "data": {
      "application/vnd.jupyter.widget-view+json": {
       "model_id": "85fba031f36741659a61b86ba80d9a2e",
       "version_major": 2,
       "version_minor": 0
      },
      "text/plain": [
       "HBox(children=(HTML(value='Testing'), FloatProgress(value=1.0, bar_style='info', layout=Layout(flex='2'), max=…"
      ]
     },
     "metadata": {},
     "output_type": "display_data"
    },
    {
     "name": "stdout",
     "output_type": "stream",
     "text": [
      "--------------------------------------------------------------------------------\n",
      "DATALOADER:0 TEST RESULTS\n",
      "{'ECE/test': 0.11906163381704699,\n",
      " 'accuracy/test': 0.855426610003269,\n",
      " 'fscore/test': 0.8459895143512092,\n",
      " 'fscore_test': 0.8459895143512092,\n",
      " 'loss/test': tensor(1.0609),\n",
      " 'loss_test': tensor(1.0609),\n",
      " 'precision/test': 0.8646947900280373,\n",
      " 'recall/test': 0.855426610003269}\n",
      "--------------------------------------------------------------------------------\n",
      "\n",
      "found checkpoint: /home/hugo/lab/instrument-recognition/test-tubes/transformer-search/seed=23_rnn=xfmr-1_recurrence_num_layers=2_/version_0/checkpoints/epoch=19-fscore_val=0.93.ckpt\n",
      "found checkpoint: /home/hugo/lab/instrument-recognition/test-tubes/transformer-search/seed=23_rnn=xfmr-1_recurrence_num_layers=2_/version_0/checkpoints/epoch=19-fscore_val=0.93.ckpt\n",
      "/home/hugo/lab/instrument-recognition/test-tubes/transformer-search/seed=23_rnn=xfmr-1_recurrence_num_layers=2_/version_0\n",
      "/home/hugo/lab/instrument-recognition/test-tubes/transformer-search/seed=23_rnn=xfmr-1_recurrence_num_layers=2_/version_0/checkpoints/epoch=19-fscore_val=0.93.ckpt\n"
     ]
    },
    {
     "name": "stderr",
     "output_type": "stream",
     "text": [
      "100%|██████████| 5208/5208 [00:00<00:00, 41491.08it/s]"
     ]
    },
    {
     "name": "stdout",
     "output_type": "stream",
     "text": [
      "loading metadata from /home/hugo/lab/instrument-recognition/data/mdb-solos-train-soundscapes/train...\n",
      "found 5208 entries\n",
      "{'trumpet': 1965, 'clarinet': 1966, 'tenor saxophone': 1914, 'piano': 1941, 'violin': 1948, 'female singer': 2011, 'flute': 1932, 'distorted electric guitar': 1945}\n",
      "loading metadata from /home/hugo/lab/instrument-recognition/data/mdb-solos-train-soundscapes/test...\n"
     ]
    },
    {
     "name": "stderr",
     "output_type": "stream",
     "text": [
      "\n",
      "100%|██████████| 12236/12236 [00:00<00:00, 45827.76it/s]\n",
      "100%|██████████| 3494/3494 [00:00<00:00, 49243.44it/s]\n",
      "/home/hugo/lab/venv/lib/python3.8/site-packages/pytorch_lightning/utilities/distributed.py:45: UserWarning: Checkpoint directory /home/hugo/lab/instrument-recognition/test-tubes/transformer-search/seed=23_rnn=xfmr-1_recurrence_num_layers=2_/version_0/checkpoints exists and is not empty. With save_top_k=3, all files in this directory will be deleted when a checkpoint is saved!\n",
      "  warnings.warn(*args, **kwargs)\n",
      "GPU available: True, used: False\n",
      "TPU available: False, using: 0 TPU cores\n"
     ]
    },
    {
     "name": "stdout",
     "output_type": "stream",
     "text": [
      "found 12236 entries\n",
      "{'clarinet': 732, 'piano': 2609, 'violin': 2900, 'tenor saxophone': 325, 'flute': 3167, 'distorted electric guitar': 955, 'female singer': 1142, 'trumpet': 406}\n",
      "loading metadata from /home/hugo/lab/instrument-recognition/data/mdb-solos-train-soundscapes/validation...\n",
      "found 3494 entries\n",
      "{'clarinet': 328, 'piano': 1022, 'flute': 233, 'female singer': 284, 'tenor saxophone': 29, 'violin': 1031, 'distorted electric guitar': 495, 'trumpet': 72}\n",
      "train entries: 5208\n",
      "val entries: 3494\n",
      "found checkpoint: /home/hugo/lab/instrument-recognition/test-tubes/transformer-search/seed=23_rnn=xfmr-1_recurrence_num_layers=2_/version_0/checkpoints/epoch=19-fscore_val=0.93.ckpt\n"
     ]
    },
    {
     "data": {
      "application/vnd.jupyter.widget-view+json": {
       "model_id": "4b962fa5261c41eb986c605155ed3712",
       "version_major": 2,
       "version_minor": 0
      },
      "text/plain": [
       "HBox(children=(HTML(value='Testing'), FloatProgress(value=1.0, bar_style='info', layout=Layout(flex='2'), max=…"
      ]
     },
     "metadata": {},
     "output_type": "display_data"
    },
    {
     "name": "stdout",
     "output_type": "stream",
     "text": [
      "--------------------------------------------------------------------------------\n",
      "DATALOADER:0 TEST RESULTS\n",
      "{'ECE/test': 0.1375273965770829,\n",
      " 'accuracy/test': 0.8295466928190041,\n",
      " 'fscore/test': 0.8165040203153352,\n",
      " 'fscore_test': 0.8165040203153352,\n",
      " 'loss/test': tensor(1.1702),\n",
      " 'loss_test': tensor(1.1702),\n",
      " 'precision/test': 0.855811529996382,\n",
      " 'recall/test': 0.8295466928190041}\n",
      "--------------------------------------------------------------------------------\n",
      "\n",
      "found checkpoint: /home/hugo/lab/instrument-recognition/test-tubes/transformer-search/seed=11_rnn=xfmr-4_recurrence_num_layers=1_/version_0/checkpoints/epoch=04-fscore_val=0.93.ckpt\n",
      "found checkpoint: /home/hugo/lab/instrument-recognition/test-tubes/transformer-search/seed=11_rnn=xfmr-4_recurrence_num_layers=1_/version_0/checkpoints/epoch=04-fscore_val=0.93.ckpt\n",
      "/home/hugo/lab/instrument-recognition/test-tubes/transformer-search/seed=11_rnn=xfmr-4_recurrence_num_layers=1_/version_0\n",
      "/home/hugo/lab/instrument-recognition/test-tubes/transformer-search/seed=11_rnn=xfmr-4_recurrence_num_layers=1_/version_0/checkpoints/epoch=04-fscore_val=0.93.ckpt\n",
      "loading metadata from /home/hugo/lab/instrument-recognition/data/mdb-solos-train-soundscapes/train...\n"
     ]
    },
    {
     "name": "stderr",
     "output_type": "stream",
     "text": [
      "100%|██████████| 5208/5208 [00:00<00:00, 42769.02it/s]\n",
      " 33%|███▎      | 4041/12236 [00:00<00:00, 40406.19it/s]"
     ]
    },
    {
     "name": "stdout",
     "output_type": "stream",
     "text": [
      "found 5208 entries\n",
      "{'trumpet': 1965, 'clarinet': 1966, 'tenor saxophone': 1914, 'piano': 1941, 'violin': 1948, 'female singer': 2011, 'flute': 1932, 'distorted electric guitar': 1945}\n",
      "loading metadata from /home/hugo/lab/instrument-recognition/data/mdb-solos-train-soundscapes/test...\n"
     ]
    },
    {
     "name": "stderr",
     "output_type": "stream",
     "text": [
      "100%|██████████| 12236/12236 [00:00<00:00, 46151.93it/s]\n",
      "100%|██████████| 3494/3494 [00:00<00:00, 48571.02it/s]\n",
      "/home/hugo/lab/venv/lib/python3.8/site-packages/pytorch_lightning/utilities/distributed.py:45: UserWarning: Checkpoint directory /home/hugo/lab/instrument-recognition/test-tubes/transformer-search/seed=11_rnn=xfmr-4_recurrence_num_layers=1_/version_0/checkpoints exists and is not empty. With save_top_k=3, all files in this directory will be deleted when a checkpoint is saved!\n",
      "  warnings.warn(*args, **kwargs)\n",
      "GPU available: True, used: False\n",
      "TPU available: False, using: 0 TPU cores\n"
     ]
    },
    {
     "name": "stdout",
     "output_type": "stream",
     "text": [
      "found 12236 entries\n",
      "{'clarinet': 732, 'piano': 2609, 'violin': 2900, 'tenor saxophone': 325, 'flute': 3167, 'distorted electric guitar': 955, 'female singer': 1142, 'trumpet': 406}\n",
      "loading metadata from /home/hugo/lab/instrument-recognition/data/mdb-solos-train-soundscapes/validation...\n",
      "found 3494 entries\n",
      "{'clarinet': 328, 'piano': 1022, 'flute': 233, 'female singer': 284, 'tenor saxophone': 29, 'violin': 1031, 'distorted electric guitar': 495, 'trumpet': 72}\n",
      "train entries: 5208\n",
      "val entries: 3494\n",
      "found checkpoint: /home/hugo/lab/instrument-recognition/test-tubes/transformer-search/seed=11_rnn=xfmr-4_recurrence_num_layers=1_/version_0/checkpoints/epoch=04-fscore_val=0.93.ckpt\n"
     ]
    },
    {
     "data": {
      "application/vnd.jupyter.widget-view+json": {
       "model_id": "19f05c3df0d34f849cd2d00d6516b518",
       "version_major": 2,
       "version_minor": 0
      },
      "text/plain": [
       "HBox(children=(HTML(value='Testing'), FloatProgress(value=1.0, bar_style='info', layout=Layout(flex='2'), max=…"
      ]
     },
     "metadata": {},
     "output_type": "display_data"
    },
    {
     "name": "stdout",
     "output_type": "stream",
     "text": [
      "--------------------------------------------------------------------------------\n",
      "DATALOADER:0 TEST RESULTS\n",
      "{'ECE/test': 0.11503829986548722,\n",
      " 'accuracy/test': 0.8388634630053394,\n",
      " 'fscore/test': 0.8285290089926617,\n",
      " 'fscore_test': 0.8285290089926617,\n",
      " 'loss/test': tensor(0.9101),\n",
      " 'loss_test': tensor(0.9101),\n",
      " 'precision/test': 0.8621428290824612,\n",
      " 'recall/test': 0.8388634630053394}\n",
      "--------------------------------------------------------------------------------\n",
      "\n",
      "found checkpoint: /home/hugo/lab/instrument-recognition/test-tubes/transformer-search/seed=440_rnn=xfmr-16_recurrence_num_layers=1_/version_0/checkpoints/epoch=04-fscore_val=0.93.ckpt\n",
      "found checkpoint: /home/hugo/lab/instrument-recognition/test-tubes/transformer-search/seed=440_rnn=xfmr-16_recurrence_num_layers=1_/version_0/checkpoints/epoch=04-fscore_val=0.93.ckpt\n",
      "/home/hugo/lab/instrument-recognition/test-tubes/transformer-search/seed=440_rnn=xfmr-16_recurrence_num_layers=1_/version_0\n",
      "/home/hugo/lab/instrument-recognition/test-tubes/transformer-search/seed=440_rnn=xfmr-16_recurrence_num_layers=1_/version_0/checkpoints/epoch=04-fscore_val=0.93.ckpt\n"
     ]
    },
    {
     "name": "stderr",
     "output_type": "stream",
     "text": [
      "100%|██████████| 5208/5208 [00:00<00:00, 41321.63it/s]"
     ]
    },
    {
     "name": "stdout",
     "output_type": "stream",
     "text": [
      "loading metadata from /home/hugo/lab/instrument-recognition/data/mdb-solos-train-soundscapes/train...\n",
      "found 5208 entries\n",
      "{'trumpet': 1965, 'clarinet': 1966, 'tenor saxophone': 1914, 'piano': 1941, 'violin': 1948, 'female singer': 2011, 'flute': 1932, 'distorted electric guitar': 1945}\n",
      "loading metadata from /home/hugo/lab/instrument-recognition/data/mdb-solos-train-soundscapes/test...\n"
     ]
    },
    {
     "name": "stderr",
     "output_type": "stream",
     "text": [
      "\n",
      "100%|██████████| 12236/12236 [00:00<00:00, 49180.06it/s]\n",
      "100%|██████████| 3494/3494 [00:00<00:00, 49055.86it/s]\n",
      "/home/hugo/lab/venv/lib/python3.8/site-packages/pytorch_lightning/utilities/distributed.py:45: UserWarning: Checkpoint directory /home/hugo/lab/instrument-recognition/test-tubes/transformer-search/seed=440_rnn=xfmr-16_recurrence_num_layers=1_/version_0/checkpoints exists and is not empty. With save_top_k=3, all files in this directory will be deleted when a checkpoint is saved!\n",
      "  warnings.warn(*args, **kwargs)\n",
      "GPU available: True, used: False\n",
      "TPU available: False, using: 0 TPU cores\n"
     ]
    },
    {
     "name": "stdout",
     "output_type": "stream",
     "text": [
      "found 12236 entries\n",
      "{'clarinet': 732, 'piano': 2609, 'violin': 2900, 'tenor saxophone': 325, 'flute': 3167, 'distorted electric guitar': 955, 'female singer': 1142, 'trumpet': 406}\n",
      "loading metadata from /home/hugo/lab/instrument-recognition/data/mdb-solos-train-soundscapes/validation...\n",
      "found 3494 entries\n",
      "{'clarinet': 328, 'piano': 1022, 'flute': 233, 'female singer': 284, 'tenor saxophone': 29, 'violin': 1031, 'distorted electric guitar': 495, 'trumpet': 72}\n",
      "train entries: 5208\n",
      "val entries: 3494\n",
      "found checkpoint: /home/hugo/lab/instrument-recognition/test-tubes/transformer-search/seed=440_rnn=xfmr-16_recurrence_num_layers=1_/version_0/checkpoints/epoch=04-fscore_val=0.93.ckpt\n"
     ]
    },
    {
     "data": {
      "application/vnd.jupyter.widget-view+json": {
       "model_id": "ae5312d0d3b443f486437d1dd0b5d4b8",
       "version_major": 2,
       "version_minor": 0
      },
      "text/plain": [
       "HBox(children=(HTML(value='Testing'), FloatProgress(value=1.0, bar_style='info', layout=Layout(flex='2'), max=…"
      ]
     },
     "metadata": {},
     "output_type": "display_data"
    },
    {
     "name": "stdout",
     "output_type": "stream",
     "text": [
      "--------------------------------------------------------------------------------\n",
      "DATALOADER:0 TEST RESULTS\n",
      "{'ECE/test': 0.10824724565024366,\n",
      " 'accuracy/test': 0.8522665359049798,\n",
      " 'fscore/test': 0.8443005960152875,\n",
      " 'fscore_test': 0.8443005960152875,\n",
      " 'loss/test': tensor(0.8284),\n",
      " 'loss_test': tensor(0.8284),\n",
      " 'precision/test': 0.8700228207316979,\n",
      " 'recall/test': 0.8522665359049798}\n",
      "--------------------------------------------------------------------------------\n",
      "\n",
      "found checkpoint: /home/hugo/lab/instrument-recognition/test-tubes/transformer-search/seed=11_rnn=xfmr-8_recurrence_num_layers=8_/version_0/checkpoints/epoch=20-fscore_val=0.93.ckpt\n",
      "found checkpoint: /home/hugo/lab/instrument-recognition/test-tubes/transformer-search/seed=11_rnn=xfmr-8_recurrence_num_layers=8_/version_0/checkpoints/epoch=20-fscore_val=0.93.ckpt\n",
      "/home/hugo/lab/instrument-recognition/test-tubes/transformer-search/seed=11_rnn=xfmr-8_recurrence_num_layers=8_/version_0\n",
      "/home/hugo/lab/instrument-recognition/test-tubes/transformer-search/seed=11_rnn=xfmr-8_recurrence_num_layers=8_/version_0/checkpoints/epoch=20-fscore_val=0.93.ckpt\n"
     ]
    },
    {
     "name": "stderr",
     "output_type": "stream",
     "text": [
      "100%|██████████| 5208/5208 [00:00<00:00, 39296.13it/s]"
     ]
    },
    {
     "name": "stdout",
     "output_type": "stream",
     "text": [
      "loading metadata from /home/hugo/lab/instrument-recognition/data/mdb-solos-train-soundscapes/train...\n",
      "found 5208 entries\n",
      "{'trumpet': 1965, 'clarinet': 1966, 'tenor saxophone': 1914, 'piano': 1941, 'violin': 1948, 'female singer': 2011, 'flute': 1932, 'distorted electric guitar': 1945}\n",
      "loading metadata from /home/hugo/lab/instrument-recognition/data/mdb-solos-train-soundscapes/test...\n"
     ]
    },
    {
     "name": "stderr",
     "output_type": "stream",
     "text": [
      "\n",
      "100%|██████████| 12236/12236 [00:00<00:00, 46942.05it/s]\n",
      "100%|██████████| 3494/3494 [00:00<00:00, 37987.41it/s]\n",
      "/home/hugo/lab/venv/lib/python3.8/site-packages/pytorch_lightning/utilities/distributed.py:45: UserWarning: Checkpoint directory /home/hugo/lab/instrument-recognition/test-tubes/transformer-search/seed=11_rnn=xfmr-8_recurrence_num_layers=8_/version_0/checkpoints exists and is not empty. With save_top_k=3, all files in this directory will be deleted when a checkpoint is saved!\n",
      "  warnings.warn(*args, **kwargs)\n",
      "GPU available: True, used: False\n",
      "TPU available: False, using: 0 TPU cores\n"
     ]
    },
    {
     "name": "stdout",
     "output_type": "stream",
     "text": [
      "found 12236 entries\n",
      "{'clarinet': 732, 'piano': 2609, 'violin': 2900, 'tenor saxophone': 325, 'flute': 3167, 'distorted electric guitar': 955, 'female singer': 1142, 'trumpet': 406}\n",
      "loading metadata from /home/hugo/lab/instrument-recognition/data/mdb-solos-train-soundscapes/validation...\n",
      "found 3494 entries\n",
      "{'clarinet': 328, 'piano': 1022, 'flute': 233, 'female singer': 284, 'tenor saxophone': 29, 'violin': 1031, 'distorted electric guitar': 495, 'trumpet': 72}\n",
      "train entries: 5208\n",
      "val entries: 3494\n",
      "found checkpoint: /home/hugo/lab/instrument-recognition/test-tubes/transformer-search/seed=11_rnn=xfmr-8_recurrence_num_layers=8_/version_0/checkpoints/epoch=20-fscore_val=0.93.ckpt\n"
     ]
    },
    {
     "data": {
      "application/vnd.jupyter.widget-view+json": {
       "model_id": "cbf0674c6091430999afc657c43b1602",
       "version_major": 2,
       "version_minor": 0
      },
      "text/plain": [
       "HBox(children=(HTML(value='Testing'), FloatProgress(value=1.0, bar_style='info', layout=Layout(flex='2'), max=…"
      ]
     },
     "metadata": {},
     "output_type": "display_data"
    },
    {
     "name": "stdout",
     "output_type": "stream",
     "text": [
      "--------------------------------------------------------------------------------\n",
      "DATALOADER:0 TEST RESULTS\n",
      "{'ECE/test': 0.12323439424319432,\n",
      " 'accuracy/test': 0.8410428244524354,\n",
      " 'fscore/test': 0.8310844212205277,\n",
      " 'fscore_test': 0.8310844212205277,\n",
      " 'loss/test': tensor(0.8752),\n",
      " 'loss_test': tensor(0.8752),\n",
      " 'precision/test': 0.8572930911941568,\n",
      " 'recall/test': 0.8410428244524354}\n",
      "--------------------------------------------------------------------------------\n",
      "\n",
      "found checkpoint: /home/hugo/lab/instrument-recognition/test-tubes/transformer-search/seed=11_rnn=xfmr-64_recurrence_num_layers=6_/version_0/checkpoints/epoch=20-fscore_val=0.92.ckpt\n",
      "found checkpoint: /home/hugo/lab/instrument-recognition/test-tubes/transformer-search/seed=11_rnn=xfmr-64_recurrence_num_layers=6_/version_0/checkpoints/epoch=20-fscore_val=0.92.ckpt\n",
      "/home/hugo/lab/instrument-recognition/test-tubes/transformer-search/seed=11_rnn=xfmr-64_recurrence_num_layers=6_/version_0\n",
      "/home/hugo/lab/instrument-recognition/test-tubes/transformer-search/seed=11_rnn=xfmr-64_recurrence_num_layers=6_/version_0/checkpoints/epoch=20-fscore_val=0.92.ckpt\n"
     ]
    },
    {
     "name": "stderr",
     "output_type": "stream",
     "text": [
      "100%|██████████| 5208/5208 [00:00<00:00, 33886.95it/s]"
     ]
    },
    {
     "name": "stdout",
     "output_type": "stream",
     "text": [
      "loading metadata from /home/hugo/lab/instrument-recognition/data/mdb-solos-train-soundscapes/train...\n",
      "found 5208 entries\n",
      "{'trumpet': 1965, 'clarinet': 1966, 'tenor saxophone': 1914, 'piano': 1941, 'violin': 1948, 'female singer': 2011, 'flute': 1932, 'distorted electric guitar': 1945}\n",
      "loading metadata from /home/hugo/lab/instrument-recognition/data/mdb-solos-train-soundscapes/test...\n"
     ]
    },
    {
     "name": "stderr",
     "output_type": "stream",
     "text": [
      "\n",
      "100%|██████████| 12236/12236 [00:00<00:00, 48869.25it/s]\n",
      "100%|██████████| 3494/3494 [00:00<00:00, 48948.54it/s]\n",
      "/home/hugo/lab/venv/lib/python3.8/site-packages/pytorch_lightning/utilities/distributed.py:45: UserWarning: Checkpoint directory /home/hugo/lab/instrument-recognition/test-tubes/transformer-search/seed=11_rnn=xfmr-64_recurrence_num_layers=6_/version_0/checkpoints exists and is not empty. With save_top_k=3, all files in this directory will be deleted when a checkpoint is saved!\n",
      "  warnings.warn(*args, **kwargs)\n",
      "GPU available: True, used: False\n",
      "TPU available: False, using: 0 TPU cores\n"
     ]
    },
    {
     "name": "stdout",
     "output_type": "stream",
     "text": [
      "found 12236 entries\n",
      "{'clarinet': 732, 'piano': 2609, 'violin': 2900, 'tenor saxophone': 325, 'flute': 3167, 'distorted electric guitar': 955, 'female singer': 1142, 'trumpet': 406}\n",
      "loading metadata from /home/hugo/lab/instrument-recognition/data/mdb-solos-train-soundscapes/validation...\n",
      "found 3494 entries\n",
      "{'clarinet': 328, 'piano': 1022, 'flute': 233, 'female singer': 284, 'tenor saxophone': 29, 'violin': 1031, 'distorted electric guitar': 495, 'trumpet': 72}\n",
      "train entries: 5208\n",
      "val entries: 3494\n",
      "found checkpoint: /home/hugo/lab/instrument-recognition/test-tubes/transformer-search/seed=11_rnn=xfmr-64_recurrence_num_layers=6_/version_0/checkpoints/epoch=20-fscore_val=0.92.ckpt\n"
     ]
    },
    {
     "data": {
      "application/vnd.jupyter.widget-view+json": {
       "model_id": "f129e2141196424c803372f365bf5db9",
       "version_major": 2,
       "version_minor": 0
      },
      "text/plain": [
       "HBox(children=(HTML(value='Testing'), FloatProgress(value=1.0, bar_style='info', layout=Layout(flex='2'), max=…"
      ]
     },
     "metadata": {},
     "output_type": "display_data"
    },
    {
     "name": "stdout",
     "output_type": "stream",
     "text": [
      "--------------------------------------------------------------------------------\n",
      "DATALOADER:0 TEST RESULTS\n",
      "{'ECE/test': 0.13450391922246346,\n",
      " 'accuracy/test': 0.8319167483927209,\n",
      " 'fscore/test': 0.8230547293626103,\n",
      " 'fscore_test': 0.8230547293626103,\n",
      " 'loss/test': tensor(0.9498),\n",
      " 'loss_test': tensor(0.9498),\n",
      " 'precision/test': 0.8501873838676636,\n",
      " 'recall/test': 0.8319167483927209}\n",
      "--------------------------------------------------------------------------------\n",
      "\n",
      "found checkpoint: /home/hugo/lab/instrument-recognition/test-tubes/transformer-search/seed=440_rnn=xfmr-64_recurrence_num_layers=2_/version_0/checkpoints/epoch=52-fscore_val=0.93.ckpt\n",
      "found checkpoint: /home/hugo/lab/instrument-recognition/test-tubes/transformer-search/seed=440_rnn=xfmr-64_recurrence_num_layers=2_/version_0/checkpoints/epoch=52-fscore_val=0.93.ckpt\n",
      "/home/hugo/lab/instrument-recognition/test-tubes/transformer-search/seed=440_rnn=xfmr-64_recurrence_num_layers=2_/version_0\n",
      "/home/hugo/lab/instrument-recognition/test-tubes/transformer-search/seed=440_rnn=xfmr-64_recurrence_num_layers=2_/version_0/checkpoints/epoch=52-fscore_val=0.93.ckpt\n",
      "loading metadata from /home/hugo/lab/instrument-recognition/data/mdb-solos-train-soundscapes/train...\n"
     ]
    },
    {
     "name": "stderr",
     "output_type": "stream",
     "text": [
      "100%|██████████| 5208/5208 [00:00<00:00, 38644.39it/s]\n",
      " 41%|████▏     | 5057/12236 [00:00<00:00, 50559.44it/s]"
     ]
    },
    {
     "name": "stdout",
     "output_type": "stream",
     "text": [
      "found 5208 entries\n",
      "{'trumpet': 1965, 'clarinet': 1966, 'tenor saxophone': 1914, 'piano': 1941, 'violin': 1948, 'female singer': 2011, 'flute': 1932, 'distorted electric guitar': 1945}\n",
      "loading metadata from /home/hugo/lab/instrument-recognition/data/mdb-solos-train-soundscapes/test...\n"
     ]
    },
    {
     "name": "stderr",
     "output_type": "stream",
     "text": [
      "100%|██████████| 12236/12236 [00:00<00:00, 50055.65it/s]\n",
      "100%|██████████| 3494/3494 [00:00<00:00, 50613.19it/s]\n",
      "/home/hugo/lab/venv/lib/python3.8/site-packages/pytorch_lightning/utilities/distributed.py:45: UserWarning: Checkpoint directory /home/hugo/lab/instrument-recognition/test-tubes/transformer-search/seed=440_rnn=xfmr-64_recurrence_num_layers=2_/version_0/checkpoints exists and is not empty. With save_top_k=3, all files in this directory will be deleted when a checkpoint is saved!\n",
      "  warnings.warn(*args, **kwargs)\n",
      "GPU available: True, used: False\n",
      "TPU available: False, using: 0 TPU cores\n"
     ]
    },
    {
     "name": "stdout",
     "output_type": "stream",
     "text": [
      "found 12236 entries\n",
      "{'clarinet': 732, 'piano': 2609, 'violin': 2900, 'tenor saxophone': 325, 'flute': 3167, 'distorted electric guitar': 955, 'female singer': 1142, 'trumpet': 406}\n",
      "loading metadata from /home/hugo/lab/instrument-recognition/data/mdb-solos-train-soundscapes/validation...\n",
      "found 3494 entries\n",
      "{'clarinet': 328, 'piano': 1022, 'flute': 233, 'female singer': 284, 'tenor saxophone': 29, 'violin': 1031, 'distorted electric guitar': 495, 'trumpet': 72}\n",
      "train entries: 5208\n",
      "val entries: 3494\n",
      "found checkpoint: /home/hugo/lab/instrument-recognition/test-tubes/transformer-search/seed=440_rnn=xfmr-64_recurrence_num_layers=2_/version_0/checkpoints/epoch=52-fscore_val=0.93.ckpt\n"
     ]
    },
    {
     "data": {
      "application/vnd.jupyter.widget-view+json": {
       "model_id": "7b651ab011ff4268a7ccbcd263a4afcb",
       "version_major": 2,
       "version_minor": 0
      },
      "text/plain": [
       "HBox(children=(HTML(value='Testing'), FloatProgress(value=1.0, bar_style='info', layout=Layout(flex='2'), max=…"
      ]
     },
     "metadata": {},
     "output_type": "display_data"
    },
    {
     "name": "stdout",
     "output_type": "stream",
     "text": [
      "--------------------------------------------------------------------------------\n",
      "DATALOADER:0 TEST RESULTS\n",
      "{'ECE/test': 0.16098315859556692,\n",
      " 'accuracy/test': 0.8122480113326795,\n",
      " 'fscore/test': 0.8002343560591341,\n",
      " 'fscore_test': 0.8002343560591341,\n",
      " 'loss/test': tensor(1.5572),\n",
      " 'loss_test': tensor(1.5572),\n",
      " 'precision/test': 0.8440475485184075,\n",
      " 'recall/test': 0.8122480113326795}\n",
      "--------------------------------------------------------------------------------\n",
      "\n",
      "found checkpoint: /home/hugo/lab/instrument-recognition/test-tubes/transformer-search/seed=23_rnn=xfmr-2_recurrence_num_layers=4_/version_0/checkpoints/epoch=20-fscore_val=0.92.ckpt\n"
     ]
    },
    {
     "name": "stderr",
     "output_type": "stream",
     "text": [
      "  0%|          | 0/5208 [00:00<?, ?it/s]"
     ]
    },
    {
     "name": "stdout",
     "output_type": "stream",
     "text": [
      "found checkpoint: /home/hugo/lab/instrument-recognition/test-tubes/transformer-search/seed=23_rnn=xfmr-2_recurrence_num_layers=4_/version_0/checkpoints/epoch=20-fscore_val=0.92.ckpt\n",
      "/home/hugo/lab/instrument-recognition/test-tubes/transformer-search/seed=23_rnn=xfmr-2_recurrence_num_layers=4_/version_0\n",
      "/home/hugo/lab/instrument-recognition/test-tubes/transformer-search/seed=23_rnn=xfmr-2_recurrence_num_layers=4_/version_0/checkpoints/epoch=20-fscore_val=0.92.ckpt\n",
      "loading metadata from /home/hugo/lab/instrument-recognition/data/mdb-solos-train-soundscapes/train...\n"
     ]
    },
    {
     "name": "stderr",
     "output_type": "stream",
     "text": [
      "100%|██████████| 5208/5208 [00:00<00:00, 41714.84it/s]\n",
      " 41%|████      | 5033/12236 [00:00<00:00, 50322.01it/s]"
     ]
    },
    {
     "name": "stdout",
     "output_type": "stream",
     "text": [
      "found 5208 entries\n",
      "{'trumpet': 1965, 'clarinet': 1966, 'tenor saxophone': 1914, 'piano': 1941, 'violin': 1948, 'female singer': 2011, 'flute': 1932, 'distorted electric guitar': 1945}\n",
      "loading metadata from /home/hugo/lab/instrument-recognition/data/mdb-solos-train-soundscapes/test...\n"
     ]
    },
    {
     "name": "stderr",
     "output_type": "stream",
     "text": [
      "100%|██████████| 12236/12236 [00:00<00:00, 49670.94it/s]\n",
      "100%|██████████| 3494/3494 [00:00<00:00, 49253.54it/s]\n",
      "/home/hugo/lab/venv/lib/python3.8/site-packages/pytorch_lightning/utilities/distributed.py:45: UserWarning: Checkpoint directory /home/hugo/lab/instrument-recognition/test-tubes/transformer-search/seed=23_rnn=xfmr-2_recurrence_num_layers=4_/version_0/checkpoints exists and is not empty. With save_top_k=3, all files in this directory will be deleted when a checkpoint is saved!\n",
      "  warnings.warn(*args, **kwargs)\n",
      "GPU available: True, used: False\n",
      "TPU available: False, using: 0 TPU cores\n"
     ]
    },
    {
     "name": "stdout",
     "output_type": "stream",
     "text": [
      "found 12236 entries\n",
      "{'clarinet': 732, 'piano': 2609, 'violin': 2900, 'tenor saxophone': 325, 'flute': 3167, 'distorted electric guitar': 955, 'female singer': 1142, 'trumpet': 406}\n",
      "loading metadata from /home/hugo/lab/instrument-recognition/data/mdb-solos-train-soundscapes/validation...\n",
      "found 3494 entries\n",
      "{'clarinet': 328, 'piano': 1022, 'flute': 233, 'female singer': 284, 'tenor saxophone': 29, 'violin': 1031, 'distorted electric guitar': 495, 'trumpet': 72}\n",
      "train entries: 5208\n",
      "val entries: 3494\n",
      "found checkpoint: /home/hugo/lab/instrument-recognition/test-tubes/transformer-search/seed=23_rnn=xfmr-2_recurrence_num_layers=4_/version_0/checkpoints/epoch=20-fscore_val=0.92.ckpt\n"
     ]
    },
    {
     "data": {
      "application/vnd.jupyter.widget-view+json": {
       "model_id": "ecee65055a124866b1889d2c0bda9d2a",
       "version_major": 2,
       "version_minor": 0
      },
      "text/plain": [
       "HBox(children=(HTML(value='Testing'), FloatProgress(value=1.0, bar_style='info', layout=Layout(flex='2'), max=…"
      ]
     },
     "metadata": {},
     "output_type": "display_data"
    },
    {
     "name": "stdout",
     "output_type": "stream",
     "text": [
      "--------------------------------------------------------------------------------\n",
      "DATALOADER:0 TEST RESULTS\n",
      "{'ECE/test': 0.12300319010504479,\n",
      " 'accuracy/test': 0.8457284515636918,\n",
      " 'fscore/test': 0.8363004871347306,\n",
      " 'fscore_test': 0.8363004871347306,\n",
      " 'loss/test': tensor(0.9800),\n",
      " 'loss_test': tensor(0.9800),\n",
      " 'precision/test': 0.8584577641955493,\n",
      " 'recall/test': 0.8457284515636918}\n",
      "--------------------------------------------------------------------------------\n",
      "\n",
      "found checkpoint: /home/hugo/lab/instrument-recognition/test-tubes/transformer-search/seed=12_rnn=xfmr-2_recurrence_num_layers=8_/version_0/checkpoints/epoch=43-fscore_val=0.93.ckpt\n",
      "found checkpoint: /home/hugo/lab/instrument-recognition/test-tubes/transformer-search/seed=12_rnn=xfmr-2_recurrence_num_layers=8_/version_0/checkpoints/epoch=43-fscore_val=0.93.ckpt\n",
      "/home/hugo/lab/instrument-recognition/test-tubes/transformer-search/seed=12_rnn=xfmr-2_recurrence_num_layers=8_/version_0\n",
      "/home/hugo/lab/instrument-recognition/test-tubes/transformer-search/seed=12_rnn=xfmr-2_recurrence_num_layers=8_/version_0/checkpoints/epoch=43-fscore_val=0.93.ckpt\n"
     ]
    },
    {
     "name": "stderr",
     "output_type": "stream",
     "text": [
      "100%|██████████| 5208/5208 [00:00<00:00, 42450.36it/s]"
     ]
    },
    {
     "name": "stdout",
     "output_type": "stream",
     "text": [
      "loading metadata from /home/hugo/lab/instrument-recognition/data/mdb-solos-train-soundscapes/train...\n",
      "found 5208 entries\n",
      "{'trumpet': 1965, 'clarinet': 1966, 'tenor saxophone': 1914, 'piano': 1941, 'violin': 1948, 'female singer': 2011, 'flute': 1932, 'distorted electric guitar': 1945}\n",
      "loading metadata from /home/hugo/lab/instrument-recognition/data/mdb-solos-train-soundscapes/test...\n"
     ]
    },
    {
     "name": "stderr",
     "output_type": "stream",
     "text": [
      "\n",
      "100%|██████████| 12236/12236 [00:00<00:00, 50492.82it/s]\n",
      "100%|██████████| 3494/3494 [00:00<00:00, 49688.23it/s]\n",
      "/home/hugo/lab/venv/lib/python3.8/site-packages/pytorch_lightning/utilities/distributed.py:45: UserWarning: Checkpoint directory /home/hugo/lab/instrument-recognition/test-tubes/transformer-search/seed=12_rnn=xfmr-2_recurrence_num_layers=8_/version_0/checkpoints exists and is not empty. With save_top_k=3, all files in this directory will be deleted when a checkpoint is saved!\n",
      "  warnings.warn(*args, **kwargs)\n",
      "GPU available: True, used: False\n",
      "TPU available: False, using: 0 TPU cores\n"
     ]
    },
    {
     "name": "stdout",
     "output_type": "stream",
     "text": [
      "found 12236 entries\n",
      "{'clarinet': 732, 'piano': 2609, 'violin': 2900, 'tenor saxophone': 325, 'flute': 3167, 'distorted electric guitar': 955, 'female singer': 1142, 'trumpet': 406}\n",
      "loading metadata from /home/hugo/lab/instrument-recognition/data/mdb-solos-train-soundscapes/validation...\n",
      "found 3494 entries\n",
      "{'clarinet': 328, 'piano': 1022, 'flute': 233, 'female singer': 284, 'tenor saxophone': 29, 'violin': 1031, 'distorted electric guitar': 495, 'trumpet': 72}\n",
      "train entries: 5208\n",
      "val entries: 3494\n",
      "found checkpoint: /home/hugo/lab/instrument-recognition/test-tubes/transformer-search/seed=12_rnn=xfmr-2_recurrence_num_layers=8_/version_0/checkpoints/epoch=43-fscore_val=0.93.ckpt\n"
     ]
    },
    {
     "data": {
      "application/vnd.jupyter.widget-view+json": {
       "model_id": "4b134feb6667428daf323972af5ea067",
       "version_major": 2,
       "version_minor": 0
      },
      "text/plain": [
       "HBox(children=(HTML(value='Testing'), FloatProgress(value=1.0, bar_style='info', layout=Layout(flex='2'), max=…"
      ]
     },
     "metadata": {},
     "output_type": "display_data"
    },
    {
     "name": "stdout",
     "output_type": "stream",
     "text": [
      "--------------------------------------------------------------------------------\n",
      "DATALOADER:0 TEST RESULTS\n",
      "{'ECE/test': 0.09202486598819344,\n",
      " 'accuracy/test': 0.879399585921325,\n",
      " 'fscore/test': 0.8714690665651162,\n",
      " 'fscore_test': 0.8714690665651162,\n",
      " 'loss/test': tensor(0.6883),\n",
      " 'loss_test': tensor(0.6883),\n",
      " 'precision/test': 0.885479536680778,\n",
      " 'recall/test': 0.879399585921325}\n",
      "--------------------------------------------------------------------------------\n",
      "\n",
      "found checkpoint: /home/hugo/lab/instrument-recognition/test-tubes/transformer-search/seed=440_rnn=xfmr-2_recurrence_num_layers=8_/version_0/checkpoints/epoch=30-fscore_val=0.94.ckpt\n",
      "found checkpoint: /home/hugo/lab/instrument-recognition/test-tubes/transformer-search/seed=440_rnn=xfmr-2_recurrence_num_layers=8_/version_0/checkpoints/epoch=30-fscore_val=0.94.ckpt\n",
      "/home/hugo/lab/instrument-recognition/test-tubes/transformer-search/seed=440_rnn=xfmr-2_recurrence_num_layers=8_/version_0\n",
      "/home/hugo/lab/instrument-recognition/test-tubes/transformer-search/seed=440_rnn=xfmr-2_recurrence_num_layers=8_/version_0/checkpoints/epoch=30-fscore_val=0.94.ckpt\n"
     ]
    },
    {
     "name": "stderr",
     "output_type": "stream",
     "text": [
      "100%|██████████| 5208/5208 [00:00<00:00, 40993.91it/s]"
     ]
    },
    {
     "name": "stdout",
     "output_type": "stream",
     "text": [
      "loading metadata from /home/hugo/lab/instrument-recognition/data/mdb-solos-train-soundscapes/train...\n",
      "found 5208 entries\n",
      "{'trumpet': 1965, 'clarinet': 1966, 'tenor saxophone': 1914, 'piano': 1941, 'violin': 1948, 'female singer': 2011, 'flute': 1932, 'distorted electric guitar': 1945}\n",
      "loading metadata from /home/hugo/lab/instrument-recognition/data/mdb-solos-train-soundscapes/test...\n"
     ]
    },
    {
     "name": "stderr",
     "output_type": "stream",
     "text": [
      "\n",
      "100%|██████████| 12236/12236 [00:00<00:00, 45648.05it/s]\n",
      "100%|██████████| 3494/3494 [00:00<00:00, 46690.53it/s]\n",
      "/home/hugo/lab/venv/lib/python3.8/site-packages/pytorch_lightning/utilities/distributed.py:45: UserWarning: Checkpoint directory /home/hugo/lab/instrument-recognition/test-tubes/transformer-search/seed=440_rnn=xfmr-2_recurrence_num_layers=8_/version_0/checkpoints exists and is not empty. With save_top_k=3, all files in this directory will be deleted when a checkpoint is saved!\n",
      "  warnings.warn(*args, **kwargs)\n",
      "GPU available: True, used: False\n",
      "TPU available: False, using: 0 TPU cores\n"
     ]
    },
    {
     "name": "stdout",
     "output_type": "stream",
     "text": [
      "found 12236 entries\n",
      "{'clarinet': 732, 'piano': 2609, 'violin': 2900, 'tenor saxophone': 325, 'flute': 3167, 'distorted electric guitar': 955, 'female singer': 1142, 'trumpet': 406}\n",
      "loading metadata from /home/hugo/lab/instrument-recognition/data/mdb-solos-train-soundscapes/validation...\n",
      "found 3494 entries\n",
      "{'clarinet': 328, 'piano': 1022, 'flute': 233, 'female singer': 284, 'tenor saxophone': 29, 'violin': 1031, 'distorted electric guitar': 495, 'trumpet': 72}\n",
      "train entries: 5208\n",
      "val entries: 3494\n",
      "found checkpoint: /home/hugo/lab/instrument-recognition/test-tubes/transformer-search/seed=440_rnn=xfmr-2_recurrence_num_layers=8_/version_0/checkpoints/epoch=30-fscore_val=0.94.ckpt\n"
     ]
    },
    {
     "data": {
      "application/vnd.jupyter.widget-view+json": {
       "model_id": "9115f005a8b8492c830e8a17b487a076",
       "version_major": 2,
       "version_minor": 0
      },
      "text/plain": [
       "HBox(children=(HTML(value='Testing'), FloatProgress(value=1.0, bar_style='info', layout=Layout(flex='2'), max=…"
      ]
     },
     "metadata": {},
     "output_type": "display_data"
    },
    {
     "name": "stdout",
     "output_type": "stream",
     "text": [
      "--------------------------------------------------------------------------------\n",
      "DATALOADER:0 TEST RESULTS\n",
      "{'ECE/test': 0.14182744285448373,\n",
      " 'accuracy/test': 0.8258417783589408,\n",
      " 'fscore/test': 0.8146047925366094,\n",
      " 'fscore_test': 0.8146047925366094,\n",
      " 'loss/test': tensor(1.1237),\n",
      " 'loss_test': tensor(1.1237),\n",
      " 'precision/test': 0.8560109507095139,\n",
      " 'recall/test': 0.8258417783589408}\n",
      "--------------------------------------------------------------------------------\n",
      "\n",
      "found checkpoint: /home/hugo/lab/instrument-recognition/test-tubes/transformer-search/seed=11_rnn=xfmr-16_recurrence_num_layers=4_/version_0/checkpoints/epoch=95-fscore_val=0.94.ckpt\n",
      "found checkpoint: /home/hugo/lab/instrument-recognition/test-tubes/transformer-search/seed=11_rnn=xfmr-16_recurrence_num_layers=4_/version_0/checkpoints/epoch=95-fscore_val=0.94.ckpt\n",
      "/home/hugo/lab/instrument-recognition/test-tubes/transformer-search/seed=11_rnn=xfmr-16_recurrence_num_layers=4_/version_0\n",
      "/home/hugo/lab/instrument-recognition/test-tubes/transformer-search/seed=11_rnn=xfmr-16_recurrence_num_layers=4_/version_0/checkpoints/epoch=95-fscore_val=0.94.ckpt\n"
     ]
    },
    {
     "name": "stderr",
     "output_type": "stream",
     "text": [
      "100%|██████████| 5208/5208 [00:00<00:00, 41582.07it/s]"
     ]
    },
    {
     "name": "stdout",
     "output_type": "stream",
     "text": [
      "loading metadata from /home/hugo/lab/instrument-recognition/data/mdb-solos-train-soundscapes/train...\n",
      "found 5208 entries\n",
      "{'trumpet': 1965, 'clarinet': 1966, 'tenor saxophone': 1914, 'piano': 1941, 'violin': 1948, 'female singer': 2011, 'flute': 1932, 'distorted electric guitar': 1945}\n",
      "loading metadata from /home/hugo/lab/instrument-recognition/data/mdb-solos-train-soundscapes/test...\n"
     ]
    },
    {
     "name": "stderr",
     "output_type": "stream",
     "text": [
      "\n",
      "100%|██████████| 12236/12236 [00:00<00:00, 14618.98it/s]\n",
      "100%|██████████| 3494/3494 [00:00<00:00, 49776.67it/s]\n",
      "/home/hugo/lab/venv/lib/python3.8/site-packages/pytorch_lightning/utilities/distributed.py:45: UserWarning: Checkpoint directory /home/hugo/lab/instrument-recognition/test-tubes/transformer-search/seed=11_rnn=xfmr-16_recurrence_num_layers=4_/version_0/checkpoints exists and is not empty. With save_top_k=3, all files in this directory will be deleted when a checkpoint is saved!\n",
      "  warnings.warn(*args, **kwargs)\n",
      "GPU available: True, used: False\n",
      "TPU available: False, using: 0 TPU cores\n"
     ]
    },
    {
     "name": "stdout",
     "output_type": "stream",
     "text": [
      "found 12236 entries\n",
      "{'clarinet': 732, 'piano': 2609, 'violin': 2900, 'tenor saxophone': 325, 'flute': 3167, 'distorted electric guitar': 955, 'female singer': 1142, 'trumpet': 406}\n",
      "loading metadata from /home/hugo/lab/instrument-recognition/data/mdb-solos-train-soundscapes/validation...\n",
      "found 3494 entries\n",
      "{'clarinet': 328, 'piano': 1022, 'flute': 233, 'female singer': 284, 'tenor saxophone': 29, 'violin': 1031, 'distorted electric guitar': 495, 'trumpet': 72}\n",
      "train entries: 5208\n",
      "val entries: 3494\n",
      "found checkpoint: /home/hugo/lab/instrument-recognition/test-tubes/transformer-search/seed=11_rnn=xfmr-16_recurrence_num_layers=4_/version_0/checkpoints/epoch=95-fscore_val=0.94.ckpt\n"
     ]
    },
    {
     "data": {
      "application/vnd.jupyter.widget-view+json": {
       "model_id": "78fc3a184f284ef7a61ba3bdad679196",
       "version_major": 2,
       "version_minor": 0
      },
      "text/plain": [
       "HBox(children=(HTML(value='Testing'), FloatProgress(value=1.0, bar_style='info', layout=Layout(flex='2'), max=…"
      ]
     },
     "metadata": {},
     "output_type": "display_data"
    },
    {
     "name": "stdout",
     "output_type": "stream",
     "text": [
      "--------------------------------------------------------------------------------\n",
      "DATALOADER:0 TEST RESULTS\n",
      "{'ECE/test': 0.13328924487597923,\n",
      " 'accuracy/test': 0.8422959572845157,\n",
      " 'fscore/test': 0.8340232690910285,\n",
      " 'fscore_test': 0.8340232690910285,\n",
      " 'loss/test': tensor(1.1206),\n",
      " 'loss_test': tensor(1.1206),\n",
      " 'precision/test': 0.8597244038900157,\n",
      " 'recall/test': 0.8422959572845157}\n",
      "--------------------------------------------------------------------------------\n",
      "\n",
      "found checkpoint: /home/hugo/lab/instrument-recognition/test-tubes/transformer-search/seed=440_rnn=xfmr-1_recurrence_num_layers=8_/version_0/checkpoints/epoch=21-fscore_val=0.92.ckpt\n",
      "found checkpoint: /home/hugo/lab/instrument-recognition/test-tubes/transformer-search/seed=440_rnn=xfmr-1_recurrence_num_layers=8_/version_0/checkpoints/epoch=21-fscore_val=0.92.ckpt\n",
      "/home/hugo/lab/instrument-recognition/test-tubes/transformer-search/seed=440_rnn=xfmr-1_recurrence_num_layers=8_/version_0\n",
      "/home/hugo/lab/instrument-recognition/test-tubes/transformer-search/seed=440_rnn=xfmr-1_recurrence_num_layers=8_/version_0/checkpoints/epoch=21-fscore_val=0.92.ckpt\n"
     ]
    },
    {
     "name": "stderr",
     "output_type": "stream",
     "text": [
      "100%|██████████| 5208/5208 [00:00<00:00, 41313.66it/s]"
     ]
    },
    {
     "name": "stdout",
     "output_type": "stream",
     "text": [
      "loading metadata from /home/hugo/lab/instrument-recognition/data/mdb-solos-train-soundscapes/train...\n",
      "found 5208 entries\n",
      "{'trumpet': 1965, 'clarinet': 1966, 'tenor saxophone': 1914, 'piano': 1941, 'violin': 1948, 'female singer': 2011, 'flute': 1932, 'distorted electric guitar': 1945}\n",
      "loading metadata from /home/hugo/lab/instrument-recognition/data/mdb-solos-train-soundscapes/test...\n"
     ]
    },
    {
     "name": "stderr",
     "output_type": "stream",
     "text": [
      "\n",
      "100%|██████████| 12236/12236 [00:00<00:00, 49770.07it/s]\n",
      "100%|██████████| 3494/3494 [00:00<00:00, 48505.43it/s]\n",
      "/home/hugo/lab/venv/lib/python3.8/site-packages/pytorch_lightning/utilities/distributed.py:45: UserWarning: Checkpoint directory /home/hugo/lab/instrument-recognition/test-tubes/transformer-search/seed=440_rnn=xfmr-1_recurrence_num_layers=8_/version_0/checkpoints exists and is not empty. With save_top_k=3, all files in this directory will be deleted when a checkpoint is saved!\n",
      "  warnings.warn(*args, **kwargs)\n",
      "GPU available: True, used: False\n",
      "TPU available: False, using: 0 TPU cores\n"
     ]
    },
    {
     "name": "stdout",
     "output_type": "stream",
     "text": [
      "found 12236 entries\n",
      "{'clarinet': 732, 'piano': 2609, 'violin': 2900, 'tenor saxophone': 325, 'flute': 3167, 'distorted electric guitar': 955, 'female singer': 1142, 'trumpet': 406}\n",
      "loading metadata from /home/hugo/lab/instrument-recognition/data/mdb-solos-train-soundscapes/validation...\n",
      "found 3494 entries\n",
      "{'clarinet': 328, 'piano': 1022, 'flute': 233, 'female singer': 284, 'tenor saxophone': 29, 'violin': 1031, 'distorted electric guitar': 495, 'trumpet': 72}\n",
      "train entries: 5208\n",
      "val entries: 3494\n",
      "found checkpoint: /home/hugo/lab/instrument-recognition/test-tubes/transformer-search/seed=440_rnn=xfmr-1_recurrence_num_layers=8_/version_0/checkpoints/epoch=21-fscore_val=0.92.ckpt\n"
     ]
    },
    {
     "data": {
      "application/vnd.jupyter.widget-view+json": {
       "model_id": "fad3601509ac4a16b8c1a65dcba9dd0c",
       "version_major": 2,
       "version_minor": 0
      },
      "text/plain": [
       "HBox(children=(HTML(value='Testing'), FloatProgress(value=1.0, bar_style='info', layout=Layout(flex='2'), max=…"
      ]
     },
     "metadata": {},
     "output_type": "display_data"
    },
    {
     "name": "stdout",
     "output_type": "stream",
     "text": [
      "--------------------------------------------------------------------------------\n",
      "DATALOADER:0 TEST RESULTS\n",
      "{'ECE/test': 0.1421970963113557,\n",
      " 'accuracy/test': 0.8343957720387927,\n",
      " 'fscore/test': 0.8223496616002,\n",
      " 'fscore_test': 0.8223496616002,\n",
      " 'loss/test': tensor(1.1064),\n",
      " 'loss_test': tensor(1.1064),\n",
      " 'precision/test': 0.8571906916032903,\n",
      " 'recall/test': 0.8343957720387927}\n",
      "--------------------------------------------------------------------------------\n",
      "\n",
      "found checkpoint: /home/hugo/lab/instrument-recognition/test-tubes/transformer-search/seed=12_rnn=xfmr-2_recurrence_num_layers=2_/version_0/checkpoints/epoch=48-fscore_val=0.93.ckpt\n",
      "found checkpoint: /home/hugo/lab/instrument-recognition/test-tubes/transformer-search/seed=12_rnn=xfmr-2_recurrence_num_layers=2_/version_0/checkpoints/epoch=48-fscore_val=0.93.ckpt\n",
      "/home/hugo/lab/instrument-recognition/test-tubes/transformer-search/seed=12_rnn=xfmr-2_recurrence_num_layers=2_/version_0\n",
      "/home/hugo/lab/instrument-recognition/test-tubes/transformer-search/seed=12_rnn=xfmr-2_recurrence_num_layers=2_/version_0/checkpoints/epoch=48-fscore_val=0.93.ckpt\n"
     ]
    },
    {
     "name": "stderr",
     "output_type": "stream",
     "text": [
      "100%|██████████| 5208/5208 [00:00<00:00, 41481.79it/s]"
     ]
    },
    {
     "name": "stdout",
     "output_type": "stream",
     "text": [
      "loading metadata from /home/hugo/lab/instrument-recognition/data/mdb-solos-train-soundscapes/train...\n",
      "found 5208 entries\n",
      "{'trumpet': 1965, 'clarinet': 1966, 'tenor saxophone': 1914, 'piano': 1941, 'violin': 1948, 'female singer': 2011, 'flute': 1932, 'distorted electric guitar': 1945}\n",
      "loading metadata from /home/hugo/lab/instrument-recognition/data/mdb-solos-train-soundscapes/test...\n"
     ]
    },
    {
     "name": "stderr",
     "output_type": "stream",
     "text": [
      "\n",
      "100%|██████████| 12236/12236 [00:00<00:00, 49124.18it/s]\n",
      "100%|██████████| 3494/3494 [00:00<00:00, 48838.59it/s]\n",
      "/home/hugo/lab/venv/lib/python3.8/site-packages/pytorch_lightning/utilities/distributed.py:45: UserWarning: Checkpoint directory /home/hugo/lab/instrument-recognition/test-tubes/transformer-search/seed=12_rnn=xfmr-2_recurrence_num_layers=2_/version_0/checkpoints exists and is not empty. With save_top_k=3, all files in this directory will be deleted when a checkpoint is saved!\n",
      "  warnings.warn(*args, **kwargs)\n",
      "GPU available: True, used: False\n",
      "TPU available: False, using: 0 TPU cores\n"
     ]
    },
    {
     "name": "stdout",
     "output_type": "stream",
     "text": [
      "found 12236 entries\n",
      "{'clarinet': 732, 'piano': 2609, 'violin': 2900, 'tenor saxophone': 325, 'flute': 3167, 'distorted electric guitar': 955, 'female singer': 1142, 'trumpet': 406}\n",
      "loading metadata from /home/hugo/lab/instrument-recognition/data/mdb-solos-train-soundscapes/validation...\n",
      "found 3494 entries\n",
      "{'clarinet': 328, 'piano': 1022, 'flute': 233, 'female singer': 284, 'tenor saxophone': 29, 'violin': 1031, 'distorted electric guitar': 495, 'trumpet': 72}\n",
      "train entries: 5208\n",
      "val entries: 3494\n",
      "found checkpoint: /home/hugo/lab/instrument-recognition/test-tubes/transformer-search/seed=12_rnn=xfmr-2_recurrence_num_layers=2_/version_0/checkpoints/epoch=48-fscore_val=0.93.ckpt\n"
     ]
    },
    {
     "data": {
      "application/vnd.jupyter.widget-view+json": {
       "model_id": "951ce20b5e414eb2a2e4986d7050b26f",
       "version_major": 2,
       "version_minor": 0
      },
      "text/plain": [
       "HBox(children=(HTML(value='Testing'), FloatProgress(value=1.0, bar_style='info', layout=Layout(flex='2'), max=…"
      ]
     },
     "metadata": {},
     "output_type": "display_data"
    },
    {
     "name": "stdout",
     "output_type": "stream",
     "text": [
      "--------------------------------------------------------------------------------\n",
      "DATALOADER:0 TEST RESULTS\n",
      "{'ECE/test': 0.1508284629518149,\n",
      " 'accuracy/test': 0.8217282336275471,\n",
      " 'fscore/test': 0.8062058897916072,\n",
      " 'fscore_test': 0.8062058897916072,\n",
      " 'loss/test': tensor(1.4877),\n",
      " 'loss_test': tensor(1.4877),\n",
      " 'precision/test': 0.8531699494943277,\n",
      " 'recall/test': 0.8217282336275471}\n",
      "--------------------------------------------------------------------------------\n",
      "\n",
      "found checkpoint: /home/hugo/lab/instrument-recognition/test-tubes/transformer-search/seed=12_rnn=xfmr-4_recurrence_num_layers=6_/version_0/checkpoints/epoch=25-fscore_val=0.93.ckpt\n",
      "found checkpoint: /home/hugo/lab/instrument-recognition/test-tubes/transformer-search/seed=12_rnn=xfmr-4_recurrence_num_layers=6_/version_0/checkpoints/epoch=25-fscore_val=0.93.ckpt\n",
      "/home/hugo/lab/instrument-recognition/test-tubes/transformer-search/seed=12_rnn=xfmr-4_recurrence_num_layers=6_/version_0\n",
      "/home/hugo/lab/instrument-recognition/test-tubes/transformer-search/seed=12_rnn=xfmr-4_recurrence_num_layers=6_/version_0/checkpoints/epoch=25-fscore_val=0.93.ckpt\n",
      "loading metadata from /home/hugo/lab/instrument-recognition/data/mdb-solos-train-soundscapes/train...\n"
     ]
    },
    {
     "name": "stderr",
     "output_type": "stream",
     "text": [
      "100%|██████████| 5208/5208 [00:00<00:00, 41599.26it/s]\n",
      " 41%|████      | 5010/12236 [00:00<00:00, 50092.40it/s]"
     ]
    },
    {
     "name": "stdout",
     "output_type": "stream",
     "text": [
      "found 5208 entries\n",
      "{'trumpet': 1965, 'clarinet': 1966, 'tenor saxophone': 1914, 'piano': 1941, 'violin': 1948, 'female singer': 2011, 'flute': 1932, 'distorted electric guitar': 1945}\n",
      "loading metadata from /home/hugo/lab/instrument-recognition/data/mdb-solos-train-soundscapes/test...\n"
     ]
    },
    {
     "name": "stderr",
     "output_type": "stream",
     "text": [
      "100%|██████████| 12236/12236 [00:00<00:00, 49538.75it/s]\n",
      "100%|██████████| 3494/3494 [00:00<00:00, 36639.99it/s]\n",
      "/home/hugo/lab/venv/lib/python3.8/site-packages/pytorch_lightning/utilities/distributed.py:45: UserWarning: Checkpoint directory /home/hugo/lab/instrument-recognition/test-tubes/transformer-search/seed=12_rnn=xfmr-4_recurrence_num_layers=6_/version_0/checkpoints exists and is not empty. With save_top_k=3, all files in this directory will be deleted when a checkpoint is saved!\n",
      "  warnings.warn(*args, **kwargs)\n",
      "GPU available: True, used: False\n",
      "TPU available: False, using: 0 TPU cores\n"
     ]
    },
    {
     "name": "stdout",
     "output_type": "stream",
     "text": [
      "found 12236 entries\n",
      "{'clarinet': 732, 'piano': 2609, 'violin': 2900, 'tenor saxophone': 325, 'flute': 3167, 'distorted electric guitar': 955, 'female singer': 1142, 'trumpet': 406}\n",
      "loading metadata from /home/hugo/lab/instrument-recognition/data/mdb-solos-train-soundscapes/validation...\n",
      "found 3494 entries\n",
      "{'clarinet': 328, 'piano': 1022, 'flute': 233, 'female singer': 284, 'tenor saxophone': 29, 'violin': 1031, 'distorted electric guitar': 495, 'trumpet': 72}\n",
      "train entries: 5208\n",
      "val entries: 3494\n",
      "found checkpoint: /home/hugo/lab/instrument-recognition/test-tubes/transformer-search/seed=12_rnn=xfmr-4_recurrence_num_layers=6_/version_0/checkpoints/epoch=25-fscore_val=0.93.ckpt\n"
     ]
    },
    {
     "data": {
      "application/vnd.jupyter.widget-view+json": {
       "model_id": "c2c5dff678c84ed49f206d13a7ab364b",
       "version_major": 2,
       "version_minor": 0
      },
      "text/plain": [
       "HBox(children=(HTML(value='Testing'), FloatProgress(value=1.0, bar_style='info', layout=Layout(flex='2'), max=…"
      ]
     },
     "metadata": {},
     "output_type": "display_data"
    },
    {
     "name": "stdout",
     "output_type": "stream",
     "text": [
      "--------------------------------------------------------------------------------\n",
      "DATALOADER:0 TEST RESULTS\n",
      "{'ECE/test': 0.12295531190934225,\n",
      " 'accuracy/test': 0.855699030184156,\n",
      " 'fscore/test': 0.8465855646665184,\n",
      " 'fscore_test': 0.8465855646665184,\n",
      " 'loss/test': tensor(0.9476),\n",
      " 'loss_test': tensor(0.9476),\n",
      " 'precision/test': 0.8683125462568527,\n",
      " 'recall/test': 0.855699030184156}\n",
      "--------------------------------------------------------------------------------\n",
      "\n",
      "found checkpoint: /home/hugo/lab/instrument-recognition/test-tubes/transformer-search/seed=440_rnn=xfmr-2_recurrence_num_layers=1_/version_0/checkpoints/epoch=45-fscore_val=0.93.ckpt\n",
      "found checkpoint: /home/hugo/lab/instrument-recognition/test-tubes/transformer-search/seed=440_rnn=xfmr-2_recurrence_num_layers=1_/version_0/checkpoints/epoch=45-fscore_val=0.93.ckpt\n",
      "/home/hugo/lab/instrument-recognition/test-tubes/transformer-search/seed=440_rnn=xfmr-2_recurrence_num_layers=1_/version_0\n",
      "/home/hugo/lab/instrument-recognition/test-tubes/transformer-search/seed=440_rnn=xfmr-2_recurrence_num_layers=1_/version_0/checkpoints/epoch=45-fscore_val=0.93.ckpt\n",
      "loading metadata from /home/hugo/lab/instrument-recognition/data/mdb-solos-train-soundscapes/train...\n"
     ]
    },
    {
     "name": "stderr",
     "output_type": "stream",
     "text": [
      "100%|██████████| 5208/5208 [00:00<00:00, 35933.97it/s]\n",
      " 41%|████      | 4983/12236 [00:00<00:00, 49828.86it/s]"
     ]
    },
    {
     "name": "stdout",
     "output_type": "stream",
     "text": [
      "found 5208 entries\n",
      "{'trumpet': 1965, 'clarinet': 1966, 'tenor saxophone': 1914, 'piano': 1941, 'violin': 1948, 'female singer': 2011, 'flute': 1932, 'distorted electric guitar': 1945}\n",
      "loading metadata from /home/hugo/lab/instrument-recognition/data/mdb-solos-train-soundscapes/test...\n"
     ]
    },
    {
     "name": "stderr",
     "output_type": "stream",
     "text": [
      "100%|██████████| 12236/12236 [00:00<00:00, 45377.62it/s]\n",
      "100%|██████████| 3494/3494 [00:00<00:00, 34261.15it/s]\n",
      "/home/hugo/lab/venv/lib/python3.8/site-packages/pytorch_lightning/utilities/distributed.py:45: UserWarning: Checkpoint directory /home/hugo/lab/instrument-recognition/test-tubes/transformer-search/seed=440_rnn=xfmr-2_recurrence_num_layers=1_/version_0/checkpoints exists and is not empty. With save_top_k=3, all files in this directory will be deleted when a checkpoint is saved!\n",
      "  warnings.warn(*args, **kwargs)\n",
      "GPU available: True, used: False\n",
      "TPU available: False, using: 0 TPU cores\n"
     ]
    },
    {
     "name": "stdout",
     "output_type": "stream",
     "text": [
      "found 12236 entries\n",
      "{'clarinet': 732, 'piano': 2609, 'violin': 2900, 'tenor saxophone': 325, 'flute': 3167, 'distorted electric guitar': 955, 'female singer': 1142, 'trumpet': 406}\n",
      "loading metadata from /home/hugo/lab/instrument-recognition/data/mdb-solos-train-soundscapes/validation...\n",
      "found 3494 entries\n",
      "{'clarinet': 328, 'piano': 1022, 'flute': 233, 'female singer': 284, 'tenor saxophone': 29, 'violin': 1031, 'distorted electric guitar': 495, 'trumpet': 72}\n",
      "train entries: 5208\n",
      "val entries: 3494\n",
      "found checkpoint: /home/hugo/lab/instrument-recognition/test-tubes/transformer-search/seed=440_rnn=xfmr-2_recurrence_num_layers=1_/version_0/checkpoints/epoch=45-fscore_val=0.93.ckpt\n"
     ]
    },
    {
     "data": {
      "application/vnd.jupyter.widget-view+json": {
       "model_id": "63999e3239424e3085bfd9caca85f13f",
       "version_major": 2,
       "version_minor": 0
      },
      "text/plain": [
       "HBox(children=(HTML(value='Testing'), FloatProgress(value=1.0, bar_style='info', layout=Layout(flex='2'), max=…"
      ]
     },
     "metadata": {},
     "output_type": "display_data"
    },
    {
     "name": "stderr",
     "output_type": "stream",
     "text": [
      "  0%|          | 0/5208 [00:00<?, ?it/s]"
     ]
    },
    {
     "name": "stdout",
     "output_type": "stream",
     "text": [
      "--------------------------------------------------------------------------------\n",
      "DATALOADER:0 TEST RESULTS\n",
      "{'ECE/test': 0.12383149367711163,\n",
      " 'accuracy/test': 0.8482892012640296,\n",
      " 'fscore/test': 0.8403339308482982,\n",
      " 'fscore_test': 0.8403339308482982,\n",
      " 'loss/test': tensor(1.1027),\n",
      " 'loss_test': tensor(1.1027),\n",
      " 'precision/test': 0.867012282417647,\n",
      " 'recall/test': 0.8482892012640296}\n",
      "--------------------------------------------------------------------------------\n",
      "\n",
      "found checkpoint: /home/hugo/lab/instrument-recognition/test-tubes/transformer-search/seed=23_rnn=xfmr-32_recurrence_num_layers=1_/version_0/checkpoints/epoch=04-fscore_val=0.93.ckpt\n",
      "found checkpoint: /home/hugo/lab/instrument-recognition/test-tubes/transformer-search/seed=23_rnn=xfmr-32_recurrence_num_layers=1_/version_0/checkpoints/epoch=04-fscore_val=0.93.ckpt\n",
      "/home/hugo/lab/instrument-recognition/test-tubes/transformer-search/seed=23_rnn=xfmr-32_recurrence_num_layers=1_/version_0\n",
      "/home/hugo/lab/instrument-recognition/test-tubes/transformer-search/seed=23_rnn=xfmr-32_recurrence_num_layers=1_/version_0/checkpoints/epoch=04-fscore_val=0.93.ckpt\n",
      "loading metadata from /home/hugo/lab/instrument-recognition/data/mdb-solos-train-soundscapes/train...\n"
     ]
    },
    {
     "name": "stderr",
     "output_type": "stream",
     "text": [
      "100%|██████████| 5208/5208 [00:00<00:00, 41715.24it/s]\n",
      " 41%|████      | 5043/12236 [00:00<00:00, 50428.36it/s]"
     ]
    },
    {
     "name": "stdout",
     "output_type": "stream",
     "text": [
      "found 5208 entries\n",
      "{'trumpet': 1965, 'clarinet': 1966, 'tenor saxophone': 1914, 'piano': 1941, 'violin': 1948, 'female singer': 2011, 'flute': 1932, 'distorted electric guitar': 1945}\n",
      "loading metadata from /home/hugo/lab/instrument-recognition/data/mdb-solos-train-soundscapes/test...\n"
     ]
    },
    {
     "name": "stderr",
     "output_type": "stream",
     "text": [
      "100%|██████████| 12236/12236 [00:01<00:00, 11806.47it/s]\n",
      "100%|██████████| 3494/3494 [00:00<00:00, 49945.12it/s]\n",
      "/home/hugo/lab/venv/lib/python3.8/site-packages/pytorch_lightning/utilities/distributed.py:45: UserWarning: Checkpoint directory /home/hugo/lab/instrument-recognition/test-tubes/transformer-search/seed=23_rnn=xfmr-32_recurrence_num_layers=1_/version_0/checkpoints exists and is not empty. With save_top_k=3, all files in this directory will be deleted when a checkpoint is saved!\n",
      "  warnings.warn(*args, **kwargs)\n",
      "GPU available: True, used: False\n",
      "TPU available: False, using: 0 TPU cores\n"
     ]
    },
    {
     "name": "stdout",
     "output_type": "stream",
     "text": [
      "found 12236 entries\n",
      "{'clarinet': 732, 'piano': 2609, 'violin': 2900, 'tenor saxophone': 325, 'flute': 3167, 'distorted electric guitar': 955, 'female singer': 1142, 'trumpet': 406}\n",
      "loading metadata from /home/hugo/lab/instrument-recognition/data/mdb-solos-train-soundscapes/validation...\n",
      "found 3494 entries\n",
      "{'clarinet': 328, 'piano': 1022, 'flute': 233, 'female singer': 284, 'tenor saxophone': 29, 'violin': 1031, 'distorted electric guitar': 495, 'trumpet': 72}\n",
      "train entries: 5208\n",
      "val entries: 3494\n",
      "found checkpoint: /home/hugo/lab/instrument-recognition/test-tubes/transformer-search/seed=23_rnn=xfmr-32_recurrence_num_layers=1_/version_0/checkpoints/epoch=04-fscore_val=0.93.ckpt\n"
     ]
    },
    {
     "data": {
      "application/vnd.jupyter.widget-view+json": {
       "model_id": "bb3f0441bc224cc9993e6f08a97f68c3",
       "version_major": 2,
       "version_minor": 0
      },
      "text/plain": [
       "HBox(children=(HTML(value='Testing'), FloatProgress(value=1.0, bar_style='info', layout=Layout(flex='2'), max=…"
      ]
     },
     "metadata": {},
     "output_type": "display_data"
    },
    {
     "name": "stdout",
     "output_type": "stream",
     "text": [
      "--------------------------------------------------------------------------------\n",
      "DATALOADER:0 TEST RESULTS\n",
      "{'ECE/test': 0.11547740388909643,\n",
      " 'accuracy/test': 0.8442028985507246,\n",
      " 'fscore/test': 0.8327785754594795,\n",
      " 'fscore_test': 0.8327785754594795,\n",
      " 'loss/test': tensor(0.9211),\n",
      " 'loss_test': tensor(0.9211),\n",
      " 'precision/test': 0.865053907324819,\n",
      " 'recall/test': 0.8442028985507246}\n",
      "--------------------------------------------------------------------------------\n",
      "\n",
      "found checkpoint: /home/hugo/lab/instrument-recognition/test-tubes/transformer-search/seed=12_rnn=xfmr-16_recurrence_num_layers=8_/version_0/checkpoints/epoch=07-fscore_val=0.91.ckpt\n",
      "found checkpoint: /home/hugo/lab/instrument-recognition/test-tubes/transformer-search/seed=12_rnn=xfmr-16_recurrence_num_layers=8_/version_0/checkpoints/epoch=07-fscore_val=0.91.ckpt\n",
      "/home/hugo/lab/instrument-recognition/test-tubes/transformer-search/seed=12_rnn=xfmr-16_recurrence_num_layers=8_/version_0\n",
      "/home/hugo/lab/instrument-recognition/test-tubes/transformer-search/seed=12_rnn=xfmr-16_recurrence_num_layers=8_/version_0/checkpoints/epoch=07-fscore_val=0.91.ckpt\n"
     ]
    },
    {
     "name": "stderr",
     "output_type": "stream",
     "text": [
      "100%|██████████| 5208/5208 [00:00<00:00, 41396.02it/s]"
     ]
    },
    {
     "name": "stdout",
     "output_type": "stream",
     "text": [
      "loading metadata from /home/hugo/lab/instrument-recognition/data/mdb-solos-train-soundscapes/train...\n",
      "found 5208 entries\n",
      "{'trumpet': 1965, 'clarinet': 1966, 'tenor saxophone': 1914, 'piano': 1941, 'violin': 1948, 'female singer': 2011, 'flute': 1932, 'distorted electric guitar': 1945}\n",
      "loading metadata from /home/hugo/lab/instrument-recognition/data/mdb-solos-train-soundscapes/test...\n"
     ]
    },
    {
     "name": "stderr",
     "output_type": "stream",
     "text": [
      "\n",
      "100%|██████████| 12236/12236 [00:00<00:00, 49428.73it/s]\n",
      "100%|██████████| 3494/3494 [00:00<00:00, 48345.58it/s]\n",
      "/home/hugo/lab/venv/lib/python3.8/site-packages/pytorch_lightning/utilities/distributed.py:45: UserWarning: Checkpoint directory /home/hugo/lab/instrument-recognition/test-tubes/transformer-search/seed=12_rnn=xfmr-16_recurrence_num_layers=8_/version_0/checkpoints exists and is not empty. With save_top_k=3, all files in this directory will be deleted when a checkpoint is saved!\n",
      "  warnings.warn(*args, **kwargs)\n",
      "GPU available: True, used: False\n",
      "TPU available: False, using: 0 TPU cores\n"
     ]
    },
    {
     "name": "stdout",
     "output_type": "stream",
     "text": [
      "found 12236 entries\n",
      "{'clarinet': 732, 'piano': 2609, 'violin': 2900, 'tenor saxophone': 325, 'flute': 3167, 'distorted electric guitar': 955, 'female singer': 1142, 'trumpet': 406}\n",
      "loading metadata from /home/hugo/lab/instrument-recognition/data/mdb-solos-train-soundscapes/validation...\n",
      "found 3494 entries\n",
      "{'clarinet': 328, 'piano': 1022, 'flute': 233, 'female singer': 284, 'tenor saxophone': 29, 'violin': 1031, 'distorted electric guitar': 495, 'trumpet': 72}\n",
      "train entries: 5208\n",
      "val entries: 3494\n",
      "found checkpoint: /home/hugo/lab/instrument-recognition/test-tubes/transformer-search/seed=12_rnn=xfmr-16_recurrence_num_layers=8_/version_0/checkpoints/epoch=07-fscore_val=0.91.ckpt\n"
     ]
    },
    {
     "data": {
      "application/vnd.jupyter.widget-view+json": {
       "model_id": "28740c41b6c246f88b318dd6bcbce06c",
       "version_major": 2,
       "version_minor": 0
      },
      "text/plain": [
       "HBox(children=(HTML(value='Testing'), FloatProgress(value=1.0, bar_style='info', layout=Layout(flex='2'), max=…"
      ]
     },
     "metadata": {},
     "output_type": "display_data"
    },
    {
     "name": "stdout",
     "output_type": "stream",
     "text": [
      "--------------------------------------------------------------------------------\n",
      "DATALOADER:0 TEST RESULTS\n",
      "{'ECE/test': 0.15554835998318334,\n",
      " 'accuracy/test': 0.8159529257927427,\n",
      " 'fscore/test': 0.8024241697344204,\n",
      " 'fscore_test': 0.8024241697344204,\n",
      " 'loss/test': tensor(1.2123),\n",
      " 'loss_test': tensor(1.2123),\n",
      " 'precision/test': 0.8419931177920384,\n",
      " 'recall/test': 0.8159529257927427}\n",
      "--------------------------------------------------------------------------------\n",
      "\n",
      "found checkpoint: /home/hugo/lab/instrument-recognition/test-tubes/transformer-search/seed=12_rnn=xfmr-8_recurrence_num_layers=6_/version_0/checkpoints/epoch=37-fscore_val=0.94.ckpt\n",
      "found checkpoint: /home/hugo/lab/instrument-recognition/test-tubes/transformer-search/seed=12_rnn=xfmr-8_recurrence_num_layers=6_/version_0/checkpoints/epoch=37-fscore_val=0.94.ckpt\n",
      "/home/hugo/lab/instrument-recognition/test-tubes/transformer-search/seed=12_rnn=xfmr-8_recurrence_num_layers=6_/version_0\n",
      "/home/hugo/lab/instrument-recognition/test-tubes/transformer-search/seed=12_rnn=xfmr-8_recurrence_num_layers=6_/version_0/checkpoints/epoch=37-fscore_val=0.94.ckpt\n",
      "loading metadata from /home/hugo/lab/instrument-recognition/data/mdb-solos-train-soundscapes/train...\n"
     ]
    },
    {
     "name": "stderr",
     "output_type": "stream",
     "text": [
      "100%|██████████| 5208/5208 [00:00<00:00, 41688.97it/s]\n",
      " 41%|████      | 5001/12236 [00:00<00:00, 50008.50it/s]"
     ]
    },
    {
     "name": "stdout",
     "output_type": "stream",
     "text": [
      "found 5208 entries\n",
      "{'trumpet': 1965, 'clarinet': 1966, 'tenor saxophone': 1914, 'piano': 1941, 'violin': 1948, 'female singer': 2011, 'flute': 1932, 'distorted electric guitar': 1945}\n",
      "loading metadata from /home/hugo/lab/instrument-recognition/data/mdb-solos-train-soundscapes/test...\n"
     ]
    },
    {
     "name": "stderr",
     "output_type": "stream",
     "text": [
      "100%|██████████| 12236/12236 [00:00<00:00, 45779.36it/s]\n",
      "100%|██████████| 3494/3494 [00:00<00:00, 49167.61it/s]\n",
      "/home/hugo/lab/venv/lib/python3.8/site-packages/pytorch_lightning/utilities/distributed.py:45: UserWarning: Checkpoint directory /home/hugo/lab/instrument-recognition/test-tubes/transformer-search/seed=12_rnn=xfmr-8_recurrence_num_layers=6_/version_0/checkpoints exists and is not empty. With save_top_k=3, all files in this directory will be deleted when a checkpoint is saved!\n",
      "  warnings.warn(*args, **kwargs)\n",
      "GPU available: True, used: False\n",
      "TPU available: False, using: 0 TPU cores\n"
     ]
    },
    {
     "name": "stdout",
     "output_type": "stream",
     "text": [
      "found 12236 entries\n",
      "{'clarinet': 732, 'piano': 2609, 'violin': 2900, 'tenor saxophone': 325, 'flute': 3167, 'distorted electric guitar': 955, 'female singer': 1142, 'trumpet': 406}\n",
      "loading metadata from /home/hugo/lab/instrument-recognition/data/mdb-solos-train-soundscapes/validation...\n",
      "found 3494 entries\n",
      "{'clarinet': 328, 'piano': 1022, 'flute': 233, 'female singer': 284, 'tenor saxophone': 29, 'violin': 1031, 'distorted electric guitar': 495, 'trumpet': 72}\n",
      "train entries: 5208\n",
      "val entries: 3494\n",
      "found checkpoint: /home/hugo/lab/instrument-recognition/test-tubes/transformer-search/seed=12_rnn=xfmr-8_recurrence_num_layers=6_/version_0/checkpoints/epoch=37-fscore_val=0.94.ckpt\n"
     ]
    },
    {
     "data": {
      "application/vnd.jupyter.widget-view+json": {
       "model_id": "9a3e37524fdb46ee85287e4d9cb0e3e8",
       "version_major": 2,
       "version_minor": 0
      },
      "text/plain": [
       "HBox(children=(HTML(value='Testing'), FloatProgress(value=1.0, bar_style='info', layout=Layout(flex='2'), max=…"
      ]
     },
     "metadata": {},
     "output_type": "display_data"
    },
    {
     "name": "stdout",
     "output_type": "stream",
     "text": [
      "--------------------------------------------------------------------------------\n",
      "DATALOADER:0 TEST RESULTS\n",
      "{'ECE/test': 0.1488425584457806,\n",
      " 'accuracy/test': 0.8282118339326577,\n",
      " 'fscore/test': 0.8160826781709231,\n",
      " 'fscore_test': 0.8160826781709231,\n",
      " 'loss/test': tensor(1.3674),\n",
      " 'loss_test': tensor(1.3674),\n",
      " 'precision/test': 0.8526085791631367,\n",
      " 'recall/test': 0.8282118339326577}\n",
      "--------------------------------------------------------------------------------\n",
      "\n",
      "found checkpoint: /home/hugo/lab/instrument-recognition/test-tubes/transformer-search/seed=23_rnn=xfmr-64_recurrence_num_layers=2_/version_0/checkpoints/epoch=25-fscore_val=0.93.ckpt\n",
      "found checkpoint: /home/hugo/lab/instrument-recognition/test-tubes/transformer-search/seed=23_rnn=xfmr-64_recurrence_num_layers=2_/version_0/checkpoints/epoch=25-fscore_val=0.93.ckpt\n",
      "/home/hugo/lab/instrument-recognition/test-tubes/transformer-search/seed=23_rnn=xfmr-64_recurrence_num_layers=2_/version_0\n",
      "/home/hugo/lab/instrument-recognition/test-tubes/transformer-search/seed=23_rnn=xfmr-64_recurrence_num_layers=2_/version_0/checkpoints/epoch=25-fscore_val=0.93.ckpt\n",
      "loading metadata from /home/hugo/lab/instrument-recognition/data/mdb-solos-train-soundscapes/train...\n"
     ]
    },
    {
     "name": "stderr",
     "output_type": "stream",
     "text": [
      "100%|██████████| 5208/5208 [00:00<00:00, 41735.56it/s]\n",
      " 41%|████      | 5005/12236 [00:00<00:00, 50041.82it/s]"
     ]
    },
    {
     "name": "stdout",
     "output_type": "stream",
     "text": [
      "found 5208 entries\n",
      "{'trumpet': 1965, 'clarinet': 1966, 'tenor saxophone': 1914, 'piano': 1941, 'violin': 1948, 'female singer': 2011, 'flute': 1932, 'distorted electric guitar': 1945}\n",
      "loading metadata from /home/hugo/lab/instrument-recognition/data/mdb-solos-train-soundscapes/test...\n"
     ]
    },
    {
     "name": "stderr",
     "output_type": "stream",
     "text": [
      "100%|██████████| 12236/12236 [00:01<00:00, 10998.60it/s]\n",
      "100%|██████████| 3494/3494 [00:00<00:00, 50275.99it/s]\n",
      "/home/hugo/lab/venv/lib/python3.8/site-packages/pytorch_lightning/utilities/distributed.py:45: UserWarning: Checkpoint directory /home/hugo/lab/instrument-recognition/test-tubes/transformer-search/seed=23_rnn=xfmr-64_recurrence_num_layers=2_/version_0/checkpoints exists and is not empty. With save_top_k=3, all files in this directory will be deleted when a checkpoint is saved!\n",
      "  warnings.warn(*args, **kwargs)\n",
      "GPU available: True, used: False\n",
      "TPU available: False, using: 0 TPU cores\n"
     ]
    },
    {
     "name": "stdout",
     "output_type": "stream",
     "text": [
      "found 12236 entries\n",
      "{'clarinet': 732, 'piano': 2609, 'violin': 2900, 'tenor saxophone': 325, 'flute': 3167, 'distorted electric guitar': 955, 'female singer': 1142, 'trumpet': 406}\n",
      "loading metadata from /home/hugo/lab/instrument-recognition/data/mdb-solos-train-soundscapes/validation...\n",
      "found 3494 entries\n",
      "{'clarinet': 328, 'piano': 1022, 'flute': 233, 'female singer': 284, 'tenor saxophone': 29, 'violin': 1031, 'distorted electric guitar': 495, 'trumpet': 72}\n",
      "train entries: 5208\n",
      "val entries: 3494\n",
      "found checkpoint: /home/hugo/lab/instrument-recognition/test-tubes/transformer-search/seed=23_rnn=xfmr-64_recurrence_num_layers=2_/version_0/checkpoints/epoch=25-fscore_val=0.93.ckpt\n"
     ]
    },
    {
     "data": {
      "application/vnd.jupyter.widget-view+json": {
       "model_id": "37c5b8b4d7a14ce3b7685a0c8a355f34",
       "version_major": 2,
       "version_minor": 0
      },
      "text/plain": [
       "HBox(children=(HTML(value='Testing'), FloatProgress(value=1.0, bar_style='info', layout=Layout(flex='2'), max=…"
      ]
     },
     "metadata": {},
     "output_type": "display_data"
    },
    {
     "name": "stdout",
     "output_type": "stream",
     "text": [
      "--------------------------------------------------------------------------------\n",
      "DATALOADER:0 TEST RESULTS\n",
      "{'ECE/test': 0.1280690785337082,\n",
      " 'accuracy/test': 0.8454287893647161,\n",
      " 'fscore/test': 0.8353568370035678,\n",
      " 'fscore_test': 0.8353568370035678,\n",
      " 'loss/test': tensor(1.1157),\n",
      " 'loss_test': tensor(1.1157),\n",
      " 'precision/test': 0.8634336065886258,\n",
      " 'recall/test': 0.8454287893647161}\n",
      "--------------------------------------------------------------------------------\n",
      "\n",
      "found checkpoint: /home/hugo/lab/instrument-recognition/test-tubes/transformer-search/seed=433_rnn=xfmr-16_recurrence_num_layers=2_/version_0/checkpoints/epoch=04-fscore_val=0.93.ckpt\n",
      "found checkpoint: /home/hugo/lab/instrument-recognition/test-tubes/transformer-search/seed=433_rnn=xfmr-16_recurrence_num_layers=2_/version_0/checkpoints/epoch=04-fscore_val=0.93.ckpt\n",
      "/home/hugo/lab/instrument-recognition/test-tubes/transformer-search/seed=433_rnn=xfmr-16_recurrence_num_layers=2_/version_0\n",
      "/home/hugo/lab/instrument-recognition/test-tubes/transformer-search/seed=433_rnn=xfmr-16_recurrence_num_layers=2_/version_0/checkpoints/epoch=04-fscore_val=0.93.ckpt\n"
     ]
    },
    {
     "name": "stderr",
     "output_type": "stream",
     "text": [
      "100%|██████████| 5208/5208 [00:00<00:00, 36605.08it/s]"
     ]
    },
    {
     "name": "stdout",
     "output_type": "stream",
     "text": [
      "loading metadata from /home/hugo/lab/instrument-recognition/data/mdb-solos-train-soundscapes/train...\n",
      "found 5208 entries\n",
      "{'trumpet': 1965, 'clarinet': 1966, 'tenor saxophone': 1914, 'piano': 1941, 'violin': 1948, 'female singer': 2011, 'flute': 1932, 'distorted electric guitar': 1945}\n",
      "loading metadata from /home/hugo/lab/instrument-recognition/data/mdb-solos-train-soundscapes/test...\n"
     ]
    },
    {
     "name": "stderr",
     "output_type": "stream",
     "text": [
      "\n",
      "100%|██████████| 12236/12236 [00:00<00:00, 49340.34it/s]\n",
      "100%|██████████| 3494/3494 [00:00<00:00, 48746.32it/s]\n",
      "/home/hugo/lab/venv/lib/python3.8/site-packages/pytorch_lightning/utilities/distributed.py:45: UserWarning: Checkpoint directory /home/hugo/lab/instrument-recognition/test-tubes/transformer-search/seed=433_rnn=xfmr-16_recurrence_num_layers=2_/version_0/checkpoints exists and is not empty. With save_top_k=3, all files in this directory will be deleted when a checkpoint is saved!\n",
      "  warnings.warn(*args, **kwargs)\n",
      "GPU available: True, used: False\n",
      "TPU available: False, using: 0 TPU cores\n"
     ]
    },
    {
     "name": "stdout",
     "output_type": "stream",
     "text": [
      "found 12236 entries\n",
      "{'clarinet': 732, 'piano': 2609, 'violin': 2900, 'tenor saxophone': 325, 'flute': 3167, 'distorted electric guitar': 955, 'female singer': 1142, 'trumpet': 406}\n",
      "loading metadata from /home/hugo/lab/instrument-recognition/data/mdb-solos-train-soundscapes/validation...\n",
      "found 3494 entries\n",
      "{'clarinet': 328, 'piano': 1022, 'flute': 233, 'female singer': 284, 'tenor saxophone': 29, 'violin': 1031, 'distorted electric guitar': 495, 'trumpet': 72}\n",
      "train entries: 5208\n",
      "val entries: 3494\n",
      "found checkpoint: /home/hugo/lab/instrument-recognition/test-tubes/transformer-search/seed=433_rnn=xfmr-16_recurrence_num_layers=2_/version_0/checkpoints/epoch=04-fscore_val=0.93.ckpt\n"
     ]
    },
    {
     "data": {
      "application/vnd.jupyter.widget-view+json": {
       "model_id": "b461550b73f64061be1ea6507dbb59c8",
       "version_major": 2,
       "version_minor": 0
      },
      "text/plain": [
       "HBox(children=(HTML(value='Testing'), FloatProgress(value=1.0, bar_style='info', layout=Layout(flex='2'), max=…"
      ]
     },
     "metadata": {},
     "output_type": "display_data"
    },
    {
     "name": "stdout",
     "output_type": "stream",
     "text": [
      "--------------------------------------------------------------------------------\n",
      "DATALOADER:0 TEST RESULTS\n",
      "{'ECE/test': 0.12303623576251022,\n",
      " 'accuracy/test': 0.8363027133050016,\n",
      " 'fscore/test': 0.8246522102808623,\n",
      " 'fscore_test': 0.8246522102808623,\n",
      " 'loss/test': tensor(0.9727),\n",
      " 'loss_test': tensor(0.9727),\n",
      " 'precision/test': 0.8581340489558658,\n",
      " 'recall/test': 0.8363027133050016}\n",
      "--------------------------------------------------------------------------------\n",
      "\n",
      "found checkpoint: /home/hugo/lab/instrument-recognition/test-tubes/transformer-search/seed=440_rnn=xfmr-2_recurrence_num_layers=6_/version_0/checkpoints/epoch=21-fscore_val=0.93.ckpt\n",
      "found checkpoint: /home/hugo/lab/instrument-recognition/test-tubes/transformer-search/seed=440_rnn=xfmr-2_recurrence_num_layers=6_/version_0/checkpoints/epoch=21-fscore_val=0.93.ckpt\n",
      "/home/hugo/lab/instrument-recognition/test-tubes/transformer-search/seed=440_rnn=xfmr-2_recurrence_num_layers=6_/version_0\n",
      "/home/hugo/lab/instrument-recognition/test-tubes/transformer-search/seed=440_rnn=xfmr-2_recurrence_num_layers=6_/version_0/checkpoints/epoch=21-fscore_val=0.93.ckpt\n",
      "loading metadata from /home/hugo/lab/instrument-recognition/data/mdb-solos-train-soundscapes/train...\n"
     ]
    },
    {
     "name": "stderr",
     "output_type": "stream",
     "text": [
      "100%|██████████| 5208/5208 [00:00<00:00, 41792.42it/s]\n",
      " 41%|████      | 4970/12236 [00:00<00:00, 49692.94it/s]"
     ]
    },
    {
     "name": "stdout",
     "output_type": "stream",
     "text": [
      "found 5208 entries\n",
      "{'trumpet': 1965, 'clarinet': 1966, 'tenor saxophone': 1914, 'piano': 1941, 'violin': 1948, 'female singer': 2011, 'flute': 1932, 'distorted electric guitar': 1945}\n",
      "loading metadata from /home/hugo/lab/instrument-recognition/data/mdb-solos-train-soundscapes/test...\n"
     ]
    },
    {
     "name": "stderr",
     "output_type": "stream",
     "text": [
      "100%|██████████| 12236/12236 [00:00<00:00, 49448.87it/s]\n",
      "100%|██████████| 3494/3494 [00:00<00:00, 49625.14it/s]\n",
      "/home/hugo/lab/venv/lib/python3.8/site-packages/pytorch_lightning/utilities/distributed.py:45: UserWarning: Checkpoint directory /home/hugo/lab/instrument-recognition/test-tubes/transformer-search/seed=440_rnn=xfmr-2_recurrence_num_layers=6_/version_0/checkpoints exists and is not empty. With save_top_k=3, all files in this directory will be deleted when a checkpoint is saved!\n",
      "  warnings.warn(*args, **kwargs)\n",
      "GPU available: True, used: False\n",
      "TPU available: False, using: 0 TPU cores\n"
     ]
    },
    {
     "name": "stdout",
     "output_type": "stream",
     "text": [
      "found 12236 entries\n",
      "{'clarinet': 732, 'piano': 2609, 'violin': 2900, 'tenor saxophone': 325, 'flute': 3167, 'distorted electric guitar': 955, 'female singer': 1142, 'trumpet': 406}\n",
      "loading metadata from /home/hugo/lab/instrument-recognition/data/mdb-solos-train-soundscapes/validation...\n",
      "found 3494 entries\n",
      "{'clarinet': 328, 'piano': 1022, 'flute': 233, 'female singer': 284, 'tenor saxophone': 29, 'violin': 1031, 'distorted electric guitar': 495, 'trumpet': 72}\n",
      "train entries: 5208\n",
      "val entries: 3494\n",
      "found checkpoint: /home/hugo/lab/instrument-recognition/test-tubes/transformer-search/seed=440_rnn=xfmr-2_recurrence_num_layers=6_/version_0/checkpoints/epoch=21-fscore_val=0.93.ckpt\n"
     ]
    },
    {
     "data": {
      "application/vnd.jupyter.widget-view+json": {
       "model_id": "bb368d52d35949378b2342c521b68cb2",
       "version_major": 2,
       "version_minor": 0
      },
      "text/plain": [
       "HBox(children=(HTML(value='Testing'), FloatProgress(value=1.0, bar_style='info', layout=Layout(flex='2'), max=…"
      ]
     },
     "metadata": {},
     "output_type": "display_data"
    },
    {
     "name": "stderr",
     "output_type": "stream",
     "text": [
      "  0%|          | 0/5208 [00:00<?, ?it/s]"
     ]
    },
    {
     "name": "stdout",
     "output_type": "stream",
     "text": [
      "--------------------------------------------------------------------------------\n",
      "DATALOADER:0 TEST RESULTS\n",
      "{'ECE/test': 0.14193596058523425,\n",
      " 'accuracy/test': 0.8341233518579056,\n",
      " 'fscore/test': 0.8255968466731654,\n",
      " 'fscore_test': 0.8255968466731654,\n",
      " 'loss/test': tensor(1.1868),\n",
      " 'loss_test': tensor(1.1868),\n",
      " 'precision/test': 0.8625295698768596,\n",
      " 'recall/test': 0.8341233518579056}\n",
      "--------------------------------------------------------------------------------\n",
      "\n",
      "found checkpoint: /home/hugo/lab/instrument-recognition/test-tubes/transformer-search/seed=11_rnn=xfmr-64_recurrence_num_layers=1_/version_0/checkpoints/epoch=04-fscore_val=0.93.ckpt\n",
      "found checkpoint: /home/hugo/lab/instrument-recognition/test-tubes/transformer-search/seed=11_rnn=xfmr-64_recurrence_num_layers=1_/version_0/checkpoints/epoch=04-fscore_val=0.93.ckpt\n",
      "/home/hugo/lab/instrument-recognition/test-tubes/transformer-search/seed=11_rnn=xfmr-64_recurrence_num_layers=1_/version_0\n",
      "/home/hugo/lab/instrument-recognition/test-tubes/transformer-search/seed=11_rnn=xfmr-64_recurrence_num_layers=1_/version_0/checkpoints/epoch=04-fscore_val=0.93.ckpt\n",
      "loading metadata from /home/hugo/lab/instrument-recognition/data/mdb-solos-train-soundscapes/train...\n"
     ]
    },
    {
     "name": "stderr",
     "output_type": "stream",
     "text": [
      "100%|██████████| 5208/5208 [00:00<00:00, 39330.45it/s]\n",
      " 41%|████      | 4999/12236 [00:00<00:00, 49989.69it/s]"
     ]
    },
    {
     "name": "stdout",
     "output_type": "stream",
     "text": [
      "found 5208 entries\n",
      "{'trumpet': 1965, 'clarinet': 1966, 'tenor saxophone': 1914, 'piano': 1941, 'violin': 1948, 'female singer': 2011, 'flute': 1932, 'distorted electric guitar': 1945}\n",
      "loading metadata from /home/hugo/lab/instrument-recognition/data/mdb-solos-train-soundscapes/test...\n"
     ]
    },
    {
     "name": "stderr",
     "output_type": "stream",
     "text": [
      "100%|██████████| 12236/12236 [00:01<00:00, 11245.43it/s]\n",
      "100%|██████████| 3494/3494 [00:00<00:00, 50274.61it/s]\n",
      "/home/hugo/lab/venv/lib/python3.8/site-packages/pytorch_lightning/utilities/distributed.py:45: UserWarning: Checkpoint directory /home/hugo/lab/instrument-recognition/test-tubes/transformer-search/seed=11_rnn=xfmr-64_recurrence_num_layers=1_/version_0/checkpoints exists and is not empty. With save_top_k=3, all files in this directory will be deleted when a checkpoint is saved!\n",
      "  warnings.warn(*args, **kwargs)\n",
      "GPU available: True, used: False\n",
      "TPU available: False, using: 0 TPU cores\n"
     ]
    },
    {
     "name": "stdout",
     "output_type": "stream",
     "text": [
      "found 12236 entries\n",
      "{'clarinet': 732, 'piano': 2609, 'violin': 2900, 'tenor saxophone': 325, 'flute': 3167, 'distorted electric guitar': 955, 'female singer': 1142, 'trumpet': 406}\n",
      "loading metadata from /home/hugo/lab/instrument-recognition/data/mdb-solos-train-soundscapes/validation...\n",
      "found 3494 entries\n",
      "{'clarinet': 328, 'piano': 1022, 'flute': 233, 'female singer': 284, 'tenor saxophone': 29, 'violin': 1031, 'distorted electric guitar': 495, 'trumpet': 72}\n",
      "train entries: 5208\n",
      "val entries: 3494\n",
      "found checkpoint: /home/hugo/lab/instrument-recognition/test-tubes/transformer-search/seed=11_rnn=xfmr-64_recurrence_num_layers=1_/version_0/checkpoints/epoch=04-fscore_val=0.93.ckpt\n"
     ]
    },
    {
     "data": {
      "application/vnd.jupyter.widget-view+json": {
       "model_id": "f900b0e3c3234440a98df0a1d085caf6",
       "version_major": 2,
       "version_minor": 0
      },
      "text/plain": [
       "HBox(children=(HTML(value='Testing'), FloatProgress(value=1.0, bar_style='info', layout=Layout(flex='2'), max=…"
      ]
     },
     "metadata": {},
     "output_type": "display_data"
    },
    {
     "name": "stdout",
     "output_type": "stream",
     "text": [
      "--------------------------------------------------------------------------------\n",
      "DATALOADER:0 TEST RESULTS\n",
      "{'ECE/test': 0.12116770082905078,\n",
      " 'accuracy/test': 0.8390269151138716,\n",
      " 'fscore/test': 0.8261828137942493,\n",
      " 'fscore_test': 0.8261828137942493,\n",
      " 'loss/test': tensor(0.9896),\n",
      " 'loss_test': tensor(0.9896),\n",
      " 'precision/test': 0.8596535483728459,\n",
      " 'recall/test': 0.8390269151138716}\n",
      "--------------------------------------------------------------------------------\n",
      "\n",
      "found checkpoint: /home/hugo/lab/instrument-recognition/test-tubes/transformer-search/seed=433_rnn=xfmr-32_recurrence_num_layers=6_/version_0/checkpoints/epoch=56-fscore_val=0.93.ckpt\n",
      "found checkpoint: /home/hugo/lab/instrument-recognition/test-tubes/transformer-search/seed=433_rnn=xfmr-32_recurrence_num_layers=6_/version_0/checkpoints/epoch=56-fscore_val=0.93.ckpt\n",
      "/home/hugo/lab/instrument-recognition/test-tubes/transformer-search/seed=433_rnn=xfmr-32_recurrence_num_layers=6_/version_0\n",
      "/home/hugo/lab/instrument-recognition/test-tubes/transformer-search/seed=433_rnn=xfmr-32_recurrence_num_layers=6_/version_0/checkpoints/epoch=56-fscore_val=0.93.ckpt\n"
     ]
    },
    {
     "name": "stderr",
     "output_type": "stream",
     "text": [
      "100%|██████████| 5208/5208 [00:00<00:00, 41303.11it/s]"
     ]
    },
    {
     "name": "stdout",
     "output_type": "stream",
     "text": [
      "loading metadata from /home/hugo/lab/instrument-recognition/data/mdb-solos-train-soundscapes/train...\n",
      "found 5208 entries\n",
      "{'trumpet': 1965, 'clarinet': 1966, 'tenor saxophone': 1914, 'piano': 1941, 'violin': 1948, 'female singer': 2011, 'flute': 1932, 'distorted electric guitar': 1945}\n",
      "loading metadata from /home/hugo/lab/instrument-recognition/data/mdb-solos-train-soundscapes/test...\n"
     ]
    },
    {
     "name": "stderr",
     "output_type": "stream",
     "text": [
      "\n",
      "100%|██████████| 12236/12236 [00:00<00:00, 49336.02it/s]\n",
      "100%|██████████| 3494/3494 [00:00<00:00, 48502.22it/s]\n",
      "/home/hugo/lab/venv/lib/python3.8/site-packages/pytorch_lightning/utilities/distributed.py:45: UserWarning: Checkpoint directory /home/hugo/lab/instrument-recognition/test-tubes/transformer-search/seed=433_rnn=xfmr-32_recurrence_num_layers=6_/version_0/checkpoints exists and is not empty. With save_top_k=3, all files in this directory will be deleted when a checkpoint is saved!\n",
      "  warnings.warn(*args, **kwargs)\n",
      "GPU available: True, used: False\n",
      "TPU available: False, using: 0 TPU cores\n"
     ]
    },
    {
     "name": "stdout",
     "output_type": "stream",
     "text": [
      "found 12236 entries\n",
      "{'clarinet': 732, 'piano': 2609, 'violin': 2900, 'tenor saxophone': 325, 'flute': 3167, 'distorted electric guitar': 955, 'female singer': 1142, 'trumpet': 406}\n",
      "loading metadata from /home/hugo/lab/instrument-recognition/data/mdb-solos-train-soundscapes/validation...\n",
      "found 3494 entries\n",
      "{'clarinet': 328, 'piano': 1022, 'flute': 233, 'female singer': 284, 'tenor saxophone': 29, 'violin': 1031, 'distorted electric guitar': 495, 'trumpet': 72}\n",
      "train entries: 5208\n",
      "val entries: 3494\n",
      "found checkpoint: /home/hugo/lab/instrument-recognition/test-tubes/transformer-search/seed=433_rnn=xfmr-32_recurrence_num_layers=6_/version_0/checkpoints/epoch=56-fscore_val=0.93.ckpt\n"
     ]
    },
    {
     "data": {
      "application/vnd.jupyter.widget-view+json": {
       "model_id": "5fabb87d24c24c8a9ef6db44d4258d11",
       "version_major": 2,
       "version_minor": 0
      },
      "text/plain": [
       "HBox(children=(HTML(value='Testing'), FloatProgress(value=1.0, bar_style='info', layout=Layout(flex='2'), max=…"
      ]
     },
     "metadata": {},
     "output_type": "display_data"
    },
    {
     "name": "stdout",
     "output_type": "stream",
     "text": [
      "--------------------------------------------------------------------------------\n",
      "DATALOADER:0 TEST RESULTS\n",
      "{'ECE/test': 0.1199156302247118,\n",
      " 'accuracy/test': 0.8586684101558243,\n",
      " 'fscore/test': 0.851481596371424,\n",
      " 'fscore_test': 0.851481596371424,\n",
      " 'loss/test': tensor(0.9281),\n",
      " 'loss_test': tensor(0.9281),\n",
      " 'precision/test': 0.8657906260217803,\n",
      " 'recall/test': 0.8586684101558243}\n",
      "--------------------------------------------------------------------------------\n",
      "\n",
      "found checkpoint: /home/hugo/lab/instrument-recognition/test-tubes/transformer-search/seed=23_rnn=xfmr-2_recurrence_num_layers=2_/version_0/checkpoints/epoch=44-fscore_val=0.93.ckpt\n",
      "found checkpoint: /home/hugo/lab/instrument-recognition/test-tubes/transformer-search/seed=23_rnn=xfmr-2_recurrence_num_layers=2_/version_0/checkpoints/epoch=44-fscore_val=0.93.ckpt\n",
      "/home/hugo/lab/instrument-recognition/test-tubes/transformer-search/seed=23_rnn=xfmr-2_recurrence_num_layers=2_/version_0\n",
      "/home/hugo/lab/instrument-recognition/test-tubes/transformer-search/seed=23_rnn=xfmr-2_recurrence_num_layers=2_/version_0/checkpoints/epoch=44-fscore_val=0.93.ckpt\n"
     ]
    },
    {
     "name": "stderr",
     "output_type": "stream",
     "text": [
      "100%|██████████| 5208/5208 [00:00<00:00, 41717.63it/s]"
     ]
    },
    {
     "name": "stdout",
     "output_type": "stream",
     "text": [
      "loading metadata from /home/hugo/lab/instrument-recognition/data/mdb-solos-train-soundscapes/train...\n",
      "found 5208 entries\n",
      "{'trumpet': 1965, 'clarinet': 1966, 'tenor saxophone': 1914, 'piano': 1941, 'violin': 1948, 'female singer': 2011, 'flute': 1932, 'distorted electric guitar': 1945}\n",
      "loading metadata from /home/hugo/lab/instrument-recognition/data/mdb-solos-train-soundscapes/test...\n"
     ]
    },
    {
     "name": "stderr",
     "output_type": "stream",
     "text": [
      "\n",
      "100%|██████████| 12236/12236 [00:00<00:00, 41393.85it/s]\n",
      "100%|██████████| 3494/3494 [00:00<00:00, 48697.89it/s]\n",
      "/home/hugo/lab/venv/lib/python3.8/site-packages/pytorch_lightning/utilities/distributed.py:45: UserWarning: Checkpoint directory /home/hugo/lab/instrument-recognition/test-tubes/transformer-search/seed=23_rnn=xfmr-2_recurrence_num_layers=2_/version_0/checkpoints exists and is not empty. With save_top_k=3, all files in this directory will be deleted when a checkpoint is saved!\n",
      "  warnings.warn(*args, **kwargs)\n",
      "GPU available: True, used: False\n",
      "TPU available: False, using: 0 TPU cores\n"
     ]
    },
    {
     "name": "stdout",
     "output_type": "stream",
     "text": [
      "found 12236 entries\n",
      "{'clarinet': 732, 'piano': 2609, 'violin': 2900, 'tenor saxophone': 325, 'flute': 3167, 'distorted electric guitar': 955, 'female singer': 1142, 'trumpet': 406}\n",
      "loading metadata from /home/hugo/lab/instrument-recognition/data/mdb-solos-train-soundscapes/validation...\n",
      "found 3494 entries\n",
      "{'clarinet': 328, 'piano': 1022, 'flute': 233, 'female singer': 284, 'tenor saxophone': 29, 'violin': 1031, 'distorted electric guitar': 495, 'trumpet': 72}\n",
      "train entries: 5208\n",
      "val entries: 3494\n",
      "found checkpoint: /home/hugo/lab/instrument-recognition/test-tubes/transformer-search/seed=23_rnn=xfmr-2_recurrence_num_layers=2_/version_0/checkpoints/epoch=44-fscore_val=0.93.ckpt\n"
     ]
    },
    {
     "data": {
      "application/vnd.jupyter.widget-view+json": {
       "model_id": "de5bc0aa3da2402d8bd5ebd7261f680e",
       "version_major": 2,
       "version_minor": 0
      },
      "text/plain": [
       "HBox(children=(HTML(value='Testing'), FloatProgress(value=1.0, bar_style='info', layout=Layout(flex='2'), max=…"
      ]
     },
     "metadata": {},
     "output_type": "display_data"
    },
    {
     "name": "stdout",
     "output_type": "stream",
     "text": [
      "--------------------------------------------------------------------------------\n",
      "DATALOADER:0 TEST RESULTS\n",
      "{'ECE/test': 0.1130812514946393,\n",
      " 'accuracy/test': 0.864607170099161,\n",
      " 'fscore/test': 0.8557979154131727,\n",
      " 'fscore_test': 0.8557979154131727,\n",
      " 'loss/test': tensor(1.0056),\n",
      " 'loss_test': tensor(1.0056),\n",
      " 'precision/test': 0.8756287881487185,\n",
      " 'recall/test': 0.864607170099161}\n",
      "--------------------------------------------------------------------------------\n",
      "\n",
      "found checkpoint: /home/hugo/lab/instrument-recognition/test-tubes/transformer-search/seed=433_rnn=xfmr-2_recurrence_num_layers=1_/version_0/checkpoints/epoch=51-fscore_val=0.94.ckpt\n",
      "found checkpoint: /home/hugo/lab/instrument-recognition/test-tubes/transformer-search/seed=433_rnn=xfmr-2_recurrence_num_layers=1_/version_0/checkpoints/epoch=51-fscore_val=0.94.ckpt\n",
      "/home/hugo/lab/instrument-recognition/test-tubes/transformer-search/seed=433_rnn=xfmr-2_recurrence_num_layers=1_/version_0\n",
      "/home/hugo/lab/instrument-recognition/test-tubes/transformer-search/seed=433_rnn=xfmr-2_recurrence_num_layers=1_/version_0/checkpoints/epoch=51-fscore_val=0.94.ckpt\n",
      "loading metadata from /home/hugo/lab/instrument-recognition/data/mdb-solos-train-soundscapes/train...\n"
     ]
    },
    {
     "name": "stderr",
     "output_type": "stream",
     "text": [
      "100%|██████████| 5208/5208 [00:00<00:00, 42069.13it/s]\n",
      " 41%|████      | 4987/12236 [00:00<00:00, 49866.96it/s]"
     ]
    },
    {
     "name": "stdout",
     "output_type": "stream",
     "text": [
      "found 5208 entries\n",
      "{'trumpet': 1965, 'clarinet': 1966, 'tenor saxophone': 1914, 'piano': 1941, 'violin': 1948, 'female singer': 2011, 'flute': 1932, 'distorted electric guitar': 1945}\n",
      "loading metadata from /home/hugo/lab/instrument-recognition/data/mdb-solos-train-soundscapes/test...\n"
     ]
    },
    {
     "name": "stderr",
     "output_type": "stream",
     "text": [
      "100%|██████████| 12236/12236 [00:01<00:00, 10926.59it/s]\n",
      "100%|██████████| 3494/3494 [00:00<00:00, 37607.62it/s]\n",
      "/home/hugo/lab/venv/lib/python3.8/site-packages/pytorch_lightning/utilities/distributed.py:45: UserWarning: Checkpoint directory /home/hugo/lab/instrument-recognition/test-tubes/transformer-search/seed=433_rnn=xfmr-2_recurrence_num_layers=1_/version_0/checkpoints exists and is not empty. With save_top_k=3, all files in this directory will be deleted when a checkpoint is saved!\n",
      "  warnings.warn(*args, **kwargs)\n",
      "GPU available: True, used: False\n",
      "TPU available: False, using: 0 TPU cores\n"
     ]
    },
    {
     "name": "stdout",
     "output_type": "stream",
     "text": [
      "found 12236 entries\n",
      "{'clarinet': 732, 'piano': 2609, 'violin': 2900, 'tenor saxophone': 325, 'flute': 3167, 'distorted electric guitar': 955, 'female singer': 1142, 'trumpet': 406}\n",
      "loading metadata from /home/hugo/lab/instrument-recognition/data/mdb-solos-train-soundscapes/validation...\n",
      "found 3494 entries\n",
      "{'clarinet': 328, 'piano': 1022, 'flute': 233, 'female singer': 284, 'tenor saxophone': 29, 'violin': 1031, 'distorted electric guitar': 495, 'trumpet': 72}\n",
      "train entries: 5208\n",
      "val entries: 3494\n",
      "found checkpoint: /home/hugo/lab/instrument-recognition/test-tubes/transformer-search/seed=433_rnn=xfmr-2_recurrence_num_layers=1_/version_0/checkpoints/epoch=51-fscore_val=0.94.ckpt\n"
     ]
    },
    {
     "data": {
      "application/vnd.jupyter.widget-view+json": {
       "model_id": "9159a933d6264841b00c7012836389b6",
       "version_major": 2,
       "version_minor": 0
      },
      "text/plain": [
       "HBox(children=(HTML(value='Testing'), FloatProgress(value=1.0, bar_style='info', layout=Layout(flex='2'), max=…"
      ]
     },
     "metadata": {},
     "output_type": "display_data"
    },
    {
     "name": "stdout",
     "output_type": "stream",
     "text": [
      "--------------------------------------------------------------------------------\n",
      "DATALOADER:0 TEST RESULTS\n",
      "{'ECE/test': 0.12835813811564617,\n",
      " 'accuracy/test': 0.8454832734008936,\n",
      " 'fscore/test': 0.8353245607521584,\n",
      " 'fscore_test': 0.8353245607521584,\n",
      " 'loss/test': tensor(1.2094),\n",
      " 'loss_test': tensor(1.2094),\n",
      " 'precision/test': 0.861936891321942,\n",
      " 'recall/test': 0.8454832734008936}\n",
      "--------------------------------------------------------------------------------\n",
      "\n",
      "found checkpoint: /home/hugo/lab/instrument-recognition/test-tubes/transformer-search/seed=440_rnn=xfmr-4_recurrence_num_layers=6_/version_0/checkpoints/epoch=27-fscore_val=0.93.ckpt\n",
      "found checkpoint: /home/hugo/lab/instrument-recognition/test-tubes/transformer-search/seed=440_rnn=xfmr-4_recurrence_num_layers=6_/version_0/checkpoints/epoch=27-fscore_val=0.93.ckpt\n",
      "/home/hugo/lab/instrument-recognition/test-tubes/transformer-search/seed=440_rnn=xfmr-4_recurrence_num_layers=6_/version_0\n",
      "/home/hugo/lab/instrument-recognition/test-tubes/transformer-search/seed=440_rnn=xfmr-4_recurrence_num_layers=6_/version_0/checkpoints/epoch=27-fscore_val=0.93.ckpt\n"
     ]
    },
    {
     "name": "stderr",
     "output_type": "stream",
     "text": [
      "100%|██████████| 5208/5208 [00:00<00:00, 40941.44it/s]"
     ]
    },
    {
     "name": "stdout",
     "output_type": "stream",
     "text": [
      "loading metadata from /home/hugo/lab/instrument-recognition/data/mdb-solos-train-soundscapes/train...\n",
      "found 5208 entries\n",
      "{'trumpet': 1965, 'clarinet': 1966, 'tenor saxophone': 1914, 'piano': 1941, 'violin': 1948, 'female singer': 2011, 'flute': 1932, 'distorted electric guitar': 1945}\n",
      "loading metadata from /home/hugo/lab/instrument-recognition/data/mdb-solos-train-soundscapes/test...\n"
     ]
    },
    {
     "name": "stderr",
     "output_type": "stream",
     "text": [
      "\n",
      "100%|██████████| 12236/12236 [00:00<00:00, 43565.20it/s]\n",
      "100%|██████████| 3494/3494 [00:00<00:00, 49365.36it/s]\n",
      "/home/hugo/lab/venv/lib/python3.8/site-packages/pytorch_lightning/utilities/distributed.py:45: UserWarning: Checkpoint directory /home/hugo/lab/instrument-recognition/test-tubes/transformer-search/seed=440_rnn=xfmr-4_recurrence_num_layers=6_/version_0/checkpoints exists and is not empty. With save_top_k=3, all files in this directory will be deleted when a checkpoint is saved!\n",
      "  warnings.warn(*args, **kwargs)\n",
      "GPU available: True, used: False\n",
      "TPU available: False, using: 0 TPU cores\n"
     ]
    },
    {
     "name": "stdout",
     "output_type": "stream",
     "text": [
      "found 12236 entries\n",
      "{'clarinet': 732, 'piano': 2609, 'violin': 2900, 'tenor saxophone': 325, 'flute': 3167, 'distorted electric guitar': 955, 'female singer': 1142, 'trumpet': 406}\n",
      "loading metadata from /home/hugo/lab/instrument-recognition/data/mdb-solos-train-soundscapes/validation...\n",
      "found 3494 entries\n",
      "{'clarinet': 328, 'piano': 1022, 'flute': 233, 'female singer': 284, 'tenor saxophone': 29, 'violin': 1031, 'distorted electric guitar': 495, 'trumpet': 72}\n",
      "train entries: 5208\n",
      "val entries: 3494\n",
      "found checkpoint: /home/hugo/lab/instrument-recognition/test-tubes/transformer-search/seed=440_rnn=xfmr-4_recurrence_num_layers=6_/version_0/checkpoints/epoch=27-fscore_val=0.93.ckpt\n"
     ]
    },
    {
     "data": {
      "application/vnd.jupyter.widget-view+json": {
       "model_id": "bf024fd3b75e408aa3d1f3d852767b30",
       "version_major": 2,
       "version_minor": 0
      },
      "text/plain": [
       "HBox(children=(HTML(value='Testing'), FloatProgress(value=1.0, bar_style='info', layout=Layout(flex='2'), max=…"
      ]
     },
     "metadata": {},
     "output_type": "display_data"
    },
    {
     "name": "stdout",
     "output_type": "stream",
     "text": [
      "--------------------------------------------------------------------------------\n",
      "DATALOADER:0 TEST RESULTS\n",
      "{'ECE/test': 0.12330893477469834,\n",
      " 'accuracy/test': 0.8546638334967854,\n",
      " 'fscore/test': 0.8450527730189578,\n",
      " 'fscore_test': 0.8450527730189578,\n",
      " 'loss/test': tensor(1.0213),\n",
      " 'loss_test': tensor(1.0213),\n",
      " 'precision/test': 0.8718462153580167,\n",
      " 'recall/test': 0.8546638334967854}\n",
      "--------------------------------------------------------------------------------\n",
      "\n",
      "found checkpoint: /home/hugo/lab/instrument-recognition/test-tubes/transformer-search/seed=23_rnn=xfmr-2_recurrence_num_layers=1_/version_0/checkpoints/epoch=61-fscore_val=0.93.ckpt\n",
      "found checkpoint: /home/hugo/lab/instrument-recognition/test-tubes/transformer-search/seed=23_rnn=xfmr-2_recurrence_num_layers=1_/version_0/checkpoints/epoch=61-fscore_val=0.93.ckpt\n",
      "/home/hugo/lab/instrument-recognition/test-tubes/transformer-search/seed=23_rnn=xfmr-2_recurrence_num_layers=1_/version_0\n",
      "/home/hugo/lab/instrument-recognition/test-tubes/transformer-search/seed=23_rnn=xfmr-2_recurrence_num_layers=1_/version_0/checkpoints/epoch=61-fscore_val=0.93.ckpt\n"
     ]
    },
    {
     "name": "stderr",
     "output_type": "stream",
     "text": [
      "100%|██████████| 5208/5208 [00:00<00:00, 41503.30it/s]"
     ]
    },
    {
     "name": "stdout",
     "output_type": "stream",
     "text": [
      "loading metadata from /home/hugo/lab/instrument-recognition/data/mdb-solos-train-soundscapes/train...\n",
      "found 5208 entries\n",
      "{'trumpet': 1965, 'clarinet': 1966, 'tenor saxophone': 1914, 'piano': 1941, 'violin': 1948, 'female singer': 2011, 'flute': 1932, 'distorted electric guitar': 1945}\n",
      "loading metadata from /home/hugo/lab/instrument-recognition/data/mdb-solos-train-soundscapes/test...\n"
     ]
    },
    {
     "name": "stderr",
     "output_type": "stream",
     "text": [
      "\n",
      "100%|██████████| 12236/12236 [00:00<00:00, 44666.93it/s]\n",
      "100%|██████████| 3494/3494 [00:00<00:00, 48933.34it/s]\n",
      "/home/hugo/lab/venv/lib/python3.8/site-packages/pytorch_lightning/utilities/distributed.py:45: UserWarning: Checkpoint directory /home/hugo/lab/instrument-recognition/test-tubes/transformer-search/seed=23_rnn=xfmr-2_recurrence_num_layers=1_/version_0/checkpoints exists and is not empty. With save_top_k=3, all files in this directory will be deleted when a checkpoint is saved!\n",
      "  warnings.warn(*args, **kwargs)\n",
      "GPU available: True, used: False\n",
      "TPU available: False, using: 0 TPU cores\n"
     ]
    },
    {
     "name": "stdout",
     "output_type": "stream",
     "text": [
      "found 12236 entries\n",
      "{'clarinet': 732, 'piano': 2609, 'violin': 2900, 'tenor saxophone': 325, 'flute': 3167, 'distorted electric guitar': 955, 'female singer': 1142, 'trumpet': 406}\n",
      "loading metadata from /home/hugo/lab/instrument-recognition/data/mdb-solos-train-soundscapes/validation...\n",
      "found 3494 entries\n",
      "{'clarinet': 328, 'piano': 1022, 'flute': 233, 'female singer': 284, 'tenor saxophone': 29, 'violin': 1031, 'distorted electric guitar': 495, 'trumpet': 72}\n",
      "train entries: 5208\n",
      "val entries: 3494\n",
      "found checkpoint: /home/hugo/lab/instrument-recognition/test-tubes/transformer-search/seed=23_rnn=xfmr-2_recurrence_num_layers=1_/version_0/checkpoints/epoch=61-fscore_val=0.93.ckpt\n"
     ]
    },
    {
     "data": {
      "application/vnd.jupyter.widget-view+json": {
       "model_id": "fb09438cbfda49e9bb1801cfbf3678e0",
       "version_major": 2,
       "version_minor": 0
      },
      "text/plain": [
       "HBox(children=(HTML(value='Testing'), FloatProgress(value=1.0, bar_style='info', layout=Layout(flex='2'), max=…"
      ]
     },
     "metadata": {},
     "output_type": "display_data"
    },
    {
     "name": "stdout",
     "output_type": "stream",
     "text": [
      "--------------------------------------------------------------------------------\n",
      "DATALOADER:0 TEST RESULTS\n",
      "{'ECE/test': 0.12301483485915499,\n",
      " 'accuracy/test': 0.8515310014165849,\n",
      " 'fscore/test': 0.8424008479616814,\n",
      " 'fscore_test': 0.8424008479616814,\n",
      " 'loss/test': tensor(1.1192),\n",
      " 'loss_test': tensor(1.1192),\n",
      " 'precision/test': 0.8641309414710431,\n",
      " 'recall/test': 0.8515310014165849}\n",
      "--------------------------------------------------------------------------------\n",
      "\n",
      "found checkpoint: /home/hugo/lab/instrument-recognition/test-tubes/transformer-search/seed=440_rnn=xfmr-4_recurrence_num_layers=2_/version_0/checkpoints/epoch=43-fscore_val=0.93.ckpt\n",
      "found checkpoint: /home/hugo/lab/instrument-recognition/test-tubes/transformer-search/seed=440_rnn=xfmr-4_recurrence_num_layers=2_/version_0/checkpoints/epoch=43-fscore_val=0.93.ckpt\n",
      "/home/hugo/lab/instrument-recognition/test-tubes/transformer-search/seed=440_rnn=xfmr-4_recurrence_num_layers=2_/version_0\n",
      "/home/hugo/lab/instrument-recognition/test-tubes/transformer-search/seed=440_rnn=xfmr-4_recurrence_num_layers=2_/version_0/checkpoints/epoch=43-fscore_val=0.93.ckpt\n"
     ]
    },
    {
     "name": "stderr",
     "output_type": "stream",
     "text": [
      "100%|██████████| 5208/5208 [00:00<00:00, 41177.60it/s]"
     ]
    },
    {
     "name": "stdout",
     "output_type": "stream",
     "text": [
      "loading metadata from /home/hugo/lab/instrument-recognition/data/mdb-solos-train-soundscapes/train...\n",
      "found 5208 entries\n",
      "{'trumpet': 1965, 'clarinet': 1966, 'tenor saxophone': 1914, 'piano': 1941, 'violin': 1948, 'female singer': 2011, 'flute': 1932, 'distorted electric guitar': 1945}\n",
      "loading metadata from /home/hugo/lab/instrument-recognition/data/mdb-solos-train-soundscapes/test...\n"
     ]
    },
    {
     "name": "stderr",
     "output_type": "stream",
     "text": [
      "\n",
      "100%|██████████| 12236/12236 [00:00<00:00, 49504.59it/s]\n",
      "100%|██████████| 3494/3494 [00:00<00:00, 48946.90it/s]\n",
      "/home/hugo/lab/venv/lib/python3.8/site-packages/pytorch_lightning/utilities/distributed.py:45: UserWarning: Checkpoint directory /home/hugo/lab/instrument-recognition/test-tubes/transformer-search/seed=440_rnn=xfmr-4_recurrence_num_layers=2_/version_0/checkpoints exists and is not empty. With save_top_k=3, all files in this directory will be deleted when a checkpoint is saved!\n",
      "  warnings.warn(*args, **kwargs)\n",
      "GPU available: True, used: False\n",
      "TPU available: False, using: 0 TPU cores\n"
     ]
    },
    {
     "name": "stdout",
     "output_type": "stream",
     "text": [
      "found 12236 entries\n",
      "{'clarinet': 732, 'piano': 2609, 'violin': 2900, 'tenor saxophone': 325, 'flute': 3167, 'distorted electric guitar': 955, 'female singer': 1142, 'trumpet': 406}\n",
      "loading metadata from /home/hugo/lab/instrument-recognition/data/mdb-solos-train-soundscapes/validation...\n",
      "found 3494 entries\n",
      "{'clarinet': 328, 'piano': 1022, 'flute': 233, 'female singer': 284, 'tenor saxophone': 29, 'violin': 1031, 'distorted electric guitar': 495, 'trumpet': 72}\n",
      "train entries: 5208\n",
      "val entries: 3494\n",
      "found checkpoint: /home/hugo/lab/instrument-recognition/test-tubes/transformer-search/seed=440_rnn=xfmr-4_recurrence_num_layers=2_/version_0/checkpoints/epoch=43-fscore_val=0.93.ckpt\n"
     ]
    },
    {
     "data": {
      "application/vnd.jupyter.widget-view+json": {
       "model_id": "1f79aee9e04647fb8a92046b3372dda4",
       "version_major": 2,
       "version_minor": 0
      },
      "text/plain": [
       "HBox(children=(HTML(value='Testing'), FloatProgress(value=1.0, bar_style='info', layout=Layout(flex='2'), max=…"
      ]
     },
     "metadata": {},
     "output_type": "display_data"
    },
    {
     "name": "stdout",
     "output_type": "stream",
     "text": [
      "--------------------------------------------------------------------------------\n",
      "DATALOADER:0 TEST RESULTS\n",
      "{'ECE/test': 0.1418569856227399,\n",
      " 'accuracy/test': 0.8305274054701972,\n",
      " 'fscore/test': 0.8177089064262841,\n",
      " 'fscore_test': 0.8177089064262841,\n",
      " 'loss/test': tensor(1.2785),\n",
      " 'loss_test': tensor(1.2785),\n",
      " 'precision/test': 0.8512172778169409,\n",
      " 'recall/test': 0.8305274054701972}\n",
      "--------------------------------------------------------------------------------\n",
      "\n",
      "found checkpoint: /home/hugo/lab/instrument-recognition/test-tubes/transformer-search/seed=23_rnn=xfmr-64_recurrence_num_layers=4_/version_0/checkpoints/epoch=04-fscore_val=0.93.ckpt\n",
      "found checkpoint: /home/hugo/lab/instrument-recognition/test-tubes/transformer-search/seed=23_rnn=xfmr-64_recurrence_num_layers=4_/version_0/checkpoints/epoch=04-fscore_val=0.93.ckpt\n",
      "/home/hugo/lab/instrument-recognition/test-tubes/transformer-search/seed=23_rnn=xfmr-64_recurrence_num_layers=4_/version_0\n",
      "/home/hugo/lab/instrument-recognition/test-tubes/transformer-search/seed=23_rnn=xfmr-64_recurrence_num_layers=4_/version_0/checkpoints/epoch=04-fscore_val=0.93.ckpt\n"
     ]
    },
    {
     "name": "stderr",
     "output_type": "stream",
     "text": [
      "100%|██████████| 5208/5208 [00:00<00:00, 41691.12it/s]"
     ]
    },
    {
     "name": "stdout",
     "output_type": "stream",
     "text": [
      "loading metadata from /home/hugo/lab/instrument-recognition/data/mdb-solos-train-soundscapes/train...\n",
      "found 5208 entries\n",
      "{'trumpet': 1965, 'clarinet': 1966, 'tenor saxophone': 1914, 'piano': 1941, 'violin': 1948, 'female singer': 2011, 'flute': 1932, 'distorted electric guitar': 1945}\n",
      "loading metadata from /home/hugo/lab/instrument-recognition/data/mdb-solos-train-soundscapes/test...\n"
     ]
    },
    {
     "name": "stderr",
     "output_type": "stream",
     "text": [
      "\n",
      "100%|██████████| 12236/12236 [00:00<00:00, 50613.82it/s]\n",
      "100%|██████████| 3494/3494 [00:00<00:00, 50711.80it/s]\n",
      "/home/hugo/lab/venv/lib/python3.8/site-packages/pytorch_lightning/utilities/distributed.py:45: UserWarning: Checkpoint directory /home/hugo/lab/instrument-recognition/test-tubes/transformer-search/seed=23_rnn=xfmr-64_recurrence_num_layers=4_/version_0/checkpoints exists and is not empty. With save_top_k=3, all files in this directory will be deleted when a checkpoint is saved!\n",
      "  warnings.warn(*args, **kwargs)\n",
      "GPU available: True, used: False\n",
      "TPU available: False, using: 0 TPU cores\n"
     ]
    },
    {
     "name": "stdout",
     "output_type": "stream",
     "text": [
      "found 12236 entries\n",
      "{'clarinet': 732, 'piano': 2609, 'violin': 2900, 'tenor saxophone': 325, 'flute': 3167, 'distorted electric guitar': 955, 'female singer': 1142, 'trumpet': 406}\n",
      "loading metadata from /home/hugo/lab/instrument-recognition/data/mdb-solos-train-soundscapes/validation...\n",
      "found 3494 entries\n",
      "{'clarinet': 328, 'piano': 1022, 'flute': 233, 'female singer': 284, 'tenor saxophone': 29, 'violin': 1031, 'distorted electric guitar': 495, 'trumpet': 72}\n",
      "train entries: 5208\n",
      "val entries: 3494\n",
      "found checkpoint: /home/hugo/lab/instrument-recognition/test-tubes/transformer-search/seed=23_rnn=xfmr-64_recurrence_num_layers=4_/version_0/checkpoints/epoch=04-fscore_val=0.93.ckpt\n"
     ]
    },
    {
     "data": {
      "application/vnd.jupyter.widget-view+json": {
       "model_id": "5729865401d34f5ca834c3d93adf3c9b",
       "version_major": 2,
       "version_minor": 0
      },
      "text/plain": [
       "HBox(children=(HTML(value='Testing'), FloatProgress(value=1.0, bar_style='info', layout=Layout(flex='2'), max=…"
      ]
     },
     "metadata": {},
     "output_type": "display_data"
    },
    {
     "name": "stdout",
     "output_type": "stream",
     "text": [
      "--------------------------------------------------------------------------------\n",
      "DATALOADER:0 TEST RESULTS\n",
      "{'ECE/test': 0.11277837518404106,\n",
      " 'accuracy/test': 0.846082597798845,\n",
      " 'fscore/test': 0.8350236776813235,\n",
      " 'fscore_test': 0.8350236776813235,\n",
      " 'loss/test': tensor(0.8630),\n",
      " 'loss_test': tensor(0.8630),\n",
      " 'precision/test': 0.8620436454947423,\n",
      " 'recall/test': 0.846082597798845}\n",
      "--------------------------------------------------------------------------------\n",
      "\n",
      "found checkpoint: /home/hugo/lab/instrument-recognition/test-tubes/transformer-search/seed=433_rnn=xfmr-4_recurrence_num_layers=6_/version_0/checkpoints/epoch=93-fscore_val=0.94.ckpt\n",
      "found checkpoint: /home/hugo/lab/instrument-recognition/test-tubes/transformer-search/seed=433_rnn=xfmr-4_recurrence_num_layers=6_/version_0/checkpoints/epoch=93-fscore_val=0.94.ckpt\n",
      "/home/hugo/lab/instrument-recognition/test-tubes/transformer-search/seed=433_rnn=xfmr-4_recurrence_num_layers=6_/version_0\n",
      "/home/hugo/lab/instrument-recognition/test-tubes/transformer-search/seed=433_rnn=xfmr-4_recurrence_num_layers=6_/version_0/checkpoints/epoch=93-fscore_val=0.94.ckpt\n",
      "loading metadata from /home/hugo/lab/instrument-recognition/data/mdb-solos-train-soundscapes/train...\n"
     ]
    },
    {
     "name": "stderr",
     "output_type": "stream",
     "text": [
      "100%|██████████| 5208/5208 [00:00<00:00, 36676.99it/s]\n",
      " 32%|███▏      | 3966/12236 [00:00<00:00, 39658.34it/s]"
     ]
    },
    {
     "name": "stdout",
     "output_type": "stream",
     "text": [
      "found 5208 entries\n",
      "{'trumpet': 1965, 'clarinet': 1966, 'tenor saxophone': 1914, 'piano': 1941, 'violin': 1948, 'female singer': 2011, 'flute': 1932, 'distorted electric guitar': 1945}\n",
      "loading metadata from /home/hugo/lab/instrument-recognition/data/mdb-solos-train-soundscapes/test...\n"
     ]
    },
    {
     "name": "stderr",
     "output_type": "stream",
     "text": [
      "100%|██████████| 12236/12236 [00:00<00:00, 45237.23it/s]\n",
      "100%|██████████| 3494/3494 [00:00<00:00, 49178.83it/s]\n",
      "/home/hugo/lab/venv/lib/python3.8/site-packages/pytorch_lightning/utilities/distributed.py:45: UserWarning: Checkpoint directory /home/hugo/lab/instrument-recognition/test-tubes/transformer-search/seed=433_rnn=xfmr-4_recurrence_num_layers=6_/version_0/checkpoints exists and is not empty. With save_top_k=3, all files in this directory will be deleted when a checkpoint is saved!\n",
      "  warnings.warn(*args, **kwargs)\n",
      "GPU available: True, used: False\n",
      "TPU available: False, using: 0 TPU cores\n"
     ]
    },
    {
     "name": "stdout",
     "output_type": "stream",
     "text": [
      "found 12236 entries\n",
      "{'clarinet': 732, 'piano': 2609, 'violin': 2900, 'tenor saxophone': 325, 'flute': 3167, 'distorted electric guitar': 955, 'female singer': 1142, 'trumpet': 406}\n",
      "loading metadata from /home/hugo/lab/instrument-recognition/data/mdb-solos-train-soundscapes/validation...\n",
      "found 3494 entries\n",
      "{'clarinet': 328, 'piano': 1022, 'flute': 233, 'female singer': 284, 'tenor saxophone': 29, 'violin': 1031, 'distorted electric guitar': 495, 'trumpet': 72}\n",
      "train entries: 5208\n",
      "val entries: 3494\n",
      "found checkpoint: /home/hugo/lab/instrument-recognition/test-tubes/transformer-search/seed=433_rnn=xfmr-4_recurrence_num_layers=6_/version_0/checkpoints/epoch=93-fscore_val=0.94.ckpt\n"
     ]
    },
    {
     "data": {
      "application/vnd.jupyter.widget-view+json": {
       "model_id": "310cbac7c2aa42559964fdb4e1d1d4f9",
       "version_major": 2,
       "version_minor": 0
      },
      "text/plain": [
       "HBox(children=(HTML(value='Testing'), FloatProgress(value=1.0, bar_style='info', layout=Layout(flex='2'), max=…"
      ]
     },
     "metadata": {},
     "output_type": "display_data"
    },
    {
     "name": "stdout",
     "output_type": "stream",
     "text": [
      "--------------------------------------------------------------------------------\n",
      "DATALOADER:0 TEST RESULTS\n",
      "{'ECE/test': 0.15741560086924564,\n",
      " 'accuracy/test': 0.8125476735316552,\n",
      " 'fscore/test': 0.8040838116953237,\n",
      " 'fscore_test': 0.8040838116953237,\n",
      " 'loss/test': tensor(1.3229),\n",
      " 'loss_test': tensor(1.3229),\n",
      " 'precision/test': 0.8479539089431104,\n",
      " 'recall/test': 0.8125476735316552}\n",
      "--------------------------------------------------------------------------------\n",
      "\n",
      "found checkpoint: /home/hugo/lab/instrument-recognition/test-tubes/transformer-search/seed=23_rnn=xfmr-2_recurrence_num_layers=8_/version_0/checkpoints/epoch=12-fscore_val=0.93.ckpt\n",
      "found checkpoint: /home/hugo/lab/instrument-recognition/test-tubes/transformer-search/seed=23_rnn=xfmr-2_recurrence_num_layers=8_/version_0/checkpoints/epoch=12-fscore_val=0.93.ckpt\n",
      "/home/hugo/lab/instrument-recognition/test-tubes/transformer-search/seed=23_rnn=xfmr-2_recurrence_num_layers=8_/version_0\n",
      "/home/hugo/lab/instrument-recognition/test-tubes/transformer-search/seed=23_rnn=xfmr-2_recurrence_num_layers=8_/version_0/checkpoints/epoch=12-fscore_val=0.93.ckpt\n"
     ]
    },
    {
     "name": "stderr",
     "output_type": "stream",
     "text": [
      "100%|██████████| 5208/5208 [00:00<00:00, 41551.62it/s]"
     ]
    },
    {
     "name": "stdout",
     "output_type": "stream",
     "text": [
      "loading metadata from /home/hugo/lab/instrument-recognition/data/mdb-solos-train-soundscapes/train...\n",
      "found 5208 entries\n",
      "{'trumpet': 1965, 'clarinet': 1966, 'tenor saxophone': 1914, 'piano': 1941, 'violin': 1948, 'female singer': 2011, 'flute': 1932, 'distorted electric guitar': 1945}\n",
      "loading metadata from /home/hugo/lab/instrument-recognition/data/mdb-solos-train-soundscapes/test...\n"
     ]
    },
    {
     "name": "stderr",
     "output_type": "stream",
     "text": [
      "\n",
      "100%|██████████| 12236/12236 [00:00<00:00, 49540.62it/s]\n",
      "100%|██████████| 3494/3494 [00:00<00:00, 48567.48it/s]\n",
      "/home/hugo/lab/venv/lib/python3.8/site-packages/pytorch_lightning/utilities/distributed.py:45: UserWarning: Checkpoint directory /home/hugo/lab/instrument-recognition/test-tubes/transformer-search/seed=23_rnn=xfmr-2_recurrence_num_layers=8_/version_0/checkpoints exists and is not empty. With save_top_k=3, all files in this directory will be deleted when a checkpoint is saved!\n",
      "  warnings.warn(*args, **kwargs)\n",
      "GPU available: True, used: False\n",
      "TPU available: False, using: 0 TPU cores\n"
     ]
    },
    {
     "name": "stdout",
     "output_type": "stream",
     "text": [
      "found 12236 entries\n",
      "{'clarinet': 732, 'piano': 2609, 'violin': 2900, 'tenor saxophone': 325, 'flute': 3167, 'distorted electric guitar': 955, 'female singer': 1142, 'trumpet': 406}\n",
      "loading metadata from /home/hugo/lab/instrument-recognition/data/mdb-solos-train-soundscapes/validation...\n",
      "found 3494 entries\n",
      "{'clarinet': 328, 'piano': 1022, 'flute': 233, 'female singer': 284, 'tenor saxophone': 29, 'violin': 1031, 'distorted electric guitar': 495, 'trumpet': 72}\n",
      "train entries: 5208\n",
      "val entries: 3494\n",
      "found checkpoint: /home/hugo/lab/instrument-recognition/test-tubes/transformer-search/seed=23_rnn=xfmr-2_recurrence_num_layers=8_/version_0/checkpoints/epoch=12-fscore_val=0.93.ckpt\n"
     ]
    },
    {
     "data": {
      "application/vnd.jupyter.widget-view+json": {
       "model_id": "c1463addb3d64015827425ad6d1d5eb6",
       "version_major": 2,
       "version_minor": 0
      },
      "text/plain": [
       "HBox(children=(HTML(value='Testing'), FloatProgress(value=1.0, bar_style='info', layout=Layout(flex='2'), max=…"
      ]
     },
     "metadata": {},
     "output_type": "display_data"
    },
    {
     "name": "stdout",
     "output_type": "stream",
     "text": [
      "--------------------------------------------------------------------------------\n",
      "DATALOADER:0 TEST RESULTS\n",
      "{'ECE/test': 0.12320509023450482,\n",
      " 'accuracy/test': 0.8543914133158984,\n",
      " 'fscore/test': 0.8449467826506725,\n",
      " 'fscore_test': 0.8449467826506725,\n",
      " 'loss/test': tensor(1.0019),\n",
      " 'loss_test': tensor(1.0019),\n",
      " 'precision/test': 0.8678192962106596,\n",
      " 'recall/test': 0.8543914133158984}\n",
      "--------------------------------------------------------------------------------\n",
      "\n",
      "found checkpoint: /home/hugo/lab/instrument-recognition/test-tubes/transformer-search/seed=11_rnn=xfmr-1_recurrence_num_layers=8_/version_0/checkpoints/epoch=20-fscore_val=0.92.ckpt\n",
      "found checkpoint: /home/hugo/lab/instrument-recognition/test-tubes/transformer-search/seed=11_rnn=xfmr-1_recurrence_num_layers=8_/version_0/checkpoints/epoch=20-fscore_val=0.92.ckpt\n",
      "/home/hugo/lab/instrument-recognition/test-tubes/transformer-search/seed=11_rnn=xfmr-1_recurrence_num_layers=8_/version_0\n",
      "/home/hugo/lab/instrument-recognition/test-tubes/transformer-search/seed=11_rnn=xfmr-1_recurrence_num_layers=8_/version_0/checkpoints/epoch=20-fscore_val=0.92.ckpt\n"
     ]
    },
    {
     "name": "stderr",
     "output_type": "stream",
     "text": [
      "100%|██████████| 5208/5208 [00:00<00:00, 41926.62it/s]"
     ]
    },
    {
     "name": "stdout",
     "output_type": "stream",
     "text": [
      "loading metadata from /home/hugo/lab/instrument-recognition/data/mdb-solos-train-soundscapes/train...\n",
      "found 5208 entries\n",
      "{'trumpet': 1965, 'clarinet': 1966, 'tenor saxophone': 1914, 'piano': 1941, 'violin': 1948, 'female singer': 2011, 'flute': 1932, 'distorted electric guitar': 1945}\n",
      "loading metadata from /home/hugo/lab/instrument-recognition/data/mdb-solos-train-soundscapes/test...\n"
     ]
    },
    {
     "name": "stderr",
     "output_type": "stream",
     "text": [
      "\n",
      "100%|██████████| 12236/12236 [00:01<00:00, 9178.65it/s]\n",
      "100%|██████████| 3494/3494 [00:00<00:00, 40559.89it/s]\n",
      "/home/hugo/lab/venv/lib/python3.8/site-packages/pytorch_lightning/utilities/distributed.py:45: UserWarning: Checkpoint directory /home/hugo/lab/instrument-recognition/test-tubes/transformer-search/seed=11_rnn=xfmr-1_recurrence_num_layers=8_/version_0/checkpoints exists and is not empty. With save_top_k=3, all files in this directory will be deleted when a checkpoint is saved!\n",
      "  warnings.warn(*args, **kwargs)\n",
      "GPU available: True, used: False\n",
      "TPU available: False, using: 0 TPU cores\n"
     ]
    },
    {
     "name": "stdout",
     "output_type": "stream",
     "text": [
      "found 12236 entries\n",
      "{'clarinet': 732, 'piano': 2609, 'violin': 2900, 'tenor saxophone': 325, 'flute': 3167, 'distorted electric guitar': 955, 'female singer': 1142, 'trumpet': 406}\n",
      "loading metadata from /home/hugo/lab/instrument-recognition/data/mdb-solos-train-soundscapes/validation...\n",
      "found 3494 entries\n",
      "{'clarinet': 328, 'piano': 1022, 'flute': 233, 'female singer': 284, 'tenor saxophone': 29, 'violin': 1031, 'distorted electric guitar': 495, 'trumpet': 72}\n",
      "train entries: 5208\n",
      "val entries: 3494\n",
      "found checkpoint: /home/hugo/lab/instrument-recognition/test-tubes/transformer-search/seed=11_rnn=xfmr-1_recurrence_num_layers=8_/version_0/checkpoints/epoch=20-fscore_val=0.92.ckpt\n"
     ]
    },
    {
     "data": {
      "application/vnd.jupyter.widget-view+json": {
       "model_id": "4774d9fae2104c71a712411a1fa851f3",
       "version_major": 2,
       "version_minor": 0
      },
      "text/plain": [
       "HBox(children=(HTML(value='Testing'), FloatProgress(value=1.0, bar_style='info', layout=Layout(flex='2'), max=…"
      ]
     },
     "metadata": {},
     "output_type": "display_data"
    },
    {
     "name": "stdout",
     "output_type": "stream",
     "text": [
      "--------------------------------------------------------------------------------\n",
      "DATALOADER:0 TEST RESULTS\n",
      "{'ECE/test': 0.11609654017121585,\n",
      " 'accuracy/test': 0.8582870219025825,\n",
      " 'fscore/test': 0.8500265604924411,\n",
      " 'fscore_test': 0.8500265604924411,\n",
      " 'loss/test': tensor(0.8946),\n",
      " 'loss_test': tensor(0.8946),\n",
      " 'precision/test': 0.8712590958603116,\n",
      " 'recall/test': 0.8582870219025825}\n",
      "--------------------------------------------------------------------------------\n",
      "\n",
      "found checkpoint: /home/hugo/lab/instrument-recognition/test-tubes/transformer-search/seed=440_rnn=xfmr-4_recurrence_num_layers=8_/version_0/checkpoints/epoch=25-fscore_val=0.93.ckpt\n",
      "found checkpoint: /home/hugo/lab/instrument-recognition/test-tubes/transformer-search/seed=440_rnn=xfmr-4_recurrence_num_layers=8_/version_0/checkpoints/epoch=25-fscore_val=0.93.ckpt\n",
      "/home/hugo/lab/instrument-recognition/test-tubes/transformer-search/seed=440_rnn=xfmr-4_recurrence_num_layers=8_/version_0\n",
      "/home/hugo/lab/instrument-recognition/test-tubes/transformer-search/seed=440_rnn=xfmr-4_recurrence_num_layers=8_/version_0/checkpoints/epoch=25-fscore_val=0.93.ckpt\n"
     ]
    },
    {
     "name": "stderr",
     "output_type": "stream",
     "text": [
      "100%|██████████| 5208/5208 [00:00<00:00, 41506.14it/s]"
     ]
    },
    {
     "name": "stdout",
     "output_type": "stream",
     "text": [
      "loading metadata from /home/hugo/lab/instrument-recognition/data/mdb-solos-train-soundscapes/train...\n",
      "found 5208 entries\n",
      "{'trumpet': 1965, 'clarinet': 1966, 'tenor saxophone': 1914, 'piano': 1941, 'violin': 1948, 'female singer': 2011, 'flute': 1932, 'distorted electric guitar': 1945}\n",
      "loading metadata from /home/hugo/lab/instrument-recognition/data/mdb-solos-train-soundscapes/test...\n"
     ]
    },
    {
     "name": "stderr",
     "output_type": "stream",
     "text": [
      "\n",
      "100%|██████████| 12236/12236 [00:00<00:00, 49487.07it/s]\n",
      "100%|██████████| 3494/3494 [00:00<00:00, 48597.60it/s]\n",
      "/home/hugo/lab/venv/lib/python3.8/site-packages/pytorch_lightning/utilities/distributed.py:45: UserWarning: Checkpoint directory /home/hugo/lab/instrument-recognition/test-tubes/transformer-search/seed=440_rnn=xfmr-4_recurrence_num_layers=8_/version_0/checkpoints exists and is not empty. With save_top_k=3, all files in this directory will be deleted when a checkpoint is saved!\n",
      "  warnings.warn(*args, **kwargs)\n",
      "GPU available: True, used: False\n",
      "TPU available: False, using: 0 TPU cores\n"
     ]
    },
    {
     "name": "stdout",
     "output_type": "stream",
     "text": [
      "found 12236 entries\n",
      "{'clarinet': 732, 'piano': 2609, 'violin': 2900, 'tenor saxophone': 325, 'flute': 3167, 'distorted electric guitar': 955, 'female singer': 1142, 'trumpet': 406}\n",
      "loading metadata from /home/hugo/lab/instrument-recognition/data/mdb-solos-train-soundscapes/validation...\n",
      "found 3494 entries\n",
      "{'clarinet': 328, 'piano': 1022, 'flute': 233, 'female singer': 284, 'tenor saxophone': 29, 'violin': 1031, 'distorted electric guitar': 495, 'trumpet': 72}\n",
      "train entries: 5208\n",
      "val entries: 3494\n",
      "found checkpoint: /home/hugo/lab/instrument-recognition/test-tubes/transformer-search/seed=440_rnn=xfmr-4_recurrence_num_layers=8_/version_0/checkpoints/epoch=25-fscore_val=0.93.ckpt\n"
     ]
    },
    {
     "data": {
      "application/vnd.jupyter.widget-view+json": {
       "model_id": "5e1142ede91e42388dd10dc68a6e1444",
       "version_major": 2,
       "version_minor": 0
      },
      "text/plain": [
       "HBox(children=(HTML(value='Testing'), FloatProgress(value=1.0, bar_style='info', layout=Layout(flex='2'), max=…"
      ]
     },
     "metadata": {},
     "output_type": "display_data"
    },
    {
     "name": "stdout",
     "output_type": "stream",
     "text": [
      "--------------------------------------------------------------------------------\n",
      "DATALOADER:0 TEST RESULTS\n",
      "{'ECE/test': 0.11580698344346238,\n",
      " 'accuracy/test': 0.8311267298681486,\n",
      " 'fscore/test': 0.8190879281084419,\n",
      " 'fscore_test': 0.8190879281084419,\n",
      " 'loss/test': tensor(0.8713),\n",
      " 'loss_test': tensor(0.8713),\n",
      " 'precision/test': 0.8531228913089822,\n",
      " 'recall/test': 0.8311267298681486}\n",
      "--------------------------------------------------------------------------------\n",
      "\n",
      "found checkpoint: /home/hugo/lab/instrument-recognition/test-tubes/transformer-search/seed=23_rnn=xfmr-16_recurrence_num_layers=6_/version_0/checkpoints/epoch=48-fscore_val=0.93.ckpt\n",
      "found checkpoint: /home/hugo/lab/instrument-recognition/test-tubes/transformer-search/seed=23_rnn=xfmr-16_recurrence_num_layers=6_/version_0/checkpoints/epoch=48-fscore_val=0.93.ckpt\n",
      "/home/hugo/lab/instrument-recognition/test-tubes/transformer-search/seed=23_rnn=xfmr-16_recurrence_num_layers=6_/version_0\n",
      "/home/hugo/lab/instrument-recognition/test-tubes/transformer-search/seed=23_rnn=xfmr-16_recurrence_num_layers=6_/version_0/checkpoints/epoch=48-fscore_val=0.93.ckpt\n"
     ]
    },
    {
     "name": "stderr",
     "output_type": "stream",
     "text": [
      "100%|██████████| 5208/5208 [00:00<00:00, 41128.60it/s]"
     ]
    },
    {
     "name": "stdout",
     "output_type": "stream",
     "text": [
      "loading metadata from /home/hugo/lab/instrument-recognition/data/mdb-solos-train-soundscapes/train...\n",
      "found 5208 entries\n",
      "{'trumpet': 1965, 'clarinet': 1966, 'tenor saxophone': 1914, 'piano': 1941, 'violin': 1948, 'female singer': 2011, 'flute': 1932, 'distorted electric guitar': 1945}\n",
      "loading metadata from /home/hugo/lab/instrument-recognition/data/mdb-solos-train-soundscapes/test...\n"
     ]
    },
    {
     "name": "stderr",
     "output_type": "stream",
     "text": [
      "\n",
      "100%|██████████| 12236/12236 [00:00<00:00, 45950.74it/s]\n",
      "100%|██████████| 3494/3494 [00:00<00:00, 48944.78it/s]\n",
      "/home/hugo/lab/venv/lib/python3.8/site-packages/pytorch_lightning/utilities/distributed.py:45: UserWarning: Checkpoint directory /home/hugo/lab/instrument-recognition/test-tubes/transformer-search/seed=23_rnn=xfmr-16_recurrence_num_layers=6_/version_0/checkpoints exists and is not empty. With save_top_k=3, all files in this directory will be deleted when a checkpoint is saved!\n",
      "  warnings.warn(*args, **kwargs)\n",
      "GPU available: True, used: False\n",
      "TPU available: False, using: 0 TPU cores\n"
     ]
    },
    {
     "name": "stdout",
     "output_type": "stream",
     "text": [
      "found 12236 entries\n",
      "{'clarinet': 732, 'piano': 2609, 'violin': 2900, 'tenor saxophone': 325, 'flute': 3167, 'distorted electric guitar': 955, 'female singer': 1142, 'trumpet': 406}\n",
      "loading metadata from /home/hugo/lab/instrument-recognition/data/mdb-solos-train-soundscapes/validation...\n",
      "found 3494 entries\n",
      "{'clarinet': 328, 'piano': 1022, 'flute': 233, 'female singer': 284, 'tenor saxophone': 29, 'violin': 1031, 'distorted electric guitar': 495, 'trumpet': 72}\n",
      "train entries: 5208\n",
      "val entries: 3494\n",
      "found checkpoint: /home/hugo/lab/instrument-recognition/test-tubes/transformer-search/seed=23_rnn=xfmr-16_recurrence_num_layers=6_/version_0/checkpoints/epoch=48-fscore_val=0.93.ckpt\n"
     ]
    },
    {
     "data": {
      "application/vnd.jupyter.widget-view+json": {
       "model_id": "b9fc1aaddcfc4089967bf48480da1e97",
       "version_major": 2,
       "version_minor": 0
      },
      "text/plain": [
       "HBox(children=(HTML(value='Testing'), FloatProgress(value=1.0, bar_style='info', layout=Layout(flex='2'), max=…"
      ]
     },
     "metadata": {},
     "output_type": "display_data"
    },
    {
     "name": "stdout",
     "output_type": "stream",
     "text": [
      "--------------------------------------------------------------------------------\n",
      "DATALOADER:0 TEST RESULTS\n",
      "{'ECE/test': 0.15174801141702354,\n",
      " 'accuracy/test': 0.8264683447749809,\n",
      " 'fscore/test': 0.8129835276418172,\n",
      " 'fscore_test': 0.8129835276418172,\n",
      " 'loss/test': tensor(1.3583),\n",
      " 'loss_test': tensor(1.3583),\n",
      " 'precision/test': 0.8460356653840848,\n",
      " 'recall/test': 0.8264683447749809}\n",
      "--------------------------------------------------------------------------------\n",
      "\n",
      "found checkpoint: /home/hugo/lab/instrument-recognition/test-tubes/transformer-search/seed=440_rnn=xfmr-1_recurrence_num_layers=6_/version_0/checkpoints/epoch=19-fscore_val=0.93.ckpt\n",
      "found checkpoint: /home/hugo/lab/instrument-recognition/test-tubes/transformer-search/seed=440_rnn=xfmr-1_recurrence_num_layers=6_/version_0/checkpoints/epoch=19-fscore_val=0.93.ckpt\n",
      "/home/hugo/lab/instrument-recognition/test-tubes/transformer-search/seed=440_rnn=xfmr-1_recurrence_num_layers=6_/version_0\n",
      "/home/hugo/lab/instrument-recognition/test-tubes/transformer-search/seed=440_rnn=xfmr-1_recurrence_num_layers=6_/version_0/checkpoints/epoch=19-fscore_val=0.93.ckpt\n",
      "loading metadata from /home/hugo/lab/instrument-recognition/data/mdb-solos-train-soundscapes/train...\n"
     ]
    },
    {
     "name": "stderr",
     "output_type": "stream",
     "text": [
      "100%|██████████| 5208/5208 [00:00<00:00, 41634.62it/s]\n",
      " 41%|████      | 4980/12236 [00:00<00:00, 49792.45it/s]"
     ]
    },
    {
     "name": "stdout",
     "output_type": "stream",
     "text": [
      "found 5208 entries\n",
      "{'trumpet': 1965, 'clarinet': 1966, 'tenor saxophone': 1914, 'piano': 1941, 'violin': 1948, 'female singer': 2011, 'flute': 1932, 'distorted electric guitar': 1945}\n",
      "loading metadata from /home/hugo/lab/instrument-recognition/data/mdb-solos-train-soundscapes/test...\n"
     ]
    },
    {
     "name": "stderr",
     "output_type": "stream",
     "text": [
      "100%|██████████| 12236/12236 [00:00<00:00, 45684.21it/s]\n",
      "100%|██████████| 3494/3494 [00:00<00:00, 49258.84it/s]\n",
      "/home/hugo/lab/venv/lib/python3.8/site-packages/pytorch_lightning/utilities/distributed.py:45: UserWarning: Checkpoint directory /home/hugo/lab/instrument-recognition/test-tubes/transformer-search/seed=440_rnn=xfmr-1_recurrence_num_layers=6_/version_0/checkpoints exists and is not empty. With save_top_k=3, all files in this directory will be deleted when a checkpoint is saved!\n",
      "  warnings.warn(*args, **kwargs)\n",
      "GPU available: True, used: False\n",
      "TPU available: False, using: 0 TPU cores\n"
     ]
    },
    {
     "name": "stdout",
     "output_type": "stream",
     "text": [
      "found 12236 entries\n",
      "{'clarinet': 732, 'piano': 2609, 'violin': 2900, 'tenor saxophone': 325, 'flute': 3167, 'distorted electric guitar': 955, 'female singer': 1142, 'trumpet': 406}\n",
      "loading metadata from /home/hugo/lab/instrument-recognition/data/mdb-solos-train-soundscapes/validation...\n",
      "found 3494 entries\n",
      "{'clarinet': 328, 'piano': 1022, 'flute': 233, 'female singer': 284, 'tenor saxophone': 29, 'violin': 1031, 'distorted electric guitar': 495, 'trumpet': 72}\n",
      "train entries: 5208\n",
      "val entries: 3494\n",
      "found checkpoint: /home/hugo/lab/instrument-recognition/test-tubes/transformer-search/seed=440_rnn=xfmr-1_recurrence_num_layers=6_/version_0/checkpoints/epoch=19-fscore_val=0.93.ckpt\n"
     ]
    },
    {
     "data": {
      "application/vnd.jupyter.widget-view+json": {
       "model_id": "82538c04fbea4b0aa1b33b8d6c29a6ca",
       "version_major": 2,
       "version_minor": 0
      },
      "text/plain": [
       "HBox(children=(HTML(value='Testing'), FloatProgress(value=1.0, bar_style='info', layout=Layout(flex='2'), max=…"
      ]
     },
     "metadata": {},
     "output_type": "display_data"
    },
    {
     "name": "stdout",
     "output_type": "stream",
     "text": [
      "--------------------------------------------------------------------------------\n",
      "DATALOADER:0 TEST RESULTS\n",
      "{'ECE/test': 0.13921875662763122,\n",
      " 'accuracy/test': 0.8373923940285496,\n",
      " 'fscore/test': 0.8234027583966602,\n",
      " 'fscore_test': 0.8234027583966602,\n",
      " 'loss/test': tensor(1.1764),\n",
      " 'loss_test': tensor(1.1764),\n",
      " 'precision/test': 0.8579655701517627,\n",
      " 'recall/test': 0.8373923940285496}\n",
      "--------------------------------------------------------------------------------\n",
      "\n",
      "found checkpoint: /home/hugo/lab/instrument-recognition/test-tubes/transformer-search/seed=440_rnn=xfmr-64_recurrence_num_layers=6_/version_0/checkpoints/epoch=05-fscore_val=0.92.ckpt\n",
      "found checkpoint: /home/hugo/lab/instrument-recognition/test-tubes/transformer-search/seed=440_rnn=xfmr-64_recurrence_num_layers=6_/version_0/checkpoints/epoch=05-fscore_val=0.92.ckpt\n",
      "/home/hugo/lab/instrument-recognition/test-tubes/transformer-search/seed=440_rnn=xfmr-64_recurrence_num_layers=6_/version_0\n",
      "/home/hugo/lab/instrument-recognition/test-tubes/transformer-search/seed=440_rnn=xfmr-64_recurrence_num_layers=6_/version_0/checkpoints/epoch=05-fscore_val=0.92.ckpt\n"
     ]
    },
    {
     "name": "stderr",
     "output_type": "stream",
     "text": [
      " 81%|████████  | 4212/5208 [00:00<00:00, 42116.43it/s]"
     ]
    },
    {
     "name": "stdout",
     "output_type": "stream",
     "text": [
      "loading metadata from /home/hugo/lab/instrument-recognition/data/mdb-solos-train-soundscapes/train...\n"
     ]
    },
    {
     "name": "stderr",
     "output_type": "stream",
     "text": [
      "100%|██████████| 5208/5208 [00:01<00:00, 4180.83it/s] \n",
      " 40%|███▉      | 4888/12236 [00:00<00:00, 48875.27it/s]"
     ]
    },
    {
     "name": "stdout",
     "output_type": "stream",
     "text": [
      "found 5208 entries\n",
      "{'trumpet': 1965, 'clarinet': 1966, 'tenor saxophone': 1914, 'piano': 1941, 'violin': 1948, 'female singer': 2011, 'flute': 1932, 'distorted electric guitar': 1945}\n",
      "loading metadata from /home/hugo/lab/instrument-recognition/data/mdb-solos-train-soundscapes/test...\n"
     ]
    },
    {
     "name": "stderr",
     "output_type": "stream",
     "text": [
      "100%|██████████| 12236/12236 [00:00<00:00, 42251.64it/s]\n",
      "100%|██████████| 3494/3494 [00:00<00:00, 50218.62it/s]\n",
      "/home/hugo/lab/venv/lib/python3.8/site-packages/pytorch_lightning/utilities/distributed.py:45: UserWarning: Checkpoint directory /home/hugo/lab/instrument-recognition/test-tubes/transformer-search/seed=440_rnn=xfmr-64_recurrence_num_layers=6_/version_0/checkpoints exists and is not empty. With save_top_k=3, all files in this directory will be deleted when a checkpoint is saved!\n",
      "  warnings.warn(*args, **kwargs)\n",
      "GPU available: True, used: False\n",
      "TPU available: False, using: 0 TPU cores\n"
     ]
    },
    {
     "name": "stdout",
     "output_type": "stream",
     "text": [
      "found 12236 entries\n",
      "{'clarinet': 732, 'piano': 2609, 'violin': 2900, 'tenor saxophone': 325, 'flute': 3167, 'distorted electric guitar': 955, 'female singer': 1142, 'trumpet': 406}\n",
      "loading metadata from /home/hugo/lab/instrument-recognition/data/mdb-solos-train-soundscapes/validation...\n",
      "found 3494 entries\n",
      "{'clarinet': 328, 'piano': 1022, 'flute': 233, 'female singer': 284, 'tenor saxophone': 29, 'violin': 1031, 'distorted electric guitar': 495, 'trumpet': 72}\n",
      "train entries: 5208\n",
      "val entries: 3494\n",
      "found checkpoint: /home/hugo/lab/instrument-recognition/test-tubes/transformer-search/seed=440_rnn=xfmr-64_recurrence_num_layers=6_/version_0/checkpoints/epoch=05-fscore_val=0.92.ckpt\n"
     ]
    },
    {
     "data": {
      "application/vnd.jupyter.widget-view+json": {
       "model_id": "c72a7e1d23b748e285047dedf71a21e0",
       "version_major": 2,
       "version_minor": 0
      },
      "text/plain": [
       "HBox(children=(HTML(value='Testing'), FloatProgress(value=1.0, bar_style='info', layout=Layout(flex='2'), max=…"
      ]
     },
     "metadata": {},
     "output_type": "display_data"
    },
    {
     "name": "stdout",
     "output_type": "stream",
     "text": [
      "--------------------------------------------------------------------------------\n",
      "DATALOADER:0 TEST RESULTS\n",
      "{'ECE/test': 0.12556572403716953,\n",
      " 'accuracy/test': 0.8404162580363953,\n",
      " 'fscore/test': 0.8284680486763949,\n",
      " 'fscore_test': 0.8284680486763949,\n",
      " 'loss/test': tensor(0.9587),\n",
      " 'loss_test': tensor(0.9587),\n",
      " 'precision/test': 0.8555767382948907,\n",
      " 'recall/test': 0.8404162580363953}\n",
      "--------------------------------------------------------------------------------\n",
      "\n",
      "found checkpoint: /home/hugo/lab/instrument-recognition/test-tubes/transformer-search/seed=11_rnn=xfmr-32_recurrence_num_layers=6_/version_0/checkpoints/epoch=04-fscore_val=0.93.ckpt\n",
      "found checkpoint: /home/hugo/lab/instrument-recognition/test-tubes/transformer-search/seed=11_rnn=xfmr-32_recurrence_num_layers=6_/version_0/checkpoints/epoch=04-fscore_val=0.93.ckpt\n",
      "/home/hugo/lab/instrument-recognition/test-tubes/transformer-search/seed=11_rnn=xfmr-32_recurrence_num_layers=6_/version_0\n",
      "/home/hugo/lab/instrument-recognition/test-tubes/transformer-search/seed=11_rnn=xfmr-32_recurrence_num_layers=6_/version_0/checkpoints/epoch=04-fscore_val=0.93.ckpt\n"
     ]
    },
    {
     "name": "stderr",
     "output_type": "stream",
     "text": [
      "100%|██████████| 5208/5208 [00:00<00:00, 41014.70it/s]"
     ]
    },
    {
     "name": "stdout",
     "output_type": "stream",
     "text": [
      "loading metadata from /home/hugo/lab/instrument-recognition/data/mdb-solos-train-soundscapes/train...\n",
      "found 5208 entries\n",
      "{'trumpet': 1965, 'clarinet': 1966, 'tenor saxophone': 1914, 'piano': 1941, 'violin': 1948, 'female singer': 2011, 'flute': 1932, 'distorted electric guitar': 1945}\n",
      "loading metadata from /home/hugo/lab/instrument-recognition/data/mdb-solos-train-soundscapes/test...\n"
     ]
    },
    {
     "name": "stderr",
     "output_type": "stream",
     "text": [
      "\n",
      "100%|██████████| 12236/12236 [00:00<00:00, 49262.01it/s]\n",
      "100%|██████████| 3494/3494 [00:00<00:00, 49294.46it/s]\n",
      "/home/hugo/lab/venv/lib/python3.8/site-packages/pytorch_lightning/utilities/distributed.py:45: UserWarning: Checkpoint directory /home/hugo/lab/instrument-recognition/test-tubes/transformer-search/seed=11_rnn=xfmr-32_recurrence_num_layers=6_/version_0/checkpoints exists and is not empty. With save_top_k=3, all files in this directory will be deleted when a checkpoint is saved!\n",
      "  warnings.warn(*args, **kwargs)\n",
      "GPU available: True, used: False\n",
      "TPU available: False, using: 0 TPU cores\n"
     ]
    },
    {
     "name": "stdout",
     "output_type": "stream",
     "text": [
      "found 12236 entries\n",
      "{'clarinet': 732, 'piano': 2609, 'violin': 2900, 'tenor saxophone': 325, 'flute': 3167, 'distorted electric guitar': 955, 'female singer': 1142, 'trumpet': 406}\n",
      "loading metadata from /home/hugo/lab/instrument-recognition/data/mdb-solos-train-soundscapes/validation...\n",
      "found 3494 entries\n",
      "{'clarinet': 328, 'piano': 1022, 'flute': 233, 'female singer': 284, 'tenor saxophone': 29, 'violin': 1031, 'distorted electric guitar': 495, 'trumpet': 72}\n",
      "train entries: 5208\n",
      "val entries: 3494\n",
      "found checkpoint: /home/hugo/lab/instrument-recognition/test-tubes/transformer-search/seed=11_rnn=xfmr-32_recurrence_num_layers=6_/version_0/checkpoints/epoch=04-fscore_val=0.93.ckpt\n"
     ]
    },
    {
     "data": {
      "application/vnd.jupyter.widget-view+json": {
       "model_id": "20968e50779f42e08b15bf678a686317",
       "version_major": 2,
       "version_minor": 0
      },
      "text/plain": [
       "HBox(children=(HTML(value='Testing'), FloatProgress(value=1.0, bar_style='info', layout=Layout(flex='2'), max=…"
      ]
     },
     "metadata": {},
     "output_type": "display_data"
    },
    {
     "name": "stdout",
     "output_type": "stream",
     "text": [
      "--------------------------------------------------------------------------------\n",
      "DATALOADER:0 TEST RESULTS\n",
      "{'ECE/test': 0.14086920837356698,\n",
      " 'accuracy/test': 0.8203116486869347,\n",
      " 'fscore/test': 0.8057304554791883,\n",
      " 'fscore_test': 0.8057304554791883,\n",
      " 'loss/test': tensor(1.0594),\n",
      " 'loss_test': tensor(1.0594),\n",
      " 'precision/test': 0.8440642728723182,\n",
      " 'recall/test': 0.8203116486869347}\n",
      "--------------------------------------------------------------------------------\n",
      "\n",
      "found checkpoint: /home/hugo/lab/instrument-recognition/test-tubes/transformer-search/seed=433_rnn=xfmr-64_recurrence_num_layers=2_/version_0/checkpoints/epoch=04-fscore_val=0.93.ckpt\n",
      "found checkpoint: /home/hugo/lab/instrument-recognition/test-tubes/transformer-search/seed=433_rnn=xfmr-64_recurrence_num_layers=2_/version_0/checkpoints/epoch=04-fscore_val=0.93.ckpt\n",
      "/home/hugo/lab/instrument-recognition/test-tubes/transformer-search/seed=433_rnn=xfmr-64_recurrence_num_layers=2_/version_0\n",
      "/home/hugo/lab/instrument-recognition/test-tubes/transformer-search/seed=433_rnn=xfmr-64_recurrence_num_layers=2_/version_0/checkpoints/epoch=04-fscore_val=0.93.ckpt\n",
      "loading metadata from /home/hugo/lab/instrument-recognition/data/mdb-solos-train-soundscapes/train...\n"
     ]
    },
    {
     "name": "stderr",
     "output_type": "stream",
     "text": [
      "100%|██████████| 5208/5208 [00:00<00:00, 41437.80it/s]\n",
      " 41%|████      | 5011/12236 [00:00<00:00, 50108.14it/s]"
     ]
    },
    {
     "name": "stdout",
     "output_type": "stream",
     "text": [
      "found 5208 entries\n",
      "{'trumpet': 1965, 'clarinet': 1966, 'tenor saxophone': 1914, 'piano': 1941, 'violin': 1948, 'female singer': 2011, 'flute': 1932, 'distorted electric guitar': 1945}\n",
      "loading metadata from /home/hugo/lab/instrument-recognition/data/mdb-solos-train-soundscapes/test...\n"
     ]
    },
    {
     "name": "stderr",
     "output_type": "stream",
     "text": [
      "100%|██████████| 12236/12236 [00:00<00:00, 49174.92it/s]\n",
      "100%|██████████| 3494/3494 [00:00<00:00, 49209.05it/s]\n",
      "/home/hugo/lab/venv/lib/python3.8/site-packages/pytorch_lightning/utilities/distributed.py:45: UserWarning: Checkpoint directory /home/hugo/lab/instrument-recognition/test-tubes/transformer-search/seed=433_rnn=xfmr-64_recurrence_num_layers=2_/version_0/checkpoints exists and is not empty. With save_top_k=3, all files in this directory will be deleted when a checkpoint is saved!\n",
      "  warnings.warn(*args, **kwargs)\n",
      "GPU available: True, used: False\n",
      "TPU available: False, using: 0 TPU cores\n"
     ]
    },
    {
     "name": "stdout",
     "output_type": "stream",
     "text": [
      "found 12236 entries\n",
      "{'clarinet': 732, 'piano': 2609, 'violin': 2900, 'tenor saxophone': 325, 'flute': 3167, 'distorted electric guitar': 955, 'female singer': 1142, 'trumpet': 406}\n",
      "loading metadata from /home/hugo/lab/instrument-recognition/data/mdb-solos-train-soundscapes/validation...\n",
      "found 3494 entries\n",
      "{'clarinet': 328, 'piano': 1022, 'flute': 233, 'female singer': 284, 'tenor saxophone': 29, 'violin': 1031, 'distorted electric guitar': 495, 'trumpet': 72}\n",
      "train entries: 5208\n",
      "val entries: 3494\n",
      "found checkpoint: /home/hugo/lab/instrument-recognition/test-tubes/transformer-search/seed=433_rnn=xfmr-64_recurrence_num_layers=2_/version_0/checkpoints/epoch=04-fscore_val=0.93.ckpt\n"
     ]
    },
    {
     "data": {
      "application/vnd.jupyter.widget-view+json": {
       "model_id": "734cbc1466824d03ad1ab91dc03bc0fe",
       "version_major": 2,
       "version_minor": 0
      },
      "text/plain": [
       "HBox(children=(HTML(value='Testing'), FloatProgress(value=1.0, bar_style='info', layout=Layout(flex='2'), max=…"
      ]
     },
     "metadata": {},
     "output_type": "display_data"
    },
    {
     "name": "stdout",
     "output_type": "stream",
     "text": [
      "--------------------------------------------------------------------------------\n",
      "DATALOADER:0 TEST RESULTS\n",
      "{'ECE/test': 0.12020656371819397,\n",
      " 'accuracy/test': 0.841723874904653,\n",
      " 'fscore/test': 0.8310998887917667,\n",
      " 'fscore_test': 0.8310998887917667,\n",
      " 'loss/test': tensor(0.9547),\n",
      " 'loss_test': tensor(0.9547),\n",
      " 'precision/test': 0.8623608911373968,\n",
      " 'recall/test': 0.841723874904653}\n",
      "--------------------------------------------------------------------------------\n",
      "\n",
      "found checkpoint: /home/hugo/lab/instrument-recognition/test-tubes/transformer-search/seed=440_rnn=xfmr-8_recurrence_num_layers=2_/version_0/checkpoints/epoch=04-fscore_val=0.93.ckpt\n",
      "found checkpoint: /home/hugo/lab/instrument-recognition/test-tubes/transformer-search/seed=440_rnn=xfmr-8_recurrence_num_layers=2_/version_0/checkpoints/epoch=04-fscore_val=0.93.ckpt\n",
      "/home/hugo/lab/instrument-recognition/test-tubes/transformer-search/seed=440_rnn=xfmr-8_recurrence_num_layers=2_/version_0\n",
      "/home/hugo/lab/instrument-recognition/test-tubes/transformer-search/seed=440_rnn=xfmr-8_recurrence_num_layers=2_/version_0/checkpoints/epoch=04-fscore_val=0.93.ckpt\n"
     ]
    },
    {
     "name": "stderr",
     "output_type": "stream",
     "text": [
      "100%|██████████| 5208/5208 [00:00<00:00, 41346.97it/s]"
     ]
    },
    {
     "name": "stdout",
     "output_type": "stream",
     "text": [
      "loading metadata from /home/hugo/lab/instrument-recognition/data/mdb-solos-train-soundscapes/train...\n",
      "found 5208 entries\n",
      "{'trumpet': 1965, 'clarinet': 1966, 'tenor saxophone': 1914, 'piano': 1941, 'violin': 1948, 'female singer': 2011, 'flute': 1932, 'distorted electric guitar': 1945}\n",
      "loading metadata from /home/hugo/lab/instrument-recognition/data/mdb-solos-train-soundscapes/test...\n"
     ]
    },
    {
     "name": "stderr",
     "output_type": "stream",
     "text": [
      "\n",
      "100%|██████████| 12236/12236 [00:00<00:00, 49614.23it/s]\n",
      "100%|██████████| 3494/3494 [00:00<00:00, 48798.26it/s]\n",
      "/home/hugo/lab/venv/lib/python3.8/site-packages/pytorch_lightning/utilities/distributed.py:45: UserWarning: Checkpoint directory /home/hugo/lab/instrument-recognition/test-tubes/transformer-search/seed=440_rnn=xfmr-8_recurrence_num_layers=2_/version_0/checkpoints exists and is not empty. With save_top_k=3, all files in this directory will be deleted when a checkpoint is saved!\n",
      "  warnings.warn(*args, **kwargs)\n",
      "GPU available: True, used: False\n",
      "TPU available: False, using: 0 TPU cores\n"
     ]
    },
    {
     "name": "stdout",
     "output_type": "stream",
     "text": [
      "found 12236 entries\n",
      "{'clarinet': 732, 'piano': 2609, 'violin': 2900, 'tenor saxophone': 325, 'flute': 3167, 'distorted electric guitar': 955, 'female singer': 1142, 'trumpet': 406}\n",
      "loading metadata from /home/hugo/lab/instrument-recognition/data/mdb-solos-train-soundscapes/validation...\n",
      "found 3494 entries\n",
      "{'clarinet': 328, 'piano': 1022, 'flute': 233, 'female singer': 284, 'tenor saxophone': 29, 'violin': 1031, 'distorted electric guitar': 495, 'trumpet': 72}\n",
      "train entries: 5208\n",
      "val entries: 3494\n",
      "found checkpoint: /home/hugo/lab/instrument-recognition/test-tubes/transformer-search/seed=440_rnn=xfmr-8_recurrence_num_layers=2_/version_0/checkpoints/epoch=04-fscore_val=0.93.ckpt\n"
     ]
    },
    {
     "data": {
      "application/vnd.jupyter.widget-view+json": {
       "model_id": "57425c1940b845d4b2f0ce0ec703ba15",
       "version_major": 2,
       "version_minor": 0
      },
      "text/plain": [
       "HBox(children=(HTML(value='Testing'), FloatProgress(value=1.0, bar_style='info', layout=Layout(flex='2'), max=…"
      ]
     },
     "metadata": {},
     "output_type": "display_data"
    },
    {
     "name": "stdout",
     "output_type": "stream",
     "text": [
      "--------------------------------------------------------------------------------\n",
      "DATALOADER:0 TEST RESULTS\n",
      "{'ECE/test': 0.12691205784546933,\n",
      " 'accuracy/test': 0.8312084559224148,\n",
      " 'fscore/test': 0.8194466137778906,\n",
      " 'fscore_test': 0.8194466137778906,\n",
      " 'loss/test': tensor(0.9638),\n",
      " 'loss_test': tensor(0.9638),\n",
      " 'precision/test': 0.8557241849876834,\n",
      " 'recall/test': 0.8312084559224148}\n",
      "--------------------------------------------------------------------------------\n",
      "\n",
      "found checkpoint: /home/hugo/lab/instrument-recognition/test-tubes/transformer-search/seed=11_rnn=xfmr-32_recurrence_num_layers=8_/version_0/checkpoints/epoch=10-fscore_val=0.91.ckpt\n",
      "found checkpoint: /home/hugo/lab/instrument-recognition/test-tubes/transformer-search/seed=11_rnn=xfmr-32_recurrence_num_layers=8_/version_0/checkpoints/epoch=10-fscore_val=0.91.ckpt\n",
      "/home/hugo/lab/instrument-recognition/test-tubes/transformer-search/seed=11_rnn=xfmr-32_recurrence_num_layers=8_/version_0\n",
      "/home/hugo/lab/instrument-recognition/test-tubes/transformer-search/seed=11_rnn=xfmr-32_recurrence_num_layers=8_/version_0/checkpoints/epoch=10-fscore_val=0.91.ckpt\n"
     ]
    },
    {
     "name": "stderr",
     "output_type": "stream",
     "text": [
      "100%|██████████| 5208/5208 [00:00<00:00, 41624.94it/s]"
     ]
    },
    {
     "name": "stdout",
     "output_type": "stream",
     "text": [
      "loading metadata from /home/hugo/lab/instrument-recognition/data/mdb-solos-train-soundscapes/train...\n",
      "found 5208 entries\n",
      "{'trumpet': 1965, 'clarinet': 1966, 'tenor saxophone': 1914, 'piano': 1941, 'violin': 1948, 'female singer': 2011, 'flute': 1932, 'distorted electric guitar': 1945}\n",
      "loading metadata from /home/hugo/lab/instrument-recognition/data/mdb-solos-train-soundscapes/test...\n"
     ]
    },
    {
     "name": "stderr",
     "output_type": "stream",
     "text": [
      "\n",
      "100%|██████████| 12236/12236 [00:01<00:00, 8715.11it/s]\n",
      "100%|██████████| 3494/3494 [00:00<00:00, 50304.29it/s]\n",
      "/home/hugo/lab/venv/lib/python3.8/site-packages/pytorch_lightning/utilities/distributed.py:45: UserWarning: Checkpoint directory /home/hugo/lab/instrument-recognition/test-tubes/transformer-search/seed=11_rnn=xfmr-32_recurrence_num_layers=8_/version_0/checkpoints exists and is not empty. With save_top_k=3, all files in this directory will be deleted when a checkpoint is saved!\n",
      "  warnings.warn(*args, **kwargs)\n",
      "GPU available: True, used: False\n",
      "TPU available: False, using: 0 TPU cores\n"
     ]
    },
    {
     "name": "stdout",
     "output_type": "stream",
     "text": [
      "found 12236 entries\n",
      "{'clarinet': 732, 'piano': 2609, 'violin': 2900, 'tenor saxophone': 325, 'flute': 3167, 'distorted electric guitar': 955, 'female singer': 1142, 'trumpet': 406}\n",
      "loading metadata from /home/hugo/lab/instrument-recognition/data/mdb-solos-train-soundscapes/validation...\n",
      "found 3494 entries\n",
      "{'clarinet': 328, 'piano': 1022, 'flute': 233, 'female singer': 284, 'tenor saxophone': 29, 'violin': 1031, 'distorted electric guitar': 495, 'trumpet': 72}\n",
      "train entries: 5208\n",
      "val entries: 3494\n",
      "found checkpoint: /home/hugo/lab/instrument-recognition/test-tubes/transformer-search/seed=11_rnn=xfmr-32_recurrence_num_layers=8_/version_0/checkpoints/epoch=10-fscore_val=0.91.ckpt\n"
     ]
    },
    {
     "data": {
      "application/vnd.jupyter.widget-view+json": {
       "model_id": "ff94152cc0d745f1ab887e157fd06af5",
       "version_major": 2,
       "version_minor": 0
      },
      "text/plain": [
       "HBox(children=(HTML(value='Testing'), FloatProgress(value=1.0, bar_style='info', layout=Layout(flex='2'), max=…"
      ]
     },
     "metadata": {},
     "output_type": "display_data"
    },
    {
     "name": "stdout",
     "output_type": "stream",
     "text": [
      "--------------------------------------------------------------------------------\n",
      "DATALOADER:0 TEST RESULTS\n",
      "{'ECE/test': 0.12849989376773022,\n",
      " 'accuracy/test': 0.846164323853111,\n",
      " 'fscore/test': 0.8361076472703153,\n",
      " 'fscore_test': 0.8361076472703153,\n",
      " 'loss/test': tensor(0.9839),\n",
      " 'loss_test': tensor(0.9839),\n",
      " 'precision/test': 0.8596168399896095,\n",
      " 'recall/test': 0.846164323853111}\n",
      "--------------------------------------------------------------------------------\n",
      "\n",
      "found checkpoint: /home/hugo/lab/instrument-recognition/test-tubes/transformer-search/seed=23_rnn=xfmr-4_recurrence_num_layers=1_/version_0/checkpoints/epoch=43-fscore_val=0.93.ckpt\n",
      "found checkpoint: /home/hugo/lab/instrument-recognition/test-tubes/transformer-search/seed=23_rnn=xfmr-4_recurrence_num_layers=1_/version_0/checkpoints/epoch=43-fscore_val=0.93.ckpt\n",
      "/home/hugo/lab/instrument-recognition/test-tubes/transformer-search/seed=23_rnn=xfmr-4_recurrence_num_layers=1_/version_0\n",
      "/home/hugo/lab/instrument-recognition/test-tubes/transformer-search/seed=23_rnn=xfmr-4_recurrence_num_layers=1_/version_0/checkpoints/epoch=43-fscore_val=0.93.ckpt\n"
     ]
    },
    {
     "name": "stderr",
     "output_type": "stream",
     "text": [
      "100%|██████████| 5208/5208 [00:00<00:00, 33356.34it/s]"
     ]
    },
    {
     "name": "stdout",
     "output_type": "stream",
     "text": [
      "loading metadata from /home/hugo/lab/instrument-recognition/data/mdb-solos-train-soundscapes/train...\n",
      "found 5208 entries\n"
     ]
    },
    {
     "name": "stderr",
     "output_type": "stream",
     "text": [
      "\n",
      " 41%|████      | 4991/12236 [00:00<00:00, 49907.91it/s]"
     ]
    },
    {
     "name": "stdout",
     "output_type": "stream",
     "text": [
      "{'trumpet': 1965, 'clarinet': 1966, 'tenor saxophone': 1914, 'piano': 1941, 'violin': 1948, 'female singer': 2011, 'flute': 1932, 'distorted electric guitar': 1945}\n",
      "loading metadata from /home/hugo/lab/instrument-recognition/data/mdb-solos-train-soundscapes/test...\n"
     ]
    },
    {
     "name": "stderr",
     "output_type": "stream",
     "text": [
      "100%|██████████| 12236/12236 [00:00<00:00, 49166.11it/s]\n",
      "100%|██████████| 3494/3494 [00:00<00:00, 49563.37it/s]\n",
      "/home/hugo/lab/venv/lib/python3.8/site-packages/pytorch_lightning/utilities/distributed.py:45: UserWarning: Checkpoint directory /home/hugo/lab/instrument-recognition/test-tubes/transformer-search/seed=23_rnn=xfmr-4_recurrence_num_layers=1_/version_0/checkpoints exists and is not empty. With save_top_k=3, all files in this directory will be deleted when a checkpoint is saved!\n",
      "  warnings.warn(*args, **kwargs)\n",
      "GPU available: True, used: False\n",
      "TPU available: False, using: 0 TPU cores\n"
     ]
    },
    {
     "name": "stdout",
     "output_type": "stream",
     "text": [
      "found 12236 entries\n",
      "{'clarinet': 732, 'piano': 2609, 'violin': 2900, 'tenor saxophone': 325, 'flute': 3167, 'distorted electric guitar': 955, 'female singer': 1142, 'trumpet': 406}\n",
      "loading metadata from /home/hugo/lab/instrument-recognition/data/mdb-solos-train-soundscapes/validation...\n",
      "found 3494 entries\n",
      "{'clarinet': 328, 'piano': 1022, 'flute': 233, 'female singer': 284, 'tenor saxophone': 29, 'violin': 1031, 'distorted electric guitar': 495, 'trumpet': 72}\n",
      "train entries: 5208\n",
      "val entries: 3494\n",
      "found checkpoint: /home/hugo/lab/instrument-recognition/test-tubes/transformer-search/seed=23_rnn=xfmr-4_recurrence_num_layers=1_/version_0/checkpoints/epoch=43-fscore_val=0.93.ckpt\n"
     ]
    },
    {
     "data": {
      "application/vnd.jupyter.widget-view+json": {
       "model_id": "e577d28f11544223a897e42163dc32af",
       "version_major": 2,
       "version_minor": 0
      },
      "text/plain": [
       "HBox(children=(HTML(value='Testing'), FloatProgress(value=1.0, bar_style='info', layout=Layout(flex='2'), max=…"
      ]
     },
     "metadata": {},
     "output_type": "display_data"
    },
    {
     "name": "stdout",
     "output_type": "stream",
     "text": [
      "--------------------------------------------------------------------------------\n",
      "DATALOADER:0 TEST RESULTS\n",
      "{'ECE/test': 0.13581333448973382,\n",
      " 'accuracy/test': 0.8355126947804293,\n",
      " 'fscore/test': 0.8236972006594226,\n",
      " 'fscore_test': 0.8236972006594226,\n",
      " 'loss/test': tensor(1.2337),\n",
      " 'loss_test': tensor(1.2337),\n",
      " 'precision/test': 0.8548159608708664,\n",
      " 'recall/test': 0.8355126947804293}\n",
      "--------------------------------------------------------------------------------\n",
      "\n",
      "found checkpoint: /home/hugo/lab/instrument-recognition/test-tubes/transformer-search/seed=12_rnn=xfmr-16_recurrence_num_layers=2_/version_0/checkpoints/epoch=123-fscore_val=0.95.ckpt\n",
      "found checkpoint: /home/hugo/lab/instrument-recognition/test-tubes/transformer-search/seed=12_rnn=xfmr-16_recurrence_num_layers=2_/version_0/checkpoints/epoch=123-fscore_val=0.95.ckpt\n",
      "/home/hugo/lab/instrument-recognition/test-tubes/transformer-search/seed=12_rnn=xfmr-16_recurrence_num_layers=2_/version_0\n",
      "/home/hugo/lab/instrument-recognition/test-tubes/transformer-search/seed=12_rnn=xfmr-16_recurrence_num_layers=2_/version_0/checkpoints/epoch=123-fscore_val=0.95.ckpt\n"
     ]
    },
    {
     "name": "stderr",
     "output_type": "stream",
     "text": [
      "100%|██████████| 5208/5208 [00:00<00:00, 41774.35it/s]"
     ]
    },
    {
     "name": "stdout",
     "output_type": "stream",
     "text": [
      "loading metadata from /home/hugo/lab/instrument-recognition/data/mdb-solos-train-soundscapes/train...\n",
      "found 5208 entries\n",
      "{'trumpet': 1965, 'clarinet': 1966, 'tenor saxophone': 1914, 'piano': 1941, 'violin': 1948, 'female singer': 2011, 'flute': 1932, 'distorted electric guitar': 1945}\n",
      "loading metadata from /home/hugo/lab/instrument-recognition/data/mdb-solos-train-soundscapes/test...\n"
     ]
    },
    {
     "name": "stderr",
     "output_type": "stream",
     "text": [
      "\n",
      "100%|██████████| 12236/12236 [00:00<00:00, 49039.22it/s]\n",
      "100%|██████████| 3494/3494 [00:00<00:00, 49050.44it/s]\n",
      "/home/hugo/lab/venv/lib/python3.8/site-packages/pytorch_lightning/utilities/distributed.py:45: UserWarning: Checkpoint directory /home/hugo/lab/instrument-recognition/test-tubes/transformer-search/seed=12_rnn=xfmr-16_recurrence_num_layers=2_/version_0/checkpoints exists and is not empty. With save_top_k=3, all files in this directory will be deleted when a checkpoint is saved!\n",
      "  warnings.warn(*args, **kwargs)\n",
      "GPU available: True, used: False\n",
      "TPU available: False, using: 0 TPU cores\n"
     ]
    },
    {
     "name": "stdout",
     "output_type": "stream",
     "text": [
      "found 12236 entries\n",
      "{'clarinet': 732, 'piano': 2609, 'violin': 2900, 'tenor saxophone': 325, 'flute': 3167, 'distorted electric guitar': 955, 'female singer': 1142, 'trumpet': 406}\n",
      "loading metadata from /home/hugo/lab/instrument-recognition/data/mdb-solos-train-soundscapes/validation...\n",
      "found 3494 entries\n",
      "{'clarinet': 328, 'piano': 1022, 'flute': 233, 'female singer': 284, 'tenor saxophone': 29, 'violin': 1031, 'distorted electric guitar': 495, 'trumpet': 72}\n",
      "train entries: 5208\n",
      "val entries: 3494\n",
      "found checkpoint: /home/hugo/lab/instrument-recognition/test-tubes/transformer-search/seed=12_rnn=xfmr-16_recurrence_num_layers=2_/version_0/checkpoints/epoch=123-fscore_val=0.95.ckpt\n"
     ]
    },
    {
     "data": {
      "application/vnd.jupyter.widget-view+json": {
       "model_id": "8f99f76a6b6b43809d8eadeeb8c0d5a0",
       "version_major": 2,
       "version_minor": 0
      },
      "text/plain": [
       "HBox(children=(HTML(value='Testing'), FloatProgress(value=1.0, bar_style='info', layout=Layout(flex='2'), max=…"
      ]
     },
     "metadata": {},
     "output_type": "display_data"
    },
    {
     "name": "stderr",
     "output_type": "stream",
     "text": [
      "  0%|          | 0/5208 [00:00<?, ?it/s]"
     ]
    },
    {
     "name": "stdout",
     "output_type": "stream",
     "text": [
      "--------------------------------------------------------------------------------\n",
      "DATALOADER:0 TEST RESULTS\n",
      "{'ECE/test': 0.13000957402587915,\n",
      " 'accuracy/test': 0.847798844938433,\n",
      " 'fscore/test': 0.8388421807030835,\n",
      " 'fscore_test': 0.8388421807030835,\n",
      " 'loss/test': tensor(1.2631),\n",
      " 'loss_test': tensor(1.2631),\n",
      " 'precision/test': 0.8691890869886021,\n",
      " 'recall/test': 0.847798844938433}\n",
      "--------------------------------------------------------------------------------\n",
      "\n",
      "found checkpoint: /home/hugo/lab/instrument-recognition/test-tubes/transformer-search/seed=433_rnn=xfmr-64_recurrence_num_layers=1_/version_0/checkpoints/epoch=06-fscore_val=0.93.ckpt\n",
      "found checkpoint: /home/hugo/lab/instrument-recognition/test-tubes/transformer-search/seed=433_rnn=xfmr-64_recurrence_num_layers=1_/version_0/checkpoints/epoch=06-fscore_val=0.93.ckpt\n",
      "/home/hugo/lab/instrument-recognition/test-tubes/transformer-search/seed=433_rnn=xfmr-64_recurrence_num_layers=1_/version_0\n",
      "/home/hugo/lab/instrument-recognition/test-tubes/transformer-search/seed=433_rnn=xfmr-64_recurrence_num_layers=1_/version_0/checkpoints/epoch=06-fscore_val=0.93.ckpt\n",
      "loading metadata from /home/hugo/lab/instrument-recognition/data/mdb-solos-train-soundscapes/train...\n"
     ]
    },
    {
     "name": "stderr",
     "output_type": "stream",
     "text": [
      "100%|██████████| 5208/5208 [00:00<00:00, 41078.41it/s]\n",
      " 41%|████      | 5018/12236 [00:00<00:00, 50170.60it/s]"
     ]
    },
    {
     "name": "stdout",
     "output_type": "stream",
     "text": [
      "found 5208 entries\n",
      "{'trumpet': 1965, 'clarinet': 1966, 'tenor saxophone': 1914, 'piano': 1941, 'violin': 1948, 'female singer': 2011, 'flute': 1932, 'distorted electric guitar': 1945}\n",
      "loading metadata from /home/hugo/lab/instrument-recognition/data/mdb-solos-train-soundscapes/test...\n"
     ]
    },
    {
     "name": "stderr",
     "output_type": "stream",
     "text": [
      "100%|██████████| 12236/12236 [00:00<00:00, 49408.27it/s]\n",
      "100%|██████████| 3494/3494 [00:00<00:00, 48810.45it/s]\n",
      "/home/hugo/lab/venv/lib/python3.8/site-packages/pytorch_lightning/utilities/distributed.py:45: UserWarning: Checkpoint directory /home/hugo/lab/instrument-recognition/test-tubes/transformer-search/seed=433_rnn=xfmr-64_recurrence_num_layers=1_/version_0/checkpoints exists and is not empty. With save_top_k=3, all files in this directory will be deleted when a checkpoint is saved!\n",
      "  warnings.warn(*args, **kwargs)\n",
      "GPU available: True, used: False\n",
      "TPU available: False, using: 0 TPU cores\n"
     ]
    },
    {
     "name": "stdout",
     "output_type": "stream",
     "text": [
      "found 12236 entries\n",
      "{'clarinet': 732, 'piano': 2609, 'violin': 2900, 'tenor saxophone': 325, 'flute': 3167, 'distorted electric guitar': 955, 'female singer': 1142, 'trumpet': 406}\n",
      "loading metadata from /home/hugo/lab/instrument-recognition/data/mdb-solos-train-soundscapes/validation...\n",
      "found 3494 entries\n",
      "{'clarinet': 328, 'piano': 1022, 'flute': 233, 'female singer': 284, 'tenor saxophone': 29, 'violin': 1031, 'distorted electric guitar': 495, 'trumpet': 72}\n",
      "train entries: 5208\n",
      "val entries: 3494\n",
      "found checkpoint: /home/hugo/lab/instrument-recognition/test-tubes/transformer-search/seed=433_rnn=xfmr-64_recurrence_num_layers=1_/version_0/checkpoints/epoch=06-fscore_val=0.93.ckpt\n"
     ]
    },
    {
     "data": {
      "application/vnd.jupyter.widget-view+json": {
       "model_id": "62346bb63eea47f7a13ff2215f8fb886",
       "version_major": 2,
       "version_minor": 0
      },
      "text/plain": [
       "HBox(children=(HTML(value='Testing'), FloatProgress(value=1.0, bar_style='info', layout=Layout(flex='2'), max=…"
      ]
     },
     "metadata": {},
     "output_type": "display_data"
    },
    {
     "name": "stdout",
     "output_type": "stream",
     "text": [
      "--------------------------------------------------------------------------------\n",
      "DATALOADER:0 TEST RESULTS\n",
      "{'ECE/test': 0.11460489817300604,\n",
      " 'accuracy/test': 0.8489157676800697,\n",
      " 'fscore/test': 0.8401185168916745,\n",
      " 'fscore_test': 0.8401185168916745,\n",
      " 'loss/test': tensor(0.9172),\n",
      " 'loss_test': tensor(0.9172),\n",
      " 'precision/test': 0.8662732528587174,\n",
      " 'recall/test': 0.8489157676800697}\n",
      "--------------------------------------------------------------------------------\n",
      "\n",
      "found checkpoint: /home/hugo/lab/instrument-recognition/test-tubes/transformer-search/seed=23_rnn=xfmr-16_recurrence_num_layers=2_/version_0/checkpoints/epoch=52-fscore_val=0.94.ckpt\n",
      "found checkpoint: /home/hugo/lab/instrument-recognition/test-tubes/transformer-search/seed=23_rnn=xfmr-16_recurrence_num_layers=2_/version_0/checkpoints/epoch=52-fscore_val=0.94.ckpt\n",
      "/home/hugo/lab/instrument-recognition/test-tubes/transformer-search/seed=23_rnn=xfmr-16_recurrence_num_layers=2_/version_0\n",
      "/home/hugo/lab/instrument-recognition/test-tubes/transformer-search/seed=23_rnn=xfmr-16_recurrence_num_layers=2_/version_0/checkpoints/epoch=52-fscore_val=0.94.ckpt\n"
     ]
    },
    {
     "name": "stderr",
     "output_type": "stream",
     "text": [
      "100%|██████████| 5208/5208 [00:00<00:00, 41604.09it/s]"
     ]
    },
    {
     "name": "stdout",
     "output_type": "stream",
     "text": [
      "loading metadata from /home/hugo/lab/instrument-recognition/data/mdb-solos-train-soundscapes/train...\n",
      "found 5208 entries\n",
      "{'trumpet': 1965, 'clarinet': 1966, 'tenor saxophone': 1914, 'piano': 1941, 'violin': 1948, 'female singer': 2011, 'flute': 1932, 'distorted electric guitar': 1945}\n",
      "loading metadata from /home/hugo/lab/instrument-recognition/data/mdb-solos-train-soundscapes/test...\n"
     ]
    },
    {
     "name": "stderr",
     "output_type": "stream",
     "text": [
      "\n",
      "100%|██████████| 12236/12236 [00:00<00:00, 48806.50it/s]\n",
      "  0%|          | 0/3494 [00:00<?, ?it/s]"
     ]
    },
    {
     "name": "stdout",
     "output_type": "stream",
     "text": [
      "found 12236 entries\n",
      "{'clarinet': 732, 'piano': 2609, 'violin': 2900, 'tenor saxophone': 325, 'flute': 3167, 'distorted electric guitar': 955, 'female singer': 1142, 'trumpet': 406}\n",
      "loading metadata from /home/hugo/lab/instrument-recognition/data/mdb-solos-train-soundscapes/validation...\n"
     ]
    },
    {
     "name": "stderr",
     "output_type": "stream",
     "text": [
      "100%|██████████| 3494/3494 [00:01<00:00, 2748.12it/s]\n",
      "/home/hugo/lab/venv/lib/python3.8/site-packages/pytorch_lightning/utilities/distributed.py:45: UserWarning: Checkpoint directory /home/hugo/lab/instrument-recognition/test-tubes/transformer-search/seed=23_rnn=xfmr-16_recurrence_num_layers=2_/version_0/checkpoints exists and is not empty. With save_top_k=3, all files in this directory will be deleted when a checkpoint is saved!\n",
      "  warnings.warn(*args, **kwargs)\n",
      "GPU available: True, used: False\n",
      "TPU available: False, using: 0 TPU cores\n"
     ]
    },
    {
     "name": "stdout",
     "output_type": "stream",
     "text": [
      "found 3494 entries\n",
      "{'clarinet': 328, 'piano': 1022, 'flute': 233, 'female singer': 284, 'tenor saxophone': 29, 'violin': 1031, 'distorted electric guitar': 495, 'trumpet': 72}\n",
      "train entries: 5208\n",
      "val entries: 3494\n",
      "found checkpoint: /home/hugo/lab/instrument-recognition/test-tubes/transformer-search/seed=23_rnn=xfmr-16_recurrence_num_layers=2_/version_0/checkpoints/epoch=52-fscore_val=0.94.ckpt\n"
     ]
    },
    {
     "data": {
      "application/vnd.jupyter.widget-view+json": {
       "model_id": "708813026d0042449c7c749bef172a36",
       "version_major": 2,
       "version_minor": 0
      },
      "text/plain": [
       "HBox(children=(HTML(value='Testing'), FloatProgress(value=1.0, bar_style='info', layout=Layout(flex='2'), max=…"
      ]
     },
     "metadata": {},
     "output_type": "display_data"
    },
    {
     "name": "stdout",
     "output_type": "stream",
     "text": [
      "--------------------------------------------------------------------------------\n",
      "DATALOADER:0 TEST RESULTS\n",
      "{'ECE/test': 0.13662005315906303,\n",
      " 'accuracy/test': 0.8390813991500491,\n",
      " 'fscore/test': 0.8276810210738651,\n",
      " 'fscore_test': 0.8276810210738651,\n",
      " 'loss/test': tensor(1.2220),\n",
      " 'loss_test': tensor(1.2220),\n",
      " 'precision/test': 0.8606290076985388,\n",
      " 'recall/test': 0.8390813991500491}\n",
      "--------------------------------------------------------------------------------\n",
      "\n",
      "found checkpoint: /home/hugo/lab/instrument-recognition/test-tubes/transformer-search/seed=433_rnn=xfmr-8_recurrence_num_layers=4_/version_0/checkpoints/epoch=40-fscore_val=0.93.ckpt\n"
     ]
    },
    {
     "name": "stderr",
     "output_type": "stream",
     "text": [
      "  0%|          | 0/5208 [00:00<?, ?it/s]"
     ]
    },
    {
     "name": "stdout",
     "output_type": "stream",
     "text": [
      "found checkpoint: /home/hugo/lab/instrument-recognition/test-tubes/transformer-search/seed=433_rnn=xfmr-8_recurrence_num_layers=4_/version_0/checkpoints/epoch=40-fscore_val=0.93.ckpt\n",
      "/home/hugo/lab/instrument-recognition/test-tubes/transformer-search/seed=433_rnn=xfmr-8_recurrence_num_layers=4_/version_0\n",
      "/home/hugo/lab/instrument-recognition/test-tubes/transformer-search/seed=433_rnn=xfmr-8_recurrence_num_layers=4_/version_0/checkpoints/epoch=40-fscore_val=0.93.ckpt\n",
      "loading metadata from /home/hugo/lab/instrument-recognition/data/mdb-solos-train-soundscapes/train...\n"
     ]
    },
    {
     "name": "stderr",
     "output_type": "stream",
     "text": [
      "100%|██████████| 5208/5208 [00:00<00:00, 39758.75it/s]\n",
      " 40%|███▉      | 4870/12236 [00:00<00:00, 48627.47it/s]"
     ]
    },
    {
     "name": "stdout",
     "output_type": "stream",
     "text": [
      "found 5208 entries\n",
      "{'trumpet': 1965, 'clarinet': 1966, 'tenor saxophone': 1914, 'piano': 1941, 'violin': 1948, 'female singer': 2011, 'flute': 1932, 'distorted electric guitar': 1945}\n",
      "loading metadata from /home/hugo/lab/instrument-recognition/data/mdb-solos-train-soundscapes/test...\n"
     ]
    },
    {
     "name": "stderr",
     "output_type": "stream",
     "text": [
      "100%|██████████| 12236/12236 [00:00<00:00, 47832.19it/s]\n",
      "100%|██████████| 3494/3494 [00:00<00:00, 48775.03it/s]\n",
      "/home/hugo/lab/venv/lib/python3.8/site-packages/pytorch_lightning/utilities/distributed.py:45: UserWarning: Checkpoint directory /home/hugo/lab/instrument-recognition/test-tubes/transformer-search/seed=433_rnn=xfmr-8_recurrence_num_layers=4_/version_0/checkpoints exists and is not empty. With save_top_k=3, all files in this directory will be deleted when a checkpoint is saved!\n",
      "  warnings.warn(*args, **kwargs)\n",
      "GPU available: True, used: False\n",
      "TPU available: False, using: 0 TPU cores\n"
     ]
    },
    {
     "name": "stdout",
     "output_type": "stream",
     "text": [
      "found 12236 entries\n",
      "{'clarinet': 732, 'piano': 2609, 'violin': 2900, 'tenor saxophone': 325, 'flute': 3167, 'distorted electric guitar': 955, 'female singer': 1142, 'trumpet': 406}\n",
      "loading metadata from /home/hugo/lab/instrument-recognition/data/mdb-solos-train-soundscapes/validation...\n",
      "found 3494 entries\n",
      "{'clarinet': 328, 'piano': 1022, 'flute': 233, 'female singer': 284, 'tenor saxophone': 29, 'violin': 1031, 'distorted electric guitar': 495, 'trumpet': 72}\n",
      "train entries: 5208\n",
      "val entries: 3494\n",
      "found checkpoint: /home/hugo/lab/instrument-recognition/test-tubes/transformer-search/seed=433_rnn=xfmr-8_recurrence_num_layers=4_/version_0/checkpoints/epoch=40-fscore_val=0.93.ckpt\n"
     ]
    },
    {
     "data": {
      "application/vnd.jupyter.widget-view+json": {
       "model_id": "2340789be68f4ced90299f2be6927305",
       "version_major": 2,
       "version_minor": 0
      },
      "text/plain": [
       "HBox(children=(HTML(value='Testing'), FloatProgress(value=1.0, bar_style='info', layout=Layout(flex='2'), max=…"
      ]
     },
     "metadata": {},
     "output_type": "display_data"
    },
    {
     "name": "stdout",
     "output_type": "stream",
     "text": [
      "--------------------------------------------------------------------------------\n",
      "DATALOADER:0 TEST RESULTS\n",
      "{'ECE/test': 0.13514476491206745,\n",
      " 'accuracy/test': 0.8397624496022665,\n",
      " 'fscore/test': 0.828204709223734,\n",
      " 'fscore_test': 0.828204709223734,\n",
      " 'loss/test': tensor(1.1080),\n",
      " 'loss_test': tensor(1.1080),\n",
      " 'precision/test': 0.8603380388621628,\n",
      " 'recall/test': 0.8397624496022665}\n",
      "--------------------------------------------------------------------------------\n",
      "\n",
      "found checkpoint: /home/hugo/lab/instrument-recognition/test-tubes/transformer-search/seed=433_rnn=xfmr-2_recurrence_num_layers=2_/version_0/checkpoints/epoch=27-fscore_val=0.92.ckpt\n",
      "found checkpoint: /home/hugo/lab/instrument-recognition/test-tubes/transformer-search/seed=433_rnn=xfmr-2_recurrence_num_layers=2_/version_0/checkpoints/epoch=27-fscore_val=0.92.ckpt\n",
      "/home/hugo/lab/instrument-recognition/test-tubes/transformer-search/seed=433_rnn=xfmr-2_recurrence_num_layers=2_/version_0\n",
      "/home/hugo/lab/instrument-recognition/test-tubes/transformer-search/seed=433_rnn=xfmr-2_recurrence_num_layers=2_/version_0/checkpoints/epoch=27-fscore_val=0.92.ckpt\n"
     ]
    },
    {
     "name": "stderr",
     "output_type": "stream",
     "text": [
      "100%|██████████| 5208/5208 [00:00<00:00, 41383.87it/s]"
     ]
    },
    {
     "name": "stdout",
     "output_type": "stream",
     "text": [
      "loading metadata from /home/hugo/lab/instrument-recognition/data/mdb-solos-train-soundscapes/train...\n",
      "found 5208 entries\n",
      "{'trumpet': 1965, 'clarinet': 1966, 'tenor saxophone': 1914, 'piano': 1941, 'violin': 1948, 'female singer': 2011, 'flute': 1932, 'distorted electric guitar': 1945}\n",
      "loading metadata from /home/hugo/lab/instrument-recognition/data/mdb-solos-train-soundscapes/test...\n"
     ]
    },
    {
     "name": "stderr",
     "output_type": "stream",
     "text": [
      "\n",
      "100%|██████████| 12236/12236 [00:00<00:00, 48144.90it/s]\n",
      "100%|██████████| 3494/3494 [00:00<00:00, 48700.64it/s]\n",
      "/home/hugo/lab/venv/lib/python3.8/site-packages/pytorch_lightning/utilities/distributed.py:45: UserWarning: Checkpoint directory /home/hugo/lab/instrument-recognition/test-tubes/transformer-search/seed=433_rnn=xfmr-2_recurrence_num_layers=2_/version_0/checkpoints exists and is not empty. With save_top_k=3, all files in this directory will be deleted when a checkpoint is saved!\n",
      "  warnings.warn(*args, **kwargs)\n",
      "GPU available: True, used: False\n",
      "TPU available: False, using: 0 TPU cores\n"
     ]
    },
    {
     "name": "stdout",
     "output_type": "stream",
     "text": [
      "found 12236 entries\n",
      "{'clarinet': 732, 'piano': 2609, 'violin': 2900, 'tenor saxophone': 325, 'flute': 3167, 'distorted electric guitar': 955, 'female singer': 1142, 'trumpet': 406}\n",
      "loading metadata from /home/hugo/lab/instrument-recognition/data/mdb-solos-train-soundscapes/validation...\n",
      "found 3494 entries\n",
      "{'clarinet': 328, 'piano': 1022, 'flute': 233, 'female singer': 284, 'tenor saxophone': 29, 'violin': 1031, 'distorted electric guitar': 495, 'trumpet': 72}\n",
      "train entries: 5208\n",
      "val entries: 3494\n",
      "found checkpoint: /home/hugo/lab/instrument-recognition/test-tubes/transformer-search/seed=433_rnn=xfmr-2_recurrence_num_layers=2_/version_0/checkpoints/epoch=27-fscore_val=0.92.ckpt\n"
     ]
    },
    {
     "data": {
      "application/vnd.jupyter.widget-view+json": {
       "model_id": "33a95fdbe7c546759cb7015d2ddec105",
       "version_major": 2,
       "version_minor": 0
      },
      "text/plain": [
       "HBox(children=(HTML(value='Testing'), FloatProgress(value=1.0, bar_style='info', layout=Layout(flex='2'), max=…"
      ]
     },
     "metadata": {},
     "output_type": "display_data"
    },
    {
     "name": "stdout",
     "output_type": "stream",
     "text": [
      "--------------------------------------------------------------------------------\n",
      "DATALOADER:0 TEST RESULTS\n",
      "{'ECE/test': 0.12777961268038668,\n",
      " 'accuracy/test': 0.8434946060804185,\n",
      " 'fscore/test': 0.8320156821064519,\n",
      " 'fscore_test': 0.8320156821064519,\n",
      " 'loss/test': tensor(1.1312),\n",
      " 'loss_test': tensor(1.1312),\n",
      " 'precision/test': 0.8631243976468017,\n",
      " 'recall/test': 0.8434946060804185}\n",
      "--------------------------------------------------------------------------------\n",
      "\n",
      "found checkpoint: /home/hugo/lab/instrument-recognition/test-tubes/transformer-search/seed=440_rnn=xfmr-1_recurrence_num_layers=4_/version_0/checkpoints/epoch=25-fscore_val=0.93.ckpt\n"
     ]
    },
    {
     "name": "stderr",
     "output_type": "stream",
     "text": [
      "  0%|          | 0/5208 [00:00<?, ?it/s]"
     ]
    },
    {
     "name": "stdout",
     "output_type": "stream",
     "text": [
      "found checkpoint: /home/hugo/lab/instrument-recognition/test-tubes/transformer-search/seed=440_rnn=xfmr-1_recurrence_num_layers=4_/version_0/checkpoints/epoch=25-fscore_val=0.93.ckpt\n",
      "/home/hugo/lab/instrument-recognition/test-tubes/transformer-search/seed=440_rnn=xfmr-1_recurrence_num_layers=4_/version_0\n",
      "/home/hugo/lab/instrument-recognition/test-tubes/transformer-search/seed=440_rnn=xfmr-1_recurrence_num_layers=4_/version_0/checkpoints/epoch=25-fscore_val=0.93.ckpt\n",
      "loading metadata from /home/hugo/lab/instrument-recognition/data/mdb-solos-train-soundscapes/train...\n"
     ]
    },
    {
     "name": "stderr",
     "output_type": "stream",
     "text": [
      "100%|██████████| 5208/5208 [00:00<00:00, 41032.80it/s]\n",
      " 41%|████      | 4981/12236 [00:00<00:00, 49801.14it/s]"
     ]
    },
    {
     "name": "stdout",
     "output_type": "stream",
     "text": [
      "found 5208 entries\n",
      "{'trumpet': 1965, 'clarinet': 1966, 'tenor saxophone': 1914, 'piano': 1941, 'violin': 1948, 'female singer': 2011, 'flute': 1932, 'distorted electric guitar': 1945}\n",
      "loading metadata from /home/hugo/lab/instrument-recognition/data/mdb-solos-train-soundscapes/test...\n"
     ]
    },
    {
     "name": "stderr",
     "output_type": "stream",
     "text": [
      "100%|██████████| 12236/12236 [00:00<00:00, 49228.50it/s]\n",
      "100%|██████████| 3494/3494 [00:00<00:00, 48832.08it/s]\n",
      "/home/hugo/lab/venv/lib/python3.8/site-packages/pytorch_lightning/utilities/distributed.py:45: UserWarning: Checkpoint directory /home/hugo/lab/instrument-recognition/test-tubes/transformer-search/seed=440_rnn=xfmr-1_recurrence_num_layers=4_/version_0/checkpoints exists and is not empty. With save_top_k=3, all files in this directory will be deleted when a checkpoint is saved!\n",
      "  warnings.warn(*args, **kwargs)\n",
      "GPU available: True, used: False\n",
      "TPU available: False, using: 0 TPU cores\n"
     ]
    },
    {
     "name": "stdout",
     "output_type": "stream",
     "text": [
      "found 12236 entries\n",
      "{'clarinet': 732, 'piano': 2609, 'violin': 2900, 'tenor saxophone': 325, 'flute': 3167, 'distorted electric guitar': 955, 'female singer': 1142, 'trumpet': 406}\n",
      "loading metadata from /home/hugo/lab/instrument-recognition/data/mdb-solos-train-soundscapes/validation...\n",
      "found 3494 entries\n",
      "{'clarinet': 328, 'piano': 1022, 'flute': 233, 'female singer': 284, 'tenor saxophone': 29, 'violin': 1031, 'distorted electric guitar': 495, 'trumpet': 72}\n",
      "train entries: 5208\n",
      "val entries: 3494\n",
      "found checkpoint: /home/hugo/lab/instrument-recognition/test-tubes/transformer-search/seed=440_rnn=xfmr-1_recurrence_num_layers=4_/version_0/checkpoints/epoch=25-fscore_val=0.93.ckpt\n"
     ]
    },
    {
     "data": {
      "application/vnd.jupyter.widget-view+json": {
       "model_id": "555cbe1d09144f1892c4c095ee13edbd",
       "version_major": 2,
       "version_minor": 0
      },
      "text/plain": [
       "HBox(children=(HTML(value='Testing'), FloatProgress(value=1.0, bar_style='info', layout=Layout(flex='2'), max=…"
      ]
     },
     "metadata": {},
     "output_type": "display_data"
    },
    {
     "name": "stdout",
     "output_type": "stream",
     "text": [
      "--------------------------------------------------------------------------------\n",
      "DATALOADER:0 TEST RESULTS\n",
      "{'ECE/test': 0.1259037374441785,\n",
      " 'accuracy/test': 0.8479078130107879,\n",
      " 'fscore/test': 0.8387558826853599,\n",
      " 'fscore_test': 0.8387558826853599,\n",
      " 'loss/test': tensor(1.0666),\n",
      " 'loss_test': tensor(1.0666),\n",
      " 'precision/test': 0.8583769465503571,\n",
      " 'recall/test': 0.8479078130107879}\n",
      "--------------------------------------------------------------------------------\n",
      "\n",
      "found checkpoint: /home/hugo/lab/instrument-recognition/test-tubes/transformer-search/seed=23_rnn=xfmr-8_recurrence_num_layers=6_/version_0/checkpoints/epoch=19-fscore_val=0.92.ckpt\n",
      "found checkpoint: /home/hugo/lab/instrument-recognition/test-tubes/transformer-search/seed=23_rnn=xfmr-8_recurrence_num_layers=6_/version_0/checkpoints/epoch=19-fscore_val=0.92.ckpt\n",
      "/home/hugo/lab/instrument-recognition/test-tubes/transformer-search/seed=23_rnn=xfmr-8_recurrence_num_layers=6_/version_0\n",
      "/home/hugo/lab/instrument-recognition/test-tubes/transformer-search/seed=23_rnn=xfmr-8_recurrence_num_layers=6_/version_0/checkpoints/epoch=19-fscore_val=0.92.ckpt\n",
      "loading metadata from /home/hugo/lab/instrument-recognition/data/mdb-solos-train-soundscapes/train...\n"
     ]
    },
    {
     "name": "stderr",
     "output_type": "stream",
     "text": [
      "100%|██████████| 5208/5208 [00:00<00:00, 40905.86it/s]\n",
      " 40%|████      | 4951/12236 [00:00<00:00, 49502.02it/s]"
     ]
    },
    {
     "name": "stdout",
     "output_type": "stream",
     "text": [
      "found 5208 entries\n",
      "{'trumpet': 1965, 'clarinet': 1966, 'tenor saxophone': 1914, 'piano': 1941, 'violin': 1948, 'female singer': 2011, 'flute': 1932, 'distorted electric guitar': 1945}\n",
      "loading metadata from /home/hugo/lab/instrument-recognition/data/mdb-solos-train-soundscapes/test...\n"
     ]
    },
    {
     "name": "stderr",
     "output_type": "stream",
     "text": [
      "100%|██████████| 12236/12236 [00:00<00:00, 49007.28it/s]\n",
      "100%|██████████| 3494/3494 [00:00<00:00, 48597.44it/s]\n",
      "/home/hugo/lab/venv/lib/python3.8/site-packages/pytorch_lightning/utilities/distributed.py:45: UserWarning: Checkpoint directory /home/hugo/lab/instrument-recognition/test-tubes/transformer-search/seed=23_rnn=xfmr-8_recurrence_num_layers=6_/version_0/checkpoints exists and is not empty. With save_top_k=3, all files in this directory will be deleted when a checkpoint is saved!\n",
      "  warnings.warn(*args, **kwargs)\n",
      "GPU available: True, used: False\n",
      "TPU available: False, using: 0 TPU cores\n"
     ]
    },
    {
     "name": "stdout",
     "output_type": "stream",
     "text": [
      "found 12236 entries\n",
      "{'clarinet': 732, 'piano': 2609, 'violin': 2900, 'tenor saxophone': 325, 'flute': 3167, 'distorted electric guitar': 955, 'female singer': 1142, 'trumpet': 406}\n",
      "loading metadata from /home/hugo/lab/instrument-recognition/data/mdb-solos-train-soundscapes/validation...\n",
      "found 3494 entries\n",
      "{'clarinet': 328, 'piano': 1022, 'flute': 233, 'female singer': 284, 'tenor saxophone': 29, 'violin': 1031, 'distorted electric guitar': 495, 'trumpet': 72}\n",
      "train entries: 5208\n",
      "val entries: 3494\n",
      "found checkpoint: /home/hugo/lab/instrument-recognition/test-tubes/transformer-search/seed=23_rnn=xfmr-8_recurrence_num_layers=6_/version_0/checkpoints/epoch=19-fscore_val=0.92.ckpt\n"
     ]
    },
    {
     "data": {
      "application/vnd.jupyter.widget-view+json": {
       "model_id": "49ebee3087cb4abc835b99b59e527352",
       "version_major": 2,
       "version_minor": 0
      },
      "text/plain": [
       "HBox(children=(HTML(value='Testing'), FloatProgress(value=1.0, bar_style='info', layout=Layout(flex='2'), max=…"
      ]
     },
     "metadata": {},
     "output_type": "display_data"
    },
    {
     "name": "stdout",
     "output_type": "stream",
     "text": [
      "--------------------------------------------------------------------------------\n",
      "DATALOADER:0 TEST RESULTS\n",
      "{'ECE/test': 0.17148939104765165,\n",
      " 'accuracy/test': 0.8014329301514657,\n",
      " 'fscore/test': 0.7833001097617787,\n",
      " 'fscore_test': 0.7833001097617787,\n",
      " 'loss/test': tensor(1.3403),\n",
      " 'loss_test': tensor(1.3403),\n",
      " 'precision/test': 0.8444602830614749,\n",
      " 'recall/test': 0.8014329301514657}\n",
      "--------------------------------------------------------------------------------\n",
      "\n",
      "found checkpoint: /home/hugo/lab/instrument-recognition/test-tubes/transformer-search/seed=440_rnn=xfmr-2_recurrence_num_layers=2_/version_0/checkpoints/epoch=04-fscore_val=0.92.ckpt\n",
      "found checkpoint: /home/hugo/lab/instrument-recognition/test-tubes/transformer-search/seed=440_rnn=xfmr-2_recurrence_num_layers=2_/version_0/checkpoints/epoch=04-fscore_val=0.92.ckpt\n",
      "/home/hugo/lab/instrument-recognition/test-tubes/transformer-search/seed=440_rnn=xfmr-2_recurrence_num_layers=2_/version_0\n",
      "/home/hugo/lab/instrument-recognition/test-tubes/transformer-search/seed=440_rnn=xfmr-2_recurrence_num_layers=2_/version_0/checkpoints/epoch=04-fscore_val=0.92.ckpt\n"
     ]
    },
    {
     "name": "stderr",
     "output_type": "stream",
     "text": [
      "100%|██████████| 5208/5208 [00:00<00:00, 41585.71it/s]"
     ]
    },
    {
     "name": "stdout",
     "output_type": "stream",
     "text": [
      "loading metadata from /home/hugo/lab/instrument-recognition/data/mdb-solos-train-soundscapes/train...\n",
      "found 5208 entries\n",
      "{'trumpet': 1965, 'clarinet': 1966, 'tenor saxophone': 1914, 'piano': 1941, 'violin': 1948, 'female singer': 2011, 'flute': 1932, 'distorted electric guitar': 1945}\n",
      "loading metadata from /home/hugo/lab/instrument-recognition/data/mdb-solos-train-soundscapes/test...\n"
     ]
    },
    {
     "name": "stderr",
     "output_type": "stream",
     "text": [
      "\n",
      "100%|██████████| 12236/12236 [00:01<00:00, 7331.72it/s]\n",
      "100%|██████████| 3494/3494 [00:00<00:00, 50202.45it/s]\n",
      "/home/hugo/lab/venv/lib/python3.8/site-packages/pytorch_lightning/utilities/distributed.py:45: UserWarning: Checkpoint directory /home/hugo/lab/instrument-recognition/test-tubes/transformer-search/seed=440_rnn=xfmr-2_recurrence_num_layers=2_/version_0/checkpoints exists and is not empty. With save_top_k=3, all files in this directory will be deleted when a checkpoint is saved!\n",
      "  warnings.warn(*args, **kwargs)\n",
      "GPU available: True, used: False\n",
      "TPU available: False, using: 0 TPU cores\n"
     ]
    },
    {
     "name": "stdout",
     "output_type": "stream",
     "text": [
      "found 12236 entries\n",
      "{'clarinet': 732, 'piano': 2609, 'violin': 2900, 'tenor saxophone': 325, 'flute': 3167, 'distorted electric guitar': 955, 'female singer': 1142, 'trumpet': 406}\n",
      "loading metadata from /home/hugo/lab/instrument-recognition/data/mdb-solos-train-soundscapes/validation...\n",
      "found 3494 entries\n",
      "{'clarinet': 328, 'piano': 1022, 'flute': 233, 'female singer': 284, 'tenor saxophone': 29, 'violin': 1031, 'distorted electric guitar': 495, 'trumpet': 72}\n",
      "train entries: 5208\n",
      "val entries: 3494\n",
      "found checkpoint: /home/hugo/lab/instrument-recognition/test-tubes/transformer-search/seed=440_rnn=xfmr-2_recurrence_num_layers=2_/version_0/checkpoints/epoch=04-fscore_val=0.92.ckpt\n"
     ]
    },
    {
     "data": {
      "application/vnd.jupyter.widget-view+json": {
       "model_id": "147797ce0f934391921d0964b2ed9247",
       "version_major": 2,
       "version_minor": 0
      },
      "text/plain": [
       "HBox(children=(HTML(value='Testing'), FloatProgress(value=1.0, bar_style='info', layout=Layout(flex='2'), max=…"
      ]
     },
     "metadata": {},
     "output_type": "display_data"
    },
    {
     "name": "stdout",
     "output_type": "stream",
     "text": [
      "--------------------------------------------------------------------------------\n",
      "DATALOADER:0 TEST RESULTS\n",
      "{'ECE/test': 0.12467463044503477,\n",
      " 'accuracy/test': 0.8313991500490356,\n",
      " 'fscore/test': 0.8175446766807157,\n",
      " 'fscore_test': 0.8175446766807157,\n",
      " 'loss/test': tensor(0.9286),\n",
      " 'loss_test': tensor(0.9286),\n",
      " 'precision/test': 0.8548229964420437,\n",
      " 'recall/test': 0.8313991500490356}\n",
      "--------------------------------------------------------------------------------\n",
      "\n",
      "found checkpoint: /home/hugo/lab/instrument-recognition/test-tubes/transformer-search/seed=23_rnn=xfmr-8_recurrence_num_layers=1_/version_0/checkpoints/epoch=04-fscore_val=0.93.ckpt\n",
      "found checkpoint: /home/hugo/lab/instrument-recognition/test-tubes/transformer-search/seed=23_rnn=xfmr-8_recurrence_num_layers=1_/version_0/checkpoints/epoch=04-fscore_val=0.93.ckpt\n",
      "/home/hugo/lab/instrument-recognition/test-tubes/transformer-search/seed=23_rnn=xfmr-8_recurrence_num_layers=1_/version_0\n",
      "/home/hugo/lab/instrument-recognition/test-tubes/transformer-search/seed=23_rnn=xfmr-8_recurrence_num_layers=1_/version_0/checkpoints/epoch=04-fscore_val=0.93.ckpt\n",
      "loading metadata from /home/hugo/lab/instrument-recognition/data/mdb-solos-train-soundscapes/train...\n"
     ]
    },
    {
     "name": "stderr",
     "output_type": "stream",
     "text": [
      "100%|██████████| 5208/5208 [00:00<00:00, 36750.85it/s]\n",
      " 41%|████      | 4974/12236 [00:00<00:00, 49731.15it/s]"
     ]
    },
    {
     "name": "stdout",
     "output_type": "stream",
     "text": [
      "found 5208 entries\n",
      "{'trumpet': 1965, 'clarinet': 1966, 'tenor saxophone': 1914, 'piano': 1941, 'violin': 1948, 'female singer': 2011, 'flute': 1932, 'distorted electric guitar': 1945}\n",
      "loading metadata from /home/hugo/lab/instrument-recognition/data/mdb-solos-train-soundscapes/test...\n"
     ]
    },
    {
     "name": "stderr",
     "output_type": "stream",
     "text": [
      "100%|██████████| 12236/12236 [00:00<00:00, 48898.95it/s]\n",
      "100%|██████████| 3494/3494 [00:00<00:00, 48968.49it/s]\n",
      "/home/hugo/lab/venv/lib/python3.8/site-packages/pytorch_lightning/utilities/distributed.py:45: UserWarning: Checkpoint directory /home/hugo/lab/instrument-recognition/test-tubes/transformer-search/seed=23_rnn=xfmr-8_recurrence_num_layers=1_/version_0/checkpoints exists and is not empty. With save_top_k=3, all files in this directory will be deleted when a checkpoint is saved!\n",
      "  warnings.warn(*args, **kwargs)\n",
      "GPU available: True, used: False\n",
      "TPU available: False, using: 0 TPU cores\n"
     ]
    },
    {
     "name": "stdout",
     "output_type": "stream",
     "text": [
      "found 12236 entries\n",
      "{'clarinet': 732, 'piano': 2609, 'violin': 2900, 'tenor saxophone': 325, 'flute': 3167, 'distorted electric guitar': 955, 'female singer': 1142, 'trumpet': 406}\n",
      "loading metadata from /home/hugo/lab/instrument-recognition/data/mdb-solos-train-soundscapes/validation...\n",
      "found 3494 entries\n",
      "{'clarinet': 328, 'piano': 1022, 'flute': 233, 'female singer': 284, 'tenor saxophone': 29, 'violin': 1031, 'distorted electric guitar': 495, 'trumpet': 72}\n",
      "train entries: 5208\n",
      "val entries: 3494\n",
      "found checkpoint: /home/hugo/lab/instrument-recognition/test-tubes/transformer-search/seed=23_rnn=xfmr-8_recurrence_num_layers=1_/version_0/checkpoints/epoch=04-fscore_val=0.93.ckpt\n"
     ]
    },
    {
     "data": {
      "application/vnd.jupyter.widget-view+json": {
       "model_id": "63236af7c0284d5bba248b8c71254b0d",
       "version_major": 2,
       "version_minor": 0
      },
      "text/plain": [
       "HBox(children=(HTML(value='Testing'), FloatProgress(value=1.0, bar_style='info', layout=Layout(flex='2'), max=…"
      ]
     },
     "metadata": {},
     "output_type": "display_data"
    },
    {
     "name": "stdout",
     "output_type": "stream",
     "text": [
      "--------------------------------------------------------------------------------\n",
      "DATALOADER:0 TEST RESULTS\n",
      "{'ECE/test': 0.11911443079642851,\n",
      " 'accuracy/test': 0.8379372343903236,\n",
      " 'fscore/test': 0.8259531418810492,\n",
      " 'fscore_test': 0.8259531418810492,\n",
      " 'loss/test': tensor(0.9294),\n",
      " 'loss_test': tensor(0.9294),\n",
      " 'precision/test': 0.8590881423963715,\n",
      " 'recall/test': 0.8379372343903236}\n",
      "--------------------------------------------------------------------------------\n",
      "\n",
      "found checkpoint: /home/hugo/lab/instrument-recognition/test-tubes/transformer-search/seed=23_rnn=xfmr-32_recurrence_num_layers=2_/version_0/checkpoints/epoch=04-fscore_val=0.93.ckpt\n",
      "found checkpoint: /home/hugo/lab/instrument-recognition/test-tubes/transformer-search/seed=23_rnn=xfmr-32_recurrence_num_layers=2_/version_0/checkpoints/epoch=04-fscore_val=0.93.ckpt\n",
      "/home/hugo/lab/instrument-recognition/test-tubes/transformer-search/seed=23_rnn=xfmr-32_recurrence_num_layers=2_/version_0\n",
      "/home/hugo/lab/instrument-recognition/test-tubes/transformer-search/seed=23_rnn=xfmr-32_recurrence_num_layers=2_/version_0/checkpoints/epoch=04-fscore_val=0.93.ckpt\n",
      "loading metadata from /home/hugo/lab/instrument-recognition/data/mdb-solos-train-soundscapes/train...\n"
     ]
    },
    {
     "name": "stderr",
     "output_type": "stream",
     "text": [
      "100%|██████████| 5208/5208 [00:00<00:00, 41633.74it/s]\n",
      " 41%|████      | 4999/12236 [00:00<00:00, 49988.26it/s]"
     ]
    },
    {
     "name": "stdout",
     "output_type": "stream",
     "text": [
      "found 5208 entries\n",
      "{'trumpet': 1965, 'clarinet': 1966, 'tenor saxophone': 1914, 'piano': 1941, 'violin': 1948, 'female singer': 2011, 'flute': 1932, 'distorted electric guitar': 1945}\n",
      "loading metadata from /home/hugo/lab/instrument-recognition/data/mdb-solos-train-soundscapes/test...\n"
     ]
    },
    {
     "name": "stderr",
     "output_type": "stream",
     "text": [
      "100%|██████████| 12236/12236 [00:00<00:00, 49076.59it/s]\n",
      "100%|██████████| 3494/3494 [00:00<00:00, 48932.03it/s]\n",
      "/home/hugo/lab/venv/lib/python3.8/site-packages/pytorch_lightning/utilities/distributed.py:45: UserWarning: Checkpoint directory /home/hugo/lab/instrument-recognition/test-tubes/transformer-search/seed=23_rnn=xfmr-32_recurrence_num_layers=2_/version_0/checkpoints exists and is not empty. With save_top_k=3, all files in this directory will be deleted when a checkpoint is saved!\n",
      "  warnings.warn(*args, **kwargs)\n",
      "GPU available: True, used: False\n",
      "TPU available: False, using: 0 TPU cores\n"
     ]
    },
    {
     "name": "stdout",
     "output_type": "stream",
     "text": [
      "found 12236 entries\n",
      "{'clarinet': 732, 'piano': 2609, 'violin': 2900, 'tenor saxophone': 325, 'flute': 3167, 'distorted electric guitar': 955, 'female singer': 1142, 'trumpet': 406}\n",
      "loading metadata from /home/hugo/lab/instrument-recognition/data/mdb-solos-train-soundscapes/validation...\n",
      "found 3494 entries\n",
      "{'clarinet': 328, 'piano': 1022, 'flute': 233, 'female singer': 284, 'tenor saxophone': 29, 'violin': 1031, 'distorted electric guitar': 495, 'trumpet': 72}\n",
      "train entries: 5208\n",
      "val entries: 3494\n",
      "found checkpoint: /home/hugo/lab/instrument-recognition/test-tubes/transformer-search/seed=23_rnn=xfmr-32_recurrence_num_layers=2_/version_0/checkpoints/epoch=04-fscore_val=0.93.ckpt\n"
     ]
    },
    {
     "data": {
      "application/vnd.jupyter.widget-view+json": {
       "model_id": "9cb59ea3f5994a7ca644ee7ef63c99dd",
       "version_major": 2,
       "version_minor": 0
      },
      "text/plain": [
       "HBox(children=(HTML(value='Testing'), FloatProgress(value=1.0, bar_style='info', layout=Layout(flex='2'), max=…"
      ]
     },
     "metadata": {},
     "output_type": "display_data"
    },
    {
     "name": "stdout",
     "output_type": "stream",
     "text": [
      "--------------------------------------------------------------------------------\n",
      "DATALOADER:0 TEST RESULTS\n",
      "{'ECE/test': 0.13069422039767298,\n",
      " 'accuracy/test': 0.8297373869456249,\n",
      " 'fscore/test': 0.8177104629065668,\n",
      " 'fscore_test': 0.8177104629065668,\n",
      " 'loss/test': tensor(1.0397),\n",
      " 'loss_test': tensor(1.0397),\n",
      " 'precision/test': 0.8566279605024791,\n",
      " 'recall/test': 0.8297373869456249}\n",
      "--------------------------------------------------------------------------------\n",
      "\n",
      "found checkpoint: /home/hugo/lab/instrument-recognition/test-tubes/transformer-search/seed=11_rnn=xfmr-1_recurrence_num_layers=6_/version_0/checkpoints/epoch=247-fscore_val=0.95.ckpt\n",
      "found checkpoint: /home/hugo/lab/instrument-recognition/test-tubes/transformer-search/seed=11_rnn=xfmr-1_recurrence_num_layers=6_/version_0/checkpoints/epoch=247-fscore_val=0.95.ckpt\n",
      "/home/hugo/lab/instrument-recognition/test-tubes/transformer-search/seed=11_rnn=xfmr-1_recurrence_num_layers=6_/version_0\n",
      "/home/hugo/lab/instrument-recognition/test-tubes/transformer-search/seed=11_rnn=xfmr-1_recurrence_num_layers=6_/version_0/checkpoints/epoch=247-fscore_val=0.95.ckpt\n",
      "loading metadata from /home/hugo/lab/instrument-recognition/data/mdb-solos-train-soundscapes/train...\n"
     ]
    },
    {
     "name": "stderr",
     "output_type": "stream",
     "text": [
      "100%|██████████| 5208/5208 [00:00<00:00, 41552.73it/s]\n",
      " 41%|████      | 4996/12236 [00:00<00:00, 49953.14it/s]"
     ]
    },
    {
     "name": "stdout",
     "output_type": "stream",
     "text": [
      "found 5208 entries\n",
      "{'trumpet': 1965, 'clarinet': 1966, 'tenor saxophone': 1914, 'piano': 1941, 'violin': 1948, 'female singer': 2011, 'flute': 1932, 'distorted electric guitar': 1945}\n",
      "loading metadata from /home/hugo/lab/instrument-recognition/data/mdb-solos-train-soundscapes/test...\n"
     ]
    },
    {
     "name": "stderr",
     "output_type": "stream",
     "text": [
      "100%|██████████| 12236/12236 [00:00<00:00, 49451.83it/s]\n",
      "100%|██████████| 3494/3494 [00:00<00:00, 48987.48it/s]\n",
      "/home/hugo/lab/venv/lib/python3.8/site-packages/pytorch_lightning/utilities/distributed.py:45: UserWarning: Checkpoint directory /home/hugo/lab/instrument-recognition/test-tubes/transformer-search/seed=11_rnn=xfmr-1_recurrence_num_layers=6_/version_0/checkpoints exists and is not empty. With save_top_k=3, all files in this directory will be deleted when a checkpoint is saved!\n",
      "  warnings.warn(*args, **kwargs)\n",
      "GPU available: True, used: False\n",
      "TPU available: False, using: 0 TPU cores\n"
     ]
    },
    {
     "name": "stdout",
     "output_type": "stream",
     "text": [
      "found 12236 entries\n",
      "{'clarinet': 732, 'piano': 2609, 'violin': 2900, 'tenor saxophone': 325, 'flute': 3167, 'distorted electric guitar': 955, 'female singer': 1142, 'trumpet': 406}\n",
      "loading metadata from /home/hugo/lab/instrument-recognition/data/mdb-solos-train-soundscapes/validation...\n",
      "found 3494 entries\n",
      "{'clarinet': 328, 'piano': 1022, 'flute': 233, 'female singer': 284, 'tenor saxophone': 29, 'violin': 1031, 'distorted electric guitar': 495, 'trumpet': 72}\n",
      "train entries: 5208\n",
      "val entries: 3494\n",
      "found checkpoint: /home/hugo/lab/instrument-recognition/test-tubes/transformer-search/seed=11_rnn=xfmr-1_recurrence_num_layers=6_/version_0/checkpoints/epoch=247-fscore_val=0.95.ckpt\n"
     ]
    },
    {
     "data": {
      "application/vnd.jupyter.widget-view+json": {
       "model_id": "f95b9eab8e684973a8ffa27da0c4a2b4",
       "version_major": 2,
       "version_minor": 0
      },
      "text/plain": [
       "HBox(children=(HTML(value='Testing'), FloatProgress(value=1.0, bar_style='info', layout=Layout(flex='2'), max=…"
      ]
     },
     "metadata": {},
     "output_type": "display_data"
    },
    {
     "name": "stdout",
     "output_type": "stream",
     "text": [
      "--------------------------------------------------------------------------------\n",
      "DATALOADER:0 TEST RESULTS\n",
      "{'ECE/test': 0.15853785597688297,\n",
      " 'accuracy/test': 0.8299553230903345,\n",
      " 'fscore/test': 0.8159519128772107,\n",
      " 'fscore_test': 0.8159519128772107,\n",
      " 'loss/test': tensor(1.7724),\n",
      " 'loss_test': tensor(1.7724),\n",
      " 'precision/test': 0.8557071614441687,\n",
      " 'recall/test': 0.8299553230903345}\n",
      "--------------------------------------------------------------------------------\n",
      "\n",
      "found checkpoint: /home/hugo/lab/instrument-recognition/test-tubes/transformer-search/seed=440_rnn=xfmr-32_recurrence_num_layers=8_/version_0/checkpoints/epoch=09-fscore_val=0.92.ckpt\n",
      "found checkpoint: /home/hugo/lab/instrument-recognition/test-tubes/transformer-search/seed=440_rnn=xfmr-32_recurrence_num_layers=8_/version_0/checkpoints/epoch=09-fscore_val=0.92.ckpt\n",
      "/home/hugo/lab/instrument-recognition/test-tubes/transformer-search/seed=440_rnn=xfmr-32_recurrence_num_layers=8_/version_0\n",
      "/home/hugo/lab/instrument-recognition/test-tubes/transformer-search/seed=440_rnn=xfmr-32_recurrence_num_layers=8_/version_0/checkpoints/epoch=09-fscore_val=0.92.ckpt\n"
     ]
    },
    {
     "name": "stderr",
     "output_type": "stream",
     "text": [
      "100%|██████████| 5208/5208 [00:00<00:00, 39264.49it/s]"
     ]
    },
    {
     "name": "stdout",
     "output_type": "stream",
     "text": [
      "loading metadata from /home/hugo/lab/instrument-recognition/data/mdb-solos-train-soundscapes/train...\n",
      "found 5208 entries\n",
      "{'trumpet': 1965, 'clarinet': 1966, 'tenor saxophone': 1914, 'piano': 1941, 'violin': 1948, 'female singer': 2011, 'flute': 1932, 'distorted electric guitar': 1945}\n",
      "loading metadata from /home/hugo/lab/instrument-recognition/data/mdb-solos-train-soundscapes/test...\n"
     ]
    },
    {
     "name": "stderr",
     "output_type": "stream",
     "text": [
      "\n",
      "100%|██████████| 12236/12236 [00:00<00:00, 45672.62it/s]\n",
      "100%|██████████| 3494/3494 [00:00<00:00, 48692.38it/s]\n",
      "/home/hugo/lab/venv/lib/python3.8/site-packages/pytorch_lightning/utilities/distributed.py:45: UserWarning: Checkpoint directory /home/hugo/lab/instrument-recognition/test-tubes/transformer-search/seed=440_rnn=xfmr-32_recurrence_num_layers=8_/version_0/checkpoints exists and is not empty. With save_top_k=3, all files in this directory will be deleted when a checkpoint is saved!\n",
      "  warnings.warn(*args, **kwargs)\n",
      "GPU available: True, used: False\n",
      "TPU available: False, using: 0 TPU cores\n"
     ]
    },
    {
     "name": "stdout",
     "output_type": "stream",
     "text": [
      "found 12236 entries\n",
      "{'clarinet': 732, 'piano': 2609, 'violin': 2900, 'tenor saxophone': 325, 'flute': 3167, 'distorted electric guitar': 955, 'female singer': 1142, 'trumpet': 406}\n",
      "loading metadata from /home/hugo/lab/instrument-recognition/data/mdb-solos-train-soundscapes/validation...\n",
      "found 3494 entries\n",
      "{'clarinet': 328, 'piano': 1022, 'flute': 233, 'female singer': 284, 'tenor saxophone': 29, 'violin': 1031, 'distorted electric guitar': 495, 'trumpet': 72}\n",
      "train entries: 5208\n",
      "val entries: 3494\n",
      "found checkpoint: /home/hugo/lab/instrument-recognition/test-tubes/transformer-search/seed=440_rnn=xfmr-32_recurrence_num_layers=8_/version_0/checkpoints/epoch=09-fscore_val=0.92.ckpt\n"
     ]
    },
    {
     "data": {
      "application/vnd.jupyter.widget-view+json": {
       "model_id": "6928738c71274700b9865511e418b4de",
       "version_major": 2,
       "version_minor": 0
      },
      "text/plain": [
       "HBox(children=(HTML(value='Testing'), FloatProgress(value=1.0, bar_style='info', layout=Layout(flex='2'), max=…"
      ]
     },
     "metadata": {},
     "output_type": "display_data"
    },
    {
     "name": "stdout",
     "output_type": "stream",
     "text": [
      "--------------------------------------------------------------------------------\n",
      "DATALOADER:0 TEST RESULTS\n",
      "{'ECE/test': 0.13415703389270378,\n",
      " 'accuracy/test': 0.8362754712869129,\n",
      " 'fscore/test': 0.8245336312814258,\n",
      " 'fscore_test': 0.8245336312814258,\n",
      " 'loss/test': tensor(0.9972),\n",
      " 'loss_test': tensor(0.9972),\n",
      " 'precision/test': 0.854180320164894,\n",
      " 'recall/test': 0.8362754712869129}\n",
      "--------------------------------------------------------------------------------\n",
      "\n",
      "found checkpoint: /home/hugo/lab/instrument-recognition/test-tubes/transformer-search/seed=11_rnn=xfmr-8_recurrence_num_layers=4_/version_0/checkpoints/epoch=30-fscore_val=0.93.ckpt\n"
     ]
    },
    {
     "name": "stderr",
     "output_type": "stream",
     "text": [
      "  0%|          | 0/5208 [00:00<?, ?it/s]"
     ]
    },
    {
     "name": "stdout",
     "output_type": "stream",
     "text": [
      "found checkpoint: /home/hugo/lab/instrument-recognition/test-tubes/transformer-search/seed=11_rnn=xfmr-8_recurrence_num_layers=4_/version_0/checkpoints/epoch=30-fscore_val=0.93.ckpt\n",
      "/home/hugo/lab/instrument-recognition/test-tubes/transformer-search/seed=11_rnn=xfmr-8_recurrence_num_layers=4_/version_0\n",
      "/home/hugo/lab/instrument-recognition/test-tubes/transformer-search/seed=11_rnn=xfmr-8_recurrence_num_layers=4_/version_0/checkpoints/epoch=30-fscore_val=0.93.ckpt\n",
      "loading metadata from /home/hugo/lab/instrument-recognition/data/mdb-solos-train-soundscapes/train...\n"
     ]
    },
    {
     "name": "stderr",
     "output_type": "stream",
     "text": [
      "100%|██████████| 5208/5208 [00:01<00:00, 3275.17it/s] \n",
      " 40%|████      | 4934/12236 [00:00<00:00, 49324.17it/s]"
     ]
    },
    {
     "name": "stdout",
     "output_type": "stream",
     "text": [
      "found 5208 entries\n",
      "{'trumpet': 1965, 'clarinet': 1966, 'tenor saxophone': 1914, 'piano': 1941, 'violin': 1948, 'female singer': 2011, 'flute': 1932, 'distorted electric guitar': 1945}\n",
      "loading metadata from /home/hugo/lab/instrument-recognition/data/mdb-solos-train-soundscapes/test...\n"
     ]
    },
    {
     "name": "stderr",
     "output_type": "stream",
     "text": [
      "100%|██████████| 12236/12236 [00:00<00:00, 49274.87it/s]\n",
      "100%|██████████| 3494/3494 [00:00<00:00, 38612.57it/s]\n",
      "/home/hugo/lab/venv/lib/python3.8/site-packages/pytorch_lightning/utilities/distributed.py:45: UserWarning: Checkpoint directory /home/hugo/lab/instrument-recognition/test-tubes/transformer-search/seed=11_rnn=xfmr-8_recurrence_num_layers=4_/version_0/checkpoints exists and is not empty. With save_top_k=3, all files in this directory will be deleted when a checkpoint is saved!\n",
      "  warnings.warn(*args, **kwargs)\n",
      "GPU available: True, used: False\n",
      "TPU available: False, using: 0 TPU cores\n"
     ]
    },
    {
     "name": "stdout",
     "output_type": "stream",
     "text": [
      "found 12236 entries\n",
      "{'clarinet': 732, 'piano': 2609, 'violin': 2900, 'tenor saxophone': 325, 'flute': 3167, 'distorted electric guitar': 955, 'female singer': 1142, 'trumpet': 406}\n",
      "loading metadata from /home/hugo/lab/instrument-recognition/data/mdb-solos-train-soundscapes/validation...\n",
      "found 3494 entries\n",
      "{'clarinet': 328, 'piano': 1022, 'flute': 233, 'female singer': 284, 'tenor saxophone': 29, 'violin': 1031, 'distorted electric guitar': 495, 'trumpet': 72}\n",
      "train entries: 5208\n",
      "val entries: 3494\n",
      "found checkpoint: /home/hugo/lab/instrument-recognition/test-tubes/transformer-search/seed=11_rnn=xfmr-8_recurrence_num_layers=4_/version_0/checkpoints/epoch=30-fscore_val=0.93.ckpt\n"
     ]
    },
    {
     "data": {
      "application/vnd.jupyter.widget-view+json": {
       "model_id": "d324b7cbbdc8466094d05616965348fb",
       "version_major": 2,
       "version_minor": 0
      },
      "text/plain": [
       "HBox(children=(HTML(value='Testing'), FloatProgress(value=1.0, bar_style='info', layout=Layout(flex='2'), max=…"
      ]
     },
     "metadata": {},
     "output_type": "display_data"
    },
    {
     "name": "stdout",
     "output_type": "stream",
     "text": [
      "--------------------------------------------------------------------------------\n",
      "DATALOADER:0 TEST RESULTS\n",
      "{'ECE/test': 0.13234001179610874,\n",
      " 'accuracy/test': 0.8407431622534597,\n",
      " 'fscore/test': 0.8311815202770287,\n",
      " 'fscore_test': 0.8311815202770287,\n",
      " 'loss/test': tensor(1.0614),\n",
      " 'loss_test': tensor(1.0614),\n",
      " 'precision/test': 0.8588335464868926,\n",
      " 'recall/test': 0.8407431622534597}\n",
      "--------------------------------------------------------------------------------\n",
      "\n",
      "found checkpoint: /home/hugo/lab/instrument-recognition/test-tubes/transformer-search/seed=23_rnn=xfmr-4_recurrence_num_layers=4_/version_0/checkpoints/epoch=04-fscore_val=0.93.ckpt\n"
     ]
    },
    {
     "name": "stderr",
     "output_type": "stream",
     "text": [
      "  0%|          | 0/5208 [00:00<?, ?it/s]"
     ]
    },
    {
     "name": "stdout",
     "output_type": "stream",
     "text": [
      "found checkpoint: /home/hugo/lab/instrument-recognition/test-tubes/transformer-search/seed=23_rnn=xfmr-4_recurrence_num_layers=4_/version_0/checkpoints/epoch=04-fscore_val=0.93.ckpt\n",
      "/home/hugo/lab/instrument-recognition/test-tubes/transformer-search/seed=23_rnn=xfmr-4_recurrence_num_layers=4_/version_0\n",
      "/home/hugo/lab/instrument-recognition/test-tubes/transformer-search/seed=23_rnn=xfmr-4_recurrence_num_layers=4_/version_0/checkpoints/epoch=04-fscore_val=0.93.ckpt\n",
      "loading metadata from /home/hugo/lab/instrument-recognition/data/mdb-solos-train-soundscapes/train...\n"
     ]
    },
    {
     "name": "stderr",
     "output_type": "stream",
     "text": [
      "100%|██████████| 5208/5208 [00:00<00:00, 41042.90it/s]\n",
      " 33%|███▎      | 3990/12236 [00:00<00:00, 39895.57it/s]"
     ]
    },
    {
     "name": "stdout",
     "output_type": "stream",
     "text": [
      "found 5208 entries\n",
      "{'trumpet': 1965, 'clarinet': 1966, 'tenor saxophone': 1914, 'piano': 1941, 'violin': 1948, 'female singer': 2011, 'flute': 1932, 'distorted electric guitar': 1945}\n",
      "loading metadata from /home/hugo/lab/instrument-recognition/data/mdb-solos-train-soundscapes/test...\n"
     ]
    },
    {
     "name": "stderr",
     "output_type": "stream",
     "text": [
      "100%|██████████| 12236/12236 [00:00<00:00, 45451.57it/s]\n",
      "100%|██████████| 3494/3494 [00:00<00:00, 49303.91it/s]\n",
      "/home/hugo/lab/venv/lib/python3.8/site-packages/pytorch_lightning/utilities/distributed.py:45: UserWarning: Checkpoint directory /home/hugo/lab/instrument-recognition/test-tubes/transformer-search/seed=23_rnn=xfmr-4_recurrence_num_layers=4_/version_0/checkpoints exists and is not empty. With save_top_k=3, all files in this directory will be deleted when a checkpoint is saved!\n",
      "  warnings.warn(*args, **kwargs)\n",
      "GPU available: True, used: False\n",
      "TPU available: False, using: 0 TPU cores\n"
     ]
    },
    {
     "name": "stdout",
     "output_type": "stream",
     "text": [
      "found 12236 entries\n",
      "{'clarinet': 732, 'piano': 2609, 'violin': 2900, 'tenor saxophone': 325, 'flute': 3167, 'distorted electric guitar': 955, 'female singer': 1142, 'trumpet': 406}\n",
      "loading metadata from /home/hugo/lab/instrument-recognition/data/mdb-solos-train-soundscapes/validation...\n",
      "found 3494 entries\n",
      "{'clarinet': 328, 'piano': 1022, 'flute': 233, 'female singer': 284, 'tenor saxophone': 29, 'violin': 1031, 'distorted electric guitar': 495, 'trumpet': 72}\n",
      "train entries: 5208\n",
      "val entries: 3494\n",
      "found checkpoint: /home/hugo/lab/instrument-recognition/test-tubes/transformer-search/seed=23_rnn=xfmr-4_recurrence_num_layers=4_/version_0/checkpoints/epoch=04-fscore_val=0.93.ckpt\n"
     ]
    },
    {
     "data": {
      "application/vnd.jupyter.widget-view+json": {
       "model_id": "9291018b00c34970bf21af72c4ecda7b",
       "version_major": 2,
       "version_minor": 0
      },
      "text/plain": [
       "HBox(children=(HTML(value='Testing'), FloatProgress(value=1.0, bar_style='info', layout=Layout(flex='2'), max=…"
      ]
     },
     "metadata": {},
     "output_type": "display_data"
    },
    {
     "name": "stdout",
     "output_type": "stream",
     "text": [
      "--------------------------------------------------------------------------------\n",
      "DATALOADER:0 TEST RESULTS\n",
      "{'ECE/test': 0.10414154988427268,\n",
      " 'accuracy/test': 0.8571973411790346,\n",
      " 'fscore/test': 0.8488027305932487,\n",
      " 'fscore_test': 0.8488027305932487,\n",
      " 'loss/test': tensor(0.7745),\n",
      " 'loss_test': tensor(0.7745),\n",
      " 'precision/test': 0.8697680771012904,\n",
      " 'recall/test': 0.8571973411790346}\n",
      "--------------------------------------------------------------------------------\n",
      "\n",
      "found checkpoint: /home/hugo/lab/instrument-recognition/test-tubes/transformer-search/seed=12_rnn=xfmr-2_recurrence_num_layers=4_/version_0/checkpoints/epoch=111-fscore_val=0.95.ckpt\n"
     ]
    },
    {
     "name": "stderr",
     "output_type": "stream",
     "text": [
      "  0%|          | 0/5208 [00:00<?, ?it/s]"
     ]
    },
    {
     "name": "stdout",
     "output_type": "stream",
     "text": [
      "found checkpoint: /home/hugo/lab/instrument-recognition/test-tubes/transformer-search/seed=12_rnn=xfmr-2_recurrence_num_layers=4_/version_0/checkpoints/epoch=111-fscore_val=0.95.ckpt\n",
      "/home/hugo/lab/instrument-recognition/test-tubes/transformer-search/seed=12_rnn=xfmr-2_recurrence_num_layers=4_/version_0\n",
      "/home/hugo/lab/instrument-recognition/test-tubes/transformer-search/seed=12_rnn=xfmr-2_recurrence_num_layers=4_/version_0/checkpoints/epoch=111-fscore_val=0.95.ckpt\n",
      "loading metadata from /home/hugo/lab/instrument-recognition/data/mdb-solos-train-soundscapes/train...\n"
     ]
    },
    {
     "name": "stderr",
     "output_type": "stream",
     "text": [
      "100%|██████████| 5208/5208 [00:00<00:00, 36087.43it/s]\n",
      " 40%|████      | 4949/12236 [00:00<00:00, 49488.75it/s]"
     ]
    },
    {
     "name": "stdout",
     "output_type": "stream",
     "text": [
      "found 5208 entries\n",
      "{'trumpet': 1965, 'clarinet': 1966, 'tenor saxophone': 1914, 'piano': 1941, 'violin': 1948, 'female singer': 2011, 'flute': 1932, 'distorted electric guitar': 1945}\n",
      "loading metadata from /home/hugo/lab/instrument-recognition/data/mdb-solos-train-soundscapes/test...\n"
     ]
    },
    {
     "name": "stderr",
     "output_type": "stream",
     "text": [
      "100%|██████████| 12236/12236 [00:00<00:00, 48956.14it/s]\n",
      "100%|██████████| 3494/3494 [00:00<00:00, 37952.69it/s]\n",
      "/home/hugo/lab/venv/lib/python3.8/site-packages/pytorch_lightning/utilities/distributed.py:45: UserWarning: Checkpoint directory /home/hugo/lab/instrument-recognition/test-tubes/transformer-search/seed=12_rnn=xfmr-2_recurrence_num_layers=4_/version_0/checkpoints exists and is not empty. With save_top_k=3, all files in this directory will be deleted when a checkpoint is saved!\n",
      "  warnings.warn(*args, **kwargs)\n",
      "GPU available: True, used: False\n",
      "TPU available: False, using: 0 TPU cores\n"
     ]
    },
    {
     "name": "stdout",
     "output_type": "stream",
     "text": [
      "found 12236 entries\n",
      "{'clarinet': 732, 'piano': 2609, 'violin': 2900, 'tenor saxophone': 325, 'flute': 3167, 'distorted electric guitar': 955, 'female singer': 1142, 'trumpet': 406}\n",
      "loading metadata from /home/hugo/lab/instrument-recognition/data/mdb-solos-train-soundscapes/validation...\n",
      "found 3494 entries\n",
      "{'clarinet': 328, 'piano': 1022, 'flute': 233, 'female singer': 284, 'tenor saxophone': 29, 'violin': 1031, 'distorted electric guitar': 495, 'trumpet': 72}\n",
      "train entries: 5208\n",
      "val entries: 3494\n",
      "found checkpoint: /home/hugo/lab/instrument-recognition/test-tubes/transformer-search/seed=12_rnn=xfmr-2_recurrence_num_layers=4_/version_0/checkpoints/epoch=111-fscore_val=0.95.ckpt\n"
     ]
    },
    {
     "data": {
      "application/vnd.jupyter.widget-view+json": {
       "model_id": "548ba56d86da43c8913b7c73aa0cf018",
       "version_major": 2,
       "version_minor": 0
      },
      "text/plain": [
       "HBox(children=(HTML(value='Testing'), FloatProgress(value=1.0, bar_style='info', layout=Layout(flex='2'), max=…"
      ]
     },
     "metadata": {},
     "output_type": "display_data"
    },
    {
     "name": "stdout",
     "output_type": "stream",
     "text": [
      "--------------------------------------------------------------------------------\n",
      "DATALOADER:0 TEST RESULTS\n",
      "{'ECE/test': 0.14397023626015282,\n",
      " 'accuracy/test': 0.8354854527623407,\n",
      " 'fscore/test': 0.8243575115205143,\n",
      " 'fscore_test': 0.8243575115205143,\n",
      " 'loss/test': tensor(1.3505),\n",
      " 'loss_test': tensor(1.3505),\n",
      " 'precision/test': 0.8632381977554686,\n",
      " 'recall/test': 0.8354854527623407}\n",
      "--------------------------------------------------------------------------------\n",
      "\n",
      "found checkpoint: /home/hugo/lab/instrument-recognition/test-tubes/transformer-search/seed=433_rnn=xfmr-8_recurrence_num_layers=1_/version_0/checkpoints/epoch=04-fscore_val=0.93.ckpt\n",
      "found checkpoint: /home/hugo/lab/instrument-recognition/test-tubes/transformer-search/seed=433_rnn=xfmr-8_recurrence_num_layers=1_/version_0/checkpoints/epoch=04-fscore_val=0.93.ckpt\n",
      "/home/hugo/lab/instrument-recognition/test-tubes/transformer-search/seed=433_rnn=xfmr-8_recurrence_num_layers=1_/version_0\n",
      "/home/hugo/lab/instrument-recognition/test-tubes/transformer-search/seed=433_rnn=xfmr-8_recurrence_num_layers=1_/version_0/checkpoints/epoch=04-fscore_val=0.93.ckpt\n"
     ]
    },
    {
     "name": "stderr",
     "output_type": "stream",
     "text": [
      "100%|██████████| 5208/5208 [00:00<00:00, 41633.74it/s]"
     ]
    },
    {
     "name": "stdout",
     "output_type": "stream",
     "text": [
      "loading metadata from /home/hugo/lab/instrument-recognition/data/mdb-solos-train-soundscapes/train...\n",
      "found 5208 entries\n",
      "{'trumpet': 1965, 'clarinet': 1966, 'tenor saxophone': 1914, 'piano': 1941, 'violin': 1948, 'female singer': 2011, 'flute': 1932, 'distorted electric guitar': 1945}\n",
      "loading metadata from /home/hugo/lab/instrument-recognition/data/mdb-solos-train-soundscapes/test...\n"
     ]
    },
    {
     "name": "stderr",
     "output_type": "stream",
     "text": [
      "\n",
      "100%|██████████| 12236/12236 [00:00<00:00, 49348.12it/s]\n",
      "100%|██████████| 3494/3494 [00:00<00:00, 49189.73it/s]\n",
      "/home/hugo/lab/venv/lib/python3.8/site-packages/pytorch_lightning/utilities/distributed.py:45: UserWarning: Checkpoint directory /home/hugo/lab/instrument-recognition/test-tubes/transformer-search/seed=433_rnn=xfmr-8_recurrence_num_layers=1_/version_0/checkpoints exists and is not empty. With save_top_k=3, all files in this directory will be deleted when a checkpoint is saved!\n",
      "  warnings.warn(*args, **kwargs)\n",
      "GPU available: True, used: False\n",
      "TPU available: False, using: 0 TPU cores\n"
     ]
    },
    {
     "name": "stdout",
     "output_type": "stream",
     "text": [
      "found 12236 entries\n",
      "{'clarinet': 732, 'piano': 2609, 'violin': 2900, 'tenor saxophone': 325, 'flute': 3167, 'distorted electric guitar': 955, 'female singer': 1142, 'trumpet': 406}\n",
      "loading metadata from /home/hugo/lab/instrument-recognition/data/mdb-solos-train-soundscapes/validation...\n",
      "found 3494 entries\n",
      "{'clarinet': 328, 'piano': 1022, 'flute': 233, 'female singer': 284, 'tenor saxophone': 29, 'violin': 1031, 'distorted electric guitar': 495, 'trumpet': 72}\n",
      "train entries: 5208\n",
      "val entries: 3494\n",
      "found checkpoint: /home/hugo/lab/instrument-recognition/test-tubes/transformer-search/seed=433_rnn=xfmr-8_recurrence_num_layers=1_/version_0/checkpoints/epoch=04-fscore_val=0.93.ckpt\n"
     ]
    },
    {
     "data": {
      "application/vnd.jupyter.widget-view+json": {
       "model_id": "53243ff9fb2949ffbaecc9cfeddd9367",
       "version_major": 2,
       "version_minor": 0
      },
      "text/plain": [
       "HBox(children=(HTML(value='Testing'), FloatProgress(value=1.0, bar_style='info', layout=Layout(flex='2'), max=…"
      ]
     },
     "metadata": {},
     "output_type": "display_data"
    },
    {
     "name": "stderr",
     "output_type": "stream",
     "text": [
      "  0%|          | 0/5208 [00:00<?, ?it/s]"
     ]
    },
    {
     "name": "stdout",
     "output_type": "stream",
     "text": [
      "--------------------------------------------------------------------------------\n",
      "DATALOADER:0 TEST RESULTS\n",
      "{'ECE/test': 0.11700978952531943,\n",
      " 'accuracy/test': 0.8411790345428789,\n",
      " 'fscore/test': 0.8295312306052082,\n",
      " 'fscore_test': 0.8295312306052082,\n",
      " 'loss/test': tensor(0.9216),\n",
      " 'loss_test': tensor(0.9216),\n",
      " 'precision/test': 0.860374596531311,\n",
      " 'recall/test': 0.8411790345428789}\n",
      "--------------------------------------------------------------------------------\n",
      "\n",
      "found checkpoint: /home/hugo/lab/instrument-recognition/test-tubes/transformer-search/seed=12_rnn=xfmr-64_recurrence_num_layers=1_/version_0/checkpoints/epoch=06-fscore_val=0.93.ckpt\n",
      "found checkpoint: /home/hugo/lab/instrument-recognition/test-tubes/transformer-search/seed=12_rnn=xfmr-64_recurrence_num_layers=1_/version_0/checkpoints/epoch=06-fscore_val=0.93.ckpt\n",
      "/home/hugo/lab/instrument-recognition/test-tubes/transformer-search/seed=12_rnn=xfmr-64_recurrence_num_layers=1_/version_0\n",
      "/home/hugo/lab/instrument-recognition/test-tubes/transformer-search/seed=12_rnn=xfmr-64_recurrence_num_layers=1_/version_0/checkpoints/epoch=06-fscore_val=0.93.ckpt\n",
      "loading metadata from /home/hugo/lab/instrument-recognition/data/mdb-solos-train-soundscapes/train...\n"
     ]
    },
    {
     "name": "stderr",
     "output_type": "stream",
     "text": [
      "100%|██████████| 5208/5208 [00:00<00:00, 41027.56it/s]\n",
      " 41%|████▏     | 5051/12236 [00:00<00:00, 50509.33it/s]"
     ]
    },
    {
     "name": "stdout",
     "output_type": "stream",
     "text": [
      "found 5208 entries\n",
      "{'trumpet': 1965, 'clarinet': 1966, 'tenor saxophone': 1914, 'piano': 1941, 'violin': 1948, 'female singer': 2011, 'flute': 1932, 'distorted electric guitar': 1945}\n",
      "loading metadata from /home/hugo/lab/instrument-recognition/data/mdb-solos-train-soundscapes/test...\n"
     ]
    },
    {
     "name": "stderr",
     "output_type": "stream",
     "text": [
      "100%|██████████| 12236/12236 [00:00<00:00, 49320.33it/s]\n",
      "100%|██████████| 3494/3494 [00:00<00:00, 49038.29it/s]\n",
      "/home/hugo/lab/venv/lib/python3.8/site-packages/pytorch_lightning/utilities/distributed.py:45: UserWarning: Checkpoint directory /home/hugo/lab/instrument-recognition/test-tubes/transformer-search/seed=12_rnn=xfmr-64_recurrence_num_layers=1_/version_0/checkpoints exists and is not empty. With save_top_k=3, all files in this directory will be deleted when a checkpoint is saved!\n",
      "  warnings.warn(*args, **kwargs)\n",
      "GPU available: True, used: False\n",
      "TPU available: False, using: 0 TPU cores\n"
     ]
    },
    {
     "name": "stdout",
     "output_type": "stream",
     "text": [
      "found 12236 entries\n",
      "{'clarinet': 732, 'piano': 2609, 'violin': 2900, 'tenor saxophone': 325, 'flute': 3167, 'distorted electric guitar': 955, 'female singer': 1142, 'trumpet': 406}\n",
      "loading metadata from /home/hugo/lab/instrument-recognition/data/mdb-solos-train-soundscapes/validation...\n",
      "found 3494 entries\n",
      "{'clarinet': 328, 'piano': 1022, 'flute': 233, 'female singer': 284, 'tenor saxophone': 29, 'violin': 1031, 'distorted electric guitar': 495, 'trumpet': 72}\n",
      "train entries: 5208\n",
      "val entries: 3494\n",
      "found checkpoint: /home/hugo/lab/instrument-recognition/test-tubes/transformer-search/seed=12_rnn=xfmr-64_recurrence_num_layers=1_/version_0/checkpoints/epoch=06-fscore_val=0.93.ckpt\n"
     ]
    },
    {
     "data": {
      "application/vnd.jupyter.widget-view+json": {
       "model_id": "12453c1e442d453d92164a09dd246a4d",
       "version_major": 2,
       "version_minor": 0
      },
      "text/plain": [
       "HBox(children=(HTML(value='Testing'), FloatProgress(value=1.0, bar_style='info', layout=Layout(flex='2'), max=…"
      ]
     },
     "metadata": {},
     "output_type": "display_data"
    },
    {
     "name": "stdout",
     "output_type": "stream",
     "text": [
      "--------------------------------------------------------------------------------\n",
      "DATALOADER:0 TEST RESULTS\n",
      "{'ECE/test': 0.10988060810898621,\n",
      " 'accuracy/test': 0.8506320148196579,\n",
      " 'fscore/test': 0.8421821025120481,\n",
      " 'fscore_test': 0.8421821025120481,\n",
      " 'loss/test': tensor(0.9252),\n",
      " 'loss_test': tensor(0.9252),\n",
      " 'precision/test': 0.8665228520467738,\n",
      " 'recall/test': 0.8506320148196579}\n",
      "--------------------------------------------------------------------------------\n",
      "\n",
      "found checkpoint: /home/hugo/lab/instrument-recognition/test-tubes/transformer-search/seed=12_rnn=xfmr-1_recurrence_num_layers=4_/version_0/checkpoints/epoch=25-fscore_val=0.93.ckpt\n"
     ]
    },
    {
     "name": "stderr",
     "output_type": "stream",
     "text": [
      "  0%|          | 0/5208 [00:00<?, ?it/s]"
     ]
    },
    {
     "name": "stdout",
     "output_type": "stream",
     "text": [
      "found checkpoint: /home/hugo/lab/instrument-recognition/test-tubes/transformer-search/seed=12_rnn=xfmr-1_recurrence_num_layers=4_/version_0/checkpoints/epoch=25-fscore_val=0.93.ckpt\n",
      "/home/hugo/lab/instrument-recognition/test-tubes/transformer-search/seed=12_rnn=xfmr-1_recurrence_num_layers=4_/version_0\n",
      "/home/hugo/lab/instrument-recognition/test-tubes/transformer-search/seed=12_rnn=xfmr-1_recurrence_num_layers=4_/version_0/checkpoints/epoch=25-fscore_val=0.93.ckpt\n",
      "loading metadata from /home/hugo/lab/instrument-recognition/data/mdb-solos-train-soundscapes/train...\n"
     ]
    },
    {
     "name": "stderr",
     "output_type": "stream",
     "text": [
      "100%|██████████| 5208/5208 [00:00<00:00, 41253.42it/s]\n",
      " 41%|████      | 5004/12236 [00:00<00:00, 50036.47it/s]"
     ]
    },
    {
     "name": "stdout",
     "output_type": "stream",
     "text": [
      "found 5208 entries\n",
      "{'trumpet': 1965, 'clarinet': 1966, 'tenor saxophone': 1914, 'piano': 1941, 'violin': 1948, 'female singer': 2011, 'flute': 1932, 'distorted electric guitar': 1945}\n",
      "loading metadata from /home/hugo/lab/instrument-recognition/data/mdb-solos-train-soundscapes/test...\n"
     ]
    },
    {
     "name": "stderr",
     "output_type": "stream",
     "text": [
      "100%|██████████| 12236/12236 [00:01<00:00, 6882.76it/s]\n",
      "100%|██████████| 3494/3494 [00:00<00:00, 49155.90it/s]\n",
      "/home/hugo/lab/venv/lib/python3.8/site-packages/pytorch_lightning/utilities/distributed.py:45: UserWarning: Checkpoint directory /home/hugo/lab/instrument-recognition/test-tubes/transformer-search/seed=12_rnn=xfmr-1_recurrence_num_layers=4_/version_0/checkpoints exists and is not empty. With save_top_k=3, all files in this directory will be deleted when a checkpoint is saved!\n",
      "  warnings.warn(*args, **kwargs)\n",
      "GPU available: True, used: False\n",
      "TPU available: False, using: 0 TPU cores\n"
     ]
    },
    {
     "name": "stdout",
     "output_type": "stream",
     "text": [
      "found 12236 entries\n",
      "{'clarinet': 732, 'piano': 2609, 'violin': 2900, 'tenor saxophone': 325, 'flute': 3167, 'distorted electric guitar': 955, 'female singer': 1142, 'trumpet': 406}\n",
      "loading metadata from /home/hugo/lab/instrument-recognition/data/mdb-solos-train-soundscapes/validation...\n",
      "found 3494 entries\n",
      "{'clarinet': 328, 'piano': 1022, 'flute': 233, 'female singer': 284, 'tenor saxophone': 29, 'violin': 1031, 'distorted electric guitar': 495, 'trumpet': 72}\n",
      "train entries: 5208\n",
      "val entries: 3494\n",
      "found checkpoint: /home/hugo/lab/instrument-recognition/test-tubes/transformer-search/seed=12_rnn=xfmr-1_recurrence_num_layers=4_/version_0/checkpoints/epoch=25-fscore_val=0.93.ckpt\n"
     ]
    },
    {
     "data": {
      "application/vnd.jupyter.widget-view+json": {
       "model_id": "266a61a9c7a4422cb48bfeed4ddbaa34",
       "version_major": 2,
       "version_minor": 0
      },
      "text/plain": [
       "HBox(children=(HTML(value='Testing'), FloatProgress(value=1.0, bar_style='info', layout=Layout(flex='2'), max=…"
      ]
     },
     "metadata": {},
     "output_type": "display_data"
    },
    {
     "name": "stdout",
     "output_type": "stream",
     "text": [
      "--------------------------------------------------------------------------------\n",
      "DATALOADER:0 TEST RESULTS\n",
      "{'ECE/test': 0.11503737110843898,\n",
      " 'accuracy/test': 0.8551269478042933,\n",
      " 'fscore/test': 0.8449252655128899,\n",
      " 'fscore_test': 0.8449252655128899,\n",
      " 'loss/test': tensor(0.9182),\n",
      " 'loss_test': tensor(0.9182),\n",
      " 'precision/test': 0.8626857602976971,\n",
      " 'recall/test': 0.8551269478042933}\n",
      "--------------------------------------------------------------------------------\n",
      "\n",
      "found checkpoint: /home/hugo/lab/instrument-recognition/test-tubes/transformer-search/seed=12_rnn=xfmr-64_recurrence_num_layers=2_/version_0/checkpoints/epoch=04-fscore_val=0.93.ckpt\n",
      "found checkpoint: /home/hugo/lab/instrument-recognition/test-tubes/transformer-search/seed=12_rnn=xfmr-64_recurrence_num_layers=2_/version_0/checkpoints/epoch=04-fscore_val=0.93.ckpt\n",
      "/home/hugo/lab/instrument-recognition/test-tubes/transformer-search/seed=12_rnn=xfmr-64_recurrence_num_layers=2_/version_0\n",
      "/home/hugo/lab/instrument-recognition/test-tubes/transformer-search/seed=12_rnn=xfmr-64_recurrence_num_layers=2_/version_0/checkpoints/epoch=04-fscore_val=0.93.ckpt\n",
      "loading metadata from /home/hugo/lab/instrument-recognition/data/mdb-solos-train-soundscapes/train...\n"
     ]
    },
    {
     "name": "stderr",
     "output_type": "stream",
     "text": [
      "100%|██████████| 5208/5208 [00:00<00:00, 40640.86it/s]\n",
      "  0%|          | 0/12236 [00:00<?, ?it/s]"
     ]
    },
    {
     "name": "stdout",
     "output_type": "stream",
     "text": [
      "found 5208 entries\n",
      "{'trumpet': 1965, 'clarinet': 1966, 'tenor saxophone': 1914, 'piano': 1941, 'violin': 1948, 'female singer': 2011, 'flute': 1932, 'distorted electric guitar': 1945}\n",
      "loading metadata from /home/hugo/lab/instrument-recognition/data/mdb-solos-train-soundscapes/test...\n"
     ]
    },
    {
     "name": "stderr",
     "output_type": "stream",
     "text": [
      "100%|██████████| 12236/12236 [00:00<00:00, 46694.37it/s]\n",
      "100%|██████████| 3494/3494 [00:00<00:00, 49398.64it/s]\n",
      "/home/hugo/lab/venv/lib/python3.8/site-packages/pytorch_lightning/utilities/distributed.py:45: UserWarning: Checkpoint directory /home/hugo/lab/instrument-recognition/test-tubes/transformer-search/seed=12_rnn=xfmr-64_recurrence_num_layers=2_/version_0/checkpoints exists and is not empty. With save_top_k=3, all files in this directory will be deleted when a checkpoint is saved!\n",
      "  warnings.warn(*args, **kwargs)\n",
      "GPU available: True, used: False\n",
      "TPU available: False, using: 0 TPU cores\n"
     ]
    },
    {
     "name": "stdout",
     "output_type": "stream",
     "text": [
      "found 12236 entries\n",
      "{'clarinet': 732, 'piano': 2609, 'violin': 2900, 'tenor saxophone': 325, 'flute': 3167, 'distorted electric guitar': 955, 'female singer': 1142, 'trumpet': 406}\n",
      "loading metadata from /home/hugo/lab/instrument-recognition/data/mdb-solos-train-soundscapes/validation...\n",
      "found 3494 entries\n",
      "{'clarinet': 328, 'piano': 1022, 'flute': 233, 'female singer': 284, 'tenor saxophone': 29, 'violin': 1031, 'distorted electric guitar': 495, 'trumpet': 72}\n",
      "train entries: 5208\n",
      "val entries: 3494\n",
      "found checkpoint: /home/hugo/lab/instrument-recognition/test-tubes/transformer-search/seed=12_rnn=xfmr-64_recurrence_num_layers=2_/version_0/checkpoints/epoch=04-fscore_val=0.93.ckpt\n"
     ]
    },
    {
     "data": {
      "application/vnd.jupyter.widget-view+json": {
       "model_id": "ecb91a6c39684a0bbc2a9606bba8d41b",
       "version_major": 2,
       "version_minor": 0
      },
      "text/plain": [
       "HBox(children=(HTML(value='Testing'), FloatProgress(value=1.0, bar_style='info', layout=Layout(flex='2'), max=…"
      ]
     },
     "metadata": {},
     "output_type": "display_data"
    },
    {
     "name": "stdout",
     "output_type": "stream",
     "text": [
      "--------------------------------------------------------------------------------\n",
      "DATALOADER:0 TEST RESULTS\n",
      "{'ECE/test': 0.11213989637266827,\n",
      " 'accuracy/test': 0.8494061240056663,\n",
      " 'fscore/test': 0.8386150836796462,\n",
      " 'fscore_test': 0.8386150836796462,\n",
      " 'loss/test': tensor(0.8882),\n",
      " 'loss_test': tensor(0.8882),\n",
      " 'precision/test': 0.8630828989371703,\n",
      " 'recall/test': 0.8494061240056663}\n",
      "--------------------------------------------------------------------------------\n",
      "\n",
      "found checkpoint: /home/hugo/lab/instrument-recognition/test-tubes/transformer-search/seed=11_rnn=xfmr-16_recurrence_num_layers=1_/version_0/checkpoints/epoch=06-fscore_val=0.93.ckpt\n",
      "found checkpoint: /home/hugo/lab/instrument-recognition/test-tubes/transformer-search/seed=11_rnn=xfmr-16_recurrence_num_layers=1_/version_0/checkpoints/epoch=06-fscore_val=0.93.ckpt\n",
      "/home/hugo/lab/instrument-recognition/test-tubes/transformer-search/seed=11_rnn=xfmr-16_recurrence_num_layers=1_/version_0\n",
      "/home/hugo/lab/instrument-recognition/test-tubes/transformer-search/seed=11_rnn=xfmr-16_recurrence_num_layers=1_/version_0/checkpoints/epoch=06-fscore_val=0.93.ckpt\n",
      "loading metadata from /home/hugo/lab/instrument-recognition/data/mdb-solos-train-soundscapes/train...\n"
     ]
    },
    {
     "name": "stderr",
     "output_type": "stream",
     "text": [
      "100%|██████████| 5208/5208 [00:00<00:00, 41527.05it/s]\n",
      " 41%|████      | 4994/12236 [00:00<00:00, 49931.00it/s]"
     ]
    },
    {
     "name": "stdout",
     "output_type": "stream",
     "text": [
      "found 5208 entries\n",
      "{'trumpet': 1965, 'clarinet': 1966, 'tenor saxophone': 1914, 'piano': 1941, 'violin': 1948, 'female singer': 2011, 'flute': 1932, 'distorted electric guitar': 1945}\n",
      "loading metadata from /home/hugo/lab/instrument-recognition/data/mdb-solos-train-soundscapes/test...\n"
     ]
    },
    {
     "name": "stderr",
     "output_type": "stream",
     "text": [
      "100%|██████████| 12236/12236 [00:00<00:00, 45635.02it/s]\n",
      "100%|██████████| 3494/3494 [00:00<00:00, 49689.92it/s]\n",
      "/home/hugo/lab/venv/lib/python3.8/site-packages/pytorch_lightning/utilities/distributed.py:45: UserWarning: Checkpoint directory /home/hugo/lab/instrument-recognition/test-tubes/transformer-search/seed=11_rnn=xfmr-16_recurrence_num_layers=1_/version_0/checkpoints exists and is not empty. With save_top_k=3, all files in this directory will be deleted when a checkpoint is saved!\n",
      "  warnings.warn(*args, **kwargs)\n",
      "GPU available: True, used: False\n",
      "TPU available: False, using: 0 TPU cores\n"
     ]
    },
    {
     "name": "stdout",
     "output_type": "stream",
     "text": [
      "found 12236 entries\n",
      "{'clarinet': 732, 'piano': 2609, 'violin': 2900, 'tenor saxophone': 325, 'flute': 3167, 'distorted electric guitar': 955, 'female singer': 1142, 'trumpet': 406}\n",
      "loading metadata from /home/hugo/lab/instrument-recognition/data/mdb-solos-train-soundscapes/validation...\n",
      "found 3494 entries\n",
      "{'clarinet': 328, 'piano': 1022, 'flute': 233, 'female singer': 284, 'tenor saxophone': 29, 'violin': 1031, 'distorted electric guitar': 495, 'trumpet': 72}\n",
      "train entries: 5208\n",
      "val entries: 3494\n",
      "found checkpoint: /home/hugo/lab/instrument-recognition/test-tubes/transformer-search/seed=11_rnn=xfmr-16_recurrence_num_layers=1_/version_0/checkpoints/epoch=06-fscore_val=0.93.ckpt\n"
     ]
    },
    {
     "data": {
      "application/vnd.jupyter.widget-view+json": {
       "model_id": "cfe3606a448f4e68a5aa4f5122cc8fa8",
       "version_major": 2,
       "version_minor": 0
      },
      "text/plain": [
       "HBox(children=(HTML(value='Testing'), FloatProgress(value=1.0, bar_style='info', layout=Layout(flex='2'), max=…"
      ]
     },
     "metadata": {},
     "output_type": "display_data"
    },
    {
     "name": "stdout",
     "output_type": "stream",
     "text": [
      "--------------------------------------------------------------------------------\n",
      "DATALOADER:0 TEST RESULTS\n",
      "{'ECE/test': 0.12026622054788479,\n",
      " 'accuracy/test': 0.8393265773128473,\n",
      " 'fscore/test': 0.829701132855396,\n",
      " 'fscore_test': 0.829701132855396,\n",
      " 'loss/test': tensor(0.9938),\n",
      " 'loss_test': tensor(0.9938),\n",
      " 'precision/test': 0.8640906930640962,\n",
      " 'recall/test': 0.8393265773128473}\n",
      "--------------------------------------------------------------------------------\n",
      "\n",
      "found checkpoint: /home/hugo/lab/instrument-recognition/test-tubes/transformer-search/seed=433_rnn=xfmr-8_recurrence_num_layers=8_/version_0/checkpoints/epoch=24-fscore_val=0.92.ckpt\n",
      "found checkpoint: /home/hugo/lab/instrument-recognition/test-tubes/transformer-search/seed=433_rnn=xfmr-8_recurrence_num_layers=8_/version_0/checkpoints/epoch=24-fscore_val=0.92.ckpt\n",
      "/home/hugo/lab/instrument-recognition/test-tubes/transformer-search/seed=433_rnn=xfmr-8_recurrence_num_layers=8_/version_0\n",
      "/home/hugo/lab/instrument-recognition/test-tubes/transformer-search/seed=433_rnn=xfmr-8_recurrence_num_layers=8_/version_0/checkpoints/epoch=24-fscore_val=0.92.ckpt\n"
     ]
    },
    {
     "name": "stderr",
     "output_type": "stream",
     "text": [
      "100%|██████████| 5208/5208 [00:00<00:00, 41066.05it/s]"
     ]
    },
    {
     "name": "stdout",
     "output_type": "stream",
     "text": [
      "loading metadata from /home/hugo/lab/instrument-recognition/data/mdb-solos-train-soundscapes/train...\n",
      "found 5208 entries\n",
      "{'trumpet': 1965, 'clarinet': 1966, 'tenor saxophone': 1914, 'piano': 1941, 'violin': 1948, 'female singer': 2011, 'flute': 1932, 'distorted electric guitar': 1945}\n",
      "loading metadata from /home/hugo/lab/instrument-recognition/data/mdb-solos-train-soundscapes/test...\n"
     ]
    },
    {
     "name": "stderr",
     "output_type": "stream",
     "text": [
      "\n",
      "100%|██████████| 12236/12236 [00:00<00:00, 49476.09it/s]\n",
      "100%|██████████| 3494/3494 [00:00<00:00, 38879.63it/s]\n",
      "/home/hugo/lab/venv/lib/python3.8/site-packages/pytorch_lightning/utilities/distributed.py:45: UserWarning: Checkpoint directory /home/hugo/lab/instrument-recognition/test-tubes/transformer-search/seed=433_rnn=xfmr-8_recurrence_num_layers=8_/version_0/checkpoints exists and is not empty. With save_top_k=3, all files in this directory will be deleted when a checkpoint is saved!\n",
      "  warnings.warn(*args, **kwargs)\n",
      "GPU available: True, used: False\n",
      "TPU available: False, using: 0 TPU cores\n"
     ]
    },
    {
     "name": "stdout",
     "output_type": "stream",
     "text": [
      "found 12236 entries\n",
      "{'clarinet': 732, 'piano': 2609, 'violin': 2900, 'tenor saxophone': 325, 'flute': 3167, 'distorted electric guitar': 955, 'female singer': 1142, 'trumpet': 406}\n",
      "loading metadata from /home/hugo/lab/instrument-recognition/data/mdb-solos-train-soundscapes/validation...\n",
      "found 3494 entries\n",
      "{'clarinet': 328, 'piano': 1022, 'flute': 233, 'female singer': 284, 'tenor saxophone': 29, 'violin': 1031, 'distorted electric guitar': 495, 'trumpet': 72}\n",
      "train entries: 5208\n",
      "val entries: 3494\n",
      "found checkpoint: /home/hugo/lab/instrument-recognition/test-tubes/transformer-search/seed=433_rnn=xfmr-8_recurrence_num_layers=8_/version_0/checkpoints/epoch=24-fscore_val=0.92.ckpt\n"
     ]
    },
    {
     "data": {
      "application/vnd.jupyter.widget-view+json": {
       "model_id": "c997d3bb63ca47eb92c95f8ca083fb08",
       "version_major": 2,
       "version_minor": 0
      },
      "text/plain": [
       "HBox(children=(HTML(value='Testing'), FloatProgress(value=1.0, bar_style='info', layout=Layout(flex='2'), max=…"
      ]
     },
     "metadata": {},
     "output_type": "display_data"
    },
    {
     "name": "stdout",
     "output_type": "stream",
     "text": [
      "--------------------------------------------------------------------------------\n",
      "DATALOADER:0 TEST RESULTS\n",
      "{'ECE/test': 0.11885548339075055,\n",
      " 'accuracy/test': 0.8255148741418764,\n",
      " 'fscore/test': 0.8133719804916286,\n",
      " 'fscore_test': 0.8133719804916286,\n",
      " 'loss/test': tensor(0.8950),\n",
      " 'loss_test': tensor(0.8950),\n",
      " 'precision/test': 0.8455601835152601,\n",
      " 'recall/test': 0.8255148741418764}\n",
      "--------------------------------------------------------------------------------\n",
      "\n",
      "found checkpoint: /home/hugo/lab/instrument-recognition/test-tubes/transformer-search/seed=440_rnn=xfmr-16_recurrence_num_layers=8_/version_0/checkpoints/epoch=21-fscore_val=0.92.ckpt\n",
      "found checkpoint: /home/hugo/lab/instrument-recognition/test-tubes/transformer-search/seed=440_rnn=xfmr-16_recurrence_num_layers=8_/version_0/checkpoints/epoch=21-fscore_val=0.92.ckpt\n",
      "/home/hugo/lab/instrument-recognition/test-tubes/transformer-search/seed=440_rnn=xfmr-16_recurrence_num_layers=8_/version_0\n",
      "/home/hugo/lab/instrument-recognition/test-tubes/transformer-search/seed=440_rnn=xfmr-16_recurrence_num_layers=8_/version_0/checkpoints/epoch=21-fscore_val=0.92.ckpt\n"
     ]
    },
    {
     "name": "stderr",
     "output_type": "stream",
     "text": [
      "100%|██████████| 5208/5208 [00:00<00:00, 41124.81it/s]"
     ]
    },
    {
     "name": "stdout",
     "output_type": "stream",
     "text": [
      "loading metadata from /home/hugo/lab/instrument-recognition/data/mdb-solos-train-soundscapes/train...\n",
      "found 5208 entries\n",
      "{'trumpet': 1965, 'clarinet': 1966, 'tenor saxophone': 1914, 'piano': 1941, 'violin': 1948, 'female singer': 2011, 'flute': 1932, 'distorted electric guitar': 1945}\n",
      "loading metadata from /home/hugo/lab/instrument-recognition/data/mdb-solos-train-soundscapes/test...\n"
     ]
    },
    {
     "name": "stderr",
     "output_type": "stream",
     "text": [
      "\n",
      "100%|██████████| 12236/12236 [00:00<00:00, 49717.85it/s]\n",
      "100%|██████████| 3494/3494 [00:00<00:00, 49138.60it/s]\n",
      "/home/hugo/lab/venv/lib/python3.8/site-packages/pytorch_lightning/utilities/distributed.py:45: UserWarning: Checkpoint directory /home/hugo/lab/instrument-recognition/test-tubes/transformer-search/seed=440_rnn=xfmr-16_recurrence_num_layers=8_/version_0/checkpoints exists and is not empty. With save_top_k=3, all files in this directory will be deleted when a checkpoint is saved!\n",
      "  warnings.warn(*args, **kwargs)\n",
      "GPU available: True, used: False\n",
      "TPU available: False, using: 0 TPU cores\n"
     ]
    },
    {
     "name": "stdout",
     "output_type": "stream",
     "text": [
      "found 12236 entries\n",
      "{'clarinet': 732, 'piano': 2609, 'violin': 2900, 'tenor saxophone': 325, 'flute': 3167, 'distorted electric guitar': 955, 'female singer': 1142, 'trumpet': 406}\n",
      "loading metadata from /home/hugo/lab/instrument-recognition/data/mdb-solos-train-soundscapes/validation...\n",
      "found 3494 entries\n",
      "{'clarinet': 328, 'piano': 1022, 'flute': 233, 'female singer': 284, 'tenor saxophone': 29, 'violin': 1031, 'distorted electric guitar': 495, 'trumpet': 72}\n",
      "train entries: 5208\n",
      "val entries: 3494\n",
      "found checkpoint: /home/hugo/lab/instrument-recognition/test-tubes/transformer-search/seed=440_rnn=xfmr-16_recurrence_num_layers=8_/version_0/checkpoints/epoch=21-fscore_val=0.92.ckpt\n"
     ]
    },
    {
     "data": {
      "application/vnd.jupyter.widget-view+json": {
       "model_id": "62e0035874ca4ed796109118766863ed",
       "version_major": 2,
       "version_minor": 0
      },
      "text/plain": [
       "HBox(children=(HTML(value='Testing'), FloatProgress(value=1.0, bar_style='info', layout=Layout(flex='2'), max=…"
      ]
     },
     "metadata": {},
     "output_type": "display_data"
    },
    {
     "name": "stdout",
     "output_type": "stream",
     "text": [
      "--------------------------------------------------------------------------------\n",
      "DATALOADER:0 TEST RESULTS\n",
      "{'ECE/test': 0.13904987954247086,\n",
      " 'accuracy/test': 0.8368747956848643,\n",
      " 'fscore/test': 0.8246191484244888,\n",
      " 'fscore_test': 0.8246191484244888,\n",
      " 'loss/test': tensor(1.0124),\n",
      " 'loss_test': tensor(1.0124),\n",
      " 'precision/test': 0.8559452391266911,\n",
      " 'recall/test': 0.8368747956848643}\n",
      "--------------------------------------------------------------------------------\n",
      "\n",
      "found checkpoint: /home/hugo/lab/instrument-recognition/test-tubes/transformer-search/seed=12_rnn=xfmr-8_recurrence_num_layers=4_/version_0/checkpoints/epoch=28-fscore_val=0.94.ckpt\n"
     ]
    },
    {
     "name": "stderr",
     "output_type": "stream",
     "text": [
      "  0%|          | 0/5208 [00:00<?, ?it/s]"
     ]
    },
    {
     "name": "stdout",
     "output_type": "stream",
     "text": [
      "found checkpoint: /home/hugo/lab/instrument-recognition/test-tubes/transformer-search/seed=12_rnn=xfmr-8_recurrence_num_layers=4_/version_0/checkpoints/epoch=28-fscore_val=0.94.ckpt\n",
      "/home/hugo/lab/instrument-recognition/test-tubes/transformer-search/seed=12_rnn=xfmr-8_recurrence_num_layers=4_/version_0\n",
      "/home/hugo/lab/instrument-recognition/test-tubes/transformer-search/seed=12_rnn=xfmr-8_recurrence_num_layers=4_/version_0/checkpoints/epoch=28-fscore_val=0.94.ckpt\n",
      "loading metadata from /home/hugo/lab/instrument-recognition/data/mdb-solos-train-soundscapes/train...\n"
     ]
    },
    {
     "name": "stderr",
     "output_type": "stream",
     "text": [
      "100%|██████████| 5208/5208 [00:00<00:00, 40923.87it/s]\n",
      " 32%|███▏      | 3859/12236 [00:00<00:00, 38587.46it/s]"
     ]
    },
    {
     "name": "stdout",
     "output_type": "stream",
     "text": [
      "found 5208 entries\n",
      "{'trumpet': 1965, 'clarinet': 1966, 'tenor saxophone': 1914, 'piano': 1941, 'violin': 1948, 'female singer': 2011, 'flute': 1932, 'distorted electric guitar': 1945}\n",
      "loading metadata from /home/hugo/lab/instrument-recognition/data/mdb-solos-train-soundscapes/test...\n"
     ]
    },
    {
     "name": "stderr",
     "output_type": "stream",
     "text": [
      "100%|██████████| 12236/12236 [00:00<00:00, 45155.64it/s]\n",
      "100%|██████████| 3494/3494 [00:00<00:00, 49049.13it/s]\n",
      "/home/hugo/lab/venv/lib/python3.8/site-packages/pytorch_lightning/utilities/distributed.py:45: UserWarning: Checkpoint directory /home/hugo/lab/instrument-recognition/test-tubes/transformer-search/seed=12_rnn=xfmr-8_recurrence_num_layers=4_/version_0/checkpoints exists and is not empty. With save_top_k=3, all files in this directory will be deleted when a checkpoint is saved!\n",
      "  warnings.warn(*args, **kwargs)\n",
      "GPU available: True, used: False\n",
      "TPU available: False, using: 0 TPU cores\n"
     ]
    },
    {
     "name": "stdout",
     "output_type": "stream",
     "text": [
      "found 12236 entries\n",
      "{'clarinet': 732, 'piano': 2609, 'violin': 2900, 'tenor saxophone': 325, 'flute': 3167, 'distorted electric guitar': 955, 'female singer': 1142, 'trumpet': 406}\n",
      "loading metadata from /home/hugo/lab/instrument-recognition/data/mdb-solos-train-soundscapes/validation...\n",
      "found 3494 entries\n",
      "{'clarinet': 328, 'piano': 1022, 'flute': 233, 'female singer': 284, 'tenor saxophone': 29, 'violin': 1031, 'distorted electric guitar': 495, 'trumpet': 72}\n",
      "train entries: 5208\n",
      "val entries: 3494\n",
      "found checkpoint: /home/hugo/lab/instrument-recognition/test-tubes/transformer-search/seed=12_rnn=xfmr-8_recurrence_num_layers=4_/version_0/checkpoints/epoch=28-fscore_val=0.94.ckpt\n"
     ]
    },
    {
     "data": {
      "application/vnd.jupyter.widget-view+json": {
       "model_id": "2ffc224e2f774e098aaaa01762d0eb7e",
       "version_major": 2,
       "version_minor": 0
      },
      "text/plain": [
       "HBox(children=(HTML(value='Testing'), FloatProgress(value=1.0, bar_style='info', layout=Layout(flex='2'), max=…"
      ]
     },
     "metadata": {},
     "output_type": "display_data"
    },
    {
     "name": "stdout",
     "output_type": "stream",
     "text": [
      "--------------------------------------------------------------------------------\n",
      "DATALOADER:0 TEST RESULTS\n",
      "{'ECE/test': 0.11891606891416348,\n",
      " 'accuracy/test': 0.8562983545821075,\n",
      " 'fscore/test': 0.8476931974376918,\n",
      " 'fscore_test': 0.8476931974376918,\n",
      " 'loss/test': tensor(1.0257),\n",
      " 'loss_test': tensor(1.0257),\n",
      " 'precision/test': 0.8727666929640107,\n",
      " 'recall/test': 0.8562983545821075}\n",
      "--------------------------------------------------------------------------------\n",
      "\n",
      "found checkpoint: /home/hugo/lab/instrument-recognition/test-tubes/transformer-search/seed=12_rnn=xfmr-16_recurrence_num_layers=1_/version_0/checkpoints/epoch=04-fscore_val=0.93.ckpt\n",
      "found checkpoint: /home/hugo/lab/instrument-recognition/test-tubes/transformer-search/seed=12_rnn=xfmr-16_recurrence_num_layers=1_/version_0/checkpoints/epoch=04-fscore_val=0.93.ckpt\n",
      "/home/hugo/lab/instrument-recognition/test-tubes/transformer-search/seed=12_rnn=xfmr-16_recurrence_num_layers=1_/version_0\n",
      "/home/hugo/lab/instrument-recognition/test-tubes/transformer-search/seed=12_rnn=xfmr-16_recurrence_num_layers=1_/version_0/checkpoints/epoch=04-fscore_val=0.93.ckpt\n"
     ]
    },
    {
     "name": "stderr",
     "output_type": "stream",
     "text": [
      "100%|██████████| 5208/5208 [00:00<00:00, 35967.16it/s]"
     ]
    },
    {
     "name": "stdout",
     "output_type": "stream",
     "text": [
      "loading metadata from /home/hugo/lab/instrument-recognition/data/mdb-solos-train-soundscapes/train...\n",
      "found 5208 entries\n",
      "{'trumpet': 1965, 'clarinet': 1966, 'tenor saxophone': 1914, 'piano': 1941, 'violin': 1948, 'female singer': 2011, 'flute': 1932, 'distorted electric guitar': 1945}\n",
      "loading metadata from /home/hugo/lab/instrument-recognition/data/mdb-solos-train-soundscapes/test...\n"
     ]
    },
    {
     "name": "stderr",
     "output_type": "stream",
     "text": [
      "\n",
      "100%|██████████| 12236/12236 [00:00<00:00, 49787.02it/s]\n",
      "100%|██████████| 3494/3494 [00:00<00:00, 36753.94it/s]\n",
      "/home/hugo/lab/venv/lib/python3.8/site-packages/pytorch_lightning/utilities/distributed.py:45: UserWarning: Checkpoint directory /home/hugo/lab/instrument-recognition/test-tubes/transformer-search/seed=12_rnn=xfmr-16_recurrence_num_layers=1_/version_0/checkpoints exists and is not empty. With save_top_k=3, all files in this directory will be deleted when a checkpoint is saved!\n",
      "  warnings.warn(*args, **kwargs)\n",
      "GPU available: True, used: False\n",
      "TPU available: False, using: 0 TPU cores\n"
     ]
    },
    {
     "name": "stdout",
     "output_type": "stream",
     "text": [
      "found 12236 entries\n",
      "{'clarinet': 732, 'piano': 2609, 'violin': 2900, 'tenor saxophone': 325, 'flute': 3167, 'distorted electric guitar': 955, 'female singer': 1142, 'trumpet': 406}\n",
      "loading metadata from /home/hugo/lab/instrument-recognition/data/mdb-solos-train-soundscapes/validation...\n",
      "found 3494 entries\n",
      "{'clarinet': 328, 'piano': 1022, 'flute': 233, 'female singer': 284, 'tenor saxophone': 29, 'violin': 1031, 'distorted electric guitar': 495, 'trumpet': 72}\n",
      "train entries: 5208\n",
      "val entries: 3494\n",
      "found checkpoint: /home/hugo/lab/instrument-recognition/test-tubes/transformer-search/seed=12_rnn=xfmr-16_recurrence_num_layers=1_/version_0/checkpoints/epoch=04-fscore_val=0.93.ckpt\n"
     ]
    },
    {
     "data": {
      "application/vnd.jupyter.widget-view+json": {
       "model_id": "7e252b6e6f304a98acf060376366fc54",
       "version_major": 2,
       "version_minor": 0
      },
      "text/plain": [
       "HBox(children=(HTML(value='Testing'), FloatProgress(value=1.0, bar_style='info', layout=Layout(flex='2'), max=…"
      ]
     },
     "metadata": {},
     "output_type": "display_data"
    },
    {
     "name": "stdout",
     "output_type": "stream",
     "text": [
      "--------------------------------------------------------------------------------\n",
      "DATALOADER:0 TEST RESULTS\n",
      "{'ECE/test': 0.11542795198089978,\n",
      " 'accuracy/test': 0.8451018851476517,\n",
      " 'fscore/test': 0.8344087583786487,\n",
      " 'fscore_test': 0.8344087583786487,\n",
      " 'loss/test': tensor(0.9314),\n",
      " 'loss_test': tensor(0.9314),\n",
      " 'precision/test': 0.8640520682221792,\n",
      " 'recall/test': 0.8451018851476517}\n",
      "--------------------------------------------------------------------------------\n",
      "\n",
      "found checkpoint: /home/hugo/lab/instrument-recognition/test-tubes/transformer-search/seed=433_rnn=xfmr-16_recurrence_num_layers=4_/version_0/checkpoints/epoch=70-fscore_val=0.94.ckpt\n"
     ]
    },
    {
     "name": "stderr",
     "output_type": "stream",
     "text": [
      "  0%|          | 0/5208 [00:00<?, ?it/s]"
     ]
    },
    {
     "name": "stdout",
     "output_type": "stream",
     "text": [
      "found checkpoint: /home/hugo/lab/instrument-recognition/test-tubes/transformer-search/seed=433_rnn=xfmr-16_recurrence_num_layers=4_/version_0/checkpoints/epoch=70-fscore_val=0.94.ckpt\n",
      "/home/hugo/lab/instrument-recognition/test-tubes/transformer-search/seed=433_rnn=xfmr-16_recurrence_num_layers=4_/version_0\n",
      "/home/hugo/lab/instrument-recognition/test-tubes/transformer-search/seed=433_rnn=xfmr-16_recurrence_num_layers=4_/version_0/checkpoints/epoch=70-fscore_val=0.94.ckpt\n",
      "loading metadata from /home/hugo/lab/instrument-recognition/data/mdb-solos-train-soundscapes/train...\n"
     ]
    },
    {
     "name": "stderr",
     "output_type": "stream",
     "text": [
      "100%|██████████| 5208/5208 [00:00<00:00, 41157.04it/s]\n",
      " 41%|████      | 4977/12236 [00:00<00:00, 49764.59it/s]"
     ]
    },
    {
     "name": "stdout",
     "output_type": "stream",
     "text": [
      "found 5208 entries\n",
      "{'trumpet': 1965, 'clarinet': 1966, 'tenor saxophone': 1914, 'piano': 1941, 'violin': 1948, 'female singer': 2011, 'flute': 1932, 'distorted electric guitar': 1945}\n",
      "loading metadata from /home/hugo/lab/instrument-recognition/data/mdb-solos-train-soundscapes/test...\n"
     ]
    },
    {
     "name": "stderr",
     "output_type": "stream",
     "text": [
      "100%|██████████| 12236/12236 [00:00<00:00, 49178.78it/s]\n",
      "100%|██████████| 3494/3494 [00:00<00:00, 49290.15it/s]\n",
      "/home/hugo/lab/venv/lib/python3.8/site-packages/pytorch_lightning/utilities/distributed.py:45: UserWarning: Checkpoint directory /home/hugo/lab/instrument-recognition/test-tubes/transformer-search/seed=433_rnn=xfmr-16_recurrence_num_layers=4_/version_0/checkpoints exists and is not empty. With save_top_k=3, all files in this directory will be deleted when a checkpoint is saved!\n",
      "  warnings.warn(*args, **kwargs)\n",
      "GPU available: True, used: False\n",
      "TPU available: False, using: 0 TPU cores\n"
     ]
    },
    {
     "name": "stdout",
     "output_type": "stream",
     "text": [
      "found 12236 entries\n",
      "{'clarinet': 732, 'piano': 2609, 'violin': 2900, 'tenor saxophone': 325, 'flute': 3167, 'distorted electric guitar': 955, 'female singer': 1142, 'trumpet': 406}\n",
      "loading metadata from /home/hugo/lab/instrument-recognition/data/mdb-solos-train-soundscapes/validation...\n",
      "found 3494 entries\n",
      "{'clarinet': 328, 'piano': 1022, 'flute': 233, 'female singer': 284, 'tenor saxophone': 29, 'violin': 1031, 'distorted electric guitar': 495, 'trumpet': 72}\n",
      "train entries: 5208\n",
      "val entries: 3494\n",
      "found checkpoint: /home/hugo/lab/instrument-recognition/test-tubes/transformer-search/seed=433_rnn=xfmr-16_recurrence_num_layers=4_/version_0/checkpoints/epoch=70-fscore_val=0.94.ckpt\n"
     ]
    },
    {
     "data": {
      "application/vnd.jupyter.widget-view+json": {
       "model_id": "d911208150d64bbfb097fa9992fcccdc",
       "version_major": 2,
       "version_minor": 0
      },
      "text/plain": [
       "HBox(children=(HTML(value='Testing'), FloatProgress(value=1.0, bar_style='info', layout=Layout(flex='2'), max=…"
      ]
     },
     "metadata": {},
     "output_type": "display_data"
    },
    {
     "name": "stdout",
     "output_type": "stream",
     "text": [
      "--------------------------------------------------------------------------------\n",
      "DATALOADER:0 TEST RESULTS\n",
      "{'ECE/test': 0.1409170904719545,\n",
      " 'accuracy/test': 0.8348588863463006,\n",
      " 'fscore/test': 0.8282242485259469,\n",
      " 'fscore_test': 0.8282242485259469,\n",
      " 'loss/test': tensor(1.1480),\n",
      " 'loss_test': tensor(1.1480),\n",
      " 'precision/test': 0.8534557104060536,\n",
      " 'recall/test': 0.8348588863463006}\n",
      "--------------------------------------------------------------------------------\n",
      "\n",
      "found checkpoint: /home/hugo/lab/instrument-recognition/test-tubes/transformer-search/seed=440_rnn=xfmr-8_recurrence_num_layers=4_/version_0/checkpoints/epoch=51-fscore_val=0.93.ckpt\n"
     ]
    },
    {
     "name": "stderr",
     "output_type": "stream",
     "text": [
      "  0%|          | 0/5208 [00:00<?, ?it/s]"
     ]
    },
    {
     "name": "stdout",
     "output_type": "stream",
     "text": [
      "found checkpoint: /home/hugo/lab/instrument-recognition/test-tubes/transformer-search/seed=440_rnn=xfmr-8_recurrence_num_layers=4_/version_0/checkpoints/epoch=51-fscore_val=0.93.ckpt\n",
      "/home/hugo/lab/instrument-recognition/test-tubes/transformer-search/seed=440_rnn=xfmr-8_recurrence_num_layers=4_/version_0\n",
      "/home/hugo/lab/instrument-recognition/test-tubes/transformer-search/seed=440_rnn=xfmr-8_recurrence_num_layers=4_/version_0/checkpoints/epoch=51-fscore_val=0.93.ckpt\n",
      "loading metadata from /home/hugo/lab/instrument-recognition/data/mdb-solos-train-soundscapes/train...\n"
     ]
    },
    {
     "name": "stderr",
     "output_type": "stream",
     "text": [
      "100%|██████████| 5208/5208 [00:00<00:00, 41246.02it/s]\n",
      " 41%|████      | 4989/12236 [00:00<00:00, 49882.79it/s]"
     ]
    },
    {
     "name": "stdout",
     "output_type": "stream",
     "text": [
      "found 5208 entries\n",
      "{'trumpet': 1965, 'clarinet': 1966, 'tenor saxophone': 1914, 'piano': 1941, 'violin': 1948, 'female singer': 2011, 'flute': 1932, 'distorted electric guitar': 1945}\n",
      "loading metadata from /home/hugo/lab/instrument-recognition/data/mdb-solos-train-soundscapes/test...\n"
     ]
    },
    {
     "name": "stderr",
     "output_type": "stream",
     "text": [
      "100%|██████████| 12236/12236 [00:00<00:00, 49383.21it/s]\n",
      "100%|██████████| 3494/3494 [00:00<00:00, 48999.60it/s]\n",
      "/home/hugo/lab/venv/lib/python3.8/site-packages/pytorch_lightning/utilities/distributed.py:45: UserWarning: Checkpoint directory /home/hugo/lab/instrument-recognition/test-tubes/transformer-search/seed=440_rnn=xfmr-8_recurrence_num_layers=4_/version_0/checkpoints exists and is not empty. With save_top_k=3, all files in this directory will be deleted when a checkpoint is saved!\n",
      "  warnings.warn(*args, **kwargs)\n",
      "GPU available: True, used: False\n",
      "TPU available: False, using: 0 TPU cores\n"
     ]
    },
    {
     "name": "stdout",
     "output_type": "stream",
     "text": [
      "found 12236 entries\n",
      "{'clarinet': 732, 'piano': 2609, 'violin': 2900, 'tenor saxophone': 325, 'flute': 3167, 'distorted electric guitar': 955, 'female singer': 1142, 'trumpet': 406}\n",
      "loading metadata from /home/hugo/lab/instrument-recognition/data/mdb-solos-train-soundscapes/validation...\n",
      "found 3494 entries\n",
      "{'clarinet': 328, 'piano': 1022, 'flute': 233, 'female singer': 284, 'tenor saxophone': 29, 'violin': 1031, 'distorted electric guitar': 495, 'trumpet': 72}\n",
      "train entries: 5208\n",
      "val entries: 3494\n",
      "found checkpoint: /home/hugo/lab/instrument-recognition/test-tubes/transformer-search/seed=440_rnn=xfmr-8_recurrence_num_layers=4_/version_0/checkpoints/epoch=51-fscore_val=0.93.ckpt\n"
     ]
    },
    {
     "data": {
      "application/vnd.jupyter.widget-view+json": {
       "model_id": "b760a4f875e444c19f06f450baa10a36",
       "version_major": 2,
       "version_minor": 0
      },
      "text/plain": [
       "HBox(children=(HTML(value='Testing'), FloatProgress(value=1.0, bar_style='info', layout=Layout(flex='2'), max=…"
      ]
     },
     "metadata": {},
     "output_type": "display_data"
    },
    {
     "name": "stdout",
     "output_type": "stream",
     "text": [
      "--------------------------------------------------------------------------------\n",
      "DATALOADER:0 TEST RESULTS\n",
      "{'ECE/test': 0.14843539236657588,\n",
      " 'accuracy/test': 0.8276942355889725,\n",
      " 'fscore/test': 0.8168760947199548,\n",
      " 'fscore_test': 0.8168760947199548,\n",
      " 'loss/test': tensor(1.3142),\n",
      " 'loss_test': tensor(1.3142),\n",
      " 'precision/test': 0.8544558142946695,\n",
      " 'recall/test': 0.8276942355889725}\n",
      "--------------------------------------------------------------------------------\n",
      "\n",
      "found checkpoint: /home/hugo/lab/instrument-recognition/test-tubes/transformer-search/seed=440_rnn=xfmr-2_recurrence_num_layers=4_/version_0/checkpoints/epoch=235-fscore_val=0.94.ckpt\n"
     ]
    },
    {
     "name": "stderr",
     "output_type": "stream",
     "text": [
      "  0%|          | 0/5208 [00:00<?, ?it/s]"
     ]
    },
    {
     "name": "stdout",
     "output_type": "stream",
     "text": [
      "found checkpoint: /home/hugo/lab/instrument-recognition/test-tubes/transformer-search/seed=440_rnn=xfmr-2_recurrence_num_layers=4_/version_0/checkpoints/epoch=235-fscore_val=0.94.ckpt\n",
      "/home/hugo/lab/instrument-recognition/test-tubes/transformer-search/seed=440_rnn=xfmr-2_recurrence_num_layers=4_/version_0\n",
      "/home/hugo/lab/instrument-recognition/test-tubes/transformer-search/seed=440_rnn=xfmr-2_recurrence_num_layers=4_/version_0/checkpoints/epoch=235-fscore_val=0.94.ckpt\n",
      "loading metadata from /home/hugo/lab/instrument-recognition/data/mdb-solos-train-soundscapes/train...\n"
     ]
    },
    {
     "name": "stderr",
     "output_type": "stream",
     "text": [
      "100%|██████████| 5208/5208 [00:00<00:00, 34915.05it/s]\n",
      " 40%|████      | 4937/12236 [00:00<00:00, 49366.40it/s]"
     ]
    },
    {
     "name": "stdout",
     "output_type": "stream",
     "text": [
      "found 5208 entries\n",
      "{'trumpet': 1965, 'clarinet': 1966, 'tenor saxophone': 1914, 'piano': 1941, 'violin': 1948, 'female singer': 2011, 'flute': 1932, 'distorted electric guitar': 1945}\n",
      "loading metadata from /home/hugo/lab/instrument-recognition/data/mdb-solos-train-soundscapes/test...\n"
     ]
    },
    {
     "name": "stderr",
     "output_type": "stream",
     "text": [
      "100%|██████████| 12236/12236 [00:00<00:00, 38800.21it/s]\n",
      "100%|██████████| 3494/3494 [00:00<00:00, 48369.19it/s]\n",
      "/home/hugo/lab/venv/lib/python3.8/site-packages/pytorch_lightning/utilities/distributed.py:45: UserWarning: Checkpoint directory /home/hugo/lab/instrument-recognition/test-tubes/transformer-search/seed=440_rnn=xfmr-2_recurrence_num_layers=4_/version_0/checkpoints exists and is not empty. With save_top_k=3, all files in this directory will be deleted when a checkpoint is saved!\n",
      "  warnings.warn(*args, **kwargs)\n",
      "GPU available: True, used: False\n",
      "TPU available: False, using: 0 TPU cores\n"
     ]
    },
    {
     "name": "stdout",
     "output_type": "stream",
     "text": [
      "found 12236 entries\n",
      "{'clarinet': 732, 'piano': 2609, 'violin': 2900, 'tenor saxophone': 325, 'flute': 3167, 'distorted electric guitar': 955, 'female singer': 1142, 'trumpet': 406}\n",
      "loading metadata from /home/hugo/lab/instrument-recognition/data/mdb-solos-train-soundscapes/validation...\n",
      "found 3494 entries\n",
      "{'clarinet': 328, 'piano': 1022, 'flute': 233, 'female singer': 284, 'tenor saxophone': 29, 'violin': 1031, 'distorted electric guitar': 495, 'trumpet': 72}\n",
      "train entries: 5208\n",
      "val entries: 3494\n",
      "found checkpoint: /home/hugo/lab/instrument-recognition/test-tubes/transformer-search/seed=440_rnn=xfmr-2_recurrence_num_layers=4_/version_0/checkpoints/epoch=235-fscore_val=0.94.ckpt\n"
     ]
    },
    {
     "data": {
      "application/vnd.jupyter.widget-view+json": {
       "model_id": "9180f8ebc7254234ad8ba7e39e8514bb",
       "version_major": 2,
       "version_minor": 0
      },
      "text/plain": [
       "HBox(children=(HTML(value='Testing'), FloatProgress(value=1.0, bar_style='info', layout=Layout(flex='2'), max=…"
      ]
     },
     "metadata": {},
     "output_type": "display_data"
    },
    {
     "name": "stdout",
     "output_type": "stream",
     "text": [
      "--------------------------------------------------------------------------------\n",
      "DATALOADER:0 TEST RESULTS\n",
      "{'ECE/test': 0.12882368137007177,\n",
      " 'accuracy/test': 0.8583142639206712,\n",
      " 'fscore/test': 0.8492984064422693,\n",
      " 'fscore_test': 0.8492984064422693,\n",
      " 'loss/test': tensor(1.3808),\n",
      " 'loss_test': tensor(1.3808),\n",
      " 'precision/test': 0.87281198875342,\n",
      " 'recall/test': 0.8583142639206712}\n",
      "--------------------------------------------------------------------------------\n",
      "\n",
      "found checkpoint: /home/hugo/lab/instrument-recognition/test-tubes/transformer-search/seed=11_rnn=xfmr-32_recurrence_num_layers=4_/version_0/checkpoints/epoch=116-fscore_val=0.94.ckpt\n",
      "found checkpoint: /home/hugo/lab/instrument-recognition/test-tubes/transformer-search/seed=11_rnn=xfmr-32_recurrence_num_layers=4_/version_0/checkpoints/epoch=116-fscore_val=0.94.ckpt\n",
      "/home/hugo/lab/instrument-recognition/test-tubes/transformer-search/seed=11_rnn=xfmr-32_recurrence_num_layers=4_/version_0\n",
      "/home/hugo/lab/instrument-recognition/test-tubes/transformer-search/seed=11_rnn=xfmr-32_recurrence_num_layers=4_/version_0/checkpoints/epoch=116-fscore_val=0.94.ckpt\n"
     ]
    },
    {
     "name": "stderr",
     "output_type": "stream",
     "text": [
      "100%|██████████| 5208/5208 [00:00<00:00, 41757.90it/s]"
     ]
    },
    {
     "name": "stdout",
     "output_type": "stream",
     "text": [
      "loading metadata from /home/hugo/lab/instrument-recognition/data/mdb-solos-train-soundscapes/train...\n",
      "found 5208 entries\n",
      "{'trumpet': 1965, 'clarinet': 1966, 'tenor saxophone': 1914, 'piano': 1941, 'violin': 1948, 'female singer': 2011, 'flute': 1932, 'distorted electric guitar': 1945}\n",
      "loading metadata from /home/hugo/lab/instrument-recognition/data/mdb-solos-train-soundscapes/test...\n"
     ]
    },
    {
     "name": "stderr",
     "output_type": "stream",
     "text": [
      "\n",
      "100%|██████████| 12236/12236 [00:00<00:00, 45875.12it/s]\n",
      "100%|██████████| 3494/3494 [00:00<00:00, 49511.63it/s]\n",
      "/home/hugo/lab/venv/lib/python3.8/site-packages/pytorch_lightning/utilities/distributed.py:45: UserWarning: Checkpoint directory /home/hugo/lab/instrument-recognition/test-tubes/transformer-search/seed=11_rnn=xfmr-32_recurrence_num_layers=4_/version_0/checkpoints exists and is not empty. With save_top_k=3, all files in this directory will be deleted when a checkpoint is saved!\n",
      "  warnings.warn(*args, **kwargs)\n",
      "GPU available: True, used: False\n",
      "TPU available: False, using: 0 TPU cores\n"
     ]
    },
    {
     "name": "stdout",
     "output_type": "stream",
     "text": [
      "found 12236 entries\n",
      "{'clarinet': 732, 'piano': 2609, 'violin': 2900, 'tenor saxophone': 325, 'flute': 3167, 'distorted electric guitar': 955, 'female singer': 1142, 'trumpet': 406}\n",
      "loading metadata from /home/hugo/lab/instrument-recognition/data/mdb-solos-train-soundscapes/validation...\n",
      "found 3494 entries\n",
      "{'clarinet': 328, 'piano': 1022, 'flute': 233, 'female singer': 284, 'tenor saxophone': 29, 'violin': 1031, 'distorted electric guitar': 495, 'trumpet': 72}\n",
      "train entries: 5208\n",
      "val entries: 3494\n",
      "found checkpoint: /home/hugo/lab/instrument-recognition/test-tubes/transformer-search/seed=11_rnn=xfmr-32_recurrence_num_layers=4_/version_0/checkpoints/epoch=116-fscore_val=0.94.ckpt\n"
     ]
    },
    {
     "data": {
      "application/vnd.jupyter.widget-view+json": {
       "model_id": "c130ffad5bd749798602786b9a43d86b",
       "version_major": 2,
       "version_minor": 0
      },
      "text/plain": [
       "HBox(children=(HTML(value='Testing'), FloatProgress(value=1.0, bar_style='info', layout=Layout(flex='2'), max=…"
      ]
     },
     "metadata": {},
     "output_type": "display_data"
    },
    {
     "name": "stdout",
     "output_type": "stream",
     "text": [
      "--------------------------------------------------------------------------------\n",
      "DATALOADER:0 TEST RESULTS\n",
      "{'ECE/test': 0.16152269057860508,\n",
      " 'accuracy/test': 0.8136918382913806,\n",
      " 'fscore/test': 0.8023866463772709,\n",
      " 'fscore_test': 0.8023866463772709,\n",
      " 'loss/test': tensor(1.4878),\n",
      " 'loss_test': tensor(1.4878),\n",
      " 'precision/test': 0.8377750412606971,\n",
      " 'recall/test': 0.8136918382913806}\n",
      "--------------------------------------------------------------------------------\n",
      "\n",
      "found checkpoint: /home/hugo/lab/instrument-recognition/test-tubes/transformer-search/seed=433_rnn=xfmr-1_recurrence_num_layers=8_/version_0/checkpoints/epoch=23-fscore_val=0.92.ckpt\n",
      "found checkpoint: /home/hugo/lab/instrument-recognition/test-tubes/transformer-search/seed=433_rnn=xfmr-1_recurrence_num_layers=8_/version_0/checkpoints/epoch=23-fscore_val=0.92.ckpt\n",
      "/home/hugo/lab/instrument-recognition/test-tubes/transformer-search/seed=433_rnn=xfmr-1_recurrence_num_layers=8_/version_0\n",
      "/home/hugo/lab/instrument-recognition/test-tubes/transformer-search/seed=433_rnn=xfmr-1_recurrence_num_layers=8_/version_0/checkpoints/epoch=23-fscore_val=0.92.ckpt\n"
     ]
    },
    {
     "name": "stderr",
     "output_type": "stream",
     "text": [
      "100%|██████████| 5208/5208 [00:00<00:00, 41460.76it/s]"
     ]
    },
    {
     "name": "stdout",
     "output_type": "stream",
     "text": [
      "loading metadata from /home/hugo/lab/instrument-recognition/data/mdb-solos-train-soundscapes/train...\n",
      "found 5208 entries\n",
      "{'trumpet': 1965, 'clarinet': 1966, 'tenor saxophone': 1914, 'piano': 1941, 'violin': 1948, 'female singer': 2011, 'flute': 1932, 'distorted electric guitar': 1945}\n",
      "loading metadata from /home/hugo/lab/instrument-recognition/data/mdb-solos-train-soundscapes/test...\n"
     ]
    },
    {
     "name": "stderr",
     "output_type": "stream",
     "text": [
      "\n",
      "100%|██████████| 12236/12236 [00:00<00:00, 43661.01it/s]\n",
      "  0%|          | 0/3494 [00:00<?, ?it/s]"
     ]
    },
    {
     "name": "stdout",
     "output_type": "stream",
     "text": [
      "found 12236 entries\n",
      "{'clarinet': 732, 'piano': 2609, 'violin': 2900, 'tenor saxophone': 325, 'flute': 3167, 'distorted electric guitar': 955, 'female singer': 1142, 'trumpet': 406}\n",
      "loading metadata from /home/hugo/lab/instrument-recognition/data/mdb-solos-train-soundscapes/validation...\n"
     ]
    },
    {
     "name": "stderr",
     "output_type": "stream",
     "text": [
      "100%|██████████| 3494/3494 [00:01<00:00, 1970.19it/s]\n",
      "/home/hugo/lab/venv/lib/python3.8/site-packages/pytorch_lightning/utilities/distributed.py:45: UserWarning: Checkpoint directory /home/hugo/lab/instrument-recognition/test-tubes/transformer-search/seed=433_rnn=xfmr-1_recurrence_num_layers=8_/version_0/checkpoints exists and is not empty. With save_top_k=3, all files in this directory will be deleted when a checkpoint is saved!\n",
      "  warnings.warn(*args, **kwargs)\n",
      "GPU available: True, used: False\n",
      "TPU available: False, using: 0 TPU cores\n"
     ]
    },
    {
     "name": "stdout",
     "output_type": "stream",
     "text": [
      "found 3494 entries\n",
      "{'clarinet': 328, 'piano': 1022, 'flute': 233, 'female singer': 284, 'tenor saxophone': 29, 'violin': 1031, 'distorted electric guitar': 495, 'trumpet': 72}\n",
      "train entries: 5208\n",
      "val entries: 3494\n",
      "found checkpoint: /home/hugo/lab/instrument-recognition/test-tubes/transformer-search/seed=433_rnn=xfmr-1_recurrence_num_layers=8_/version_0/checkpoints/epoch=23-fscore_val=0.92.ckpt\n"
     ]
    },
    {
     "data": {
      "application/vnd.jupyter.widget-view+json": {
       "model_id": "0973dab336774e428b3d409c7cda4b83",
       "version_major": 2,
       "version_minor": 0
      },
      "text/plain": [
       "HBox(children=(HTML(value='Testing'), FloatProgress(value=1.0, bar_style='info', layout=Layout(flex='2'), max=…"
      ]
     },
     "metadata": {},
     "output_type": "display_data"
    },
    {
     "name": "stdout",
     "output_type": "stream",
     "text": [
      "--------------------------------------------------------------------------------\n",
      "DATALOADER:0 TEST RESULTS\n",
      "{'ECE/test': 0.15342640094852816,\n",
      " 'accuracy/test': 0.8193036940176528,\n",
      " 'fscore/test': 0.8059258163550117,\n",
      " 'fscore_test': 0.8059258163550117,\n",
      " 'loss/test': tensor(1.2206),\n",
      " 'loss_test': tensor(1.2206),\n",
      " 'precision/test': 0.8468687110743993,\n",
      " 'recall/test': 0.8193036940176528}\n",
      "--------------------------------------------------------------------------------\n",
      "\n",
      "found checkpoint: /home/hugo/lab/instrument-recognition/test-tubes/transformer-search/seed=12_rnn=xfmr-4_recurrence_num_layers=8_/version_0/checkpoints/epoch=18-fscore_val=0.93.ckpt\n",
      "found checkpoint: /home/hugo/lab/instrument-recognition/test-tubes/transformer-search/seed=12_rnn=xfmr-4_recurrence_num_layers=8_/version_0/checkpoints/epoch=18-fscore_val=0.93.ckpt\n",
      "/home/hugo/lab/instrument-recognition/test-tubes/transformer-search/seed=12_rnn=xfmr-4_recurrence_num_layers=8_/version_0\n",
      "/home/hugo/lab/instrument-recognition/test-tubes/transformer-search/seed=12_rnn=xfmr-4_recurrence_num_layers=8_/version_0/checkpoints/epoch=18-fscore_val=0.93.ckpt\n"
     ]
    },
    {
     "name": "stderr",
     "output_type": "stream",
     "text": [
      "100%|██████████| 5208/5208 [00:00<00:00, 34366.67it/s]"
     ]
    },
    {
     "name": "stdout",
     "output_type": "stream",
     "text": [
      "loading metadata from /home/hugo/lab/instrument-recognition/data/mdb-solos-train-soundscapes/train...\n",
      "found 5208 entries\n",
      "{'trumpet': 1965, 'clarinet': 1966, 'tenor saxophone': 1914, 'piano': 1941, 'violin': 1948, 'female singer': 2011, 'flute': 1932, 'distorted electric guitar': 1945}\n"
     ]
    },
    {
     "name": "stderr",
     "output_type": "stream",
     "text": [
      "\n",
      "100%|██████████| 12236/12236 [00:00<00:00, 49145.35it/s]\n",
      "100%|██████████| 3494/3494 [00:00<00:00, 48299.69it/s]\n",
      "/home/hugo/lab/venv/lib/python3.8/site-packages/pytorch_lightning/utilities/distributed.py:45: UserWarning: Checkpoint directory /home/hugo/lab/instrument-recognition/test-tubes/transformer-search/seed=12_rnn=xfmr-4_recurrence_num_layers=8_/version_0/checkpoints exists and is not empty. With save_top_k=3, all files in this directory will be deleted when a checkpoint is saved!\n",
      "  warnings.warn(*args, **kwargs)\n",
      "GPU available: True, used: False\n",
      "TPU available: False, using: 0 TPU cores\n"
     ]
    },
    {
     "name": "stdout",
     "output_type": "stream",
     "text": [
      "loading metadata from /home/hugo/lab/instrument-recognition/data/mdb-solos-train-soundscapes/test...\n",
      "found 12236 entries\n",
      "{'clarinet': 732, 'piano': 2609, 'violin': 2900, 'tenor saxophone': 325, 'flute': 3167, 'distorted electric guitar': 955, 'female singer': 1142, 'trumpet': 406}\n",
      "loading metadata from /home/hugo/lab/instrument-recognition/data/mdb-solos-train-soundscapes/validation...\n",
      "found 3494 entries\n",
      "{'clarinet': 328, 'piano': 1022, 'flute': 233, 'female singer': 284, 'tenor saxophone': 29, 'violin': 1031, 'distorted electric guitar': 495, 'trumpet': 72}\n",
      "train entries: 5208\n",
      "val entries: 3494\n",
      "found checkpoint: /home/hugo/lab/instrument-recognition/test-tubes/transformer-search/seed=12_rnn=xfmr-4_recurrence_num_layers=8_/version_0/checkpoints/epoch=18-fscore_val=0.93.ckpt\n"
     ]
    },
    {
     "data": {
      "application/vnd.jupyter.widget-view+json": {
       "model_id": "e30dfffc488046a6a2e15a8c3bacc07b",
       "version_major": 2,
       "version_minor": 0
      },
      "text/plain": [
       "HBox(children=(HTML(value='Testing'), FloatProgress(value=1.0, bar_style='info', layout=Layout(flex='2'), max=…"
      ]
     },
     "metadata": {},
     "output_type": "display_data"
    },
    {
     "name": "stdout",
     "output_type": "stream",
     "text": [
      "--------------------------------------------------------------------------------\n",
      "DATALOADER:0 TEST RESULTS\n",
      "{'ECE/test': 0.10568892716033224,\n",
      " 'accuracy/test': 0.8706821401329411,\n",
      " 'fscore/test': 0.8637624514750313,\n",
      " 'fscore_test': 0.8637624514750313,\n",
      " 'loss/test': tensor(0.7825),\n",
      " 'loss_test': tensor(0.7825),\n",
      " 'precision/test': 0.876228508267503,\n",
      " 'recall/test': 0.8706821401329411}\n",
      "--------------------------------------------------------------------------------\n",
      "\n",
      "found checkpoint: /home/hugo/lab/instrument-recognition/test-tubes/transformer-search/seed=12_rnn=xfmr-32_recurrence_num_layers=6_/version_0/checkpoints/epoch=21-fscore_val=0.92.ckpt\n",
      "found checkpoint: /home/hugo/lab/instrument-recognition/test-tubes/transformer-search/seed=12_rnn=xfmr-32_recurrence_num_layers=6_/version_0/checkpoints/epoch=21-fscore_val=0.92.ckpt\n",
      "/home/hugo/lab/instrument-recognition/test-tubes/transformer-search/seed=12_rnn=xfmr-32_recurrence_num_layers=6_/version_0\n",
      "/home/hugo/lab/instrument-recognition/test-tubes/transformer-search/seed=12_rnn=xfmr-32_recurrence_num_layers=6_/version_0/checkpoints/epoch=21-fscore_val=0.92.ckpt\n"
     ]
    },
    {
     "name": "stderr",
     "output_type": "stream",
     "text": [
      "100%|██████████| 5208/5208 [00:00<00:00, 41329.92it/s]"
     ]
    },
    {
     "name": "stdout",
     "output_type": "stream",
     "text": [
      "loading metadata from /home/hugo/lab/instrument-recognition/data/mdb-solos-train-soundscapes/train...\n",
      "found 5208 entries\n",
      "{'trumpet': 1965, 'clarinet': 1966, 'tenor saxophone': 1914, 'piano': 1941, 'violin': 1948, 'female singer': 2011, 'flute': 1932, 'distorted electric guitar': 1945}\n",
      "loading metadata from /home/hugo/lab/instrument-recognition/data/mdb-solos-train-soundscapes/test...\n"
     ]
    },
    {
     "name": "stderr",
     "output_type": "stream",
     "text": [
      "\n",
      "100%|██████████| 12236/12236 [00:00<00:00, 48762.96it/s]\n",
      "100%|██████████| 3494/3494 [00:00<00:00, 48583.26it/s]\n",
      "/home/hugo/lab/venv/lib/python3.8/site-packages/pytorch_lightning/utilities/distributed.py:45: UserWarning: Checkpoint directory /home/hugo/lab/instrument-recognition/test-tubes/transformer-search/seed=12_rnn=xfmr-32_recurrence_num_layers=6_/version_0/checkpoints exists and is not empty. With save_top_k=3, all files in this directory will be deleted when a checkpoint is saved!\n",
      "  warnings.warn(*args, **kwargs)\n",
      "GPU available: True, used: False\n",
      "TPU available: False, using: 0 TPU cores\n"
     ]
    },
    {
     "name": "stdout",
     "output_type": "stream",
     "text": [
      "found 12236 entries\n",
      "{'clarinet': 732, 'piano': 2609, 'violin': 2900, 'tenor saxophone': 325, 'flute': 3167, 'distorted electric guitar': 955, 'female singer': 1142, 'trumpet': 406}\n",
      "loading metadata from /home/hugo/lab/instrument-recognition/data/mdb-solos-train-soundscapes/validation...\n",
      "found 3494 entries\n",
      "{'clarinet': 328, 'piano': 1022, 'flute': 233, 'female singer': 284, 'tenor saxophone': 29, 'violin': 1031, 'distorted electric guitar': 495, 'trumpet': 72}\n",
      "train entries: 5208\n",
      "val entries: 3494\n",
      "found checkpoint: /home/hugo/lab/instrument-recognition/test-tubes/transformer-search/seed=12_rnn=xfmr-32_recurrence_num_layers=6_/version_0/checkpoints/epoch=21-fscore_val=0.92.ckpt\n"
     ]
    },
    {
     "data": {
      "application/vnd.jupyter.widget-view+json": {
       "model_id": "f12a797b887a4ed78b9344db4bf881c5",
       "version_major": 2,
       "version_minor": 0
      },
      "text/plain": [
       "HBox(children=(HTML(value='Testing'), FloatProgress(value=1.0, bar_style='info', layout=Layout(flex='2'), max=…"
      ]
     },
     "metadata": {},
     "output_type": "display_data"
    },
    {
     "name": "stdout",
     "output_type": "stream",
     "text": [
      "--------------------------------------------------------------------------------\n",
      "DATALOADER:0 TEST RESULTS\n",
      "{'ECE/test': 0.15149980147479924,\n",
      " 'accuracy/test': 0.8082161926555519,\n",
      " 'fscore/test': 0.7927939649674276,\n",
      " 'fscore_test': 0.7927939649674276,\n",
      " 'loss/test': tensor(1.1722),\n",
      " 'loss_test': tensor(1.1722),\n",
      " 'precision/test': 0.8369602388883205,\n",
      " 'recall/test': 0.8082161926555519}\n",
      "--------------------------------------------------------------------------------\n",
      "\n",
      "found checkpoint: /home/hugo/lab/instrument-recognition/test-tubes/transformer-search/seed=433_rnn=xfmr-1_recurrence_num_layers=4_/version_0/checkpoints/epoch=25-fscore_val=0.93.ckpt\n"
     ]
    },
    {
     "name": "stderr",
     "output_type": "stream",
     "text": [
      "  0%|          | 0/5208 [00:00<?, ?it/s]"
     ]
    },
    {
     "name": "stdout",
     "output_type": "stream",
     "text": [
      "found checkpoint: /home/hugo/lab/instrument-recognition/test-tubes/transformer-search/seed=433_rnn=xfmr-1_recurrence_num_layers=4_/version_0/checkpoints/epoch=25-fscore_val=0.93.ckpt\n",
      "/home/hugo/lab/instrument-recognition/test-tubes/transformer-search/seed=433_rnn=xfmr-1_recurrence_num_layers=4_/version_0\n",
      "/home/hugo/lab/instrument-recognition/test-tubes/transformer-search/seed=433_rnn=xfmr-1_recurrence_num_layers=4_/version_0/checkpoints/epoch=25-fscore_val=0.93.ckpt\n",
      "loading metadata from /home/hugo/lab/instrument-recognition/data/mdb-solos-train-soundscapes/train...\n"
     ]
    },
    {
     "name": "stderr",
     "output_type": "stream",
     "text": [
      "100%|██████████| 5208/5208 [00:00<00:00, 40532.72it/s]\n",
      " 41%|████      | 4965/12236 [00:00<00:00, 49647.09it/s]"
     ]
    },
    {
     "name": "stdout",
     "output_type": "stream",
     "text": [
      "found 5208 entries\n",
      "{'trumpet': 1965, 'clarinet': 1966, 'tenor saxophone': 1914, 'piano': 1941, 'violin': 1948, 'female singer': 2011, 'flute': 1932, 'distorted electric guitar': 1945}\n",
      "loading metadata from /home/hugo/lab/instrument-recognition/data/mdb-solos-train-soundscapes/test...\n"
     ]
    },
    {
     "name": "stderr",
     "output_type": "stream",
     "text": [
      "100%|██████████| 12236/12236 [00:00<00:00, 45687.75it/s]\n",
      "100%|██████████| 3494/3494 [00:00<00:00, 38356.08it/s]\n",
      "/home/hugo/lab/venv/lib/python3.8/site-packages/pytorch_lightning/utilities/distributed.py:45: UserWarning: Checkpoint directory /home/hugo/lab/instrument-recognition/test-tubes/transformer-search/seed=433_rnn=xfmr-1_recurrence_num_layers=4_/version_0/checkpoints exists and is not empty. With save_top_k=3, all files in this directory will be deleted when a checkpoint is saved!\n",
      "  warnings.warn(*args, **kwargs)\n",
      "GPU available: True, used: False\n",
      "TPU available: False, using: 0 TPU cores\n"
     ]
    },
    {
     "name": "stdout",
     "output_type": "stream",
     "text": [
      "found 12236 entries\n",
      "{'clarinet': 732, 'piano': 2609, 'violin': 2900, 'tenor saxophone': 325, 'flute': 3167, 'distorted electric guitar': 955, 'female singer': 1142, 'trumpet': 406}\n",
      "loading metadata from /home/hugo/lab/instrument-recognition/data/mdb-solos-train-soundscapes/validation...\n",
      "found 3494 entries\n",
      "{'clarinet': 328, 'piano': 1022, 'flute': 233, 'female singer': 284, 'tenor saxophone': 29, 'violin': 1031, 'distorted electric guitar': 495, 'trumpet': 72}\n",
      "train entries: 5208\n",
      "val entries: 3494\n",
      "found checkpoint: /home/hugo/lab/instrument-recognition/test-tubes/transformer-search/seed=433_rnn=xfmr-1_recurrence_num_layers=4_/version_0/checkpoints/epoch=25-fscore_val=0.93.ckpt\n"
     ]
    },
    {
     "data": {
      "application/vnd.jupyter.widget-view+json": {
       "model_id": "e7486e87a5654fd196f6acd490a4f2a3",
       "version_major": 2,
       "version_minor": 0
      },
      "text/plain": [
       "HBox(children=(HTML(value='Testing'), FloatProgress(value=1.0, bar_style='info', layout=Layout(flex='2'), max=…"
      ]
     },
     "metadata": {},
     "output_type": "display_data"
    },
    {
     "name": "stdout",
     "output_type": "stream",
     "text": [
      "--------------------------------------------------------------------------------\n",
      "DATALOADER:0 TEST RESULTS\n",
      "{'ECE/test': 0.12009977119101724,\n",
      " 'accuracy/test': 0.8547728015691403,\n",
      " 'fscore/test': 0.8444986559354188,\n",
      " 'fscore_test': 0.8444986559354188,\n",
      " 'loss/test': tensor(1.0033),\n",
      " 'loss_test': tensor(1.0033),\n",
      " 'precision/test': 0.8707084321523073,\n",
      " 'recall/test': 0.8547728015691403}\n",
      "--------------------------------------------------------------------------------\n",
      "\n",
      "found checkpoint: /home/hugo/lab/instrument-recognition/test-tubes/transformer-search/seed=23_rnn=xfmr-8_recurrence_num_layers=8_/version_0/checkpoints/epoch=30-fscore_val=0.93.ckpt\n",
      "found checkpoint: /home/hugo/lab/instrument-recognition/test-tubes/transformer-search/seed=23_rnn=xfmr-8_recurrence_num_layers=8_/version_0/checkpoints/epoch=30-fscore_val=0.93.ckpt\n",
      "/home/hugo/lab/instrument-recognition/test-tubes/transformer-search/seed=23_rnn=xfmr-8_recurrence_num_layers=8_/version_0\n",
      "/home/hugo/lab/instrument-recognition/test-tubes/transformer-search/seed=23_rnn=xfmr-8_recurrence_num_layers=8_/version_0/checkpoints/epoch=30-fscore_val=0.93.ckpt\n"
     ]
    },
    {
     "name": "stderr",
     "output_type": "stream",
     "text": [
      "100%|██████████| 5208/5208 [00:00<00:00, 41470.05it/s]"
     ]
    },
    {
     "name": "stdout",
     "output_type": "stream",
     "text": [
      "loading metadata from /home/hugo/lab/instrument-recognition/data/mdb-solos-train-soundscapes/train...\n",
      "found 5208 entries\n",
      "{'trumpet': 1965, 'clarinet': 1966, 'tenor saxophone': 1914, 'piano': 1941, 'violin': 1948, 'female singer': 2011, 'flute': 1932, 'distorted electric guitar': 1945}\n",
      "loading metadata from /home/hugo/lab/instrument-recognition/data/mdb-solos-train-soundscapes/test...\n"
     ]
    },
    {
     "name": "stderr",
     "output_type": "stream",
     "text": [
      "\n",
      "100%|██████████| 12236/12236 [00:00<00:00, 48380.82it/s]\n",
      "100%|██████████| 3494/3494 [00:00<00:00, 48721.36it/s]\n",
      "/home/hugo/lab/venv/lib/python3.8/site-packages/pytorch_lightning/utilities/distributed.py:45: UserWarning: Checkpoint directory /home/hugo/lab/instrument-recognition/test-tubes/transformer-search/seed=23_rnn=xfmr-8_recurrence_num_layers=8_/version_0/checkpoints exists and is not empty. With save_top_k=3, all files in this directory will be deleted when a checkpoint is saved!\n",
      "  warnings.warn(*args, **kwargs)\n",
      "GPU available: True, used: False\n",
      "TPU available: False, using: 0 TPU cores\n"
     ]
    },
    {
     "name": "stdout",
     "output_type": "stream",
     "text": [
      "found 12236 entries\n",
      "{'clarinet': 732, 'piano': 2609, 'violin': 2900, 'tenor saxophone': 325, 'flute': 3167, 'distorted electric guitar': 955, 'female singer': 1142, 'trumpet': 406}\n",
      "loading metadata from /home/hugo/lab/instrument-recognition/data/mdb-solos-train-soundscapes/validation...\n",
      "found 3494 entries\n",
      "{'clarinet': 328, 'piano': 1022, 'flute': 233, 'female singer': 284, 'tenor saxophone': 29, 'violin': 1031, 'distorted electric guitar': 495, 'trumpet': 72}\n",
      "train entries: 5208\n",
      "val entries: 3494\n",
      "found checkpoint: /home/hugo/lab/instrument-recognition/test-tubes/transformer-search/seed=23_rnn=xfmr-8_recurrence_num_layers=8_/version_0/checkpoints/epoch=30-fscore_val=0.93.ckpt\n"
     ]
    },
    {
     "data": {
      "application/vnd.jupyter.widget-view+json": {
       "model_id": "ea12998864fe45059897ce04c430b7b6",
       "version_major": 2,
       "version_minor": 0
      },
      "text/plain": [
       "HBox(children=(HTML(value='Testing'), FloatProgress(value=1.0, bar_style='info', layout=Layout(flex='2'), max=…"
      ]
     },
     "metadata": {},
     "output_type": "display_data"
    },
    {
     "name": "stdout",
     "output_type": "stream",
     "text": [
      "--------------------------------------------------------------------------------\n",
      "DATALOADER:0 TEST RESULTS\n",
      "{'ECE/test': 0.13954169916388287,\n",
      " 'accuracy/test': 0.8210471831753297,\n",
      " 'fscore/test': 0.8068079440760993,\n",
      " 'fscore_test': 0.8068079440760993,\n",
      " 'loss/test': tensor(1.0843),\n",
      " 'loss_test': tensor(1.0843),\n",
      " 'precision/test': 0.8521408208077852,\n",
      " 'recall/test': 0.8210471831753297}\n",
      "--------------------------------------------------------------------------------\n",
      "\n",
      "found checkpoint: /home/hugo/lab/instrument-recognition/test-tubes/transformer-search/seed=12_rnn=xfmr-64_recurrence_num_layers=8_/version_0/checkpoints/epoch=20-fscore_val=0.92.ckpt\n",
      "found checkpoint: /home/hugo/lab/instrument-recognition/test-tubes/transformer-search/seed=12_rnn=xfmr-64_recurrence_num_layers=8_/version_0/checkpoints/epoch=20-fscore_val=0.92.ckpt\n",
      "/home/hugo/lab/instrument-recognition/test-tubes/transformer-search/seed=12_rnn=xfmr-64_recurrence_num_layers=8_/version_0\n",
      "/home/hugo/lab/instrument-recognition/test-tubes/transformer-search/seed=12_rnn=xfmr-64_recurrence_num_layers=8_/version_0/checkpoints/epoch=20-fscore_val=0.92.ckpt\n"
     ]
    },
    {
     "name": "stderr",
     "output_type": "stream",
     "text": [
      "100%|██████████| 5208/5208 [00:00<00:00, 41738.91it/s]"
     ]
    },
    {
     "name": "stdout",
     "output_type": "stream",
     "text": [
      "loading metadata from /home/hugo/lab/instrument-recognition/data/mdb-solos-train-soundscapes/train...\n",
      "found 5208 entries\n",
      "{'trumpet': 1965, 'clarinet': 1966, 'tenor saxophone': 1914, 'piano': 1941, 'violin': 1948, 'female singer': 2011, 'flute': 1932, 'distorted electric guitar': 1945}\n",
      "loading metadata from /home/hugo/lab/instrument-recognition/data/mdb-solos-train-soundscapes/test...\n"
     ]
    },
    {
     "name": "stderr",
     "output_type": "stream",
     "text": [
      "\n",
      "100%|██████████| 12236/12236 [00:00<00:00, 49955.23it/s]\n",
      "100%|██████████| 3494/3494 [00:00<00:00, 48897.74it/s]\n",
      "/home/hugo/lab/venv/lib/python3.8/site-packages/pytorch_lightning/utilities/distributed.py:45: UserWarning: Checkpoint directory /home/hugo/lab/instrument-recognition/test-tubes/transformer-search/seed=12_rnn=xfmr-64_recurrence_num_layers=8_/version_0/checkpoints exists and is not empty. With save_top_k=3, all files in this directory will be deleted when a checkpoint is saved!\n",
      "  warnings.warn(*args, **kwargs)\n",
      "GPU available: True, used: False\n",
      "TPU available: False, using: 0 TPU cores\n"
     ]
    },
    {
     "name": "stdout",
     "output_type": "stream",
     "text": [
      "found 12236 entries\n",
      "{'clarinet': 732, 'piano': 2609, 'violin': 2900, 'tenor saxophone': 325, 'flute': 3167, 'distorted electric guitar': 955, 'female singer': 1142, 'trumpet': 406}\n",
      "loading metadata from /home/hugo/lab/instrument-recognition/data/mdb-solos-train-soundscapes/validation...\n",
      "found 3494 entries\n",
      "{'clarinet': 328, 'piano': 1022, 'flute': 233, 'female singer': 284, 'tenor saxophone': 29, 'violin': 1031, 'distorted electric guitar': 495, 'trumpet': 72}\n",
      "train entries: 5208\n",
      "val entries: 3494\n",
      "found checkpoint: /home/hugo/lab/instrument-recognition/test-tubes/transformer-search/seed=12_rnn=xfmr-64_recurrence_num_layers=8_/version_0/checkpoints/epoch=20-fscore_val=0.92.ckpt\n"
     ]
    },
    {
     "data": {
      "application/vnd.jupyter.widget-view+json": {
       "model_id": "cc0c176b5f6d4ad7b9304082a688a604",
       "version_major": 2,
       "version_minor": 0
      },
      "text/plain": [
       "HBox(children=(HTML(value='Testing'), FloatProgress(value=1.0, bar_style='info', layout=Layout(flex='2'), max=…"
      ]
     },
     "metadata": {},
     "output_type": "display_data"
    },
    {
     "name": "stdout",
     "output_type": "stream",
     "text": [
      "--------------------------------------------------------------------------------\n",
      "DATALOADER:0 TEST RESULTS\n",
      "{'ECE/test': 0.10425631757803286,\n",
      " 'accuracy/test': 0.8555083360575352,\n",
      " 'fscore/test': 0.8489082725197177,\n",
      " 'fscore_test': 0.8489082725197177,\n",
      " 'loss/test': tensor(0.7164),\n",
      " 'loss_test': tensor(0.7164),\n",
      " 'precision/test': 0.8604177913440137,\n",
      " 'recall/test': 0.8555083360575352}\n",
      "--------------------------------------------------------------------------------\n",
      "\n",
      "found checkpoint: /home/hugo/lab/instrument-recognition/test-tubes/transformer-search/seed=440_rnn=xfmr-8_recurrence_num_layers=1_/version_0/checkpoints/epoch=04-fscore_val=0.93.ckpt\n",
      "found checkpoint: /home/hugo/lab/instrument-recognition/test-tubes/transformer-search/seed=440_rnn=xfmr-8_recurrence_num_layers=1_/version_0/checkpoints/epoch=04-fscore_val=0.93.ckpt\n",
      "/home/hugo/lab/instrument-recognition/test-tubes/transformer-search/seed=440_rnn=xfmr-8_recurrence_num_layers=1_/version_0\n",
      "/home/hugo/lab/instrument-recognition/test-tubes/transformer-search/seed=440_rnn=xfmr-8_recurrence_num_layers=1_/version_0/checkpoints/epoch=04-fscore_val=0.93.ckpt\n",
      "loading metadata from /home/hugo/lab/instrument-recognition/data/mdb-solos-train-soundscapes/train...\n"
     ]
    },
    {
     "name": "stderr",
     "output_type": "stream",
     "text": [
      "100%|██████████| 5208/5208 [00:00<00:00, 41751.68it/s]\n",
      " 41%|████      | 5023/12236 [00:00<00:00, 50229.81it/s]"
     ]
    },
    {
     "name": "stdout",
     "output_type": "stream",
     "text": [
      "found 5208 entries\n",
      "{'trumpet': 1965, 'clarinet': 1966, 'tenor saxophone': 1914, 'piano': 1941, 'violin': 1948, 'female singer': 2011, 'flute': 1932, 'distorted electric guitar': 1945}\n",
      "loading metadata from /home/hugo/lab/instrument-recognition/data/mdb-solos-train-soundscapes/test...\n"
     ]
    },
    {
     "name": "stderr",
     "output_type": "stream",
     "text": [
      "100%|██████████| 12236/12236 [00:00<00:00, 49441.01it/s]\n",
      "100%|██████████| 3494/3494 [00:00<00:00, 38681.87it/s]\n",
      "/home/hugo/lab/venv/lib/python3.8/site-packages/pytorch_lightning/utilities/distributed.py:45: UserWarning: Checkpoint directory /home/hugo/lab/instrument-recognition/test-tubes/transformer-search/seed=440_rnn=xfmr-8_recurrence_num_layers=1_/version_0/checkpoints exists and is not empty. With save_top_k=3, all files in this directory will be deleted when a checkpoint is saved!\n",
      "  warnings.warn(*args, **kwargs)\n",
      "GPU available: True, used: False\n",
      "TPU available: False, using: 0 TPU cores\n"
     ]
    },
    {
     "name": "stdout",
     "output_type": "stream",
     "text": [
      "found 12236 entries\n",
      "{'clarinet': 732, 'piano': 2609, 'violin': 2900, 'tenor saxophone': 325, 'flute': 3167, 'distorted electric guitar': 955, 'female singer': 1142, 'trumpet': 406}\n",
      "loading metadata from /home/hugo/lab/instrument-recognition/data/mdb-solos-train-soundscapes/validation...\n",
      "found 3494 entries\n",
      "{'clarinet': 328, 'piano': 1022, 'flute': 233, 'female singer': 284, 'tenor saxophone': 29, 'violin': 1031, 'distorted electric guitar': 495, 'trumpet': 72}\n",
      "train entries: 5208\n",
      "val entries: 3494\n",
      "found checkpoint: /home/hugo/lab/instrument-recognition/test-tubes/transformer-search/seed=440_rnn=xfmr-8_recurrence_num_layers=1_/version_0/checkpoints/epoch=04-fscore_val=0.93.ckpt\n"
     ]
    },
    {
     "data": {
      "application/vnd.jupyter.widget-view+json": {
       "model_id": "a074d39250f448fdb71ef32f00b12032",
       "version_major": 2,
       "version_minor": 0
      },
      "text/plain": [
       "HBox(children=(HTML(value='Testing'), FloatProgress(value=1.0, bar_style='info', layout=Layout(flex='2'), max=…"
      ]
     },
     "metadata": {},
     "output_type": "display_data"
    },
    {
     "name": "stdout",
     "output_type": "stream",
     "text": [
      "--------------------------------------------------------------------------------\n",
      "DATALOADER:0 TEST RESULTS\n",
      "{'ECE/test': 0.10805112940885539,\n",
      " 'accuracy/test': 0.8512313392176093,\n",
      " 'fscore/test': 0.8408893697150752,\n",
      " 'fscore_test': 0.8408893697150752,\n",
      " 'loss/test': tensor(0.8651),\n",
      " 'loss_test': tensor(0.8651),\n",
      " 'precision/test': 0.8657133391095196,\n",
      " 'recall/test': 0.8512313392176093}\n",
      "--------------------------------------------------------------------------------\n",
      "\n",
      "found checkpoint: /home/hugo/lab/instrument-recognition/test-tubes/transformer-search/seed=11_rnn=xfmr-2_recurrence_num_layers=4_/version_0/checkpoints/epoch=59-fscore_val=0.93.ckpt\n"
     ]
    },
    {
     "name": "stderr",
     "output_type": "stream",
     "text": [
      "  0%|          | 0/5208 [00:00<?, ?it/s]"
     ]
    },
    {
     "name": "stdout",
     "output_type": "stream",
     "text": [
      "found checkpoint: /home/hugo/lab/instrument-recognition/test-tubes/transformer-search/seed=11_rnn=xfmr-2_recurrence_num_layers=4_/version_0/checkpoints/epoch=59-fscore_val=0.93.ckpt\n",
      "/home/hugo/lab/instrument-recognition/test-tubes/transformer-search/seed=11_rnn=xfmr-2_recurrence_num_layers=4_/version_0\n",
      "/home/hugo/lab/instrument-recognition/test-tubes/transformer-search/seed=11_rnn=xfmr-2_recurrence_num_layers=4_/version_0/checkpoints/epoch=59-fscore_val=0.93.ckpt\n",
      "loading metadata from /home/hugo/lab/instrument-recognition/data/mdb-solos-train-soundscapes/train...\n"
     ]
    },
    {
     "name": "stderr",
     "output_type": "stream",
     "text": [
      "100%|██████████| 5208/5208 [00:00<00:00, 38929.24it/s]\n",
      " 41%|████      | 4992/12236 [00:00<00:00, 49919.93it/s]"
     ]
    },
    {
     "name": "stdout",
     "output_type": "stream",
     "text": [
      "found 5208 entries\n",
      "{'trumpet': 1965, 'clarinet': 1966, 'tenor saxophone': 1914, 'piano': 1941, 'violin': 1948, 'female singer': 2011, 'flute': 1932, 'distorted electric guitar': 1945}\n",
      "loading metadata from /home/hugo/lab/instrument-recognition/data/mdb-solos-train-soundscapes/test...\n"
     ]
    },
    {
     "name": "stderr",
     "output_type": "stream",
     "text": [
      "100%|██████████| 12236/12236 [00:00<00:00, 49685.70it/s]\n",
      "100%|██████████| 3494/3494 [00:00<00:00, 49813.89it/s]\n",
      "/home/hugo/lab/venv/lib/python3.8/site-packages/pytorch_lightning/utilities/distributed.py:45: UserWarning: Checkpoint directory /home/hugo/lab/instrument-recognition/test-tubes/transformer-search/seed=11_rnn=xfmr-2_recurrence_num_layers=4_/version_0/checkpoints exists and is not empty. With save_top_k=3, all files in this directory will be deleted when a checkpoint is saved!\n",
      "  warnings.warn(*args, **kwargs)\n",
      "GPU available: True, used: False\n",
      "TPU available: False, using: 0 TPU cores\n"
     ]
    },
    {
     "name": "stdout",
     "output_type": "stream",
     "text": [
      "found 12236 entries\n",
      "{'clarinet': 732, 'piano': 2609, 'violin': 2900, 'tenor saxophone': 325, 'flute': 3167, 'distorted electric guitar': 955, 'female singer': 1142, 'trumpet': 406}\n",
      "loading metadata from /home/hugo/lab/instrument-recognition/data/mdb-solos-train-soundscapes/validation...\n",
      "found 3494 entries\n",
      "{'clarinet': 328, 'piano': 1022, 'flute': 233, 'female singer': 284, 'tenor saxophone': 29, 'violin': 1031, 'distorted electric guitar': 495, 'trumpet': 72}\n",
      "train entries: 5208\n",
      "val entries: 3494\n",
      "found checkpoint: /home/hugo/lab/instrument-recognition/test-tubes/transformer-search/seed=11_rnn=xfmr-2_recurrence_num_layers=4_/version_0/checkpoints/epoch=59-fscore_val=0.93.ckpt\n"
     ]
    },
    {
     "data": {
      "application/vnd.jupyter.widget-view+json": {
       "model_id": "60973a506c1b4e9383367a33d36c02f3",
       "version_major": 2,
       "version_minor": 0
      },
      "text/plain": [
       "HBox(children=(HTML(value='Testing'), FloatProgress(value=1.0, bar_style='info', layout=Layout(flex='2'), max=…"
      ]
     },
     "metadata": {},
     "output_type": "display_data"
    },
    {
     "name": "stdout",
     "output_type": "stream",
     "text": [
      "--------------------------------------------------------------------------------\n",
      "DATALOADER:0 TEST RESULTS\n",
      "{'ECE/test': 0.13487079420178824,\n",
      " 'accuracy/test': 0.8426773455377574,\n",
      " 'fscore/test': 0.8318558035093208,\n",
      " 'fscore_test': 0.8318558035093208,\n",
      " 'loss/test': tensor(1.2554),\n",
      " 'loss_test': tensor(1.2554),\n",
      " 'precision/test': 0.8588927896701644,\n",
      " 'recall/test': 0.8426773455377574}\n",
      "--------------------------------------------------------------------------------\n",
      "\n",
      "found checkpoint: /home/hugo/lab/instrument-recognition/test-tubes/transformer-search/seed=23_rnn=xfmr-8_recurrence_num_layers=4_/version_0/checkpoints/epoch=02-fscore_val=0.92.ckpt\n"
     ]
    },
    {
     "name": "stderr",
     "output_type": "stream",
     "text": [
      "  0%|          | 0/5208 [00:00<?, ?it/s]"
     ]
    },
    {
     "name": "stdout",
     "output_type": "stream",
     "text": [
      "found checkpoint: /home/hugo/lab/instrument-recognition/test-tubes/transformer-search/seed=23_rnn=xfmr-8_recurrence_num_layers=4_/version_0/checkpoints/epoch=02-fscore_val=0.92.ckpt\n",
      "/home/hugo/lab/instrument-recognition/test-tubes/transformer-search/seed=23_rnn=xfmr-8_recurrence_num_layers=4_/version_0\n",
      "/home/hugo/lab/instrument-recognition/test-tubes/transformer-search/seed=23_rnn=xfmr-8_recurrence_num_layers=4_/version_0/checkpoints/epoch=02-fscore_val=0.92.ckpt\n",
      "loading metadata from /home/hugo/lab/instrument-recognition/data/mdb-solos-train-soundscapes/train...\n"
     ]
    },
    {
     "name": "stderr",
     "output_type": "stream",
     "text": [
      "100%|██████████| 5208/5208 [00:00<00:00, 41137.43it/s]\n",
      " 41%|████      | 4971/12236 [00:00<00:00, 49705.43it/s]"
     ]
    },
    {
     "name": "stdout",
     "output_type": "stream",
     "text": [
      "found 5208 entries\n",
      "{'trumpet': 1965, 'clarinet': 1966, 'tenor saxophone': 1914, 'piano': 1941, 'violin': 1948, 'female singer': 2011, 'flute': 1932, 'distorted electric guitar': 1945}\n",
      "loading metadata from /home/hugo/lab/instrument-recognition/data/mdb-solos-train-soundscapes/test...\n"
     ]
    },
    {
     "name": "stderr",
     "output_type": "stream",
     "text": [
      "100%|██████████| 12236/12236 [00:00<00:00, 49091.66it/s]\n",
      "100%|██████████| 3494/3494 [00:00<00:00, 48955.40it/s]\n",
      "/home/hugo/lab/venv/lib/python3.8/site-packages/pytorch_lightning/utilities/distributed.py:45: UserWarning: Checkpoint directory /home/hugo/lab/instrument-recognition/test-tubes/transformer-search/seed=23_rnn=xfmr-8_recurrence_num_layers=4_/version_0/checkpoints exists and is not empty. With save_top_k=3, all files in this directory will be deleted when a checkpoint is saved!\n",
      "  warnings.warn(*args, **kwargs)\n",
      "GPU available: True, used: False\n",
      "TPU available: False, using: 0 TPU cores\n"
     ]
    },
    {
     "name": "stdout",
     "output_type": "stream",
     "text": [
      "found 12236 entries\n",
      "{'clarinet': 732, 'piano': 2609, 'violin': 2900, 'tenor saxophone': 325, 'flute': 3167, 'distorted electric guitar': 955, 'female singer': 1142, 'trumpet': 406}\n",
      "loading metadata from /home/hugo/lab/instrument-recognition/data/mdb-solos-train-soundscapes/validation...\n",
      "found 3494 entries\n",
      "{'clarinet': 328, 'piano': 1022, 'flute': 233, 'female singer': 284, 'tenor saxophone': 29, 'violin': 1031, 'distorted electric guitar': 495, 'trumpet': 72}\n",
      "train entries: 5208\n",
      "val entries: 3494\n",
      "found checkpoint: /home/hugo/lab/instrument-recognition/test-tubes/transformer-search/seed=23_rnn=xfmr-8_recurrence_num_layers=4_/version_0/checkpoints/epoch=02-fscore_val=0.92.ckpt\n"
     ]
    },
    {
     "data": {
      "application/vnd.jupyter.widget-view+json": {
       "model_id": "723ebe98e85c4b29a7ba9460320304aa",
       "version_major": 2,
       "version_minor": 0
      },
      "text/plain": [
       "HBox(children=(HTML(value='Testing'), FloatProgress(value=1.0, bar_style='info', layout=Layout(flex='2'), max=…"
      ]
     },
     "metadata": {},
     "output_type": "display_data"
    },
    {
     "name": "stdout",
     "output_type": "stream",
     "text": [
      "--------------------------------------------------------------------------------\n",
      "DATALOADER:0 TEST RESULTS\n",
      "{'ECE/test': 0.12218640742169318,\n",
      " 'accuracy/test': 0.8306091315244634,\n",
      " 'fscore/test': 0.8179809974484429,\n",
      " 'fscore_test': 0.8179809974484429,\n",
      " 'loss/test': tensor(0.9170),\n",
      " 'loss_test': tensor(0.9170),\n",
      " 'precision/test': 0.8541608301193852,\n",
      " 'recall/test': 0.8306091315244634}\n",
      "--------------------------------------------------------------------------------\n",
      "\n",
      "found checkpoint: /home/hugo/lab/instrument-recognition/test-tubes/transformer-search/seed=11_rnn=xfmr-8_recurrence_num_layers=6_/version_0/checkpoints/epoch=29-fscore_val=0.93.ckpt\n",
      "found checkpoint: /home/hugo/lab/instrument-recognition/test-tubes/transformer-search/seed=11_rnn=xfmr-8_recurrence_num_layers=6_/version_0/checkpoints/epoch=29-fscore_val=0.93.ckpt\n",
      "/home/hugo/lab/instrument-recognition/test-tubes/transformer-search/seed=11_rnn=xfmr-8_recurrence_num_layers=6_/version_0\n",
      "/home/hugo/lab/instrument-recognition/test-tubes/transformer-search/seed=11_rnn=xfmr-8_recurrence_num_layers=6_/version_0/checkpoints/epoch=29-fscore_val=0.93.ckpt\n",
      "loading metadata from /home/hugo/lab/instrument-recognition/data/mdb-solos-train-soundscapes/train...\n"
     ]
    },
    {
     "name": "stderr",
     "output_type": "stream",
     "text": [
      "100%|██████████| 5208/5208 [00:00<00:00, 41379.79it/s]\n",
      " 41%|████      | 4958/12236 [00:00<00:00, 49570.12it/s]"
     ]
    },
    {
     "name": "stdout",
     "output_type": "stream",
     "text": [
      "found 5208 entries\n",
      "{'trumpet': 1965, 'clarinet': 1966, 'tenor saxophone': 1914, 'piano': 1941, 'violin': 1948, 'female singer': 2011, 'flute': 1932, 'distorted electric guitar': 1945}\n",
      "loading metadata from /home/hugo/lab/instrument-recognition/data/mdb-solos-train-soundscapes/test...\n"
     ]
    },
    {
     "name": "stderr",
     "output_type": "stream",
     "text": [
      "100%|██████████| 12236/12236 [00:00<00:00, 49203.58it/s]\n",
      "100%|██████████| 3494/3494 [00:00<00:00, 49250.23it/s]\n",
      "/home/hugo/lab/venv/lib/python3.8/site-packages/pytorch_lightning/utilities/distributed.py:45: UserWarning: Checkpoint directory /home/hugo/lab/instrument-recognition/test-tubes/transformer-search/seed=11_rnn=xfmr-8_recurrence_num_layers=6_/version_0/checkpoints exists and is not empty. With save_top_k=3, all files in this directory will be deleted when a checkpoint is saved!\n",
      "  warnings.warn(*args, **kwargs)\n",
      "GPU available: True, used: False\n",
      "TPU available: False, using: 0 TPU cores\n"
     ]
    },
    {
     "name": "stdout",
     "output_type": "stream",
     "text": [
      "found 12236 entries\n",
      "{'clarinet': 732, 'piano': 2609, 'violin': 2900, 'tenor saxophone': 325, 'flute': 3167, 'distorted electric guitar': 955, 'female singer': 1142, 'trumpet': 406}\n",
      "loading metadata from /home/hugo/lab/instrument-recognition/data/mdb-solos-train-soundscapes/validation...\n",
      "found 3494 entries\n",
      "{'clarinet': 328, 'piano': 1022, 'flute': 233, 'female singer': 284, 'tenor saxophone': 29, 'violin': 1031, 'distorted electric guitar': 495, 'trumpet': 72}\n",
      "train entries: 5208\n",
      "val entries: 3494\n",
      "found checkpoint: /home/hugo/lab/instrument-recognition/test-tubes/transformer-search/seed=11_rnn=xfmr-8_recurrence_num_layers=6_/version_0/checkpoints/epoch=29-fscore_val=0.93.ckpt\n"
     ]
    },
    {
     "data": {
      "application/vnd.jupyter.widget-view+json": {
       "model_id": "75060236135b4c778a70f058a022a9a3",
       "version_major": 2,
       "version_minor": 0
      },
      "text/plain": [
       "HBox(children=(HTML(value='Testing'), FloatProgress(value=1.0, bar_style='info', layout=Layout(flex='2'), max=…"
      ]
     },
     "metadata": {},
     "output_type": "display_data"
    },
    {
     "name": "stdout",
     "output_type": "stream",
     "text": [
      "--------------------------------------------------------------------------------\n",
      "DATALOADER:0 TEST RESULTS\n",
      "{'ECE/test': 0.16759338013692215,\n",
      " 'accuracy/test': 0.8077258363299553,\n",
      " 'fscore/test': 0.7931703129676391,\n",
      " 'fscore_test': 0.7931703129676391,\n",
      " 'loss/test': tensor(1.4295),\n",
      " 'loss_test': tensor(1.4295),\n",
      " 'precision/test': 0.8437966081645271,\n",
      " 'recall/test': 0.8077258363299553}\n",
      "--------------------------------------------------------------------------------\n",
      "\n",
      "found checkpoint: /home/hugo/lab/instrument-recognition/test-tubes/transformer-search/seed=12_rnn=xfmr-1_recurrence_num_layers=2_/version_0/checkpoints/epoch=78-fscore_val=0.94.ckpt\n",
      "found checkpoint: /home/hugo/lab/instrument-recognition/test-tubes/transformer-search/seed=12_rnn=xfmr-1_recurrence_num_layers=2_/version_0/checkpoints/epoch=78-fscore_val=0.94.ckpt\n",
      "/home/hugo/lab/instrument-recognition/test-tubes/transformer-search/seed=12_rnn=xfmr-1_recurrence_num_layers=2_/version_0\n",
      "/home/hugo/lab/instrument-recognition/test-tubes/transformer-search/seed=12_rnn=xfmr-1_recurrence_num_layers=2_/version_0/checkpoints/epoch=78-fscore_val=0.94.ckpt\n"
     ]
    },
    {
     "name": "stderr",
     "output_type": "stream",
     "text": [
      "100%|██████████| 5208/5208 [00:00<00:00, 41375.48it/s]"
     ]
    },
    {
     "name": "stdout",
     "output_type": "stream",
     "text": [
      "loading metadata from /home/hugo/lab/instrument-recognition/data/mdb-solos-train-soundscapes/train...\n",
      "found 5208 entries\n",
      "{'trumpet': 1965, 'clarinet': 1966, 'tenor saxophone': 1914, 'piano': 1941, 'violin': 1948, 'female singer': 2011, 'flute': 1932, 'distorted electric guitar': 1945}\n",
      "loading metadata from /home/hugo/lab/instrument-recognition/data/mdb-solos-train-soundscapes/test...\n"
     ]
    },
    {
     "name": "stderr",
     "output_type": "stream",
     "text": [
      "\n",
      "100%|██████████| 12236/12236 [00:00<00:00, 49338.11it/s]\n",
      "100%|██████████| 3494/3494 [00:00<00:00, 49284.02it/s]\n",
      "/home/hugo/lab/venv/lib/python3.8/site-packages/pytorch_lightning/utilities/distributed.py:45: UserWarning: Checkpoint directory /home/hugo/lab/instrument-recognition/test-tubes/transformer-search/seed=12_rnn=xfmr-1_recurrence_num_layers=2_/version_0/checkpoints exists and is not empty. With save_top_k=3, all files in this directory will be deleted when a checkpoint is saved!\n",
      "  warnings.warn(*args, **kwargs)\n",
      "GPU available: True, used: False\n",
      "TPU available: False, using: 0 TPU cores\n"
     ]
    },
    {
     "name": "stdout",
     "output_type": "stream",
     "text": [
      "found 12236 entries\n",
      "{'clarinet': 732, 'piano': 2609, 'violin': 2900, 'tenor saxophone': 325, 'flute': 3167, 'distorted electric guitar': 955, 'female singer': 1142, 'trumpet': 406}\n",
      "loading metadata from /home/hugo/lab/instrument-recognition/data/mdb-solos-train-soundscapes/validation...\n",
      "found 3494 entries\n",
      "{'clarinet': 328, 'piano': 1022, 'flute': 233, 'female singer': 284, 'tenor saxophone': 29, 'violin': 1031, 'distorted electric guitar': 495, 'trumpet': 72}\n",
      "train entries: 5208\n",
      "val entries: 3494\n",
      "found checkpoint: /home/hugo/lab/instrument-recognition/test-tubes/transformer-search/seed=12_rnn=xfmr-1_recurrence_num_layers=2_/version_0/checkpoints/epoch=78-fscore_val=0.94.ckpt\n"
     ]
    },
    {
     "data": {
      "application/vnd.jupyter.widget-view+json": {
       "model_id": "63ae8858bbd9440b8a9b8559f7968132",
       "version_major": 2,
       "version_minor": 0
      },
      "text/plain": [
       "HBox(children=(HTML(value='Testing'), FloatProgress(value=1.0, bar_style='info', layout=Layout(flex='2'), max=…"
      ]
     },
     "metadata": {},
     "output_type": "display_data"
    },
    {
     "name": "stdout",
     "output_type": "stream",
     "text": [
      "--------------------------------------------------------------------------------\n",
      "DATALOADER:0 TEST RESULTS\n",
      "{'ECE/test': 0.14273018596806109,\n",
      " 'accuracy/test': 0.8322981366459627,\n",
      " 'fscore/test': 0.8190205017827903,\n",
      " 'fscore_test': 0.8190205017827903,\n",
      " 'loss/test': tensor(1.3053),\n",
      " 'loss_test': tensor(1.3053),\n",
      " 'precision/test': 0.8574959152706485,\n",
      " 'recall/test': 0.8322981366459627}\n",
      "--------------------------------------------------------------------------------\n",
      "\n",
      "found checkpoint: /home/hugo/lab/instrument-recognition/test-tubes/transformer-search/seed=11_rnn=xfmr-1_recurrence_num_layers=1_/version_0/checkpoints/epoch=51-fscore_val=0.94.ckpt\n",
      "found checkpoint: /home/hugo/lab/instrument-recognition/test-tubes/transformer-search/seed=11_rnn=xfmr-1_recurrence_num_layers=1_/version_0/checkpoints/epoch=51-fscore_val=0.94.ckpt\n",
      "/home/hugo/lab/instrument-recognition/test-tubes/transformer-search/seed=11_rnn=xfmr-1_recurrence_num_layers=1_/version_0\n",
      "/home/hugo/lab/instrument-recognition/test-tubes/transformer-search/seed=11_rnn=xfmr-1_recurrence_num_layers=1_/version_0/checkpoints/epoch=51-fscore_val=0.94.ckpt\n",
      "loading metadata from /home/hugo/lab/instrument-recognition/data/mdb-solos-train-soundscapes/train...\n"
     ]
    },
    {
     "name": "stderr",
     "output_type": "stream",
     "text": [
      "100%|██████████| 5208/5208 [00:00<00:00, 41544.90it/s]\n",
      " 41%|████      | 4982/12236 [00:00<00:00, 49814.47it/s]"
     ]
    },
    {
     "name": "stdout",
     "output_type": "stream",
     "text": [
      "found 5208 entries\n",
      "{'trumpet': 1965, 'clarinet': 1966, 'tenor saxophone': 1914, 'piano': 1941, 'violin': 1948, 'female singer': 2011, 'flute': 1932, 'distorted electric guitar': 1945}\n",
      "loading metadata from /home/hugo/lab/instrument-recognition/data/mdb-solos-train-soundscapes/test...\n"
     ]
    },
    {
     "name": "stderr",
     "output_type": "stream",
     "text": [
      "100%|██████████| 12236/12236 [00:00<00:00, 49235.92it/s]\n",
      "100%|██████████| 3494/3494 [00:00<00:00, 48697.40it/s]\n",
      "/home/hugo/lab/venv/lib/python3.8/site-packages/pytorch_lightning/utilities/distributed.py:45: UserWarning: Checkpoint directory /home/hugo/lab/instrument-recognition/test-tubes/transformer-search/seed=11_rnn=xfmr-1_recurrence_num_layers=1_/version_0/checkpoints exists and is not empty. With save_top_k=3, all files in this directory will be deleted when a checkpoint is saved!\n",
      "  warnings.warn(*args, **kwargs)\n",
      "GPU available: True, used: False\n",
      "TPU available: False, using: 0 TPU cores\n"
     ]
    },
    {
     "name": "stdout",
     "output_type": "stream",
     "text": [
      "found 12236 entries\n",
      "{'clarinet': 732, 'piano': 2609, 'violin': 2900, 'tenor saxophone': 325, 'flute': 3167, 'distorted electric guitar': 955, 'female singer': 1142, 'trumpet': 406}\n",
      "loading metadata from /home/hugo/lab/instrument-recognition/data/mdb-solos-train-soundscapes/validation...\n",
      "found 3494 entries\n",
      "{'clarinet': 328, 'piano': 1022, 'flute': 233, 'female singer': 284, 'tenor saxophone': 29, 'violin': 1031, 'distorted electric guitar': 495, 'trumpet': 72}\n",
      "train entries: 5208\n",
      "val entries: 3494\n",
      "found checkpoint: /home/hugo/lab/instrument-recognition/test-tubes/transformer-search/seed=11_rnn=xfmr-1_recurrence_num_layers=1_/version_0/checkpoints/epoch=51-fscore_val=0.94.ckpt\n"
     ]
    },
    {
     "data": {
      "application/vnd.jupyter.widget-view+json": {
       "model_id": "420289f8b7c045318b7f9b1930ac725d",
       "version_major": 2,
       "version_minor": 0
      },
      "text/plain": [
       "HBox(children=(HTML(value='Testing'), FloatProgress(value=1.0, bar_style='info', layout=Layout(flex='2'), max=…"
      ]
     },
     "metadata": {},
     "output_type": "display_data"
    },
    {
     "name": "stdout",
     "output_type": "stream",
     "text": [
      "--------------------------------------------------------------------------------\n",
      "DATALOADER:0 TEST RESULTS\n",
      "{'ECE/test': 0.10947567350180876,\n",
      " 'accuracy/test': 0.8663234172387491,\n",
      " 'fscore/test': 0.8584241325107913,\n",
      " 'fscore_test': 0.8584241325107913,\n",
      " 'loss/test': tensor(0.9553),\n",
      " 'loss_test': tensor(0.9553),\n",
      " 'precision/test': 0.8703753809524665,\n",
      " 'recall/test': 0.8663234172387491}\n",
      "--------------------------------------------------------------------------------\n",
      "\n",
      "found checkpoint: /home/hugo/lab/instrument-recognition/test-tubes/transformer-search/seed=11_rnn=xfmr-2_recurrence_num_layers=8_/version_0/checkpoints/epoch=37-fscore_val=0.93.ckpt\n",
      "found checkpoint: /home/hugo/lab/instrument-recognition/test-tubes/transformer-search/seed=11_rnn=xfmr-2_recurrence_num_layers=8_/version_0/checkpoints/epoch=37-fscore_val=0.93.ckpt\n",
      "/home/hugo/lab/instrument-recognition/test-tubes/transformer-search/seed=11_rnn=xfmr-2_recurrence_num_layers=8_/version_0\n",
      "/home/hugo/lab/instrument-recognition/test-tubes/transformer-search/seed=11_rnn=xfmr-2_recurrence_num_layers=8_/version_0/checkpoints/epoch=37-fscore_val=0.93.ckpt\n"
     ]
    },
    {
     "name": "stderr",
     "output_type": "stream",
     "text": [
      "100%|██████████| 5208/5208 [00:00<00:00, 41027.25it/s]"
     ]
    },
    {
     "name": "stdout",
     "output_type": "stream",
     "text": [
      "loading metadata from /home/hugo/lab/instrument-recognition/data/mdb-solos-train-soundscapes/train...\n",
      "found 5208 entries\n",
      "{'trumpet': 1965, 'clarinet': 1966, 'tenor saxophone': 1914, 'piano': 1941, 'violin': 1948, 'female singer': 2011, 'flute': 1932, 'distorted electric guitar': 1945}\n",
      "loading metadata from /home/hugo/lab/instrument-recognition/data/mdb-solos-train-soundscapes/test...\n"
     ]
    },
    {
     "name": "stderr",
     "output_type": "stream",
     "text": [
      "\n",
      "100%|██████████| 12236/12236 [00:00<00:00, 46509.62it/s]\n",
      "100%|██████████| 3494/3494 [00:00<00:00, 46196.88it/s]\n",
      "/home/hugo/lab/venv/lib/python3.8/site-packages/pytorch_lightning/utilities/distributed.py:45: UserWarning: Checkpoint directory /home/hugo/lab/instrument-recognition/test-tubes/transformer-search/seed=11_rnn=xfmr-2_recurrence_num_layers=8_/version_0/checkpoints exists and is not empty. With save_top_k=3, all files in this directory will be deleted when a checkpoint is saved!\n",
      "  warnings.warn(*args, **kwargs)\n",
      "GPU available: True, used: False\n",
      "TPU available: False, using: 0 TPU cores\n"
     ]
    },
    {
     "name": "stdout",
     "output_type": "stream",
     "text": [
      "found 12236 entries\n",
      "{'clarinet': 732, 'piano': 2609, 'violin': 2900, 'tenor saxophone': 325, 'flute': 3167, 'distorted electric guitar': 955, 'female singer': 1142, 'trumpet': 406}\n",
      "loading metadata from /home/hugo/lab/instrument-recognition/data/mdb-solos-train-soundscapes/validation...\n",
      "found 3494 entries\n",
      "{'clarinet': 328, 'piano': 1022, 'flute': 233, 'female singer': 284, 'tenor saxophone': 29, 'violin': 1031, 'distorted electric guitar': 495, 'trumpet': 72}\n",
      "train entries: 5208\n",
      "val entries: 3494\n",
      "found checkpoint: /home/hugo/lab/instrument-recognition/test-tubes/transformer-search/seed=11_rnn=xfmr-2_recurrence_num_layers=8_/version_0/checkpoints/epoch=37-fscore_val=0.93.ckpt\n"
     ]
    },
    {
     "data": {
      "application/vnd.jupyter.widget-view+json": {
       "model_id": "5d2c830ff5944fbf99a51592f3ed46f1",
       "version_major": 2,
       "version_minor": 0
      },
      "text/plain": [
       "HBox(children=(HTML(value='Testing'), FloatProgress(value=1.0, bar_style='info', layout=Layout(flex='2'), max=…"
      ]
     },
     "metadata": {},
     "output_type": "display_data"
    },
    {
     "name": "stdout",
     "output_type": "stream",
     "text": [
      "--------------------------------------------------------------------------------\n",
      "DATALOADER:0 TEST RESULTS\n",
      "{'ECE/test': 0.17305229114764553,\n",
      " 'accuracy/test': 0.7923885801460172,\n",
      " 'fscore/test': 0.7700918559092043,\n",
      " 'fscore_test': 0.7700918559092043,\n",
      " 'loss/test': tensor(1.5559),\n",
      " 'loss_test': tensor(1.5559),\n",
      " 'precision/test': 0.8381113183764495,\n",
      " 'recall/test': 0.7923885801460172}\n",
      "--------------------------------------------------------------------------------\n",
      "\n",
      "found checkpoint: /home/hugo/lab/instrument-recognition/test-tubes/transformer-search/seed=433_rnn=xfmr-8_recurrence_num_layers=6_/version_0/checkpoints/epoch=222-fscore_val=0.94.ckpt\n",
      "found checkpoint: /home/hugo/lab/instrument-recognition/test-tubes/transformer-search/seed=433_rnn=xfmr-8_recurrence_num_layers=6_/version_0/checkpoints/epoch=222-fscore_val=0.94.ckpt\n",
      "/home/hugo/lab/instrument-recognition/test-tubes/transformer-search/seed=433_rnn=xfmr-8_recurrence_num_layers=6_/version_0\n",
      "/home/hugo/lab/instrument-recognition/test-tubes/transformer-search/seed=433_rnn=xfmr-8_recurrence_num_layers=6_/version_0/checkpoints/epoch=222-fscore_val=0.94.ckpt\n",
      "loading metadata from /home/hugo/lab/instrument-recognition/data/mdb-solos-train-soundscapes/train...\n"
     ]
    },
    {
     "name": "stderr",
     "output_type": "stream",
     "text": [
      "100%|██████████| 5208/5208 [00:00<00:00, 41232.55it/s]\n",
      " 41%|████      | 4987/12236 [00:00<00:00, 49860.06it/s]"
     ]
    },
    {
     "name": "stdout",
     "output_type": "stream",
     "text": [
      "found 5208 entries\n",
      "{'trumpet': 1965, 'clarinet': 1966, 'tenor saxophone': 1914, 'piano': 1941, 'violin': 1948, 'female singer': 2011, 'flute': 1932, 'distorted electric guitar': 1945}\n",
      "loading metadata from /home/hugo/lab/instrument-recognition/data/mdb-solos-train-soundscapes/test...\n"
     ]
    },
    {
     "name": "stderr",
     "output_type": "stream",
     "text": [
      "100%|██████████| 12236/12236 [00:02<00:00, 5577.30it/s]\n",
      "100%|██████████| 3494/3494 [00:00<00:00, 49216.16it/s]\n",
      "/home/hugo/lab/venv/lib/python3.8/site-packages/pytorch_lightning/utilities/distributed.py:45: UserWarning: Checkpoint directory /home/hugo/lab/instrument-recognition/test-tubes/transformer-search/seed=433_rnn=xfmr-8_recurrence_num_layers=6_/version_0/checkpoints exists and is not empty. With save_top_k=3, all files in this directory will be deleted when a checkpoint is saved!\n",
      "  warnings.warn(*args, **kwargs)\n",
      "GPU available: True, used: False\n",
      "TPU available: False, using: 0 TPU cores\n"
     ]
    },
    {
     "name": "stdout",
     "output_type": "stream",
     "text": [
      "found 12236 entries\n",
      "{'clarinet': 732, 'piano': 2609, 'violin': 2900, 'tenor saxophone': 325, 'flute': 3167, 'distorted electric guitar': 955, 'female singer': 1142, 'trumpet': 406}\n",
      "loading metadata from /home/hugo/lab/instrument-recognition/data/mdb-solos-train-soundscapes/validation...\n",
      "found 3494 entries\n",
      "{'clarinet': 328, 'piano': 1022, 'flute': 233, 'female singer': 284, 'tenor saxophone': 29, 'violin': 1031, 'distorted electric guitar': 495, 'trumpet': 72}\n",
      "train entries: 5208\n",
      "val entries: 3494\n",
      "found checkpoint: /home/hugo/lab/instrument-recognition/test-tubes/transformer-search/seed=433_rnn=xfmr-8_recurrence_num_layers=6_/version_0/checkpoints/epoch=222-fscore_val=0.94.ckpt\n"
     ]
    },
    {
     "data": {
      "application/vnd.jupyter.widget-view+json": {
       "model_id": "0fca464c474845858160494991afca95",
       "version_major": 2,
       "version_minor": 0
      },
      "text/plain": [
       "HBox(children=(HTML(value='Testing'), FloatProgress(value=1.0, bar_style='info', layout=Layout(flex='2'), max=…"
      ]
     },
     "metadata": {},
     "output_type": "display_data"
    },
    {
     "name": "stdout",
     "output_type": "stream",
     "text": [
      "--------------------------------------------------------------------------------\n",
      "DATALOADER:0 TEST RESULTS\n",
      "{'ECE/test': 0.1398174950731818,\n",
      " 'accuracy/test': 0.8413152446333224,\n",
      " 'fscore/test': 0.8312646248263996,\n",
      " 'fscore_test': 0.8312646248263996,\n",
      " 'loss/test': tensor(1.2744),\n",
      " 'loss_test': tensor(1.2744),\n",
      " 'precision/test': 0.865689667692845,\n",
      " 'recall/test': 0.8413152446333224}\n",
      "--------------------------------------------------------------------------------\n",
      "\n",
      "found checkpoint: /home/hugo/lab/instrument-recognition/test-tubes/transformer-search/seed=11_rnn=xfmr-16_recurrence_num_layers=6_/version_0/checkpoints/epoch=25-fscore_val=0.93.ckpt\n",
      "found checkpoint: /home/hugo/lab/instrument-recognition/test-tubes/transformer-search/seed=11_rnn=xfmr-16_recurrence_num_layers=6_/version_0/checkpoints/epoch=25-fscore_val=0.93.ckpt\n",
      "/home/hugo/lab/instrument-recognition/test-tubes/transformer-search/seed=11_rnn=xfmr-16_recurrence_num_layers=6_/version_0\n",
      "/home/hugo/lab/instrument-recognition/test-tubes/transformer-search/seed=11_rnn=xfmr-16_recurrence_num_layers=6_/version_0/checkpoints/epoch=25-fscore_val=0.93.ckpt\n"
     ]
    },
    {
     "name": "stderr",
     "output_type": "stream",
     "text": [
      "100%|██████████| 5208/5208 [00:00<00:00, 40369.12it/s]"
     ]
    },
    {
     "name": "stdout",
     "output_type": "stream",
     "text": [
      "loading metadata from /home/hugo/lab/instrument-recognition/data/mdb-solos-train-soundscapes/train...\n",
      "found 5208 entries\n",
      "{'trumpet': 1965, 'clarinet': 1966, 'tenor saxophone': 1914, 'piano': 1941, 'violin': 1948, 'female singer': 2011, 'flute': 1932, 'distorted electric guitar': 1945}\n",
      "loading metadata from /home/hugo/lab/instrument-recognition/data/mdb-solos-train-soundscapes/test...\n"
     ]
    },
    {
     "name": "stderr",
     "output_type": "stream",
     "text": [
      "\n",
      "100%|██████████| 12236/12236 [00:00<00:00, 45125.54it/s]\n",
      "100%|██████████| 3494/3494 [00:00<00:00, 48307.01it/s]\n",
      "/home/hugo/lab/venv/lib/python3.8/site-packages/pytorch_lightning/utilities/distributed.py:45: UserWarning: Checkpoint directory /home/hugo/lab/instrument-recognition/test-tubes/transformer-search/seed=11_rnn=xfmr-16_recurrence_num_layers=6_/version_0/checkpoints exists and is not empty. With save_top_k=3, all files in this directory will be deleted when a checkpoint is saved!\n",
      "  warnings.warn(*args, **kwargs)\n",
      "GPU available: True, used: False\n",
      "TPU available: False, using: 0 TPU cores\n"
     ]
    },
    {
     "name": "stdout",
     "output_type": "stream",
     "text": [
      "found 12236 entries\n",
      "{'clarinet': 732, 'piano': 2609, 'violin': 2900, 'tenor saxophone': 325, 'flute': 3167, 'distorted electric guitar': 955, 'female singer': 1142, 'trumpet': 406}\n",
      "loading metadata from /home/hugo/lab/instrument-recognition/data/mdb-solos-train-soundscapes/validation...\n",
      "found 3494 entries\n",
      "{'clarinet': 328, 'piano': 1022, 'flute': 233, 'female singer': 284, 'tenor saxophone': 29, 'violin': 1031, 'distorted electric guitar': 495, 'trumpet': 72}\n",
      "train entries: 5208\n",
      "val entries: 3494\n",
      "found checkpoint: /home/hugo/lab/instrument-recognition/test-tubes/transformer-search/seed=11_rnn=xfmr-16_recurrence_num_layers=6_/version_0/checkpoints/epoch=25-fscore_val=0.93.ckpt\n"
     ]
    },
    {
     "data": {
      "application/vnd.jupyter.widget-view+json": {
       "model_id": "12c3c52a4f7640f38266c6fd44cba05a",
       "version_major": 2,
       "version_minor": 0
      },
      "text/plain": [
       "HBox(children=(HTML(value='Testing'), FloatProgress(value=1.0, bar_style='info', layout=Layout(flex='2'), max=…"
      ]
     },
     "metadata": {},
     "output_type": "display_data"
    },
    {
     "name": "stdout",
     "output_type": "stream",
     "text": [
      "--------------------------------------------------------------------------------\n",
      "DATALOADER:0 TEST RESULTS\n",
      "{'ECE/test': 0.1339549933599467,\n",
      " 'accuracy/test': 0.834722676255857,\n",
      " 'fscore/test': 0.8230282952558698,\n",
      " 'fscore_test': 0.8230282952558698,\n",
      " 'loss/test': tensor(1.0240),\n",
      " 'loss_test': tensor(1.0240),\n",
      " 'precision/test': 0.8557997733310404,\n",
      " 'recall/test': 0.834722676255857}\n",
      "--------------------------------------------------------------------------------\n",
      "\n",
      "found checkpoint: /home/hugo/lab/instrument-recognition/test-tubes/transformer-search/seed=440_rnn=xfmr-32_recurrence_num_layers=4_/version_0/checkpoints/epoch=44-fscore_val=0.94.ckpt\n",
      "found checkpoint: /home/hugo/lab/instrument-recognition/test-tubes/transformer-search/seed=440_rnn=xfmr-32_recurrence_num_layers=4_/version_0/checkpoints/epoch=44-fscore_val=0.94.ckpt\n",
      "/home/hugo/lab/instrument-recognition/test-tubes/transformer-search/seed=440_rnn=xfmr-32_recurrence_num_layers=4_/version_0\n",
      "/home/hugo/lab/instrument-recognition/test-tubes/transformer-search/seed=440_rnn=xfmr-32_recurrence_num_layers=4_/version_0/checkpoints/epoch=44-fscore_val=0.94.ckpt\n"
     ]
    },
    {
     "name": "stderr",
     "output_type": "stream",
     "text": [
      "100%|██████████| 5208/5208 [00:00<00:00, 36671.82it/s]"
     ]
    },
    {
     "name": "stdout",
     "output_type": "stream",
     "text": [
      "loading metadata from /home/hugo/lab/instrument-recognition/data/mdb-solos-train-soundscapes/train...\n",
      "found 5208 entries\n",
      "{'trumpet': 1965, 'clarinet': 1966, 'tenor saxophone': 1914, 'piano': 1941, 'violin': 1948, 'female singer': 2011, 'flute': 1932, 'distorted electric guitar': 1945}\n",
      "loading metadata from /home/hugo/lab/instrument-recognition/data/mdb-solos-train-soundscapes/test...\n"
     ]
    },
    {
     "name": "stderr",
     "output_type": "stream",
     "text": [
      "\n",
      "100%|██████████| 12236/12236 [00:00<00:00, 39169.96it/s]\n",
      "100%|██████████| 3494/3494 [00:00<00:00, 37913.41it/s]\n",
      "/home/hugo/lab/venv/lib/python3.8/site-packages/pytorch_lightning/utilities/distributed.py:45: UserWarning: Checkpoint directory /home/hugo/lab/instrument-recognition/test-tubes/transformer-search/seed=440_rnn=xfmr-32_recurrence_num_layers=4_/version_0/checkpoints exists and is not empty. With save_top_k=3, all files in this directory will be deleted when a checkpoint is saved!\n",
      "  warnings.warn(*args, **kwargs)\n",
      "GPU available: True, used: False\n",
      "TPU available: False, using: 0 TPU cores\n"
     ]
    },
    {
     "name": "stdout",
     "output_type": "stream",
     "text": [
      "found 12236 entries\n",
      "{'clarinet': 732, 'piano': 2609, 'violin': 2900, 'tenor saxophone': 325, 'flute': 3167, 'distorted electric guitar': 955, 'female singer': 1142, 'trumpet': 406}\n",
      "loading metadata from /home/hugo/lab/instrument-recognition/data/mdb-solos-train-soundscapes/validation...\n",
      "found 3494 entries\n",
      "{'clarinet': 328, 'piano': 1022, 'flute': 233, 'female singer': 284, 'tenor saxophone': 29, 'violin': 1031, 'distorted electric guitar': 495, 'trumpet': 72}\n",
      "train entries: 5208\n",
      "val entries: 3494\n",
      "found checkpoint: /home/hugo/lab/instrument-recognition/test-tubes/transformer-search/seed=440_rnn=xfmr-32_recurrence_num_layers=4_/version_0/checkpoints/epoch=44-fscore_val=0.94.ckpt\n"
     ]
    },
    {
     "data": {
      "application/vnd.jupyter.widget-view+json": {
       "model_id": "92abc97e5be9434c839755591d027a5b",
       "version_major": 2,
       "version_minor": 0
      },
      "text/plain": [
       "HBox(children=(HTML(value='Testing'), FloatProgress(value=1.0, bar_style='info', layout=Layout(flex='2'), max=…"
      ]
     },
     "metadata": {},
     "output_type": "display_data"
    },
    {
     "name": "stdout",
     "output_type": "stream",
     "text": [
      "--------------------------------------------------------------------------------\n",
      "DATALOADER:0 TEST RESULTS\n",
      "{'ECE/test': 0.16348472350356474,\n",
      " 'accuracy/test': 0.810749700337801,\n",
      " 'fscore/test': 0.7961486974013904,\n",
      " 'fscore_test': 0.7961486974013904,\n",
      " 'loss/test': tensor(1.5412),\n",
      " 'loss_test': tensor(1.5412),\n",
      " 'precision/test': 0.8436881078306915,\n",
      " 'recall/test': 0.810749700337801}\n",
      "--------------------------------------------------------------------------------\n",
      "\n",
      "found checkpoint: /home/hugo/lab/instrument-recognition/test-tubes/transformer-search/seed=11_rnn=xfmr-32_recurrence_num_layers=2_/version_0/checkpoints/epoch=42-fscore_val=0.93.ckpt\n",
      "found checkpoint: /home/hugo/lab/instrument-recognition/test-tubes/transformer-search/seed=11_rnn=xfmr-32_recurrence_num_layers=2_/version_0/checkpoints/epoch=42-fscore_val=0.93.ckpt\n",
      "/home/hugo/lab/instrument-recognition/test-tubes/transformer-search/seed=11_rnn=xfmr-32_recurrence_num_layers=2_/version_0\n",
      "/home/hugo/lab/instrument-recognition/test-tubes/transformer-search/seed=11_rnn=xfmr-32_recurrence_num_layers=2_/version_0/checkpoints/epoch=42-fscore_val=0.93.ckpt\n",
      "loading metadata from /home/hugo/lab/instrument-recognition/data/mdb-solos-train-soundscapes/train...\n"
     ]
    },
    {
     "name": "stderr",
     "output_type": "stream",
     "text": [
      "100%|██████████| 5208/5208 [00:00<00:00, 41334.69it/s]\n",
      " 41%|████      | 4990/12236 [00:00<00:00, 49891.01it/s]"
     ]
    },
    {
     "name": "stdout",
     "output_type": "stream",
     "text": [
      "found 5208 entries\n",
      "{'trumpet': 1965, 'clarinet': 1966, 'tenor saxophone': 1914, 'piano': 1941, 'violin': 1948, 'female singer': 2011, 'flute': 1932, 'distorted electric guitar': 1945}\n",
      "loading metadata from /home/hugo/lab/instrument-recognition/data/mdb-solos-train-soundscapes/test...\n"
     ]
    },
    {
     "name": "stderr",
     "output_type": "stream",
     "text": [
      "100%|██████████| 12236/12236 [00:00<00:00, 48859.85it/s]\n",
      "100%|██████████| 3494/3494 [00:00<00:00, 30446.99it/s]\n",
      "/home/hugo/lab/venv/lib/python3.8/site-packages/pytorch_lightning/utilities/distributed.py:45: UserWarning: Checkpoint directory /home/hugo/lab/instrument-recognition/test-tubes/transformer-search/seed=11_rnn=xfmr-32_recurrence_num_layers=2_/version_0/checkpoints exists and is not empty. With save_top_k=3, all files in this directory will be deleted when a checkpoint is saved!\n",
      "  warnings.warn(*args, **kwargs)\n",
      "GPU available: True, used: False\n",
      "TPU available: False, using: 0 TPU cores\n"
     ]
    },
    {
     "name": "stdout",
     "output_type": "stream",
     "text": [
      "found 12236 entries\n",
      "{'clarinet': 732, 'piano': 2609, 'violin': 2900, 'tenor saxophone': 325, 'flute': 3167, 'distorted electric guitar': 955, 'female singer': 1142, 'trumpet': 406}\n",
      "loading metadata from /home/hugo/lab/instrument-recognition/data/mdb-solos-train-soundscapes/validation...\n",
      "found 3494 entries\n",
      "{'clarinet': 328, 'piano': 1022, 'flute': 233, 'female singer': 284, 'tenor saxophone': 29, 'violin': 1031, 'distorted electric guitar': 495, 'trumpet': 72}\n",
      "train entries: 5208\n",
      "val entries: 3494\n",
      "found checkpoint: /home/hugo/lab/instrument-recognition/test-tubes/transformer-search/seed=11_rnn=xfmr-32_recurrence_num_layers=2_/version_0/checkpoints/epoch=42-fscore_val=0.93.ckpt\n"
     ]
    },
    {
     "data": {
      "application/vnd.jupyter.widget-view+json": {
       "model_id": "c334850c970a4c97b6f3457be85b1446",
       "version_major": 2,
       "version_minor": 0
      },
      "text/plain": [
       "HBox(children=(HTML(value='Testing'), FloatProgress(value=1.0, bar_style='info', layout=Layout(flex='2'), max=…"
      ]
     },
     "metadata": {},
     "output_type": "display_data"
    },
    {
     "name": "stderr",
     "output_type": "stream",
     "text": [
      "  0%|          | 0/5208 [00:00<?, ?it/s]"
     ]
    },
    {
     "name": "stdout",
     "output_type": "stream",
     "text": [
      "--------------------------------------------------------------------------------\n",
      "DATALOADER:0 TEST RESULTS\n",
      "{'ECE/test': 0.12808435532286033,\n",
      " 'accuracy/test': 0.8447477389124987,\n",
      " 'fscore/test': 0.8366519838105797,\n",
      " 'fscore_test': 0.8366519838105797,\n",
      " 'loss/test': tensor(1.2130),\n",
      " 'loss_test': tensor(1.2130),\n",
      " 'precision/test': 0.8591163959038447,\n",
      " 'recall/test': 0.8447477389124987}\n",
      "--------------------------------------------------------------------------------\n",
      "\n",
      "found checkpoint: /home/hugo/lab/instrument-recognition/test-tubes/transformer-search/seed=12_rnn=xfmr-32_recurrence_num_layers=1_/version_0/checkpoints/epoch=04-fscore_val=0.93.ckpt\n",
      "found checkpoint: /home/hugo/lab/instrument-recognition/test-tubes/transformer-search/seed=12_rnn=xfmr-32_recurrence_num_layers=1_/version_0/checkpoints/epoch=04-fscore_val=0.93.ckpt\n",
      "/home/hugo/lab/instrument-recognition/test-tubes/transformer-search/seed=12_rnn=xfmr-32_recurrence_num_layers=1_/version_0\n",
      "/home/hugo/lab/instrument-recognition/test-tubes/transformer-search/seed=12_rnn=xfmr-32_recurrence_num_layers=1_/version_0/checkpoints/epoch=04-fscore_val=0.93.ckpt\n",
      "loading metadata from /home/hugo/lab/instrument-recognition/data/mdb-solos-train-soundscapes/train...\n"
     ]
    },
    {
     "name": "stderr",
     "output_type": "stream",
     "text": [
      "100%|██████████| 5208/5208 [00:00<00:00, 35754.28it/s]\n",
      " 41%|████      | 5033/12236 [00:00<00:00, 50328.13it/s]"
     ]
    },
    {
     "name": "stdout",
     "output_type": "stream",
     "text": [
      "found 5208 entries\n",
      "{'trumpet': 1965, 'clarinet': 1966, 'tenor saxophone': 1914, 'piano': 1941, 'violin': 1948, 'female singer': 2011, 'flute': 1932, 'distorted electric guitar': 1945}\n",
      "loading metadata from /home/hugo/lab/instrument-recognition/data/mdb-solos-train-soundscapes/test...\n"
     ]
    },
    {
     "name": "stderr",
     "output_type": "stream",
     "text": [
      "100%|██████████| 12236/12236 [00:00<00:00, 49626.99it/s]\n",
      "100%|██████████| 3494/3494 [00:00<00:00, 48781.20it/s]\n",
      "/home/hugo/lab/venv/lib/python3.8/site-packages/pytorch_lightning/utilities/distributed.py:45: UserWarning: Checkpoint directory /home/hugo/lab/instrument-recognition/test-tubes/transformer-search/seed=12_rnn=xfmr-32_recurrence_num_layers=1_/version_0/checkpoints exists and is not empty. With save_top_k=3, all files in this directory will be deleted when a checkpoint is saved!\n",
      "  warnings.warn(*args, **kwargs)\n",
      "GPU available: True, used: False\n",
      "TPU available: False, using: 0 TPU cores\n"
     ]
    },
    {
     "name": "stdout",
     "output_type": "stream",
     "text": [
      "found 12236 entries\n",
      "{'clarinet': 732, 'piano': 2609, 'violin': 2900, 'tenor saxophone': 325, 'flute': 3167, 'distorted electric guitar': 955, 'female singer': 1142, 'trumpet': 406}\n",
      "loading metadata from /home/hugo/lab/instrument-recognition/data/mdb-solos-train-soundscapes/validation...\n",
      "found 3494 entries\n",
      "{'clarinet': 328, 'piano': 1022, 'flute': 233, 'female singer': 284, 'tenor saxophone': 29, 'violin': 1031, 'distorted electric guitar': 495, 'trumpet': 72}\n",
      "train entries: 5208\n",
      "val entries: 3494\n",
      "found checkpoint: /home/hugo/lab/instrument-recognition/test-tubes/transformer-search/seed=12_rnn=xfmr-32_recurrence_num_layers=1_/version_0/checkpoints/epoch=04-fscore_val=0.93.ckpt\n"
     ]
    },
    {
     "data": {
      "application/vnd.jupyter.widget-view+json": {
       "model_id": "369d737146f04e6dba2ae6c170456e51",
       "version_major": 2,
       "version_minor": 0
      },
      "text/plain": [
       "HBox(children=(HTML(value='Testing'), FloatProgress(value=1.0, bar_style='info', layout=Layout(flex='2'), max=…"
      ]
     },
     "metadata": {},
     "output_type": "display_data"
    },
    {
     "name": "stdout",
     "output_type": "stream",
     "text": [
      "--------------------------------------------------------------------------------\n",
      "DATALOADER:0 TEST RESULTS\n",
      "{'ECE/test': 0.11559775556365928,\n",
      " 'accuracy/test': 0.8443935926773455,\n",
      " 'fscore/test': 0.8343533710675056,\n",
      " 'fscore_test': 0.8343533710675056,\n",
      " 'loss/test': tensor(0.9278),\n",
      " 'loss_test': tensor(0.9278),\n",
      " 'precision/test': 0.8656024315917444,\n",
      " 'recall/test': 0.8443935926773455}\n",
      "--------------------------------------------------------------------------------\n",
      "\n",
      "found checkpoint: /home/hugo/lab/instrument-recognition/test-tubes/transformer-search/seed=11_rnn=xfmr-4_recurrence_num_layers=4_/version_0/checkpoints/epoch=04-fscore_val=0.93.ckpt\n"
     ]
    },
    {
     "name": "stderr",
     "output_type": "stream",
     "text": [
      "  0%|          | 0/5208 [00:00<?, ?it/s]"
     ]
    },
    {
     "name": "stdout",
     "output_type": "stream",
     "text": [
      "found checkpoint: /home/hugo/lab/instrument-recognition/test-tubes/transformer-search/seed=11_rnn=xfmr-4_recurrence_num_layers=4_/version_0/checkpoints/epoch=04-fscore_val=0.93.ckpt\n",
      "/home/hugo/lab/instrument-recognition/test-tubes/transformer-search/seed=11_rnn=xfmr-4_recurrence_num_layers=4_/version_0\n",
      "/home/hugo/lab/instrument-recognition/test-tubes/transformer-search/seed=11_rnn=xfmr-4_recurrence_num_layers=4_/version_0/checkpoints/epoch=04-fscore_val=0.93.ckpt\n",
      "loading metadata from /home/hugo/lab/instrument-recognition/data/mdb-solos-train-soundscapes/train...\n"
     ]
    },
    {
     "name": "stderr",
     "output_type": "stream",
     "text": [
      "100%|██████████| 5208/5208 [00:00<00:00, 41185.13it/s]\n",
      " 40%|████      | 4932/12236 [00:00<00:00, 49318.99it/s]"
     ]
    },
    {
     "name": "stdout",
     "output_type": "stream",
     "text": [
      "found 5208 entries\n",
      "{'trumpet': 1965, 'clarinet': 1966, 'tenor saxophone': 1914, 'piano': 1941, 'violin': 1948, 'female singer': 2011, 'flute': 1932, 'distorted electric guitar': 1945}\n",
      "loading metadata from /home/hugo/lab/instrument-recognition/data/mdb-solos-train-soundscapes/test...\n"
     ]
    },
    {
     "name": "stderr",
     "output_type": "stream",
     "text": [
      "100%|██████████| 12236/12236 [00:00<00:00, 42632.10it/s]\n",
      "100%|██████████| 3494/3494 [00:00<00:00, 48138.97it/s]\n",
      "/home/hugo/lab/venv/lib/python3.8/site-packages/pytorch_lightning/utilities/distributed.py:45: UserWarning: Checkpoint directory /home/hugo/lab/instrument-recognition/test-tubes/transformer-search/seed=11_rnn=xfmr-4_recurrence_num_layers=4_/version_0/checkpoints exists and is not empty. With save_top_k=3, all files in this directory will be deleted when a checkpoint is saved!\n",
      "  warnings.warn(*args, **kwargs)\n",
      "GPU available: True, used: False\n",
      "TPU available: False, using: 0 TPU cores\n"
     ]
    },
    {
     "name": "stdout",
     "output_type": "stream",
     "text": [
      "found 12236 entries\n",
      "{'clarinet': 732, 'piano': 2609, 'violin': 2900, 'tenor saxophone': 325, 'flute': 3167, 'distorted electric guitar': 955, 'female singer': 1142, 'trumpet': 406}\n",
      "loading metadata from /home/hugo/lab/instrument-recognition/data/mdb-solos-train-soundscapes/validation...\n",
      "found 3494 entries\n",
      "{'clarinet': 328, 'piano': 1022, 'flute': 233, 'female singer': 284, 'tenor saxophone': 29, 'violin': 1031, 'distorted electric guitar': 495, 'trumpet': 72}\n",
      "train entries: 5208\n",
      "val entries: 3494\n",
      "found checkpoint: /home/hugo/lab/instrument-recognition/test-tubes/transformer-search/seed=11_rnn=xfmr-4_recurrence_num_layers=4_/version_0/checkpoints/epoch=04-fscore_val=0.93.ckpt\n"
     ]
    },
    {
     "data": {
      "application/vnd.jupyter.widget-view+json": {
       "model_id": "1b78464f731b4a8bac512fcd7e840e0e",
       "version_major": 2,
       "version_minor": 0
      },
      "text/plain": [
       "HBox(children=(HTML(value='Testing'), FloatProgress(value=1.0, bar_style='info', layout=Layout(flex='2'), max=…"
      ]
     },
     "metadata": {},
     "output_type": "display_data"
    },
    {
     "name": "stdout",
     "output_type": "stream",
     "text": [
      "--------------------------------------------------------------------------------\n",
      "DATALOADER:0 TEST RESULTS\n",
      "{'ECE/test': 0.10613601243147155,\n",
      " 'accuracy/test': 0.8554810940394464,\n",
      " 'fscore/test': 0.846410437136969,\n",
      " 'fscore_test': 0.846410437136969,\n",
      " 'loss/test': tensor(0.7915),\n",
      " 'loss_test': tensor(0.7915),\n",
      " 'precision/test': 0.868750956241322,\n",
      " 'recall/test': 0.8554810940394464}\n",
      "--------------------------------------------------------------------------------\n",
      "\n",
      "found checkpoint: /home/hugo/lab/instrument-recognition/test-tubes/transformer-search/seed=11_rnn=xfmr-64_recurrence_num_layers=8_/version_0/checkpoints/epoch=08-fscore_val=0.92.ckpt\n",
      "found checkpoint: /home/hugo/lab/instrument-recognition/test-tubes/transformer-search/seed=11_rnn=xfmr-64_recurrence_num_layers=8_/version_0/checkpoints/epoch=08-fscore_val=0.92.ckpt\n",
      "/home/hugo/lab/instrument-recognition/test-tubes/transformer-search/seed=11_rnn=xfmr-64_recurrence_num_layers=8_/version_0\n",
      "/home/hugo/lab/instrument-recognition/test-tubes/transformer-search/seed=11_rnn=xfmr-64_recurrence_num_layers=8_/version_0/checkpoints/epoch=08-fscore_val=0.92.ckpt\n"
     ]
    },
    {
     "name": "stderr",
     "output_type": "stream",
     "text": [
      " 48%|████▊     | 2513/5208 [00:00<00:00, 25122.72it/s]"
     ]
    },
    {
     "name": "stdout",
     "output_type": "stream",
     "text": [
      "loading metadata from /home/hugo/lab/instrument-recognition/data/mdb-solos-train-soundscapes/train...\n"
     ]
    },
    {
     "name": "stderr",
     "output_type": "stream",
     "text": [
      "100%|██████████| 5208/5208 [00:00<00:00, 27862.94it/s]\n",
      " 37%|███▋      | 4501/12236 [00:00<00:00, 45003.71it/s]"
     ]
    },
    {
     "name": "stdout",
     "output_type": "stream",
     "text": [
      "found 5208 entries\n",
      "{'trumpet': 1965, 'clarinet': 1966, 'tenor saxophone': 1914, 'piano': 1941, 'violin': 1948, 'female singer': 2011, 'flute': 1932, 'distorted electric guitar': 1945}\n",
      "loading metadata from /home/hugo/lab/instrument-recognition/data/mdb-solos-train-soundscapes/test...\n"
     ]
    },
    {
     "name": "stderr",
     "output_type": "stream",
     "text": [
      "100%|██████████| 12236/12236 [00:00<00:00, 45517.76it/s]\n",
      "100%|██████████| 3494/3494 [00:00<00:00, 44674.66it/s]\n",
      "/home/hugo/lab/venv/lib/python3.8/site-packages/pytorch_lightning/utilities/distributed.py:45: UserWarning: Checkpoint directory /home/hugo/lab/instrument-recognition/test-tubes/transformer-search/seed=11_rnn=xfmr-64_recurrence_num_layers=8_/version_0/checkpoints exists and is not empty. With save_top_k=3, all files in this directory will be deleted when a checkpoint is saved!\n",
      "  warnings.warn(*args, **kwargs)\n",
      "GPU available: True, used: False\n",
      "TPU available: False, using: 0 TPU cores\n"
     ]
    },
    {
     "name": "stdout",
     "output_type": "stream",
     "text": [
      "found 12236 entries\n",
      "{'clarinet': 732, 'piano': 2609, 'violin': 2900, 'tenor saxophone': 325, 'flute': 3167, 'distorted electric guitar': 955, 'female singer': 1142, 'trumpet': 406}\n",
      "loading metadata from /home/hugo/lab/instrument-recognition/data/mdb-solos-train-soundscapes/validation...\n",
      "found 3494 entries\n",
      "{'clarinet': 328, 'piano': 1022, 'flute': 233, 'female singer': 284, 'tenor saxophone': 29, 'violin': 1031, 'distorted electric guitar': 495, 'trumpet': 72}\n",
      "train entries: 5208\n",
      "val entries: 3494\n",
      "found checkpoint: /home/hugo/lab/instrument-recognition/test-tubes/transformer-search/seed=11_rnn=xfmr-64_recurrence_num_layers=8_/version_0/checkpoints/epoch=08-fscore_val=0.92.ckpt\n"
     ]
    },
    {
     "data": {
      "application/vnd.jupyter.widget-view+json": {
       "model_id": "515dc81405204818a175cc8659fce102",
       "version_major": 2,
       "version_minor": 0
      },
      "text/plain": [
       "HBox(children=(HTML(value='Testing'), FloatProgress(value=1.0, bar_style='info', layout=Layout(flex='2'), max=…"
      ]
     },
     "metadata": {},
     "output_type": "display_data"
    },
    {
     "name": "stdout",
     "output_type": "stream",
     "text": [
      "--------------------------------------------------------------------------------\n",
      "DATALOADER:0 TEST RESULTS\n",
      "{'ECE/test': 0.14326437256383504,\n",
      " 'accuracy/test': 0.8269042170644001,\n",
      " 'fscore/test': 0.8154085826454167,\n",
      " 'fscore_test': 0.8154085826454167,\n",
      " 'loss/test': tensor(1.0443),\n",
      " 'loss_test': tensor(1.0443),\n",
      " 'precision/test': 0.8452774501062695,\n",
      " 'recall/test': 0.8269042170644001}\n",
      "--------------------------------------------------------------------------------\n",
      "\n",
      "found checkpoint: /home/hugo/lab/instrument-recognition/test-tubes/transformer-search/seed=23_rnn=xfmr-4_recurrence_num_layers=8_/version_0/checkpoints/epoch=21-fscore_val=0.92.ckpt\n",
      "found checkpoint: /home/hugo/lab/instrument-recognition/test-tubes/transformer-search/seed=23_rnn=xfmr-4_recurrence_num_layers=8_/version_0/checkpoints/epoch=21-fscore_val=0.92.ckpt\n",
      "/home/hugo/lab/instrument-recognition/test-tubes/transformer-search/seed=23_rnn=xfmr-4_recurrence_num_layers=8_/version_0\n",
      "/home/hugo/lab/instrument-recognition/test-tubes/transformer-search/seed=23_rnn=xfmr-4_recurrence_num_layers=8_/version_0/checkpoints/epoch=21-fscore_val=0.92.ckpt\n"
     ]
    },
    {
     "name": "stderr",
     "output_type": "stream",
     "text": [
      " 57%|█████▋    | 2988/5208 [00:00<00:00, 29866.64it/s]"
     ]
    },
    {
     "name": "stdout",
     "output_type": "stream",
     "text": [
      "loading metadata from /home/hugo/lab/instrument-recognition/data/mdb-solos-train-soundscapes/train...\n"
     ]
    },
    {
     "name": "stderr",
     "output_type": "stream",
     "text": [
      "100%|██████████| 5208/5208 [00:00<00:00, 30142.66it/s]\n",
      "  0%|          | 0/12236 [00:00<?, ?it/s]"
     ]
    },
    {
     "name": "stdout",
     "output_type": "stream",
     "text": [
      "found 5208 entries\n",
      "{'trumpet': 1965, 'clarinet': 1966, 'tenor saxophone': 1914, 'piano': 1941, 'violin': 1948, 'female singer': 2011, 'flute': 1932, 'distorted electric guitar': 1945}\n",
      "loading metadata from /home/hugo/lab/instrument-recognition/data/mdb-solos-train-soundscapes/test...\n"
     ]
    },
    {
     "name": "stderr",
     "output_type": "stream",
     "text": [
      "100%|██████████| 12236/12236 [00:04<00:00, 3056.68it/s]\n",
      " 76%|███████▋  | 2667/3494 [00:00<00:00, 26668.69it/s]"
     ]
    },
    {
     "name": "stdout",
     "output_type": "stream",
     "text": [
      "found 12236 entries\n",
      "{'clarinet': 732, 'piano': 2609, 'violin': 2900, 'tenor saxophone': 325, 'flute': 3167, 'distorted electric guitar': 955, 'female singer': 1142, 'trumpet': 406}\n",
      "loading metadata from /home/hugo/lab/instrument-recognition/data/mdb-solos-train-soundscapes/validation...\n"
     ]
    },
    {
     "name": "stderr",
     "output_type": "stream",
     "text": [
      "100%|██████████| 3494/3494 [00:00<00:00, 25252.87it/s]\n",
      "/home/hugo/lab/venv/lib/python3.8/site-packages/pytorch_lightning/utilities/distributed.py:45: UserWarning: Checkpoint directory /home/hugo/lab/instrument-recognition/test-tubes/transformer-search/seed=23_rnn=xfmr-4_recurrence_num_layers=8_/version_0/checkpoints exists and is not empty. With save_top_k=3, all files in this directory will be deleted when a checkpoint is saved!\n",
      "  warnings.warn(*args, **kwargs)\n",
      "GPU available: True, used: False\n",
      "TPU available: False, using: 0 TPU cores\n"
     ]
    },
    {
     "name": "stdout",
     "output_type": "stream",
     "text": [
      "found 3494 entries\n",
      "{'clarinet': 328, 'piano': 1022, 'flute': 233, 'female singer': 284, 'tenor saxophone': 29, 'violin': 1031, 'distorted electric guitar': 495, 'trumpet': 72}\n",
      "train entries: 5208\n",
      "val entries: 3494\n",
      "found checkpoint: /home/hugo/lab/instrument-recognition/test-tubes/transformer-search/seed=23_rnn=xfmr-4_recurrence_num_layers=8_/version_0/checkpoints/epoch=21-fscore_val=0.92.ckpt\n"
     ]
    },
    {
     "data": {
      "application/vnd.jupyter.widget-view+json": {
       "model_id": "bc6c0840463c485499c1ccad7f027575",
       "version_major": 2,
       "version_minor": 0
      },
      "text/plain": [
       "HBox(children=(HTML(value='Testing'), FloatProgress(value=1.0, bar_style='info', layout=Layout(flex='2'), max=…"
      ]
     },
     "metadata": {},
     "output_type": "display_data"
    },
    {
     "name": "stdout",
     "output_type": "stream",
     "text": [
      "--------------------------------------------------------------------------------\n",
      "DATALOADER:0 TEST RESULTS\n",
      "{'ECE/test': 0.13777428016941745,\n",
      " 'accuracy/test': 0.8342595619483492,\n",
      " 'fscore/test': 0.8232631733376539,\n",
      " 'fscore_test': 0.8232631733376539,\n",
      " 'loss/test': tensor(1.0565),\n",
      " 'loss_test': tensor(1.0565),\n",
      " 'precision/test': 0.8573555043265434,\n",
      " 'recall/test': 0.8342595619483492}\n",
      "--------------------------------------------------------------------------------\n",
      "\n",
      "found checkpoint: /home/hugo/lab/instrument-recognition/test-tubes/transformer-search/seed=12_rnn=xfmr-2_recurrence_num_layers=6_/version_0/checkpoints/epoch=121-fscore_val=0.95.ckpt\n",
      "found checkpoint: /home/hugo/lab/instrument-recognition/test-tubes/transformer-search/seed=12_rnn=xfmr-2_recurrence_num_layers=6_/version_0/checkpoints/epoch=121-fscore_val=0.95.ckpt\n",
      "/home/hugo/lab/instrument-recognition/test-tubes/transformer-search/seed=12_rnn=xfmr-2_recurrence_num_layers=6_/version_0\n",
      "/home/hugo/lab/instrument-recognition/test-tubes/transformer-search/seed=12_rnn=xfmr-2_recurrence_num_layers=6_/version_0/checkpoints/epoch=121-fscore_val=0.95.ckpt\n"
     ]
    },
    {
     "name": "stderr",
     "output_type": "stream",
     "text": [
      " 44%|████▍     | 2286/5208 [00:00<00:00, 22852.50it/s]"
     ]
    },
    {
     "name": "stdout",
     "output_type": "stream",
     "text": [
      "loading metadata from /home/hugo/lab/instrument-recognition/data/mdb-solos-train-soundscapes/train...\n"
     ]
    },
    {
     "name": "stderr",
     "output_type": "stream",
     "text": [
      "100%|██████████| 5208/5208 [00:00<00:00, 23781.15it/s]\n",
      " 34%|███▍      | 4136/12236 [00:00<00:00, 41353.93it/s]"
     ]
    },
    {
     "name": "stdout",
     "output_type": "stream",
     "text": [
      "found 5208 entries\n",
      "{'trumpet': 1965, 'clarinet': 1966, 'tenor saxophone': 1914, 'piano': 1941, 'violin': 1948, 'female singer': 2011, 'flute': 1932, 'distorted electric guitar': 1945}\n",
      "loading metadata from /home/hugo/lab/instrument-recognition/data/mdb-solos-train-soundscapes/test...\n"
     ]
    },
    {
     "name": "stderr",
     "output_type": "stream",
     "text": [
      "100%|██████████| 12236/12236 [00:00<00:00, 38068.55it/s]\n",
      "100%|██████████| 3494/3494 [00:00<00:00, 23006.01it/s]\n"
     ]
    },
    {
     "name": "stdout",
     "output_type": "stream",
     "text": [
      "found 12236 entries\n",
      "{'clarinet': 732, 'piano': 2609, 'violin': 2900, 'tenor saxophone': 325, 'flute': 3167, 'distorted electric guitar': 955, 'female singer': 1142, 'trumpet': 406}\n",
      "loading metadata from /home/hugo/lab/instrument-recognition/data/mdb-solos-train-soundscapes/validation...\n",
      "found 3494 entries\n",
      "{'clarinet': 328, 'piano': 1022, 'flute': 233, 'female singer': 284, 'tenor saxophone': 29, 'violin': 1031, 'distorted electric guitar': 495, 'trumpet': 72}\n",
      "train entries: 5208\n",
      "val entries: 3494\n"
     ]
    },
    {
     "name": "stderr",
     "output_type": "stream",
     "text": [
      "/home/hugo/lab/venv/lib/python3.8/site-packages/pytorch_lightning/utilities/distributed.py:45: UserWarning: Checkpoint directory /home/hugo/lab/instrument-recognition/test-tubes/transformer-search/seed=12_rnn=xfmr-2_recurrence_num_layers=6_/version_0/checkpoints exists and is not empty. With save_top_k=3, all files in this directory will be deleted when a checkpoint is saved!\n",
      "  warnings.warn(*args, **kwargs)\n",
      "GPU available: True, used: False\n",
      "TPU available: False, using: 0 TPU cores\n"
     ]
    },
    {
     "name": "stdout",
     "output_type": "stream",
     "text": [
      "found checkpoint: /home/hugo/lab/instrument-recognition/test-tubes/transformer-search/seed=12_rnn=xfmr-2_recurrence_num_layers=6_/version_0/checkpoints/epoch=121-fscore_val=0.95.ckpt\n"
     ]
    },
    {
     "data": {
      "application/vnd.jupyter.widget-view+json": {
       "model_id": "ac55a139004a402db835a6baae0a066e",
       "version_major": 2,
       "version_minor": 0
      },
      "text/plain": [
       "HBox(children=(HTML(value='Testing'), FloatProgress(value=1.0, bar_style='info', layout=Layout(flex='2'), max=…"
      ]
     },
     "metadata": {},
     "output_type": "display_data"
    },
    {
     "name": "stdout",
     "output_type": "stream",
     "text": [
      "--------------------------------------------------------------------------------\n",
      "DATALOADER:0 TEST RESULTS\n",
      "{'ECE/test': 0.10613798189141452,\n",
      " 'accuracy/test': 0.8518034215974719,\n",
      " 'fscore/test': 0.8442808788330615,\n",
      " 'fscore_test': 0.8442808788330615,\n",
      " 'loss/test': tensor(0.9556),\n",
      " 'loss_test': tensor(0.9556),\n",
      " 'precision/test': 0.8777835842216246,\n",
      " 'recall/test': 0.8518034215974719}\n",
      "--------------------------------------------------------------------------------\n",
      "\n",
      "found checkpoint: /home/hugo/lab/instrument-recognition/test-tubes/transformer-search/seed=440_rnn=xfmr-1_recurrence_num_layers=1_/version_0/checkpoints/epoch=36-fscore_val=0.93.ckpt\n",
      "found checkpoint: /home/hugo/lab/instrument-recognition/test-tubes/transformer-search/seed=440_rnn=xfmr-1_recurrence_num_layers=1_/version_0/checkpoints/epoch=36-fscore_val=0.93.ckpt\n",
      "/home/hugo/lab/instrument-recognition/test-tubes/transformer-search/seed=440_rnn=xfmr-1_recurrence_num_layers=1_/version_0\n",
      "/home/hugo/lab/instrument-recognition/test-tubes/transformer-search/seed=440_rnn=xfmr-1_recurrence_num_layers=1_/version_0/checkpoints/epoch=36-fscore_val=0.93.ckpt\n"
     ]
    },
    {
     "name": "stderr",
     "output_type": "stream",
     "text": [
      " 66%|██████▌   | 3434/5208 [00:00<00:00, 34334.88it/s]"
     ]
    },
    {
     "name": "stdout",
     "output_type": "stream",
     "text": [
      "loading metadata from /home/hugo/lab/instrument-recognition/data/mdb-solos-train-soundscapes/train...\n"
     ]
    },
    {
     "name": "stderr",
     "output_type": "stream",
     "text": [
      "100%|██████████| 5208/5208 [00:00<00:00, 30470.63it/s]\n",
      "  0%|          | 0/12236 [00:00<?, ?it/s]"
     ]
    },
    {
     "name": "stdout",
     "output_type": "stream",
     "text": [
      "found 5208 entries\n",
      "{'trumpet': 1965, 'clarinet': 1966, 'tenor saxophone': 1914, 'piano': 1941, 'violin': 1948, 'female singer': 2011, 'flute': 1932, 'distorted electric guitar': 1945}\n",
      "loading metadata from /home/hugo/lab/instrument-recognition/data/mdb-solos-train-soundscapes/test...\n"
     ]
    },
    {
     "name": "stderr",
     "output_type": "stream",
     "text": [
      "100%|██████████| 12236/12236 [00:00<00:00, 28362.48it/s]\n",
      " 73%|███████▎  | 2542/3494 [00:00<00:00, 25418.99it/s]"
     ]
    },
    {
     "name": "stdout",
     "output_type": "stream",
     "text": [
      "found 12236 entries\n",
      "{'clarinet': 732, 'piano': 2609, 'violin': 2900, 'tenor saxophone': 325, 'flute': 3167, 'distorted electric guitar': 955, 'female singer': 1142, 'trumpet': 406}\n",
      "loading metadata from /home/hugo/lab/instrument-recognition/data/mdb-solos-train-soundscapes/validation...\n"
     ]
    },
    {
     "name": "stderr",
     "output_type": "stream",
     "text": [
      "100%|██████████| 3494/3494 [00:00<00:00, 24283.58it/s]\n",
      "/home/hugo/lab/venv/lib/python3.8/site-packages/pytorch_lightning/utilities/distributed.py:45: UserWarning: Checkpoint directory /home/hugo/lab/instrument-recognition/test-tubes/transformer-search/seed=440_rnn=xfmr-1_recurrence_num_layers=1_/version_0/checkpoints exists and is not empty. With save_top_k=3, all files in this directory will be deleted when a checkpoint is saved!\n",
      "  warnings.warn(*args, **kwargs)\n",
      "GPU available: True, used: False\n",
      "TPU available: False, using: 0 TPU cores\n"
     ]
    },
    {
     "name": "stdout",
     "output_type": "stream",
     "text": [
      "found 3494 entries\n",
      "{'clarinet': 328, 'piano': 1022, 'flute': 233, 'female singer': 284, 'tenor saxophone': 29, 'violin': 1031, 'distorted electric guitar': 495, 'trumpet': 72}\n",
      "train entries: 5208\n",
      "val entries: 3494\n",
      "found checkpoint: /home/hugo/lab/instrument-recognition/test-tubes/transformer-search/seed=440_rnn=xfmr-1_recurrence_num_layers=1_/version_0/checkpoints/epoch=36-fscore_val=0.93.ckpt\n"
     ]
    },
    {
     "data": {
      "application/vnd.jupyter.widget-view+json": {
       "model_id": "7c2c23794c5e4c06b79202d9356a99f1",
       "version_major": 2,
       "version_minor": 0
      },
      "text/plain": [
       "HBox(children=(HTML(value='Testing'), FloatProgress(value=1.0, bar_style='info', layout=Layout(flex='2'), max=…"
      ]
     },
     "metadata": {},
     "output_type": "display_data"
    },
    {
     "name": "stdout",
     "output_type": "stream",
     "text": [
      "--------------------------------------------------------------------------------\n",
      "DATALOADER:0 TEST RESULTS\n",
      "{'ECE/test': 0.14481604912529283,\n",
      " 'accuracy/test': 0.8233627547128691,\n",
      " 'fscore/test': 0.812502419645531,\n",
      " 'fscore_test': 0.812502419645531,\n",
      " 'loss/test': tensor(1.2297),\n",
      " 'loss_test': tensor(1.2297),\n",
      " 'precision/test': 0.8534198415304528,\n",
      " 'recall/test': 0.8233627547128691}\n",
      "--------------------------------------------------------------------------------\n",
      "\n",
      "found checkpoint: /home/hugo/lab/instrument-recognition/test-tubes/transformer-search/seed=440_rnn=xfmr-8_recurrence_num_layers=6_/version_0/checkpoints/epoch=24-fscore_val=0.93.ckpt\n",
      "found checkpoint: /home/hugo/lab/instrument-recognition/test-tubes/transformer-search/seed=440_rnn=xfmr-8_recurrence_num_layers=6_/version_0/checkpoints/epoch=24-fscore_val=0.93.ckpt\n",
      "/home/hugo/lab/instrument-recognition/test-tubes/transformer-search/seed=440_rnn=xfmr-8_recurrence_num_layers=6_/version_0\n",
      "/home/hugo/lab/instrument-recognition/test-tubes/transformer-search/seed=440_rnn=xfmr-8_recurrence_num_layers=6_/version_0/checkpoints/epoch=24-fscore_val=0.93.ckpt\n"
     ]
    },
    {
     "name": "stderr",
     "output_type": "stream",
     "text": [
      " 41%|████      | 2145/5208 [00:00<00:00, 21445.78it/s]"
     ]
    },
    {
     "name": "stdout",
     "output_type": "stream",
     "text": [
      "loading metadata from /home/hugo/lab/instrument-recognition/data/mdb-solos-train-soundscapes/train...\n"
     ]
    },
    {
     "name": "stderr",
     "output_type": "stream",
     "text": [
      "100%|██████████| 5208/5208 [00:00<00:00, 23822.90it/s]\n",
      " 29%|██▊       | 3498/12236 [00:00<00:00, 34971.11it/s]"
     ]
    },
    {
     "name": "stdout",
     "output_type": "stream",
     "text": [
      "found 5208 entries\n",
      "{'trumpet': 1965, 'clarinet': 1966, 'tenor saxophone': 1914, 'piano': 1941, 'violin': 1948, 'female singer': 2011, 'flute': 1932, 'distorted electric guitar': 1945}\n",
      "loading metadata from /home/hugo/lab/instrument-recognition/data/mdb-solos-train-soundscapes/test...\n"
     ]
    },
    {
     "name": "stderr",
     "output_type": "stream",
     "text": [
      "100%|██████████| 12236/12236 [00:00<00:00, 33179.96it/s]\n",
      "100%|██████████| 3494/3494 [00:00<00:00, 31924.96it/s]\n",
      "/home/hugo/lab/venv/lib/python3.8/site-packages/pytorch_lightning/utilities/distributed.py:45: UserWarning: Checkpoint directory /home/hugo/lab/instrument-recognition/test-tubes/transformer-search/seed=440_rnn=xfmr-8_recurrence_num_layers=6_/version_0/checkpoints exists and is not empty. With save_top_k=3, all files in this directory will be deleted when a checkpoint is saved!\n",
      "  warnings.warn(*args, **kwargs)\n",
      "GPU available: True, used: False\n"
     ]
    },
    {
     "name": "stdout",
     "output_type": "stream",
     "text": [
      "found 12236 entries\n",
      "{'clarinet': 732, 'piano': 2609, 'violin': 2900, 'tenor saxophone': 325, 'flute': 3167, 'distorted electric guitar': 955, 'female singer': 1142, 'trumpet': 406}\n",
      "loading metadata from /home/hugo/lab/instrument-recognition/data/mdb-solos-train-soundscapes/validation...\n",
      "found 3494 entries\n",
      "{'clarinet': 328, 'piano': 1022, 'flute': 233, 'female singer': 284, 'tenor saxophone': 29, 'violin': 1031, 'distorted electric guitar': 495, 'trumpet': 72}\n",
      "train entries: 5208\n",
      "val entries: 3494\n",
      "found checkpoint: /home/hugo/lab/instrument-recognition/test-tubes/transformer-search/seed=440_rnn=xfmr-8_recurrence_num_layers=6_/version_0/checkpoints/epoch=24-fscore_val=0.93.ckpt\n"
     ]
    },
    {
     "name": "stderr",
     "output_type": "stream",
     "text": [
      "TPU available: False, using: 0 TPU cores\n"
     ]
    },
    {
     "data": {
      "application/vnd.jupyter.widget-view+json": {
       "model_id": "26a871584fec4238acf600f9e7a15fa4",
       "version_major": 2,
       "version_minor": 0
      },
      "text/plain": [
       "HBox(children=(HTML(value='Testing'), FloatProgress(value=1.0, bar_style='info', layout=Layout(flex='2'), max=…"
      ]
     },
     "metadata": {},
     "output_type": "display_data"
    },
    {
     "name": "stdout",
     "output_type": "stream",
     "text": [
      "--------------------------------------------------------------------------------\n",
      "DATALOADER:0 TEST RESULTS\n",
      "{'ECE/test': 0.14735883592640217,\n",
      " 'accuracy/test': 0.8272583632995533,\n",
      " 'fscore/test': 0.8146901472381058,\n",
      " 'fscore_test': 0.8146901472381058,\n",
      " 'loss/test': tensor(1.1773),\n",
      " 'loss_test': tensor(1.1773),\n",
      " 'precision/test': 0.851387356840698,\n",
      " 'recall/test': 0.8272583632995533}\n",
      "--------------------------------------------------------------------------------\n",
      "\n",
      "found checkpoint: /home/hugo/lab/instrument-recognition/test-tubes/transformer-search/seed=433_rnn=xfmr-4_recurrence_num_layers=1_/version_0/checkpoints/epoch=114-fscore_val=0.94.ckpt\n",
      "found checkpoint: /home/hugo/lab/instrument-recognition/test-tubes/transformer-search/seed=433_rnn=xfmr-4_recurrence_num_layers=1_/version_0/checkpoints/epoch=114-fscore_val=0.94.ckpt\n",
      "/home/hugo/lab/instrument-recognition/test-tubes/transformer-search/seed=433_rnn=xfmr-4_recurrence_num_layers=1_/version_0\n",
      "/home/hugo/lab/instrument-recognition/test-tubes/transformer-search/seed=433_rnn=xfmr-4_recurrence_num_layers=1_/version_0/checkpoints/epoch=114-fscore_val=0.94.ckpt\n"
     ]
    },
    {
     "name": "stderr",
     "output_type": "stream",
     "text": [
      " 54%|█████▍    | 2818/5208 [00:00<00:00, 28177.21it/s]"
     ]
    },
    {
     "name": "stdout",
     "output_type": "stream",
     "text": [
      "loading metadata from /home/hugo/lab/instrument-recognition/data/mdb-solos-train-soundscapes/train...\n"
     ]
    },
    {
     "name": "stderr",
     "output_type": "stream",
     "text": [
      "100%|██████████| 5208/5208 [00:00<00:00, 26833.13it/s]\n",
      "  0%|          | 0/12236 [00:00<?, ?it/s]"
     ]
    },
    {
     "name": "stdout",
     "output_type": "stream",
     "text": [
      "found 5208 entries\n",
      "{'trumpet': 1965, 'clarinet': 1966, 'tenor saxophone': 1914, 'piano': 1941, 'violin': 1948, 'female singer': 2011, 'flute': 1932, 'distorted electric guitar': 1945}\n",
      "loading metadata from /home/hugo/lab/instrument-recognition/data/mdb-solos-train-soundscapes/test...\n"
     ]
    },
    {
     "name": "stderr",
     "output_type": "stream",
     "text": [
      "100%|██████████| 12236/12236 [00:00<00:00, 31905.07it/s]\n",
      "100%|██████████| 3494/3494 [00:00<00:00, 25797.02it/s]\n"
     ]
    },
    {
     "name": "stdout",
     "output_type": "stream",
     "text": [
      "found 12236 entries\n",
      "{'clarinet': 732, 'piano': 2609, 'violin': 2900, 'tenor saxophone': 325, 'flute': 3167, 'distorted electric guitar': 955, 'female singer': 1142, 'trumpet': 406}\n",
      "loading metadata from /home/hugo/lab/instrument-recognition/data/mdb-solos-train-soundscapes/validation...\n",
      "found 3494 entries\n",
      "{'clarinet': 328, 'piano': 1022, 'flute': 233, 'female singer': 284, 'tenor saxophone': 29, 'violin': 1031, 'distorted electric guitar': 495, 'trumpet': 72}\n",
      "train entries: 5208\n",
      "val entries: 3494\n"
     ]
    },
    {
     "name": "stderr",
     "output_type": "stream",
     "text": [
      "/home/hugo/lab/venv/lib/python3.8/site-packages/pytorch_lightning/utilities/distributed.py:45: UserWarning: Checkpoint directory /home/hugo/lab/instrument-recognition/test-tubes/transformer-search/seed=433_rnn=xfmr-4_recurrence_num_layers=1_/version_0/checkpoints exists and is not empty. With save_top_k=3, all files in this directory will be deleted when a checkpoint is saved!\n",
      "  warnings.warn(*args, **kwargs)\n",
      "GPU available: True, used: False\n",
      "TPU available: False, using: 0 TPU cores\n"
     ]
    },
    {
     "name": "stdout",
     "output_type": "stream",
     "text": [
      "found checkpoint: /home/hugo/lab/instrument-recognition/test-tubes/transformer-search/seed=433_rnn=xfmr-4_recurrence_num_layers=1_/version_0/checkpoints/epoch=114-fscore_val=0.94.ckpt\n"
     ]
    },
    {
     "data": {
      "application/vnd.jupyter.widget-view+json": {
       "model_id": "538f557c32d2408c931a8e2f2a845b37",
       "version_major": 2,
       "version_minor": 0
      },
      "text/plain": [
       "HBox(children=(HTML(value='Testing'), FloatProgress(value=1.0, bar_style='info', layout=Layout(flex='2'), max=…"
      ]
     },
     "metadata": {},
     "output_type": "display_data"
    },
    {
     "name": "stdout",
     "output_type": "stream",
     "text": [
      "--------------------------------------------------------------------------------\n",
      "DATALOADER:0 TEST RESULTS\n",
      "{'ECE/test': 0.129177498591093,\n",
      " 'accuracy/test': 0.847254004576659,\n",
      " 'fscore/test': 0.8383056761206449,\n",
      " 'fscore_test': 0.8383056761206449,\n",
      " 'loss/test': tensor(1.2376),\n",
      " 'loss_test': tensor(1.2376),\n",
      " 'precision/test': 0.8623649362311208,\n",
      " 'recall/test': 0.847254004576659}\n",
      "--------------------------------------------------------------------------------\n",
      "\n",
      "found checkpoint: /home/hugo/lab/instrument-recognition/test-tubes/transformer-search/seed=433_rnn=xfmr-2_recurrence_num_layers=8_/version_0/checkpoints/epoch=19-fscore_val=0.92.ckpt\n",
      "found checkpoint: /home/hugo/lab/instrument-recognition/test-tubes/transformer-search/seed=433_rnn=xfmr-2_recurrence_num_layers=8_/version_0/checkpoints/epoch=19-fscore_val=0.92.ckpt\n",
      "/home/hugo/lab/instrument-recognition/test-tubes/transformer-search/seed=433_rnn=xfmr-2_recurrence_num_layers=8_/version_0\n",
      "/home/hugo/lab/instrument-recognition/test-tubes/transformer-search/seed=433_rnn=xfmr-2_recurrence_num_layers=8_/version_0/checkpoints/epoch=19-fscore_val=0.92.ckpt\n"
     ]
    },
    {
     "name": "stderr",
     "output_type": "stream",
     "text": [
      " 66%|██████▌   | 3436/5208 [00:00<00:00, 34356.67it/s]"
     ]
    },
    {
     "name": "stdout",
     "output_type": "stream",
     "text": [
      "loading metadata from /home/hugo/lab/instrument-recognition/data/mdb-solos-train-soundscapes/train...\n"
     ]
    },
    {
     "name": "stderr",
     "output_type": "stream",
     "text": [
      "100%|██████████| 5208/5208 [00:00<00:00, 30837.38it/s]\n",
      " 29%|██▉       | 3579/12236 [00:00<00:00, 35784.49it/s]"
     ]
    },
    {
     "name": "stdout",
     "output_type": "stream",
     "text": [
      "found 5208 entries\n",
      "{'trumpet': 1965, 'clarinet': 1966, 'tenor saxophone': 1914, 'piano': 1941, 'violin': 1948, 'female singer': 2011, 'flute': 1932, 'distorted electric guitar': 1945}\n",
      "loading metadata from /home/hugo/lab/instrument-recognition/data/mdb-solos-train-soundscapes/test...\n"
     ]
    },
    {
     "name": "stderr",
     "output_type": "stream",
     "text": [
      "100%|██████████| 12236/12236 [00:00<00:00, 33793.12it/s]\n",
      "100%|██████████| 3494/3494 [00:00<00:00, 33639.93it/s]\n",
      "/home/hugo/lab/venv/lib/python3.8/site-packages/pytorch_lightning/utilities/distributed.py:45: UserWarning: Checkpoint directory /home/hugo/lab/instrument-recognition/test-tubes/transformer-search/seed=433_rnn=xfmr-2_recurrence_num_layers=8_/version_0/checkpoints exists and is not empty. With save_top_k=3, all files in this directory will be deleted when a checkpoint is saved!\n",
      "  warnings.warn(*args, **kwargs)\n",
      "GPU available: True, used: False\n",
      "TPU available: False, using: 0 TPU cores\n"
     ]
    },
    {
     "name": "stdout",
     "output_type": "stream",
     "text": [
      "found 12236 entries\n",
      "{'clarinet': 732, 'piano': 2609, 'violin': 2900, 'tenor saxophone': 325, 'flute': 3167, 'distorted electric guitar': 955, 'female singer': 1142, 'trumpet': 406}\n",
      "loading metadata from /home/hugo/lab/instrument-recognition/data/mdb-solos-train-soundscapes/validation...\n",
      "found 3494 entries\n",
      "{'clarinet': 328, 'piano': 1022, 'flute': 233, 'female singer': 284, 'tenor saxophone': 29, 'violin': 1031, 'distorted electric guitar': 495, 'trumpet': 72}\n",
      "train entries: 5208\n",
      "val entries: 3494\n",
      "found checkpoint: /home/hugo/lab/instrument-recognition/test-tubes/transformer-search/seed=433_rnn=xfmr-2_recurrence_num_layers=8_/version_0/checkpoints/epoch=19-fscore_val=0.92.ckpt\n"
     ]
    },
    {
     "data": {
      "application/vnd.jupyter.widget-view+json": {
       "model_id": "157e86c737e242d1839ee106e768a601",
       "version_major": 2,
       "version_minor": 0
      },
      "text/plain": [
       "HBox(children=(HTML(value='Testing'), FloatProgress(value=1.0, bar_style='info', layout=Layout(flex='2'), max=…"
      ]
     },
     "metadata": {},
     "output_type": "display_data"
    },
    {
     "name": "stdout",
     "output_type": "stream",
     "text": [
      "--------------------------------------------------------------------------------\n",
      "DATALOADER:0 TEST RESULTS\n",
      "{'ECE/test': 0.12942975601434092,\n",
      " 'accuracy/test': 0.8509589190367223,\n",
      " 'fscore/test': 0.8404095427297743,\n",
      " 'fscore_test': 0.8404095427297743,\n",
      " 'loss/test': tensor(0.9666),\n",
      " 'loss_test': tensor(0.9666),\n",
      " 'precision/test': 0.8699041785788927,\n",
      " 'recall/test': 0.8509589190367223}\n",
      "--------------------------------------------------------------------------------\n",
      "\n",
      "found checkpoint: /home/hugo/lab/instrument-recognition/test-tubes/transformer-search/seed=23_rnn=xfmr-32_recurrence_num_layers=6_/version_0/checkpoints/epoch=21-fscore_val=0.92.ckpt\n",
      "found checkpoint: /home/hugo/lab/instrument-recognition/test-tubes/transformer-search/seed=23_rnn=xfmr-32_recurrence_num_layers=6_/version_0/checkpoints/epoch=21-fscore_val=0.92.ckpt\n",
      "/home/hugo/lab/instrument-recognition/test-tubes/transformer-search/seed=23_rnn=xfmr-32_recurrence_num_layers=6_/version_0\n",
      "/home/hugo/lab/instrument-recognition/test-tubes/transformer-search/seed=23_rnn=xfmr-32_recurrence_num_layers=6_/version_0/checkpoints/epoch=21-fscore_val=0.92.ckpt\n"
     ]
    },
    {
     "name": "stderr",
     "output_type": "stream",
     "text": [
      " 55%|█████▍    | 2854/5208 [00:00<00:00, 28533.50it/s]"
     ]
    },
    {
     "name": "stdout",
     "output_type": "stream",
     "text": [
      "loading metadata from /home/hugo/lab/instrument-recognition/data/mdb-solos-train-soundscapes/train...\n"
     ]
    },
    {
     "name": "stderr",
     "output_type": "stream",
     "text": [
      "100%|██████████| 5208/5208 [00:00<00:00, 28266.44it/s]\n",
      " 23%|██▎       | 2813/12236 [00:00<00:00, 28126.47it/s]"
     ]
    },
    {
     "name": "stdout",
     "output_type": "stream",
     "text": [
      "found 5208 entries\n",
      "{'trumpet': 1965, 'clarinet': 1966, 'tenor saxophone': 1914, 'piano': 1941, 'violin': 1948, 'female singer': 2011, 'flute': 1932, 'distorted electric guitar': 1945}\n",
      "loading metadata from /home/hugo/lab/instrument-recognition/data/mdb-solos-train-soundscapes/test...\n"
     ]
    },
    {
     "name": "stderr",
     "output_type": "stream",
     "text": [
      "100%|██████████| 12236/12236 [00:00<00:00, 29591.17it/s]\n",
      "100%|██████████| 3494/3494 [00:00<00:00, 34917.64it/s]\n",
      "/home/hugo/lab/venv/lib/python3.8/site-packages/pytorch_lightning/utilities/distributed.py:45: UserWarning: Checkpoint directory /home/hugo/lab/instrument-recognition/test-tubes/transformer-search/seed=23_rnn=xfmr-32_recurrence_num_layers=6_/version_0/checkpoints exists and is not empty. With save_top_k=3, all files in this directory will be deleted when a checkpoint is saved!\n",
      "  warnings.warn(*args, **kwargs)\n",
      "GPU available: True, used: False\n",
      "TPU available: False, using: 0 TPU cores\n"
     ]
    },
    {
     "name": "stdout",
     "output_type": "stream",
     "text": [
      "found 12236 entries\n",
      "{'clarinet': 732, 'piano': 2609, 'violin': 2900, 'tenor saxophone': 325, 'flute': 3167, 'distorted electric guitar': 955, 'female singer': 1142, 'trumpet': 406}\n",
      "loading metadata from /home/hugo/lab/instrument-recognition/data/mdb-solos-train-soundscapes/validation...\n",
      "found 3494 entries\n",
      "{'clarinet': 328, 'piano': 1022, 'flute': 233, 'female singer': 284, 'tenor saxophone': 29, 'violin': 1031, 'distorted electric guitar': 495, 'trumpet': 72}\n",
      "train entries: 5208\n",
      "val entries: 3494\n",
      "found checkpoint: /home/hugo/lab/instrument-recognition/test-tubes/transformer-search/seed=23_rnn=xfmr-32_recurrence_num_layers=6_/version_0/checkpoints/epoch=21-fscore_val=0.92.ckpt\n"
     ]
    },
    {
     "data": {
      "application/vnd.jupyter.widget-view+json": {
       "model_id": "48f680ab813b42029daed3d7c50d3843",
       "version_major": 2,
       "version_minor": 0
      },
      "text/plain": [
       "HBox(children=(HTML(value='Testing'), FloatProgress(value=1.0, bar_style='info', layout=Layout(flex='2'), max=…"
      ]
     },
     "metadata": {},
     "output_type": "display_data"
    },
    {
     "name": "stdout",
     "output_type": "stream",
     "text": [
      "--------------------------------------------------------------------------------\n",
      "DATALOADER:0 TEST RESULTS\n",
      "{'ECE/test': 0.13464335408485953,\n",
      " 'accuracy/test': 0.8258690203770296,\n",
      " 'fscore/test': 0.8176515880280545,\n",
      " 'fscore_test': 0.8176515880280545,\n",
      " 'loss/test': tensor(0.9919),\n",
      " 'loss_test': tensor(0.9919),\n",
      " 'precision/test': 0.8543064761111724,\n",
      " 'recall/test': 0.8258690203770296}\n",
      "--------------------------------------------------------------------------------\n",
      "\n",
      "found checkpoint: /home/hugo/lab/instrument-recognition/test-tubes/transformer-search/seed=440_rnn=xfmr-64_recurrence_num_layers=4_/version_0/checkpoints/epoch=12-fscore_val=0.93.ckpt\n",
      "found checkpoint: /home/hugo/lab/instrument-recognition/test-tubes/transformer-search/seed=440_rnn=xfmr-64_recurrence_num_layers=4_/version_0/checkpoints/epoch=12-fscore_val=0.93.ckpt\n",
      "/home/hugo/lab/instrument-recognition/test-tubes/transformer-search/seed=440_rnn=xfmr-64_recurrence_num_layers=4_/version_0\n",
      "/home/hugo/lab/instrument-recognition/test-tubes/transformer-search/seed=440_rnn=xfmr-64_recurrence_num_layers=4_/version_0/checkpoints/epoch=12-fscore_val=0.93.ckpt\n"
     ]
    },
    {
     "name": "stderr",
     "output_type": "stream",
     "text": [
      " 41%|████      | 2136/5208 [00:00<00:00, 21358.14it/s]"
     ]
    },
    {
     "name": "stdout",
     "output_type": "stream",
     "text": [
      "loading metadata from /home/hugo/lab/instrument-recognition/data/mdb-solos-train-soundscapes/train...\n"
     ]
    },
    {
     "name": "stderr",
     "output_type": "stream",
     "text": [
      "100%|██████████| 5208/5208 [00:00<00:00, 21525.47it/s]\n",
      "  0%|          | 0/12236 [00:00<?, ?it/s]"
     ]
    },
    {
     "name": "stdout",
     "output_type": "stream",
     "text": [
      "found 5208 entries\n",
      "{'trumpet': 1965, 'clarinet': 1966, 'tenor saxophone': 1914, 'piano': 1941, 'violin': 1948, 'female singer': 2011, 'flute': 1932, 'distorted electric guitar': 1945}\n",
      "loading metadata from /home/hugo/lab/instrument-recognition/data/mdb-solos-train-soundscapes/test...\n"
     ]
    },
    {
     "name": "stderr",
     "output_type": "stream",
     "text": [
      "100%|██████████| 12236/12236 [00:00<00:00, 27191.94it/s]\n",
      "100%|██████████| 3494/3494 [00:00<00:00, 25492.99it/s]"
     ]
    },
    {
     "name": "stdout",
     "output_type": "stream",
     "text": [
      "found 12236 entries\n",
      "{'clarinet': 732, 'piano': 2609, 'violin': 2900, 'tenor saxophone': 325, 'flute': 3167, 'distorted electric guitar': 955, 'female singer': 1142, 'trumpet': 406}\n",
      "loading metadata from /home/hugo/lab/instrument-recognition/data/mdb-solos-train-soundscapes/validation...\n",
      "found 3494 entries\n",
      "{'clarinet': 328, 'piano': 1022, 'flute': 233, 'female singer': 284, 'tenor saxophone': 29, 'violin': 1031, 'distorted electric guitar': 495, 'trumpet': 72}\n",
      "train entries:"
     ]
    },
    {
     "name": "stderr",
     "output_type": "stream",
     "text": [
      "\n",
      "/home/hugo/lab/venv/lib/python3.8/site-packages/pytorch_lightning/utilities/distributed.py:45: UserWarning: Checkpoint directory /home/hugo/lab/instrument-recognition/test-tubes/transformer-search/seed=440_rnn=xfmr-64_recurrence_num_layers=4_/version_0/checkpoints exists and is not empty. With save_top_k=3, all files in this directory will be deleted when a checkpoint is saved!\n",
      "  warnings.warn(*args, **kwargs)\n",
      "GPU available: True, used: False\n",
      "TPU available: False, using: 0 TPU cores\n"
     ]
    },
    {
     "name": "stdout",
     "output_type": "stream",
     "text": [
      " 5208\n",
      "val entries: 3494\n",
      "found checkpoint: /home/hugo/lab/instrument-recognition/test-tubes/transformer-search/seed=440_rnn=xfmr-64_recurrence_num_layers=4_/version_0/checkpoints/epoch=12-fscore_val=0.93.ckpt\n"
     ]
    },
    {
     "data": {
      "application/vnd.jupyter.widget-view+json": {
       "model_id": "086f0afa20d140ff9cf031fe233f34e5",
       "version_major": 2,
       "version_minor": 0
      },
      "text/plain": [
       "HBox(children=(HTML(value='Testing'), FloatProgress(value=1.0, bar_style='info', layout=Layout(flex='2'), max=…"
      ]
     },
     "metadata": {},
     "output_type": "display_data"
    },
    {
     "name": "stdout",
     "output_type": "stream",
     "text": [
      "--------------------------------------------------------------------------------\n",
      "DATALOADER:0 TEST RESULTS\n",
      "{'ECE/test': 0.13020248443920965,\n",
      " 'accuracy/test': 0.8381551705350332,\n",
      " 'fscore/test': 0.8247906685446141,\n",
      " 'fscore_test': 0.8247906685446141,\n",
      " 'loss/test': tensor(1.0506),\n",
      " 'loss_test': tensor(1.0506),\n",
      " 'precision/test': 0.8522739825886465,\n",
      " 'recall/test': 0.8381551705350332}\n",
      "--------------------------------------------------------------------------------\n",
      "\n",
      "found checkpoint: /home/hugo/lab/instrument-recognition/test-tubes/transformer-search/seed=433_rnn=xfmr-16_recurrence_num_layers=1_/version_0/checkpoints/epoch=107-fscore_val=0.93.ckpt\n",
      "found checkpoint: /home/hugo/lab/instrument-recognition/test-tubes/transformer-search/seed=433_rnn=xfmr-16_recurrence_num_layers=1_/version_0/checkpoints/epoch=107-fscore_val=0.93.ckpt\n",
      "/home/hugo/lab/instrument-recognition/test-tubes/transformer-search/seed=433_rnn=xfmr-16_recurrence_num_layers=1_/version_0\n",
      "/home/hugo/lab/instrument-recognition/test-tubes/transformer-search/seed=433_rnn=xfmr-16_recurrence_num_layers=1_/version_0/checkpoints/epoch=107-fscore_val=0.93.ckpt\n"
     ]
    },
    {
     "name": "stderr",
     "output_type": "stream",
     "text": [
      " 48%|████▊     | 2484/5208 [00:00<00:00, 24833.69it/s]"
     ]
    },
    {
     "name": "stdout",
     "output_type": "stream",
     "text": [
      "loading metadata from /home/hugo/lab/instrument-recognition/data/mdb-solos-train-soundscapes/train...\n"
     ]
    },
    {
     "name": "stderr",
     "output_type": "stream",
     "text": [
      "100%|██████████| 5208/5208 [00:00<00:00, 23951.00it/s]\n",
      "  0%|          | 0/12236 [00:00<?, ?it/s]"
     ]
    },
    {
     "name": "stdout",
     "output_type": "stream",
     "text": [
      "found 5208 entries\n",
      "{'trumpet': 1965, 'clarinet': 1966, 'tenor saxophone': 1914, 'piano': 1941, 'violin': 1948, 'female singer': 2011, 'flute': 1932, 'distorted electric guitar': 1945}\n",
      "loading metadata from /home/hugo/lab/instrument-recognition/data/mdb-solos-train-soundscapes/test...\n"
     ]
    },
    {
     "name": "stderr",
     "output_type": "stream",
     "text": [
      "100%|██████████| 12236/12236 [00:00<00:00, 25581.73it/s]\n",
      "100%|██████████| 3494/3494 [00:00<00:00, 31863.60it/s]\n"
     ]
    },
    {
     "name": "stdout",
     "output_type": "stream",
     "text": [
      "found 12236 entries\n",
      "{'clarinet': 732, 'piano': 2609, 'violin': 2900, 'tenor saxophone': 325, 'flute': 3167, 'distorted electric guitar': 955, 'female singer': 1142, 'trumpet': 406}\n",
      "loading metadata from /home/hugo/lab/instrument-recognition/data/mdb-solos-train-soundscapes/validation...\n",
      "found 3494 entries\n",
      "{'clarinet': 328, 'piano': 1022, 'flute': 233, 'female singer': 284, 'tenor saxophone': 29, 'violin': 1031, 'distorted electric guitar': 495, 'trumpet': 72}\n",
      "train entries: 5208\n",
      "val entries: 3494\n"
     ]
    },
    {
     "name": "stderr",
     "output_type": "stream",
     "text": [
      "/home/hugo/lab/venv/lib/python3.8/site-packages/pytorch_lightning/utilities/distributed.py:45: UserWarning: Checkpoint directory /home/hugo/lab/instrument-recognition/test-tubes/transformer-search/seed=433_rnn=xfmr-16_recurrence_num_layers=1_/version_0/checkpoints exists and is not empty. With save_top_k=3, all files in this directory will be deleted when a checkpoint is saved!\n",
      "  warnings.warn(*args, **kwargs)\n",
      "GPU available: True, used: False\n",
      "TPU available: False, using: 0 TPU cores\n"
     ]
    },
    {
     "name": "stdout",
     "output_type": "stream",
     "text": [
      "found checkpoint: /home/hugo/lab/instrument-recognition/test-tubes/transformer-search/seed=433_rnn=xfmr-16_recurrence_num_layers=1_/version_0/checkpoints/epoch=107-fscore_val=0.93.ckpt\n"
     ]
    },
    {
     "data": {
      "application/vnd.jupyter.widget-view+json": {
       "model_id": "4cf79960f1f84bcf95b5680202f40a14",
       "version_major": 2,
       "version_minor": 0
      },
      "text/plain": [
       "HBox(children=(HTML(value='Testing'), FloatProgress(value=1.0, bar_style='info', layout=Layout(flex='2'), max=…"
      ]
     },
     "metadata": {},
     "output_type": "display_data"
    },
    {
     "name": "stdout",
     "output_type": "stream",
     "text": [
      "--------------------------------------------------------------------------------\n",
      "DATALOADER:0 TEST RESULTS\n",
      "{'ECE/test': 0.14565607802604458,\n",
      " 'accuracy/test': 0.8308543096872616,\n",
      " 'fscore/test': 0.8184594160378067,\n",
      " 'fscore_test': 0.8184594160378067,\n",
      " 'loss/test': tensor(1.4281),\n",
      " 'loss_test': tensor(1.4281),\n",
      " 'precision/test': 0.8534607036284797,\n",
      " 'recall/test': 0.8308543096872616}\n",
      "--------------------------------------------------------------------------------\n",
      "\n",
      "found checkpoint: /home/hugo/lab/instrument-recognition/test-tubes/transformer-search/seed=23_rnn=xfmr-16_recurrence_num_layers=4_/version_0/checkpoints/epoch=46-fscore_val=0.94.ckpt\n",
      "found checkpoint: /home/hugo/lab/instrument-recognition/test-tubes/transformer-search/seed=23_rnn=xfmr-16_recurrence_num_layers=4_/version_0/checkpoints/epoch=46-fscore_val=0.94.ckpt\n",
      "/home/hugo/lab/instrument-recognition/test-tubes/transformer-search/seed=23_rnn=xfmr-16_recurrence_num_layers=4_/version_0\n",
      "/home/hugo/lab/instrument-recognition/test-tubes/transformer-search/seed=23_rnn=xfmr-16_recurrence_num_layers=4_/version_0/checkpoints/epoch=46-fscore_val=0.94.ckpt\n"
     ]
    },
    {
     "name": "stderr",
     "output_type": "stream",
     "text": [
      " 45%|████▍     | 2336/5208 [00:00<00:00, 23353.84it/s]"
     ]
    },
    {
     "name": "stdout",
     "output_type": "stream",
     "text": [
      "loading metadata from /home/hugo/lab/instrument-recognition/data/mdb-solos-train-soundscapes/train...\n"
     ]
    },
    {
     "name": "stderr",
     "output_type": "stream",
     "text": [
      "100%|██████████| 5208/5208 [00:00<00:00, 23378.73it/s]\n",
      "  0%|          | 0/12236 [00:00<?, ?it/s]"
     ]
    },
    {
     "name": "stdout",
     "output_type": "stream",
     "text": [
      "found 5208 entries\n",
      "{'trumpet': 1965, 'clarinet': 1966, 'tenor saxophone': 1914, 'piano': 1941, 'violin': 1948, 'female singer': 2011, 'flute': 1932, 'distorted electric guitar': 1945}\n",
      "loading metadata from /home/hugo/lab/instrument-recognition/data/mdb-solos-train-soundscapes/test...\n"
     ]
    },
    {
     "name": "stderr",
     "output_type": "stream",
     "text": [
      "100%|██████████| 12236/12236 [00:00<00:00, 27218.83it/s]\n",
      " 81%|████████  | 2819/3494 [00:00<00:00, 28187.74it/s]"
     ]
    },
    {
     "name": "stdout",
     "output_type": "stream",
     "text": [
      "found 12236 entries\n",
      "{'clarinet': 732, 'piano': 2609, 'violin': 2900, 'tenor saxophone': 325, 'flute': 3167, 'distorted electric guitar': 955, 'female singer': 1142, 'trumpet': 406}\n",
      "loading metadata from /home/hugo/lab/instrument-recognition/data/mdb-solos-train-soundscapes/validation...\n"
     ]
    },
    {
     "name": "stderr",
     "output_type": "stream",
     "text": [
      "100%|██████████| 3494/3494 [00:00<00:00, 27737.42it/s]\n",
      "/home/hugo/lab/venv/lib/python3.8/site-packages/pytorch_lightning/utilities/distributed.py:45: UserWarning: Checkpoint directory /home/hugo/lab/instrument-recognition/test-tubes/transformer-search/seed=23_rnn=xfmr-16_recurrence_num_layers=4_/version_0/checkpoints exists and is not empty. With save_top_k=3, all files in this directory will be deleted when a checkpoint is saved!\n",
      "  warnings.warn(*args, **kwargs)\n",
      "GPU available: True, used: False\n",
      "TPU available: False, using: 0 TPU cores\n"
     ]
    },
    {
     "name": "stdout",
     "output_type": "stream",
     "text": [
      "found 3494 entries\n",
      "{'clarinet': 328, 'piano': 1022, 'flute': 233, 'female singer': 284, 'tenor saxophone': 29, 'violin': 1031, 'distorted electric guitar': 495, 'trumpet': 72}\n",
      "train entries: 5208\n",
      "val entries: 3494\n",
      "found checkpoint: /home/hugo/lab/instrument-recognition/test-tubes/transformer-search/seed=23_rnn=xfmr-16_recurrence_num_layers=4_/version_0/checkpoints/epoch=46-fscore_val=0.94.ckpt\n"
     ]
    },
    {
     "data": {
      "application/vnd.jupyter.widget-view+json": {
       "model_id": "23218e6c6de94ce987121c431b9e6f18",
       "version_major": 2,
       "version_minor": 0
      },
      "text/plain": [
       "HBox(children=(HTML(value='Testing'), FloatProgress(value=1.0, bar_style='info', layout=Layout(flex='2'), max=…"
      ]
     },
     "metadata": {},
     "output_type": "display_data"
    },
    {
     "name": "stdout",
     "output_type": "stream",
     "text": [
      "--------------------------------------------------------------------------------\n",
      "DATALOADER:0 TEST RESULTS\n",
      "{'ECE/test': 0.1370510525649911,\n",
      " 'accuracy/test': 0.8375286041189931,\n",
      " 'fscore/test': 0.8280815802358473,\n",
      " 'fscore_test': 0.8280815802358473,\n",
      " 'loss/test': tensor(1.2266),\n",
      " 'loss_test': tensor(1.2266),\n",
      " 'precision/test': 0.8606357041855542,\n",
      " 'recall/test': 0.8375286041189931}\n",
      "--------------------------------------------------------------------------------\n",
      "\n",
      "found checkpoint: /home/hugo/lab/instrument-recognition/test-tubes/transformer-search/seed=440_rnn=xfmr-8_recurrence_num_layers=8_/version_0/checkpoints/epoch=09-fscore_val=0.92.ckpt\n",
      "found checkpoint: /home/hugo/lab/instrument-recognition/test-tubes/transformer-search/seed=440_rnn=xfmr-8_recurrence_num_layers=8_/version_0/checkpoints/epoch=09-fscore_val=0.92.ckpt\n",
      "/home/hugo/lab/instrument-recognition/test-tubes/transformer-search/seed=440_rnn=xfmr-8_recurrence_num_layers=8_/version_0\n",
      "/home/hugo/lab/instrument-recognition/test-tubes/transformer-search/seed=440_rnn=xfmr-8_recurrence_num_layers=8_/version_0/checkpoints/epoch=09-fscore_val=0.92.ckpt\n"
     ]
    },
    {
     "name": "stderr",
     "output_type": "stream",
     "text": [
      " 38%|███▊      | 1977/5208 [00:00<00:00, 19769.74it/s]"
     ]
    },
    {
     "name": "stdout",
     "output_type": "stream",
     "text": [
      "loading metadata from /home/hugo/lab/instrument-recognition/data/mdb-solos-train-soundscapes/train...\n"
     ]
    },
    {
     "name": "stderr",
     "output_type": "stream",
     "text": [
      "100%|██████████| 5208/5208 [00:00<00:00, 19418.18it/s]\n",
      "  0%|          | 0/12236 [00:00<?, ?it/s]"
     ]
    },
    {
     "name": "stdout",
     "output_type": "stream",
     "text": [
      "found 5208 entries\n",
      "{'trumpet': 1965, 'clarinet': 1966, 'tenor saxophone': 1914, 'piano': 1941, 'violin': 1948, 'female singer': 2011, 'flute': 1932, 'distorted electric guitar': 1945}\n",
      "loading metadata from /home/hugo/lab/instrument-recognition/data/mdb-solos-train-soundscapes/test...\n"
     ]
    },
    {
     "name": "stderr",
     "output_type": "stream",
     "text": [
      "100%|██████████| 12236/12236 [00:00<00:00, 30584.87it/s]\n",
      "100%|██████████| 3494/3494 [00:00<00:00, 29785.41it/s]\n",
      "/home/hugo/lab/venv/lib/python3.8/site-packages/pytorch_lightning/utilities/distributed.py:45: UserWarning: Checkpoint directory /home/hugo/lab/instrument-recognition/test-tubes/transformer-search/seed=440_rnn=xfmr-8_recurrence_num_layers=8_/version_0/checkpoints exists and is not empty. With save_top_k=3, all files in this directory will be deleted when a checkpoint is saved!\n",
      "  warnings.warn(*args, **kwargs)\n",
      "GPU available: True, used: False\n",
      "TPU available: False, using: 0 TPU cores\n"
     ]
    },
    {
     "name": "stdout",
     "output_type": "stream",
     "text": [
      "found 12236 entries\n",
      "{'clarinet': 732, 'piano': 2609, 'violin': 2900, 'tenor saxophone': 325, 'flute': 3167, 'distorted electric guitar': 955, 'female singer': 1142, 'trumpet': 406}\n",
      "loading metadata from /home/hugo/lab/instrument-recognition/data/mdb-solos-train-soundscapes/validation...\n",
      "found 3494 entries\n",
      "{'clarinet': 328, 'piano': 1022, 'flute': 233, 'female singer': 284, 'tenor saxophone': 29, 'violin': 1031, 'distorted electric guitar': 495, 'trumpet': 72}\n",
      "train entries: 5208\n",
      "val entries: 3494\n",
      "found checkpoint: /home/hugo/lab/instrument-recognition/test-tubes/transformer-search/seed=440_rnn=xfmr-8_recurrence_num_layers=8_/version_0/checkpoints/epoch=09-fscore_val=0.92.ckpt\n"
     ]
    },
    {
     "data": {
      "application/vnd.jupyter.widget-view+json": {
       "model_id": "4862aebf13734f1ca69c2dd46947e6a9",
       "version_major": 2,
       "version_minor": 0
      },
      "text/plain": [
       "HBox(children=(HTML(value='Testing'), FloatProgress(value=1.0, bar_style='info', layout=Layout(flex='2'), max=…"
      ]
     },
     "metadata": {},
     "output_type": "display_data"
    },
    {
     "name": "stdout",
     "output_type": "stream",
     "text": [
      "--------------------------------------------------------------------------------\n",
      "DATALOADER:0 TEST RESULTS\n",
      "{'ECE/test': 0.14124255083843135,\n",
      " 'accuracy/test': 0.8305818895063747,\n",
      " 'fscore/test': 0.8188112289538112,\n",
      " 'fscore_test': 0.8188112289538112,\n",
      " 'loss/test': tensor(1.0221),\n",
      " 'loss_test': tensor(1.0221),\n",
      " 'precision/test': 0.8503507778554674,\n",
      " 'recall/test': 0.8305818895063747}\n",
      "--------------------------------------------------------------------------------\n",
      "\n",
      "found checkpoint: /home/hugo/lab/instrument-recognition/test-tubes/transformer-search/seed=12_rnn=xfmr-4_recurrence_num_layers=1_/version_0/checkpoints/epoch=04-fscore_val=0.93.ckpt\n",
      "found checkpoint: /home/hugo/lab/instrument-recognition/test-tubes/transformer-search/seed=12_rnn=xfmr-4_recurrence_num_layers=1_/version_0/checkpoints/epoch=04-fscore_val=0.93.ckpt\n",
      "/home/hugo/lab/instrument-recognition/test-tubes/transformer-search/seed=12_rnn=xfmr-4_recurrence_num_layers=1_/version_0\n",
      "/home/hugo/lab/instrument-recognition/test-tubes/transformer-search/seed=12_rnn=xfmr-4_recurrence_num_layers=1_/version_0/checkpoints/epoch=04-fscore_val=0.93.ckpt\n"
     ]
    },
    {
     "name": "stderr",
     "output_type": "stream",
     "text": [
      " 39%|███▉      | 2052/5208 [00:00<00:00, 20516.74it/s]"
     ]
    },
    {
     "name": "stdout",
     "output_type": "stream",
     "text": [
      "loading metadata from /home/hugo/lab/instrument-recognition/data/mdb-solos-train-soundscapes/train...\n"
     ]
    },
    {
     "name": "stderr",
     "output_type": "stream",
     "text": [
      "100%|██████████| 5208/5208 [00:00<00:00, 21208.36it/s]\n",
      "  0%|          | 0/12236 [00:00<?, ?it/s]"
     ]
    },
    {
     "name": "stdout",
     "output_type": "stream",
     "text": [
      "found 5208 entries\n",
      "{'trumpet': 1965, 'clarinet': 1966, 'tenor saxophone': 1914, 'piano': 1941, 'violin': 1948, 'female singer': 2011, 'flute': 1932, 'distorted electric guitar': 1945}\n",
      "loading metadata from /home/hugo/lab/instrument-recognition/data/mdb-solos-train-soundscapes/test...\n"
     ]
    },
    {
     "name": "stderr",
     "output_type": "stream",
     "text": [
      "100%|██████████| 12236/12236 [00:00<00:00, 26708.51it/s]\n",
      "100%|██████████| 3494/3494 [00:00<00:00, 26371.06it/s]"
     ]
    },
    {
     "name": "stdout",
     "output_type": "stream",
     "text": [
      "found 12236 entries\n",
      "{'clarinet': 732, 'piano': 2609, 'violin': 2900, 'tenor saxophone': 325, 'flute': 3167, 'distorted electric guitar': 955, 'female singer': 1142, 'trumpet': 406}\n",
      "loading metadata from /home/hugo/lab/instrument-recognition/data/mdb-solos-train-soundscapes/validation...\n",
      "found 3494 entries\n",
      "{'clarinet': 328, 'piano': 1022, 'flute': 233, 'female singer': 284, 'tenor saxophone': 29, 'violin': 1031, 'distorted electric guitar': 495, 'trumpet': 72}\n",
      "train entries: 5208\n",
      "val entries: 3494\n"
     ]
    },
    {
     "name": "stderr",
     "output_type": "stream",
     "text": [
      "\n",
      "/home/hugo/lab/venv/lib/python3.8/site-packages/pytorch_lightning/utilities/distributed.py:45: UserWarning: Checkpoint directory /home/hugo/lab/instrument-recognition/test-tubes/transformer-search/seed=12_rnn=xfmr-4_recurrence_num_layers=1_/version_0/checkpoints exists and is not empty. With save_top_k=3, all files in this directory will be deleted when a checkpoint is saved!\n",
      "  warnings.warn(*args, **kwargs)\n",
      "GPU available: True, used: False\n",
      "TPU available: False, using: 0 TPU cores\n"
     ]
    },
    {
     "name": "stdout",
     "output_type": "stream",
     "text": [
      "found checkpoint: /home/hugo/lab/instrument-recognition/test-tubes/transformer-search/seed=12_rnn=xfmr-4_recurrence_num_layers=1_/version_0/checkpoints/epoch=04-fscore_val=0.93.ckpt\n"
     ]
    },
    {
     "data": {
      "application/vnd.jupyter.widget-view+json": {
       "model_id": "fb5bb7fb402c4b2dab8af0a1074a7b0d",
       "version_major": 2,
       "version_minor": 0
      },
      "text/plain": [
       "HBox(children=(HTML(value='Testing'), FloatProgress(value=1.0, bar_style='info', layout=Layout(flex='2'), max=…"
      ]
     },
     "metadata": {},
     "output_type": "display_data"
    },
    {
     "name": "stdout",
     "output_type": "stream",
     "text": [
      "--------------------------------------------------------------------------------\n",
      "DATALOADER:0 TEST RESULTS\n",
      "{'ECE/test': 0.11639871502430513,\n",
      " 'accuracy/test': 0.8401983218916858,\n",
      " 'fscore/test': 0.8284846414832032,\n",
      " 'fscore_test': 0.8284846414832032,\n",
      " 'loss/test': tensor(0.9313),\n",
      " 'loss_test': tensor(0.9313),\n",
      " 'precision/test': 0.8594695815734201,\n",
      " 'recall/test': 0.8401983218916858}\n",
      "--------------------------------------------------------------------------------\n",
      "\n",
      "found checkpoint: /home/hugo/lab/instrument-recognition/test-tubes/transformer-search/seed=440_rnn=xfmr-1_recurrence_num_layers=2_/version_0/checkpoints/epoch=113-fscore_val=0.94.ckpt\n",
      "found checkpoint: /home/hugo/lab/instrument-recognition/test-tubes/transformer-search/seed=440_rnn=xfmr-1_recurrence_num_layers=2_/version_0/checkpoints/epoch=113-fscore_val=0.94.ckpt\n",
      "/home/hugo/lab/instrument-recognition/test-tubes/transformer-search/seed=440_rnn=xfmr-1_recurrence_num_layers=2_/version_0\n",
      "/home/hugo/lab/instrument-recognition/test-tubes/transformer-search/seed=440_rnn=xfmr-1_recurrence_num_layers=2_/version_0/checkpoints/epoch=113-fscore_val=0.94.ckpt\n"
     ]
    },
    {
     "name": "stderr",
     "output_type": "stream",
     "text": [
      " 43%|████▎     | 2254/5208 [00:00<00:00, 22532.29it/s]"
     ]
    },
    {
     "name": "stdout",
     "output_type": "stream",
     "text": [
      "loading metadata from /home/hugo/lab/instrument-recognition/data/mdb-solos-train-soundscapes/train...\n"
     ]
    },
    {
     "name": "stderr",
     "output_type": "stream",
     "text": [
      "100%|██████████| 5208/5208 [00:00<00:00, 22010.56it/s]\n",
      "  0%|          | 0/12236 [00:00<?, ?it/s]"
     ]
    },
    {
     "name": "stdout",
     "output_type": "stream",
     "text": [
      "found 5208 entries\n",
      "{'trumpet': 1965, 'clarinet': 1966, 'tenor saxophone': 1914, 'piano': 1941, 'violin': 1948, 'female singer': 2011, 'flute': 1932, 'distorted electric guitar': 1945}\n",
      "loading metadata from /home/hugo/lab/instrument-recognition/data/mdb-solos-train-soundscapes/test...\n"
     ]
    },
    {
     "name": "stderr",
     "output_type": "stream",
     "text": [
      "100%|██████████| 12236/12236 [00:00<00:00, 27651.21it/s]\n",
      "100%|██████████| 3494/3494 [00:00<00:00, 35449.77it/s]\n",
      "/home/hugo/lab/venv/lib/python3.8/site-packages/pytorch_lightning/utilities/distributed.py:45: UserWarning: Checkpoint directory /home/hugo/lab/instrument-recognition/test-tubes/transformer-search/seed=440_rnn=xfmr-1_recurrence_num_layers=2_/version_0/checkpoints exists and is not empty. With save_top_k=3, all files in this directory will be deleted when a checkpoint is saved!\n",
      "  warnings.warn(*args, **kwargs)\n",
      "GPU available: True, used: False\n",
      "TPU available: False, using: 0 TPU cores\n"
     ]
    },
    {
     "name": "stdout",
     "output_type": "stream",
     "text": [
      "found 12236 entries\n",
      "{'clarinet': 732, 'piano': 2609, 'violin': 2900, 'tenor saxophone': 325, 'flute': 3167, 'distorted electric guitar': 955, 'female singer': 1142, 'trumpet': 406}\n",
      "loading metadata from /home/hugo/lab/instrument-recognition/data/mdb-solos-train-soundscapes/validation...\n",
      "found 3494 entries\n",
      "{'clarinet': 328, 'piano': 1022, 'flute': 233, 'female singer': 284, 'tenor saxophone': 29, 'violin': 1031, 'distorted electric guitar': 495, 'trumpet': 72}\n",
      "train entries: 5208\n",
      "val entries: 3494\n",
      "found checkpoint: /home/hugo/lab/instrument-recognition/test-tubes/transformer-search/seed=440_rnn=xfmr-1_recurrence_num_layers=2_/version_0/checkpoints/epoch=113-fscore_val=0.94.ckpt\n"
     ]
    },
    {
     "data": {
      "application/vnd.jupyter.widget-view+json": {
       "model_id": "3786d0d6d9484953ac88e8b1d6d22672",
       "version_major": 2,
       "version_minor": 0
      },
      "text/plain": [
       "HBox(children=(HTML(value='Testing'), FloatProgress(value=1.0, bar_style='info', layout=Layout(flex='2'), max=…"
      ]
     },
     "metadata": {},
     "output_type": "display_data"
    },
    {
     "name": "stdout",
     "output_type": "stream",
     "text": [
      "--------------------------------------------------------------------------------\n",
      "DATALOADER:0 TEST RESULTS\n",
      "{'ECE/test': 0.13403726554250123,\n",
      " 'accuracy/test': 0.8432221858995315,\n",
      " 'fscore/test': 0.8321620839919514,\n",
      " 'fscore_test': 0.8321620839919514,\n",
      " 'loss/test': tensor(1.3296),\n",
      " 'loss_test': tensor(1.3296),\n",
      " 'precision/test': 0.8639064221924122,\n",
      " 'recall/test': 0.8432221858995315}\n",
      "--------------------------------------------------------------------------------\n",
      "\n",
      "found checkpoint: /home/hugo/lab/instrument-recognition/test-tubes/transformer-search/seed=23_rnn=xfmr-32_recurrence_num_layers=4_/version_0/checkpoints/epoch=04-fscore_val=0.93.ckpt\n",
      "found checkpoint: /home/hugo/lab/instrument-recognition/test-tubes/transformer-search/seed=23_rnn=xfmr-32_recurrence_num_layers=4_/version_0/checkpoints/epoch=04-fscore_val=0.93.ckpt\n",
      "/home/hugo/lab/instrument-recognition/test-tubes/transformer-search/seed=23_rnn=xfmr-32_recurrence_num_layers=4_/version_0\n",
      "/home/hugo/lab/instrument-recognition/test-tubes/transformer-search/seed=23_rnn=xfmr-32_recurrence_num_layers=4_/version_0/checkpoints/epoch=04-fscore_val=0.93.ckpt\n"
     ]
    },
    {
     "name": "stderr",
     "output_type": "stream",
     "text": [
      " 42%|████▏     | 2171/5208 [00:00<00:00, 21702.62it/s]"
     ]
    },
    {
     "name": "stdout",
     "output_type": "stream",
     "text": [
      "loading metadata from /home/hugo/lab/instrument-recognition/data/mdb-solos-train-soundscapes/train...\n"
     ]
    },
    {
     "name": "stderr",
     "output_type": "stream",
     "text": [
      "100%|██████████| 5208/5208 [00:00<00:00, 21900.13it/s]\n",
      "  0%|          | 0/12236 [00:00<?, ?it/s]"
     ]
    },
    {
     "name": "stdout",
     "output_type": "stream",
     "text": [
      "found 5208 entries\n",
      "{'trumpet': 1965, 'clarinet': 1966, 'tenor saxophone': 1914, 'piano': 1941, 'violin': 1948, 'female singer': 2011, 'flute': 1932, 'distorted electric guitar': 1945}\n",
      "loading metadata from /home/hugo/lab/instrument-recognition/data/mdb-solos-train-soundscapes/test...\n"
     ]
    },
    {
     "name": "stderr",
     "output_type": "stream",
     "text": [
      "100%|██████████| 12236/12236 [00:00<00:00, 30581.33it/s]\n",
      "100%|██████████| 3494/3494 [00:00<00:00, 31017.23it/s]\n",
      "/home/hugo/lab/venv/lib/python3.8/site-packages/pytorch_lightning/utilities/distributed.py:45: UserWarning: Checkpoint directory /home/hugo/lab/instrument-recognition/test-tubes/transformer-search/seed=23_rnn=xfmr-32_recurrence_num_layers=4_/version_0/checkpoints exists and is not empty. With save_top_k=3, all files in this directory will be deleted when a checkpoint is saved!\n",
      "  warnings.warn(*args, **kwargs)\n",
      "GPU available: True, used: False\n",
      "TPU available: False, using: 0 TPU cores\n"
     ]
    },
    {
     "name": "stdout",
     "output_type": "stream",
     "text": [
      "found 12236 entries\n",
      "{'clarinet': 732, 'piano': 2609, 'violin': 2900, 'tenor saxophone': 325, 'flute': 3167, 'distorted electric guitar': 955, 'female singer': 1142, 'trumpet': 406}\n",
      "loading metadata from /home/hugo/lab/instrument-recognition/data/mdb-solos-train-soundscapes/validation...\n",
      "found 3494 entries\n",
      "{'clarinet': 328, 'piano': 1022, 'flute': 233, 'female singer': 284, 'tenor saxophone': 29, 'violin': 1031, 'distorted electric guitar': 495, 'trumpet': 72}\n",
      "train entries: 5208\n",
      "val entries: 3494\n",
      "found checkpoint: /home/hugo/lab/instrument-recognition/test-tubes/transformer-search/seed=23_rnn=xfmr-32_recurrence_num_layers=4_/version_0/checkpoints/epoch=04-fscore_val=0.93.ckpt\n"
     ]
    },
    {
     "data": {
      "application/vnd.jupyter.widget-view+json": {
       "model_id": "3ce30b8c6cee40aa84c9edd5f6475e26",
       "version_major": 2,
       "version_minor": 0
      },
      "text/plain": [
       "HBox(children=(HTML(value='Testing'), FloatProgress(value=1.0, bar_style='info', layout=Layout(flex='2'), max=…"
      ]
     },
     "metadata": {},
     "output_type": "display_data"
    },
    {
     "name": "stdout",
     "output_type": "stream",
     "text": [
      "--------------------------------------------------------------------------------\n",
      "DATALOADER:0 TEST RESULTS\n",
      "{'ECE/test': 0.1191955147270701,\n",
      " 'accuracy/test': 0.8412335185790564,\n",
      " 'fscore/test': 0.8304846220753894,\n",
      " 'fscore_test': 0.8304846220753894,\n",
      " 'loss/test': tensor(0.8936),\n",
      " 'loss_test': tensor(0.8936),\n",
      " 'precision/test': 0.8606589722451926,\n",
      " 'recall/test': 0.8412335185790564}\n",
      "--------------------------------------------------------------------------------\n",
      "\n",
      "reading /home/hugo/lab/instrument-recognition/test-tubes/transformer-search/ray-results.csv/version_0 failed\n",
      "found checkpoint: /home/hugo/lab/instrument-recognition/test-tubes/transformer-search/seed=11_rnn=xfmr-64_recurrence_num_layers=2_/version_0/checkpoints/epoch=03-fscore_val=0.93.ckpt\n",
      "found checkpoint: /home/hugo/lab/instrument-recognition/test-tubes/transformer-search/seed=11_rnn=xfmr-64_recurrence_num_layers=2_/version_0/checkpoints/epoch=03-fscore_val=0.93.ckpt\n",
      "/home/hugo/lab/instrument-recognition/test-tubes/transformer-search/seed=11_rnn=xfmr-64_recurrence_num_layers=2_/version_0\n",
      "/home/hugo/lab/instrument-recognition/test-tubes/transformer-search/seed=11_rnn=xfmr-64_recurrence_num_layers=2_/version_0/checkpoints/epoch=03-fscore_val=0.93.ckpt\n"
     ]
    },
    {
     "name": "stderr",
     "output_type": "stream",
     "text": [
      " 39%|███▉      | 2033/5208 [00:00<00:00, 20326.00it/s]"
     ]
    },
    {
     "name": "stdout",
     "output_type": "stream",
     "text": [
      "loading metadata from /home/hugo/lab/instrument-recognition/data/mdb-solos-train-soundscapes/train...\n"
     ]
    },
    {
     "name": "stderr",
     "output_type": "stream",
     "text": [
      "100%|██████████| 5208/5208 [00:00<00:00, 19365.41it/s]\n",
      "  0%|          | 0/12236 [00:00<?, ?it/s]"
     ]
    },
    {
     "name": "stdout",
     "output_type": "stream",
     "text": [
      "found 5208 entries\n",
      "{'trumpet': 1965, 'clarinet': 1966, 'tenor saxophone': 1914, 'piano': 1941, 'violin': 1948, 'female singer': 2011, 'flute': 1932, 'distorted electric guitar': 1945}\n",
      "loading metadata from /home/hugo/lab/instrument-recognition/data/mdb-solos-train-soundscapes/test...\n"
     ]
    },
    {
     "name": "stderr",
     "output_type": "stream",
     "text": [
      "100%|██████████| 12236/12236 [00:00<00:00, 26668.52it/s]\n",
      "100%|██████████| 3494/3494 [00:00<00:00, 27437.05it/s]\n"
     ]
    },
    {
     "name": "stdout",
     "output_type": "stream",
     "text": [
      "found 12236 entries\n",
      "{'clarinet': 732, 'piano': 2609, 'violin': 2900, 'tenor saxophone': 325, 'flute': 3167, 'distorted electric guitar': 955, 'female singer': 1142, 'trumpet': 406}\n",
      "loading metadata from /home/hugo/lab/instrument-recognition/data/mdb-solos-train-soundscapes/validation...\n",
      "found 3494 entries\n",
      "{'clarinet': 328, 'piano': 1022, 'flute': 233, 'female singer': 284, 'tenor saxophone': 29, 'violin': 1031, 'distorted electric guitar': 495, 'trumpet': 72}\n",
      "train entries: 5208\n",
      "val entries: 3494\n"
     ]
    },
    {
     "name": "stderr",
     "output_type": "stream",
     "text": [
      "/home/hugo/lab/venv/lib/python3.8/site-packages/pytorch_lightning/utilities/distributed.py:45: UserWarning: Checkpoint directory /home/hugo/lab/instrument-recognition/test-tubes/transformer-search/seed=11_rnn=xfmr-64_recurrence_num_layers=2_/version_0/checkpoints exists and is not empty. With save_top_k=3, all files in this directory will be deleted when a checkpoint is saved!\n",
      "  warnings.warn(*args, **kwargs)\n",
      "GPU available: True, used: False\n",
      "TPU available: False, using: 0 TPU cores\n"
     ]
    },
    {
     "name": "stdout",
     "output_type": "stream",
     "text": [
      "found checkpoint: /home/hugo/lab/instrument-recognition/test-tubes/transformer-search/seed=11_rnn=xfmr-64_recurrence_num_layers=2_/version_0/checkpoints/epoch=03-fscore_val=0.93.ckpt\n"
     ]
    },
    {
     "data": {
      "application/vnd.jupyter.widget-view+json": {
       "model_id": "82b9f57fd2ba49509a951d9dd564e0c3",
       "version_major": 2,
       "version_minor": 0
      },
      "text/plain": [
       "HBox(children=(HTML(value='Testing'), FloatProgress(value=1.0, bar_style='info', layout=Layout(flex='2'), max=…"
      ]
     },
     "metadata": {},
     "output_type": "display_data"
    },
    {
     "name": "stdout",
     "output_type": "stream",
     "text": [
      "--------------------------------------------------------------------------------\n",
      "DATALOADER:0 TEST RESULTS\n",
      "{'ECE/test': 0.12170518802066271,\n",
      " 'accuracy/test': 0.8386182848425411,\n",
      " 'fscore/test': 0.8289098530889735,\n",
      " 'fscore_test': 0.8289098530889735,\n",
      " 'loss/test': tensor(0.9691),\n",
      " 'loss_test': tensor(0.9691),\n",
      " 'precision/test': 0.8615401581940139,\n",
      " 'recall/test': 0.8386182848425411}\n",
      "--------------------------------------------------------------------------------\n",
      "\n",
      "found checkpoint: /home/hugo/lab/instrument-recognition/test-tubes/transformer-search/seed=12_rnn=xfmr-64_recurrence_num_layers=4_/version_0/checkpoints/epoch=18-fscore_val=0.93.ckpt\n",
      "found checkpoint: /home/hugo/lab/instrument-recognition/test-tubes/transformer-search/seed=12_rnn=xfmr-64_recurrence_num_layers=4_/version_0/checkpoints/epoch=18-fscore_val=0.93.ckpt\n",
      "/home/hugo/lab/instrument-recognition/test-tubes/transformer-search/seed=12_rnn=xfmr-64_recurrence_num_layers=4_/version_0\n",
      "/home/hugo/lab/instrument-recognition/test-tubes/transformer-search/seed=12_rnn=xfmr-64_recurrence_num_layers=4_/version_0/checkpoints/epoch=18-fscore_val=0.93.ckpt\n"
     ]
    },
    {
     "name": "stderr",
     "output_type": "stream",
     "text": [
      " 47%|████▋     | 2463/5208 [00:00<00:00, 24629.67it/s]"
     ]
    },
    {
     "name": "stdout",
     "output_type": "stream",
     "text": [
      "loading metadata from /home/hugo/lab/instrument-recognition/data/mdb-solos-train-soundscapes/train...\n"
     ]
    },
    {
     "name": "stderr",
     "output_type": "stream",
     "text": [
      "100%|██████████| 5208/5208 [00:00<00:00, 25731.11it/s]\n",
      " 20%|██        | 2507/12236 [00:00<00:00, 25062.02it/s]"
     ]
    },
    {
     "name": "stdout",
     "output_type": "stream",
     "text": [
      "found 5208 entries\n",
      "{'trumpet': 1965, 'clarinet': 1966, 'tenor saxophone': 1914, 'piano': 1941, 'violin': 1948, 'female singer': 2011, 'flute': 1932, 'distorted electric guitar': 1945}\n",
      "loading metadata from /home/hugo/lab/instrument-recognition/data/mdb-solos-train-soundscapes/test...\n"
     ]
    },
    {
     "name": "stderr",
     "output_type": "stream",
     "text": [
      "100%|██████████| 12236/12236 [00:00<00:00, 26690.89it/s]\n",
      "100%|██████████| 3494/3494 [00:00<00:00, 24326.27it/s]"
     ]
    },
    {
     "name": "stdout",
     "output_type": "stream",
     "text": [
      "found 12236 entries\n",
      "{'clarinet': 732, 'piano': 2609, 'violin': 2900, 'tenor saxophone': 325, 'flute': 3167, 'distorted electric guitar': 955, 'female singer': 1142, 'trumpet': 406}\n",
      "loading metadata from /home/hugo/lab/instrument-recognition/data/mdb-solos-train-soundscapes/validation...\n",
      "found 3494 entries\n",
      "{'clarinet': 328, 'piano': 1022, 'flute': 233, 'female singer': 284, 'tenor saxophone': 29, 'violin': 1031, 'distorted electric guitar': 495, 'trumpet': 72}\n",
      "train entries:"
     ]
    },
    {
     "name": "stderr",
     "output_type": "stream",
     "text": [
      "\n",
      "/home/hugo/lab/venv/lib/python3.8/site-packages/pytorch_lightning/utilities/distributed.py:45: UserWarning: Checkpoint directory /home/hugo/lab/instrument-recognition/test-tubes/transformer-search/seed=12_rnn=xfmr-64_recurrence_num_layers=4_/version_0/checkpoints exists and is not empty. With save_top_k=3, all files in this directory will be deleted when a checkpoint is saved!\n",
      "  warnings.warn(*args, **kwargs)\n",
      "GPU available: True, used: False\n",
      "TPU available: False, using: 0 TPU cores\n"
     ]
    },
    {
     "name": "stdout",
     "output_type": "stream",
     "text": [
      " 5208\n",
      "val entries: 3494\n",
      "found checkpoint: /home/hugo/lab/instrument-recognition/test-tubes/transformer-search/seed=12_rnn=xfmr-64_recurrence_num_layers=4_/version_0/checkpoints/epoch=18-fscore_val=0.93.ckpt\n"
     ]
    },
    {
     "data": {
      "application/vnd.jupyter.widget-view+json": {
       "model_id": "cdb78978d99944a0b6b17db3b30685d3",
       "version_major": 2,
       "version_minor": 0
      },
      "text/plain": [
       "HBox(children=(HTML(value='Testing'), FloatProgress(value=1.0, bar_style='info', layout=Layout(flex='2'), max=…"
      ]
     },
     "metadata": {},
     "output_type": "display_data"
    },
    {
     "name": "stdout",
     "output_type": "stream",
     "text": [
      "--------------------------------------------------------------------------------\n",
      "DATALOADER:0 TEST RESULTS\n",
      "{'ECE/test': 0.12341161160992159,\n",
      " 'accuracy/test': 0.8511496131633431,\n",
      " 'fscore/test': 0.8407314907043238,\n",
      " 'fscore_test': 0.8407314907043238,\n",
      " 'loss/test': tensor(1.0416),\n",
      " 'loss_test': tensor(1.0416),\n",
      " 'precision/test': 0.8572732322703518,\n",
      " 'recall/test': 0.8511496131633431}\n",
      "--------------------------------------------------------------------------------\n",
      "\n",
      "found checkpoint: /home/hugo/lab/instrument-recognition/test-tubes/transformer-search/seed=23_rnn=xfmr-1_recurrence_num_layers=1_/version_0/checkpoints/epoch=02-fscore_val=0.92.ckpt\n",
      "found checkpoint: /home/hugo/lab/instrument-recognition/test-tubes/transformer-search/seed=23_rnn=xfmr-1_recurrence_num_layers=1_/version_0/checkpoints/epoch=02-fscore_val=0.92.ckpt\n",
      "/home/hugo/lab/instrument-recognition/test-tubes/transformer-search/seed=23_rnn=xfmr-1_recurrence_num_layers=1_/version_0\n",
      "/home/hugo/lab/instrument-recognition/test-tubes/transformer-search/seed=23_rnn=xfmr-1_recurrence_num_layers=1_/version_0/checkpoints/epoch=02-fscore_val=0.92.ckpt\n"
     ]
    },
    {
     "name": "stderr",
     "output_type": "stream",
     "text": [
      " 43%|████▎     | 2239/5208 [00:00<00:00, 22388.53it/s]"
     ]
    },
    {
     "name": "stdout",
     "output_type": "stream",
     "text": [
      "loading metadata from /home/hugo/lab/instrument-recognition/data/mdb-solos-train-soundscapes/train...\n"
     ]
    },
    {
     "name": "stderr",
     "output_type": "stream",
     "text": [
      "100%|██████████| 5208/5208 [00:04<00:00, 1117.22it/s] \n",
      " 31%|███       | 3793/12236 [00:00<00:00, 37925.52it/s]"
     ]
    },
    {
     "name": "stdout",
     "output_type": "stream",
     "text": [
      "found 5208 entries\n",
      "{'trumpet': 1965, 'clarinet': 1966, 'tenor saxophone': 1914, 'piano': 1941, 'violin': 1948, 'female singer': 2011, 'flute': 1932, 'distorted electric guitar': 1945}\n",
      "loading metadata from /home/hugo/lab/instrument-recognition/data/mdb-solos-train-soundscapes/test...\n"
     ]
    },
    {
     "name": "stderr",
     "output_type": "stream",
     "text": [
      "100%|██████████| 12236/12236 [00:00<00:00, 31863.02it/s]\n",
      " 81%|████████  | 2816/3494 [00:00<00:00, 28153.85it/s]"
     ]
    },
    {
     "name": "stdout",
     "output_type": "stream",
     "text": [
      "found 12236 entries\n",
      "{'clarinet': 732, 'piano': 2609, 'violin': 2900, 'tenor saxophone': 325, 'flute': 3167, 'distorted electric guitar': 955, 'female singer': 1142, 'trumpet': 406}\n",
      "loading metadata from /home/hugo/lab/instrument-recognition/data/mdb-solos-train-soundscapes/validation...\n"
     ]
    },
    {
     "name": "stderr",
     "output_type": "stream",
     "text": [
      "100%|██████████| 3494/3494 [00:00<00:00, 27568.20it/s]\n",
      "/home/hugo/lab/venv/lib/python3.8/site-packages/pytorch_lightning/utilities/distributed.py:45: UserWarning: Checkpoint directory /home/hugo/lab/instrument-recognition/test-tubes/transformer-search/seed=23_rnn=xfmr-1_recurrence_num_layers=1_/version_0/checkpoints exists and is not empty. With save_top_k=3, all files in this directory will be deleted when a checkpoint is saved!\n",
      "  warnings.warn(*args, **kwargs)\n",
      "GPU available: True, used: False\n",
      "TPU available: False, using: 0 TPU cores\n"
     ]
    },
    {
     "name": "stdout",
     "output_type": "stream",
     "text": [
      "found 3494 entries\n",
      "{'clarinet': 328, 'piano': 1022, 'flute': 233, 'female singer': 284, 'tenor saxophone': 29, 'violin': 1031, 'distorted electric guitar': 495, 'trumpet': 72}\n",
      "train entries: 5208\n",
      "val entries: 3494\n",
      "found checkpoint: /home/hugo/lab/instrument-recognition/test-tubes/transformer-search/seed=23_rnn=xfmr-1_recurrence_num_layers=1_/version_0/checkpoints/epoch=02-fscore_val=0.92.ckpt\n"
     ]
    },
    {
     "data": {
      "application/vnd.jupyter.widget-view+json": {
       "model_id": "c643298c9e8149ccb64afdc293b4d4ce",
       "version_major": 2,
       "version_minor": 0
      },
      "text/plain": [
       "HBox(children=(HTML(value='Testing'), FloatProgress(value=1.0, bar_style='info', layout=Layout(flex='2'), max=…"
      ]
     },
     "metadata": {},
     "output_type": "display_data"
    },
    {
     "name": "stdout",
     "output_type": "stream",
     "text": [
      "--------------------------------------------------------------------------------\n",
      "DATALOADER:0 TEST RESULTS\n",
      "{'ECE/test': 0.1140280886623963,\n",
      " 'accuracy/test': 0.8370382477933965,\n",
      " 'fscore/test': 0.8257792805263274,\n",
      " 'fscore_test': 0.8257792805263274,\n",
      " 'loss/test': tensor(0.8580),\n",
      " 'loss_test': tensor(0.8580),\n",
      " 'precision/test': 0.8587911718871233,\n",
      " 'recall/test': 0.8370382477933965}\n",
      "--------------------------------------------------------------------------------\n",
      "\n",
      "found checkpoint: /home/hugo/lab/instrument-recognition/test-tubes/transformer-search/seed=11_rnn=xfmr-16_recurrence_num_layers=8_/version_0/checkpoints/epoch=24-fscore_val=0.92.ckpt\n",
      "found checkpoint: /home/hugo/lab/instrument-recognition/test-tubes/transformer-search/seed=11_rnn=xfmr-16_recurrence_num_layers=8_/version_0/checkpoints/epoch=24-fscore_val=0.92.ckpt\n",
      "/home/hugo/lab/instrument-recognition/test-tubes/transformer-search/seed=11_rnn=xfmr-16_recurrence_num_layers=8_/version_0\n",
      "/home/hugo/lab/instrument-recognition/test-tubes/transformer-search/seed=11_rnn=xfmr-16_recurrence_num_layers=8_/version_0/checkpoints/epoch=24-fscore_val=0.92.ckpt\n"
     ]
    },
    {
     "name": "stderr",
     "output_type": "stream",
     "text": [
      " 51%|█████▏    | 2681/5208 [00:00<00:00, 26605.77it/s]"
     ]
    },
    {
     "name": "stdout",
     "output_type": "stream",
     "text": [
      "loading metadata from /home/hugo/lab/instrument-recognition/data/mdb-solos-train-soundscapes/train...\n"
     ]
    },
    {
     "name": "stderr",
     "output_type": "stream",
     "text": [
      "100%|██████████| 5208/5208 [00:00<00:00, 26605.72it/s]\n",
      " 23%|██▎       | 2866/12236 [00:00<00:00, 28657.84it/s]"
     ]
    },
    {
     "name": "stdout",
     "output_type": "stream",
     "text": [
      "found 5208 entries\n",
      "{'trumpet': 1965, 'clarinet': 1966, 'tenor saxophone': 1914, 'piano': 1941, 'violin': 1948, 'female singer': 2011, 'flute': 1932, 'distorted electric guitar': 1945}\n",
      "loading metadata from /home/hugo/lab/instrument-recognition/data/mdb-solos-train-soundscapes/test...\n"
     ]
    },
    {
     "name": "stderr",
     "output_type": "stream",
     "text": [
      "100%|██████████| 12236/12236 [00:00<00:00, 29210.70it/s]\n",
      "100%|██████████| 3494/3494 [00:00<00:00, 29251.94it/s]\n"
     ]
    },
    {
     "name": "stdout",
     "output_type": "stream",
     "text": [
      "found 12236 entries\n",
      "{'clarinet': 732, 'piano': 2609, 'violin': 2900, 'tenor saxophone': 325, 'flute': 3167, 'distorted electric guitar': 955, 'female singer': 1142, 'trumpet': 406}\n",
      "loading metadata from /home/hugo/lab/instrument-recognition/data/mdb-solos-train-soundscapes/validation...\n",
      "found 3494 entries\n",
      "{'clarinet': 328, 'piano': 1022, 'flute': 233, 'female singer': 284, 'tenor saxophone': 29, 'violin': 1031, 'distorted electric guitar': 495, 'trumpet': 72}\n",
      "train entries: 5208\n",
      "val entries: 3494\n"
     ]
    },
    {
     "name": "stderr",
     "output_type": "stream",
     "text": [
      "/home/hugo/lab/venv/lib/python3.8/site-packages/pytorch_lightning/utilities/distributed.py:45: UserWarning: Checkpoint directory /home/hugo/lab/instrument-recognition/test-tubes/transformer-search/seed=11_rnn=xfmr-16_recurrence_num_layers=8_/version_0/checkpoints exists and is not empty. With save_top_k=3, all files in this directory will be deleted when a checkpoint is saved!\n",
      "  warnings.warn(*args, **kwargs)\n",
      "GPU available: True, used: False\n",
      "TPU available: False, using: 0 TPU cores\n"
     ]
    },
    {
     "name": "stdout",
     "output_type": "stream",
     "text": [
      "found checkpoint: /home/hugo/lab/instrument-recognition/test-tubes/transformer-search/seed=11_rnn=xfmr-16_recurrence_num_layers=8_/version_0/checkpoints/epoch=24-fscore_val=0.92.ckpt\n"
     ]
    },
    {
     "data": {
      "application/vnd.jupyter.widget-view+json": {
       "model_id": "64018068b0204b5b97b569cfd13294aa",
       "version_major": 2,
       "version_minor": 0
      },
      "text/plain": [
       "HBox(children=(HTML(value='Testing'), FloatProgress(value=1.0, bar_style='info', layout=Layout(flex='2'), max=…"
      ]
     },
     "metadata": {},
     "output_type": "display_data"
    },
    {
     "name": "stdout",
     "output_type": "stream",
     "text": [
      "--------------------------------------------------------------------------------\n",
      "DATALOADER:0 TEST RESULTS\n",
      "{'ECE/test': 0.11230447975813306,\n",
      " 'accuracy/test': 0.8178053830227743,\n",
      " 'fscore/test': 0.8032056059004827,\n",
      " 'fscore_test': 0.8032056059004827,\n",
      " 'loss/test': tensor(0.9697),\n",
      " 'loss_test': tensor(0.9697),\n",
      " 'precision/test': 0.8486530816640101,\n",
      " 'recall/test': 0.8178053830227743}\n",
      "--------------------------------------------------------------------------------\n",
      "\n",
      "found checkpoint: /home/hugo/lab/instrument-recognition/test-tubes/transformer-search/seed=23_rnn=xfmr-4_recurrence_num_layers=2_/version_0/checkpoints/epoch=29-fscore_val=0.92.ckpt\n",
      "found checkpoint: /home/hugo/lab/instrument-recognition/test-tubes/transformer-search/seed=23_rnn=xfmr-4_recurrence_num_layers=2_/version_0/checkpoints/epoch=29-fscore_val=0.92.ckpt\n",
      "/home/hugo/lab/instrument-recognition/test-tubes/transformer-search/seed=23_rnn=xfmr-4_recurrence_num_layers=2_/version_0\n",
      "/home/hugo/lab/instrument-recognition/test-tubes/transformer-search/seed=23_rnn=xfmr-4_recurrence_num_layers=2_/version_0/checkpoints/epoch=29-fscore_val=0.92.ckpt\n"
     ]
    },
    {
     "name": "stderr",
     "output_type": "stream",
     "text": [
      " 57%|█████▋    | 2994/5208 [00:00<00:00, 29937.82it/s]"
     ]
    },
    {
     "name": "stdout",
     "output_type": "stream",
     "text": [
      "loading metadata from /home/hugo/lab/instrument-recognition/data/mdb-solos-train-soundscapes/train...\n"
     ]
    },
    {
     "name": "stderr",
     "output_type": "stream",
     "text": [
      "100%|██████████| 5208/5208 [00:00<00:00, 27387.01it/s]\n",
      "  0%|          | 0/12236 [00:00<?, ?it/s]"
     ]
    },
    {
     "name": "stdout",
     "output_type": "stream",
     "text": [
      "found 5208 entries\n",
      "{'trumpet': 1965, 'clarinet': 1966, 'tenor saxophone': 1914, 'piano': 1941, 'violin': 1948, 'female singer': 2011, 'flute': 1932, 'distorted electric guitar': 1945}\n",
      "loading metadata from /home/hugo/lab/instrument-recognition/data/mdb-solos-train-soundscapes/test...\n"
     ]
    },
    {
     "name": "stderr",
     "output_type": "stream",
     "text": [
      "100%|██████████| 12236/12236 [00:00<00:00, 27357.45it/s]\n",
      "100%|██████████| 3494/3494 [00:00<00:00, 28294.31it/s]\n"
     ]
    },
    {
     "name": "stdout",
     "output_type": "stream",
     "text": [
      "found 12236 entries\n",
      "{'clarinet': 732, 'piano': 2609, 'violin': 2900, 'tenor saxophone': 325, 'flute': 3167, 'distorted electric guitar': 955, 'female singer': 1142, 'trumpet': 406}\n",
      "loading metadata from /home/hugo/lab/instrument-recognition/data/mdb-solos-train-soundscapes/validation...\n",
      "found 3494 entries\n",
      "{'clarinet': 328, 'piano': 1022, 'flute': 233, 'female singer': 284, 'tenor saxophone': 29, 'violin': 1031, 'distorted electric guitar': 495, 'trumpet': 72}\n",
      "train entries: 5208\n",
      "val entries: 3494\n"
     ]
    },
    {
     "name": "stderr",
     "output_type": "stream",
     "text": [
      "/home/hugo/lab/venv/lib/python3.8/site-packages/pytorch_lightning/utilities/distributed.py:45: UserWarning: Checkpoint directory /home/hugo/lab/instrument-recognition/test-tubes/transformer-search/seed=23_rnn=xfmr-4_recurrence_num_layers=2_/version_0/checkpoints exists and is not empty. With save_top_k=3, all files in this directory will be deleted when a checkpoint is saved!\n",
      "  warnings.warn(*args, **kwargs)\n",
      "GPU available: True, used: False\n",
      "TPU available: False, using: 0 TPU cores\n"
     ]
    },
    {
     "name": "stdout",
     "output_type": "stream",
     "text": [
      "found checkpoint: /home/hugo/lab/instrument-recognition/test-tubes/transformer-search/seed=23_rnn=xfmr-4_recurrence_num_layers=2_/version_0/checkpoints/epoch=29-fscore_val=0.92.ckpt\n"
     ]
    },
    {
     "data": {
      "application/vnd.jupyter.widget-view+json": {
       "model_id": "4a6c60542a5941828b4f9ec0cbe745a6",
       "version_major": 2,
       "version_minor": 0
      },
      "text/plain": [
       "HBox(children=(HTML(value='Testing'), FloatProgress(value=1.0, bar_style='info', layout=Layout(flex='2'), max=…"
      ]
     },
     "metadata": {},
     "output_type": "display_data"
    },
    {
     "name": "stdout",
     "output_type": "stream",
     "text": [
      "--------------------------------------------------------------------------------\n",
      "DATALOADER:0 TEST RESULTS\n",
      "{'ECE/test': 0.13276027546503635,\n",
      " 'accuracy/test': 0.8384003486978315,\n",
      " 'fscore/test': 0.8263204306282468,\n",
      " 'fscore_test': 0.8263204306282468,\n",
      " 'loss/test': tensor(1.1505),\n",
      " 'loss_test': tensor(1.1505),\n",
      " 'precision/test': 0.8590883858412169,\n",
      " 'recall/test': 0.8384003486978315}\n",
      "--------------------------------------------------------------------------------\n",
      "\n",
      "found checkpoint: /home/hugo/lab/instrument-recognition/test-tubes/transformer-search/seed=12_rnn=xfmr-8_recurrence_num_layers=2_/version_0/checkpoints/epoch=103-fscore_val=0.94.ckpt\n",
      "found checkpoint: /home/hugo/lab/instrument-recognition/test-tubes/transformer-search/seed=12_rnn=xfmr-8_recurrence_num_layers=2_/version_0/checkpoints/epoch=103-fscore_val=0.94.ckpt\n",
      "/home/hugo/lab/instrument-recognition/test-tubes/transformer-search/seed=12_rnn=xfmr-8_recurrence_num_layers=2_/version_0\n",
      "/home/hugo/lab/instrument-recognition/test-tubes/transformer-search/seed=12_rnn=xfmr-8_recurrence_num_layers=2_/version_0/checkpoints/epoch=103-fscore_val=0.94.ckpt\n"
     ]
    },
    {
     "name": "stderr",
     "output_type": "stream",
     "text": [
      " 55%|█████▌    | 2890/5208 [00:00<00:00, 28898.24it/s]"
     ]
    },
    {
     "name": "stdout",
     "output_type": "stream",
     "text": [
      "loading metadata from /home/hugo/lab/instrument-recognition/data/mdb-solos-train-soundscapes/train...\n"
     ]
    },
    {
     "name": "stderr",
     "output_type": "stream",
     "text": [
      "100%|██████████| 5208/5208 [00:00<00:00, 27195.73it/s]\n",
      " 27%|██▋       | 3355/12236 [00:00<00:00, 33544.91it/s]"
     ]
    },
    {
     "name": "stdout",
     "output_type": "stream",
     "text": [
      "found 5208 entries\n",
      "{'trumpet': 1965, 'clarinet': 1966, 'tenor saxophone': 1914, 'piano': 1941, 'violin': 1948, 'female singer': 2011, 'flute': 1932, 'distorted electric guitar': 1945}\n",
      "loading metadata from /home/hugo/lab/instrument-recognition/data/mdb-solos-train-soundscapes/test...\n"
     ]
    },
    {
     "name": "stderr",
     "output_type": "stream",
     "text": [
      "100%|██████████| 12236/12236 [00:00<00:00, 33563.80it/s]\n",
      "100%|██████████| 3494/3494 [00:00<00:00, 32628.43it/s]\n",
      "/home/hugo/lab/venv/lib/python3.8/site-packages/pytorch_lightning/utilities/distributed.py:45: UserWarning: Checkpoint directory /home/hugo/lab/instrument-recognition/test-tubes/transformer-search/seed=12_rnn=xfmr-8_recurrence_num_layers=2_/version_0/checkpoints exists and is not empty. With save_top_k=3, all files in this directory will be deleted when a checkpoint is saved!\n",
      "  warnings.warn(*args, **kwargs)\n",
      "GPU available: True, used: False\n",
      "TPU available: False, using: 0 TPU cores\n"
     ]
    },
    {
     "name": "stdout",
     "output_type": "stream",
     "text": [
      "found 12236 entries\n",
      "{'clarinet': 732, 'piano': 2609, 'violin': 2900, 'tenor saxophone': 325, 'flute': 3167, 'distorted electric guitar': 955, 'female singer': 1142, 'trumpet': 406}\n",
      "loading metadata from /home/hugo/lab/instrument-recognition/data/mdb-solos-train-soundscapes/validation...\n",
      "found 3494 entries\n",
      "{'clarinet': 328, 'piano': 1022, 'flute': 233, 'female singer': 284, 'tenor saxophone': 29, 'violin': 1031, 'distorted electric guitar': 495, 'trumpet': 72}\n",
      "train entries: 5208\n",
      "val entries: 3494\n",
      "found checkpoint: /home/hugo/lab/instrument-recognition/test-tubes/transformer-search/seed=12_rnn=xfmr-8_recurrence_num_layers=2_/version_0/checkpoints/epoch=103-fscore_val=0.94.ckpt\n"
     ]
    },
    {
     "data": {
      "application/vnd.jupyter.widget-view+json": {
       "model_id": "cb9afb63406544c6bc500042ea20225d",
       "version_major": 2,
       "version_minor": 0
      },
      "text/plain": [
       "HBox(children=(HTML(value='Testing'), FloatProgress(value=1.0, bar_style='info', layout=Layout(flex='2'), max=…"
      ]
     },
     "metadata": {},
     "output_type": "display_data"
    },
    {
     "name": "stdout",
     "output_type": "stream",
     "text": [
      "--------------------------------------------------------------------------------\n",
      "DATALOADER:0 TEST RESULTS\n",
      "{'ECE/test': 0.13757258248027798,\n",
      " 'accuracy/test': 0.8357578729432277,\n",
      " 'fscore/test': 0.8275724565903118,\n",
      " 'fscore_test': 0.8275724565903118,\n",
      " 'loss/test': tensor(1.2274),\n",
      " 'loss_test': tensor(1.2274),\n",
      " 'precision/test': 0.8543317027806947,\n",
      " 'recall/test': 0.8357578729432277}\n",
      "--------------------------------------------------------------------------------\n",
      "\n",
      "found checkpoint: /home/hugo/lab/instrument-recognition/test-tubes/transformer-search/seed=12_rnn=xfmr-32_recurrence_num_layers=2_/version_0/checkpoints/epoch=04-fscore_val=0.93.ckpt\n",
      "found checkpoint: /home/hugo/lab/instrument-recognition/test-tubes/transformer-search/seed=12_rnn=xfmr-32_recurrence_num_layers=2_/version_0/checkpoints/epoch=04-fscore_val=0.93.ckpt\n",
      "/home/hugo/lab/instrument-recognition/test-tubes/transformer-search/seed=12_rnn=xfmr-32_recurrence_num_layers=2_/version_0\n",
      "/home/hugo/lab/instrument-recognition/test-tubes/transformer-search/seed=12_rnn=xfmr-32_recurrence_num_layers=2_/version_0/checkpoints/epoch=04-fscore_val=0.93.ckpt\n"
     ]
    },
    {
     "name": "stderr",
     "output_type": "stream",
     "text": [
      " 45%|████▌     | 2351/5208 [00:00<00:00, 23503.52it/s]"
     ]
    },
    {
     "name": "stdout",
     "output_type": "stream",
     "text": [
      "loading metadata from /home/hugo/lab/instrument-recognition/data/mdb-solos-train-soundscapes/train...\n"
     ]
    },
    {
     "name": "stderr",
     "output_type": "stream",
     "text": [
      "100%|██████████| 5208/5208 [00:00<00:00, 24148.69it/s]\n",
      "  0%|          | 0/12236 [00:00<?, ?it/s]"
     ]
    },
    {
     "name": "stdout",
     "output_type": "stream",
     "text": [
      "found 5208 entries\n",
      "{'trumpet': 1965, 'clarinet': 1966, 'tenor saxophone': 1914, 'piano': 1941, 'violin': 1948, 'female singer': 2011, 'flute': 1932, 'distorted electric guitar': 1945}\n",
      "loading metadata from /home/hugo/lab/instrument-recognition/data/mdb-solos-train-soundscapes/test...\n"
     ]
    },
    {
     "name": "stderr",
     "output_type": "stream",
     "text": [
      "100%|██████████| 12236/12236 [00:00<00:00, 27907.36it/s]\n",
      "100%|██████████| 3494/3494 [00:00<00:00, 29211.00it/s]\n",
      "/home/hugo/lab/venv/lib/python3.8/site-packages/pytorch_lightning/utilities/distributed.py:45: UserWarning: Checkpoint directory /home/hugo/lab/instrument-recognition/test-tubes/transformer-search/seed=12_rnn=xfmr-32_recurrence_num_layers=2_/version_0/checkpoints exists and is not empty. With save_top_k=3, all files in this directory will be deleted when a checkpoint is saved!\n",
      "  warnings.warn(*args, **kwargs)\n",
      "GPU available: True, used: False\n",
      "TPU available: False, using: 0 TPU cores\n"
     ]
    },
    {
     "name": "stdout",
     "output_type": "stream",
     "text": [
      "found 12236 entries\n",
      "{'clarinet': 732, 'piano': 2609, 'violin': 2900, 'tenor saxophone': 325, 'flute': 3167, 'distorted electric guitar': 955, 'female singer': 1142, 'trumpet': 406}\n",
      "loading metadata from /home/hugo/lab/instrument-recognition/data/mdb-solos-train-soundscapes/validation...\n",
      "found 3494 entries\n",
      "{'clarinet': 328, 'piano': 1022, 'flute': 233, 'female singer': 284, 'tenor saxophone': 29, 'violin': 1031, 'distorted electric guitar': 495, 'trumpet': 72}\n",
      "train entries: 5208\n",
      "val entries: 3494\n",
      "found checkpoint: /home/hugo/lab/instrument-recognition/test-tubes/transformer-search/seed=12_rnn=xfmr-32_recurrence_num_layers=2_/version_0/checkpoints/epoch=04-fscore_val=0.93.ckpt\n"
     ]
    },
    {
     "data": {
      "application/vnd.jupyter.widget-view+json": {
       "model_id": "eb76cb6c4a6c4874ab2e288d6bff7eb3",
       "version_major": 2,
       "version_minor": 0
      },
      "text/plain": [
       "HBox(children=(HTML(value='Testing'), FloatProgress(value=1.0, bar_style='info', layout=Layout(flex='2'), max=…"
      ]
     },
     "metadata": {},
     "output_type": "display_data"
    },
    {
     "name": "stdout",
     "output_type": "stream",
     "text": [
      "--------------------------------------------------------------------------------\n",
      "DATALOADER:0 TEST RESULTS\n",
      "{'ECE/test': 0.11620815513072819,\n",
      " 'accuracy/test': 0.843712542225128,\n",
      " 'fscore/test': 0.8335241032500524,\n",
      " 'fscore_test': 0.8335241032500524,\n",
      " 'loss/test': tensor(0.9345),\n",
      " 'loss_test': tensor(0.9345),\n",
      " 'precision/test': 0.8613162622358321,\n",
      " 'recall/test': 0.843712542225128}\n",
      "--------------------------------------------------------------------------------\n",
      "\n",
      "found checkpoint: /home/hugo/lab/instrument-recognition/test-tubes/transformer-search/seed=12_rnn=xfmr-8_recurrence_num_layers=8_/version_0/checkpoints/epoch=48-fscore_val=0.92.ckpt\n",
      "found checkpoint: /home/hugo/lab/instrument-recognition/test-tubes/transformer-search/seed=12_rnn=xfmr-8_recurrence_num_layers=8_/version_0/checkpoints/epoch=48-fscore_val=0.92.ckpt\n",
      "/home/hugo/lab/instrument-recognition/test-tubes/transformer-search/seed=12_rnn=xfmr-8_recurrence_num_layers=8_/version_0\n",
      "/home/hugo/lab/instrument-recognition/test-tubes/transformer-search/seed=12_rnn=xfmr-8_recurrence_num_layers=8_/version_0/checkpoints/epoch=48-fscore_val=0.92.ckpt\n"
     ]
    },
    {
     "name": "stderr",
     "output_type": "stream",
     "text": [
      " 53%|█████▎    | 2752/5208 [00:00<00:00, 27511.30it/s]"
     ]
    },
    {
     "name": "stdout",
     "output_type": "stream",
     "text": [
      "loading metadata from /home/hugo/lab/instrument-recognition/data/mdb-solos-train-soundscapes/train...\n"
     ]
    },
    {
     "name": "stderr",
     "output_type": "stream",
     "text": [
      "100%|██████████| 5208/5208 [00:00<00:00, 27529.80it/s]\n",
      " 27%|██▋       | 3282/12236 [00:00<00:00, 32811.35it/s]"
     ]
    },
    {
     "name": "stdout",
     "output_type": "stream",
     "text": [
      "found 5208 entries\n",
      "{'trumpet': 1965, 'clarinet': 1966, 'tenor saxophone': 1914, 'piano': 1941, 'violin': 1948, 'female singer': 2011, 'flute': 1932, 'distorted electric guitar': 1945}\n",
      "loading metadata from /home/hugo/lab/instrument-recognition/data/mdb-solos-train-soundscapes/test...\n"
     ]
    },
    {
     "name": "stderr",
     "output_type": "stream",
     "text": [
      "100%|██████████| 12236/12236 [00:00<00:00, 26974.18it/s]\n",
      " 69%|██████▊   | 2397/3494 [00:00<00:00, 23966.42it/s]"
     ]
    },
    {
     "name": "stdout",
     "output_type": "stream",
     "text": [
      "found 12236 entries\n",
      "{'clarinet': 732, 'piano': 2609, 'violin': 2900, 'tenor saxophone': 325, 'flute': 3167, 'distorted electric guitar': 955, 'female singer': 1142, 'trumpet': 406}\n",
      "loading metadata from /home/hugo/lab/instrument-recognition/data/mdb-solos-train-soundscapes/validation...\n"
     ]
    },
    {
     "name": "stderr",
     "output_type": "stream",
     "text": [
      "100%|██████████| 3494/3494 [00:00<00:00, 23744.24it/s]\n",
      "/home/hugo/lab/venv/lib/python3.8/site-packages/pytorch_lightning/utilities/distributed.py:45: UserWarning: Checkpoint directory /home/hugo/lab/instrument-recognition/test-tubes/transformer-search/seed=12_rnn=xfmr-8_recurrence_num_layers=8_/version_0/checkpoints exists and is not empty. With save_top_k=3, all files in this directory will be deleted when a checkpoint is saved!\n",
      "  warnings.warn(*args, **kwargs)\n",
      "GPU available: True, used: False\n",
      "TPU available: False, using: 0 TPU cores\n"
     ]
    },
    {
     "name": "stdout",
     "output_type": "stream",
     "text": [
      "found 3494 entries\n",
      "{'clarinet': 328, 'piano': 1022, 'flute': 233, 'female singer': 284, 'tenor saxophone': 29, 'violin': 1031, 'distorted electric guitar': 495, 'trumpet': 72}\n",
      "train entries: 5208\n",
      "val entries: 3494\n",
      "found checkpoint: /home/hugo/lab/instrument-recognition/test-tubes/transformer-search/seed=12_rnn=xfmr-8_recurrence_num_layers=8_/version_0/checkpoints/epoch=48-fscore_val=0.92.ckpt\n"
     ]
    },
    {
     "data": {
      "application/vnd.jupyter.widget-view+json": {
       "model_id": "4dae01e080d34b0491fce82add443b56",
       "version_major": 2,
       "version_minor": 0
      },
      "text/plain": [
       "HBox(children=(HTML(value='Testing'), FloatProgress(value=1.0, bar_style='info', layout=Layout(flex='2'), max=…"
      ]
     },
     "metadata": {},
     "output_type": "display_data"
    },
    {
     "name": "stdout",
     "output_type": "stream",
     "text": [
      "--------------------------------------------------------------------------------\n",
      "DATALOADER:0 TEST RESULTS\n",
      "{'ECE/test': 0.08796948949953848,\n",
      " 'accuracy/test': 0.8720169990192873,\n",
      " 'fscore/test': 0.8647810604821334,\n",
      " 'fscore_test': 0.8647810604821334,\n",
      " 'loss/test': tensor(0.7173),\n",
      " 'loss_test': tensor(0.7173),\n",
      " 'precision/test': 0.8758797000966763,\n",
      " 'recall/test': 0.8720169990192873}\n",
      "--------------------------------------------------------------------------------\n",
      "\n",
      "found checkpoint: /home/hugo/lab/instrument-recognition/test-tubes/transformer-search/seed=23_rnn=xfmr-1_recurrence_num_layers=8_/version_0/checkpoints/epoch=114-fscore_val=0.94.ckpt\n",
      "found checkpoint: /home/hugo/lab/instrument-recognition/test-tubes/transformer-search/seed=23_rnn=xfmr-1_recurrence_num_layers=8_/version_0/checkpoints/epoch=114-fscore_val=0.94.ckpt\n",
      "/home/hugo/lab/instrument-recognition/test-tubes/transformer-search/seed=23_rnn=xfmr-1_recurrence_num_layers=8_/version_0\n",
      "/home/hugo/lab/instrument-recognition/test-tubes/transformer-search/seed=23_rnn=xfmr-1_recurrence_num_layers=8_/version_0/checkpoints/epoch=114-fscore_val=0.94.ckpt\n"
     ]
    },
    {
     "name": "stderr",
     "output_type": "stream",
     "text": [
      " 54%|█████▍    | 2811/5208 [00:00<00:00, 28106.81it/s]"
     ]
    },
    {
     "name": "stdout",
     "output_type": "stream",
     "text": [
      "loading metadata from /home/hugo/lab/instrument-recognition/data/mdb-solos-train-soundscapes/train...\n"
     ]
    },
    {
     "name": "stderr",
     "output_type": "stream",
     "text": [
      "100%|██████████| 5208/5208 [00:00<00:00, 26836.82it/s]\n",
      " 26%|██▌       | 3152/12236 [00:00<00:00, 31517.02it/s]"
     ]
    },
    {
     "name": "stdout",
     "output_type": "stream",
     "text": [
      "found 5208 entries\n",
      "{'trumpet': 1965, 'clarinet': 1966, 'tenor saxophone': 1914, 'piano': 1941, 'violin': 1948, 'female singer': 2011, 'flute': 1932, 'distorted electric guitar': 1945}\n",
      "loading metadata from /home/hugo/lab/instrument-recognition/data/mdb-solos-train-soundscapes/test...\n"
     ]
    },
    {
     "name": "stderr",
     "output_type": "stream",
     "text": [
      "100%|██████████| 12236/12236 [00:00<00:00, 31174.77it/s]\n",
      "100%|██████████| 3494/3494 [00:00<00:00, 22796.69it/s]"
     ]
    },
    {
     "name": "stdout",
     "output_type": "stream",
     "text": [
      "found 12236 entries\n",
      "{'clarinet': 732, 'piano': 2609, 'violin': 2900, 'tenor saxophone': 325, 'flute': 3167, 'distorted electric guitar': 955, 'female singer': 1142, 'trumpet': 406}\n",
      "loading metadata from /home/hugo/lab/instrument-recognition/data/mdb-solos-train-soundscapes/validation...\n",
      "found 3494 entries\n",
      "{'clarinet': 328, 'piano': 1022, 'flute': 233, 'female singer': 284, 'tenor saxophone': 29, 'violin': 1031, 'distorted electric guitar': 495, 'trumpet': 72}\n",
      "train entries: 5208\n",
      "val entries: 3494\n"
     ]
    },
    {
     "name": "stderr",
     "output_type": "stream",
     "text": [
      "\n",
      "/home/hugo/lab/venv/lib/python3.8/site-packages/pytorch_lightning/utilities/distributed.py:45: UserWarning: Checkpoint directory /home/hugo/lab/instrument-recognition/test-tubes/transformer-search/seed=23_rnn=xfmr-1_recurrence_num_layers=8_/version_0/checkpoints exists and is not empty. With save_top_k=3, all files in this directory will be deleted when a checkpoint is saved!\n",
      "  warnings.warn(*args, **kwargs)\n",
      "GPU available: True, used: False\n",
      "TPU available: False, using: 0 TPU cores\n"
     ]
    },
    {
     "name": "stdout",
     "output_type": "stream",
     "text": [
      "found checkpoint: /home/hugo/lab/instrument-recognition/test-tubes/transformer-search/seed=23_rnn=xfmr-1_recurrence_num_layers=8_/version_0/checkpoints/epoch=114-fscore_val=0.94.ckpt\n"
     ]
    },
    {
     "data": {
      "application/vnd.jupyter.widget-view+json": {
       "model_id": "26c0947773de47c7b8ff8cd7fa4c0bed",
       "version_major": 2,
       "version_minor": 0
      },
      "text/plain": [
       "HBox(children=(HTML(value='Testing'), FloatProgress(value=1.0, bar_style='info', layout=Layout(flex='2'), max=…"
      ]
     },
     "metadata": {},
     "output_type": "display_data"
    },
    {
     "name": "stdout",
     "output_type": "stream",
     "text": [
      "--------------------------------------------------------------------------------\n",
      "DATALOADER:0 TEST RESULTS\n",
      "{'ECE/test': 0.15728061825322787,\n",
      " 'accuracy/test': 0.8283752860411899,\n",
      " 'fscore/test': 0.8162018006233009,\n",
      " 'fscore_test': 0.8162018006233009,\n",
      " 'loss/test': tensor(1.5438),\n",
      " 'loss_test': tensor(1.5438),\n",
      " 'precision/test': 0.8596993006526659,\n",
      " 'recall/test': 0.8283752860411899}\n",
      "--------------------------------------------------------------------------------\n",
      "\n",
      "found checkpoint: /home/hugo/lab/instrument-recognition/test-tubes/transformer-search/seed=11_rnn=xfmr-8_recurrence_num_layers=2_/version_0/checkpoints/epoch=36-fscore_val=0.93.ckpt\n",
      "found checkpoint: /home/hugo/lab/instrument-recognition/test-tubes/transformer-search/seed=11_rnn=xfmr-8_recurrence_num_layers=2_/version_0/checkpoints/epoch=36-fscore_val=0.93.ckpt\n",
      "/home/hugo/lab/instrument-recognition/test-tubes/transformer-search/seed=11_rnn=xfmr-8_recurrence_num_layers=2_/version_0\n",
      "/home/hugo/lab/instrument-recognition/test-tubes/transformer-search/seed=11_rnn=xfmr-8_recurrence_num_layers=2_/version_0/checkpoints/epoch=36-fscore_val=0.93.ckpt\n"
     ]
    },
    {
     "name": "stderr",
     "output_type": "stream",
     "text": [
      " 42%|████▏     | 2188/5208 [00:00<00:00, 21871.57it/s]"
     ]
    },
    {
     "name": "stdout",
     "output_type": "stream",
     "text": [
      "loading metadata from /home/hugo/lab/instrument-recognition/data/mdb-solos-train-soundscapes/train...\n"
     ]
    },
    {
     "name": "stderr",
     "output_type": "stream",
     "text": [
      "100%|██████████| 5208/5208 [00:00<00:00, 22151.55it/s]\n",
      "  0%|          | 0/12236 [00:00<?, ?it/s]"
     ]
    },
    {
     "name": "stdout",
     "output_type": "stream",
     "text": [
      "found 5208 entries\n",
      "{'trumpet': 1965, 'clarinet': 1966, 'tenor saxophone': 1914, 'piano': 1941, 'violin': 1948, 'female singer': 2011, 'flute': 1932, 'distorted electric guitar': 1945}\n",
      "loading metadata from /home/hugo/lab/instrument-recognition/data/mdb-solos-train-soundscapes/test...\n"
     ]
    },
    {
     "name": "stderr",
     "output_type": "stream",
     "text": [
      "100%|██████████| 12236/12236 [00:00<00:00, 30124.62it/s]\n",
      "100%|██████████| 3494/3494 [00:00<00:00, 30613.76it/s]\n",
      "/home/hugo/lab/venv/lib/python3.8/site-packages/pytorch_lightning/utilities/distributed.py:45: UserWarning: Checkpoint directory /home/hugo/lab/instrument-recognition/test-tubes/transformer-search/seed=11_rnn=xfmr-8_recurrence_num_layers=2_/version_0/checkpoints exists and is not empty. With save_top_k=3, all files in this directory will be deleted when a checkpoint is saved!\n",
      "  warnings.warn(*args, **kwargs)\n",
      "GPU available: True, used: False\n",
      "TPU available: False, using: 0 TPU cores\n"
     ]
    },
    {
     "name": "stdout",
     "output_type": "stream",
     "text": [
      "found 12236 entries\n",
      "{'clarinet': 732, 'piano': 2609, 'violin': 2900, 'tenor saxophone': 325, 'flute': 3167, 'distorted electric guitar': 955, 'female singer': 1142, 'trumpet': 406}\n",
      "loading metadata from /home/hugo/lab/instrument-recognition/data/mdb-solos-train-soundscapes/validation...\n",
      "found 3494 entries\n",
      "{'clarinet': 328, 'piano': 1022, 'flute': 233, 'female singer': 284, 'tenor saxophone': 29, 'violin': 1031, 'distorted electric guitar': 495, 'trumpet': 72}\n",
      "train entries: 5208\n",
      "val entries: 3494\n",
      "found checkpoint: /home/hugo/lab/instrument-recognition/test-tubes/transformer-search/seed=11_rnn=xfmr-8_recurrence_num_layers=2_/version_0/checkpoints/epoch=36-fscore_val=0.93.ckpt\n"
     ]
    },
    {
     "data": {
      "application/vnd.jupyter.widget-view+json": {
       "model_id": "6b33d4ab082045cf9f05d6fdbda499c2",
       "version_major": 2,
       "version_minor": 0
      },
      "text/plain": [
       "HBox(children=(HTML(value='Testing'), FloatProgress(value=1.0, bar_style='info', layout=Layout(flex='2'), max=…"
      ]
     },
     "metadata": {},
     "output_type": "display_data"
    },
    {
     "name": "stdout",
     "output_type": "stream",
     "text": [
      "--------------------------------------------------------------------------------\n",
      "DATALOADER:0 TEST RESULTS\n",
      "{'ECE/test': 0.11220453318845369,\n",
      " 'accuracy/test': 0.8595401547346627,\n",
      " 'fscore/test': 0.8531069666409858,\n",
      " 'fscore_test': 0.8531069666409858,\n",
      " 'loss/test': tensor(0.9308),\n",
      " 'loss_test': tensor(0.9308),\n",
      " 'precision/test': 0.8688302570240571,\n",
      " 'recall/test': 0.8595401547346627}\n",
      "--------------------------------------------------------------------------------\n",
      "\n",
      "found checkpoint: /home/hugo/lab/instrument-recognition/test-tubes/transformer-search/seed=12_rnn=xfmr-4_recurrence_num_layers=2_/version_0/checkpoints/epoch=64-fscore_val=0.94.ckpt\n",
      "found checkpoint: /home/hugo/lab/instrument-recognition/test-tubes/transformer-search/seed=12_rnn=xfmr-4_recurrence_num_layers=2_/version_0/checkpoints/epoch=64-fscore_val=0.94.ckpt\n",
      "/home/hugo/lab/instrument-recognition/test-tubes/transformer-search/seed=12_rnn=xfmr-4_recurrence_num_layers=2_/version_0\n",
      "/home/hugo/lab/instrument-recognition/test-tubes/transformer-search/seed=12_rnn=xfmr-4_recurrence_num_layers=2_/version_0/checkpoints/epoch=64-fscore_val=0.94.ckpt\n"
     ]
    },
    {
     "name": "stderr",
     "output_type": "stream",
     "text": [
      " 53%|█████▎    | 2763/5208 [00:00<00:00, 27623.44it/s]"
     ]
    },
    {
     "name": "stdout",
     "output_type": "stream",
     "text": [
      "loading metadata from /home/hugo/lab/instrument-recognition/data/mdb-solos-train-soundscapes/train...\n"
     ]
    },
    {
     "name": "stderr",
     "output_type": "stream",
     "text": [
      "100%|██████████| 5208/5208 [00:00<00:00, 24250.35it/s]\n",
      "  0%|          | 0/12236 [00:00<?, ?it/s]"
     ]
    },
    {
     "name": "stdout",
     "output_type": "stream",
     "text": [
      "found 5208 entries\n",
      "{'trumpet': 1965, 'clarinet': 1966, 'tenor saxophone': 1914, 'piano': 1941, 'violin': 1948, 'female singer': 2011, 'flute': 1932, 'distorted electric guitar': 1945}\n",
      "loading metadata from /home/hugo/lab/instrument-recognition/data/mdb-solos-train-soundscapes/test...\n"
     ]
    },
    {
     "name": "stderr",
     "output_type": "stream",
     "text": [
      "100%|██████████| 12236/12236 [00:04<00:00, 2510.73it/s]\n",
      " 72%|███████▏  | 2528/3494 [00:00<00:00, 25273.70it/s]"
     ]
    },
    {
     "name": "stdout",
     "output_type": "stream",
     "text": [
      "found 12236 entries\n",
      "{'clarinet': 732, 'piano': 2609, 'violin': 2900, 'tenor saxophone': 325, 'flute': 3167, 'distorted electric guitar': 955, 'female singer': 1142, 'trumpet': 406}\n",
      "loading metadata from /home/hugo/lab/instrument-recognition/data/mdb-solos-train-soundscapes/validation...\n"
     ]
    },
    {
     "name": "stderr",
     "output_type": "stream",
     "text": [
      "100%|██████████| 3494/3494 [00:00<00:00, 24422.43it/s]\n",
      "/home/hugo/lab/venv/lib/python3.8/site-packages/pytorch_lightning/utilities/distributed.py:45: UserWarning: Checkpoint directory /home/hugo/lab/instrument-recognition/test-tubes/transformer-search/seed=12_rnn=xfmr-4_recurrence_num_layers=2_/version_0/checkpoints exists and is not empty. With save_top_k=3, all files in this directory will be deleted when a checkpoint is saved!\n",
      "  warnings.warn(*args, **kwargs)\n",
      "GPU available: True, used: False\n",
      "TPU available: False, using: 0 TPU cores\n"
     ]
    },
    {
     "name": "stdout",
     "output_type": "stream",
     "text": [
      "found 3494 entries\n",
      "{'clarinet': 328, 'piano': 1022, 'flute': 233, 'female singer': 284, 'tenor saxophone': 29, 'violin': 1031, 'distorted electric guitar': 495, 'trumpet': 72}\n",
      "train entries: 5208\n",
      "val entries: 3494\n",
      "found checkpoint: /home/hugo/lab/instrument-recognition/test-tubes/transformer-search/seed=12_rnn=xfmr-4_recurrence_num_layers=2_/version_0/checkpoints/epoch=64-fscore_val=0.94.ckpt\n"
     ]
    },
    {
     "data": {
      "application/vnd.jupyter.widget-view+json": {
       "model_id": "d2a28be7d26f4113a65aa66908951469",
       "version_major": 2,
       "version_minor": 0
      },
      "text/plain": [
       "HBox(children=(HTML(value='Testing'), FloatProgress(value=1.0, bar_style='info', layout=Layout(flex='2'), max=…"
      ]
     },
     "metadata": {},
     "output_type": "display_data"
    },
    {
     "name": "stdout",
     "output_type": "stream",
     "text": [
      "--------------------------------------------------------------------------------\n",
      "DATALOADER:0 TEST RESULTS\n",
      "{'ECE/test': 0.13336497340324951,\n",
      " 'accuracy/test': 0.8421869892121608,\n",
      " 'fscore/test': 0.8331166779318397,\n",
      " 'fscore_test': 0.8331166779318397,\n",
      " 'loss/test': tensor(1.2982),\n",
      " 'loss_test': tensor(1.2982),\n",
      " 'precision/test': 0.8639257795483787,\n",
      " 'recall/test': 0.8421869892121608}\n",
      "--------------------------------------------------------------------------------\n",
      "\n",
      "found checkpoint: /home/hugo/lab/instrument-recognition/test-tubes/transformer-search/seed=433_rnn=xfmr-32_recurrence_num_layers=8_/version_0/checkpoints/epoch=21-fscore_val=0.92.ckpt\n",
      "found checkpoint: /home/hugo/lab/instrument-recognition/test-tubes/transformer-search/seed=433_rnn=xfmr-32_recurrence_num_layers=8_/version_0/checkpoints/epoch=21-fscore_val=0.92.ckpt\n",
      "/home/hugo/lab/instrument-recognition/test-tubes/transformer-search/seed=433_rnn=xfmr-32_recurrence_num_layers=8_/version_0\n",
      "/home/hugo/lab/instrument-recognition/test-tubes/transformer-search/seed=433_rnn=xfmr-32_recurrence_num_layers=8_/version_0/checkpoints/epoch=21-fscore_val=0.92.ckpt\n"
     ]
    },
    {
     "name": "stderr",
     "output_type": "stream",
     "text": [
      " 42%|████▏     | 2174/5208 [00:00<00:00, 21735.31it/s]"
     ]
    },
    {
     "name": "stdout",
     "output_type": "stream",
     "text": [
      "loading metadata from /home/hugo/lab/instrument-recognition/data/mdb-solos-train-soundscapes/train...\n"
     ]
    },
    {
     "name": "stderr",
     "output_type": "stream",
     "text": [
      "100%|██████████| 5208/5208 [00:00<00:00, 21042.75it/s]\n",
      "  0%|          | 0/12236 [00:00<?, ?it/s]"
     ]
    },
    {
     "name": "stdout",
     "output_type": "stream",
     "text": [
      "found 5208 entries\n",
      "{'trumpet': 1965, 'clarinet': 1966, 'tenor saxophone': 1914, 'piano': 1941, 'violin': 1948, 'female singer': 2011, 'flute': 1932, 'distorted electric guitar': 1945}\n",
      "loading metadata from /home/hugo/lab/instrument-recognition/data/mdb-solos-train-soundscapes/test...\n"
     ]
    },
    {
     "name": "stderr",
     "output_type": "stream",
     "text": [
      "100%|██████████| 12236/12236 [00:00<00:00, 25781.98it/s]\n",
      "100%|██████████| 3494/3494 [00:00<00:00, 30231.24it/s]\n",
      "/home/hugo/lab/venv/lib/python3.8/site-packages/pytorch_lightning/utilities/distributed.py:45: UserWarning: Checkpoint directory /home/hugo/lab/instrument-recognition/test-tubes/transformer-search/seed=433_rnn=xfmr-32_recurrence_num_layers=8_/version_0/checkpoints exists and is not empty. With save_top_k=3, all files in this directory will be deleted when a checkpoint is saved!\n",
      "  warnings.warn(*args, **kwargs)\n",
      "GPU available: True, used: False\n"
     ]
    },
    {
     "name": "stdout",
     "output_type": "stream",
     "text": [
      "found 12236 entries\n",
      "{'clarinet': 732, 'piano': 2609, 'violin': 2900, 'tenor saxophone': 325, 'flute': 3167, 'distorted electric guitar': 955, 'female singer': 1142, 'trumpet': 406}\n",
      "loading metadata from /home/hugo/lab/instrument-recognition/data/mdb-solos-train-soundscapes/validation...\n",
      "found 3494 entries\n",
      "{'clarinet': 328, 'piano': 1022, 'flute': 233, 'female singer': 284, 'tenor saxophone': 29, 'violin': 1031, 'distorted electric guitar': 495, 'trumpet': 72}\n",
      "train entries: 5208\n",
      "val entries: 3494\n",
      "found checkpoint: /home/hugo/lab/instrument-recognition/test-tubes/transformer-search/seed=433_rnn=xfmr-32_recurrence_num_layers=8_/version_0/checkpoints/epoch=21-fscore_val=0.92.ckpt\n"
     ]
    },
    {
     "name": "stderr",
     "output_type": "stream",
     "text": [
      "TPU available: False, using: 0 TPU cores\n"
     ]
    },
    {
     "data": {
      "application/vnd.jupyter.widget-view+json": {
       "model_id": "715c71fc061f42c5afdc52af83ca7a8f",
       "version_major": 2,
       "version_minor": 0
      },
      "text/plain": [
       "HBox(children=(HTML(value='Testing'), FloatProgress(value=1.0, bar_style='info', layout=Layout(flex='2'), max=…"
      ]
     },
     "metadata": {},
     "output_type": "display_data"
    },
    {
     "name": "stdout",
     "output_type": "stream",
     "text": [
      "--------------------------------------------------------------------------------\n",
      "DATALOADER:0 TEST RESULTS\n",
      "{'ECE/test': 0.14061432084990338,\n",
      " 'accuracy/test': 0.8329791870981802,\n",
      " 'fscore/test': 0.8214469961564295,\n",
      " 'fscore_test': 0.8214469961564295,\n",
      " 'loss/test': tensor(1.0697),\n",
      " 'loss_test': tensor(1.0697),\n",
      " 'precision/test': 0.8434243026144581,\n",
      " 'recall/test': 0.8329791870981802}\n",
      "--------------------------------------------------------------------------------\n",
      "\n",
      "found checkpoint: /home/hugo/lab/instrument-recognition/test-tubes/transformer-search/seed=23_rnn=xfmr-64_recurrence_num_layers=8_/version_0/checkpoints/epoch=09-fscore_val=0.92.ckpt\n",
      "found checkpoint: /home/hugo/lab/instrument-recognition/test-tubes/transformer-search/seed=23_rnn=xfmr-64_recurrence_num_layers=8_/version_0/checkpoints/epoch=09-fscore_val=0.92.ckpt\n",
      "/home/hugo/lab/instrument-recognition/test-tubes/transformer-search/seed=23_rnn=xfmr-64_recurrence_num_layers=8_/version_0\n",
      "/home/hugo/lab/instrument-recognition/test-tubes/transformer-search/seed=23_rnn=xfmr-64_recurrence_num_layers=8_/version_0/checkpoints/epoch=09-fscore_val=0.92.ckpt\n"
     ]
    },
    {
     "name": "stderr",
     "output_type": "stream",
     "text": [
      " 41%|████      | 2130/5208 [00:00<00:00, 21299.97it/s]"
     ]
    },
    {
     "name": "stdout",
     "output_type": "stream",
     "text": [
      "loading metadata from /home/hugo/lab/instrument-recognition/data/mdb-solos-train-soundscapes/train...\n"
     ]
    },
    {
     "name": "stderr",
     "output_type": "stream",
     "text": [
      "100%|██████████| 5208/5208 [00:00<00:00, 22621.15it/s]\n",
      "  0%|          | 0/12236 [00:00<?, ?it/s]"
     ]
    },
    {
     "name": "stdout",
     "output_type": "stream",
     "text": [
      "found 5208 entries\n",
      "{'trumpet': 1965, 'clarinet': 1966, 'tenor saxophone': 1914, 'piano': 1941, 'violin': 1948, 'female singer': 2011, 'flute': 1932, 'distorted electric guitar': 1945}\n",
      "loading metadata from /home/hugo/lab/instrument-recognition/data/mdb-solos-train-soundscapes/test...\n"
     ]
    },
    {
     "name": "stderr",
     "output_type": "stream",
     "text": [
      "100%|██████████| 12236/12236 [00:00<00:00, 28291.43it/s]\n",
      "100%|██████████| 3494/3494 [00:00<00:00, 32714.31it/s]\n",
      "/home/hugo/lab/venv/lib/python3.8/site-packages/pytorch_lightning/utilities/distributed.py:45: UserWarning: Checkpoint directory /home/hugo/lab/instrument-recognition/test-tubes/transformer-search/seed=23_rnn=xfmr-64_recurrence_num_layers=8_/version_0/checkpoints exists and is not empty. With save_top_k=3, all files in this directory will be deleted when a checkpoint is saved!\n",
      "  warnings.warn(*args, **kwargs)\n",
      "GPU available: True, used: False\n"
     ]
    },
    {
     "name": "stdout",
     "output_type": "stream",
     "text": [
      "found 12236 entries\n",
      "{'clarinet': 732, 'piano': 2609, 'violin': 2900, 'tenor saxophone': 325, 'flute': 3167, 'distorted electric guitar': 955, 'female singer': 1142, 'trumpet': 406}\n",
      "loading metadata from /home/hugo/lab/instrument-recognition/data/mdb-solos-train-soundscapes/validation...\n",
      "found 3494 entries\n",
      "{'clarinet': 328, 'piano': 1022, 'flute': 233, 'female singer': 284, 'tenor saxophone': 29, 'violin': 1031, 'distorted electric guitar': 495, 'trumpet': 72}\n",
      "train entries: 5208\n",
      "val entries: 3494\n",
      "found checkpoint: /home/hugo/lab/instrument-recognition/test-tubes/transformer-search/seed=23_rnn=xfmr-64_recurrence_num_layers=8_/version_0/checkpoints/epoch=09-fscore_val=0.92.ckpt\n"
     ]
    },
    {
     "name": "stderr",
     "output_type": "stream",
     "text": [
      "TPU available: False, using: 0 TPU cores\n"
     ]
    },
    {
     "data": {
      "application/vnd.jupyter.widget-view+json": {
       "model_id": "656c69413abb4de1b7e10d9ea2e9c9e9",
       "version_major": 2,
       "version_minor": 0
      },
      "text/plain": [
       "HBox(children=(HTML(value='Testing'), FloatProgress(value=1.0, bar_style='info', layout=Layout(flex='2'), max=…"
      ]
     },
     "metadata": {},
     "output_type": "display_data"
    },
    {
     "name": "stdout",
     "output_type": "stream",
     "text": [
      "--------------------------------------------------------------------------------\n",
      "DATALOADER:0 TEST RESULTS\n",
      "{'ECE/test': 0.15195388212139163,\n",
      " 'accuracy/test': 0.8180233191674839,\n",
      " 'fscore/test': 0.8050657013482396,\n",
      " 'fscore_test': 0.8050657013482396,\n",
      " 'loss/test': tensor(1.2082),\n",
      " 'loss_test': tensor(1.2082),\n",
      " 'precision/test': 0.8462670861773743,\n",
      " 'recall/test': 0.8180233191674839}\n",
      "--------------------------------------------------------------------------------\n",
      "\n",
      "found checkpoint: /home/hugo/lab/instrument-recognition/test-tubes/transformer-search/seed=23_rnn=xfmr-4_recurrence_num_layers=6_/version_0/checkpoints/epoch=27-fscore_val=0.93.ckpt\n",
      "found checkpoint: /home/hugo/lab/instrument-recognition/test-tubes/transformer-search/seed=23_rnn=xfmr-4_recurrence_num_layers=6_/version_0/checkpoints/epoch=27-fscore_val=0.93.ckpt\n",
      "/home/hugo/lab/instrument-recognition/test-tubes/transformer-search/seed=23_rnn=xfmr-4_recurrence_num_layers=6_/version_0\n",
      "/home/hugo/lab/instrument-recognition/test-tubes/transformer-search/seed=23_rnn=xfmr-4_recurrence_num_layers=6_/version_0/checkpoints/epoch=27-fscore_val=0.93.ckpt\n"
     ]
    },
    {
     "name": "stderr",
     "output_type": "stream",
     "text": [
      " 49%|████▊     | 2526/5208 [00:00<00:00, 25253.34it/s]"
     ]
    },
    {
     "name": "stdout",
     "output_type": "stream",
     "text": [
      "loading metadata from /home/hugo/lab/instrument-recognition/data/mdb-solos-train-soundscapes/train...\n"
     ]
    },
    {
     "name": "stderr",
     "output_type": "stream",
     "text": [
      "100%|██████████| 5208/5208 [00:00<00:00, 23022.26it/s]\n",
      "  0%|          | 0/12236 [00:00<?, ?it/s]"
     ]
    },
    {
     "name": "stdout",
     "output_type": "stream",
     "text": [
      "found 5208 entries\n",
      "{'trumpet': 1965, 'clarinet': 1966, 'tenor saxophone': 1914, 'piano': 1941, 'violin': 1948, 'female singer': 2011, 'flute': 1932, 'distorted electric guitar': 1945}\n",
      "loading metadata from /home/hugo/lab/instrument-recognition/data/mdb-solos-train-soundscapes/test...\n"
     ]
    },
    {
     "name": "stderr",
     "output_type": "stream",
     "text": [
      "100%|██████████| 12236/12236 [00:00<00:00, 30085.34it/s]\n",
      "100%|██████████| 3494/3494 [00:00<00:00, 30959.50it/s]\n"
     ]
    },
    {
     "name": "stdout",
     "output_type": "stream",
     "text": [
      "found 12236 entries\n",
      "{'clarinet': 732, 'piano': 2609, 'violin': 2900, 'tenor saxophone': 325, 'flute': 3167, 'distorted electric guitar': 955, 'female singer': 1142, 'trumpet': 406}\n",
      "loading metadata from /home/hugo/lab/instrument-recognition/data/mdb-solos-train-soundscapes/validation...\n",
      "found 3494 entries\n",
      "{'clarinet': 328, 'piano': 1022, 'flute': 233, 'female singer': 284, 'tenor saxophone': 29, 'violin': 1031, 'distorted electric guitar': 495, 'trumpet': 72}\n",
      "train entries: 5208\n",
      "val entries: 3494\n"
     ]
    },
    {
     "name": "stderr",
     "output_type": "stream",
     "text": [
      "/home/hugo/lab/venv/lib/python3.8/site-packages/pytorch_lightning/utilities/distributed.py:45: UserWarning: Checkpoint directory /home/hugo/lab/instrument-recognition/test-tubes/transformer-search/seed=23_rnn=xfmr-4_recurrence_num_layers=6_/version_0/checkpoints exists and is not empty. With save_top_k=3, all files in this directory will be deleted when a checkpoint is saved!\n",
      "  warnings.warn(*args, **kwargs)\n",
      "GPU available: True, used: False\n",
      "TPU available: False, using: 0 TPU cores\n"
     ]
    },
    {
     "name": "stdout",
     "output_type": "stream",
     "text": [
      "found checkpoint: /home/hugo/lab/instrument-recognition/test-tubes/transformer-search/seed=23_rnn=xfmr-4_recurrence_num_layers=6_/version_0/checkpoints/epoch=27-fscore_val=0.93.ckpt\n"
     ]
    },
    {
     "data": {
      "application/vnd.jupyter.widget-view+json": {
       "model_id": "99d9d03f0dd44cadaa902696da152e0e",
       "version_major": 2,
       "version_minor": 0
      },
      "text/plain": [
       "HBox(children=(HTML(value='Testing'), FloatProgress(value=1.0, bar_style='info', layout=Layout(flex='2'), max=…"
      ]
     },
     "metadata": {},
     "output_type": "display_data"
    },
    {
     "name": "stdout",
     "output_type": "stream",
     "text": [
      "--------------------------------------------------------------------------------\n",
      "DATALOADER:0 TEST RESULTS\n",
      "{'ECE/test': 0.1355005941982231,\n",
      " 'accuracy/test': 0.8369292797210417,\n",
      " 'fscore/test': 0.8262677849550747,\n",
      " 'fscore_test': 0.8262677849550747,\n",
      " 'loss/test': tensor(1.0343),\n",
      " 'loss_test': tensor(1.0343),\n",
      " 'precision/test': 0.8617474152169055,\n",
      " 'recall/test': 0.8369292797210417}\n",
      "--------------------------------------------------------------------------------\n",
      "\n",
      "found checkpoint: /home/hugo/lab/instrument-recognition/test-tubes/transformer-search/seed=433_rnn=xfmr-64_recurrence_num_layers=8_/version_0/checkpoints/epoch=09-fscore_val=0.92.ckpt\n",
      "found checkpoint: /home/hugo/lab/instrument-recognition/test-tubes/transformer-search/seed=433_rnn=xfmr-64_recurrence_num_layers=8_/version_0/checkpoints/epoch=09-fscore_val=0.92.ckpt\n",
      "/home/hugo/lab/instrument-recognition/test-tubes/transformer-search/seed=433_rnn=xfmr-64_recurrence_num_layers=8_/version_0\n",
      "/home/hugo/lab/instrument-recognition/test-tubes/transformer-search/seed=433_rnn=xfmr-64_recurrence_num_layers=8_/version_0/checkpoints/epoch=09-fscore_val=0.92.ckpt\n"
     ]
    },
    {
     "name": "stderr",
     "output_type": "stream",
     "text": [
      " 45%|████▌     | 2368/5208 [00:00<00:00, 23676.13it/s]"
     ]
    },
    {
     "name": "stdout",
     "output_type": "stream",
     "text": [
      "loading metadata from /home/hugo/lab/instrument-recognition/data/mdb-solos-train-soundscapes/train...\n"
     ]
    },
    {
     "name": "stderr",
     "output_type": "stream",
     "text": [
      "100%|██████████| 5208/5208 [00:00<00:00, 22979.47it/s]\n",
      "  0%|          | 0/12236 [00:00<?, ?it/s]"
     ]
    },
    {
     "name": "stdout",
     "output_type": "stream",
     "text": [
      "found 5208 entries\n",
      "{'trumpet': 1965, 'clarinet': 1966, 'tenor saxophone': 1914, 'piano': 1941, 'violin': 1948, 'female singer': 2011, 'flute': 1932, 'distorted electric guitar': 1945}\n",
      "loading metadata from /home/hugo/lab/instrument-recognition/data/mdb-solos-train-soundscapes/test...\n"
     ]
    },
    {
     "name": "stderr",
     "output_type": "stream",
     "text": [
      "100%|██████████| 12236/12236 [00:00<00:00, 27541.61it/s]\n",
      "100%|██████████| 3494/3494 [00:00<00:00, 26690.94it/s]\n",
      "/home/hugo/lab/venv/lib/python3.8/site-packages/pytorch_lightning/utilities/distributed.py:45: UserWarning: Checkpoint directory /home/hugo/lab/instrument-recognition/test-tubes/transformer-search/seed=433_rnn=xfmr-64_recurrence_num_layers=8_/version_0/checkpoints exists and is not empty. With save_top_k=3, all files in this directory will be deleted when a checkpoint is saved!\n",
      "  warnings.warn(*args, **kwargs)\n",
      "GPU available: True, used: False\n",
      "TPU available: False, using: 0 TPU cores\n"
     ]
    },
    {
     "name": "stdout",
     "output_type": "stream",
     "text": [
      "found 12236 entries\n",
      "{'clarinet': 732, 'piano': 2609, 'violin': 2900, 'tenor saxophone': 325, 'flute': 3167, 'distorted electric guitar': 955, 'female singer': 1142, 'trumpet': 406}\n",
      "loading metadata from /home/hugo/lab/instrument-recognition/data/mdb-solos-train-soundscapes/validation...\n",
      "found 3494 entries\n",
      "{'clarinet': 328, 'piano': 1022, 'flute': 233, 'female singer': 284, 'tenor saxophone': 29, 'violin': 1031, 'distorted electric guitar': 495, 'trumpet': 72}\n",
      "train entries: 5208\n",
      "val entries: 3494\n",
      "found checkpoint: /home/hugo/lab/instrument-recognition/test-tubes/transformer-search/seed=433_rnn=xfmr-64_recurrence_num_layers=8_/version_0/checkpoints/epoch=09-fscore_val=0.92.ckpt\n"
     ]
    },
    {
     "data": {
      "application/vnd.jupyter.widget-view+json": {
       "model_id": "e0e9e6bb6cc1419e8861d32c43e8f3c2",
       "version_major": 2,
       "version_minor": 0
      },
      "text/plain": [
       "HBox(children=(HTML(value='Testing'), FloatProgress(value=1.0, bar_style='info', layout=Layout(flex='2'), max=…"
      ]
     },
     "metadata": {},
     "output_type": "display_data"
    },
    {
     "name": "stdout",
     "output_type": "stream",
     "text": [
      "--------------------------------------------------------------------------------\n",
      "DATALOADER:0 TEST RESULTS\n",
      "{'ECE/test': 0.14221967385802334,\n",
      " 'accuracy/test': 0.8224092840797647,\n",
      " 'fscore/test': 0.8090097944218526,\n",
      " 'fscore_test': 0.8090097944218526,\n",
      " 'loss/test': tensor(1.0610),\n",
      " 'loss_test': tensor(1.0610),\n",
      " 'precision/test': 0.8424308865557916,\n",
      " 'recall/test': 0.8224092840797647}\n",
      "--------------------------------------------------------------------------------\n",
      "\n",
      "reading /home/hugo/lab/instrument-recognition/test-tubes/transformer-search/transformer-search/version_0 failed\n",
      "found checkpoint: /home/hugo/lab/instrument-recognition/test-tubes/transformer-search/seed=433_rnn=xfmr-64_recurrence_num_layers=4_/version_0/checkpoints/epoch=04-fscore_val=0.93.ckpt\n",
      "found checkpoint: /home/hugo/lab/instrument-recognition/test-tubes/transformer-search/seed=433_rnn=xfmr-64_recurrence_num_layers=4_/version_0/checkpoints/epoch=04-fscore_val=0.93.ckpt\n",
      "/home/hugo/lab/instrument-recognition/test-tubes/transformer-search/seed=433_rnn=xfmr-64_recurrence_num_layers=4_/version_0\n",
      "/home/hugo/lab/instrument-recognition/test-tubes/transformer-search/seed=433_rnn=xfmr-64_recurrence_num_layers=4_/version_0/checkpoints/epoch=04-fscore_val=0.93.ckpt\n"
     ]
    },
    {
     "name": "stderr",
     "output_type": "stream",
     "text": [
      " 50%|████▉     | 2598/5208 [00:00<00:00, 25967.33it/s]"
     ]
    },
    {
     "name": "stdout",
     "output_type": "stream",
     "text": [
      "loading metadata from /home/hugo/lab/instrument-recognition/data/mdb-solos-train-soundscapes/train...\n"
     ]
    },
    {
     "name": "stderr",
     "output_type": "stream",
     "text": [
      "100%|██████████| 5208/5208 [00:00<00:00, 25198.66it/s]\n",
      "  0%|          | 0/12236 [00:00<?, ?it/s]"
     ]
    },
    {
     "name": "stdout",
     "output_type": "stream",
     "text": [
      "found 5208 entries\n",
      "{'trumpet': 1965, 'clarinet': 1966, 'tenor saxophone': 1914, 'piano': 1941, 'violin': 1948, 'female singer': 2011, 'flute': 1932, 'distorted electric guitar': 1945}\n",
      "loading metadata from /home/hugo/lab/instrument-recognition/data/mdb-solos-train-soundscapes/test...\n"
     ]
    },
    {
     "name": "stderr",
     "output_type": "stream",
     "text": [
      "100%|██████████| 12236/12236 [00:00<00:00, 28169.99it/s]\n",
      "100%|██████████| 3494/3494 [00:00<00:00, 33136.99it/s]\n",
      "/home/hugo/lab/venv/lib/python3.8/site-packages/pytorch_lightning/utilities/distributed.py:45: UserWarning: Checkpoint directory /home/hugo/lab/instrument-recognition/test-tubes/transformer-search/seed=433_rnn=xfmr-64_recurrence_num_layers=4_/version_0/checkpoints exists and is not empty. With save_top_k=3, all files in this directory will be deleted when a checkpoint is saved!\n",
      "  warnings.warn(*args, **kwargs)\n",
      "GPU available: True, used: False\n",
      "TPU available: False, using: 0 TPU cores\n"
     ]
    },
    {
     "name": "stdout",
     "output_type": "stream",
     "text": [
      "found 12236 entries\n",
      "{'clarinet': 732, 'piano': 2609, 'violin': 2900, 'tenor saxophone': 325, 'flute': 3167, 'distorted electric guitar': 955, 'female singer': 1142, 'trumpet': 406}\n",
      "loading metadata from /home/hugo/lab/instrument-recognition/data/mdb-solos-train-soundscapes/validation...\n",
      "found 3494 entries\n",
      "{'clarinet': 328, 'piano': 1022, 'flute': 233, 'female singer': 284, 'tenor saxophone': 29, 'violin': 1031, 'distorted electric guitar': 495, 'trumpet': 72}\n",
      "train entries: 5208\n",
      "val entries: 3494\n",
      "found checkpoint: /home/hugo/lab/instrument-recognition/test-tubes/transformer-search/seed=433_rnn=xfmr-64_recurrence_num_layers=4_/version_0/checkpoints/epoch=04-fscore_val=0.93.ckpt\n"
     ]
    },
    {
     "data": {
      "application/vnd.jupyter.widget-view+json": {
       "model_id": "26897fd06d7c448d9e0f33db102a1925",
       "version_major": 2,
       "version_minor": 0
      },
      "text/plain": [
       "HBox(children=(HTML(value='Testing'), FloatProgress(value=1.0, bar_style='info', layout=Layout(flex='2'), max=…"
      ]
     },
     "metadata": {},
     "output_type": "display_data"
    },
    {
     "name": "stdout",
     "output_type": "stream",
     "text": [
      "--------------------------------------------------------------------------------\n",
      "DATALOADER:0 TEST RESULTS\n",
      "{'ECE/test': 0.1309639576128771,\n",
      " 'accuracy/test': 0.823744142966111,\n",
      " 'fscore/test': 0.8096820209452802,\n",
      " 'fscore_test': 0.8096820209452802,\n",
      " 'loss/test': tensor(0.9749),\n",
      " 'loss_test': tensor(0.9749),\n",
      " 'precision/test': 0.8467054730044558,\n",
      " 'recall/test': 0.823744142966111}\n",
      "--------------------------------------------------------------------------------\n",
      "\n",
      "found checkpoint: /home/hugo/lab/instrument-recognition/test-tubes/transformer-search/seed=12_rnn=xfmr-1_recurrence_num_layers=6_/version_0/checkpoints/epoch=19-fscore_val=0.92.ckpt\n",
      "found checkpoint: /home/hugo/lab/instrument-recognition/test-tubes/transformer-search/seed=12_rnn=xfmr-1_recurrence_num_layers=6_/version_0/checkpoints/epoch=19-fscore_val=0.92.ckpt\n",
      "/home/hugo/lab/instrument-recognition/test-tubes/transformer-search/seed=12_rnn=xfmr-1_recurrence_num_layers=6_/version_0\n",
      "/home/hugo/lab/instrument-recognition/test-tubes/transformer-search/seed=12_rnn=xfmr-1_recurrence_num_layers=6_/version_0/checkpoints/epoch=19-fscore_val=0.92.ckpt\n"
     ]
    },
    {
     "name": "stderr",
     "output_type": "stream",
     "text": [
      " 44%|████▍     | 2283/5208 [00:00<00:00, 22826.97it/s]"
     ]
    },
    {
     "name": "stdout",
     "output_type": "stream",
     "text": [
      "loading metadata from /home/hugo/lab/instrument-recognition/data/mdb-solos-train-soundscapes/train...\n"
     ]
    },
    {
     "name": "stderr",
     "output_type": "stream",
     "text": [
      "100%|██████████| 5208/5208 [00:00<00:00, 25727.53it/s]\n",
      " 24%|██▎       | 2879/12236 [00:00<00:00, 28789.34it/s]"
     ]
    },
    {
     "name": "stdout",
     "output_type": "stream",
     "text": [
      "found 5208 entries\n",
      "{'trumpet': 1965, 'clarinet': 1966, 'tenor saxophone': 1914, 'piano': 1941, 'violin': 1948, 'female singer': 2011, 'flute': 1932, 'distorted electric guitar': 1945}\n",
      "loading metadata from /home/hugo/lab/instrument-recognition/data/mdb-solos-train-soundscapes/test...\n"
     ]
    },
    {
     "name": "stderr",
     "output_type": "stream",
     "text": [
      "100%|██████████| 12236/12236 [00:00<00:00, 27202.02it/s]\n",
      " 73%|███████▎  | 2553/3494 [00:00<00:00, 25525.89it/s]"
     ]
    },
    {
     "name": "stdout",
     "output_type": "stream",
     "text": [
      "found 12236 entries\n",
      "{'clarinet': 732, 'piano': 2609, 'violin': 2900, 'tenor saxophone': 325, 'flute': 3167, 'distorted electric guitar': 955, 'female singer': 1142, 'trumpet': 406}\n",
      "loading metadata from /home/hugo/lab/instrument-recognition/data/mdb-solos-train-soundscapes/validation...\n"
     ]
    },
    {
     "name": "stderr",
     "output_type": "stream",
     "text": [
      "100%|██████████| 3494/3494 [00:00<00:00, 25537.41it/s]\n",
      "/home/hugo/lab/venv/lib/python3.8/site-packages/pytorch_lightning/utilities/distributed.py:45: UserWarning: Checkpoint directory /home/hugo/lab/instrument-recognition/test-tubes/transformer-search/seed=12_rnn=xfmr-1_recurrence_num_layers=6_/version_0/checkpoints exists and is not empty. With save_top_k=3, all files in this directory will be deleted when a checkpoint is saved!\n",
      "  warnings.warn(*args, **kwargs)\n",
      "GPU available: True, used: False\n",
      "TPU available: False, using: 0 TPU cores\n"
     ]
    },
    {
     "name": "stdout",
     "output_type": "stream",
     "text": [
      "found 3494 entries\n",
      "{'clarinet': 328, 'piano': 1022, 'flute': 233, 'female singer': 284, 'tenor saxophone': 29, 'violin': 1031, 'distorted electric guitar': 495, 'trumpet': 72}\n",
      "train entries: 5208\n",
      "val entries: 3494\n",
      "found checkpoint: /home/hugo/lab/instrument-recognition/test-tubes/transformer-search/seed=12_rnn=xfmr-1_recurrence_num_layers=6_/version_0/checkpoints/epoch=19-fscore_val=0.92.ckpt\n"
     ]
    },
    {
     "data": {
      "application/vnd.jupyter.widget-view+json": {
       "model_id": "f6a7869ba26c4071ad2a77d957da3994",
       "version_major": 2,
       "version_minor": 0
      },
      "text/plain": [
       "HBox(children=(HTML(value='Testing'), FloatProgress(value=1.0, bar_style='info', layout=Layout(flex='2'), max=…"
      ]
     },
     "metadata": {},
     "output_type": "display_data"
    },
    {
     "name": "stdout",
     "output_type": "stream",
     "text": [
      "--------------------------------------------------------------------------------\n",
      "DATALOADER:0 TEST RESULTS\n",
      "{'ECE/test': 0.10555001200495734,\n",
      " 'accuracy/test': 0.8725345973629727,\n",
      " 'fscore/test': 0.8640883579225286,\n",
      " 'fscore_test': 0.8640883579225286,\n",
      " 'loss/test': tensor(0.8067),\n",
      " 'loss_test': tensor(0.8067),\n",
      " 'precision/test': 0.8790103881457353,\n",
      " 'recall/test': 0.8725345973629727}\n",
      "--------------------------------------------------------------------------------\n",
      "\n",
      "found checkpoint: /home/hugo/lab/instrument-recognition/test-tubes/transformer-search/seed=433_rnn=xfmr-16_recurrence_num_layers=6_/version_0/checkpoints/epoch=28-fscore_val=0.94.ckpt\n",
      "found checkpoint: /home/hugo/lab/instrument-recognition/test-tubes/transformer-search/seed=433_rnn=xfmr-16_recurrence_num_layers=6_/version_0/checkpoints/epoch=28-fscore_val=0.94.ckpt\n",
      "/home/hugo/lab/instrument-recognition/test-tubes/transformer-search/seed=433_rnn=xfmr-16_recurrence_num_layers=6_/version_0\n",
      "/home/hugo/lab/instrument-recognition/test-tubes/transformer-search/seed=433_rnn=xfmr-16_recurrence_num_layers=6_/version_0/checkpoints/epoch=28-fscore_val=0.94.ckpt\n"
     ]
    },
    {
     "name": "stderr",
     "output_type": "stream",
     "text": [
      " 45%|████▌     | 2363/5208 [00:00<00:00, 23624.84it/s]"
     ]
    },
    {
     "name": "stdout",
     "output_type": "stream",
     "text": [
      "loading metadata from /home/hugo/lab/instrument-recognition/data/mdb-solos-train-soundscapes/train...\n"
     ]
    },
    {
     "name": "stderr",
     "output_type": "stream",
     "text": [
      "100%|██████████| 5208/5208 [00:00<00:00, 22792.82it/s]\n",
      "  0%|          | 0/12236 [00:00<?, ?it/s]"
     ]
    },
    {
     "name": "stdout",
     "output_type": "stream",
     "text": [
      "found 5208 entries\n",
      "{'trumpet': 1965, 'clarinet': 1966, 'tenor saxophone': 1914, 'piano': 1941, 'violin': 1948, 'female singer': 2011, 'flute': 1932, 'distorted electric guitar': 1945}\n",
      "loading metadata from /home/hugo/lab/instrument-recognition/data/mdb-solos-train-soundscapes/test...\n"
     ]
    },
    {
     "name": "stderr",
     "output_type": "stream",
     "text": [
      "100%|██████████| 12236/12236 [00:00<00:00, 27710.03it/s]\n",
      "100%|██████████| 3494/3494 [00:00<00:00, 25190.71it/s]"
     ]
    },
    {
     "name": "stdout",
     "output_type": "stream",
     "text": [
      "found 12236 entries\n",
      "{'clarinet': 732, 'piano': 2609, 'violin': 2900, 'tenor saxophone': 325, 'flute': 3167, 'distorted electric guitar': 955, 'female singer': 1142, 'trumpet': 406}\n",
      "loading metadata from /home/hugo/lab/instrument-recognition/data/mdb-solos-train-soundscapes/validation...\n",
      "found 3494 entries\n",
      "{'clarinet': 328, 'piano': 1022, 'flute': 233, 'female singer': 284, 'tenor saxophone': 29, 'violin': 1031, 'distorted electric guitar': 495, 'trumpet': 72}"
     ]
    },
    {
     "name": "stderr",
     "output_type": "stream",
     "text": [
      "\n",
      "/home/hugo/lab/venv/lib/python3.8/site-packages/pytorch_lightning/utilities/distributed.py:45: UserWarning: Checkpoint directory /home/hugo/lab/instrument-recognition/test-tubes/transformer-search/seed=433_rnn=xfmr-16_recurrence_num_layers=6_/version_0/checkpoints exists and is not empty. With save_top_k=3, all files in this directory will be deleted when a checkpoint is saved!\n",
      "  warnings.warn(*args, **kwargs)\n",
      "GPU available: True, used: False\n",
      "TPU available: False, using: 0 TPU cores\n"
     ]
    },
    {
     "name": "stdout",
     "output_type": "stream",
     "text": [
      "\n",
      "train entries: 5208\n",
      "val entries: 3494\n",
      "found checkpoint: /home/hugo/lab/instrument-recognition/test-tubes/transformer-search/seed=433_rnn=xfmr-16_recurrence_num_layers=6_/version_0/checkpoints/epoch=28-fscore_val=0.94.ckpt\n"
     ]
    },
    {
     "data": {
      "application/vnd.jupyter.widget-view+json": {
       "model_id": "de573f3edc9741dab3ec60f7c84a4dff",
       "version_major": 2,
       "version_minor": 0
      },
      "text/plain": [
       "HBox(children=(HTML(value='Testing'), FloatProgress(value=1.0, bar_style='info', layout=Layout(flex='2'), max=…"
      ]
     },
     "metadata": {},
     "output_type": "display_data"
    },
    {
     "name": "stdout",
     "output_type": "stream",
     "text": [
      "--------------------------------------------------------------------------------\n",
      "DATALOADER:0 TEST RESULTS\n",
      "{'ECE/test': 0.15036064313948516,\n",
      " 'accuracy/test': 0.8244251934183284,\n",
      " 'fscore/test': 0.8128352962594848,\n",
      " 'fscore_test': 0.8128352962594848,\n",
      " 'loss/test': tensor(1.1651),\n",
      " 'loss_test': tensor(1.1651),\n",
      " 'precision/test': 0.8505826760890132,\n",
      " 'recall/test': 0.8244251934183284}\n",
      "--------------------------------------------------------------------------------\n",
      "\n",
      "found checkpoint: /home/hugo/lab/instrument-recognition/test-tubes/transformer-search/seed=23_rnn=xfmr-2_recurrence_num_layers=6_/version_0/checkpoints/epoch=14-fscore_val=0.92.ckpt\n",
      "found checkpoint: /home/hugo/lab/instrument-recognition/test-tubes/transformer-search/seed=23_rnn=xfmr-2_recurrence_num_layers=6_/version_0/checkpoints/epoch=14-fscore_val=0.92.ckpt\n",
      "/home/hugo/lab/instrument-recognition/test-tubes/transformer-search/seed=23_rnn=xfmr-2_recurrence_num_layers=6_/version_0\n",
      "/home/hugo/lab/instrument-recognition/test-tubes/transformer-search/seed=23_rnn=xfmr-2_recurrence_num_layers=6_/version_0/checkpoints/epoch=14-fscore_val=0.92.ckpt\n"
     ]
    },
    {
     "name": "stderr",
     "output_type": "stream",
     "text": [
      " 39%|███▉      | 2027/5208 [00:00<00:00, 20260.65it/s]"
     ]
    },
    {
     "name": "stdout",
     "output_type": "stream",
     "text": [
      "loading metadata from /home/hugo/lab/instrument-recognition/data/mdb-solos-train-soundscapes/train...\n"
     ]
    },
    {
     "name": "stderr",
     "output_type": "stream",
     "text": [
      "100%|██████████| 5208/5208 [00:00<00:00, 20692.01it/s]\n",
      "  0%|          | 0/12236 [00:00<?, ?it/s]"
     ]
    },
    {
     "name": "stdout",
     "output_type": "stream",
     "text": [
      "found 5208 entries\n",
      "{'trumpet': 1965, 'clarinet': 1966, 'tenor saxophone': 1914, 'piano': 1941, 'violin': 1948, 'female singer': 2011, 'flute': 1932, 'distorted electric guitar': 1945}\n",
      "loading metadata from /home/hugo/lab/instrument-recognition/data/mdb-solos-train-soundscapes/test...\n"
     ]
    },
    {
     "name": "stderr",
     "output_type": "stream",
     "text": [
      "100%|██████████| 12236/12236 [00:00<00:00, 30977.76it/s]\n",
      "100%|██████████| 3494/3494 [00:00<00:00, 29869.13it/s]\n",
      "/home/hugo/lab/venv/lib/python3.8/site-packages/pytorch_lightning/utilities/distributed.py:45: UserWarning: Checkpoint directory /home/hugo/lab/instrument-recognition/test-tubes/transformer-search/seed=23_rnn=xfmr-2_recurrence_num_layers=6_/version_0/checkpoints exists and is not empty. With save_top_k=3, all files in this directory will be deleted when a checkpoint is saved!\n",
      "  warnings.warn(*args, **kwargs)\n",
      "GPU available: True, used: False\n"
     ]
    },
    {
     "name": "stdout",
     "output_type": "stream",
     "text": [
      "found 12236 entries\n",
      "{'clarinet': 732, 'piano': 2609, 'violin': 2900, 'tenor saxophone': 325, 'flute': 3167, 'distorted electric guitar': 955, 'female singer': 1142, 'trumpet': 406}\n",
      "loading metadata from /home/hugo/lab/instrument-recognition/data/mdb-solos-train-soundscapes/validation...\n",
      "found 3494 entries\n",
      "{'clarinet': 328, 'piano': 1022, 'flute': 233, 'female singer': 284, 'tenor saxophone': 29, 'violin': 1031, 'distorted electric guitar': 495, 'trumpet': 72}\n",
      "train entries: 5208\n",
      "val entries: 3494\n",
      "found checkpoint: /home/hugo/lab/instrument-recognition/test-tubes/transformer-search/seed=23_rnn=xfmr-2_recurrence_num_layers=6_/version_0/checkpoints/epoch=14-fscore_val=0.92.ckpt\n"
     ]
    },
    {
     "name": "stderr",
     "output_type": "stream",
     "text": [
      "TPU available: False, using: 0 TPU cores\n"
     ]
    },
    {
     "data": {
      "application/vnd.jupyter.widget-view+json": {
       "model_id": "c7b2deef5a374ec98f31190b68b0dbe4",
       "version_major": 2,
       "version_minor": 0
      },
      "text/plain": [
       "HBox(children=(HTML(value='Testing'), FloatProgress(value=1.0, bar_style='info', layout=Layout(flex='2'), max=…"
      ]
     },
     "metadata": {},
     "output_type": "display_data"
    },
    {
     "name": "stdout",
     "output_type": "stream",
     "text": [
      "--------------------------------------------------------------------------------\n",
      "DATALOADER:0 TEST RESULTS\n",
      "{'ECE/test': 0.13140575801759835,\n",
      " 'accuracy/test': 0.838264138607388,\n",
      " 'fscore/test': 0.827533770084946,\n",
      " 'fscore_test': 0.827533770084946,\n",
      " 'loss/test': tensor(0.9338),\n",
      " 'loss_test': tensor(0.9338),\n",
      " 'precision/test': 0.8642813713506599,\n",
      " 'recall/test': 0.838264138607388}\n",
      "--------------------------------------------------------------------------------\n",
      "\n",
      "found checkpoint: /home/hugo/lab/instrument-recognition/test-tubes/transformer-search/seed=433_rnn=xfmr-32_recurrence_num_layers=1_/version_0/checkpoints/epoch=04-fscore_val=0.93.ckpt\n",
      "found checkpoint: /home/hugo/lab/instrument-recognition/test-tubes/transformer-search/seed=433_rnn=xfmr-32_recurrence_num_layers=1_/version_0/checkpoints/epoch=04-fscore_val=0.93.ckpt\n",
      "/home/hugo/lab/instrument-recognition/test-tubes/transformer-search/seed=433_rnn=xfmr-32_recurrence_num_layers=1_/version_0\n",
      "/home/hugo/lab/instrument-recognition/test-tubes/transformer-search/seed=433_rnn=xfmr-32_recurrence_num_layers=1_/version_0/checkpoints/epoch=04-fscore_val=0.93.ckpt\n"
     ]
    },
    {
     "name": "stderr",
     "output_type": "stream",
     "text": [
      " 55%|█████▌    | 2872/5208 [00:00<00:00, 28711.74it/s]"
     ]
    },
    {
     "name": "stdout",
     "output_type": "stream",
     "text": [
      "loading metadata from /home/hugo/lab/instrument-recognition/data/mdb-solos-train-soundscapes/train...\n"
     ]
    },
    {
     "name": "stderr",
     "output_type": "stream",
     "text": [
      "100%|██████████| 5208/5208 [00:00<00:00, 30684.34it/s]\n",
      " 25%|██▍       | 3019/12236 [00:00<00:00, 30174.71it/s]"
     ]
    },
    {
     "name": "stdout",
     "output_type": "stream",
     "text": [
      "found 5208 entries\n",
      "{'trumpet': 1965, 'clarinet': 1966, 'tenor saxophone': 1914, 'piano': 1941, 'violin': 1948, 'female singer': 2011, 'flute': 1932, 'distorted electric guitar': 1945}\n",
      "loading metadata from /home/hugo/lab/instrument-recognition/data/mdb-solos-train-soundscapes/test...\n"
     ]
    },
    {
     "name": "stderr",
     "output_type": "stream",
     "text": [
      "100%|██████████| 12236/12236 [00:00<00:00, 32811.87it/s]\n",
      "100%|██████████| 3494/3494 [00:00<00:00, 30009.13it/s]\n",
      "/home/hugo/lab/venv/lib/python3.8/site-packages/pytorch_lightning/utilities/distributed.py:45: UserWarning: Checkpoint directory /home/hugo/lab/instrument-recognition/test-tubes/transformer-search/seed=433_rnn=xfmr-32_recurrence_num_layers=1_/version_0/checkpoints exists and is not empty. With save_top_k=3, all files in this directory will be deleted when a checkpoint is saved!\n",
      "  warnings.warn(*args, **kwargs)\n",
      "GPU available: True, used: False\n",
      "TPU available: False, using: 0 TPU cores\n"
     ]
    },
    {
     "name": "stdout",
     "output_type": "stream",
     "text": [
      "found 12236 entries\n",
      "{'clarinet': 732, 'piano': 2609, 'violin': 2900, 'tenor saxophone': 325, 'flute': 3167, 'distorted electric guitar': 955, 'female singer': 1142, 'trumpet': 406}\n",
      "loading metadata from /home/hugo/lab/instrument-recognition/data/mdb-solos-train-soundscapes/validation...\n",
      "found 3494 entries\n",
      "{'clarinet': 328, 'piano': 1022, 'flute': 233, 'female singer': 284, 'tenor saxophone': 29, 'violin': 1031, 'distorted electric guitar': 495, 'trumpet': 72}\n",
      "train entries: 5208\n",
      "val entries: 3494\n",
      "found checkpoint: /home/hugo/lab/instrument-recognition/test-tubes/transformer-search/seed=433_rnn=xfmr-32_recurrence_num_layers=1_/version_0/checkpoints/epoch=04-fscore_val=0.93.ckpt\n"
     ]
    },
    {
     "data": {
      "application/vnd.jupyter.widget-view+json": {
       "model_id": "c008c01213924a87889394c15bb30147",
       "version_major": 2,
       "version_minor": 0
      },
      "text/plain": [
       "HBox(children=(HTML(value='Testing'), FloatProgress(value=1.0, bar_style='info', layout=Layout(flex='2'), max=…"
      ]
     },
     "metadata": {},
     "output_type": "display_data"
    },
    {
     "name": "stdout",
     "output_type": "stream",
     "text": [
      "--------------------------------------------------------------------------------\n",
      "DATALOADER:0 TEST RESULTS\n",
      "{'ECE/test': 0.11563956278646334,\n",
      " 'accuracy/test': 0.8449384330391195,\n",
      " 'fscore/test': 0.8336106736972545,\n",
      " 'fscore_test': 0.8336106736972545,\n",
      " 'loss/test': tensor(0.9091),\n",
      " 'loss_test': tensor(0.9091),\n",
      " 'precision/test': 0.8633610582785572,\n",
      " 'recall/test': 0.8449384330391195}\n",
      "--------------------------------------------------------------------------------\n",
      "\n",
      "found checkpoint: /home/hugo/lab/instrument-recognition/test-tubes/transformer-search/seed=11_rnn=xfmr-2_recurrence_num_layers=1_/version_0/checkpoints/epoch=04-fscore_val=0.92.ckpt\n",
      "found checkpoint: /home/hugo/lab/instrument-recognition/test-tubes/transformer-search/seed=11_rnn=xfmr-2_recurrence_num_layers=1_/version_0/checkpoints/epoch=04-fscore_val=0.92.ckpt\n",
      "/home/hugo/lab/instrument-recognition/test-tubes/transformer-search/seed=11_rnn=xfmr-2_recurrence_num_layers=1_/version_0\n",
      "/home/hugo/lab/instrument-recognition/test-tubes/transformer-search/seed=11_rnn=xfmr-2_recurrence_num_layers=1_/version_0/checkpoints/epoch=04-fscore_val=0.92.ckpt\n"
     ]
    },
    {
     "name": "stderr",
     "output_type": "stream",
     "text": [
      " 41%|████      | 2122/5208 [00:00<00:00, 21215.72it/s]"
     ]
    },
    {
     "name": "stdout",
     "output_type": "stream",
     "text": [
      "loading metadata from /home/hugo/lab/instrument-recognition/data/mdb-solos-train-soundscapes/train...\n"
     ]
    },
    {
     "name": "stderr",
     "output_type": "stream",
     "text": [
      "100%|██████████| 5208/5208 [00:00<00:00, 22544.09it/s]\n",
      "  0%|          | 0/12236 [00:00<?, ?it/s]"
     ]
    },
    {
     "name": "stdout",
     "output_type": "stream",
     "text": [
      "found 5208 entries\n",
      "{'trumpet': 1965, 'clarinet': 1966, 'tenor saxophone': 1914, 'piano': 1941, 'violin': 1948, 'female singer': 2011, 'flute': 1932, 'distorted electric guitar': 1945}\n",
      "loading metadata from /home/hugo/lab/instrument-recognition/data/mdb-solos-train-soundscapes/test...\n"
     ]
    },
    {
     "name": "stderr",
     "output_type": "stream",
     "text": [
      "100%|██████████| 12236/12236 [00:00<00:00, 26234.94it/s]\n",
      "100%|██████████| 3494/3494 [00:00<00:00, 32457.89it/s]\n",
      "/home/hugo/lab/venv/lib/python3.8/site-packages/pytorch_lightning/utilities/distributed.py:45: UserWarning: Checkpoint directory /home/hugo/lab/instrument-recognition/test-tubes/transformer-search/seed=11_rnn=xfmr-2_recurrence_num_layers=1_/version_0/checkpoints exists and is not empty. With save_top_k=3, all files in this directory will be deleted when a checkpoint is saved!\n",
      "  warnings.warn(*args, **kwargs)\n",
      "GPU available: True, used: False\n",
      "TPU available: False, using: 0 TPU cores\n"
     ]
    },
    {
     "name": "stdout",
     "output_type": "stream",
     "text": [
      "found 12236 entries\n",
      "{'clarinet': 732, 'piano': 2609, 'violin': 2900, 'tenor saxophone': 325, 'flute': 3167, 'distorted electric guitar': 955, 'female singer': 1142, 'trumpet': 406}\n",
      "loading metadata from /home/hugo/lab/instrument-recognition/data/mdb-solos-train-soundscapes/validation...\n",
      "found 3494 entries\n",
      "{'clarinet': 328, 'piano': 1022, 'flute': 233, 'female singer': 284, 'tenor saxophone': 29, 'violin': 1031, 'distorted electric guitar': 495, 'trumpet': 72}\n",
      "train entries: 5208\n",
      "val entries: 3494\n",
      "found checkpoint: /home/hugo/lab/instrument-recognition/test-tubes/transformer-search/seed=11_rnn=xfmr-2_recurrence_num_layers=1_/version_0/checkpoints/epoch=04-fscore_val=0.92.ckpt\n"
     ]
    },
    {
     "data": {
      "application/vnd.jupyter.widget-view+json": {
       "model_id": "30ed9711ff254c2c88a156d2ca277f40",
       "version_major": 2,
       "version_minor": 0
      },
      "text/plain": [
       "HBox(children=(HTML(value='Testing'), FloatProgress(value=1.0, bar_style='info', layout=Layout(flex='2'), max=…"
      ]
     },
     "metadata": {},
     "output_type": "display_data"
    },
    {
     "name": "stdout",
     "output_type": "stream",
     "text": [
      "--------------------------------------------------------------------------------\n",
      "DATALOADER:0 TEST RESULTS\n",
      "{'ECE/test': 0.1288554324191341,\n",
      " 'accuracy/test': 0.824643129563038,\n",
      " 'fscore/test': 0.8123010237294246,\n",
      " 'fscore_test': 0.8123010237294246,\n",
      " 'loss/test': tensor(1.0105),\n",
      " 'loss_test': tensor(1.0105),\n",
      " 'precision/test': 0.8528578400621718,\n",
      " 'recall/test': 0.824643129563038}\n",
      "--------------------------------------------------------------------------------\n",
      "\n",
      "found checkpoint: /home/hugo/lab/instrument-recognition/test-tubes/transformer-search/seed=433_rnn=xfmr-8_recurrence_num_layers=2_/version_0/checkpoints/epoch=01-fscore_val=0.93.ckpt\n",
      "found checkpoint: /home/hugo/lab/instrument-recognition/test-tubes/transformer-search/seed=433_rnn=xfmr-8_recurrence_num_layers=2_/version_0/checkpoints/epoch=01-fscore_val=0.93.ckpt\n",
      "/home/hugo/lab/instrument-recognition/test-tubes/transformer-search/seed=433_rnn=xfmr-8_recurrence_num_layers=2_/version_0\n",
      "/home/hugo/lab/instrument-recognition/test-tubes/transformer-search/seed=433_rnn=xfmr-8_recurrence_num_layers=2_/version_0/checkpoints/epoch=01-fscore_val=0.93.ckpt\n"
     ]
    },
    {
     "name": "stderr",
     "output_type": "stream",
     "text": [
      " 46%|████▌     | 2383/5208 [00:00<00:00, 23828.72it/s]"
     ]
    },
    {
     "name": "stdout",
     "output_type": "stream",
     "text": [
      "loading metadata from /home/hugo/lab/instrument-recognition/data/mdb-solos-train-soundscapes/train...\n"
     ]
    },
    {
     "name": "stderr",
     "output_type": "stream",
     "text": [
      "100%|██████████| 5208/5208 [00:00<00:00, 23946.14it/s]\n",
      "  0%|          | 0/12236 [00:00<?, ?it/s]"
     ]
    },
    {
     "name": "stdout",
     "output_type": "stream",
     "text": [
      "found 5208 entries\n",
      "{'trumpet': 1965, 'clarinet': 1966, 'tenor saxophone': 1914, 'piano': 1941, 'violin': 1948, 'female singer': 2011, 'flute': 1932, 'distorted electric guitar': 1945}\n",
      "loading metadata from /home/hugo/lab/instrument-recognition/data/mdb-solos-train-soundscapes/test...\n"
     ]
    },
    {
     "name": "stderr",
     "output_type": "stream",
     "text": [
      "100%|██████████| 12236/12236 [00:00<00:00, 26997.61it/s]\n",
      "100%|██████████| 3494/3494 [00:00<00:00, 28402.78it/s]\n",
      "/home/hugo/lab/venv/lib/python3.8/site-packages/pytorch_lightning/utilities/distributed.py:45: UserWarning: Checkpoint directory /home/hugo/lab/instrument-recognition/test-tubes/transformer-search/seed=433_rnn=xfmr-8_recurrence_num_layers=2_/version_0/checkpoints exists and is not empty. With save_top_k=3, all files in this directory will be deleted when a checkpoint is saved!\n",
      "  warnings.warn(*args, **kwargs)\n",
      "GPU available: True, used: False\n",
      "TPU available: False, using: 0 TPU cores\n"
     ]
    },
    {
     "name": "stdout",
     "output_type": "stream",
     "text": [
      "found 12236 entries\n",
      "{'clarinet': 732, 'piano': 2609, 'violin': 2900, 'tenor saxophone': 325, 'flute': 3167, 'distorted electric guitar': 955, 'female singer': 1142, 'trumpet': 406}\n",
      "loading metadata from /home/hugo/lab/instrument-recognition/data/mdb-solos-train-soundscapes/validation...\n",
      "found 3494 entries\n",
      "{'clarinet': 328, 'piano': 1022, 'flute': 233, 'female singer': 284, 'tenor saxophone': 29, 'violin': 1031, 'distorted electric guitar': 495, 'trumpet': 72}\n",
      "train entries: 5208\n",
      "val entries: 3494\n",
      "found checkpoint: /home/hugo/lab/instrument-recognition/test-tubes/transformer-search/seed=433_rnn=xfmr-8_recurrence_num_layers=2_/version_0/checkpoints/epoch=01-fscore_val=0.93.ckpt\n"
     ]
    },
    {
     "data": {
      "application/vnd.jupyter.widget-view+json": {
       "model_id": "0ddaaa7d1a9949d49cd72eb2a3677596",
       "version_major": 2,
       "version_minor": 0
      },
      "text/plain": [
       "HBox(children=(HTML(value='Testing'), FloatProgress(value=1.0, bar_style='info', layout=Layout(flex='2'), max=…"
      ]
     },
     "metadata": {},
     "output_type": "display_data"
    },
    {
     "name": "stdout",
     "output_type": "stream",
     "text": [
      "--------------------------------------------------------------------------------\n",
      "DATALOADER:0 TEST RESULTS\n",
      "{'ECE/test': 0.13046663875502934,\n",
      " 'accuracy/test': 0.8180505611855726,\n",
      " 'fscore/test': 0.8014264828202384,\n",
      " 'fscore_test': 0.8014264828202384,\n",
      " 'loss/test': tensor(0.9745),\n",
      " 'loss_test': tensor(0.9745),\n",
      " 'precision/test': 0.8455431931136861,\n",
      " 'recall/test': 0.8180505611855726}\n",
      "--------------------------------------------------------------------------------\n",
      "\n",
      "found checkpoint: /home/hugo/lab/instrument-recognition/test-tubes/transformer-search/seed=12_rnn=xfmr-1_recurrence_num_layers=1_/version_0/checkpoints/epoch=95-fscore_val=0.93.ckpt\n",
      "found checkpoint: /home/hugo/lab/instrument-recognition/test-tubes/transformer-search/seed=12_rnn=xfmr-1_recurrence_num_layers=1_/version_0/checkpoints/epoch=95-fscore_val=0.93.ckpt\n",
      "/home/hugo/lab/instrument-recognition/test-tubes/transformer-search/seed=12_rnn=xfmr-1_recurrence_num_layers=1_/version_0\n",
      "/home/hugo/lab/instrument-recognition/test-tubes/transformer-search/seed=12_rnn=xfmr-1_recurrence_num_layers=1_/version_0/checkpoints/epoch=95-fscore_val=0.93.ckpt\n"
     ]
    },
    {
     "name": "stderr",
     "output_type": "stream",
     "text": [
      " 62%|██████▏   | 3241/5208 [00:00<00:00, 32123.51it/s]"
     ]
    },
    {
     "name": "stdout",
     "output_type": "stream",
     "text": [
      "loading metadata from /home/hugo/lab/instrument-recognition/data/mdb-solos-train-soundscapes/train...\n"
     ]
    },
    {
     "name": "stderr",
     "output_type": "stream",
     "text": [
      "100%|██████████| 5208/5208 [00:00<00:00, 28860.31it/s]\n",
      "  0%|          | 0/12236 [00:00<?, ?it/s]"
     ]
    },
    {
     "name": "stdout",
     "output_type": "stream",
     "text": [
      "found 5208 entries\n",
      "{'trumpet': 1965, 'clarinet': 1966, 'tenor saxophone': 1914, 'piano': 1941, 'violin': 1948, 'female singer': 2011, 'flute': 1932, 'distorted electric guitar': 1945}\n",
      "loading metadata from /home/hugo/lab/instrument-recognition/data/mdb-solos-train-soundscapes/test...\n"
     ]
    },
    {
     "name": "stderr",
     "output_type": "stream",
     "text": [
      "100%|██████████| 12236/12236 [00:00<00:00, 30437.51it/s]\n",
      "100%|██████████| 3494/3494 [00:00<00:00, 31840.13it/s]\n",
      "/home/hugo/lab/venv/lib/python3.8/site-packages/pytorch_lightning/utilities/distributed.py:45: UserWarning: Checkpoint directory /home/hugo/lab/instrument-recognition/test-tubes/transformer-search/seed=12_rnn=xfmr-1_recurrence_num_layers=1_/version_0/checkpoints exists and is not empty. With save_top_k=3, all files in this directory will be deleted when a checkpoint is saved!\n",
      "  warnings.warn(*args, **kwargs)\n",
      "GPU available: True, used: False\n",
      "TPU available: False, using: 0 TPU cores\n"
     ]
    },
    {
     "name": "stdout",
     "output_type": "stream",
     "text": [
      "found 12236 entries\n",
      "{'clarinet': 732, 'piano': 2609, 'violin': 2900, 'tenor saxophone': 325, 'flute': 3167, 'distorted electric guitar': 955, 'female singer': 1142, 'trumpet': 406}\n",
      "loading metadata from /home/hugo/lab/instrument-recognition/data/mdb-solos-train-soundscapes/validation...\n",
      "found 3494 entries\n",
      "{'clarinet': 328, 'piano': 1022, 'flute': 233, 'female singer': 284, 'tenor saxophone': 29, 'violin': 1031, 'distorted electric guitar': 495, 'trumpet': 72}\n",
      "train entries: 5208\n",
      "val entries: 3494\n",
      "found checkpoint: /home/hugo/lab/instrument-recognition/test-tubes/transformer-search/seed=12_rnn=xfmr-1_recurrence_num_layers=1_/version_0/checkpoints/epoch=95-fscore_val=0.93.ckpt\n"
     ]
    },
    {
     "data": {
      "application/vnd.jupyter.widget-view+json": {
       "model_id": "4a0c6cbde3314fcd9ff62a2aac465f98",
       "version_major": 2,
       "version_minor": 0
      },
      "text/plain": [
       "HBox(children=(HTML(value='Testing'), FloatProgress(value=1.0, bar_style='info', layout=Layout(flex='2'), max=…"
      ]
     },
     "metadata": {},
     "output_type": "display_data"
    },
    {
     "name": "stdout",
     "output_type": "stream",
     "text": [
      "--------------------------------------------------------------------------------\n",
      "DATALOADER:0 TEST RESULTS\n",
      "{'ECE/test': 0.13132884478752838,\n",
      " 'accuracy/test': 0.8427863136101122,\n",
      " 'fscore/test': 0.8357804872721708,\n",
      " 'fscore_test': 0.8357804872721708,\n",
      " 'loss/test': tensor(1.1782),\n",
      " 'loss_test': tensor(1.1782),\n",
      " 'precision/test': 0.859831257283658,\n",
      " 'recall/test': 0.8427863136101122}\n",
      "--------------------------------------------------------------------------------\n",
      "\n",
      "found checkpoint: /home/hugo/lab/instrument-recognition/test-tubes/transformer-search/seed=12_rnn=xfmr-16_recurrence_num_layers=6_/version_0/checkpoints/epoch=27-fscore_val=0.93.ckpt\n",
      "found checkpoint: /home/hugo/lab/instrument-recognition/test-tubes/transformer-search/seed=12_rnn=xfmr-16_recurrence_num_layers=6_/version_0/checkpoints/epoch=27-fscore_val=0.93.ckpt\n",
      "/home/hugo/lab/instrument-recognition/test-tubes/transformer-search/seed=12_rnn=xfmr-16_recurrence_num_layers=6_/version_0\n",
      "/home/hugo/lab/instrument-recognition/test-tubes/transformer-search/seed=12_rnn=xfmr-16_recurrence_num_layers=6_/version_0/checkpoints/epoch=27-fscore_val=0.93.ckpt\n"
     ]
    },
    {
     "name": "stderr",
     "output_type": "stream",
     "text": [
      " 44%|████▍     | 2317/5208 [00:00<00:00, 23161.19it/s]"
     ]
    },
    {
     "name": "stdout",
     "output_type": "stream",
     "text": [
      "loading metadata from /home/hugo/lab/instrument-recognition/data/mdb-solos-train-soundscapes/train...\n"
     ]
    },
    {
     "name": "stderr",
     "output_type": "stream",
     "text": [
      "100%|██████████| 5208/5208 [00:00<00:00, 22757.32it/s]\n",
      "  0%|          | 0/12236 [00:00<?, ?it/s]"
     ]
    },
    {
     "name": "stdout",
     "output_type": "stream",
     "text": [
      "found 5208 entries\n",
      "{'trumpet': 1965, 'clarinet': 1966, 'tenor saxophone': 1914, 'piano': 1941, 'violin': 1948, 'female singer': 2011, 'flute': 1932, 'distorted electric guitar': 1945}\n",
      "loading metadata from /home/hugo/lab/instrument-recognition/data/mdb-solos-train-soundscapes/test...\n"
     ]
    },
    {
     "name": "stderr",
     "output_type": "stream",
     "text": [
      "100%|██████████| 12236/12236 [00:00<00:00, 35945.24it/s]\n",
      "100%|██████████| 3494/3494 [00:00<00:00, 33771.17it/s]\n",
      "/home/hugo/lab/venv/lib/python3.8/site-packages/pytorch_lightning/utilities/distributed.py:45: UserWarning: Checkpoint directory /home/hugo/lab/instrument-recognition/test-tubes/transformer-search/seed=12_rnn=xfmr-16_recurrence_num_layers=6_/version_0/checkpoints exists and is not empty. With save_top_k=3, all files in this directory will be deleted when a checkpoint is saved!\n",
      "  warnings.warn(*args, **kwargs)\n",
      "GPU available: True, used: False\n",
      "TPU available: False, using: 0 TPU cores\n"
     ]
    },
    {
     "name": "stdout",
     "output_type": "stream",
     "text": [
      "found 12236 entries\n",
      "{'clarinet': 732, 'piano': 2609, 'violin': 2900, 'tenor saxophone': 325, 'flute': 3167, 'distorted electric guitar': 955, 'female singer': 1142, 'trumpet': 406}\n",
      "loading metadata from /home/hugo/lab/instrument-recognition/data/mdb-solos-train-soundscapes/validation...\n",
      "found 3494 entries\n",
      "{'clarinet': 328, 'piano': 1022, 'flute': 233, 'female singer': 284, 'tenor saxophone': 29, 'violin': 1031, 'distorted electric guitar': 495, 'trumpet': 72}\n",
      "train entries: 5208\n",
      "val entries: 3494\n",
      "found checkpoint: /home/hugo/lab/instrument-recognition/test-tubes/transformer-search/seed=12_rnn=xfmr-16_recurrence_num_layers=6_/version_0/checkpoints/epoch=27-fscore_val=0.93.ckpt\n"
     ]
    },
    {
     "data": {
      "application/vnd.jupyter.widget-view+json": {
       "model_id": "4c079a47e7f6481a9131ea45b7b2cfa8",
       "version_major": 2,
       "version_minor": 0
      },
      "text/plain": [
       "HBox(children=(HTML(value='Testing'), FloatProgress(value=1.0, bar_style='info', layout=Layout(flex='2'), max=…"
      ]
     },
     "metadata": {},
     "output_type": "display_data"
    },
    {
     "name": "stdout",
     "output_type": "stream",
     "text": [
      "--------------------------------------------------------------------------------\n",
      "DATALOADER:0 TEST RESULTS\n",
      "{'ECE/test': 0.14669810706753417,\n",
      " 'accuracy/test': 0.8281573498964804,\n",
      " 'fscore/test': 0.8149137288440789,\n",
      " 'fscore_test': 0.8149137288440789,\n",
      " 'loss/test': tensor(1.1782),\n",
      " 'loss_test': tensor(1.1782),\n",
      " 'precision/test': 0.8513174505876165,\n",
      " 'recall/test': 0.8281573498964804}\n",
      "--------------------------------------------------------------------------------\n",
      "\n",
      "found checkpoint: /home/hugo/lab/instrument-recognition/test-tubes/transformer-search/seed=433_rnn=xfmr-4_recurrence_num_layers=2_/version_0/checkpoints/epoch=82-fscore_val=0.94.ckpt\n",
      "found checkpoint: /home/hugo/lab/instrument-recognition/test-tubes/transformer-search/seed=433_rnn=xfmr-4_recurrence_num_layers=2_/version_0/checkpoints/epoch=82-fscore_val=0.94.ckpt\n",
      "/home/hugo/lab/instrument-recognition/test-tubes/transformer-search/seed=433_rnn=xfmr-4_recurrence_num_layers=2_/version_0\n",
      "/home/hugo/lab/instrument-recognition/test-tubes/transformer-search/seed=433_rnn=xfmr-4_recurrence_num_layers=2_/version_0/checkpoints/epoch=82-fscore_val=0.94.ckpt\n"
     ]
    },
    {
     "name": "stderr",
     "output_type": "stream",
     "text": [
      " 43%|████▎     | 2255/5208 [00:00<00:00, 22549.05it/s]"
     ]
    },
    {
     "name": "stdout",
     "output_type": "stream",
     "text": [
      "loading metadata from /home/hugo/lab/instrument-recognition/data/mdb-solos-train-soundscapes/train...\n"
     ]
    },
    {
     "name": "stderr",
     "output_type": "stream",
     "text": [
      "100%|██████████| 5208/5208 [00:00<00:00, 24815.86it/s]\n",
      "  0%|          | 0/12236 [00:00<?, ?it/s]"
     ]
    },
    {
     "name": "stdout",
     "output_type": "stream",
     "text": [
      "found 5208 entries\n",
      "{'trumpet': 1965, 'clarinet': 1966, 'tenor saxophone': 1914, 'piano': 1941, 'violin': 1948, 'female singer': 2011, 'flute': 1932, 'distorted electric guitar': 1945}\n",
      "loading metadata from /home/hugo/lab/instrument-recognition/data/mdb-solos-train-soundscapes/test...\n"
     ]
    },
    {
     "name": "stderr",
     "output_type": "stream",
     "text": [
      "100%|██████████| 12236/12236 [00:00<00:00, 25879.62it/s]\n",
      "100%|██████████| 3494/3494 [00:00<00:00, 31269.05it/s]\n",
      "/home/hugo/lab/venv/lib/python3.8/site-packages/pytorch_lightning/utilities/distributed.py:45: UserWarning: Checkpoint directory /home/hugo/lab/instrument-recognition/test-tubes/transformer-search/seed=433_rnn=xfmr-4_recurrence_num_layers=2_/version_0/checkpoints exists and is not empty. With save_top_k=3, all files in this directory will be deleted when a checkpoint is saved!\n",
      "  warnings.warn(*args, **kwargs)\n",
      "GPU available: True, used: False\n",
      "TPU available: False, using: 0 TPU cores\n"
     ]
    },
    {
     "name": "stdout",
     "output_type": "stream",
     "text": [
      "found 12236 entries\n",
      "{'clarinet': 732, 'piano': 2609, 'violin': 2900, 'tenor saxophone': 325, 'flute': 3167, 'distorted electric guitar': 955, 'female singer': 1142, 'trumpet': 406}\n",
      "loading metadata from /home/hugo/lab/instrument-recognition/data/mdb-solos-train-soundscapes/validation...\n",
      "found 3494 entries\n",
      "{'clarinet': 328, 'piano': 1022, 'flute': 233, 'female singer': 284, 'tenor saxophone': 29, 'violin': 1031, 'distorted electric guitar': 495, 'trumpet': 72}\n",
      "train entries: 5208\n",
      "val entries: 3494\n",
      "found checkpoint: /home/hugo/lab/instrument-recognition/test-tubes/transformer-search/seed=433_rnn=xfmr-4_recurrence_num_layers=2_/version_0/checkpoints/epoch=82-fscore_val=0.94.ckpt\n"
     ]
    },
    {
     "data": {
      "application/vnd.jupyter.widget-view+json": {
       "model_id": "c948e4c648774182adff1b2dcc373a9c",
       "version_major": 2,
       "version_minor": 0
      },
      "text/plain": [
       "HBox(children=(HTML(value='Testing'), FloatProgress(value=1.0, bar_style='info', layout=Layout(flex='2'), max=…"
      ]
     },
     "metadata": {},
     "output_type": "display_data"
    },
    {
     "name": "stdout",
     "output_type": "stream",
     "text": [
      "--------------------------------------------------------------------------------\n",
      "DATALOADER:0 TEST RESULTS\n",
      "{'ECE/test': 0.15083688732500075,\n",
      " 'accuracy/test': 0.8256783262504086,\n",
      " 'fscore/test': 0.8131574119989393,\n",
      " 'fscore_test': 0.8131574119989393,\n",
      " 'loss/test': tensor(1.4470),\n",
      " 'loss_test': tensor(1.4470),\n",
      " 'precision/test': 0.859882219913168,\n",
      " 'recall/test': 0.8256783262504086}\n",
      "--------------------------------------------------------------------------------\n",
      "\n",
      "found checkpoint: /home/hugo/lab/instrument-recognition/test-tubes/transformer-search/seed=11_rnn=xfmr-32_recurrence_num_layers=1_/version_0/checkpoints/epoch=04-fscore_val=0.93.ckpt\n",
      "found checkpoint: /home/hugo/lab/instrument-recognition/test-tubes/transformer-search/seed=11_rnn=xfmr-32_recurrence_num_layers=1_/version_0/checkpoints/epoch=04-fscore_val=0.93.ckpt\n",
      "/home/hugo/lab/instrument-recognition/test-tubes/transformer-search/seed=11_rnn=xfmr-32_recurrence_num_layers=1_/version_0\n",
      "/home/hugo/lab/instrument-recognition/test-tubes/transformer-search/seed=11_rnn=xfmr-32_recurrence_num_layers=1_/version_0/checkpoints/epoch=04-fscore_val=0.93.ckpt\n"
     ]
    },
    {
     "name": "stderr",
     "output_type": "stream",
     "text": [
      " 43%|████▎     | 2219/5208 [00:00<00:00, 22187.75it/s]"
     ]
    },
    {
     "name": "stdout",
     "output_type": "stream",
     "text": [
      "loading metadata from /home/hugo/lab/instrument-recognition/data/mdb-solos-train-soundscapes/train...\n"
     ]
    },
    {
     "name": "stderr",
     "output_type": "stream",
     "text": [
      "100%|██████████| 5208/5208 [00:00<00:00, 22067.95it/s]\n",
      "  0%|          | 0/12236 [00:00<?, ?it/s]"
     ]
    },
    {
     "name": "stdout",
     "output_type": "stream",
     "text": [
      "found 5208 entries\n",
      "{'trumpet': 1965, 'clarinet': 1966, 'tenor saxophone': 1914, 'piano': 1941, 'violin': 1948, 'female singer': 2011, 'flute': 1932, 'distorted electric guitar': 1945}\n",
      "loading metadata from /home/hugo/lab/instrument-recognition/data/mdb-solos-train-soundscapes/test...\n"
     ]
    },
    {
     "name": "stderr",
     "output_type": "stream",
     "text": [
      "100%|██████████| 12236/12236 [00:00<00:00, 26189.50it/s]\n",
      "100%|██████████| 3494/3494 [00:00<00:00, 26779.07it/s]"
     ]
    },
    {
     "name": "stdout",
     "output_type": "stream",
     "text": [
      "found 12236 entries\n",
      "{'clarinet': 732, 'piano': 2609, 'violin': 2900, 'tenor saxophone': 325, 'flute': 3167, 'distorted electric guitar': 955, 'female singer': 1142, 'trumpet': 406}\n",
      "loading metadata from /home/hugo/lab/instrument-recognition/data/mdb-solos-train-soundscapes/validation...\n"
     ]
    },
    {
     "name": "stderr",
     "output_type": "stream",
     "text": [
      "\n",
      "/home/hugo/lab/venv/lib/python3.8/site-packages/pytorch_lightning/utilities/distributed.py:45: UserWarning: Checkpoint directory /home/hugo/lab/instrument-recognition/test-tubes/transformer-search/seed=11_rnn=xfmr-32_recurrence_num_layers=1_/version_0/checkpoints exists and is not empty. With save_top_k=3, all files in this directory will be deleted when a checkpoint is saved!\n",
      "  warnings.warn(*args, **kwargs)\n",
      "GPU available: True, used: False\n",
      "TPU available: False, using: 0 TPU cores\n"
     ]
    },
    {
     "name": "stdout",
     "output_type": "stream",
     "text": [
      "found 3494 entries\n",
      "{'clarinet': 328, 'piano': 1022, 'flute': 233, 'female singer': 284, 'tenor saxophone': 29, 'violin': 1031, 'distorted electric guitar': 495, 'trumpet': 72}\n",
      "train entries: 5208\n",
      "val entries: 3494\n",
      "found checkpoint: /home/hugo/lab/instrument-recognition/test-tubes/transformer-search/seed=11_rnn=xfmr-32_recurrence_num_layers=1_/version_0/checkpoints/epoch=04-fscore_val=0.93.ckpt\n"
     ]
    },
    {
     "data": {
      "application/vnd.jupyter.widget-view+json": {
       "model_id": "09dbc43f828c41398f70830f17fb2012",
       "version_major": 2,
       "version_minor": 0
      },
      "text/plain": [
       "HBox(children=(HTML(value='Testing'), FloatProgress(value=1.0, bar_style='info', layout=Layout(flex='2'), max=…"
      ]
     },
     "metadata": {},
     "output_type": "display_data"
    },
    {
     "name": "stdout",
     "output_type": "stream",
     "text": [
      "--------------------------------------------------------------------------------\n",
      "DATALOADER:0 TEST RESULTS\n",
      "{'ECE/test': 0.12513305392155682,\n",
      " 'accuracy/test': 0.8344230140568814,\n",
      " 'fscore/test': 0.8219520669277758,\n",
      " 'fscore_test': 0.8219520669277758,\n",
      " 'loss/test': tensor(1.0080),\n",
      " 'loss_test': tensor(1.0080),\n",
      " 'precision/test': 0.8582864984957197,\n",
      " 'recall/test': 0.8344230140568814}\n",
      "--------------------------------------------------------------------------------\n",
      "\n",
      "found checkpoint: /home/hugo/lab/instrument-recognition/test-tubes/transformer-search/seed=433_rnn=xfmr-16_recurrence_num_layers=8_/version_0/checkpoints/epoch=39-fscore_val=0.92.ckpt\n",
      "found checkpoint: /home/hugo/lab/instrument-recognition/test-tubes/transformer-search/seed=433_rnn=xfmr-16_recurrence_num_layers=8_/version_0/checkpoints/epoch=39-fscore_val=0.92.ckpt\n",
      "/home/hugo/lab/instrument-recognition/test-tubes/transformer-search/seed=433_rnn=xfmr-16_recurrence_num_layers=8_/version_0\n",
      "/home/hugo/lab/instrument-recognition/test-tubes/transformer-search/seed=433_rnn=xfmr-16_recurrence_num_layers=8_/version_0/checkpoints/epoch=39-fscore_val=0.92.ckpt\n"
     ]
    },
    {
     "name": "stderr",
     "output_type": "stream",
     "text": [
      " 42%|████▏     | 2167/5208 [00:00<00:00, 21663.98it/s]"
     ]
    },
    {
     "name": "stdout",
     "output_type": "stream",
     "text": [
      "loading metadata from /home/hugo/lab/instrument-recognition/data/mdb-solos-train-soundscapes/train...\n"
     ]
    },
    {
     "name": "stderr",
     "output_type": "stream",
     "text": [
      "100%|██████████| 5208/5208 [00:00<00:00, 21098.26it/s]\n",
      "  0%|          | 0/12236 [00:00<?, ?it/s]"
     ]
    },
    {
     "name": "stdout",
     "output_type": "stream",
     "text": [
      "found 5208 entries\n",
      "{'trumpet': 1965, 'clarinet': 1966, 'tenor saxophone': 1914, 'piano': 1941, 'violin': 1948, 'female singer': 2011, 'flute': 1932, 'distorted electric guitar': 1945}\n",
      "loading metadata from /home/hugo/lab/instrument-recognition/data/mdb-solos-train-soundscapes/test...\n"
     ]
    },
    {
     "name": "stderr",
     "output_type": "stream",
     "text": [
      "100%|██████████| 12236/12236 [00:00<00:00, 23766.02it/s]\n",
      "100%|██████████| 3494/3494 [00:00<00:00, 24476.43it/s]\n"
     ]
    },
    {
     "name": "stdout",
     "output_type": "stream",
     "text": [
      "found 12236 entries\n",
      "{'clarinet': 732, 'piano': 2609, 'violin': 2900, 'tenor saxophone': 325, 'flute': 3167, 'distorted electric guitar': 955, 'female singer': 1142, 'trumpet': 406}\n",
      "loading metadata from /home/hugo/lab/instrument-recognition/data/mdb-solos-train-soundscapes/validation...\n",
      "found 3494 entries\n",
      "{'clarinet': 328, 'piano': 1022, 'flute': 233, 'female singer': 284, 'tenor saxophone': 29, 'violin': 1031, 'distorted electric guitar': 495, 'trumpet': 72}\n",
      "train entries: 5208\n",
      "val entries: 3494\n"
     ]
    },
    {
     "name": "stderr",
     "output_type": "stream",
     "text": [
      "/home/hugo/lab/venv/lib/python3.8/site-packages/pytorch_lightning/utilities/distributed.py:45: UserWarning: Checkpoint directory /home/hugo/lab/instrument-recognition/test-tubes/transformer-search/seed=433_rnn=xfmr-16_recurrence_num_layers=8_/version_0/checkpoints exists and is not empty. With save_top_k=3, all files in this directory will be deleted when a checkpoint is saved!\n",
      "  warnings.warn(*args, **kwargs)\n",
      "GPU available: True, used: False\n",
      "TPU available: False, using: 0 TPU cores\n"
     ]
    },
    {
     "name": "stdout",
     "output_type": "stream",
     "text": [
      "found checkpoint: /home/hugo/lab/instrument-recognition/test-tubes/transformer-search/seed=433_rnn=xfmr-16_recurrence_num_layers=8_/version_0/checkpoints/epoch=39-fscore_val=0.92.ckpt\n"
     ]
    },
    {
     "data": {
      "application/vnd.jupyter.widget-view+json": {
       "model_id": "004f46d66baf439ea0837a16d663308f",
       "version_major": 2,
       "version_minor": 0
      },
      "text/plain": [
       "HBox(children=(HTML(value='Testing'), FloatProgress(value=1.0, bar_style='info', layout=Layout(flex='2'), max=…"
      ]
     },
     "metadata": {},
     "output_type": "display_data"
    },
    {
     "name": "stdout",
     "output_type": "stream",
     "text": [
      "--------------------------------------------------------------------------------\n",
      "DATALOADER:0 TEST RESULTS\n",
      "{'ECE/test': 0.11658309384453032,\n",
      " 'accuracy/test': 0.8300642911626893,\n",
      " 'fscore/test': 0.8198586477601614,\n",
      " 'fscore_test': 0.8198586477601614,\n",
      " 'loss/test': tensor(1.0281),\n",
      " 'loss_test': tensor(1.0281),\n",
      " 'precision/test': 0.8471029188308229,\n",
      " 'recall/test': 0.8300642911626893}\n",
      "--------------------------------------------------------------------------------\n",
      "\n",
      "found checkpoint: /home/hugo/lab/instrument-recognition/test-tubes/transformer-search/seed=440_rnn=xfmr-16_recurrence_num_layers=6_/version_0/checkpoints/epoch=04-fscore_val=0.92.ckpt\n",
      "found checkpoint: /home/hugo/lab/instrument-recognition/test-tubes/transformer-search/seed=440_rnn=xfmr-16_recurrence_num_layers=6_/version_0/checkpoints/epoch=04-fscore_val=0.92.ckpt\n",
      "/home/hugo/lab/instrument-recognition/test-tubes/transformer-search/seed=440_rnn=xfmr-16_recurrence_num_layers=6_/version_0\n",
      "/home/hugo/lab/instrument-recognition/test-tubes/transformer-search/seed=440_rnn=xfmr-16_recurrence_num_layers=6_/version_0/checkpoints/epoch=04-fscore_val=0.92.ckpt\n"
     ]
    },
    {
     "name": "stderr",
     "output_type": "stream",
     "text": [
      " 44%|████▍     | 2291/5208 [00:00<00:00, 22894.25it/s]"
     ]
    },
    {
     "name": "stdout",
     "output_type": "stream",
     "text": [
      "loading metadata from /home/hugo/lab/instrument-recognition/data/mdb-solos-train-soundscapes/train...\n"
     ]
    },
    {
     "name": "stderr",
     "output_type": "stream",
     "text": [
      "100%|██████████| 5208/5208 [00:00<00:00, 23128.05it/s]\n",
      "  0%|          | 0/12236 [00:00<?, ?it/s]"
     ]
    },
    {
     "name": "stdout",
     "output_type": "stream",
     "text": [
      "found 5208 entries\n",
      "{'trumpet': 1965, 'clarinet': 1966, 'tenor saxophone': 1914, 'piano': 1941, 'violin': 1948, 'female singer': 2011, 'flute': 1932, 'distorted electric guitar': 1945}\n",
      "loading metadata from /home/hugo/lab/instrument-recognition/data/mdb-solos-train-soundscapes/test...\n"
     ]
    },
    {
     "name": "stderr",
     "output_type": "stream",
     "text": [
      "100%|██████████| 12236/12236 [00:00<00:00, 26325.62it/s]\n",
      "100%|██████████| 3494/3494 [00:00<00:00, 30427.58it/s]\n"
     ]
    },
    {
     "name": "stdout",
     "output_type": "stream",
     "text": [
      "found 12236 entries\n",
      "{'clarinet': 732, 'piano': 2609, 'violin': 2900, 'tenor saxophone': 325, 'flute': 3167, 'distorted electric guitar': 955, 'female singer': 1142, 'trumpet': 406}\n",
      "loading metadata from /home/hugo/lab/instrument-recognition/data/mdb-solos-train-soundscapes/validation...\n",
      "found 3494 entries\n",
      "{'clarinet': 328, 'piano': 1022, 'flute': 233, 'female singer': 284, 'tenor saxophone': 29, 'violin': 1031, 'distorted electric guitar': 495, 'trumpet': 72}\n",
      "train entries: 5208\n",
      "val entries: 3494\n",
      "found checkpoint: /home/hugo/lab/instrument-recognition/test-tubes/transformer-search/seed=440_rnn=xfmr-16_recurrence_num_layers=6_/version_0/checkpoints/epoch=04-fscore_val=0.92.ckpt\n"
     ]
    },
    {
     "name": "stderr",
     "output_type": "stream",
     "text": [
      "/home/hugo/lab/venv/lib/python3.8/site-packages/pytorch_lightning/utilities/distributed.py:45: UserWarning: Checkpoint directory /home/hugo/lab/instrument-recognition/test-tubes/transformer-search/seed=440_rnn=xfmr-16_recurrence_num_layers=6_/version_0/checkpoints exists and is not empty. With save_top_k=3, all files in this directory will be deleted when a checkpoint is saved!\n",
      "  warnings.warn(*args, **kwargs)\n",
      "GPU available: True, used: False\n",
      "TPU available: False, using: 0 TPU cores\n"
     ]
    },
    {
     "data": {
      "application/vnd.jupyter.widget-view+json": {
       "model_id": "8e83906e73834dccb8a351b073f73254",
       "version_major": 2,
       "version_minor": 0
      },
      "text/plain": [
       "HBox(children=(HTML(value='Testing'), FloatProgress(value=1.0, bar_style='info', layout=Layout(flex='2'), max=…"
      ]
     },
     "metadata": {},
     "output_type": "display_data"
    },
    {
     "name": "stdout",
     "output_type": "stream",
     "text": [
      "--------------------------------------------------------------------------------\n",
      "DATALOADER:0 TEST RESULTS\n",
      "{'ECE/test': 0.1267919639786942,\n",
      " 'accuracy/test': 0.8365751334858886,\n",
      " 'fscore/test': 0.8253574987849825,\n",
      " 'fscore_test': 0.8253574987849825,\n",
      " 'loss/test': tensor(0.9066),\n",
      " 'loss_test': tensor(0.9066),\n",
      " 'precision/test': 0.8575999578266819,\n",
      " 'recall/test': 0.8365751334858886}\n",
      "--------------------------------------------------------------------------------\n",
      "\n",
      "found checkpoint: /home/hugo/lab/instrument-recognition/test-tubes/transformer-search/seed=433_rnn=xfmr-4_recurrence_num_layers=8_/version_0/checkpoints/epoch=27-fscore_val=0.92.ckpt\n",
      "found checkpoint: /home/hugo/lab/instrument-recognition/test-tubes/transformer-search/seed=433_rnn=xfmr-4_recurrence_num_layers=8_/version_0/checkpoints/epoch=27-fscore_val=0.92.ckpt\n",
      "/home/hugo/lab/instrument-recognition/test-tubes/transformer-search/seed=433_rnn=xfmr-4_recurrence_num_layers=8_/version_0\n",
      "/home/hugo/lab/instrument-recognition/test-tubes/transformer-search/seed=433_rnn=xfmr-4_recurrence_num_layers=8_/version_0/checkpoints/epoch=27-fscore_val=0.92.ckpt\n"
     ]
    },
    {
     "name": "stderr",
     "output_type": "stream",
     "text": [
      " 41%|████▏     | 2151/5208 [00:00<00:00, 21508.89it/s]"
     ]
    },
    {
     "name": "stdout",
     "output_type": "stream",
     "text": [
      "loading metadata from /home/hugo/lab/instrument-recognition/data/mdb-solos-train-soundscapes/train...\n"
     ]
    },
    {
     "name": "stderr",
     "output_type": "stream",
     "text": [
      "100%|██████████| 5208/5208 [00:00<00:00, 21006.05it/s]\n",
      "  0%|          | 0/12236 [00:00<?, ?it/s]"
     ]
    },
    {
     "name": "stdout",
     "output_type": "stream",
     "text": [
      "found 5208 entries\n",
      "{'trumpet': 1965, 'clarinet': 1966, 'tenor saxophone': 1914, 'piano': 1941, 'violin': 1948, 'female singer': 2011, 'flute': 1932, 'distorted electric guitar': 1945}\n",
      "loading metadata from /home/hugo/lab/instrument-recognition/data/mdb-solos-train-soundscapes/test...\n"
     ]
    },
    {
     "name": "stderr",
     "output_type": "stream",
     "text": [
      "100%|██████████| 12236/12236 [00:05<00:00, 2203.36it/s] \n",
      "100%|██████████| 3494/3494 [00:00<00:00, 26149.38it/s]"
     ]
    },
    {
     "name": "stdout",
     "output_type": "stream",
     "text": [
      "found 12236 entries\n",
      "{'clarinet': 732, 'piano': 2609, 'violin': 2900, 'tenor saxophone': 325, 'flute': 3167, 'distorted electric guitar': 955, 'female singer': 1142, 'trumpet': 406}\n",
      "loading metadata from /home/hugo/lab/instrument-recognition/data/mdb-solos-train-soundscapes/validation...\n"
     ]
    },
    {
     "name": "stderr",
     "output_type": "stream",
     "text": [
      "\n",
      "/home/hugo/lab/venv/lib/python3.8/site-packages/pytorch_lightning/utilities/distributed.py:45: UserWarning: Checkpoint directory /home/hugo/lab/instrument-recognition/test-tubes/transformer-search/seed=433_rnn=xfmr-4_recurrence_num_layers=8_/version_0/checkpoints exists and is not empty. With save_top_k=3, all files in this directory will be deleted when a checkpoint is saved!\n",
      "  warnings.warn(*args, **kwargs)\n",
      "GPU available: True, used: False\n",
      "TPU available: False, using: 0 TPU cores\n"
     ]
    },
    {
     "name": "stdout",
     "output_type": "stream",
     "text": [
      "found 3494 entries\n",
      "{'clarinet': 328, 'piano': 1022, 'flute': 233, 'female singer': 284, 'tenor saxophone': 29, 'violin': 1031, 'distorted electric guitar': 495, 'trumpet': 72}\n",
      "train entries: 5208\n",
      "val entries: 3494\n",
      "found checkpoint: /home/hugo/lab/instrument-recognition/test-tubes/transformer-search/seed=433_rnn=xfmr-4_recurrence_num_layers=8_/version_0/checkpoints/epoch=27-fscore_val=0.92.ckpt\n"
     ]
    },
    {
     "data": {
      "application/vnd.jupyter.widget-view+json": {
       "model_id": "e49304cc65784d3ab4dd6a5b6175459e",
       "version_major": 2,
       "version_minor": 0
      },
      "text/plain": [
       "HBox(children=(HTML(value='Testing'), FloatProgress(value=1.0, bar_style='info', layout=Layout(flex='2'), max=…"
      ]
     },
     "metadata": {},
     "output_type": "display_data"
    },
    {
     "name": "stdout",
     "output_type": "stream",
     "text": [
      "--------------------------------------------------------------------------------\n",
      "DATALOADER:0 TEST RESULTS\n",
      "{'ECE/test': 0.16029412307756924,\n",
      " 'accuracy/test': 0.8110493625367767,\n",
      " 'fscore/test': 0.7945443554939915,\n",
      " 'fscore_test': 0.7945443554939915,\n",
      " 'loss/test': tensor(1.2439),\n",
      " 'loss_test': tensor(1.2439),\n",
      " 'precision/test': 0.8479540413590485,\n",
      " 'recall/test': 0.8110493625367767}\n",
      "--------------------------------------------------------------------------------\n",
      "\n",
      "found checkpoint: /home/hugo/lab/instrument-recognition/test-tubes/transformer-search/seed=11_rnn=xfmr-64_recurrence_num_layers=4_/version_0/checkpoints/epoch=04-fscore_val=0.93.ckpt\n",
      "found checkpoint: /home/hugo/lab/instrument-recognition/test-tubes/transformer-search/seed=11_rnn=xfmr-64_recurrence_num_layers=4_/version_0/checkpoints/epoch=04-fscore_val=0.93.ckpt\n",
      "/home/hugo/lab/instrument-recognition/test-tubes/transformer-search/seed=11_rnn=xfmr-64_recurrence_num_layers=4_/version_0\n",
      "/home/hugo/lab/instrument-recognition/test-tubes/transformer-search/seed=11_rnn=xfmr-64_recurrence_num_layers=4_/version_0/checkpoints/epoch=04-fscore_val=0.93.ckpt\n"
     ]
    },
    {
     "name": "stderr",
     "output_type": "stream",
     "text": [
      " 42%|████▏     | 2199/5208 [00:00<00:00, 21988.40it/s]"
     ]
    },
    {
     "name": "stdout",
     "output_type": "stream",
     "text": [
      "loading metadata from /home/hugo/lab/instrument-recognition/data/mdb-solos-train-soundscapes/train...\n"
     ]
    },
    {
     "name": "stderr",
     "output_type": "stream",
     "text": [
      "100%|██████████| 5208/5208 [00:00<00:00, 19590.24it/s]\n",
      "  0%|          | 0/12236 [00:00<?, ?it/s]"
     ]
    },
    {
     "name": "stdout",
     "output_type": "stream",
     "text": [
      "found 5208 entries\n",
      "{'trumpet': 1965, 'clarinet': 1966, 'tenor saxophone': 1914, 'piano': 1941, 'violin': 1948, 'female singer': 2011, 'flute': 1932, 'distorted electric guitar': 1945}\n",
      "loading metadata from /home/hugo/lab/instrument-recognition/data/mdb-solos-train-soundscapes/test...\n"
     ]
    },
    {
     "name": "stderr",
     "output_type": "stream",
     "text": [
      "100%|██████████| 12236/12236 [00:00<00:00, 25717.18it/s]\n",
      " 64%|██████▍   | 2252/3494 [00:00<00:00, 22515.14it/s]"
     ]
    },
    {
     "name": "stdout",
     "output_type": "stream",
     "text": [
      "found 12236 entries\n",
      "{'clarinet': 732, 'piano': 2609, 'violin': 2900, 'tenor saxophone': 325, 'flute': 3167, 'distorted electric guitar': 955, 'female singer': 1142, 'trumpet': 406}\n",
      "loading metadata from /home/hugo/lab/instrument-recognition/data/mdb-solos-train-soundscapes/validation...\n"
     ]
    },
    {
     "name": "stderr",
     "output_type": "stream",
     "text": [
      "100%|██████████| 3494/3494 [00:00<00:00, 21618.85it/s]\n",
      "/home/hugo/lab/venv/lib/python3.8/site-packages/pytorch_lightning/utilities/distributed.py:45: UserWarning: Checkpoint directory /home/hugo/lab/instrument-recognition/test-tubes/transformer-search/seed=11_rnn=xfmr-64_recurrence_num_layers=4_/version_0/checkpoints exists and is not empty. With save_top_k=3, all files in this directory will be deleted when a checkpoint is saved!\n",
      "  warnings.warn(*args, **kwargs)\n",
      "GPU available: True, used: False\n",
      "TPU available: False, using: 0 TPU cores\n"
     ]
    },
    {
     "name": "stdout",
     "output_type": "stream",
     "text": [
      "found 3494 entries\n",
      "{'clarinet': 328, 'piano': 1022, 'flute': 233, 'female singer': 284, 'tenor saxophone': 29, 'violin': 1031, 'distorted electric guitar': 495, 'trumpet': 72}\n",
      "train entries: 5208\n",
      "val entries: 3494\n",
      "found checkpoint: /home/hugo/lab/instrument-recognition/test-tubes/transformer-search/seed=11_rnn=xfmr-64_recurrence_num_layers=4_/version_0/checkpoints/epoch=04-fscore_val=0.93.ckpt\n"
     ]
    },
    {
     "data": {
      "application/vnd.jupyter.widget-view+json": {
       "model_id": "165889ad03ca4068aad693ad81f7eb12",
       "version_major": 2,
       "version_minor": 0
      },
      "text/plain": [
       "HBox(children=(HTML(value='Testing'), FloatProgress(value=1.0, bar_style='info', layout=Layout(flex='2'), max=…"
      ]
     },
     "metadata": {},
     "output_type": "display_data"
    },
    {
     "name": "stdout",
     "output_type": "stream",
     "text": [
      "--------------------------------------------------------------------------------\n",
      "DATALOADER:0 TEST RESULTS\n",
      "{'ECE/test': 0.12852473815090582,\n",
      " 'accuracy/test': 0.8325705568268498,\n",
      " 'fscore/test': 0.8205520488223077,\n",
      " 'fscore_test': 0.8205520488223077,\n",
      " 'loss/test': tensor(0.9480),\n",
      " 'loss_test': tensor(0.9480),\n",
      " 'precision/test': 0.851365080713723,\n",
      " 'recall/test': 0.8325705568268498}\n",
      "--------------------------------------------------------------------------------\n",
      "\n",
      "found checkpoint: /home/hugo/lab/instrument-recognition/test-tubes/transformer-search/seed=23_rnn=xfmr-16_recurrence_num_layers=8_/version_0/checkpoints/epoch=20-fscore_val=0.92.ckpt\n",
      "found checkpoint: /home/hugo/lab/instrument-recognition/test-tubes/transformer-search/seed=23_rnn=xfmr-16_recurrence_num_layers=8_/version_0/checkpoints/epoch=20-fscore_val=0.92.ckpt\n",
      "/home/hugo/lab/instrument-recognition/test-tubes/transformer-search/seed=23_rnn=xfmr-16_recurrence_num_layers=8_/version_0\n",
      "/home/hugo/lab/instrument-recognition/test-tubes/transformer-search/seed=23_rnn=xfmr-16_recurrence_num_layers=8_/version_0/checkpoints/epoch=20-fscore_val=0.92.ckpt\n"
     ]
    },
    {
     "name": "stderr",
     "output_type": "stream",
     "text": [
      " 44%|████▍     | 2306/5208 [00:00<00:00, 23031.08it/s]"
     ]
    },
    {
     "name": "stdout",
     "output_type": "stream",
     "text": [
      "loading metadata from /home/hugo/lab/instrument-recognition/data/mdb-solos-train-soundscapes/train...\n"
     ]
    },
    {
     "name": "stderr",
     "output_type": "stream",
     "text": [
      "100%|██████████| 5208/5208 [00:00<00:00, 22078.50it/s]\n",
      "  0%|          | 0/12236 [00:00<?, ?it/s]"
     ]
    },
    {
     "name": "stdout",
     "output_type": "stream",
     "text": [
      "found 5208 entries\n",
      "{'trumpet': 1965, 'clarinet': 1966, 'tenor saxophone': 1914, 'piano': 1941, 'violin': 1948, 'female singer': 2011, 'flute': 1932, 'distorted electric guitar': 1945}\n",
      "loading metadata from /home/hugo/lab/instrument-recognition/data/mdb-solos-train-soundscapes/test...\n"
     ]
    },
    {
     "name": "stderr",
     "output_type": "stream",
     "text": [
      "100%|██████████| 12236/12236 [00:00<00:00, 26121.92it/s]\n",
      "100%|██████████| 3494/3494 [00:00<00:00, 27457.05it/s]\n"
     ]
    },
    {
     "name": "stdout",
     "output_type": "stream",
     "text": [
      "found 12236 entries\n",
      "{'clarinet': 732, 'piano': 2609, 'violin': 2900, 'tenor saxophone': 325, 'flute': 3167, 'distorted electric guitar': 955, 'female singer': 1142, 'trumpet': 406}\n",
      "loading metadata from /home/hugo/lab/instrument-recognition/data/mdb-solos-train-soundscapes/validation...\n",
      "found 3494 entries\n",
      "{'clarinet': 328, 'piano': 1022, 'flute': 233, 'female singer': 284, 'tenor saxophone': 29, 'violin': 1031, 'distorted electric guitar': 495, 'trumpet': 72}\n",
      "train entries: 5208\n",
      "val entries: 3494\n"
     ]
    },
    {
     "name": "stderr",
     "output_type": "stream",
     "text": [
      "/home/hugo/lab/venv/lib/python3.8/site-packages/pytorch_lightning/utilities/distributed.py:45: UserWarning: Checkpoint directory /home/hugo/lab/instrument-recognition/test-tubes/transformer-search/seed=23_rnn=xfmr-16_recurrence_num_layers=8_/version_0/checkpoints exists and is not empty. With save_top_k=3, all files in this directory will be deleted when a checkpoint is saved!\n",
      "  warnings.warn(*args, **kwargs)\n",
      "GPU available: True, used: False\n",
      "TPU available: False, using: 0 TPU cores\n"
     ]
    },
    {
     "name": "stdout",
     "output_type": "stream",
     "text": [
      "found checkpoint: /home/hugo/lab/instrument-recognition/test-tubes/transformer-search/seed=23_rnn=xfmr-16_recurrence_num_layers=8_/version_0/checkpoints/epoch=20-fscore_val=0.92.ckpt\n"
     ]
    },
    {
     "data": {
      "application/vnd.jupyter.widget-view+json": {
       "model_id": "9027274477414a07aec235791e346461",
       "version_major": 2,
       "version_minor": 0
      },
      "text/plain": [
       "HBox(children=(HTML(value='Testing'), FloatProgress(value=1.0, bar_style='info', layout=Layout(flex='2'), max=…"
      ]
     },
     "metadata": {},
     "output_type": "display_data"
    },
    {
     "name": "stdout",
     "output_type": "stream",
     "text": [
      "--------------------------------------------------------------------------------\n",
      "DATALOADER:0 TEST RESULTS\n",
      "{'ECE/test': 0.11446937799439125,\n",
      " 'accuracy/test': 0.8428952816824671,\n",
      " 'fscore/test': 0.8304949085666615,\n",
      " 'fscore_test': 0.8304949085666615,\n",
      " 'loss/test': tensor(0.8538),\n",
      " 'loss_test': tensor(0.8538),\n",
      " 'precision/test': 0.8604790438125812,\n",
      " 'recall/test': 0.8428952816824671}\n",
      "--------------------------------------------------------------------------------\n",
      "\n",
      "found checkpoint: /home/hugo/lab/instrument-recognition/test-tubes/transformer-search/seed=440_rnn=xfmr-64_recurrence_num_layers=8_/version_0/checkpoints/epoch=08-fscore_val=0.92.ckpt\n",
      "found checkpoint: /home/hugo/lab/instrument-recognition/test-tubes/transformer-search/seed=440_rnn=xfmr-64_recurrence_num_layers=8_/version_0/checkpoints/epoch=08-fscore_val=0.92.ckpt\n",
      "/home/hugo/lab/instrument-recognition/test-tubes/transformer-search/seed=440_rnn=xfmr-64_recurrence_num_layers=8_/version_0\n",
      "/home/hugo/lab/instrument-recognition/test-tubes/transformer-search/seed=440_rnn=xfmr-64_recurrence_num_layers=8_/version_0/checkpoints/epoch=08-fscore_val=0.92.ckpt\n"
     ]
    },
    {
     "name": "stderr",
     "output_type": "stream",
     "text": [
      " 54%|█████▍    | 2821/5208 [00:00<00:00, 27845.49it/s]"
     ]
    },
    {
     "name": "stdout",
     "output_type": "stream",
     "text": [
      "loading metadata from /home/hugo/lab/instrument-recognition/data/mdb-solos-train-soundscapes/train...\n"
     ]
    },
    {
     "name": "stderr",
     "output_type": "stream",
     "text": [
      "100%|██████████| 5208/5208 [00:00<00:00, 27588.98it/s]\n",
      " 25%|██▍       | 3011/12236 [00:00<00:00, 30105.00it/s]"
     ]
    },
    {
     "name": "stdout",
     "output_type": "stream",
     "text": [
      "found 5208 entries\n",
      "{'trumpet': 1965, 'clarinet': 1966, 'tenor saxophone': 1914, 'piano': 1941, 'violin': 1948, 'female singer': 2011, 'flute': 1932, 'distorted electric guitar': 1945}\n",
      "loading metadata from /home/hugo/lab/instrument-recognition/data/mdb-solos-train-soundscapes/test...\n"
     ]
    },
    {
     "name": "stderr",
     "output_type": "stream",
     "text": [
      "100%|██████████| 12236/12236 [00:00<00:00, 31952.64it/s]\n",
      "100%|██████████| 3494/3494 [00:00<00:00, 35577.65it/s]\n",
      "/home/hugo/lab/venv/lib/python3.8/site-packages/pytorch_lightning/utilities/distributed.py:45: UserWarning: Checkpoint directory /home/hugo/lab/instrument-recognition/test-tubes/transformer-search/seed=440_rnn=xfmr-64_recurrence_num_layers=8_/version_0/checkpoints exists and is not empty. With save_top_k=3, all files in this directory will be deleted when a checkpoint is saved!\n",
      "  warnings.warn(*args, **kwargs)\n",
      "GPU available: True, used: False\n",
      "TPU available: False, using: 0 TPU cores\n"
     ]
    },
    {
     "name": "stdout",
     "output_type": "stream",
     "text": [
      "found 12236 entries\n",
      "{'clarinet': 732, 'piano': 2609, 'violin': 2900, 'tenor saxophone': 325, 'flute': 3167, 'distorted electric guitar': 955, 'female singer': 1142, 'trumpet': 406}\n",
      "loading metadata from /home/hugo/lab/instrument-recognition/data/mdb-solos-train-soundscapes/validation...\n",
      "found 3494 entries\n",
      "{'clarinet': 328, 'piano': 1022, 'flute': 233, 'female singer': 284, 'tenor saxophone': 29, 'violin': 1031, 'distorted electric guitar': 495, 'trumpet': 72}\n",
      "train entries: 5208\n",
      "val entries: 3494\n",
      "found checkpoint: /home/hugo/lab/instrument-recognition/test-tubes/transformer-search/seed=440_rnn=xfmr-64_recurrence_num_layers=8_/version_0/checkpoints/epoch=08-fscore_val=0.92.ckpt\n"
     ]
    },
    {
     "data": {
      "application/vnd.jupyter.widget-view+json": {
       "model_id": "a7e6bbfb037b49099e89647dd78c7364",
       "version_major": 2,
       "version_minor": 0
      },
      "text/plain": [
       "HBox(children=(HTML(value='Testing'), FloatProgress(value=1.0, bar_style='info', layout=Layout(flex='2'), max=…"
      ]
     },
     "metadata": {},
     "output_type": "display_data"
    },
    {
     "name": "stdout",
     "output_type": "stream",
     "text": [
      "--------------------------------------------------------------------------------\n",
      "DATALOADER:0 TEST RESULTS\n",
      "{'ECE/test': 0.15019568992204052,\n",
      " 'accuracy/test': 0.8191129998910319,\n",
      " 'fscore/test': 0.8052749756222028,\n",
      " 'fscore_test': 0.8052749756222028,\n",
      " 'loss/test': tensor(1.0733),\n",
      " 'loss_test': tensor(1.0733),\n",
      " 'precision/test': 0.8407089791545175,\n",
      " 'recall/test': 0.8191129998910319}\n",
      "--------------------------------------------------------------------------------\n",
      "\n",
      "found checkpoint: /home/hugo/lab/instrument-recognition/test-tubes/transformer-search/seed=11_rnn=xfmr-4_recurrence_num_layers=8_/version_0/checkpoints/epoch=19-fscore_val=0.92.ckpt\n",
      "found checkpoint: /home/hugo/lab/instrument-recognition/test-tubes/transformer-search/seed=11_rnn=xfmr-4_recurrence_num_layers=8_/version_0/checkpoints/epoch=19-fscore_val=0.92.ckpt\n",
      "/home/hugo/lab/instrument-recognition/test-tubes/transformer-search/seed=11_rnn=xfmr-4_recurrence_num_layers=8_/version_0\n",
      "/home/hugo/lab/instrument-recognition/test-tubes/transformer-search/seed=11_rnn=xfmr-4_recurrence_num_layers=8_/version_0/checkpoints/epoch=19-fscore_val=0.92.ckpt\n"
     ]
    },
    {
     "name": "stderr",
     "output_type": "stream",
     "text": [
      " 48%|████▊     | 2494/5208 [00:00<00:00, 24939.43it/s]"
     ]
    },
    {
     "name": "stdout",
     "output_type": "stream",
     "text": [
      "loading metadata from /home/hugo/lab/instrument-recognition/data/mdb-solos-train-soundscapes/train...\n"
     ]
    },
    {
     "name": "stderr",
     "output_type": "stream",
     "text": [
      "100%|██████████| 5208/5208 [00:00<00:00, 24971.12it/s]\n",
      "  0%|          | 0/12236 [00:00<?, ?it/s]"
     ]
    },
    {
     "name": "stdout",
     "output_type": "stream",
     "text": [
      "found 5208 entries\n",
      "{'trumpet': 1965, 'clarinet': 1966, 'tenor saxophone': 1914, 'piano': 1941, 'violin': 1948, 'female singer': 2011, 'flute': 1932, 'distorted electric guitar': 1945}\n",
      "loading metadata from /home/hugo/lab/instrument-recognition/data/mdb-solos-train-soundscapes/test...\n"
     ]
    },
    {
     "name": "stderr",
     "output_type": "stream",
     "text": [
      "100%|██████████| 12236/12236 [00:00<00:00, 28875.26it/s]\n",
      "100%|██████████| 3494/3494 [00:00<00:00, 30834.95it/s]\n"
     ]
    },
    {
     "name": "stdout",
     "output_type": "stream",
     "text": [
      "found 12236 entries\n",
      "{'clarinet': 732, 'piano': 2609, 'violin': 2900, 'tenor saxophone': 325, 'flute': 3167, 'distorted electric guitar': 955, 'female singer': 1142, 'trumpet': 406}\n",
      "loading metadata from /home/hugo/lab/instrument-recognition/data/mdb-solos-train-soundscapes/validation...\n",
      "found 3494 entries\n",
      "{'clarinet': 328, 'piano': 1022, 'flute': 233, 'female singer': 284, 'tenor saxophone': 29, 'violin': 1031, 'distorted electric guitar': 495, 'trumpet': 72}\n",
      "train entries: 5208\n",
      "val entries: 3494\n"
     ]
    },
    {
     "name": "stderr",
     "output_type": "stream",
     "text": [
      "/home/hugo/lab/venv/lib/python3.8/site-packages/pytorch_lightning/utilities/distributed.py:45: UserWarning: Checkpoint directory /home/hugo/lab/instrument-recognition/test-tubes/transformer-search/seed=11_rnn=xfmr-4_recurrence_num_layers=8_/version_0/checkpoints exists and is not empty. With save_top_k=3, all files in this directory will be deleted when a checkpoint is saved!\n",
      "  warnings.warn(*args, **kwargs)\n",
      "GPU available: True, used: False\n",
      "TPU available: False, using: 0 TPU cores\n"
     ]
    },
    {
     "name": "stdout",
     "output_type": "stream",
     "text": [
      "found checkpoint: /home/hugo/lab/instrument-recognition/test-tubes/transformer-search/seed=11_rnn=xfmr-4_recurrence_num_layers=8_/version_0/checkpoints/epoch=19-fscore_val=0.92.ckpt\n"
     ]
    },
    {
     "data": {
      "application/vnd.jupyter.widget-view+json": {
       "model_id": "0b5a369c0f584a5c939e28a698dc450d",
       "version_major": 2,
       "version_minor": 0
      },
      "text/plain": [
       "HBox(children=(HTML(value='Testing'), FloatProgress(value=1.0, bar_style='info', layout=Layout(flex='2'), max=…"
      ]
     },
     "metadata": {},
     "output_type": "display_data"
    },
    {
     "name": "stdout",
     "output_type": "stream",
     "text": [
      "--------------------------------------------------------------------------------\n",
      "DATALOADER:0 TEST RESULTS\n",
      "{'ECE/test': 0.12068696009027449,\n",
      " 'accuracy/test': 0.849160945842868,\n",
      " 'fscore/test': 0.8396130713227908,\n",
      " 'fscore_test': 0.8396130713227908,\n",
      " 'loss/test': tensor(0.8854),\n",
      " 'loss_test': tensor(0.8854),\n",
      " 'precision/test': 0.8632105557554596,\n",
      " 'recall/test': 0.849160945842868}\n",
      "--------------------------------------------------------------------------------\n",
      "\n",
      "found checkpoint: /home/hugo/lab/instrument-recognition/test-tubes/transformer-search/seed=11_rnn=xfmr-1_recurrence_num_layers=4_/version_0/checkpoints/epoch=103-fscore_val=0.95.ckpt\n",
      "found checkpoint: /home/hugo/lab/instrument-recognition/test-tubes/transformer-search/seed=11_rnn=xfmr-1_recurrence_num_layers=4_/version_0/checkpoints/epoch=103-fscore_val=0.95.ckpt\n",
      "/home/hugo/lab/instrument-recognition/test-tubes/transformer-search/seed=11_rnn=xfmr-1_recurrence_num_layers=4_/version_0\n",
      "/home/hugo/lab/instrument-recognition/test-tubes/transformer-search/seed=11_rnn=xfmr-1_recurrence_num_layers=4_/version_0/checkpoints/epoch=103-fscore_val=0.95.ckpt\n"
     ]
    },
    {
     "name": "stderr",
     "output_type": "stream",
     "text": [
      " 50%|████▉     | 2594/5208 [00:00<00:00, 25937.43it/s]"
     ]
    },
    {
     "name": "stdout",
     "output_type": "stream",
     "text": [
      "loading metadata from /home/hugo/lab/instrument-recognition/data/mdb-solos-train-soundscapes/train...\n"
     ]
    },
    {
     "name": "stderr",
     "output_type": "stream",
     "text": [
      "100%|██████████| 5208/5208 [00:00<00:00, 25425.76it/s]\n",
      "  0%|          | 0/12236 [00:00<?, ?it/s]"
     ]
    },
    {
     "name": "stdout",
     "output_type": "stream",
     "text": [
      "found 5208 entries\n",
      "{'trumpet': 1965, 'clarinet': 1966, 'tenor saxophone': 1914, 'piano': 1941, 'violin': 1948, 'female singer': 2011, 'flute': 1932, 'distorted electric guitar': 1945}\n",
      "loading metadata from /home/hugo/lab/instrument-recognition/data/mdb-solos-train-soundscapes/test...\n"
     ]
    },
    {
     "name": "stderr",
     "output_type": "stream",
     "text": [
      "100%|██████████| 12236/12236 [00:00<00:00, 36200.08it/s]\n",
      "100%|██████████| 3494/3494 [00:00<00:00, 43245.48it/s]\n",
      "/home/hugo/lab/venv/lib/python3.8/site-packages/pytorch_lightning/utilities/distributed.py:45: UserWarning: Checkpoint directory /home/hugo/lab/instrument-recognition/test-tubes/transformer-search/seed=11_rnn=xfmr-1_recurrence_num_layers=4_/version_0/checkpoints exists and is not empty. With save_top_k=3, all files in this directory will be deleted when a checkpoint is saved!\n",
      "  warnings.warn(*args, **kwargs)\n",
      "GPU available: True, used: False\n",
      "TPU available: False, using: 0 TPU cores\n"
     ]
    },
    {
     "name": "stdout",
     "output_type": "stream",
     "text": [
      "found 12236 entries\n",
      "{'clarinet': 732, 'piano': 2609, 'violin': 2900, 'tenor saxophone': 325, 'flute': 3167, 'distorted electric guitar': 955, 'female singer': 1142, 'trumpet': 406}\n",
      "loading metadata from /home/hugo/lab/instrument-recognition/data/mdb-solos-train-soundscapes/validation...\n",
      "found 3494 entries\n",
      "{'clarinet': 328, 'piano': 1022, 'flute': 233, 'female singer': 284, 'tenor saxophone': 29, 'violin': 1031, 'distorted electric guitar': 495, 'trumpet': 72}\n",
      "train entries: 5208\n",
      "val entries: 3494\n",
      "found checkpoint: /home/hugo/lab/instrument-recognition/test-tubes/transformer-search/seed=11_rnn=xfmr-1_recurrence_num_layers=4_/version_0/checkpoints/epoch=103-fscore_val=0.95.ckpt\n"
     ]
    },
    {
     "data": {
      "application/vnd.jupyter.widget-view+json": {
       "model_id": "76f2272ef3cf48da8424fa890ddfeed3",
       "version_major": 2,
       "version_minor": 0
      },
      "text/plain": [
       "HBox(children=(HTML(value='Testing'), FloatProgress(value=1.0, bar_style='info', layout=Layout(flex='2'), max=…"
      ]
     },
     "metadata": {},
     "output_type": "display_data"
    },
    {
     "name": "stdout",
     "output_type": "stream",
     "text": [
      "--------------------------------------------------------------------------------\n",
      "DATALOADER:0 TEST RESULTS\n",
      "{'ECE/test': 0.13123388815022924,\n",
      " 'accuracy/test': 0.8524027459954233,\n",
      " 'fscore/test': 0.8430942685942722,\n",
      " 'fscore_test': 0.8430942685942722,\n",
      " 'loss/test': tensor(1.3555),\n",
      " 'loss_test': tensor(1.3555),\n",
      " 'precision/test': 0.868170005854531,\n",
      " 'recall/test': 0.8524027459954233}\n",
      "--------------------------------------------------------------------------------\n",
      "\n",
      "found checkpoint: /home/hugo/lab/instrument-recognition/test-tubes/transformer-search/seed=23_rnn=xfmr-32_recurrence_num_layers=8_/version_0/checkpoints/epoch=25-fscore_val=0.93.ckpt\n",
      "found checkpoint: /home/hugo/lab/instrument-recognition/test-tubes/transformer-search/seed=23_rnn=xfmr-32_recurrence_num_layers=8_/version_0/checkpoints/epoch=25-fscore_val=0.93.ckpt\n",
      "/home/hugo/lab/instrument-recognition/test-tubes/transformer-search/seed=23_rnn=xfmr-32_recurrence_num_layers=8_/version_0\n",
      "/home/hugo/lab/instrument-recognition/test-tubes/transformer-search/seed=23_rnn=xfmr-32_recurrence_num_layers=8_/version_0/checkpoints/epoch=25-fscore_val=0.93.ckpt\n"
     ]
    },
    {
     "name": "stderr",
     "output_type": "stream",
     "text": [
      " 44%|████▎     | 2268/5208 [00:00<00:00, 22672.29it/s]"
     ]
    },
    {
     "name": "stdout",
     "output_type": "stream",
     "text": [
      "loading metadata from /home/hugo/lab/instrument-recognition/data/mdb-solos-train-soundscapes/train...\n"
     ]
    },
    {
     "name": "stderr",
     "output_type": "stream",
     "text": [
      "100%|██████████| 5208/5208 [00:00<00:00, 20881.49it/s]\n",
      "  0%|          | 0/12236 [00:00<?, ?it/s]"
     ]
    },
    {
     "name": "stdout",
     "output_type": "stream",
     "text": [
      "found 5208 entries\n",
      "{'trumpet': 1965, 'clarinet': 1966, 'tenor saxophone': 1914, 'piano': 1941, 'violin': 1948, 'female singer': 2011, 'flute': 1932, 'distorted electric guitar': 1945}\n",
      "loading metadata from /home/hugo/lab/instrument-recognition/data/mdb-solos-train-soundscapes/test...\n"
     ]
    },
    {
     "name": "stderr",
     "output_type": "stream",
     "text": [
      "100%|██████████| 12236/12236 [00:00<00:00, 25266.11it/s]\n",
      " 76%|███████▌  | 2660/3494 [00:00<00:00, 26596.60it/s]"
     ]
    },
    {
     "name": "stdout",
     "output_type": "stream",
     "text": [
      "found 12236 entries\n",
      "{'clarinet': 732, 'piano': 2609, 'violin': 2900, 'tenor saxophone': 325, 'flute': 3167, 'distorted electric guitar': 955, 'female singer': 1142, 'trumpet': 406}\n",
      "loading metadata from /home/hugo/lab/instrument-recognition/data/mdb-solos-train-soundscapes/validation...\n"
     ]
    },
    {
     "name": "stderr",
     "output_type": "stream",
     "text": [
      "100%|██████████| 3494/3494 [00:00<00:00, 25633.13it/s]\n",
      "/home/hugo/lab/venv/lib/python3.8/site-packages/pytorch_lightning/utilities/distributed.py:45: UserWarning: Checkpoint directory /home/hugo/lab/instrument-recognition/test-tubes/transformer-search/seed=23_rnn=xfmr-32_recurrence_num_layers=8_/version_0/checkpoints exists and is not empty. With save_top_k=3, all files in this directory will be deleted when a checkpoint is saved!\n",
      "  warnings.warn(*args, **kwargs)\n",
      "GPU available: True, used: False\n",
      "TPU available: False, using: 0 TPU cores\n"
     ]
    },
    {
     "name": "stdout",
     "output_type": "stream",
     "text": [
      "found 3494 entries\n",
      "{'clarinet': 328, 'piano': 1022, 'flute': 233, 'female singer': 284, 'tenor saxophone': 29, 'violin': 1031, 'distorted electric guitar': 495, 'trumpet': 72}\n",
      "train entries: 5208\n",
      "val entries: 3494\n",
      "found checkpoint: /home/hugo/lab/instrument-recognition/test-tubes/transformer-search/seed=23_rnn=xfmr-32_recurrence_num_layers=8_/version_0/checkpoints/epoch=25-fscore_val=0.93.ckpt\n"
     ]
    },
    {
     "data": {
      "application/vnd.jupyter.widget-view+json": {
       "model_id": "ff5872e377704d65adb046c3b82f75e9",
       "version_major": 2,
       "version_minor": 0
      },
      "text/plain": [
       "HBox(children=(HTML(value='Testing'), FloatProgress(value=1.0, bar_style='info', layout=Layout(flex='2'), max=…"
      ]
     },
     "metadata": {},
     "output_type": "display_data"
    },
    {
     "name": "stdout",
     "output_type": "stream",
     "text": [
      "--------------------------------------------------------------------------------\n",
      "DATALOADER:0 TEST RESULTS\n",
      "{'ECE/test': 0.12193959745590341,\n",
      " 'accuracy/test': 0.8342050779121717,\n",
      " 'fscore/test': 0.8238844556123377,\n",
      " 'fscore_test': 0.8238844556123377,\n",
      " 'loss/test': tensor(0.9810),\n",
      " 'loss_test': tensor(0.9810),\n",
      " 'precision/test': 0.8529224942901859,\n",
      " 'recall/test': 0.8342050779121717}\n",
      "--------------------------------------------------------------------------------\n",
      "\n",
      "found checkpoint: /home/hugo/lab/instrument-recognition/test-tubes/transformer-search/seed=433_rnn=xfmr-2_recurrence_num_layers=6_/version_0/checkpoints/epoch=22-fscore_val=0.93.ckpt\n",
      "found checkpoint: /home/hugo/lab/instrument-recognition/test-tubes/transformer-search/seed=433_rnn=xfmr-2_recurrence_num_layers=6_/version_0/checkpoints/epoch=22-fscore_val=0.93.ckpt\n",
      "/home/hugo/lab/instrument-recognition/test-tubes/transformer-search/seed=433_rnn=xfmr-2_recurrence_num_layers=6_/version_0\n",
      "/home/hugo/lab/instrument-recognition/test-tubes/transformer-search/seed=433_rnn=xfmr-2_recurrence_num_layers=6_/version_0/checkpoints/epoch=22-fscore_val=0.93.ckpt\n"
     ]
    },
    {
     "name": "stderr",
     "output_type": "stream",
     "text": [
      " 56%|█████▌    | 2893/5208 [00:00<00:00, 28781.46it/s]"
     ]
    },
    {
     "name": "stdout",
     "output_type": "stream",
     "text": [
      "loading metadata from /home/hugo/lab/instrument-recognition/data/mdb-solos-train-soundscapes/train...\n"
     ]
    },
    {
     "name": "stderr",
     "output_type": "stream",
     "text": [
      "100%|██████████| 5208/5208 [00:00<00:00, 24962.13it/s]\n",
      "  0%|          | 0/12236 [00:00<?, ?it/s]"
     ]
    },
    {
     "name": "stdout",
     "output_type": "stream",
     "text": [
      "found 5208 entries\n",
      "{'trumpet': 1965, 'clarinet': 1966, 'tenor saxophone': 1914, 'piano': 1941, 'violin': 1948, 'female singer': 2011, 'flute': 1932, 'distorted electric guitar': 1945}\n",
      "loading metadata from /home/hugo/lab/instrument-recognition/data/mdb-solos-train-soundscapes/test...\n"
     ]
    },
    {
     "name": "stderr",
     "output_type": "stream",
     "text": [
      "100%|██████████| 12236/12236 [00:00<00:00, 26244.60it/s]\n",
      " 73%|███████▎  | 2556/3494 [00:00<00:00, 25554.72it/s]"
     ]
    },
    {
     "name": "stdout",
     "output_type": "stream",
     "text": [
      "found 12236 entries\n",
      "{'clarinet': 732, 'piano': 2609, 'violin': 2900, 'tenor saxophone': 325, 'flute': 3167, 'distorted electric guitar': 955, 'female singer': 1142, 'trumpet': 406}\n",
      "loading metadata from /home/hugo/lab/instrument-recognition/data/mdb-solos-train-soundscapes/validation...\n"
     ]
    },
    {
     "name": "stderr",
     "output_type": "stream",
     "text": [
      "100%|██████████| 3494/3494 [00:00<00:00, 24354.49it/s]\n",
      "/home/hugo/lab/venv/lib/python3.8/site-packages/pytorch_lightning/utilities/distributed.py:45: UserWarning: Checkpoint directory /home/hugo/lab/instrument-recognition/test-tubes/transformer-search/seed=433_rnn=xfmr-2_recurrence_num_layers=6_/version_0/checkpoints exists and is not empty. With save_top_k=3, all files in this directory will be deleted when a checkpoint is saved!\n",
      "  warnings.warn(*args, **kwargs)\n",
      "GPU available: True, used: False\n",
      "TPU available: False, using: 0 TPU cores\n"
     ]
    },
    {
     "name": "stdout",
     "output_type": "stream",
     "text": [
      "found 3494 entries\n",
      "{'clarinet': 328, 'piano': 1022, 'flute': 233, 'female singer': 284, 'tenor saxophone': 29, 'violin': 1031, 'distorted electric guitar': 495, 'trumpet': 72}\n",
      "train entries: 5208\n",
      "val entries: 3494\n",
      "found checkpoint: /home/hugo/lab/instrument-recognition/test-tubes/transformer-search/seed=433_rnn=xfmr-2_recurrence_num_layers=6_/version_0/checkpoints/epoch=22-fscore_val=0.93.ckpt\n"
     ]
    },
    {
     "data": {
      "application/vnd.jupyter.widget-view+json": {
       "model_id": "fcbf9cf9ee5d4093a9a3328f105003a8",
       "version_major": 2,
       "version_minor": 0
      },
      "text/plain": [
       "HBox(children=(HTML(value='Testing'), FloatProgress(value=1.0, bar_style='info', layout=Layout(flex='2'), max=…"
      ]
     },
     "metadata": {},
     "output_type": "display_data"
    },
    {
     "name": "stdout",
     "output_type": "stream",
     "text": [
      "--------------------------------------------------------------------------------\n",
      "DATALOADER:0 TEST RESULTS\n",
      "{'ECE/test': 0.11233797737445861,\n",
      " 'accuracy/test': 0.8623733246158876,\n",
      " 'fscore/test': 0.8528197746210107,\n",
      " 'fscore_test': 0.8528197746210107,\n",
      " 'loss/test': tensor(0.8703),\n",
      " 'loss_test': tensor(0.8703),\n",
      " 'precision/test': 0.8793739711285925,\n",
      " 'recall/test': 0.8623733246158876}\n",
      "--------------------------------------------------------------------------------\n",
      "\n",
      "found checkpoint: /home/hugo/lab/instrument-recognition/test-tubes/transformer-search/seed=440_rnn=xfmr-16_recurrence_num_layers=4_/version_0/checkpoints/epoch=80-fscore_val=0.94.ckpt\n",
      "found checkpoint: /home/hugo/lab/instrument-recognition/test-tubes/transformer-search/seed=440_rnn=xfmr-16_recurrence_num_layers=4_/version_0/checkpoints/epoch=80-fscore_val=0.94.ckpt\n",
      "/home/hugo/lab/instrument-recognition/test-tubes/transformer-search/seed=440_rnn=xfmr-16_recurrence_num_layers=4_/version_0\n",
      "/home/hugo/lab/instrument-recognition/test-tubes/transformer-search/seed=440_rnn=xfmr-16_recurrence_num_layers=4_/version_0/checkpoints/epoch=80-fscore_val=0.94.ckpt\n"
     ]
    },
    {
     "name": "stderr",
     "output_type": "stream",
     "text": [
      " 52%|█████▏    | 2692/5208 [00:00<00:00, 26912.45it/s]"
     ]
    },
    {
     "name": "stdout",
     "output_type": "stream",
     "text": [
      "loading metadata from /home/hugo/lab/instrument-recognition/data/mdb-solos-train-soundscapes/train...\n"
     ]
    },
    {
     "name": "stderr",
     "output_type": "stream",
     "text": [
      "100%|██████████| 5208/5208 [00:00<00:00, 23154.45it/s]\n",
      "  0%|          | 0/12236 [00:00<?, ?it/s]"
     ]
    },
    {
     "name": "stdout",
     "output_type": "stream",
     "text": [
      "found 5208 entries\n",
      "{'trumpet': 1965, 'clarinet': 1966, 'tenor saxophone': 1914, 'piano': 1941, 'violin': 1948, 'female singer': 2011, 'flute': 1932, 'distorted electric guitar': 1945}\n",
      "loading metadata from /home/hugo/lab/instrument-recognition/data/mdb-solos-train-soundscapes/test...\n"
     ]
    },
    {
     "name": "stderr",
     "output_type": "stream",
     "text": [
      "100%|██████████| 12236/12236 [00:00<00:00, 27725.57it/s]\n",
      "100%|██████████| 3494/3494 [00:00<00:00, 30018.41it/s]\n"
     ]
    },
    {
     "name": "stdout",
     "output_type": "stream",
     "text": [
      "found 12236 entries\n",
      "{'clarinet': 732, 'piano': 2609, 'violin': 2900, 'tenor saxophone': 325, 'flute': 3167, 'distorted electric guitar': 955, 'female singer': 1142, 'trumpet': 406}\n",
      "loading metadata from /home/hugo/lab/instrument-recognition/data/mdb-solos-train-soundscapes/validation...\n",
      "found 3494 entries\n",
      "{'clarinet': 328, 'piano': 1022, 'flute': 233, 'female singer': 284, 'tenor saxophone': 29, 'violin': 1031, 'distorted electric guitar': 495, 'trumpet': 72}\n",
      "train entries: 5208\n",
      "val entries: 3494\n"
     ]
    },
    {
     "name": "stderr",
     "output_type": "stream",
     "text": [
      "/home/hugo/lab/venv/lib/python3.8/site-packages/pytorch_lightning/utilities/distributed.py:45: UserWarning: Checkpoint directory /home/hugo/lab/instrument-recognition/test-tubes/transformer-search/seed=440_rnn=xfmr-16_recurrence_num_layers=4_/version_0/checkpoints exists and is not empty. With save_top_k=3, all files in this directory will be deleted when a checkpoint is saved!\n",
      "  warnings.warn(*args, **kwargs)\n",
      "GPU available: True, used: False\n",
      "TPU available: False, using: 0 TPU cores\n"
     ]
    },
    {
     "name": "stdout",
     "output_type": "stream",
     "text": [
      "found checkpoint: /home/hugo/lab/instrument-recognition/test-tubes/transformer-search/seed=440_rnn=xfmr-16_recurrence_num_layers=4_/version_0/checkpoints/epoch=80-fscore_val=0.94.ckpt\n"
     ]
    },
    {
     "data": {
      "application/vnd.jupyter.widget-view+json": {
       "model_id": "42c405599960417db0f5d0d377c90eb8",
       "version_major": 2,
       "version_minor": 0
      },
      "text/plain": [
       "HBox(children=(HTML(value='Testing'), FloatProgress(value=1.0, bar_style='info', layout=Layout(flex='2'), max=…"
      ]
     },
     "metadata": {},
     "output_type": "display_data"
    },
    {
     "name": "stdout",
     "output_type": "stream",
     "text": [
      "--------------------------------------------------------------------------------\n",
      "DATALOADER:0 TEST RESULTS\n",
      "{'ECE/test': 0.13589018545139586,\n",
      " 'accuracy/test': 0.8394900294213795,\n",
      " 'fscore/test': 0.8304837872681943,\n",
      " 'fscore_test': 0.8304837872681943,\n",
      " 'loss/test': tensor(1.1313),\n",
      " 'loss_test': tensor(1.1313),\n",
      " 'precision/test': 0.8628662602694491,\n",
      " 'recall/test': 0.8394900294213795}\n",
      "--------------------------------------------------------------------------------\n",
      "\n",
      "found checkpoint: /home/hugo/lab/instrument-recognition/test-tubes/transformer-search/seed=12_rnn=xfmr-64_recurrence_num_layers=6_/version_0/checkpoints/epoch=23-fscore_val=0.92.ckpt\n",
      "found checkpoint: /home/hugo/lab/instrument-recognition/test-tubes/transformer-search/seed=12_rnn=xfmr-64_recurrence_num_layers=6_/version_0/checkpoints/epoch=23-fscore_val=0.92.ckpt\n",
      "/home/hugo/lab/instrument-recognition/test-tubes/transformer-search/seed=12_rnn=xfmr-64_recurrence_num_layers=6_/version_0\n",
      "/home/hugo/lab/instrument-recognition/test-tubes/transformer-search/seed=12_rnn=xfmr-64_recurrence_num_layers=6_/version_0/checkpoints/epoch=23-fscore_val=0.92.ckpt\n"
     ]
    },
    {
     "name": "stderr",
     "output_type": "stream",
     "text": [
      " 42%|████▏     | 2179/5208 [00:00<00:00, 21784.72it/s]"
     ]
    },
    {
     "name": "stdout",
     "output_type": "stream",
     "text": [
      "loading metadata from /home/hugo/lab/instrument-recognition/data/mdb-solos-train-soundscapes/train...\n"
     ]
    },
    {
     "name": "stderr",
     "output_type": "stream",
     "text": [
      "100%|██████████| 5208/5208 [00:00<00:00, 19888.24it/s]\n",
      "  0%|          | 0/12236 [00:00<?, ?it/s]"
     ]
    },
    {
     "name": "stdout",
     "output_type": "stream",
     "text": [
      "found 5208 entries\n",
      "{'trumpet': 1965, 'clarinet': 1966, 'tenor saxophone': 1914, 'piano': 1941, 'violin': 1948, 'female singer': 2011, 'flute': 1932, 'distorted electric guitar': 1945}\n",
      "loading metadata from /home/hugo/lab/instrument-recognition/data/mdb-solos-train-soundscapes/test...\n"
     ]
    },
    {
     "name": "stderr",
     "output_type": "stream",
     "text": [
      "100%|██████████| 12236/12236 [00:00<00:00, 24893.36it/s]\n",
      "100%|██████████| 3494/3494 [00:00<00:00, 24941.54it/s]"
     ]
    },
    {
     "name": "stdout",
     "output_type": "stream",
     "text": [
      "found 12236 entries\n",
      "{'clarinet': 732, 'piano': 2609, 'violin': 2900, 'tenor saxophone': 325, 'flute': 3167, 'distorted electric guitar': 955, 'female singer': 1142, 'trumpet': 406}\n",
      "loading metadata from /home/hugo/lab/instrument-recognition/data/mdb-solos-train-soundscapes/validation...\n",
      "found 3494 entries\n",
      "{'clarinet': 328, 'piano': 1022, 'flute': 233, 'female singer': 284, 'tenor saxophone': 29, 'violin': 1031, 'distorted electric guitar': 495, 'trumpet': 72}\n",
      "train entries: 5208\n",
      "val entries: 3494\n"
     ]
    },
    {
     "name": "stderr",
     "output_type": "stream",
     "text": [
      "\n",
      "/home/hugo/lab/venv/lib/python3.8/site-packages/pytorch_lightning/utilities/distributed.py:45: UserWarning: Checkpoint directory /home/hugo/lab/instrument-recognition/test-tubes/transformer-search/seed=12_rnn=xfmr-64_recurrence_num_layers=6_/version_0/checkpoints exists and is not empty. With save_top_k=3, all files in this directory will be deleted when a checkpoint is saved!\n",
      "  warnings.warn(*args, **kwargs)\n",
      "GPU available: True, used: False\n",
      "TPU available: False, using: 0 TPU cores\n"
     ]
    },
    {
     "name": "stdout",
     "output_type": "stream",
     "text": [
      "found checkpoint: /home/hugo/lab/instrument-recognition/test-tubes/transformer-search/seed=12_rnn=xfmr-64_recurrence_num_layers=6_/version_0/checkpoints/epoch=23-fscore_val=0.92.ckpt\n"
     ]
    },
    {
     "data": {
      "application/vnd.jupyter.widget-view+json": {
       "model_id": "e8bf634d28c94c44a437d5d4d6bca903",
       "version_major": 2,
       "version_minor": 0
      },
      "text/plain": [
       "HBox(children=(HTML(value='Testing'), FloatProgress(value=1.0, bar_style='info', layout=Layout(flex='2'), max=…"
      ]
     },
     "metadata": {},
     "output_type": "display_data"
    },
    {
     "name": "stdout",
     "output_type": "stream",
     "text": [
      "--------------------------------------------------------------------------------\n",
      "DATALOADER:0 TEST RESULTS\n",
      "{'ECE/test': 0.1371358099545874,\n",
      " 'accuracy/test': 0.8254059060695216,\n",
      " 'fscore/test': 0.812077855578273,\n",
      " 'fscore_test': 0.812077855578273,\n",
      " 'loss/test': tensor(0.9355),\n",
      " 'loss_test': tensor(0.9355),\n",
      " 'precision/test': 0.849318540599167,\n",
      " 'recall/test': 0.8254059060695216}\n",
      "--------------------------------------------------------------------------------\n",
      "\n",
      "found checkpoint: /home/hugo/lab/instrument-recognition/test-tubes/transformer-search/seed=12_rnn=xfmr-32_recurrence_num_layers=8_/version_0/checkpoints/epoch=24-fscore_val=0.92.ckpt\n",
      "found checkpoint: /home/hugo/lab/instrument-recognition/test-tubes/transformer-search/seed=12_rnn=xfmr-32_recurrence_num_layers=8_/version_0/checkpoints/epoch=24-fscore_val=0.92.ckpt\n",
      "/home/hugo/lab/instrument-recognition/test-tubes/transformer-search/seed=12_rnn=xfmr-32_recurrence_num_layers=8_/version_0\n",
      "/home/hugo/lab/instrument-recognition/test-tubes/transformer-search/seed=12_rnn=xfmr-32_recurrence_num_layers=8_/version_0/checkpoints/epoch=24-fscore_val=0.92.ckpt\n"
     ]
    },
    {
     "name": "stderr",
     "output_type": "stream",
     "text": [
      " 42%|████▏     | 2166/5208 [00:00<00:00, 21649.80it/s]"
     ]
    },
    {
     "name": "stdout",
     "output_type": "stream",
     "text": [
      "loading metadata from /home/hugo/lab/instrument-recognition/data/mdb-solos-train-soundscapes/train...\n"
     ]
    },
    {
     "name": "stderr",
     "output_type": "stream",
     "text": [
      "100%|██████████| 5208/5208 [00:00<00:00, 22184.33it/s]\n",
      "  0%|          | 0/12236 [00:00<?, ?it/s]"
     ]
    },
    {
     "name": "stdout",
     "output_type": "stream",
     "text": [
      "found 5208 entries\n",
      "{'trumpet': 1965, 'clarinet': 1966, 'tenor saxophone': 1914, 'piano': 1941, 'violin': 1948, 'female singer': 2011, 'flute': 1932, 'distorted electric guitar': 1945}\n",
      "loading metadata from /home/hugo/lab/instrument-recognition/data/mdb-solos-train-soundscapes/test...\n"
     ]
    },
    {
     "name": "stderr",
     "output_type": "stream",
     "text": [
      "100%|██████████| 12236/12236 [00:05<00:00, 2176.12it/s]\n",
      " 80%|███████▉  | 2788/3494 [00:00<00:00, 27872.45it/s]"
     ]
    },
    {
     "name": "stdout",
     "output_type": "stream",
     "text": [
      "found 12236 entries\n",
      "{'clarinet': 732, 'piano': 2609, 'violin': 2900, 'tenor saxophone': 325, 'flute': 3167, 'distorted electric guitar': 955, 'female singer': 1142, 'trumpet': 406}\n",
      "loading metadata from /home/hugo/lab/instrument-recognition/data/mdb-solos-train-soundscapes/validation...\n"
     ]
    },
    {
     "name": "stderr",
     "output_type": "stream",
     "text": [
      "100%|██████████| 3494/3494 [00:00<00:00, 27392.85it/s]\n",
      "/home/hugo/lab/venv/lib/python3.8/site-packages/pytorch_lightning/utilities/distributed.py:45: UserWarning: Checkpoint directory /home/hugo/lab/instrument-recognition/test-tubes/transformer-search/seed=12_rnn=xfmr-32_recurrence_num_layers=8_/version_0/checkpoints exists and is not empty. With save_top_k=3, all files in this directory will be deleted when a checkpoint is saved!\n",
      "  warnings.warn(*args, **kwargs)\n",
      "GPU available: True, used: False\n",
      "TPU available: False, using: 0 TPU cores\n"
     ]
    },
    {
     "name": "stdout",
     "output_type": "stream",
     "text": [
      "found 3494 entries\n",
      "{'clarinet': 328, 'piano': 1022, 'flute': 233, 'female singer': 284, 'tenor saxophone': 29, 'violin': 1031, 'distorted electric guitar': 495, 'trumpet': 72}\n",
      "train entries: 5208\n",
      "val entries: 3494\n",
      "found checkpoint: /home/hugo/lab/instrument-recognition/test-tubes/transformer-search/seed=12_rnn=xfmr-32_recurrence_num_layers=8_/version_0/checkpoints/epoch=24-fscore_val=0.92.ckpt\n"
     ]
    },
    {
     "data": {
      "application/vnd.jupyter.widget-view+json": {
       "model_id": "c34d7ff895ef4a2e9154e78ebc752671",
       "version_major": 2,
       "version_minor": 0
      },
      "text/plain": [
       "HBox(children=(HTML(value='Testing'), FloatProgress(value=1.0, bar_style='info', layout=Layout(flex='2'), max=…"
      ]
     },
     "metadata": {},
     "output_type": "display_data"
    },
    {
     "name": "stdout",
     "output_type": "stream",
     "text": [
      "--------------------------------------------------------------------------------\n",
      "DATALOADER:0 TEST RESULTS\n",
      "{'ECE/test': 0.13452449123594015,\n",
      " 'accuracy/test': 0.8161163779012749,\n",
      " 'fscore/test': 0.8003998899357586,\n",
      " 'fscore_test': 0.8003998899357586,\n",
      " 'loss/test': tensor(1.0227),\n",
      " 'loss_test': tensor(1.0227),\n",
      " 'precision/test': 0.8380717688288247,\n",
      " 'recall/test': 0.8161163779012749}\n",
      "--------------------------------------------------------------------------------\n",
      "\n",
      "found checkpoint: /home/hugo/lab/instrument-recognition/test-tubes/transformer-search/seed=433_rnn=xfmr-1_recurrence_num_layers=2_/version_0/checkpoints/epoch=45-fscore_val=0.93.ckpt\n",
      "found checkpoint: /home/hugo/lab/instrument-recognition/test-tubes/transformer-search/seed=433_rnn=xfmr-1_recurrence_num_layers=2_/version_0/checkpoints/epoch=45-fscore_val=0.93.ckpt\n",
      "/home/hugo/lab/instrument-recognition/test-tubes/transformer-search/seed=433_rnn=xfmr-1_recurrence_num_layers=2_/version_0\n",
      "/home/hugo/lab/instrument-recognition/test-tubes/transformer-search/seed=433_rnn=xfmr-1_recurrence_num_layers=2_/version_0/checkpoints/epoch=45-fscore_val=0.93.ckpt\n"
     ]
    },
    {
     "name": "stderr",
     "output_type": "stream",
     "text": [
      " 41%|████▏     | 2158/5208 [00:00<00:00, 21575.70it/s]"
     ]
    },
    {
     "name": "stdout",
     "output_type": "stream",
     "text": [
      "loading metadata from /home/hugo/lab/instrument-recognition/data/mdb-solos-train-soundscapes/train...\n"
     ]
    },
    {
     "name": "stderr",
     "output_type": "stream",
     "text": [
      "100%|██████████| 5208/5208 [00:00<00:00, 22880.71it/s]\n",
      "  0%|          | 0/12236 [00:00<?, ?it/s]"
     ]
    },
    {
     "name": "stdout",
     "output_type": "stream",
     "text": [
      "found 5208 entries\n",
      "{'trumpet': 1965, 'clarinet': 1966, 'tenor saxophone': 1914, 'piano': 1941, 'violin': 1948, 'female singer': 2011, 'flute': 1932, 'distorted electric guitar': 1945}\n",
      "loading metadata from /home/hugo/lab/instrument-recognition/data/mdb-solos-train-soundscapes/test...\n"
     ]
    },
    {
     "name": "stderr",
     "output_type": "stream",
     "text": [
      "100%|██████████| 12236/12236 [00:00<00:00, 27796.75it/s]\n",
      "100%|██████████| 3494/3494 [00:00<00:00, 25512.51it/s]"
     ]
    },
    {
     "name": "stdout",
     "output_type": "stream",
     "text": [
      "found 12236 entries\n",
      "{'clarinet': 732, 'piano': 2609, 'violin': 2900, 'tenor saxophone': 325, 'flute': 3167, 'distorted electric guitar': 955, 'female singer': 1142, 'trumpet': 406}\n",
      "loading metadata from /home/hugo/lab/instrument-recognition/data/mdb-solos-train-soundscapes/validation...\n"
     ]
    },
    {
     "name": "stderr",
     "output_type": "stream",
     "text": [
      "\n",
      "/home/hugo/lab/venv/lib/python3.8/site-packages/pytorch_lightning/utilities/distributed.py:45: UserWarning: Checkpoint directory /home/hugo/lab/instrument-recognition/test-tubes/transformer-search/seed=433_rnn=xfmr-1_recurrence_num_layers=2_/version_0/checkpoints exists and is not empty. With save_top_k=3, all files in this directory will be deleted when a checkpoint is saved!\n",
      "  warnings.warn(*args, **kwargs)\n",
      "GPU available: True, used: False\n",
      "TPU available: False, using: 0 TPU cores\n"
     ]
    },
    {
     "name": "stdout",
     "output_type": "stream",
     "text": [
      "found 3494 entries\n",
      "{'clarinet': 328, 'piano': 1022, 'flute': 233, 'female singer': 284, 'tenor saxophone': 29, 'violin': 1031, 'distorted electric guitar': 495, 'trumpet': 72}\n",
      "train entries: 5208\n",
      "val entries: 3494\n",
      "found checkpoint: /home/hugo/lab/instrument-recognition/test-tubes/transformer-search/seed=433_rnn=xfmr-1_recurrence_num_layers=2_/version_0/checkpoints/epoch=45-fscore_val=0.93.ckpt\n"
     ]
    },
    {
     "data": {
      "application/vnd.jupyter.widget-view+json": {
       "model_id": "ba388785963347b9bff87a7a158a6d88",
       "version_major": 2,
       "version_minor": 0
      },
      "text/plain": [
       "HBox(children=(HTML(value='Testing'), FloatProgress(value=1.0, bar_style='info', layout=Layout(flex='2'), max=…"
      ]
     },
     "metadata": {},
     "output_type": "display_data"
    },
    {
     "name": "stdout",
     "output_type": "stream",
     "text": [
      "--------------------------------------------------------------------------------\n",
      "DATALOADER:0 TEST RESULTS\n",
      "{'ECE/test': 0.1404525367304613,\n",
      " 'accuracy/test': 0.8332516072790672,\n",
      " 'fscore/test': 0.8201644093678462,\n",
      " 'fscore_test': 0.8201644093678462,\n",
      " 'loss/test': tensor(1.2896),\n",
      " 'loss_test': tensor(1.2896),\n",
      " 'precision/test': 0.8577300170405939,\n",
      " 'recall/test': 0.8332516072790672}\n",
      "--------------------------------------------------------------------------------\n",
      "\n",
      "found checkpoint: /home/hugo/lab/instrument-recognition/test-tubes/transformer-search/seed=440_rnn=xfmr-4_recurrence_num_layers=1_/version_0/checkpoints/epoch=04-fscore_val=0.93.ckpt\n",
      "found checkpoint: /home/hugo/lab/instrument-recognition/test-tubes/transformer-search/seed=440_rnn=xfmr-4_recurrence_num_layers=1_/version_0/checkpoints/epoch=04-fscore_val=0.93.ckpt\n",
      "/home/hugo/lab/instrument-recognition/test-tubes/transformer-search/seed=440_rnn=xfmr-4_recurrence_num_layers=1_/version_0\n",
      "/home/hugo/lab/instrument-recognition/test-tubes/transformer-search/seed=440_rnn=xfmr-4_recurrence_num_layers=1_/version_0/checkpoints/epoch=04-fscore_val=0.93.ckpt\n"
     ]
    },
    {
     "name": "stderr",
     "output_type": "stream",
     "text": [
      " 62%|██████▏   | 3241/5208 [00:00<00:00, 32052.99it/s]"
     ]
    },
    {
     "name": "stdout",
     "output_type": "stream",
     "text": [
      "loading metadata from /home/hugo/lab/instrument-recognition/data/mdb-solos-train-soundscapes/train...\n"
     ]
    },
    {
     "name": "stderr",
     "output_type": "stream",
     "text": [
      "100%|██████████| 5208/5208 [00:00<00:00, 29442.08it/s]\n",
      "  0%|          | 0/12236 [00:00<?, ?it/s]"
     ]
    },
    {
     "name": "stdout",
     "output_type": "stream",
     "text": [
      "found 5208 entries\n",
      "{'trumpet': 1965, 'clarinet': 1966, 'tenor saxophone': 1914, 'piano': 1941, 'violin': 1948, 'female singer': 2011, 'flute': 1932, 'distorted electric guitar': 1945}\n",
      "loading metadata from /home/hugo/lab/instrument-recognition/data/mdb-solos-train-soundscapes/test...\n"
     ]
    },
    {
     "name": "stderr",
     "output_type": "stream",
     "text": [
      "100%|██████████| 12236/12236 [00:00<00:00, 31370.48it/s]\n",
      "100%|██████████| 3494/3494 [00:00<00:00, 31023.08it/s]\n",
      "/home/hugo/lab/venv/lib/python3.8/site-packages/pytorch_lightning/utilities/distributed.py:45: UserWarning: Checkpoint directory /home/hugo/lab/instrument-recognition/test-tubes/transformer-search/seed=440_rnn=xfmr-4_recurrence_num_layers=1_/version_0/checkpoints exists and is not empty. With save_top_k=3, all files in this directory will be deleted when a checkpoint is saved!\n",
      "  warnings.warn(*args, **kwargs)\n",
      "GPU available: True, used: False\n",
      "TPU available: False, using: 0 TPU cores\n"
     ]
    },
    {
     "name": "stdout",
     "output_type": "stream",
     "text": [
      "found 12236 entries\n",
      "{'clarinet': 732, 'piano': 2609, 'violin': 2900, 'tenor saxophone': 325, 'flute': 3167, 'distorted electric guitar': 955, 'female singer': 1142, 'trumpet': 406}\n",
      "loading metadata from /home/hugo/lab/instrument-recognition/data/mdb-solos-train-soundscapes/validation...\n",
      "found 3494 entries\n",
      "{'clarinet': 328, 'piano': 1022, 'flute': 233, 'female singer': 284, 'tenor saxophone': 29, 'violin': 1031, 'distorted electric guitar': 495, 'trumpet': 72}\n",
      "train entries: 5208\n",
      "val entries: 3494\n",
      "found checkpoint: /home/hugo/lab/instrument-recognition/test-tubes/transformer-search/seed=440_rnn=xfmr-4_recurrence_num_layers=1_/version_0/checkpoints/epoch=04-fscore_val=0.93.ckpt\n"
     ]
    },
    {
     "data": {
      "application/vnd.jupyter.widget-view+json": {
       "model_id": "d65ae0d237f94db2b2aca167077c5e28",
       "version_major": 2,
       "version_minor": 0
      },
      "text/plain": [
       "HBox(children=(HTML(value='Testing'), FloatProgress(value=1.0, bar_style='info', layout=Layout(flex='2'), max=…"
      ]
     },
     "metadata": {},
     "output_type": "display_data"
    },
    {
     "name": "stdout",
     "output_type": "stream",
     "text": [
      "--------------------------------------------------------------------------------\n",
      "DATALOADER:0 TEST RESULTS\n",
      "{'ECE/test': 0.10849757660519287,\n",
      " 'accuracy/test': 0.8460008717445788,\n",
      " 'fscore/test': 0.8376140734743351,\n",
      " 'fscore_test': 0.8376140734743351,\n",
      " 'loss/test': tensor(0.8370),\n",
      " 'loss_test': tensor(0.8370),\n",
      " 'precision/test': 0.8655913459392826,\n",
      " 'recall/test': 0.8460008717445788}\n",
      "--------------------------------------------------------------------------------\n",
      "\n",
      "found checkpoint: /home/hugo/lab/instrument-recognition/test-tubes/transformer-search/seed=433_rnn=xfmr-1_recurrence_num_layers=6_/version_0/checkpoints/epoch=26-fscore_val=0.93.ckpt\n",
      "found checkpoint: /home/hugo/lab/instrument-recognition/test-tubes/transformer-search/seed=433_rnn=xfmr-1_recurrence_num_layers=6_/version_0/checkpoints/epoch=26-fscore_val=0.93.ckpt\n",
      "/home/hugo/lab/instrument-recognition/test-tubes/transformer-search/seed=433_rnn=xfmr-1_recurrence_num_layers=6_/version_0\n",
      "/home/hugo/lab/instrument-recognition/test-tubes/transformer-search/seed=433_rnn=xfmr-1_recurrence_num_layers=6_/version_0/checkpoints/epoch=26-fscore_val=0.93.ckpt\n"
     ]
    },
    {
     "name": "stderr",
     "output_type": "stream",
     "text": [
      " 43%|████▎     | 2242/5208 [00:00<00:00, 22418.26it/s]"
     ]
    },
    {
     "name": "stdout",
     "output_type": "stream",
     "text": [
      "loading metadata from /home/hugo/lab/instrument-recognition/data/mdb-solos-train-soundscapes/train...\n"
     ]
    },
    {
     "name": "stderr",
     "output_type": "stream",
     "text": [
      "100%|██████████| 5208/5208 [00:00<00:00, 24513.48it/s]\n",
      " 30%|██▉       | 3662/12236 [00:00<00:00, 36613.05it/s]"
     ]
    },
    {
     "name": "stdout",
     "output_type": "stream",
     "text": [
      "found 5208 entries\n",
      "{'trumpet': 1965, 'clarinet': 1966, 'tenor saxophone': 1914, 'piano': 1941, 'violin': 1948, 'female singer': 2011, 'flute': 1932, 'distorted electric guitar': 1945}\n",
      "loading metadata from /home/hugo/lab/instrument-recognition/data/mdb-solos-train-soundscapes/test...\n"
     ]
    },
    {
     "name": "stderr",
     "output_type": "stream",
     "text": [
      "100%|██████████| 12236/12236 [00:00<00:00, 33545.94it/s]\n",
      "100%|██████████| 3494/3494 [00:00<00:00, 29404.77it/s]\n",
      "/home/hugo/lab/venv/lib/python3.8/site-packages/pytorch_lightning/utilities/distributed.py:45: UserWarning: Checkpoint directory /home/hugo/lab/instrument-recognition/test-tubes/transformer-search/seed=433_rnn=xfmr-1_recurrence_num_layers=6_/version_0/checkpoints exists and is not empty. With save_top_k=3, all files in this directory will be deleted when a checkpoint is saved!\n",
      "  warnings.warn(*args, **kwargs)\n",
      "GPU available: True, used: False\n",
      "TPU available: False, using: 0 TPU cores\n"
     ]
    },
    {
     "name": "stdout",
     "output_type": "stream",
     "text": [
      "found 12236 entries\n",
      "{'clarinet': 732, 'piano': 2609, 'violin': 2900, 'tenor saxophone': 325, 'flute': 3167, 'distorted electric guitar': 955, 'female singer': 1142, 'trumpet': 406}\n",
      "loading metadata from /home/hugo/lab/instrument-recognition/data/mdb-solos-train-soundscapes/validation...\n",
      "found 3494 entries\n",
      "{'clarinet': 328, 'piano': 1022, 'flute': 233, 'female singer': 284, 'tenor saxophone': 29, 'violin': 1031, 'distorted electric guitar': 495, 'trumpet': 72}\n",
      "train entries: 5208\n",
      "val entries: 3494\n",
      "found checkpoint: /home/hugo/lab/instrument-recognition/test-tubes/transformer-search/seed=433_rnn=xfmr-1_recurrence_num_layers=6_/version_0/checkpoints/epoch=26-fscore_val=0.93.ckpt\n"
     ]
    },
    {
     "data": {
      "application/vnd.jupyter.widget-view+json": {
       "model_id": "6c9d2252b21b42cf8998e053702efe88",
       "version_major": 2,
       "version_minor": 0
      },
      "text/plain": [
       "HBox(children=(HTML(value='Testing'), FloatProgress(value=1.0, bar_style='info', layout=Layout(flex='2'), max=…"
      ]
     },
     "metadata": {},
     "output_type": "display_data"
    },
    {
     "name": "stdout",
     "output_type": "stream",
     "text": [
      "--------------------------------------------------------------------------------\n",
      "DATALOADER:0 TEST RESULTS\n",
      "{'ECE/test': 0.12444833662513943,\n",
      " 'accuracy/test': 0.855426610003269,\n",
      " 'fscore/test': 0.8467097537471984,\n",
      " 'fscore_test': 0.8467097537471984,\n",
      " 'loss/test': tensor(1.1391),\n",
      " 'loss_test': tensor(1.1391),\n",
      " 'precision/test': 0.8697519407103116,\n",
      " 'recall/test': 0.855426610003269}\n",
      "--------------------------------------------------------------------------------\n",
      "\n",
      "found checkpoint: /home/hugo/lab/instrument-recognition/test-tubes/transformer-search/seed=433_rnn=xfmr-64_recurrence_num_layers=6_/version_0/checkpoints/epoch=04-fscore_val=0.93.ckpt\n",
      "found checkpoint: /home/hugo/lab/instrument-recognition/test-tubes/transformer-search/seed=433_rnn=xfmr-64_recurrence_num_layers=6_/version_0/checkpoints/epoch=04-fscore_val=0.93.ckpt\n",
      "/home/hugo/lab/instrument-recognition/test-tubes/transformer-search/seed=433_rnn=xfmr-64_recurrence_num_layers=6_/version_0\n",
      "/home/hugo/lab/instrument-recognition/test-tubes/transformer-search/seed=433_rnn=xfmr-64_recurrence_num_layers=6_/version_0/checkpoints/epoch=04-fscore_val=0.93.ckpt\n"
     ]
    },
    {
     "name": "stderr",
     "output_type": "stream",
     "text": [
      " 41%|████▏     | 2151/5208 [00:00<00:00, 21496.49it/s]"
     ]
    },
    {
     "name": "stdout",
     "output_type": "stream",
     "text": [
      "loading metadata from /home/hugo/lab/instrument-recognition/data/mdb-solos-train-soundscapes/train...\n"
     ]
    },
    {
     "name": "stderr",
     "output_type": "stream",
     "text": [
      "100%|██████████| 5208/5208 [00:00<00:00, 21262.93it/s]\n",
      " 21%|██        | 2552/12236 [00:00<00:00, 25514.98it/s]"
     ]
    },
    {
     "name": "stdout",
     "output_type": "stream",
     "text": [
      "found 5208 entries\n",
      "{'trumpet': 1965, 'clarinet': 1966, 'tenor saxophone': 1914, 'piano': 1941, 'violin': 1948, 'female singer': 2011, 'flute': 1932, 'distorted electric guitar': 1945}\n",
      "loading metadata from /home/hugo/lab/instrument-recognition/data/mdb-solos-train-soundscapes/test...\n"
     ]
    },
    {
     "name": "stderr",
     "output_type": "stream",
     "text": [
      "100%|██████████| 12236/12236 [00:00<00:00, 25758.84it/s]\n",
      "100%|██████████| 3494/3494 [00:00<00:00, 31111.46it/s]\n"
     ]
    },
    {
     "name": "stdout",
     "output_type": "stream",
     "text": [
      "found 12236 entries\n",
      "{'clarinet': 732, 'piano': 2609, 'violin': 2900, 'tenor saxophone': 325, 'flute': 3167, 'distorted electric guitar': 955, 'female singer': 1142, 'trumpet': 406}\n",
      "loading metadata from /home/hugo/lab/instrument-recognition/data/mdb-solos-train-soundscapes/validation...\n",
      "found 3494 entries\n",
      "{'clarinet': 328, 'piano': 1022, 'flute': 233, 'female singer': 284, 'tenor saxophone': 29, 'violin': 1031, 'distorted electric guitar': 495, 'trumpet': 72}\n",
      "train entries: 5208\n",
      "val entries: 3494\n"
     ]
    },
    {
     "name": "stderr",
     "output_type": "stream",
     "text": [
      "/home/hugo/lab/venv/lib/python3.8/site-packages/pytorch_lightning/utilities/distributed.py:45: UserWarning: Checkpoint directory /home/hugo/lab/instrument-recognition/test-tubes/transformer-search/seed=433_rnn=xfmr-64_recurrence_num_layers=6_/version_0/checkpoints exists and is not empty. With save_top_k=3, all files in this directory will be deleted when a checkpoint is saved!\n",
      "  warnings.warn(*args, **kwargs)\n",
      "GPU available: True, used: False\n",
      "TPU available: False, using: 0 TPU cores\n"
     ]
    },
    {
     "name": "stdout",
     "output_type": "stream",
     "text": [
      "found checkpoint: /home/hugo/lab/instrument-recognition/test-tubes/transformer-search/seed=433_rnn=xfmr-64_recurrence_num_layers=6_/version_0/checkpoints/epoch=04-fscore_val=0.93.ckpt\n"
     ]
    },
    {
     "data": {
      "application/vnd.jupyter.widget-view+json": {
       "model_id": "a30d25d5d857468baf940334590f2baa",
       "version_major": 2,
       "version_minor": 0
      },
      "text/plain": [
       "HBox(children=(HTML(value='Testing'), FloatProgress(value=1.0, bar_style='info', layout=Layout(flex='2'), max=…"
      ]
     },
     "metadata": {},
     "output_type": "display_data"
    },
    {
     "name": "stdout",
     "output_type": "stream",
     "text": [
      "--------------------------------------------------------------------------------\n",
      "DATALOADER:0 TEST RESULTS\n",
      "{'ECE/test': 0.11958151363535388,\n",
      " 'accuracy/test': 0.8395172714394682,\n",
      " 'fscore/test': 0.8274031322585085,\n",
      " 'fscore_test': 0.8274031322585085,\n",
      " 'loss/test': tensor(0.8564),\n",
      " 'loss_test': tensor(0.8564),\n",
      " 'precision/test': 0.8537346973933364,\n",
      " 'recall/test': 0.8395172714394682}\n",
      "--------------------------------------------------------------------------------\n",
      "\n",
      "found checkpoint: /home/hugo/lab/instrument-recognition/test-tubes/transformer-search/seed=11_rnn=xfmr-8_recurrence_num_layers=1_/version_0/checkpoints/epoch=58-fscore_val=0.94.ckpt\n",
      "found checkpoint: /home/hugo/lab/instrument-recognition/test-tubes/transformer-search/seed=11_rnn=xfmr-8_recurrence_num_layers=1_/version_0/checkpoints/epoch=58-fscore_val=0.94.ckpt\n",
      "/home/hugo/lab/instrument-recognition/test-tubes/transformer-search/seed=11_rnn=xfmr-8_recurrence_num_layers=1_/version_0\n",
      "/home/hugo/lab/instrument-recognition/test-tubes/transformer-search/seed=11_rnn=xfmr-8_recurrence_num_layers=1_/version_0/checkpoints/epoch=58-fscore_val=0.94.ckpt\n"
     ]
    },
    {
     "name": "stderr",
     "output_type": "stream",
     "text": [
      " 44%|████▍     | 2302/5208 [00:00<00:00, 23010.04it/s]"
     ]
    },
    {
     "name": "stdout",
     "output_type": "stream",
     "text": [
      "loading metadata from /home/hugo/lab/instrument-recognition/data/mdb-solos-train-soundscapes/train...\n"
     ]
    },
    {
     "name": "stderr",
     "output_type": "stream",
     "text": [
      "100%|██████████| 5208/5208 [00:00<00:00, 21427.22it/s]\n",
      "  0%|          | 0/12236 [00:00<?, ?it/s]"
     ]
    },
    {
     "name": "stdout",
     "output_type": "stream",
     "text": [
      "found 5208 entries\n",
      "{'trumpet': 1965, 'clarinet': 1966, 'tenor saxophone': 1914, 'piano': 1941, 'violin': 1948, 'female singer': 2011, 'flute': 1932, 'distorted electric guitar': 1945}\n",
      "loading metadata from /home/hugo/lab/instrument-recognition/data/mdb-solos-train-soundscapes/test...\n"
     ]
    },
    {
     "name": "stderr",
     "output_type": "stream",
     "text": [
      "100%|██████████| 12236/12236 [00:00<00:00, 29258.68it/s]\n",
      "100%|██████████| 3494/3494 [00:00<00:00, 28125.06it/s]\n"
     ]
    },
    {
     "name": "stdout",
     "output_type": "stream",
     "text": [
      "found 12236 entries\n",
      "{'clarinet': 732, 'piano': 2609, 'violin': 2900, 'tenor saxophone': 325, 'flute': 3167, 'distorted electric guitar': 955, 'female singer': 1142, 'trumpet': 406}\n",
      "loading metadata from /home/hugo/lab/instrument-recognition/data/mdb-solos-train-soundscapes/validation...\n",
      "found 3494 entries\n",
      "{'clarinet': 328, 'piano': 1022, 'flute': 233, 'female singer': 284, 'tenor saxophone': 29, 'violin': 1031, 'distorted electric guitar': 495, 'trumpet': 72}\n",
      "train entries: 5208\n",
      "val entries: 3494\n",
      "found checkpoint: /home/hugo/lab/instrument-recognition/test-tubes/transformer-search/seed=11_rnn=xfmr-8_recurrence_num_layers=1_/version_0/checkpoints/epoch=58-fscore_val=0.94.ckpt"
     ]
    },
    {
     "name": "stderr",
     "output_type": "stream",
     "text": [
      "/home/hugo/lab/venv/lib/python3.8/site-packages/pytorch_lightning/utilities/distributed.py:45: UserWarning: Checkpoint directory /home/hugo/lab/instrument-recognition/test-tubes/transformer-search/seed=11_rnn=xfmr-8_recurrence_num_layers=1_/version_0/checkpoints exists and is not empty. With save_top_k=3, all files in this directory will be deleted when a checkpoint is saved!\n",
      "  warnings.warn(*args, **kwargs)\n",
      "GPU available: True, used: False\n",
      "TPU available: False, using: 0 TPU cores\n"
     ]
    },
    {
     "name": "stdout",
     "output_type": "stream",
     "text": [
      "\n"
     ]
    },
    {
     "data": {
      "application/vnd.jupyter.widget-view+json": {
       "model_id": "f29680ac76a34c7bbec405140f350ce8",
       "version_major": 2,
       "version_minor": 0
      },
      "text/plain": [
       "HBox(children=(HTML(value='Testing'), FloatProgress(value=1.0, bar_style='info', layout=Layout(flex='2'), max=…"
      ]
     },
     "metadata": {},
     "output_type": "display_data"
    },
    {
     "name": "stdout",
     "output_type": "stream",
     "text": [
      "--------------------------------------------------------------------------------\n",
      "DATALOADER:0 TEST RESULTS\n",
      "{'ECE/test': 0.1235796885082466,\n",
      " 'accuracy/test': 0.8533017325923504,\n",
      " 'fscore/test': 0.8442786570792271,\n",
      " 'fscore_test': 0.8442786570792271,\n",
      " 'loss/test': tensor(1.1571),\n",
      " 'loss_test': tensor(1.1571),\n",
      " 'precision/test': 0.8637064097602515,\n",
      " 'recall/test': 0.8533017325923504}\n",
      "--------------------------------------------------------------------------------\n",
      "\n",
      "found checkpoint: /home/hugo/lab/instrument-recognition/test-tubes/transformer-search/seed=23_rnn=xfmr-16_recurrence_num_layers=1_/version_0/checkpoints/epoch=04-fscore_val=0.93.ckpt\n",
      "found checkpoint: /home/hugo/lab/instrument-recognition/test-tubes/transformer-search/seed=23_rnn=xfmr-16_recurrence_num_layers=1_/version_0/checkpoints/epoch=04-fscore_val=0.93.ckpt\n",
      "/home/hugo/lab/instrument-recognition/test-tubes/transformer-search/seed=23_rnn=xfmr-16_recurrence_num_layers=1_/version_0\n",
      "/home/hugo/lab/instrument-recognition/test-tubes/transformer-search/seed=23_rnn=xfmr-16_recurrence_num_layers=1_/version_0/checkpoints/epoch=04-fscore_val=0.93.ckpt\n"
     ]
    },
    {
     "name": "stderr",
     "output_type": "stream",
     "text": [
      " 50%|█████     | 2612/5208 [00:00<00:00, 26112.55it/s]"
     ]
    },
    {
     "name": "stdout",
     "output_type": "stream",
     "text": [
      "loading metadata from /home/hugo/lab/instrument-recognition/data/mdb-solos-train-soundscapes/train...\n"
     ]
    },
    {
     "name": "stderr",
     "output_type": "stream",
     "text": [
      "100%|██████████| 5208/5208 [00:00<00:00, 26505.42it/s]\n",
      " 24%|██▍       | 2958/12236 [00:00<00:00, 29578.41it/s]"
     ]
    },
    {
     "name": "stdout",
     "output_type": "stream",
     "text": [
      "found 5208 entries\n",
      "{'trumpet': 1965, 'clarinet': 1966, 'tenor saxophone': 1914, 'piano': 1941, 'violin': 1948, 'female singer': 2011, 'flute': 1932, 'distorted electric guitar': 1945}\n",
      "loading metadata from /home/hugo/lab/instrument-recognition/data/mdb-solos-train-soundscapes/test...\n"
     ]
    },
    {
     "name": "stderr",
     "output_type": "stream",
     "text": [
      "100%|██████████| 12236/12236 [00:00<00:00, 27167.30it/s]\n",
      "100%|██████████| 3494/3494 [00:00<00:00, 25332.80it/s]"
     ]
    },
    {
     "name": "stdout",
     "output_type": "stream",
     "text": [
      "found 12236 entries\n",
      "{'clarinet': 732, 'piano': 2609, 'violin': 2900, 'tenor saxophone': 325, 'flute': 3167, 'distorted electric guitar': 955, 'female singer': 1142, 'trumpet': 406}\n",
      "loading metadata from /home/hugo/lab/instrument-recognition/data/mdb-solos-train-soundscapes/validation...\n"
     ]
    },
    {
     "name": "stderr",
     "output_type": "stream",
     "text": [
      "\n",
      "/home/hugo/lab/venv/lib/python3.8/site-packages/pytorch_lightning/utilities/distributed.py:45: UserWarning: Checkpoint directory /home/hugo/lab/instrument-recognition/test-tubes/transformer-search/seed=23_rnn=xfmr-16_recurrence_num_layers=1_/version_0/checkpoints exists and is not empty. With save_top_k=3, all files in this directory will be deleted when a checkpoint is saved!\n",
      "  warnings.warn(*args, **kwargs)\n",
      "GPU available: True, used: False\n",
      "TPU available: False, using: 0 TPU cores\n"
     ]
    },
    {
     "name": "stdout",
     "output_type": "stream",
     "text": [
      "found 3494 entries\n",
      "{'clarinet': 328, 'piano': 1022, 'flute': 233, 'female singer': 284, 'tenor saxophone': 29, 'violin': 1031, 'distorted electric guitar': 495, 'trumpet': 72}\n",
      "train entries: 5208\n",
      "val entries: 3494\n",
      "found checkpoint: /home/hugo/lab/instrument-recognition/test-tubes/transformer-search/seed=23_rnn=xfmr-16_recurrence_num_layers=1_/version_0/checkpoints/epoch=04-fscore_val=0.93.ckpt\n"
     ]
    },
    {
     "data": {
      "application/vnd.jupyter.widget-view+json": {
       "model_id": "887e5371668b46209e575cb04595a1c8",
       "version_major": 2,
       "version_minor": 0
      },
      "text/plain": [
       "HBox(children=(HTML(value='Testing'), FloatProgress(value=1.0, bar_style='info', layout=Layout(flex='2'), max=…"
      ]
     },
     "metadata": {},
     "output_type": "display_data"
    },
    {
     "name": "stdout",
     "output_type": "stream",
     "text": [
      "--------------------------------------------------------------------------------\n",
      "DATALOADER:0 TEST RESULTS\n",
      "{'ECE/test': 0.11196999684653272,\n",
      " 'accuracy/test': 0.8459736297264902,\n",
      " 'fscore/test': 0.8364276235824673,\n",
      " 'fscore_test': 0.8364276235824673,\n",
      " 'loss/test': tensor(0.8769),\n",
      " 'loss_test': tensor(0.8769),\n",
      " 'precision/test': 0.8666501356999352,\n",
      " 'recall/test': 0.8459736297264902}\n",
      "--------------------------------------------------------------------------------\n",
      "\n",
      "found checkpoint: /home/hugo/lab/instrument-recognition/test-tubes/transformer-search/seed=440_rnn=xfmr-32_recurrence_num_layers=1_/version_0/checkpoints/epoch=05-fscore_val=0.93.ckpt\n",
      "found checkpoint: /home/hugo/lab/instrument-recognition/test-tubes/transformer-search/seed=440_rnn=xfmr-32_recurrence_num_layers=1_/version_0/checkpoints/epoch=05-fscore_val=0.93.ckpt\n",
      "/home/hugo/lab/instrument-recognition/test-tubes/transformer-search/seed=440_rnn=xfmr-32_recurrence_num_layers=1_/version_0\n",
      "/home/hugo/lab/instrument-recognition/test-tubes/transformer-search/seed=440_rnn=xfmr-32_recurrence_num_layers=1_/version_0/checkpoints/epoch=05-fscore_val=0.93.ckpt\n"
     ]
    },
    {
     "name": "stderr",
     "output_type": "stream",
     "text": [
      " 41%|████      | 2147/5208 [00:00<00:00, 21417.78it/s]"
     ]
    },
    {
     "name": "stdout",
     "output_type": "stream",
     "text": [
      "loading metadata from /home/hugo/lab/instrument-recognition/data/mdb-solos-train-soundscapes/train...\n"
     ]
    },
    {
     "name": "stderr",
     "output_type": "stream",
     "text": [
      "100%|██████████| 5208/5208 [00:00<00:00, 21162.11it/s]\n",
      "  0%|          | 0/12236 [00:00<?, ?it/s]"
     ]
    },
    {
     "name": "stdout",
     "output_type": "stream",
     "text": [
      "found 5208 entries\n",
      "{'trumpet': 1965, 'clarinet': 1966, 'tenor saxophone': 1914, 'piano': 1941, 'violin': 1948, 'female singer': 2011, 'flute': 1932, 'distorted electric guitar': 1945}\n",
      "loading metadata from /home/hugo/lab/instrument-recognition/data/mdb-solos-train-soundscapes/test...\n"
     ]
    },
    {
     "name": "stderr",
     "output_type": "stream",
     "text": [
      "100%|██████████| 12236/12236 [00:00<00:00, 33429.02it/s]\n",
      "100%|██████████| 3494/3494 [00:00<00:00, 29300.19it/s]\n"
     ]
    },
    {
     "name": "stdout",
     "output_type": "stream",
     "text": [
      "found 12236 entries\n",
      "{'clarinet': 732, 'piano': 2609, 'violin': 2900, 'tenor saxophone': 325, 'flute': 3167, 'distorted electric guitar': 955, 'female singer': 1142, 'trumpet': 406}\n",
      "loading metadata from /home/hugo/lab/instrument-recognition/data/mdb-solos-train-soundscapes/validation...\n",
      "found 3494 entries\n",
      "{'clarinet': 328, 'piano': 1022, 'flute': 233, 'female singer': 284, 'tenor saxophone': 29, 'violin': 1031, 'distorted electric guitar': 495, 'trumpet': 72}\n",
      "train entries: 5208\n",
      "val entries: 3494\n"
     ]
    },
    {
     "name": "stderr",
     "output_type": "stream",
     "text": [
      "/home/hugo/lab/venv/lib/python3.8/site-packages/pytorch_lightning/utilities/distributed.py:45: UserWarning: Checkpoint directory /home/hugo/lab/instrument-recognition/test-tubes/transformer-search/seed=440_rnn=xfmr-32_recurrence_num_layers=1_/version_0/checkpoints exists and is not empty. With save_top_k=3, all files in this directory will be deleted when a checkpoint is saved!\n",
      "  warnings.warn(*args, **kwargs)\n",
      "GPU available: True, used: False\n",
      "TPU available: False, using: 0 TPU cores\n"
     ]
    },
    {
     "name": "stdout",
     "output_type": "stream",
     "text": [
      "found checkpoint: /home/hugo/lab/instrument-recognition/test-tubes/transformer-search/seed=440_rnn=xfmr-32_recurrence_num_layers=1_/version_0/checkpoints/epoch=05-fscore_val=0.93.ckpt\n"
     ]
    },
    {
     "data": {
      "application/vnd.jupyter.widget-view+json": {
       "model_id": "4f1a52239b774902a90b30ef75f91a0c",
       "version_major": 2,
       "version_minor": 0
      },
      "text/plain": [
       "HBox(children=(HTML(value='Testing'), FloatProgress(value=1.0, bar_style='info', layout=Layout(flex='2'), max=…"
      ]
     },
     "metadata": {},
     "output_type": "display_data"
    },
    {
     "name": "stdout",
     "output_type": "stream",
     "text": [
      "--------------------------------------------------------------------------------\n",
      "DATALOADER:0 TEST RESULTS\n",
      "{'ECE/test': 0.12088093040369943,\n",
      " 'accuracy/test': 0.839353819330936,\n",
      " 'fscore/test': 0.8293308627962863,\n",
      " 'fscore_test': 0.8293308627962863,\n",
      " 'loss/test': tensor(0.9951),\n",
      " 'loss_test': tensor(0.9951),\n",
      " 'precision/test': 0.8632981432474365,\n",
      " 'recall/test': 0.839353819330936}\n",
      "--------------------------------------------------------------------------------\n",
      "\n",
      "found checkpoint: /home/hugo/lab/instrument-recognition/test-tubes/transformer-search/seed=12_rnn=xfmr-4_recurrence_num_layers=4_/version_0/checkpoints/epoch=73-fscore_val=0.95.ckpt\n",
      "found checkpoint: /home/hugo/lab/instrument-recognition/test-tubes/transformer-search/seed=12_rnn=xfmr-4_recurrence_num_layers=4_/version_0/checkpoints/epoch=73-fscore_val=0.95.ckpt\n",
      "/home/hugo/lab/instrument-recognition/test-tubes/transformer-search/seed=12_rnn=xfmr-4_recurrence_num_layers=4_/version_0\n",
      "/home/hugo/lab/instrument-recognition/test-tubes/transformer-search/seed=12_rnn=xfmr-4_recurrence_num_layers=4_/version_0/checkpoints/epoch=73-fscore_val=0.95.ckpt\n"
     ]
    },
    {
     "name": "stderr",
     "output_type": "stream",
     "text": [
      " 47%|████▋     | 2424/5208 [00:00<00:00, 24234.36it/s]"
     ]
    },
    {
     "name": "stdout",
     "output_type": "stream",
     "text": [
      "loading metadata from /home/hugo/lab/instrument-recognition/data/mdb-solos-train-soundscapes/train...\n"
     ]
    },
    {
     "name": "stderr",
     "output_type": "stream",
     "text": [
      "100%|██████████| 5208/5208 [00:00<00:00, 22317.22it/s]\n",
      "  0%|          | 0/12236 [00:00<?, ?it/s]"
     ]
    },
    {
     "name": "stdout",
     "output_type": "stream",
     "text": [
      "found 5208 entries\n",
      "{'trumpet': 1965, 'clarinet': 1966, 'tenor saxophone': 1914, 'piano': 1941, 'violin': 1948, 'female singer': 2011, 'flute': 1932, 'distorted electric guitar': 1945}\n",
      "loading metadata from /home/hugo/lab/instrument-recognition/data/mdb-solos-train-soundscapes/test...\n"
     ]
    },
    {
     "name": "stderr",
     "output_type": "stream",
     "text": [
      "100%|██████████| 12236/12236 [00:00<00:00, 30765.52it/s]\n",
      "100%|██████████| 3494/3494 [00:00<00:00, 26459.52it/s]\n"
     ]
    },
    {
     "name": "stdout",
     "output_type": "stream",
     "text": [
      "found 12236 entries\n",
      "{'clarinet': 732, 'piano': 2609, 'violin': 2900, 'tenor saxophone': 325, 'flute': 3167, 'distorted electric guitar': 955, 'female singer': 1142, 'trumpet': 406}\n",
      "loading metadata from /home/hugo/lab/instrument-recognition/data/mdb-solos-train-soundscapes/validation...\n",
      "found 3494 entries\n",
      "{'clarinet': 328, 'piano': 1022, 'flute': 233, 'female singer': 284, 'tenor saxophone': 29, 'violin': 1031, 'distorted electric guitar': 495, 'trumpet': 72}\n",
      "train entries: 5208\n",
      "val entries: 3494\n"
     ]
    },
    {
     "name": "stderr",
     "output_type": "stream",
     "text": [
      "/home/hugo/lab/venv/lib/python3.8/site-packages/pytorch_lightning/utilities/distributed.py:45: UserWarning: Checkpoint directory /home/hugo/lab/instrument-recognition/test-tubes/transformer-search/seed=12_rnn=xfmr-4_recurrence_num_layers=4_/version_0/checkpoints exists and is not empty. With save_top_k=3, all files in this directory will be deleted when a checkpoint is saved!\n",
      "  warnings.warn(*args, **kwargs)\n",
      "GPU available: True, used: False\n",
      "TPU available: False, using: 0 TPU cores\n"
     ]
    },
    {
     "name": "stdout",
     "output_type": "stream",
     "text": [
      "found checkpoint: /home/hugo/lab/instrument-recognition/test-tubes/transformer-search/seed=12_rnn=xfmr-4_recurrence_num_layers=4_/version_0/checkpoints/epoch=73-fscore_val=0.95.ckpt\n"
     ]
    },
    {
     "data": {
      "application/vnd.jupyter.widget-view+json": {
       "model_id": "ffc151b77ce6403eaf19aaf4b0ae3bb5",
       "version_major": 2,
       "version_minor": 0
      },
      "text/plain": [
       "HBox(children=(HTML(value='Testing'), FloatProgress(value=1.0, bar_style='info', layout=Layout(flex='2'), max=…"
      ]
     },
     "metadata": {},
     "output_type": "display_data"
    },
    {
     "name": "stdout",
     "output_type": "stream",
     "text": [
      "--------------------------------------------------------------------------------\n",
      "DATALOADER:0 TEST RESULTS\n",
      "{'ECE/test': 0.14038196534090497,\n",
      " 'accuracy/test': 0.8285114961316334,\n",
      " 'fscore/test': 0.8229977145367445,\n",
      " 'fscore_test': 0.8229977145367445,\n",
      " 'loss/test': tensor(1.1559),\n",
      " 'loss_test': tensor(1.1559),\n",
      " 'precision/test': 0.8528135264502201,\n",
      " 'recall/test': 0.8285114961316334}\n",
      "--------------------------------------------------------------------------------\n",
      "\n",
      "found checkpoint: /home/hugo/lab/instrument-recognition/test-tubes/transformer-search/seed=433_rnn=xfmr-32_recurrence_num_layers=4_/version_0/checkpoints/epoch=04-fscore_val=0.93.ckpt\n",
      "found checkpoint: /home/hugo/lab/instrument-recognition/test-tubes/transformer-search/seed=433_rnn=xfmr-32_recurrence_num_layers=4_/version_0/checkpoints/epoch=04-fscore_val=0.93.ckpt\n",
      "/home/hugo/lab/instrument-recognition/test-tubes/transformer-search/seed=433_rnn=xfmr-32_recurrence_num_layers=4_/version_0\n",
      "/home/hugo/lab/instrument-recognition/test-tubes/transformer-search/seed=433_rnn=xfmr-32_recurrence_num_layers=4_/version_0/checkpoints/epoch=04-fscore_val=0.93.ckpt\n"
     ]
    },
    {
     "name": "stderr",
     "output_type": "stream",
     "text": [
      " 45%|████▍     | 2341/5208 [00:00<00:00, 23402.38it/s]"
     ]
    },
    {
     "name": "stdout",
     "output_type": "stream",
     "text": [
      "loading metadata from /home/hugo/lab/instrument-recognition/data/mdb-solos-train-soundscapes/train...\n"
     ]
    },
    {
     "name": "stderr",
     "output_type": "stream",
     "text": [
      "100%|██████████| 5208/5208 [00:00<00:00, 25037.55it/s]\n",
      "  0%|          | 0/12236 [00:00<?, ?it/s]"
     ]
    },
    {
     "name": "stdout",
     "output_type": "stream",
     "text": [
      "found 5208 entries\n",
      "{'trumpet': 1965, 'clarinet': 1966, 'tenor saxophone': 1914, 'piano': 1941, 'violin': 1948, 'female singer': 2011, 'flute': 1932, 'distorted electric guitar': 1945}\n",
      "loading metadata from /home/hugo/lab/instrument-recognition/data/mdb-solos-train-soundscapes/test...\n"
     ]
    },
    {
     "name": "stderr",
     "output_type": "stream",
     "text": [
      "100%|██████████| 12236/12236 [00:00<00:00, 31506.15it/s]\n",
      "100%|██████████| 3494/3494 [00:00<00:00, 32077.16it/s]\n",
      "/home/hugo/lab/venv/lib/python3.8/site-packages/pytorch_lightning/utilities/distributed.py:45: UserWarning: Checkpoint directory /home/hugo/lab/instrument-recognition/test-tubes/transformer-search/seed=433_rnn=xfmr-32_recurrence_num_layers=4_/version_0/checkpoints exists and is not empty. With save_top_k=3, all files in this directory will be deleted when a checkpoint is saved!\n",
      "  warnings.warn(*args, **kwargs)\n",
      "GPU available: True, used: False\n",
      "TPU available: False, using: 0 TPU cores\n"
     ]
    },
    {
     "name": "stdout",
     "output_type": "stream",
     "text": [
      "found 12236 entries\n",
      "{'clarinet': 732, 'piano': 2609, 'violin': 2900, 'tenor saxophone': 325, 'flute': 3167, 'distorted electric guitar': 955, 'female singer': 1142, 'trumpet': 406}\n",
      "loading metadata from /home/hugo/lab/instrument-recognition/data/mdb-solos-train-soundscapes/validation...\n",
      "found 3494 entries\n",
      "{'clarinet': 328, 'piano': 1022, 'flute': 233, 'female singer': 284, 'tenor saxophone': 29, 'violin': 1031, 'distorted electric guitar': 495, 'trumpet': 72}\n",
      "train entries: 5208\n",
      "val entries: 3494\n",
      "found checkpoint: /home/hugo/lab/instrument-recognition/test-tubes/transformer-search/seed=433_rnn=xfmr-32_recurrence_num_layers=4_/version_0/checkpoints/epoch=04-fscore_val=0.93.ckpt\n"
     ]
    },
    {
     "data": {
      "application/vnd.jupyter.widget-view+json": {
       "model_id": "0b1aad2e24ba493dbffc41a11878f0e6",
       "version_major": 2,
       "version_minor": 0
      },
      "text/plain": [
       "HBox(children=(HTML(value='Testing'), FloatProgress(value=1.0, bar_style='info', layout=Layout(flex='2'), max=…"
      ]
     },
     "metadata": {},
     "output_type": "display_data"
    },
    {
     "name": "stdout",
     "output_type": "stream",
     "text": [
      "--------------------------------------------------------------------------------\n",
      "DATALOADER:0 TEST RESULTS\n",
      "{'ECE/test': 0.12282349421098054,\n",
      " 'accuracy/test': 0.8351585485452763,\n",
      " 'fscore/test': 0.8221386082674584,\n",
      " 'fscore_test': 0.8221386082674584,\n",
      " 'loss/test': tensor(0.8665),\n",
      " 'loss_test': tensor(0.8665),\n",
      " 'precision/test': 0.8559750311566231,\n",
      " 'recall/test': 0.8351585485452763}\n",
      "--------------------------------------------------------------------------------\n",
      "\n",
      "found checkpoint: /home/hugo/lab/instrument-recognition/test-tubes/transformer-search/seed=433_rnn=xfmr-32_recurrence_num_layers=2_/version_0/checkpoints/epoch=05-fscore_val=0.93.ckpt\n",
      "found checkpoint: /home/hugo/lab/instrument-recognition/test-tubes/transformer-search/seed=433_rnn=xfmr-32_recurrence_num_layers=2_/version_0/checkpoints/epoch=05-fscore_val=0.93.ckpt\n",
      "/home/hugo/lab/instrument-recognition/test-tubes/transformer-search/seed=433_rnn=xfmr-32_recurrence_num_layers=2_/version_0\n",
      "/home/hugo/lab/instrument-recognition/test-tubes/transformer-search/seed=433_rnn=xfmr-32_recurrence_num_layers=2_/version_0/checkpoints/epoch=05-fscore_val=0.93.ckpt\n"
     ]
    },
    {
     "name": "stderr",
     "output_type": "stream",
     "text": [
      " 57%|█████▋    | 2960/5208 [00:00<00:00, 29593.47it/s]"
     ]
    },
    {
     "name": "stdout",
     "output_type": "stream",
     "text": [
      "loading metadata from /home/hugo/lab/instrument-recognition/data/mdb-solos-train-soundscapes/train...\n"
     ]
    },
    {
     "name": "stderr",
     "output_type": "stream",
     "text": [
      "100%|██████████| 5208/5208 [00:00<00:00, 28630.44it/s]\n",
      "  0%|          | 0/12236 [00:00<?, ?it/s]"
     ]
    },
    {
     "name": "stdout",
     "output_type": "stream",
     "text": [
      "found 5208 entries\n",
      "{'trumpet': 1965, 'clarinet': 1966, 'tenor saxophone': 1914, 'piano': 1941, 'violin': 1948, 'female singer': 2011, 'flute': 1932, 'distorted electric guitar': 1945}\n",
      "loading metadata from /home/hugo/lab/instrument-recognition/data/mdb-solos-train-soundscapes/test...\n"
     ]
    },
    {
     "name": "stderr",
     "output_type": "stream",
     "text": [
      "100%|██████████| 12236/12236 [00:00<00:00, 36362.13it/s]\n",
      "100%|██████████| 3494/3494 [00:00<00:00, 35973.62it/s]\n",
      "/home/hugo/lab/venv/lib/python3.8/site-packages/pytorch_lightning/utilities/distributed.py:45: UserWarning: Checkpoint directory /home/hugo/lab/instrument-recognition/test-tubes/transformer-search/seed=433_rnn=xfmr-32_recurrence_num_layers=2_/version_0/checkpoints exists and is not empty. With save_top_k=3, all files in this directory will be deleted when a checkpoint is saved!\n",
      "  warnings.warn(*args, **kwargs)\n",
      "GPU available: True, used: False\n",
      "TPU available: False, using: 0 TPU cores\n"
     ]
    },
    {
     "name": "stdout",
     "output_type": "stream",
     "text": [
      "found 12236 entries\n",
      "{'clarinet': 732, 'piano': 2609, 'violin': 2900, 'tenor saxophone': 325, 'flute': 3167, 'distorted electric guitar': 955, 'female singer': 1142, 'trumpet': 406}\n",
      "loading metadata from /home/hugo/lab/instrument-recognition/data/mdb-solos-train-soundscapes/validation...\n",
      "found 3494 entries\n",
      "{'clarinet': 328, 'piano': 1022, 'flute': 233, 'female singer': 284, 'tenor saxophone': 29, 'violin': 1031, 'distorted electric guitar': 495, 'trumpet': 72}\n",
      "train entries: 5208\n",
      "val entries: 3494\n",
      "found checkpoint: /home/hugo/lab/instrument-recognition/test-tubes/transformer-search/seed=433_rnn=xfmr-32_recurrence_num_layers=2_/version_0/checkpoints/epoch=05-fscore_val=0.93.ckpt\n"
     ]
    },
    {
     "data": {
      "application/vnd.jupyter.widget-view+json": {
       "model_id": "c93a303c647442fcb4df313684d38adc",
       "version_major": 2,
       "version_minor": 0
      },
      "text/plain": [
       "HBox(children=(HTML(value='Testing'), FloatProgress(value=1.0, bar_style='info', layout=Layout(flex='2'), max=…"
      ]
     },
     "metadata": {},
     "output_type": "display_data"
    },
    {
     "name": "stdout",
     "output_type": "stream",
     "text": [
      "--------------------------------------------------------------------------------\n",
      "DATALOADER:0 TEST RESULTS\n",
      "{'ECE/test': 0.11985261833939245,\n",
      " 'accuracy/test': 0.8412880026152337,\n",
      " 'fscore/test': 0.8294401179320581,\n",
      " 'fscore_test': 0.8294401179320581,\n",
      " 'loss/test': tensor(0.9678),\n",
      " 'loss_test': tensor(0.9678),\n",
      " 'precision/test': 0.8593260710015134,\n",
      " 'recall/test': 0.8412880026152337}\n",
      "--------------------------------------------------------------------------------\n",
      "\n",
      "found checkpoint: /home/hugo/lab/instrument-recognition/test-tubes/transformer-search/seed=23_rnn=xfmr-64_recurrence_num_layers=1_/version_0/checkpoints/epoch=04-fscore_val=0.93.ckpt\n",
      "found checkpoint: /home/hugo/lab/instrument-recognition/test-tubes/transformer-search/seed=23_rnn=xfmr-64_recurrence_num_layers=1_/version_0/checkpoints/epoch=04-fscore_val=0.93.ckpt\n",
      "/home/hugo/lab/instrument-recognition/test-tubes/transformer-search/seed=23_rnn=xfmr-64_recurrence_num_layers=1_/version_0\n",
      "/home/hugo/lab/instrument-recognition/test-tubes/transformer-search/seed=23_rnn=xfmr-64_recurrence_num_layers=1_/version_0/checkpoints/epoch=04-fscore_val=0.93.ckpt\n"
     ]
    },
    {
     "name": "stderr",
     "output_type": "stream",
     "text": [
      " 48%|████▊     | 2496/5208 [00:00<00:00, 24958.30it/s]"
     ]
    },
    {
     "name": "stdout",
     "output_type": "stream",
     "text": [
      "loading metadata from /home/hugo/lab/instrument-recognition/data/mdb-solos-train-soundscapes/train...\n"
     ]
    },
    {
     "name": "stderr",
     "output_type": "stream",
     "text": [
      "100%|██████████| 5208/5208 [00:00<00:00, 23604.91it/s]\n",
      "  0%|          | 0/12236 [00:00<?, ?it/s]"
     ]
    },
    {
     "name": "stdout",
     "output_type": "stream",
     "text": [
      "found 5208 entries\n",
      "{'trumpet': 1965, 'clarinet': 1966, 'tenor saxophone': 1914, 'piano': 1941, 'violin': 1948, 'female singer': 2011, 'flute': 1932, 'distorted electric guitar': 1945}\n",
      "loading metadata from /home/hugo/lab/instrument-recognition/data/mdb-solos-train-soundscapes/test...\n"
     ]
    },
    {
     "name": "stderr",
     "output_type": "stream",
     "text": [
      "100%|██████████| 12236/12236 [00:00<00:00, 23426.51it/s]\n",
      "100%|██████████| 3494/3494 [00:00<00:00, 28731.43it/s]\n"
     ]
    },
    {
     "name": "stdout",
     "output_type": "stream",
     "text": [
      "found 12236 entries\n",
      "{'clarinet': 732, 'piano': 2609, 'violin': 2900, 'tenor saxophone': 325, 'flute': 3167, 'distorted electric guitar': 955, 'female singer': 1142, 'trumpet': 406}\n",
      "loading metadata from /home/hugo/lab/instrument-recognition/data/mdb-solos-train-soundscapes/validation...\n",
      "found 3494 entries\n",
      "{'clarinet': 328, 'piano': 1022, 'flute': 233, 'female singer': 284, 'tenor saxophone': 29, 'violin': 1031, 'distorted electric guitar': 495, 'trumpet': 72}\n",
      "train entries: 5208\n",
      "val entries: 3494\n"
     ]
    },
    {
     "name": "stderr",
     "output_type": "stream",
     "text": [
      "/home/hugo/lab/venv/lib/python3.8/site-packages/pytorch_lightning/utilities/distributed.py:45: UserWarning: Checkpoint directory /home/hugo/lab/instrument-recognition/test-tubes/transformer-search/seed=23_rnn=xfmr-64_recurrence_num_layers=1_/version_0/checkpoints exists and is not empty. With save_top_k=3, all files in this directory will be deleted when a checkpoint is saved!\n",
      "  warnings.warn(*args, **kwargs)\n",
      "GPU available: True, used: False\n",
      "TPU available: False, using: 0 TPU cores\n"
     ]
    },
    {
     "name": "stdout",
     "output_type": "stream",
     "text": [
      "found checkpoint: /home/hugo/lab/instrument-recognition/test-tubes/transformer-search/seed=23_rnn=xfmr-64_recurrence_num_layers=1_/version_0/checkpoints/epoch=04-fscore_val=0.93.ckpt\n"
     ]
    },
    {
     "data": {
      "application/vnd.jupyter.widget-view+json": {
       "model_id": "72ae761f377841e4b35b8b866effe134",
       "version_major": 2,
       "version_minor": 0
      },
      "text/plain": [
       "HBox(children=(HTML(value='Testing'), FloatProgress(value=1.0, bar_style='info', layout=Layout(flex='2'), max=…"
      ]
     },
     "metadata": {},
     "output_type": "display_data"
    },
    {
     "name": "stdout",
     "output_type": "stream",
     "text": [
      "--------------------------------------------------------------------------------\n",
      "DATALOADER:0 TEST RESULTS\n",
      "{'ECE/test': 0.11686086384470956,\n",
      " 'accuracy/test': 0.8413969706875886,\n",
      " 'fscore/test': 0.8300660979504801,\n",
      " 'fscore_test': 0.8300660979504801,\n",
      " 'loss/test': tensor(0.9153),\n",
      " 'loss_test': tensor(0.9153),\n",
      " 'precision/test': 0.8610469049278509,\n",
      " 'recall/test': 0.8413969706875886}\n",
      "--------------------------------------------------------------------------------\n",
      "\n",
      "found checkpoint: /home/hugo/lab/instrument-recognition/test-tubes/transformer-search/seed=11_rnn=xfmr-16_recurrence_num_layers=2_/version_0/checkpoints/epoch=91-fscore_val=0.93.ckpt\n",
      "found checkpoint: /home/hugo/lab/instrument-recognition/test-tubes/transformer-search/seed=11_rnn=xfmr-16_recurrence_num_layers=2_/version_0/checkpoints/epoch=91-fscore_val=0.93.ckpt\n",
      "/home/hugo/lab/instrument-recognition/test-tubes/transformer-search/seed=11_rnn=xfmr-16_recurrence_num_layers=2_/version_0\n",
      "/home/hugo/lab/instrument-recognition/test-tubes/transformer-search/seed=11_rnn=xfmr-16_recurrence_num_layers=2_/version_0/checkpoints/epoch=91-fscore_val=0.93.ckpt\n"
     ]
    },
    {
     "name": "stderr",
     "output_type": "stream",
     "text": [
      " 38%|███▊      | 1999/5208 [00:00<00:00, 19988.59it/s]"
     ]
    },
    {
     "name": "stdout",
     "output_type": "stream",
     "text": [
      "loading metadata from /home/hugo/lab/instrument-recognition/data/mdb-solos-train-soundscapes/train...\n"
     ]
    },
    {
     "name": "stderr",
     "output_type": "stream",
     "text": [
      "100%|██████████| 5208/5208 [00:00<00:00, 21129.18it/s]\n",
      "  0%|          | 0/12236 [00:00<?, ?it/s]"
     ]
    },
    {
     "name": "stdout",
     "output_type": "stream",
     "text": [
      "found 5208 entries\n",
      "{'trumpet': 1965, 'clarinet': 1966, 'tenor saxophone': 1914, 'piano': 1941, 'violin': 1948, 'female singer': 2011, 'flute': 1932, 'distorted electric guitar': 1945}\n",
      "loading metadata from /home/hugo/lab/instrument-recognition/data/mdb-solos-train-soundscapes/test...\n"
     ]
    },
    {
     "name": "stderr",
     "output_type": "stream",
     "text": [
      "100%|██████████| 12236/12236 [00:00<00:00, 30066.34it/s]\n",
      "100%|██████████| 3494/3494 [00:00<00:00, 25600.09it/s]\n"
     ]
    },
    {
     "name": "stdout",
     "output_type": "stream",
     "text": [
      "found 12236 entries\n",
      "{'clarinet': 732, 'piano': 2609, 'violin': 2900, 'tenor saxophone': 325, 'flute': 3167, 'distorted electric guitar': 955, 'female singer': 1142, 'trumpet': 406}\n",
      "loading metadata from /home/hugo/lab/instrument-recognition/data/mdb-solos-train-soundscapes/validation...\n",
      "found 3494 entries\n",
      "{'clarinet': 328, 'piano': 1022, 'flute': 233, 'female singer': 284, 'tenor saxophone': 29, 'violin': 1031, 'distorted electric guitar': 495, 'trumpet': 72}"
     ]
    },
    {
     "name": "stderr",
     "output_type": "stream",
     "text": [
      "/home/hugo/lab/venv/lib/python3.8/site-packages/pytorch_lightning/utilities/distributed.py:45: UserWarning: Checkpoint directory /home/hugo/lab/instrument-recognition/test-tubes/transformer-search/seed=11_rnn=xfmr-16_recurrence_num_layers=2_/version_0/checkpoints exists and is not empty. With save_top_k=3, all files in this directory will be deleted when a checkpoint is saved!\n",
      "  warnings.warn(*args, **kwargs)\n",
      "GPU available: True, used: False\n",
      "TPU available: False, using: 0 TPU cores\n"
     ]
    },
    {
     "name": "stdout",
     "output_type": "stream",
     "text": [
      "\n",
      "train entries: 5208\n",
      "val entries: 3494\n",
      "found checkpoint: /home/hugo/lab/instrument-recognition/test-tubes/transformer-search/seed=11_rnn=xfmr-16_recurrence_num_layers=2_/version_0/checkpoints/epoch=91-fscore_val=0.93.ckpt\n"
     ]
    },
    {
     "data": {
      "application/vnd.jupyter.widget-view+json": {
       "model_id": "cbfe095f6b57423ebd7584568aa47ad2",
       "version_major": 2,
       "version_minor": 0
      },
      "text/plain": [
       "HBox(children=(HTML(value='Testing'), FloatProgress(value=1.0, bar_style='info', layout=Layout(flex='2'), max=…"
      ]
     },
     "metadata": {},
     "output_type": "display_data"
    },
    {
     "name": "stdout",
     "output_type": "stream",
     "text": [
      "--------------------------------------------------------------------------------\n",
      "DATALOADER:0 TEST RESULTS\n",
      "{'ECE/test': 0.13257315162140204,\n",
      " 'accuracy/test': 0.844529802767789,\n",
      " 'fscore/test': 0.8366225176996646,\n",
      " 'fscore_test': 0.8366225176996646,\n",
      " 'loss/test': tensor(1.3187),\n",
      " 'loss_test': tensor(1.3187),\n",
      " 'precision/test': 0.860923378108129,\n",
      " 'recall/test': 0.844529802767789}\n",
      "--------------------------------------------------------------------------------\n",
      "\n",
      "found checkpoint: /home/hugo/lab/instrument-recognition/test-tubes/transformer-search/seed=11_rnn=xfmr-1_recurrence_num_layers=2_/version_0/checkpoints/epoch=27-fscore_val=0.92.ckpt\n",
      "found checkpoint: /home/hugo/lab/instrument-recognition/test-tubes/transformer-search/seed=11_rnn=xfmr-1_recurrence_num_layers=2_/version_0/checkpoints/epoch=27-fscore_val=0.92.ckpt\n",
      "/home/hugo/lab/instrument-recognition/test-tubes/transformer-search/seed=11_rnn=xfmr-1_recurrence_num_layers=2_/version_0\n",
      "/home/hugo/lab/instrument-recognition/test-tubes/transformer-search/seed=11_rnn=xfmr-1_recurrence_num_layers=2_/version_0/checkpoints/epoch=27-fscore_val=0.92.ckpt\n"
     ]
    },
    {
     "name": "stderr",
     "output_type": "stream",
     "text": [
      " 40%|███▉      | 2065/5208 [00:00<00:00, 20640.87it/s]"
     ]
    },
    {
     "name": "stdout",
     "output_type": "stream",
     "text": [
      "loading metadata from /home/hugo/lab/instrument-recognition/data/mdb-solos-train-soundscapes/train...\n"
     ]
    },
    {
     "name": "stderr",
     "output_type": "stream",
     "text": [
      "100%|██████████| 5208/5208 [00:00<00:00, 20560.78it/s]\n",
      "  0%|          | 0/12236 [00:00<?, ?it/s]"
     ]
    },
    {
     "name": "stdout",
     "output_type": "stream",
     "text": [
      "found 5208 entries\n",
      "{'trumpet': 1965, 'clarinet': 1966, 'tenor saxophone': 1914, 'piano': 1941, 'violin': 1948, 'female singer': 2011, 'flute': 1932, 'distorted electric guitar': 1945}\n",
      "loading metadata from /home/hugo/lab/instrument-recognition/data/mdb-solos-train-soundscapes/test...\n"
     ]
    },
    {
     "name": "stderr",
     "output_type": "stream",
     "text": [
      "100%|██████████| 12236/12236 [00:00<00:00, 24913.65it/s]\n",
      "100%|██████████| 3494/3494 [00:00<00:00, 35098.53it/s]\n",
      "/home/hugo/lab/venv/lib/python3.8/site-packages/pytorch_lightning/utilities/distributed.py:45: UserWarning: Checkpoint directory /home/hugo/lab/instrument-recognition/test-tubes/transformer-search/seed=11_rnn=xfmr-1_recurrence_num_layers=2_/version_0/checkpoints exists and is not empty. With save_top_k=3, all files in this directory will be deleted when a checkpoint is saved!\n",
      "  warnings.warn(*args, **kwargs)\n",
      "GPU available: True, used: False\n",
      "TPU available: False, using: 0 TPU cores\n"
     ]
    },
    {
     "name": "stdout",
     "output_type": "stream",
     "text": [
      "found 12236 entries\n",
      "{'clarinet': 732, 'piano': 2609, 'violin': 2900, 'tenor saxophone': 325, 'flute': 3167, 'distorted electric guitar': 955, 'female singer': 1142, 'trumpet': 406}\n",
      "loading metadata from /home/hugo/lab/instrument-recognition/data/mdb-solos-train-soundscapes/validation...\n",
      "found 3494 entries\n",
      "{'clarinet': 328, 'piano': 1022, 'flute': 233, 'female singer': 284, 'tenor saxophone': 29, 'violin': 1031, 'distorted electric guitar': 495, 'trumpet': 72}\n",
      "train entries: 5208\n",
      "val entries: 3494\n",
      "found checkpoint: /home/hugo/lab/instrument-recognition/test-tubes/transformer-search/seed=11_rnn=xfmr-1_recurrence_num_layers=2_/version_0/checkpoints/epoch=27-fscore_val=0.92.ckpt\n"
     ]
    },
    {
     "data": {
      "application/vnd.jupyter.widget-view+json": {
       "model_id": "25d3381b47d04b0fa1b247ad8f1bf39e",
       "version_major": 2,
       "version_minor": 0
      },
      "text/plain": [
       "HBox(children=(HTML(value='Testing'), FloatProgress(value=1.0, bar_style='info', layout=Layout(flex='2'), max=…"
      ]
     },
     "metadata": {},
     "output_type": "display_data"
    },
    {
     "name": "stdout",
     "output_type": "stream",
     "text": [
      "--------------------------------------------------------------------------------\n",
      "DATALOADER:0 TEST RESULTS\n",
      "{'ECE/test': 0.14819169133232607,\n",
      " 'accuracy/test': 0.8215375395009262,\n",
      " 'fscore/test': 0.810197296093149,\n",
      " 'fscore_test': 0.810197296093149,\n",
      " 'loss/test': tensor(1.2873),\n",
      " 'loss_test': tensor(1.2873),\n",
      " 'precision/test': 0.8510881300712261,\n",
      " 'recall/test': 0.8215375395009262}\n",
      "--------------------------------------------------------------------------------\n",
      "\n",
      "found checkpoint: /home/hugo/lab/instrument-recognition/test-tubes/transformer-search/seed=23_rnn=xfmr-1_recurrence_num_layers=4_/version_0/checkpoints/epoch=31-fscore_val=0.94.ckpt\n",
      "found checkpoint: /home/hugo/lab/instrument-recognition/test-tubes/transformer-search/seed=23_rnn=xfmr-1_recurrence_num_layers=4_/version_0/checkpoints/epoch=31-fscore_val=0.94.ckpt\n",
      "/home/hugo/lab/instrument-recognition/test-tubes/transformer-search/seed=23_rnn=xfmr-1_recurrence_num_layers=4_/version_0\n",
      "/home/hugo/lab/instrument-recognition/test-tubes/transformer-search/seed=23_rnn=xfmr-1_recurrence_num_layers=4_/version_0/checkpoints/epoch=31-fscore_val=0.94.ckpt\n"
     ]
    },
    {
     "name": "stderr",
     "output_type": "stream",
     "text": [
      " 48%|████▊     | 2491/5208 [00:00<00:00, 24901.65it/s]"
     ]
    },
    {
     "name": "stdout",
     "output_type": "stream",
     "text": [
      "loading metadata from /home/hugo/lab/instrument-recognition/data/mdb-solos-train-soundscapes/train...\n"
     ]
    },
    {
     "name": "stderr",
     "output_type": "stream",
     "text": [
      "100%|██████████| 5208/5208 [00:00<00:00, 23518.96it/s]\n",
      "  0%|          | 0/12236 [00:00<?, ?it/s]"
     ]
    },
    {
     "name": "stdout",
     "output_type": "stream",
     "text": [
      "found 5208 entries\n",
      "{'trumpet': 1965, 'clarinet': 1966, 'tenor saxophone': 1914, 'piano': 1941, 'violin': 1948, 'female singer': 2011, 'flute': 1932, 'distorted electric guitar': 1945}\n",
      "loading metadata from /home/hugo/lab/instrument-recognition/data/mdb-solos-train-soundscapes/test...\n"
     ]
    },
    {
     "name": "stderr",
     "output_type": "stream",
     "text": [
      "100%|██████████| 12236/12236 [00:00<00:00, 26598.00it/s]\n",
      "100%|██████████| 3494/3494 [00:00<00:00, 30343.04it/s]\n",
      "/home/hugo/lab/venv/lib/python3.8/site-packages/pytorch_lightning/utilities/distributed.py:45: UserWarning: Checkpoint directory /home/hugo/lab/instrument-recognition/test-tubes/transformer-search/seed=23_rnn=xfmr-1_recurrence_num_layers=4_/version_0/checkpoints exists and is not empty. With save_top_k=3, all files in this directory will be deleted when a checkpoint is saved!\n",
      "  warnings.warn(*args, **kwargs)\n",
      "GPU available: True, used: False\n",
      "TPU available: False, using: 0 TPU cores\n"
     ]
    },
    {
     "name": "stdout",
     "output_type": "stream",
     "text": [
      "found 12236 entries\n",
      "{'clarinet': 732, 'piano': 2609, 'violin': 2900, 'tenor saxophone': 325, 'flute': 3167, 'distorted electric guitar': 955, 'female singer': 1142, 'trumpet': 406}\n",
      "loading metadata from /home/hugo/lab/instrument-recognition/data/mdb-solos-train-soundscapes/validation...\n",
      "found 3494 entries\n",
      "{'clarinet': 328, 'piano': 1022, 'flute': 233, 'female singer': 284, 'tenor saxophone': 29, 'violin': 1031, 'distorted electric guitar': 495, 'trumpet': 72}\n",
      "train entries: 5208\n",
      "val entries: 3494\n",
      "found checkpoint: /home/hugo/lab/instrument-recognition/test-tubes/transformer-search/seed=23_rnn=xfmr-1_recurrence_num_layers=4_/version_0/checkpoints/epoch=31-fscore_val=0.94.ckpt\n"
     ]
    },
    {
     "data": {
      "application/vnd.jupyter.widget-view+json": {
       "model_id": "99ddfb1295e84b85923196dee06daef3",
       "version_major": 2,
       "version_minor": 0
      },
      "text/plain": [
       "HBox(children=(HTML(value='Testing'), FloatProgress(value=1.0, bar_style='info', layout=Layout(flex='2'), max=…"
      ]
     },
     "metadata": {},
     "output_type": "display_data"
    },
    {
     "name": "stdout",
     "output_type": "stream",
     "text": [
      "--------------------------------------------------------------------------------\n",
      "DATALOADER:0 TEST RESULTS\n",
      "{'ECE/test': 0.10697806879376312,\n",
      " 'accuracy/test': 0.8717173368203116,\n",
      " 'fscore/test': 0.8656885516740896,\n",
      " 'fscore_test': 0.8656885516740896,\n",
      " 'loss/test': tensor(0.9018),\n",
      " 'loss_test': tensor(0.9018),\n",
      " 'precision/test': 0.8751261365953853,\n",
      " 'recall/test': 0.8717173368203116}\n",
      "--------------------------------------------------------------------------------\n",
      "\n",
      "found checkpoint: /home/hugo/lab/instrument-recognition/test-tubes/transformer-search/seed=433_rnn=xfmr-2_recurrence_num_layers=4_/version_0/checkpoints/epoch=25-fscore_val=0.93.ckpt\n",
      "found checkpoint: /home/hugo/lab/instrument-recognition/test-tubes/transformer-search/seed=433_rnn=xfmr-2_recurrence_num_layers=4_/version_0/checkpoints/epoch=25-fscore_val=0.93.ckpt\n",
      "/home/hugo/lab/instrument-recognition/test-tubes/transformer-search/seed=433_rnn=xfmr-2_recurrence_num_layers=4_/version_0\n",
      "/home/hugo/lab/instrument-recognition/test-tubes/transformer-search/seed=433_rnn=xfmr-2_recurrence_num_layers=4_/version_0/checkpoints/epoch=25-fscore_val=0.93.ckpt\n"
     ]
    },
    {
     "name": "stderr",
     "output_type": "stream",
     "text": [
      " 38%|███▊      | 2003/5208 [00:00<00:00, 20026.92it/s]"
     ]
    },
    {
     "name": "stdout",
     "output_type": "stream",
     "text": [
      "loading metadata from /home/hugo/lab/instrument-recognition/data/mdb-solos-train-soundscapes/train...\n"
     ]
    },
    {
     "name": "stderr",
     "output_type": "stream",
     "text": [
      "100%|██████████| 5208/5208 [00:00<00:00, 20350.08it/s]\n",
      "  0%|          | 0/12236 [00:00<?, ?it/s]"
     ]
    },
    {
     "name": "stdout",
     "output_type": "stream",
     "text": [
      "found 5208 entries\n",
      "{'trumpet': 1965, 'clarinet': 1966, 'tenor saxophone': 1914, 'piano': 1941, 'violin': 1948, 'female singer': 2011, 'flute': 1932, 'distorted electric guitar': 1945}\n",
      "loading metadata from /home/hugo/lab/instrument-recognition/data/mdb-solos-train-soundscapes/test...\n"
     ]
    },
    {
     "name": "stderr",
     "output_type": "stream",
     "text": [
      "100%|██████████| 12236/12236 [00:00<00:00, 30006.87it/s]\n",
      "100%|██████████| 3494/3494 [00:00<00:00, 30567.21it/s]\n",
      "/home/hugo/lab/venv/lib/python3.8/site-packages/pytorch_lightning/utilities/distributed.py:45: UserWarning: Checkpoint directory /home/hugo/lab/instrument-recognition/test-tubes/transformer-search/seed=433_rnn=xfmr-2_recurrence_num_layers=4_/version_0/checkpoints exists and is not empty. With save_top_k=3, all files in this directory will be deleted when a checkpoint is saved!\n",
      "  warnings.warn(*args, **kwargs)\n",
      "GPU available: True, used: False\n",
      "TPU available: False, using: 0 TPU cores\n"
     ]
    },
    {
     "name": "stdout",
     "output_type": "stream",
     "text": [
      "found 12236 entries\n",
      "{'clarinet': 732, 'piano': 2609, 'violin': 2900, 'tenor saxophone': 325, 'flute': 3167, 'distorted electric guitar': 955, 'female singer': 1142, 'trumpet': 406}\n",
      "loading metadata from /home/hugo/lab/instrument-recognition/data/mdb-solos-train-soundscapes/validation...\n",
      "found 3494 entries\n",
      "{'clarinet': 328, 'piano': 1022, 'flute': 233, 'female singer': 284, 'tenor saxophone': 29, 'violin': 1031, 'distorted electric guitar': 495, 'trumpet': 72}\n",
      "train entries: 5208\n",
      "val entries: 3494\n",
      "found checkpoint: /home/hugo/lab/instrument-recognition/test-tubes/transformer-search/seed=433_rnn=xfmr-2_recurrence_num_layers=4_/version_0/checkpoints/epoch=25-fscore_val=0.93.ckpt\n"
     ]
    },
    {
     "data": {
      "application/vnd.jupyter.widget-view+json": {
       "model_id": "0d300366083c4bd99d81a1e6b55e850a",
       "version_major": 2,
       "version_minor": 0
      },
      "text/plain": [
       "HBox(children=(HTML(value='Testing'), FloatProgress(value=1.0, bar_style='info', layout=Layout(flex='2'), max=…"
      ]
     },
     "metadata": {},
     "output_type": "display_data"
    },
    {
     "name": "stdout",
     "output_type": "stream",
     "text": [
      "--------------------------------------------------------------------------------\n",
      "DATALOADER:0 TEST RESULTS\n",
      "{'ECE/test': 0.11593896100821033,\n",
      " 'accuracy/test': 0.8608477716029204,\n",
      " 'fscore/test': 0.8505345674998778,\n",
      " 'fscore_test': 0.8505345674998778,\n",
      " 'loss/test': tensor(0.9685),\n",
      " 'loss_test': tensor(0.9685),\n",
      " 'precision/test': 0.8752234284283544,\n",
      " 'recall/test': 0.8608477716029204}\n",
      "--------------------------------------------------------------------------------\n",
      "\n",
      "found checkpoint: /home/hugo/lab/instrument-recognition/test-tubes/transformer-search/seed=11_rnn=xfmr-2_recurrence_num_layers=6_/version_0/checkpoints/epoch=25-fscore_val=0.93.ckpt\n",
      "found checkpoint: /home/hugo/lab/instrument-recognition/test-tubes/transformer-search/seed=11_rnn=xfmr-2_recurrence_num_layers=6_/version_0/checkpoints/epoch=25-fscore_val=0.93.ckpt\n",
      "/home/hugo/lab/instrument-recognition/test-tubes/transformer-search/seed=11_rnn=xfmr-2_recurrence_num_layers=6_/version_0\n",
      "/home/hugo/lab/instrument-recognition/test-tubes/transformer-search/seed=11_rnn=xfmr-2_recurrence_num_layers=6_/version_0/checkpoints/epoch=25-fscore_val=0.93.ckpt\n"
     ]
    },
    {
     "name": "stderr",
     "output_type": "stream",
     "text": [
      " 45%|████▌     | 2352/5208 [00:00<00:00, 23515.14it/s]"
     ]
    },
    {
     "name": "stdout",
     "output_type": "stream",
     "text": [
      "loading metadata from /home/hugo/lab/instrument-recognition/data/mdb-solos-train-soundscapes/train...\n"
     ]
    },
    {
     "name": "stderr",
     "output_type": "stream",
     "text": [
      "100%|██████████| 5208/5208 [00:00<00:00, 23633.82it/s]\n",
      "  0%|          | 0/12236 [00:00<?, ?it/s]"
     ]
    },
    {
     "name": "stdout",
     "output_type": "stream",
     "text": [
      "found 5208 entries\n",
      "{'trumpet': 1965, 'clarinet': 1966, 'tenor saxophone': 1914, 'piano': 1941, 'violin': 1948, 'female singer': 2011, 'flute': 1932, 'distorted electric guitar': 1945}\n",
      "loading metadata from /home/hugo/lab/instrument-recognition/data/mdb-solos-train-soundscapes/test...\n"
     ]
    },
    {
     "name": "stderr",
     "output_type": "stream",
     "text": [
      "100%|██████████| 12236/12236 [00:00<00:00, 31815.83it/s]\n",
      "100%|██████████| 3494/3494 [00:00<00:00, 30077.56it/s]\n",
      "/home/hugo/lab/venv/lib/python3.8/site-packages/pytorch_lightning/utilities/distributed.py:45: UserWarning: Checkpoint directory /home/hugo/lab/instrument-recognition/test-tubes/transformer-search/seed=11_rnn=xfmr-2_recurrence_num_layers=6_/version_0/checkpoints exists and is not empty. With save_top_k=3, all files in this directory will be deleted when a checkpoint is saved!\n",
      "  warnings.warn(*args, **kwargs)\n",
      "GPU available: True, used: False\n",
      "TPU available: False, using: 0 TPU cores\n"
     ]
    },
    {
     "name": "stdout",
     "output_type": "stream",
     "text": [
      "found 12236 entries\n",
      "{'clarinet': 732, 'piano': 2609, 'violin': 2900, 'tenor saxophone': 325, 'flute': 3167, 'distorted electric guitar': 955, 'female singer': 1142, 'trumpet': 406}\n",
      "loading metadata from /home/hugo/lab/instrument-recognition/data/mdb-solos-train-soundscapes/validation...\n",
      "found 3494 entries\n",
      "{'clarinet': 328, 'piano': 1022, 'flute': 233, 'female singer': 284, 'tenor saxophone': 29, 'violin': 1031, 'distorted electric guitar': 495, 'trumpet': 72}\n",
      "train entries: 5208\n",
      "val entries: 3494\n",
      "found checkpoint: /home/hugo/lab/instrument-recognition/test-tubes/transformer-search/seed=11_rnn=xfmr-2_recurrence_num_layers=6_/version_0/checkpoints/epoch=25-fscore_val=0.93.ckpt\n"
     ]
    },
    {
     "data": {
      "application/vnd.jupyter.widget-view+json": {
       "model_id": "d7b45243a3204462b82eed2c18737339",
       "version_major": 2,
       "version_minor": 0
      },
      "text/plain": [
       "HBox(children=(HTML(value='Testing'), FloatProgress(value=1.0, bar_style='info', layout=Layout(flex='2'), max=…"
      ]
     },
     "metadata": {},
     "output_type": "display_data"
    },
    {
     "name": "stdout",
     "output_type": "stream",
     "text": [
      "--------------------------------------------------------------------------------\n",
      "DATALOADER:0 TEST RESULTS\n",
      "{'ECE/test': 0.14566947612414194,\n",
      " 'accuracy/test': 0.8296556608913588,\n",
      " 'fscore/test': 0.8151728854388396,\n",
      " 'fscore_test': 0.8151728854388396,\n",
      " 'loss/test': tensor(1.2906),\n",
      " 'loss_test': tensor(1.2906),\n",
      " 'precision/test': 0.8515500744225263,\n",
      " 'recall/test': 0.8296556608913588}\n",
      "--------------------------------------------------------------------------------\n",
      "\n",
      "found checkpoint: /home/hugo/lab/instrument-recognition/test-tubes/transformer-search/seed=433_rnn=xfmr-4_recurrence_num_layers=4_/version_0/checkpoints/epoch=25-fscore_val=0.94.ckpt\n",
      "found checkpoint: /home/hugo/lab/instrument-recognition/test-tubes/transformer-search/seed=433_rnn=xfmr-4_recurrence_num_layers=4_/version_0/checkpoints/epoch=25-fscore_val=0.94.ckpt\n",
      "/home/hugo/lab/instrument-recognition/test-tubes/transformer-search/seed=433_rnn=xfmr-4_recurrence_num_layers=4_/version_0\n",
      "/home/hugo/lab/instrument-recognition/test-tubes/transformer-search/seed=433_rnn=xfmr-4_recurrence_num_layers=4_/version_0/checkpoints/epoch=25-fscore_val=0.94.ckpt\n"
     ]
    },
    {
     "name": "stderr",
     "output_type": "stream",
     "text": [
      " 49%|████▊     | 2530/5208 [00:00<00:00, 25290.38it/s]"
     ]
    },
    {
     "name": "stdout",
     "output_type": "stream",
     "text": [
      "loading metadata from /home/hugo/lab/instrument-recognition/data/mdb-solos-train-soundscapes/train...\n"
     ]
    },
    {
     "name": "stderr",
     "output_type": "stream",
     "text": [
      "100%|██████████| 5208/5208 [00:00<00:00, 23816.51it/s]\n",
      " 30%|██▉       | 3652/12236 [00:00<00:00, 36509.76it/s]"
     ]
    },
    {
     "name": "stdout",
     "output_type": "stream",
     "text": [
      "found 5208 entries\n",
      "{'trumpet': 1965, 'clarinet': 1966, 'tenor saxophone': 1914, 'piano': 1941, 'violin': 1948, 'female singer': 2011, 'flute': 1932, 'distorted electric guitar': 1945}\n",
      "loading metadata from /home/hugo/lab/instrument-recognition/data/mdb-solos-train-soundscapes/test...\n"
     ]
    },
    {
     "name": "stderr",
     "output_type": "stream",
     "text": [
      "100%|██████████| 12236/12236 [00:00<00:00, 28311.72it/s]\n",
      "100%|██████████| 3494/3494 [00:00<00:00, 26448.11it/s]\n"
     ]
    },
    {
     "name": "stdout",
     "output_type": "stream",
     "text": [
      "found 12236 entries\n",
      "{'clarinet': 732, 'piano': 2609, 'violin': 2900, 'tenor saxophone': 325, 'flute': 3167, 'distorted electric guitar': 955, 'female singer': 1142, 'trumpet': 406}\n",
      "loading metadata from /home/hugo/lab/instrument-recognition/data/mdb-solos-train-soundscapes/validation...\n",
      "found 3494 entries\n"
     ]
    },
    {
     "name": "stderr",
     "output_type": "stream",
     "text": [
      "/home/hugo/lab/venv/lib/python3.8/site-packages/pytorch_lightning/utilities/distributed.py:45: UserWarning: Checkpoint directory /home/hugo/lab/instrument-recognition/test-tubes/transformer-search/seed=433_rnn=xfmr-4_recurrence_num_layers=4_/version_0/checkpoints exists and is not empty. With save_top_k=3, all files in this directory will be deleted when a checkpoint is saved!\n",
      "  warnings.warn(*args, **kwargs)\n",
      "GPU available: True, used: False\n",
      "TPU available: False, using: 0 TPU cores\n"
     ]
    },
    {
     "name": "stdout",
     "output_type": "stream",
     "text": [
      "{'clarinet': 328, 'piano': 1022, 'flute': 233, 'female singer': 284, 'tenor saxophone': 29, 'violin': 1031, 'distorted electric guitar': 495, 'trumpet': 72}\n",
      "train entries: 5208\n",
      "val entries: 3494\n",
      "found checkpoint: /home/hugo/lab/instrument-recognition/test-tubes/transformer-search/seed=433_rnn=xfmr-4_recurrence_num_layers=4_/version_0/checkpoints/epoch=25-fscore_val=0.94.ckpt\n"
     ]
    },
    {
     "data": {
      "application/vnd.jupyter.widget-view+json": {
       "model_id": "1b72078357ce4d9ba3f2a24fc9a6ac95",
       "version_major": 2,
       "version_minor": 0
      },
      "text/plain": [
       "HBox(children=(HTML(value='Testing'), FloatProgress(value=1.0, bar_style='info', layout=Layout(flex='2'), max=…"
      ]
     },
     "metadata": {},
     "output_type": "display_data"
    },
    {
     "name": "stdout",
     "output_type": "stream",
     "text": [
      "--------------------------------------------------------------------------------\n",
      "DATALOADER:0 TEST RESULTS\n",
      "{'ECE/test': 0.1218218310089969,\n",
      " 'accuracy/test': 0.8490792197886019,\n",
      " 'fscore/test': 0.8406003319673873,\n",
      " 'fscore_test': 0.8406003319673873,\n",
      " 'loss/test': tensor(0.9747),\n",
      " 'loss_test': tensor(0.9747),\n",
      " 'precision/test': 0.8673378993205259,\n",
      " 'recall/test': 0.8490792197886019}\n",
      "--------------------------------------------------------------------------------\n",
      "\n",
      "found checkpoint: /home/hugo/lab/instrument-recognition/test-tubes/transformer-search/seed=440_rnn=xfmr-4_recurrence_num_layers=4_/version_0/checkpoints/epoch=59-fscore_val=0.94.ckpt\n",
      "found checkpoint: /home/hugo/lab/instrument-recognition/test-tubes/transformer-search/seed=440_rnn=xfmr-4_recurrence_num_layers=4_/version_0/checkpoints/epoch=59-fscore_val=0.94.ckpt\n",
      "/home/hugo/lab/instrument-recognition/test-tubes/transformer-search/seed=440_rnn=xfmr-4_recurrence_num_layers=4_/version_0\n",
      "/home/hugo/lab/instrument-recognition/test-tubes/transformer-search/seed=440_rnn=xfmr-4_recurrence_num_layers=4_/version_0/checkpoints/epoch=59-fscore_val=0.94.ckpt\n"
     ]
    },
    {
     "name": "stderr",
     "output_type": "stream",
     "text": [
      " 56%|█████▌    | 2907/5208 [00:00<00:00, 29068.02it/s]"
     ]
    },
    {
     "name": "stdout",
     "output_type": "stream",
     "text": [
      "loading metadata from /home/hugo/lab/instrument-recognition/data/mdb-solos-train-soundscapes/train...\n"
     ]
    },
    {
     "name": "stderr",
     "output_type": "stream",
     "text": [
      "100%|██████████| 5208/5208 [00:00<00:00, 25706.55it/s]\n",
      "  0%|          | 0/12236 [00:00<?, ?it/s]"
     ]
    },
    {
     "name": "stdout",
     "output_type": "stream",
     "text": [
      "found 5208 entries\n",
      "{'trumpet': 1965, 'clarinet': 1966, 'tenor saxophone': 1914, 'piano': 1941, 'violin': 1948, 'female singer': 2011, 'flute': 1932, 'distorted electric guitar': 1945}\n",
      "loading metadata from /home/hugo/lab/instrument-recognition/data/mdb-solos-train-soundscapes/test...\n"
     ]
    },
    {
     "name": "stderr",
     "output_type": "stream",
     "text": [
      "100%|██████████| 12236/12236 [00:00<00:00, 27164.34it/s]\n",
      "100%|██████████| 3494/3494 [00:00<00:00, 33345.92it/s]\n",
      "/home/hugo/lab/venv/lib/python3.8/site-packages/pytorch_lightning/utilities/distributed.py:45: UserWarning: Checkpoint directory /home/hugo/lab/instrument-recognition/test-tubes/transformer-search/seed=440_rnn=xfmr-4_recurrence_num_layers=4_/version_0/checkpoints exists and is not empty. With save_top_k=3, all files in this directory will be deleted when a checkpoint is saved!\n",
      "  warnings.warn(*args, **kwargs)\n",
      "GPU available: True, used: False\n",
      "TPU available: False, using: 0 TPU cores\n"
     ]
    },
    {
     "name": "stdout",
     "output_type": "stream",
     "text": [
      "found 12236 entries\n",
      "{'clarinet': 732, 'piano': 2609, 'violin': 2900, 'tenor saxophone': 325, 'flute': 3167, 'distorted electric guitar': 955, 'female singer': 1142, 'trumpet': 406}\n",
      "loading metadata from /home/hugo/lab/instrument-recognition/data/mdb-solos-train-soundscapes/validation...\n",
      "found 3494 entries\n",
      "{'clarinet': 328, 'piano': 1022, 'flute': 233, 'female singer': 284, 'tenor saxophone': 29, 'violin': 1031, 'distorted electric guitar': 495, 'trumpet': 72}\n",
      "train entries: 5208\n",
      "val entries: 3494\n",
      "found checkpoint: /home/hugo/lab/instrument-recognition/test-tubes/transformer-search/seed=440_rnn=xfmr-4_recurrence_num_layers=4_/version_0/checkpoints/epoch=59-fscore_val=0.94.ckpt\n"
     ]
    },
    {
     "data": {
      "application/vnd.jupyter.widget-view+json": {
       "model_id": "286894b65b994b86b4de7d404262b8a4",
       "version_major": 2,
       "version_minor": 0
      },
      "text/plain": [
       "HBox(children=(HTML(value='Testing'), FloatProgress(value=1.0, bar_style='info', layout=Layout(flex='2'), max=…"
      ]
     },
     "metadata": {},
     "output_type": "display_data"
    },
    {
     "name": "stdout",
     "output_type": "stream",
     "text": [
      "--------------------------------------------------------------------------------\n",
      "DATALOADER:0 TEST RESULTS\n",
      "{'ECE/test': 0.11564674961390907,\n",
      " 'accuracy/test': 0.8597308488612836,\n",
      " 'fscore/test': 0.8541105590777038,\n",
      " 'fscore_test': 0.8541105590777038,\n",
      " 'loss/test': tensor(0.9539),\n",
      " 'loss_test': tensor(0.9539),\n",
      " 'precision/test': 0.8720153480996791,\n",
      " 'recall/test': 0.8597308488612836}\n",
      "--------------------------------------------------------------------------------\n",
      "\n",
      "found checkpoint: /home/hugo/lab/instrument-recognition/test-tubes/transformer-search/seed=11_rnn=xfmr-4_recurrence_num_layers=2_/version_0/checkpoints/epoch=27-fscore_val=0.93.ckpt\n",
      "found checkpoint: /home/hugo/lab/instrument-recognition/test-tubes/transformer-search/seed=11_rnn=xfmr-4_recurrence_num_layers=2_/version_0/checkpoints/epoch=27-fscore_val=0.93.ckpt\n",
      "/home/hugo/lab/instrument-recognition/test-tubes/transformer-search/seed=11_rnn=xfmr-4_recurrence_num_layers=2_/version_0\n",
      "/home/hugo/lab/instrument-recognition/test-tubes/transformer-search/seed=11_rnn=xfmr-4_recurrence_num_layers=2_/version_0/checkpoints/epoch=27-fscore_val=0.93.ckpt\n"
     ]
    },
    {
     "name": "stderr",
     "output_type": "stream",
     "text": [
      " 54%|█████▎    | 2792/5208 [00:00<00:00, 27913.90it/s]"
     ]
    },
    {
     "name": "stdout",
     "output_type": "stream",
     "text": [
      "loading metadata from /home/hugo/lab/instrument-recognition/data/mdb-solos-train-soundscapes/train...\n"
     ]
    },
    {
     "name": "stderr",
     "output_type": "stream",
     "text": [
      "100%|██████████| 5208/5208 [00:00<00:00, 24824.12it/s]\n",
      "  0%|          | 0/12236 [00:00<?, ?it/s]"
     ]
    },
    {
     "name": "stdout",
     "output_type": "stream",
     "text": [
      "found 5208 entries\n",
      "{'trumpet': 1965, 'clarinet': 1966, 'tenor saxophone': 1914, 'piano': 1941, 'violin': 1948, 'female singer': 2011, 'flute': 1932, 'distorted electric guitar': 1945}\n",
      "loading metadata from /home/hugo/lab/instrument-recognition/data/mdb-solos-train-soundscapes/test...\n"
     ]
    },
    {
     "name": "stderr",
     "output_type": "stream",
     "text": [
      "100%|██████████| 12236/12236 [00:00<00:00, 26444.21it/s]\n",
      " 72%|███████▏  | 2524/3494 [00:00<00:00, 25236.23it/s]"
     ]
    },
    {
     "name": "stdout",
     "output_type": "stream",
     "text": [
      "found 12236 entries\n",
      "{'clarinet': 732, 'piano': 2609, 'violin': 2900, 'tenor saxophone': 325, 'flute': 3167, 'distorted electric guitar': 955, 'female singer': 1142, 'trumpet': 406}\n",
      "loading metadata from /home/hugo/lab/instrument-recognition/data/mdb-solos-train-soundscapes/validation...\n"
     ]
    },
    {
     "name": "stderr",
     "output_type": "stream",
     "text": [
      "100%|██████████| 3494/3494 [00:00<00:00, 25555.00it/s]\n",
      "/home/hugo/lab/venv/lib/python3.8/site-packages/pytorch_lightning/utilities/distributed.py:45: UserWarning: Checkpoint directory /home/hugo/lab/instrument-recognition/test-tubes/transformer-search/seed=11_rnn=xfmr-4_recurrence_num_layers=2_/version_0/checkpoints exists and is not empty. With save_top_k=3, all files in this directory will be deleted when a checkpoint is saved!\n",
      "  warnings.warn(*args, **kwargs)\n",
      "GPU available: True, used: False\n",
      "TPU available: False, using: 0 TPU cores\n"
     ]
    },
    {
     "name": "stdout",
     "output_type": "stream",
     "text": [
      "found 3494 entries\n",
      "{'clarinet': 328, 'piano': 1022, 'flute': 233, 'female singer': 284, 'tenor saxophone': 29, 'violin': 1031, 'distorted electric guitar': 495, 'trumpet': 72}\n",
      "train entries: 5208\n",
      "val entries: 3494\n",
      "found checkpoint: /home/hugo/lab/instrument-recognition/test-tubes/transformer-search/seed=11_rnn=xfmr-4_recurrence_num_layers=2_/version_0/checkpoints/epoch=27-fscore_val=0.93.ckpt\n"
     ]
    },
    {
     "data": {
      "application/vnd.jupyter.widget-view+json": {
       "model_id": "497ddaba2cd64a8983575e48847d8c2e",
       "version_major": 2,
       "version_minor": 0
      },
      "text/plain": [
       "HBox(children=(HTML(value='Testing'), FloatProgress(value=1.0, bar_style='info', layout=Layout(flex='2'), max=…"
      ]
     },
     "metadata": {},
     "output_type": "display_data"
    },
    {
     "name": "stdout",
     "output_type": "stream",
     "text": [
      "--------------------------------------------------------------------------------\n",
      "DATALOADER:0 TEST RESULTS\n",
      "{'ECE/test': 0.1325983691096332,\n",
      " 'accuracy/test': 0.836902037702953,\n",
      " 'fscore/test': 0.8271935461187052,\n",
      " 'fscore_test': 0.8271935461187052,\n",
      " 'loss/test': tensor(1.1577),\n",
      " 'loss_test': tensor(1.1577),\n",
      " 'precision/test': 0.8538095655493312,\n",
      " 'recall/test': 0.836902037702953}\n",
      "--------------------------------------------------------------------------------\n",
      "\n",
      "found checkpoint: /home/hugo/lab/instrument-recognition/test-tubes/transformer-search/seed=440_rnn=xfmr-16_recurrence_num_layers=2_/version_0/checkpoints/epoch=104-fscore_val=0.93.ckpt\n",
      "found checkpoint: /home/hugo/lab/instrument-recognition/test-tubes/transformer-search/seed=440_rnn=xfmr-16_recurrence_num_layers=2_/version_0/checkpoints/epoch=104-fscore_val=0.93.ckpt\n",
      "/home/hugo/lab/instrument-recognition/test-tubes/transformer-search/seed=440_rnn=xfmr-16_recurrence_num_layers=2_/version_0\n",
      "/home/hugo/lab/instrument-recognition/test-tubes/transformer-search/seed=440_rnn=xfmr-16_recurrence_num_layers=2_/version_0/checkpoints/epoch=104-fscore_val=0.93.ckpt\n"
     ]
    },
    {
     "name": "stderr",
     "output_type": "stream",
     "text": [
      " 48%|████▊     | 2503/5208 [00:00<00:00, 25027.64it/s]"
     ]
    },
    {
     "name": "stdout",
     "output_type": "stream",
     "text": [
      "loading metadata from /home/hugo/lab/instrument-recognition/data/mdb-solos-train-soundscapes/train...\n"
     ]
    },
    {
     "name": "stderr",
     "output_type": "stream",
     "text": [
      "100%|██████████| 5208/5208 [00:00<00:00, 24806.67it/s]\n",
      "  0%|          | 0/12236 [00:00<?, ?it/s]"
     ]
    },
    {
     "name": "stdout",
     "output_type": "stream",
     "text": [
      "found 5208 entries\n",
      "{'trumpet': 1965, 'clarinet': 1966, 'tenor saxophone': 1914, 'piano': 1941, 'violin': 1948, 'female singer': 2011, 'flute': 1932, 'distorted electric guitar': 1945}\n",
      "loading metadata from /home/hugo/lab/instrument-recognition/data/mdb-solos-train-soundscapes/test...\n"
     ]
    },
    {
     "name": "stderr",
     "output_type": "stream",
     "text": [
      "100%|██████████| 12236/12236 [00:00<00:00, 28741.96it/s]\n",
      "100%|██████████| 3494/3494 [00:00<00:00, 29022.70it/s]\n"
     ]
    },
    {
     "name": "stdout",
     "output_type": "stream",
     "text": [
      "found 12236 entries\n",
      "{'clarinet': 732, 'piano': 2609, 'violin': 2900, 'tenor saxophone': 325, 'flute': 3167, 'distorted electric guitar': 955, 'female singer': 1142, 'trumpet': 406}\n",
      "loading metadata from /home/hugo/lab/instrument-recognition/data/mdb-solos-train-soundscapes/validation...\n",
      "found 3494 entries\n",
      "{'clarinet': 328, 'piano': 1022, 'flute': 233, 'female singer': 284, 'tenor saxophone': 29, 'violin': 1031, 'distorted electric guitar': 495, 'trumpet': 72}\n",
      "train entries: 5208\n",
      "val entries: 3494\n"
     ]
    },
    {
     "name": "stderr",
     "output_type": "stream",
     "text": [
      "/home/hugo/lab/venv/lib/python3.8/site-packages/pytorch_lightning/utilities/distributed.py:45: UserWarning: Checkpoint directory /home/hugo/lab/instrument-recognition/test-tubes/transformer-search/seed=440_rnn=xfmr-16_recurrence_num_layers=2_/version_0/checkpoints exists and is not empty. With save_top_k=3, all files in this directory will be deleted when a checkpoint is saved!\n",
      "  warnings.warn(*args, **kwargs)\n",
      "GPU available: True, used: False\n",
      "TPU available: False, using: 0 TPU cores\n"
     ]
    },
    {
     "name": "stdout",
     "output_type": "stream",
     "text": [
      "found checkpoint: /home/hugo/lab/instrument-recognition/test-tubes/transformer-search/seed=440_rnn=xfmr-16_recurrence_num_layers=2_/version_0/checkpoints/epoch=104-fscore_val=0.93.ckpt\n"
     ]
    },
    {
     "data": {
      "application/vnd.jupyter.widget-view+json": {
       "model_id": "e6a2ff400464435dae5489f73d902379",
       "version_major": 2,
       "version_minor": 0
      },
      "text/plain": [
       "HBox(children=(HTML(value='Testing'), FloatProgress(value=1.0, bar_style='info', layout=Layout(flex='2'), max=…"
      ]
     },
     "metadata": {},
     "output_type": "display_data"
    },
    {
     "name": "stdout",
     "output_type": "stream",
     "text": [
      "--------------------------------------------------------------------------------\n",
      "DATALOADER:0 TEST RESULTS\n",
      "{'ECE/test': 0.17167924427350933,\n",
      " 'accuracy/test': 0.8046747303040209,\n",
      " 'fscore/test': 0.786577031511957,\n",
      " 'fscore_test': 0.786577031511957,\n",
      " 'loss/test': tensor(1.7239),\n",
      " 'loss_test': tensor(1.7239),\n",
      " 'precision/test': 0.8467977056408433,\n",
      " 'recall/test': 0.8046747303040209}\n",
      "--------------------------------------------------------------------------------\n",
      "\n",
      "found checkpoint: /home/hugo/lab/instrument-recognition/test-tubes/transformer-search/seed=440_rnn=xfmr-32_recurrence_num_layers=6_/version_0/checkpoints/epoch=30-fscore_val=0.93.ckpt\n",
      "found checkpoint: /home/hugo/lab/instrument-recognition/test-tubes/transformer-search/seed=440_rnn=xfmr-32_recurrence_num_layers=6_/version_0/checkpoints/epoch=30-fscore_val=0.93.ckpt\n",
      "/home/hugo/lab/instrument-recognition/test-tubes/transformer-search/seed=440_rnn=xfmr-32_recurrence_num_layers=6_/version_0\n",
      "/home/hugo/lab/instrument-recognition/test-tubes/transformer-search/seed=440_rnn=xfmr-32_recurrence_num_layers=6_/version_0/checkpoints/epoch=30-fscore_val=0.93.ckpt\n"
     ]
    },
    {
     "name": "stderr",
     "output_type": "stream",
     "text": [
      " 55%|█████▌    | 2888/5208 [00:00<00:00, 28874.04it/s]"
     ]
    },
    {
     "name": "stdout",
     "output_type": "stream",
     "text": [
      "loading metadata from /home/hugo/lab/instrument-recognition/data/mdb-solos-train-soundscapes/train...\n"
     ]
    },
    {
     "name": "stderr",
     "output_type": "stream",
     "text": [
      "100%|██████████| 5208/5208 [00:00<00:00, 28499.59it/s]\n",
      "  0%|          | 0/12236 [00:00<?, ?it/s]"
     ]
    },
    {
     "name": "stdout",
     "output_type": "stream",
     "text": [
      "found 5208 entries\n",
      "{'trumpet': 1965, 'clarinet': 1966, 'tenor saxophone': 1914, 'piano': 1941, 'violin': 1948, 'female singer': 2011, 'flute': 1932, 'distorted electric guitar': 1945}\n",
      "loading metadata from /home/hugo/lab/instrument-recognition/data/mdb-solos-train-soundscapes/test...\n"
     ]
    },
    {
     "name": "stderr",
     "output_type": "stream",
     "text": [
      "100%|██████████| 12236/12236 [00:00<00:00, 32718.84it/s]\n",
      "100%|██████████| 3494/3494 [00:00<00:00, 31355.09it/s]\n"
     ]
    },
    {
     "name": "stdout",
     "output_type": "stream",
     "text": [
      "found 12236 entries\n",
      "{'clarinet': 732, 'piano': 2609, 'violin': 2900, 'tenor saxophone': 325, 'flute': 3167, 'distorted electric guitar': 955, 'female singer': 1142, 'trumpet': 406}\n",
      "loading metadata from /home/hugo/lab/instrument-recognition/data/mdb-solos-train-soundscapes/validation...\n",
      "found 3494 entries\n",
      "{'clarinet': 328, 'piano': 1022, 'flute': 233, 'female singer': 284, 'tenor saxophone': 29, 'violin': 1031, 'distorted electric guitar': 495, 'trumpet': 72}\n",
      "train entries: 5208\n",
      "val entries: 3494\n"
     ]
    },
    {
     "name": "stderr",
     "output_type": "stream",
     "text": [
      "/home/hugo/lab/venv/lib/python3.8/site-packages/pytorch_lightning/utilities/distributed.py:45: UserWarning: Checkpoint directory /home/hugo/lab/instrument-recognition/test-tubes/transformer-search/seed=440_rnn=xfmr-32_recurrence_num_layers=6_/version_0/checkpoints exists and is not empty. With save_top_k=3, all files in this directory will be deleted when a checkpoint is saved!\n",
      "  warnings.warn(*args, **kwargs)\n",
      "GPU available: True, used: False\n",
      "TPU available: False, using: 0 TPU cores\n"
     ]
    },
    {
     "name": "stdout",
     "output_type": "stream",
     "text": [
      "found checkpoint: /home/hugo/lab/instrument-recognition/test-tubes/transformer-search/seed=440_rnn=xfmr-32_recurrence_num_layers=6_/version_0/checkpoints/epoch=30-fscore_val=0.93.ckpt\n"
     ]
    },
    {
     "data": {
      "application/vnd.jupyter.widget-view+json": {
       "model_id": "a68d31afccd248439c2543f26c0c550b",
       "version_major": 2,
       "version_minor": 0
      },
      "text/plain": [
       "HBox(children=(HTML(value='Testing'), FloatProgress(value=1.0, bar_style='info', layout=Layout(flex='2'), max=…"
      ]
     },
     "metadata": {},
     "output_type": "display_data"
    },
    {
     "name": "stdout",
     "output_type": "stream",
     "text": [
      "--------------------------------------------------------------------------------\n",
      "DATALOADER:0 TEST RESULTS\n",
      "{'ECE/test': 0.14796389767897472,\n",
      " 'accuracy/test': 0.8172605426610003,\n",
      " 'fscore/test': 0.8058708618352072,\n",
      " 'fscore_test': 0.8058708618352072,\n",
      " 'loss/test': tensor(1.1853),\n",
      " 'loss_test': tensor(1.1853),\n",
      " 'precision/test': 0.8451335420380749,\n",
      " 'recall/test': 0.8172605426610003}\n",
      "--------------------------------------------------------------------------------\n",
      "\n",
      "found checkpoint: /home/hugo/lab/instrument-recognition/test-tubes/transformer-search/seed=440_rnn=xfmr-64_recurrence_num_layers=1_/version_0/checkpoints/epoch=05-fscore_val=0.93.ckpt\n",
      "found checkpoint: /home/hugo/lab/instrument-recognition/test-tubes/transformer-search/seed=440_rnn=xfmr-64_recurrence_num_layers=1_/version_0/checkpoints/epoch=05-fscore_val=0.93.ckpt\n",
      "/home/hugo/lab/instrument-recognition/test-tubes/transformer-search/seed=440_rnn=xfmr-64_recurrence_num_layers=1_/version_0\n",
      "/home/hugo/lab/instrument-recognition/test-tubes/transformer-search/seed=440_rnn=xfmr-64_recurrence_num_layers=1_/version_0/checkpoints/epoch=05-fscore_val=0.93.ckpt\n"
     ]
    },
    {
     "name": "stderr",
     "output_type": "stream",
     "text": [
      " 53%|█████▎    | 2746/5208 [00:00<00:00, 27453.48it/s]"
     ]
    },
    {
     "name": "stdout",
     "output_type": "stream",
     "text": [
      "loading metadata from /home/hugo/lab/instrument-recognition/data/mdb-solos-train-soundscapes/train...\n"
     ]
    },
    {
     "name": "stderr",
     "output_type": "stream",
     "text": [
      "100%|██████████| 5208/5208 [00:00<00:00, 27470.32it/s]\n",
      "  0%|          | 0/12236 [00:00<?, ?it/s]"
     ]
    },
    {
     "name": "stdout",
     "output_type": "stream",
     "text": [
      "found 5208 entries\n",
      "{'trumpet': 1965, 'clarinet': 1966, 'tenor saxophone': 1914, 'piano': 1941, 'violin': 1948, 'female singer': 2011, 'flute': 1932, 'distorted electric guitar': 1945}\n",
      "loading metadata from /home/hugo/lab/instrument-recognition/data/mdb-solos-train-soundscapes/test...\n"
     ]
    },
    {
     "name": "stderr",
     "output_type": "stream",
     "text": [
      "100%|██████████| 12236/12236 [00:00<00:00, 32158.95it/s]\n",
      " 80%|████████  | 2810/3494 [00:00<00:00, 28093.26it/s]"
     ]
    },
    {
     "name": "stdout",
     "output_type": "stream",
     "text": [
      "found 12236 entries\n",
      "{'clarinet': 732, 'piano': 2609, 'violin': 2900, 'tenor saxophone': 325, 'flute': 3167, 'distorted electric guitar': 955, 'female singer': 1142, 'trumpet': 406}\n",
      "loading metadata from /home/hugo/lab/instrument-recognition/data/mdb-solos-train-soundscapes/validation...\n"
     ]
    },
    {
     "name": "stderr",
     "output_type": "stream",
     "text": [
      "100%|██████████| 3494/3494 [00:00<00:00, 26982.10it/s]\n",
      "/home/hugo/lab/venv/lib/python3.8/site-packages/pytorch_lightning/utilities/distributed.py:45: UserWarning: Checkpoint directory /home/hugo/lab/instrument-recognition/test-tubes/transformer-search/seed=440_rnn=xfmr-64_recurrence_num_layers=1_/version_0/checkpoints exists and is not empty. With save_top_k=3, all files in this directory will be deleted when a checkpoint is saved!\n",
      "  warnings.warn(*args, **kwargs)\n",
      "GPU available: True, used: False\n",
      "TPU available: False, using: 0 TPU cores\n"
     ]
    },
    {
     "name": "stdout",
     "output_type": "stream",
     "text": [
      "found 3494 entries\n",
      "{'clarinet': 328, 'piano': 1022, 'flute': 233, 'female singer': 284, 'tenor saxophone': 29, 'violin': 1031, 'distorted electric guitar': 495, 'trumpet': 72}\n",
      "train entries: 5208\n",
      "val entries: 3494\n",
      "found checkpoint: /home/hugo/lab/instrument-recognition/test-tubes/transformer-search/seed=440_rnn=xfmr-64_recurrence_num_layers=1_/version_0/checkpoints/epoch=05-fscore_val=0.93.ckpt\n"
     ]
    },
    {
     "data": {
      "application/vnd.jupyter.widget-view+json": {
       "model_id": "1e40617c3cd8450e86f938d931d0bbe6",
       "version_major": 2,
       "version_minor": 0
      },
      "text/plain": [
       "HBox(children=(HTML(value='Testing'), FloatProgress(value=1.0, bar_style='info', layout=Layout(flex='2'), max=…"
      ]
     },
     "metadata": {},
     "output_type": "display_data"
    },
    {
     "name": "stdout",
     "output_type": "stream",
     "text": [
      "--------------------------------------------------------------------------------\n",
      "DATALOADER:0 TEST RESULTS\n",
      "{'ECE/test': 0.12295332932259188,\n",
      " 'accuracy/test': 0.835267516617631,\n",
      " 'fscore/test': 0.8244144716581003,\n",
      " 'fscore_test': 0.8244144716581003,\n",
      " 'loss/test': tensor(1.0154),\n",
      " 'loss_test': tensor(1.0154),\n",
      " 'precision/test': 0.8603476583522331,\n",
      " 'recall/test': 0.835267516617631}\n",
      "--------------------------------------------------------------------------------\n",
      "\n",
      "found checkpoint: /home/hugo/lab/instrument-recognition/test-tubes/transformer-search/seed=440_rnn=xfmr-32_recurrence_num_layers=2_/version_0/checkpoints/epoch=04-fscore_val=0.93.ckpt\n",
      "found checkpoint: /home/hugo/lab/instrument-recognition/test-tubes/transformer-search/seed=440_rnn=xfmr-32_recurrence_num_layers=2_/version_0/checkpoints/epoch=04-fscore_val=0.93.ckpt\n",
      "/home/hugo/lab/instrument-recognition/test-tubes/transformer-search/seed=440_rnn=xfmr-32_recurrence_num_layers=2_/version_0\n",
      "/home/hugo/lab/instrument-recognition/test-tubes/transformer-search/seed=440_rnn=xfmr-32_recurrence_num_layers=2_/version_0/checkpoints/epoch=04-fscore_val=0.93.ckpt\n"
     ]
    },
    {
     "name": "stderr",
     "output_type": "stream",
     "text": [
      " 41%|████▏     | 2157/5208 [00:00<00:00, 21255.12it/s]"
     ]
    },
    {
     "name": "stdout",
     "output_type": "stream",
     "text": [
      "loading metadata from /home/hugo/lab/instrument-recognition/data/mdb-solos-train-soundscapes/train...\n"
     ]
    },
    {
     "name": "stderr",
     "output_type": "stream",
     "text": [
      "100%|██████████| 5208/5208 [00:00<00:00, 22109.87it/s]\n",
      "  0%|          | 0/12236 [00:00<?, ?it/s]"
     ]
    },
    {
     "name": "stdout",
     "output_type": "stream",
     "text": [
      "found 5208 entries\n",
      "{'trumpet': 1965, 'clarinet': 1966, 'tenor saxophone': 1914, 'piano': 1941, 'violin': 1948, 'female singer': 2011, 'flute': 1932, 'distorted electric guitar': 1945}\n",
      "loading metadata from /home/hugo/lab/instrument-recognition/data/mdb-solos-train-soundscapes/test...\n"
     ]
    },
    {
     "name": "stderr",
     "output_type": "stream",
     "text": [
      "100%|██████████| 12236/12236 [00:00<00:00, 27499.17it/s]\n",
      "100%|██████████| 3494/3494 [00:00<00:00, 25814.97it/s]\n"
     ]
    },
    {
     "name": "stdout",
     "output_type": "stream",
     "text": [
      "found 12236 entries\n",
      "{'clarinet': 732, 'piano': 2609, 'violin': 2900, 'tenor saxophone': 325, 'flute': 3167, 'distorted electric guitar': 955, 'female singer': 1142, 'trumpet': 406}\n",
      "loading metadata from /home/hugo/lab/instrument-recognition/data/mdb-solos-train-soundscapes/validation...\n",
      "found 3494 entries\n",
      "{'clarinet': 328, 'piano': 1022, 'flute': 233, 'female singer': 284, 'tenor saxophone': 29, 'violin': 1031, 'distorted electric guitar': 495, 'trumpet': 72}\n",
      "train entries: 5208\n",
      "val entries: 3494\n"
     ]
    },
    {
     "name": "stderr",
     "output_type": "stream",
     "text": [
      "/home/hugo/lab/venv/lib/python3.8/site-packages/pytorch_lightning/utilities/distributed.py:45: UserWarning: Checkpoint directory /home/hugo/lab/instrument-recognition/test-tubes/transformer-search/seed=440_rnn=xfmr-32_recurrence_num_layers=2_/version_0/checkpoints exists and is not empty. With save_top_k=3, all files in this directory will be deleted when a checkpoint is saved!\n",
      "  warnings.warn(*args, **kwargs)\n",
      "GPU available: True, used: False\n",
      "TPU available: False, using: 0 TPU cores\n"
     ]
    },
    {
     "name": "stdout",
     "output_type": "stream",
     "text": [
      "found checkpoint: /home/hugo/lab/instrument-recognition/test-tubes/transformer-search/seed=440_rnn=xfmr-32_recurrence_num_layers=2_/version_0/checkpoints/epoch=04-fscore_val=0.93.ckpt\n"
     ]
    },
    {
     "data": {
      "application/vnd.jupyter.widget-view+json": {
       "model_id": "b9f7789e80484861840774cb7e22217f",
       "version_major": 2,
       "version_minor": 0
      },
      "text/plain": [
       "HBox(children=(HTML(value='Testing'), FloatProgress(value=1.0, bar_style='info', layout=Layout(flex='2'), max=…"
      ]
     },
     "metadata": {},
     "output_type": "display_data"
    },
    {
     "name": "stdout",
     "output_type": "stream",
     "text": [
      "--------------------------------------------------------------------------------\n",
      "DATALOADER:0 TEST RESULTS\n",
      "{'ECE/test': 0.11401749787925439,\n",
      " 'accuracy/test': 0.8498419962950855,\n",
      " 'fscore/test': 0.8396053578283564,\n",
      " 'fscore_test': 0.8396053578283564,\n",
      " 'loss/test': tensor(0.9236),\n",
      " 'loss_test': tensor(0.9236),\n",
      " 'precision/test': 0.8638053579495668,\n",
      " 'recall/test': 0.8498419962950855}\n",
      "--------------------------------------------------------------------------------\n",
      "\n",
      "found checkpoint: /home/hugo/lab/instrument-recognition/test-tubes/transformer-search/seed=23_rnn=xfmr-1_recurrence_num_layers=6_/version_0/checkpoints/epoch=23-fscore_val=0.94.ckpt\n",
      "found checkpoint: /home/hugo/lab/instrument-recognition/test-tubes/transformer-search/seed=23_rnn=xfmr-1_recurrence_num_layers=6_/version_0/checkpoints/epoch=23-fscore_val=0.94.ckpt\n",
      "/home/hugo/lab/instrument-recognition/test-tubes/transformer-search/seed=23_rnn=xfmr-1_recurrence_num_layers=6_/version_0\n",
      "/home/hugo/lab/instrument-recognition/test-tubes/transformer-search/seed=23_rnn=xfmr-1_recurrence_num_layers=6_/version_0/checkpoints/epoch=23-fscore_val=0.94.ckpt\n"
     ]
    },
    {
     "name": "stderr",
     "output_type": "stream",
     "text": [
      " 44%|████▍     | 2286/5208 [00:00<00:00, 22855.50it/s]"
     ]
    },
    {
     "name": "stdout",
     "output_type": "stream",
     "text": [
      "loading metadata from /home/hugo/lab/instrument-recognition/data/mdb-solos-train-soundscapes/train...\n"
     ]
    },
    {
     "name": "stderr",
     "output_type": "stream",
     "text": [
      "100%|██████████| 5208/5208 [00:00<00:00, 21321.24it/s]\n",
      "  0%|          | 0/12236 [00:00<?, ?it/s]"
     ]
    },
    {
     "name": "stdout",
     "output_type": "stream",
     "text": [
      "found 5208 entries\n",
      "{'trumpet': 1965, 'clarinet': 1966, 'tenor saxophone': 1914, 'piano': 1941, 'violin': 1948, 'female singer': 2011, 'flute': 1932, 'distorted electric guitar': 1945}\n",
      "loading metadata from /home/hugo/lab/instrument-recognition/data/mdb-solos-train-soundscapes/test...\n"
     ]
    },
    {
     "name": "stderr",
     "output_type": "stream",
     "text": [
      "100%|██████████| 12236/12236 [00:00<00:00, 31149.65it/s]\n",
      "100%|██████████| 3494/3494 [00:00<00:00, 31163.20it/s]\n",
      "/home/hugo/lab/venv/lib/python3.8/site-packages/pytorch_lightning/utilities/distributed.py:45: UserWarning: Checkpoint directory /home/hugo/lab/instrument-recognition/test-tubes/transformer-search/seed=23_rnn=xfmr-1_recurrence_num_layers=6_/version_0/checkpoints exists and is not empty. With save_top_k=3, all files in this directory will be deleted when a checkpoint is saved!\n",
      "  warnings.warn(*args, **kwargs)\n",
      "GPU available: True, used: False\n",
      "TPU available: False, using: 0 TPU cores\n"
     ]
    },
    {
     "name": "stdout",
     "output_type": "stream",
     "text": [
      "found 12236 entries\n",
      "{'clarinet': 732, 'piano': 2609, 'violin': 2900, 'tenor saxophone': 325, 'flute': 3167, 'distorted electric guitar': 955, 'female singer': 1142, 'trumpet': 406}\n",
      "loading metadata from /home/hugo/lab/instrument-recognition/data/mdb-solos-train-soundscapes/validation...\n",
      "found 3494 entries\n",
      "{'clarinet': 328, 'piano': 1022, 'flute': 233, 'female singer': 284, 'tenor saxophone': 29, 'violin': 1031, 'distorted electric guitar': 495, 'trumpet': 72}\n",
      "train entries: 5208\n",
      "val entries: 3494\n",
      "found checkpoint: /home/hugo/lab/instrument-recognition/test-tubes/transformer-search/seed=23_rnn=xfmr-1_recurrence_num_layers=6_/version_0/checkpoints/epoch=23-fscore_val=0.94.ckpt\n"
     ]
    },
    {
     "data": {
      "application/vnd.jupyter.widget-view+json": {
       "model_id": "c5f5052d2f1742c494e8ce5e2926dfce",
       "version_major": 2,
       "version_minor": 0
      },
      "text/plain": [
       "HBox(children=(HTML(value='Testing'), FloatProgress(value=1.0, bar_style='info', layout=Layout(flex='2'), max=…"
      ]
     },
     "metadata": {},
     "output_type": "display_data"
    },
    {
     "name": "stdout",
     "output_type": "stream",
     "text": [
      "--------------------------------------------------------------------------------\n",
      "DATALOADER:0 TEST RESULTS\n",
      "{'ECE/test': 0.12490604818922714,\n",
      " 'accuracy/test': 0.853792088917947,\n",
      " 'fscore/test': 0.8451040484981185,\n",
      " 'fscore_test': 0.8451040484981185,\n",
      " 'loss/test': tensor(1.0649),\n",
      " 'loss_test': tensor(1.0649),\n",
      " 'precision/test': 0.8659006003278888,\n",
      " 'recall/test': 0.853792088917947}\n",
      "--------------------------------------------------------------------------------\n",
      "\n",
      "found checkpoint: /home/hugo/lab/instrument-recognition/test-tubes/transformer-search/seed=11_rnn=xfmr-4_recurrence_num_layers=6_/version_0/checkpoints/epoch=82-fscore_val=0.93.ckpt\n",
      "found checkpoint: /home/hugo/lab/instrument-recognition/test-tubes/transformer-search/seed=11_rnn=xfmr-4_recurrence_num_layers=6_/version_0/checkpoints/epoch=82-fscore_val=0.93.ckpt\n",
      "/home/hugo/lab/instrument-recognition/test-tubes/transformer-search/seed=11_rnn=xfmr-4_recurrence_num_layers=6_/version_0\n",
      "/home/hugo/lab/instrument-recognition/test-tubes/transformer-search/seed=11_rnn=xfmr-4_recurrence_num_layers=6_/version_0/checkpoints/epoch=82-fscore_val=0.93.ckpt\n"
     ]
    },
    {
     "name": "stderr",
     "output_type": "stream",
     "text": [
      " 51%|█████     | 2666/5208 [00:00<00:00, 26659.90it/s]"
     ]
    },
    {
     "name": "stdout",
     "output_type": "stream",
     "text": [
      "loading metadata from /home/hugo/lab/instrument-recognition/data/mdb-solos-train-soundscapes/train...\n"
     ]
    },
    {
     "name": "stderr",
     "output_type": "stream",
     "text": [
      "100%|██████████| 5208/5208 [00:00<00:00, 22769.66it/s]\n",
      "  0%|          | 0/12236 [00:00<?, ?it/s]"
     ]
    },
    {
     "name": "stdout",
     "output_type": "stream",
     "text": [
      "found 5208 entries\n",
      "{'trumpet': 1965, 'clarinet': 1966, 'tenor saxophone': 1914, 'piano': 1941, 'violin': 1948, 'female singer': 2011, 'flute': 1932, 'distorted electric guitar': 1945}\n",
      "loading metadata from /home/hugo/lab/instrument-recognition/data/mdb-solos-train-soundscapes/test...\n"
     ]
    },
    {
     "name": "stderr",
     "output_type": "stream",
     "text": [
      "100%|██████████| 12236/12236 [00:00<00:00, 24988.96it/s]\n",
      "100%|██████████| 3494/3494 [00:00<00:00, 32992.85it/s]\n",
      "/home/hugo/lab/venv/lib/python3.8/site-packages/pytorch_lightning/utilities/distributed.py:45: UserWarning: Checkpoint directory /home/hugo/lab/instrument-recognition/test-tubes/transformer-search/seed=11_rnn=xfmr-4_recurrence_num_layers=6_/version_0/checkpoints exists and is not empty. With save_top_k=3, all files in this directory will be deleted when a checkpoint is saved!\n",
      "  warnings.warn(*args, **kwargs)\n",
      "GPU available: True, used: False\n",
      "TPU available: False, using: 0 TPU cores\n"
     ]
    },
    {
     "name": "stdout",
     "output_type": "stream",
     "text": [
      "found 12236 entries\n",
      "{'clarinet': 732, 'piano': 2609, 'violin': 2900, 'tenor saxophone': 325, 'flute': 3167, 'distorted electric guitar': 955, 'female singer': 1142, 'trumpet': 406}\n",
      "loading metadata from /home/hugo/lab/instrument-recognition/data/mdb-solos-train-soundscapes/validation...\n",
      "found 3494 entries\n",
      "{'clarinet': 328, 'piano': 1022, 'flute': 233, 'female singer': 284, 'tenor saxophone': 29, 'violin': 1031, 'distorted electric guitar': 495, 'trumpet': 72}\n",
      "train entries: 5208\n",
      "val entries: 3494\n",
      "found checkpoint: /home/hugo/lab/instrument-recognition/test-tubes/transformer-search/seed=11_rnn=xfmr-4_recurrence_num_layers=6_/version_0/checkpoints/epoch=82-fscore_val=0.93.ckpt\n"
     ]
    },
    {
     "data": {
      "application/vnd.jupyter.widget-view+json": {
       "model_id": "deae8acd3226403e878e797a53dd588c",
       "version_major": 2,
       "version_minor": 0
      },
      "text/plain": [
       "HBox(children=(HTML(value='Testing'), FloatProgress(value=1.0, bar_style='info', layout=Layout(flex='2'), max=…"
      ]
     },
     "metadata": {},
     "output_type": "display_data"
    },
    {
     "name": "stdout",
     "output_type": "stream",
     "text": [
      "--------------------------------------------------------------------------------\n",
      "DATALOADER:0 TEST RESULTS\n",
      "{'ECE/test': 0.13815869182353122,\n",
      " 'accuracy/test': 0.8394900294213795,\n",
      " 'fscore/test': 0.8317510578315733,\n",
      " 'fscore_test': 0.8317510578315733,\n",
      " 'loss/test': tensor(1.1094),\n",
      " 'loss_test': tensor(1.1094),\n",
      " 'precision/test': 0.8635878765116634,\n",
      " 'recall/test': 0.8394900294213795}\n",
      "--------------------------------------------------------------------------------\n",
      "\n",
      "found checkpoint: /home/hugo/lab/instrument-recognition/test-tubes/transformer-search/seed=23_rnn=xfmr-64_recurrence_num_layers=6_/version_0/checkpoints/epoch=46-fscore_val=0.93.ckpt\n",
      "found checkpoint: /home/hugo/lab/instrument-recognition/test-tubes/transformer-search/seed=23_rnn=xfmr-64_recurrence_num_layers=6_/version_0/checkpoints/epoch=46-fscore_val=0.93.ckpt\n",
      "/home/hugo/lab/instrument-recognition/test-tubes/transformer-search/seed=23_rnn=xfmr-64_recurrence_num_layers=6_/version_0\n",
      "/home/hugo/lab/instrument-recognition/test-tubes/transformer-search/seed=23_rnn=xfmr-64_recurrence_num_layers=6_/version_0/checkpoints/epoch=46-fscore_val=0.93.ckpt\n"
     ]
    },
    {
     "name": "stderr",
     "output_type": "stream",
     "text": [
      " 46%|████▌     | 2376/5208 [00:00<00:00, 23758.61it/s]"
     ]
    },
    {
     "name": "stdout",
     "output_type": "stream",
     "text": [
      "loading metadata from /home/hugo/lab/instrument-recognition/data/mdb-solos-train-soundscapes/train...\n"
     ]
    },
    {
     "name": "stderr",
     "output_type": "stream",
     "text": [
      "100%|██████████| 5208/5208 [00:00<00:00, 21333.45it/s]\n",
      "  0%|          | 0/12236 [00:00<?, ?it/s]"
     ]
    },
    {
     "name": "stdout",
     "output_type": "stream",
     "text": [
      "found 5208 entries\n",
      "{'trumpet': 1965, 'clarinet': 1966, 'tenor saxophone': 1914, 'piano': 1941, 'violin': 1948, 'female singer': 2011, 'flute': 1932, 'distorted electric guitar': 1945}\n",
      "loading metadata from /home/hugo/lab/instrument-recognition/data/mdb-solos-train-soundscapes/test...\n"
     ]
    },
    {
     "name": "stderr",
     "output_type": "stream",
     "text": [
      "100%|██████████| 12236/12236 [00:00<00:00, 26145.13it/s]\n",
      "100%|██████████| 3494/3494 [00:00<00:00, 25218.02it/s]\n"
     ]
    },
    {
     "name": "stdout",
     "output_type": "stream",
     "text": [
      "found 12236 entries\n",
      "{'clarinet': 732, 'piano': 2609, 'violin': 2900, 'tenor saxophone': 325, 'flute': 3167, 'distorted electric guitar': 955, 'female singer': 1142, 'trumpet': 406}\n",
      "loading metadata from /home/hugo/lab/instrument-recognition/data/mdb-solos-train-soundscapes/validation...\n",
      "found 3494 entries\n",
      "{'clarinet': 328, 'piano': 1022, 'flute': 233, 'female singer': 284, 'tenor saxophone': 29, 'violin': 1031, 'distorted electric guitar': 495, 'trumpet': 72}\n",
      "train entries: 5208\n",
      "val entries: 3494\n"
     ]
    },
    {
     "name": "stderr",
     "output_type": "stream",
     "text": [
      "/home/hugo/lab/venv/lib/python3.8/site-packages/pytorch_lightning/utilities/distributed.py:45: UserWarning: Checkpoint directory /home/hugo/lab/instrument-recognition/test-tubes/transformer-search/seed=23_rnn=xfmr-64_recurrence_num_layers=6_/version_0/checkpoints exists and is not empty. With save_top_k=3, all files in this directory will be deleted when a checkpoint is saved!\n",
      "  warnings.warn(*args, **kwargs)\n",
      "GPU available: True, used: False\n",
      "TPU available: False, using: 0 TPU cores\n"
     ]
    },
    {
     "name": "stdout",
     "output_type": "stream",
     "text": [
      "found checkpoint: /home/hugo/lab/instrument-recognition/test-tubes/transformer-search/seed=23_rnn=xfmr-64_recurrence_num_layers=6_/version_0/checkpoints/epoch=46-fscore_val=0.93.ckpt\n"
     ]
    },
    {
     "data": {
      "application/vnd.jupyter.widget-view+json": {
       "model_id": "8fa11563969b40f49ef2ab171b0e078c",
       "version_major": 2,
       "version_minor": 0
      },
      "text/plain": [
       "HBox(children=(HTML(value='Testing'), FloatProgress(value=1.0, bar_style='info', layout=Layout(flex='2'), max=…"
      ]
     },
     "metadata": {},
     "output_type": "display_data"
    },
    {
     "name": "stdout",
     "output_type": "stream",
     "text": [
      "--------------------------------------------------------------------------------\n",
      "DATALOADER:0 TEST RESULTS\n",
      "{'ECE/test': 0.17294688176226092,\n",
      " 'accuracy/test': 0.794595183611202,\n",
      " 'fscore/test': 0.7768639184918408,\n",
      " 'fscore_test': 0.7768639184918408,\n",
      " 'loss/test': tensor(1.4179),\n",
      " 'loss_test': tensor(1.4179),\n",
      " 'precision/test': 0.8288468987284356,\n",
      " 'recall/test': 0.794595183611202}\n",
      "--------------------------------------------------------------------------------\n",
      "\n"
     ]
    }
   ],
   "source": [
    "gpuid = None\n",
    "random_seed = 420\n",
    "\n",
    "# run a test loop and collect results\n",
    "records = []\n",
    "for path in trial_paths:\n",
    "    try:\n",
    "        result, hparams = ir.train.test_model_from_checkpoint(path, gpuid=gpuid, random_seed=random_seed)\n",
    "        records.append(dict(path=path, hparams=hparams, result=result))\n",
    "    except AttributeError:\n",
    "        print(f'reading {path} failed')\n",
    "        records.append(None)"
   ]
  },
  {
   "cell_type": "code",
   "execution_count": 12,
   "metadata": {},
   "outputs": [],
   "source": [
    "from pathlib import Path\n",
    "\n",
    "records = [r for r in records if r is not None]\n",
    "\n",
    "for record in records:\n",
    "    for k in record:\n",
    "        if isinstance(record[k], Path):\n",
    "            record[k] = str(record[k])\n",
    "\n",
    "ir.utils.data.save_metadata_entry(records, str(test_output_dir / exp_name), 'json')"
   ]
  },
  {
   "cell_type": "code",
   "execution_count": 13,
   "metadata": {},
   "outputs": [],
   "source": []
  },
  {
   "cell_type": "code",
   "execution_count": 30,
   "metadata": {},
   "outputs": [],
   "source": [
    "expanded_records = []\n",
    "for record in records:\n",
    "    new_record = {}\n",
    "    for k, v in record.items():\n",
    "        if isinstance(v, dict):\n",
    "            new_record.update(v)\n",
    "        elif isinstance(v, list):\n",
    "            new_record.update(v[0])\n",
    "        else:\n",
    "            new_record[k] = v\n",
    "    \n",
    "    expanded_records.append(new_record)"
   ]
  },
  {
   "cell_type": "code",
   "execution_count": 31,
   "metadata": {},
   "outputs": [
    {
     "data": {
      "text/html": [
       "<div>\n",
       "<style scoped>\n",
       "    .dataframe tbody tr th:only-of-type {\n",
       "        vertical-align: middle;\n",
       "    }\n",
       "\n",
       "    .dataframe tbody tr th {\n",
       "        vertical-align: top;\n",
       "    }\n",
       "\n",
       "    .dataframe thead th {\n",
       "        text-align: right;\n",
       "    }\n",
       "</style>\n",
       "<table border=\"1\" class=\"dataframe\">\n",
       "  <thead>\n",
       "    <tr style=\"text-align: right;\">\n",
       "      <th></th>\n",
       "      <th>path</th>\n",
       "      <th>max_epochs</th>\n",
       "      <th>learning_rate</th>\n",
       "      <th>loss_fn</th>\n",
       "      <th>mixup</th>\n",
       "      <th>mixup_alpha</th>\n",
       "      <th>parent_name</th>\n",
       "      <th>name</th>\n",
       "      <th>version</th>\n",
       "      <th>gpuid</th>\n",
       "      <th>...</th>\n",
       "      <th>output_dim</th>\n",
       "      <th>log_dir</th>\n",
       "      <th>accuracy/test</th>\n",
       "      <th>precision/test</th>\n",
       "      <th>recall/test</th>\n",
       "      <th>fscore/test</th>\n",
       "      <th>fscore_test</th>\n",
       "      <th>ECE/test</th>\n",
       "      <th>loss/test</th>\n",
       "      <th>loss_test</th>\n",
       "    </tr>\n",
       "  </thead>\n",
       "  <tbody>\n",
       "    <tr>\n",
       "      <th>0</th>\n",
       "      <td>/home/hugo/lab/instrument-recognition/test-tub...</td>\n",
       "      <td>250</td>\n",
       "      <td>0.0003</td>\n",
       "      <td>wce</td>\n",
       "      <td>False</td>\n",
       "      <td>0.2</td>\n",
       "      <td>transformer-search-TEST</td>\n",
       "      <td>seed=12_rnn=xfmr-1_recurrence_num_layers=8_</td>\n",
       "      <td>0</td>\n",
       "      <td>0</td>\n",
       "      <td>...</td>\n",
       "      <td>8</td>\n",
       "      <td>/home/hugo/lab/instrument-recognition/test-tub...</td>\n",
       "      <td>0.830119</td>\n",
       "      <td>0.855127</td>\n",
       "      <td>0.830119</td>\n",
       "      <td>0.818904</td>\n",
       "      <td>0.818904</td>\n",
       "      <td>0.140730</td>\n",
       "      <td>1.031397</td>\n",
       "      <td>1.031397</td>\n",
       "    </tr>\n",
       "    <tr>\n",
       "      <th>1</th>\n",
       "      <td>/home/hugo/lab/instrument-recognition/test-tub...</td>\n",
       "      <td>250</td>\n",
       "      <td>0.0003</td>\n",
       "      <td>wce</td>\n",
       "      <td>False</td>\n",
       "      <td>0.2</td>\n",
       "      <td>transformer-search-TEST</td>\n",
       "      <td>seed=23_rnn=xfmr-8_recurrence_num_layers=2_</td>\n",
       "      <td>0</td>\n",
       "      <td>0</td>\n",
       "      <td>...</td>\n",
       "      <td>8</td>\n",
       "      <td>/home/hugo/lab/instrument-recognition/test-tub...</td>\n",
       "      <td>0.830391</td>\n",
       "      <td>0.855902</td>\n",
       "      <td>0.830391</td>\n",
       "      <td>0.817083</td>\n",
       "      <td>0.817083</td>\n",
       "      <td>0.144216</td>\n",
       "      <td>1.308301</td>\n",
       "      <td>1.308301</td>\n",
       "    </tr>\n",
       "    <tr>\n",
       "      <th>2</th>\n",
       "      <td>/home/hugo/lab/instrument-recognition/test-tub...</td>\n",
       "      <td>250</td>\n",
       "      <td>0.0003</td>\n",
       "      <td>wce</td>\n",
       "      <td>False</td>\n",
       "      <td>0.2</td>\n",
       "      <td>transformer-search-TEST</td>\n",
       "      <td>seed=12_rnn=xfmr-2_recurrence_num_layers=1_</td>\n",
       "      <td>0</td>\n",
       "      <td>0</td>\n",
       "      <td>...</td>\n",
       "      <td>8</td>\n",
       "      <td>/home/hugo/lab/instrument-recognition/test-tub...</td>\n",
       "      <td>0.849679</td>\n",
       "      <td>0.870363</td>\n",
       "      <td>0.849679</td>\n",
       "      <td>0.840067</td>\n",
       "      <td>0.840067</td>\n",
       "      <td>0.120612</td>\n",
       "      <td>1.063705</td>\n",
       "      <td>1.063705</td>\n",
       "    </tr>\n",
       "    <tr>\n",
       "      <th>3</th>\n",
       "      <td>/home/hugo/lab/instrument-recognition/test-tub...</td>\n",
       "      <td>250</td>\n",
       "      <td>0.0003</td>\n",
       "      <td>wce</td>\n",
       "      <td>False</td>\n",
       "      <td>0.2</td>\n",
       "      <td>transformer-search-TEST</td>\n",
       "      <td>seed=11_rnn=xfmr-2_recurrence_num_layers=2_</td>\n",
       "      <td>0</td>\n",
       "      <td>0</td>\n",
       "      <td>...</td>\n",
       "      <td>8</td>\n",
       "      <td>/home/hugo/lab/instrument-recognition/test-tub...</td>\n",
       "      <td>0.834450</td>\n",
       "      <td>0.853364</td>\n",
       "      <td>0.834450</td>\n",
       "      <td>0.822768</td>\n",
       "      <td>0.822768</td>\n",
       "      <td>0.135131</td>\n",
       "      <td>1.166047</td>\n",
       "      <td>1.166047</td>\n",
       "    </tr>\n",
       "    <tr>\n",
       "      <th>4</th>\n",
       "      <td>/home/hugo/lab/instrument-recognition/test-tub...</td>\n",
       "      <td>250</td>\n",
       "      <td>0.0003</td>\n",
       "      <td>wce</td>\n",
       "      <td>False</td>\n",
       "      <td>0.2</td>\n",
       "      <td>transformer-search-TEST</td>\n",
       "      <td>seed=12_rnn=xfmr-16_recurrence_num_layers=4_</td>\n",
       "      <td>0</td>\n",
       "      <td>0</td>\n",
       "      <td>...</td>\n",
       "      <td>8</td>\n",
       "      <td>/home/hugo/lab/instrument-recognition/test-tub...</td>\n",
       "      <td>0.852675</td>\n",
       "      <td>0.868388</td>\n",
       "      <td>0.852675</td>\n",
       "      <td>0.846169</td>\n",
       "      <td>0.846169</td>\n",
       "      <td>0.125003</td>\n",
       "      <td>1.160410</td>\n",
       "      <td>1.160410</td>\n",
       "    </tr>\n",
       "    <tr>\n",
       "      <th>...</th>\n",
       "      <td>...</td>\n",
       "      <td>...</td>\n",
       "      <td>...</td>\n",
       "      <td>...</td>\n",
       "      <td>...</td>\n",
       "      <td>...</td>\n",
       "      <td>...</td>\n",
       "      <td>...</td>\n",
       "      <td>...</td>\n",
       "      <td>...</td>\n",
       "      <td>...</td>\n",
       "      <td>...</td>\n",
       "      <td>...</td>\n",
       "      <td>...</td>\n",
       "      <td>...</td>\n",
       "      <td>...</td>\n",
       "      <td>...</td>\n",
       "      <td>...</td>\n",
       "      <td>...</td>\n",
       "      <td>...</td>\n",
       "      <td>...</td>\n",
       "    </tr>\n",
       "    <tr>\n",
       "      <th>170</th>\n",
       "      <td>/home/hugo/lab/instrument-recognition/test-tub...</td>\n",
       "      <td>250</td>\n",
       "      <td>0.0003</td>\n",
       "      <td>wce</td>\n",
       "      <td>False</td>\n",
       "      <td>0.2</td>\n",
       "      <td>transformer-search-TEST</td>\n",
       "      <td>seed=440_rnn=xfmr-64_recurrence_num_layers=1_</td>\n",
       "      <td>0</td>\n",
       "      <td>0</td>\n",
       "      <td>...</td>\n",
       "      <td>8</td>\n",
       "      <td>/home/hugo/lab/instrument-recognition/test-tub...</td>\n",
       "      <td>0.835268</td>\n",
       "      <td>0.860348</td>\n",
       "      <td>0.835268</td>\n",
       "      <td>0.824414</td>\n",
       "      <td>0.824414</td>\n",
       "      <td>0.122953</td>\n",
       "      <td>1.015385</td>\n",
       "      <td>1.015385</td>\n",
       "    </tr>\n",
       "    <tr>\n",
       "      <th>171</th>\n",
       "      <td>/home/hugo/lab/instrument-recognition/test-tub...</td>\n",
       "      <td>250</td>\n",
       "      <td>0.0003</td>\n",
       "      <td>wce</td>\n",
       "      <td>False</td>\n",
       "      <td>0.2</td>\n",
       "      <td>transformer-search-TEST</td>\n",
       "      <td>seed=440_rnn=xfmr-32_recurrence_num_layers=2_</td>\n",
       "      <td>0</td>\n",
       "      <td>0</td>\n",
       "      <td>...</td>\n",
       "      <td>8</td>\n",
       "      <td>/home/hugo/lab/instrument-recognition/test-tub...</td>\n",
       "      <td>0.849842</td>\n",
       "      <td>0.863805</td>\n",
       "      <td>0.849842</td>\n",
       "      <td>0.839605</td>\n",
       "      <td>0.839605</td>\n",
       "      <td>0.114017</td>\n",
       "      <td>0.923560</td>\n",
       "      <td>0.923560</td>\n",
       "    </tr>\n",
       "    <tr>\n",
       "      <th>172</th>\n",
       "      <td>/home/hugo/lab/instrument-recognition/test-tub...</td>\n",
       "      <td>250</td>\n",
       "      <td>0.0003</td>\n",
       "      <td>wce</td>\n",
       "      <td>False</td>\n",
       "      <td>0.2</td>\n",
       "      <td>transformer-search-TEST</td>\n",
       "      <td>seed=23_rnn=xfmr-1_recurrence_num_layers=6_</td>\n",
       "      <td>0</td>\n",
       "      <td>0</td>\n",
       "      <td>...</td>\n",
       "      <td>8</td>\n",
       "      <td>/home/hugo/lab/instrument-recognition/test-tub...</td>\n",
       "      <td>0.853792</td>\n",
       "      <td>0.865901</td>\n",
       "      <td>0.853792</td>\n",
       "      <td>0.845104</td>\n",
       "      <td>0.845104</td>\n",
       "      <td>0.124906</td>\n",
       "      <td>1.064910</td>\n",
       "      <td>1.064910</td>\n",
       "    </tr>\n",
       "    <tr>\n",
       "      <th>173</th>\n",
       "      <td>/home/hugo/lab/instrument-recognition/test-tub...</td>\n",
       "      <td>250</td>\n",
       "      <td>0.0003</td>\n",
       "      <td>wce</td>\n",
       "      <td>False</td>\n",
       "      <td>0.2</td>\n",
       "      <td>transformer-search-TEST</td>\n",
       "      <td>seed=11_rnn=xfmr-4_recurrence_num_layers=6_</td>\n",
       "      <td>0</td>\n",
       "      <td>0</td>\n",
       "      <td>...</td>\n",
       "      <td>8</td>\n",
       "      <td>/home/hugo/lab/instrument-recognition/test-tub...</td>\n",
       "      <td>0.839490</td>\n",
       "      <td>0.863588</td>\n",
       "      <td>0.839490</td>\n",
       "      <td>0.831751</td>\n",
       "      <td>0.831751</td>\n",
       "      <td>0.138159</td>\n",
       "      <td>1.109416</td>\n",
       "      <td>1.109416</td>\n",
       "    </tr>\n",
       "    <tr>\n",
       "      <th>174</th>\n",
       "      <td>/home/hugo/lab/instrument-recognition/test-tub...</td>\n",
       "      <td>250</td>\n",
       "      <td>0.0003</td>\n",
       "      <td>wce</td>\n",
       "      <td>False</td>\n",
       "      <td>0.2</td>\n",
       "      <td>transformer-search-TEST</td>\n",
       "      <td>seed=23_rnn=xfmr-64_recurrence_num_layers=6_</td>\n",
       "      <td>0</td>\n",
       "      <td>0</td>\n",
       "      <td>...</td>\n",
       "      <td>8</td>\n",
       "      <td>/home/hugo/lab/instrument-recognition/test-tub...</td>\n",
       "      <td>0.794595</td>\n",
       "      <td>0.828847</td>\n",
       "      <td>0.794595</td>\n",
       "      <td>0.776864</td>\n",
       "      <td>0.776864</td>\n",
       "      <td>0.172947</td>\n",
       "      <td>1.417921</td>\n",
       "      <td>1.417921</td>\n",
       "    </tr>\n",
       "  </tbody>\n",
       "</table>\n",
       "<p>175 rows × 32 columns</p>\n",
       "</div>"
      ],
      "text/plain": [
       "                                                  path  max_epochs  \\\n",
       "0    /home/hugo/lab/instrument-recognition/test-tub...         250   \n",
       "1    /home/hugo/lab/instrument-recognition/test-tub...         250   \n",
       "2    /home/hugo/lab/instrument-recognition/test-tub...         250   \n",
       "3    /home/hugo/lab/instrument-recognition/test-tub...         250   \n",
       "4    /home/hugo/lab/instrument-recognition/test-tub...         250   \n",
       "..                                                 ...         ...   \n",
       "170  /home/hugo/lab/instrument-recognition/test-tub...         250   \n",
       "171  /home/hugo/lab/instrument-recognition/test-tub...         250   \n",
       "172  /home/hugo/lab/instrument-recognition/test-tub...         250   \n",
       "173  /home/hugo/lab/instrument-recognition/test-tub...         250   \n",
       "174  /home/hugo/lab/instrument-recognition/test-tub...         250   \n",
       "\n",
       "     learning_rate loss_fn  mixup  mixup_alpha              parent_name  \\\n",
       "0           0.0003     wce  False          0.2  transformer-search-TEST   \n",
       "1           0.0003     wce  False          0.2  transformer-search-TEST   \n",
       "2           0.0003     wce  False          0.2  transformer-search-TEST   \n",
       "3           0.0003     wce  False          0.2  transformer-search-TEST   \n",
       "4           0.0003     wce  False          0.2  transformer-search-TEST   \n",
       "..             ...     ...    ...          ...                      ...   \n",
       "170         0.0003     wce  False          0.2  transformer-search-TEST   \n",
       "171         0.0003     wce  False          0.2  transformer-search-TEST   \n",
       "172         0.0003     wce  False          0.2  transformer-search-TEST   \n",
       "173         0.0003     wce  False          0.2  transformer-search-TEST   \n",
       "174         0.0003     wce  False          0.2  transformer-search-TEST   \n",
       "\n",
       "                                              name  version  gpuid  ...  \\\n",
       "0      seed=12_rnn=xfmr-1_recurrence_num_layers=8_        0      0  ...   \n",
       "1      seed=23_rnn=xfmr-8_recurrence_num_layers=2_        0      0  ...   \n",
       "2      seed=12_rnn=xfmr-2_recurrence_num_layers=1_        0      0  ...   \n",
       "3      seed=11_rnn=xfmr-2_recurrence_num_layers=2_        0      0  ...   \n",
       "4     seed=12_rnn=xfmr-16_recurrence_num_layers=4_        0      0  ...   \n",
       "..                                             ...      ...    ...  ...   \n",
       "170  seed=440_rnn=xfmr-64_recurrence_num_layers=1_        0      0  ...   \n",
       "171  seed=440_rnn=xfmr-32_recurrence_num_layers=2_        0      0  ...   \n",
       "172    seed=23_rnn=xfmr-1_recurrence_num_layers=6_        0      0  ...   \n",
       "173    seed=11_rnn=xfmr-4_recurrence_num_layers=6_        0      0  ...   \n",
       "174   seed=23_rnn=xfmr-64_recurrence_num_layers=6_        0      0  ...   \n",
       "\n",
       "     output_dim                                            log_dir  \\\n",
       "0             8  /home/hugo/lab/instrument-recognition/test-tub...   \n",
       "1             8  /home/hugo/lab/instrument-recognition/test-tub...   \n",
       "2             8  /home/hugo/lab/instrument-recognition/test-tub...   \n",
       "3             8  /home/hugo/lab/instrument-recognition/test-tub...   \n",
       "4             8  /home/hugo/lab/instrument-recognition/test-tub...   \n",
       "..          ...                                                ...   \n",
       "170           8  /home/hugo/lab/instrument-recognition/test-tub...   \n",
       "171           8  /home/hugo/lab/instrument-recognition/test-tub...   \n",
       "172           8  /home/hugo/lab/instrument-recognition/test-tub...   \n",
       "173           8  /home/hugo/lab/instrument-recognition/test-tub...   \n",
       "174           8  /home/hugo/lab/instrument-recognition/test-tub...   \n",
       "\n",
       "    accuracy/test  precision/test  recall/test  fscore/test fscore_test  \\\n",
       "0        0.830119        0.855127     0.830119     0.818904    0.818904   \n",
       "1        0.830391        0.855902     0.830391     0.817083    0.817083   \n",
       "2        0.849679        0.870363     0.849679     0.840067    0.840067   \n",
       "3        0.834450        0.853364     0.834450     0.822768    0.822768   \n",
       "4        0.852675        0.868388     0.852675     0.846169    0.846169   \n",
       "..            ...             ...          ...          ...         ...   \n",
       "170      0.835268        0.860348     0.835268     0.824414    0.824414   \n",
       "171      0.849842        0.863805     0.849842     0.839605    0.839605   \n",
       "172      0.853792        0.865901     0.853792     0.845104    0.845104   \n",
       "173      0.839490        0.863588     0.839490     0.831751    0.831751   \n",
       "174      0.794595        0.828847     0.794595     0.776864    0.776864   \n",
       "\n",
       "     ECE/test loss/test  loss_test  \n",
       "0    0.140730  1.031397   1.031397  \n",
       "1    0.144216  1.308301   1.308301  \n",
       "2    0.120612  1.063705   1.063705  \n",
       "3    0.135131  1.166047   1.166047  \n",
       "4    0.125003  1.160410   1.160410  \n",
       "..        ...       ...        ...  \n",
       "170  0.122953  1.015385   1.015385  \n",
       "171  0.114017  0.923560   0.923560  \n",
       "172  0.124906  1.064910   1.064910  \n",
       "173  0.138159  1.109416   1.109416  \n",
       "174  0.172947  1.417921   1.417921  \n",
       "\n",
       "[175 rows x 32 columns]"
      ]
     },
     "execution_count": 31,
     "metadata": {},
     "output_type": "execute_result"
    }
   ],
   "source": [
    "import pandas as pd\n",
    "df = pd.DataFrame(expanded_records)\n",
    "df"
   ]
  },
  {
   "cell_type": "code",
   "execution_count": 42,
   "metadata": {},
   "outputs": [],
   "source": [
    "from plotly.subplots import make_subplots\n",
    "import plotly.graph_objects as go\n",
    "import plotly.express as px\n",
    "\n",
    "metric =  'accuracy/test'\n",
    "variable = 'recurrence_num_layers'\n",
    "static_variable = 'recurrence_type'\n",
    "all_possible_values = sorted(list(df[static_variable].unique()))\n",
    "\n",
    "# fig = make_subplots(rows=1, cols=len(all_possible_values))\n",
    "\n",
    "# for idx, value in enumerate(all_possible_values):\n",
    "#     subdf = df[df[static_variable] == value]\n",
    "    \n",
    "#     fig.add_trace(\n",
    "#         go.Scatter(x=subdf[variable], y=subdf[metric], name=value), \n",
    "#         row=1, col=idx+1\n",
    "#     )\n",
    "\n",
    "fig = px.box(df, x=variable, y=metric, color=static_variable)\n",
    "    \n",
    "fig.write_html(str(test_output_dir / f'{metric}-STATIC-{static_variable}-VARIABLE-{variable}.html'.replace('/', '_')))"
   ]
  },
  {
   "cell_type": "code",
   "execution_count": null,
   "metadata": {},
   "outputs": [],
   "source": []
  }
 ],
 "metadata": {
  "kernelspec": {
   "display_name": "Python 3",
   "language": "python",
   "name": "python3"
  },
  "language_info": {
   "codemirror_mode": {
    "name": "ipython",
    "version": 3
   },
   "file_extension": ".py",
   "mimetype": "text/x-python",
   "name": "python",
   "nbconvert_exporter": "python",
   "pygments_lexer": "ipython3",
   "version": "3.8.7"
  }
 },
 "nbformat": 4,
 "nbformat_minor": 4
}
