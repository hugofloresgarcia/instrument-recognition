{
 "cells": [
  {
   "cell_type": "code",
   "execution_count": 3,
   "metadata": {},
   "outputs": [
    {
     "name": "stderr",
     "output_type": "stream",
     "text": [
      " 58%|█████▊    | 3392/5843 [00:00<00:00, 33915.50it/s]"
     ]
    },
    {
     "name": "stdout",
     "output_type": "stream",
     "text": [
      "loading metadata from /home/hugo/lab/instrument-recognition/data/mdb-solos/train...\n"
     ]
    },
    {
     "name": "stderr",
     "output_type": "stream",
     "text": [
      "100%|██████████| 5843/5843 [00:00<00:00, 32125.20it/s]\n",
      "  0%|          | 0/12236 [00:00<?, ?it/s]"
     ]
    },
    {
     "name": "stdout",
     "output_type": "stream",
     "text": [
      "found 5843 entries\n",
      "{'piano': 2402, 'violin': 2041, 'clarinet': 251, 'flute': 155, 'tenor saxophone': 123, 'distorted electric guitar': 404, 'trumpet': 149, 'female singer': 318}\n",
      "loading metadata from /home/hugo/lab/instrument-recognition/data/mdb-solos/test...\n"
     ]
    },
    {
     "name": "stderr",
     "output_type": "stream",
     "text": [
      "100%|██████████| 12236/12236 [00:00<00:00, 18073.43it/s]\n",
      "100%|██████████| 3494/3494 [00:00<00:00, 30749.68it/s]\n"
     ]
    },
    {
     "name": "stdout",
     "output_type": "stream",
     "text": [
      "found 12236 entries\n",
      "{'clarinet': 732, 'piano': 2609, 'violin': 2900, 'tenor saxophone': 325, 'flute': 3167, 'distorted electric guitar': 955, 'female singer': 1142, 'trumpet': 406}\n",
      "loading metadata from /home/hugo/lab/instrument-recognition/data/mdb-solos/validation...\n",
      "found 3494 entries\n",
      "{'clarinet': 328, 'piano': 1022, 'flute': 233, 'female singer': 284, 'tenor saxophone': 29, 'violin': 1031, 'distorted electric guitar': 495, 'trumpet': 72}\n",
      "train entries: 5843\n",
      "val entries: 3494\n"
     ]
    }
   ],
   "source": [
    "import instrument_recognition as ir\n",
    "\n",
    "dm = ir.datasets.DataModule('mdb-solos', use_augmented=False)\n",
    "dm.setup()"
   ]
  },
  {
   "cell_type": "code",
   "execution_count": 26,
   "metadata": {},
   "outputs": [
    {
     "data": {
      "image/png": "[encoded data removed]",
      "text/plain": [
       "<Figure size 432x288 with 1 Axes>"
      ]
     },
     "metadata": {
      "needs_background": "light"
     },
     "output_type": "display_data"
    }
   ],
   "source": [
    "import seaborn as sns\n",
    "import pandas as pd\n",
    "import matplotlib.pyplot as plt\n",
    "\n",
    "records = []\n",
    "for partition, dataset in (('train', dm.train_data), \n",
    "                      ('validation', dm.val_data),\n",
    "                      ('test', dm.test_data)):\n",
    "    \n",
    "    for instrument, freq in dataset.get_class_frequencies().items():\n",
    "        records.append({\n",
    "            'instrument': instrument, \n",
    "            'count': freq, \n",
    "            'partition': partition})\n",
    "        \n",
    "df = pd.DataFrame(records)\n",
    "\n",
    "partition = 'test'\n",
    "\n",
    "sns.barplot(data=df, x='instrument', y='count', hue='partition')\n",
    "plt.xticks(\n",
    "    rotation=45, \n",
    "    horizontalalignment='right',\n",
    "    fontweight='regular',\n",
    "    fontsize='small'  \n",
    ")\n",
    "plt.savefig(f'{partition}.jpg', dpi=100, bbox_inches='tight')"
   ]
  },
  {
   "cell_type": "code",
   "execution_count": null,
   "metadata": {},
   "outputs": [],
   "source": []
  }
 ],
 "metadata": {
  "kernelspec": {
   "display_name": "Python 3",
   "language": "python",
   "name": "python3"
  },
  "language_info": {
   "codemirror_mode": {
    "name": "ipython",
    "version": 3
   },
   "file_extension": ".py",
   "mimetype": "text/x-python",
   "name": "python",
   "nbconvert_exporter": "python",
   "pygments_lexer": "ipython3",
   "version": "3.8.7"
  }
 },
 "nbformat": 4,
 "nbformat_minor": 4
}
