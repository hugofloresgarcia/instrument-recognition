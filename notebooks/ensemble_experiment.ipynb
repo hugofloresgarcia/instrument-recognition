{
 "cells": [
  {
   "cell_type": "code",
   "execution_count": 11,
   "metadata": {},
   "outputs": [],
   "source": [
    "import os\n",
    "import shutil\n",
    "from instrument_recognition.trials import ensemble_trials\n",
    "\n",
    "# NOTE: the following code is here\n",
    "# because of a bug. train_instrument_detection_task\n",
    "# was not saving the exp_dict.yaml file that it was supposed \n",
    "# to, meaning that I had to reconstruct the exp dicts from \n",
    "# the trials in trials.py\n",
    "# ideally, the bug should be fixed and this code should\n",
    "# instead load the trial dict from the exp_dict.yaml\n",
    "# (which should be less hacky)\n",
    "\n",
    "# define experiment path and copy to a new dir\n",
    "base_path = '/home/hugo/lab/mono_music_sed/instrument_recognition/logs/experiment-ENSEMBLES-08.12.2020'\n",
    "new_base_path = base_path+'-EVAL'\n",
    "if not os.path.exists(new_base_path):\n",
    "    shutil.copytree(base_path, new_base_path)\n",
    "base_path = new_base_path\n",
    "\n",
    "# get the paths and names to each trial\n",
    "trial_names = os.listdir(base_path)\n",
    "trial_paths = [os.path.join(base_path, subdir) for subdir in os.listdir(base_path)]\n",
    "\n",
    "# get the trial dicts\n",
    "trial_dicts = [ensemble_trials[name] for name in trial_names]\n",
    "\n",
    "# change the logdir to the trial path\n",
    "for trial_path, trial_dict in zip(trial_paths, trial_dicts):\n",
    "    trial_dict['log_dir'] = base_path\n",
    "\n",
    "metrics_paths = [os.path.join(d, 'version_0', 'metrics.csv') for d in trial_paths]"
   ]
  },
  {
   "cell_type": "code",
   "execution_count": 17,
   "metadata": {},
   "outputs": [
    {
     "name": "stdout",
     "output_type": "stream",
     "text": [
      "loading datamodule...\n"
     ]
    },
    {
     "name": "stderr",
     "output_type": "stream",
     "text": [
      "GPU available: True, used: True\n",
      "INFO:lightning:GPU available: True, used: True\n",
      "TPU available: False, using: 0 TPU cores\n",
      "INFO:lightning:TPU available: False, using: 0 TPU cores\n",
      "LOCAL_RANK: 0 - CUDA_VISIBLE_DEVICES: [0,1,2]\n",
      "INFO:lightning:LOCAL_RANK: 0 - CUDA_VISIBLE_DEVICES: [0,1,2]\n"
     ]
    },
    {
     "name": "stdout",
     "output_type": "stream",
     "text": [
      "train entries: 288692\n",
      "val entries: 56019\n",
      "classlist is: ['acoustic guitar', 'auxiliary percussion', 'brass section', 'cello', 'clean electric guitar', 'distorted electric guitar', 'double bass', 'drum set', 'electric bass', 'female singer', 'male singer', 'oboe', 'piano', 'synthesizer', 'tack piano', 'trumpet', 'vibraphone', 'viola', 'violin', 'vocalists']\n",
      "loading model...\n",
      "building task...\n",
      "running task\n",
      "found checkpoint: /home/hugo/lab/mono_music_sed/instrument_recognition/logs/experiment-ENSEMBLES-08.12.2020-EVAL/openl3-mlp-ensemble-5/version_0/checkpoints/epoch=47-fscore_val=0.70.ckpt\n",
      "Test tube created git tag: tt_openl3-mlp-ensemble-5_v0\n"
     ]
    },
    {
     "data": {
      "application/vnd.jupyter.widget-view+json": {
       "model_id": "ce27aff300064c3b9e2bcf691bb50c4c",
       "version_major": 2,
       "version_minor": 0
      },
      "text/plain": [
       "HBox(children=(HTML(value='Testing'), FloatProgress(value=1.0, bar_style='info', layout=Layout(flex='2'), max=…"
      ]
     },
     "metadata": {},
     "output_type": "display_data"
    },
    {
     "name": "stdout",
     "output_type": "stream",
     "text": [
      "--------------------------------------------------------------------------------\n",
      "DATALOADER:0 TEST RESULTS\n",
      "{'ECE/test': 0.2121113933046012,\n",
      " 'accuracy/test': 0.7032792445420304,\n",
      " 'fscore/test': 0.7032792445420304,\n",
      " 'fscore_test': 0.7032792445420304,\n",
      " 'loss/test': tensor(1.7971),\n",
      " 'precision/test': 0.7032792445420304,\n",
      " 'recall/test': 0.7032792445420304}\n",
      "--------------------------------------------------------------------------------\n",
      "\n",
      "loading datamodule...\n"
     ]
    },
    {
     "name": "stderr",
     "output_type": "stream",
     "text": [
      "GPU available: True, used: True\n",
      "INFO:lightning:GPU available: True, used: True\n",
      "TPU available: False, using: 0 TPU cores\n",
      "INFO:lightning:TPU available: False, using: 0 TPU cores\n",
      "LOCAL_RANK: 0 - CUDA_VISIBLE_DEVICES: [0,1,2]\n",
      "INFO:lightning:LOCAL_RANK: 0 - CUDA_VISIBLE_DEVICES: [0,1,2]\n"
     ]
    },
    {
     "name": "stdout",
     "output_type": "stream",
     "text": [
      "train entries: 288692\n",
      "val entries: 56019\n",
      "classlist is: ['acoustic guitar', 'auxiliary percussion', 'brass section', 'cello', 'clean electric guitar', 'distorted electric guitar', 'double bass', 'drum set', 'electric bass', 'female singer', 'male singer', 'oboe', 'piano', 'synthesizer', 'tack piano', 'trumpet', 'vibraphone', 'viola', 'violin', 'vocalists']\n",
      "loading model...\n",
      "building task...\n",
      "running task\n",
      "found checkpoint: /home/hugo/lab/mono_music_sed/instrument_recognition/logs/experiment-ENSEMBLES-08.12.2020-EVAL/openl3-mlp-ensemble-4/version_0/checkpoints/epoch=39-fscore_val=0.70.ckpt\n",
      "Test tube created git tag: tt_openl3-mlp-ensemble-4_v0\n"
     ]
    },
    {
     "data": {
      "application/vnd.jupyter.widget-view+json": {
       "model_id": "924b08e946b84428918ef1b2331a7ba7",
       "version_major": 2,
       "version_minor": 0
      },
      "text/plain": [
       "HBox(children=(HTML(value='Testing'), FloatProgress(value=1.0, bar_style='info', layout=Layout(flex='2'), max=…"
      ]
     },
     "metadata": {},
     "output_type": "display_data"
    },
    {
     "name": "stdout",
     "output_type": "stream",
     "text": [
      "--------------------------------------------------------------------------------\n",
      "DATALOADER:0 TEST RESULTS\n",
      "{'ECE/test': 0.21225824210339314,\n",
      " 'accuracy/test': 0.7002267087952302,\n",
      " 'fscore/test': 0.7002267087952302,\n",
      " 'fscore_test': 0.7002267087952302,\n",
      " 'loss/test': tensor(1.9227),\n",
      " 'precision/test': 0.7002267087952302,\n",
      " 'recall/test': 0.7002267087952302}\n",
      "--------------------------------------------------------------------------------\n",
      "\n",
      "loading datamodule...\n"
     ]
    },
    {
     "name": "stderr",
     "output_type": "stream",
     "text": [
      "GPU available: True, used: True\n",
      "INFO:lightning:GPU available: True, used: True\n",
      "TPU available: False, using: 0 TPU cores\n",
      "INFO:lightning:TPU available: False, using: 0 TPU cores\n",
      "LOCAL_RANK: 0 - CUDA_VISIBLE_DEVICES: [0,1,2]\n",
      "INFO:lightning:LOCAL_RANK: 0 - CUDA_VISIBLE_DEVICES: [0,1,2]\n"
     ]
    },
    {
     "name": "stdout",
     "output_type": "stream",
     "text": [
      "train entries: 288692\n",
      "val entries: 56019\n",
      "classlist is: ['acoustic guitar', 'auxiliary percussion', 'brass section', 'cello', 'clean electric guitar', 'distorted electric guitar', 'double bass', 'drum set', 'electric bass', 'female singer', 'male singer', 'oboe', 'piano', 'synthesizer', 'tack piano', 'trumpet', 'vibraphone', 'viola', 'violin', 'vocalists']\n",
      "loading model...\n",
      "building task...\n",
      "running task\n",
      "found checkpoint: /home/hugo/lab/mono_music_sed/instrument_recognition/logs/experiment-ENSEMBLES-08.12.2020-EVAL/openl3-mlp-ensemble-7/version_0/checkpoints/epoch=17-fscore_val=0.70.ckpt\n",
      "Test tube created git tag: tt_openl3-mlp-ensemble-7_v0\n"
     ]
    },
    {
     "data": {
      "application/vnd.jupyter.widget-view+json": {
       "model_id": "f3565c7242ea4200850e517c88c3d674",
       "version_major": 2,
       "version_minor": 0
      },
      "text/plain": [
       "HBox(children=(HTML(value='Testing'), FloatProgress(value=1.0, bar_style='info', layout=Layout(flex='2'), max=…"
      ]
     },
     "metadata": {},
     "output_type": "display_data"
    },
    {
     "name": "stdout",
     "output_type": "stream",
     "text": [
      "--------------------------------------------------------------------------------\n",
      "DATALOADER:0 TEST RESULTS\n",
      "{'ECE/test': 0.19016159256970194,\n",
      " 'accuracy/test': 0.6999410914154126,\n",
      " 'fscore/test': 0.6999410914154126,\n",
      " 'fscore_test': 0.6999410914154126,\n",
      " 'loss/test': tensor(1.5434),\n",
      " 'precision/test': 0.6999410914154126,\n",
      " 'recall/test': 0.6999410914154126}\n",
      "--------------------------------------------------------------------------------\n",
      "\n",
      "loading datamodule...\n"
     ]
    },
    {
     "name": "stderr",
     "output_type": "stream",
     "text": [
      "GPU available: True, used: True\n",
      "INFO:lightning:GPU available: True, used: True\n",
      "TPU available: False, using: 0 TPU cores\n",
      "INFO:lightning:TPU available: False, using: 0 TPU cores\n",
      "LOCAL_RANK: 0 - CUDA_VISIBLE_DEVICES: [0,1,2]\n",
      "INFO:lightning:LOCAL_RANK: 0 - CUDA_VISIBLE_DEVICES: [0,1,2]\n"
     ]
    },
    {
     "name": "stdout",
     "output_type": "stream",
     "text": [
      "train entries: 288692\n",
      "val entries: 56019\n",
      "classlist is: ['acoustic guitar', 'auxiliary percussion', 'brass section', 'cello', 'clean electric guitar', 'distorted electric guitar', 'double bass', 'drum set', 'electric bass', 'female singer', 'male singer', 'oboe', 'piano', 'synthesizer', 'tack piano', 'trumpet', 'vibraphone', 'viola', 'violin', 'vocalists']\n",
      "loading model...\n",
      "building task...\n",
      "running task\n",
      "found checkpoint: /home/hugo/lab/mono_music_sed/instrument_recognition/logs/experiment-ENSEMBLES-08.12.2020-EVAL/openl3-mlp-ensemble-2/version_0/checkpoints/epoch=47-fscore_val=0.70.ckpt\n",
      "Test tube created git tag: tt_openl3-mlp-ensemble-2_v0\n"
     ]
    },
    {
     "data": {
      "application/vnd.jupyter.widget-view+json": {
       "model_id": "6c128c7aac7942ec8e6feeceb66808c8",
       "version_major": 2,
       "version_minor": 0
      },
      "text/plain": [
       "HBox(children=(HTML(value='Testing'), FloatProgress(value=1.0, bar_style='info', layout=Layout(flex='2'), max=…"
      ]
     },
     "metadata": {},
     "output_type": "display_data"
    },
    {
     "name": "stdout",
     "output_type": "stream",
     "text": [
      "--------------------------------------------------------------------------------\n",
      "DATALOADER:0 TEST RESULTS\n",
      "{'ECE/test': 0.21254399496104437,\n",
      " 'accuracy/test': 0.7005837305200021,\n",
      " 'fscore/test': 0.7005837305200021,\n",
      " 'fscore_test': 0.7005837305200021,\n",
      " 'loss/test': tensor(1.9279),\n",
      " 'precision/test': 0.7005837305200021,\n",
      " 'recall/test': 0.7005837305200021}\n",
      "--------------------------------------------------------------------------------\n",
      "\n",
      "loading datamodule...\n"
     ]
    },
    {
     "name": "stderr",
     "output_type": "stream",
     "text": [
      "GPU available: True, used: True\n",
      "INFO:lightning:GPU available: True, used: True\n",
      "TPU available: False, using: 0 TPU cores\n",
      "INFO:lightning:TPU available: False, using: 0 TPU cores\n",
      "LOCAL_RANK: 0 - CUDA_VISIBLE_DEVICES: [0,1,2]\n",
      "INFO:lightning:LOCAL_RANK: 0 - CUDA_VISIBLE_DEVICES: [0,1,2]\n"
     ]
    },
    {
     "name": "stdout",
     "output_type": "stream",
     "text": [
      "train entries: 288692\n",
      "val entries: 56019\n",
      "classlist is: ['acoustic guitar', 'auxiliary percussion', 'brass section', 'cello', 'clean electric guitar', 'distorted electric guitar', 'double bass', 'drum set', 'electric bass', 'female singer', 'male singer', 'oboe', 'piano', 'synthesizer', 'tack piano', 'trumpet', 'vibraphone', 'viola', 'violin', 'vocalists']\n",
      "loading model...\n",
      "building task...\n",
      "running task\n",
      "found checkpoint: /home/hugo/lab/mono_music_sed/instrument_recognition/logs/experiment-ENSEMBLES-08.12.2020-EVAL/openl3-mlp-ensemble-1/version_0/checkpoints/epoch=33-fscore_val=0.70.ckpt\n",
      "Test tube created git tag: tt_openl3-mlp-ensemble-1_v0\n"
     ]
    },
    {
     "data": {
      "application/vnd.jupyter.widget-view+json": {
       "model_id": "e06c311cff534102b0a944abcb97f03b",
       "version_major": 2,
       "version_minor": 0
      },
      "text/plain": [
       "HBox(children=(HTML(value='Testing'), FloatProgress(value=1.0, bar_style='info', layout=Layout(flex='2'), max=…"
      ]
     },
     "metadata": {},
     "output_type": "display_data"
    },
    {
     "name": "stdout",
     "output_type": "stream",
     "text": [
      "--------------------------------------------------------------------------------\n",
      "DATALOADER:0 TEST RESULTS\n",
      "{'ECE/test': 0.2043323032077166,\n",
      " 'accuracy/test': 0.6964065763401703,\n",
      " 'fscore/test': 0.6964065763401703,\n",
      " 'fscore_test': 0.6964065763401703,\n",
      " 'loss/test': tensor(1.7787),\n",
      " 'precision/test': 0.6964065763401703,\n",
      " 'recall/test': 0.6964065763401703}\n",
      "--------------------------------------------------------------------------------\n",
      "\n",
      "loading datamodule...\n"
     ]
    },
    {
     "name": "stderr",
     "output_type": "stream",
     "text": [
      "GPU available: True, used: True\n",
      "INFO:lightning:GPU available: True, used: True\n",
      "TPU available: False, using: 0 TPU cores\n",
      "INFO:lightning:TPU available: False, using: 0 TPU cores\n",
      "LOCAL_RANK: 0 - CUDA_VISIBLE_DEVICES: [0,1,2]\n",
      "INFO:lightning:LOCAL_RANK: 0 - CUDA_VISIBLE_DEVICES: [0,1,2]\n"
     ]
    },
    {
     "name": "stdout",
     "output_type": "stream",
     "text": [
      "train entries: 288692\n",
      "val entries: 56019\n",
      "classlist is: ['acoustic guitar', 'auxiliary percussion', 'brass section', 'cello', 'clean electric guitar', 'distorted electric guitar', 'double bass', 'drum set', 'electric bass', 'female singer', 'male singer', 'oboe', 'piano', 'synthesizer', 'tack piano', 'trumpet', 'vibraphone', 'viola', 'violin', 'vocalists']\n",
      "loading model...\n",
      "building task...\n",
      "running task\n",
      "found checkpoint: /home/hugo/lab/mono_music_sed/instrument_recognition/logs/experiment-ENSEMBLES-08.12.2020-EVAL/openl3-mlp-ensemble-3/version_0/checkpoints/epoch=49-fscore_val=0.69.ckpt\n",
      "Test tube created git tag: tt_openl3-mlp-ensemble-3_v0\n"
     ]
    },
    {
     "data": {
      "application/vnd.jupyter.widget-view+json": {
       "model_id": "edf0707167b9443c8bc8edad3e94af37",
       "version_major": 2,
       "version_minor": 0
      },
      "text/plain": [
       "HBox(children=(HTML(value='Testing'), FloatProgress(value=1.0, bar_style='info', layout=Layout(flex='2'), max=…"
      ]
     },
     "metadata": {},
     "output_type": "display_data"
    },
    {
     "name": "stdout",
     "output_type": "stream",
     "text": [
      "--------------------------------------------------------------------------------\n",
      "DATALOADER:0 TEST RESULTS\n",
      "{'ECE/test': 0.21934795257690093,\n",
      " 'accuracy/test': 0.6915510808832718,\n",
      " 'fscore/test': 0.6915510808832718,\n",
      " 'fscore_test': 0.6915510808832718,\n",
      " 'loss/test': tensor(1.9937),\n",
      " 'precision/test': 0.6915510808832718,\n",
      " 'recall/test': 0.6915510808832718}\n",
      "--------------------------------------------------------------------------------\n",
      "\n",
      "loading datamodule...\n"
     ]
    },
    {
     "name": "stderr",
     "output_type": "stream",
     "text": [
      "GPU available: True, used: True\n",
      "INFO:lightning:GPU available: True, used: True\n",
      "TPU available: False, using: 0 TPU cores\n",
      "INFO:lightning:TPU available: False, using: 0 TPU cores\n",
      "LOCAL_RANK: 0 - CUDA_VISIBLE_DEVICES: [0,1,2]\n",
      "INFO:lightning:LOCAL_RANK: 0 - CUDA_VISIBLE_DEVICES: [0,1,2]\n"
     ]
    },
    {
     "name": "stdout",
     "output_type": "stream",
     "text": [
      "train entries: 288692\n",
      "val entries: 56019\n",
      "classlist is: ['acoustic guitar', 'auxiliary percussion', 'brass section', 'cello', 'clean electric guitar', 'distorted electric guitar', 'double bass', 'drum set', 'electric bass', 'female singer', 'male singer', 'oboe', 'piano', 'synthesizer', 'tack piano', 'trumpet', 'vibraphone', 'viola', 'violin', 'vocalists']\n",
      "loading model...\n",
      "building task...\n",
      "running task\n",
      "found checkpoint: /home/hugo/lab/mono_music_sed/instrument_recognition/logs/experiment-ENSEMBLES-08.12.2020-EVAL/openl3-mlp-ensemble-6/version_0/checkpoints/epoch=21-fscore_val=0.71.ckpt\n",
      "Test tube created git tag: tt_openl3-mlp-ensemble-6_v0\n"
     ]
    },
    {
     "data": {
      "application/vnd.jupyter.widget-view+json": {
       "model_id": "d60d4e55267e48f096333c448545a9e5",
       "version_major": 2,
       "version_minor": 0
      },
      "text/plain": [
       "HBox(children=(HTML(value='Testing'), FloatProgress(value=1.0, bar_style='info', layout=Layout(flex='2'), max=…"
      ]
     },
     "metadata": {},
     "output_type": "display_data"
    },
    {
     "name": "stdout",
     "output_type": "stream",
     "text": [
      "--------------------------------------------------------------------------------\n",
      "DATALOADER:0 TEST RESULTS\n",
      "{'ECE/test': 0.19414119258778084,\n",
      " 'accuracy/test': 0.7065816954961709,\n",
      " 'fscore/test': 0.7065816954961709,\n",
      " 'fscore_test': 0.7065816954961709,\n",
      " 'loss/test': tensor(1.6096),\n",
      " 'precision/test': 0.7065816954961709,\n",
      " 'recall/test': 0.7065816954961709}\n",
      "--------------------------------------------------------------------------------\n",
      "\n",
      "loading datamodule...\n"
     ]
    },
    {
     "name": "stderr",
     "output_type": "stream",
     "text": [
      "GPU available: True, used: True\n",
      "INFO:lightning:GPU available: True, used: True\n",
      "TPU available: False, using: 0 TPU cores\n",
      "INFO:lightning:TPU available: False, using: 0 TPU cores\n",
      "LOCAL_RANK: 0 - CUDA_VISIBLE_DEVICES: [0,1,2]\n",
      "INFO:lightning:LOCAL_RANK: 0 - CUDA_VISIBLE_DEVICES: [0,1,2]\n"
     ]
    },
    {
     "name": "stdout",
     "output_type": "stream",
     "text": [
      "train entries: 288692\n",
      "val entries: 56019\n",
      "classlist is: ['acoustic guitar', 'auxiliary percussion', 'brass section', 'cello', 'clean electric guitar', 'distorted electric guitar', 'double bass', 'drum set', 'electric bass', 'female singer', 'male singer', 'oboe', 'piano', 'synthesizer', 'tack piano', 'trumpet', 'vibraphone', 'viola', 'violin', 'vocalists']\n",
      "loading model...\n",
      "building task...\n",
      "running task\n",
      "found checkpoint: /home/hugo/lab/mono_music_sed/instrument_recognition/logs/experiment-ENSEMBLES-08.12.2020-EVAL/openl3-mlp-ensemble-8/version_0/checkpoints/epoch=30-fscore_val=0.72.ckpt\n",
      "Test tube created git tag: tt_openl3-mlp-ensemble-8_v0\n"
     ]
    },
    {
     "data": {
      "application/vnd.jupyter.widget-view+json": {
       "model_id": "594521767fd74278b27179d0c6c27326",
       "version_major": 2,
       "version_minor": 0
      },
      "text/plain": [
       "HBox(children=(HTML(value='Testing'), FloatProgress(value=1.0, bar_style='info', layout=Layout(flex='2'), max=…"
      ]
     },
     "metadata": {},
     "output_type": "display_data"
    },
    {
     "name": "stdout",
     "output_type": "stream",
     "text": [
      "--------------------------------------------------------------------------------\n",
      "DATALOADER:0 TEST RESULTS\n",
      "{'ECE/test': 0.18617023457916418,\n",
      " 'accuracy/test': 0.715096663631982,\n",
      " 'fscore/test': 0.715096663631982,\n",
      " 'fscore_test': 0.715096663631982,\n",
      " 'loss/test': tensor(1.6420),\n",
      " 'precision/test': 0.715096663631982,\n",
      " 'recall/test': 0.715096663631982}\n",
      "--------------------------------------------------------------------------------\n",
      "\n"
     ]
    }
   ],
   "source": [
    "from instrument_recognition.train import Ensemble, run_trial\n",
    "\n",
    "# test each trial and gather results\n",
    "ensemble_models = []\n",
    "for trial_dict in trial_dicts:\n",
    "    task, result = run_trial(trial_dict, test=True)\n",
    "    ensemble_models.append(task.model)\n",
    "\n"
   ]
  },
  {
   "cell_type": "code",
   "execution_count": 18,
   "metadata": {},
   "outputs": [
    {
     "name": "stdout",
     "output_type": "stream",
     "text": [
      "found a total of 8 members\n"
     ]
    }
   ],
   "source": [
    "# lets look at how many members we have\n",
    "print(f'found a total of {len(ensemble_models)} members')"
   ]
  },
  {
   "cell_type": "code",
   "execution_count": 20,
   "metadata": {},
   "outputs": [
    {
     "name": "stdout",
     "output_type": "stream",
     "text": [
      "loading datamodule...\n"
     ]
    },
    {
     "name": "stderr",
     "output_type": "stream",
     "text": [
      "GPU available: True, used: True\n",
      "INFO:lightning:GPU available: True, used: True\n",
      "TPU available: False, using: 0 TPU cores\n",
      "INFO:lightning:TPU available: False, using: 0 TPU cores\n",
      "LOCAL_RANK: 0 - CUDA_VISIBLE_DEVICES: [0,1,2]\n",
      "INFO:lightning:LOCAL_RANK: 0 - CUDA_VISIBLE_DEVICES: [0,1,2]\n"
     ]
    },
    {
     "name": "stdout",
     "output_type": "stream",
     "text": [
      "train entries: 288692\n",
      "val entries: 56019\n",
      "classlist is: ['acoustic guitar', 'auxiliary percussion', 'brass section', 'cello', 'clean electric guitar', 'distorted electric guitar', 'double bass', 'drum set', 'electric bass', 'female singer', 'male singer', 'oboe', 'piano', 'synthesizer', 'tack piano', 'trumpet', 'vibraphone', 'viola', 'violin', 'vocalists']\n",
      "loading model...\n",
      "building task...\n",
      "running task\n",
      "Test tube created git tag: tt_ENSEMBLE-len-1_v0\n"
     ]
    },
    {
     "data": {
      "application/vnd.jupyter.widget-view+json": {
       "model_id": "9f3a06c3e54d4e34b572da58a631e2be",
       "version_major": 2,
       "version_minor": 0
      },
      "text/plain": [
       "HBox(children=(HTML(value='Testing'), FloatProgress(value=1.0, bar_style='info', layout=Layout(flex='2'), max=…"
      ]
     },
     "metadata": {},
     "output_type": "display_data"
    },
    {
     "name": "stdout",
     "output_type": "stream",
     "text": [
      "--------------------------------------------------------------------------------\n",
      "DATALOADER:0 TEST RESULTS\n",
      "{'ECE/test': 0.2121113933046012,\n",
      " 'accuracy/test': 0.7032792445420304,\n",
      " 'fscore/test': 0.7032792445420304,\n",
      " 'fscore_test': 0.7032792445420304,\n",
      " 'loss/test': tensor(1.7971),\n",
      " 'precision/test': 0.7032792445420304,\n",
      " 'recall/test': 0.7032792445420304}\n",
      "--------------------------------------------------------------------------------\n",
      "\n",
      "loading datamodule...\n"
     ]
    },
    {
     "name": "stderr",
     "output_type": "stream",
     "text": [
      "GPU available: True, used: True\n",
      "INFO:lightning:GPU available: True, used: True\n",
      "TPU available: False, using: 0 TPU cores\n",
      "INFO:lightning:TPU available: False, using: 0 TPU cores\n",
      "LOCAL_RANK: 0 - CUDA_VISIBLE_DEVICES: [0,1,2]\n",
      "INFO:lightning:LOCAL_RANK: 0 - CUDA_VISIBLE_DEVICES: [0,1,2]\n"
     ]
    },
    {
     "name": "stdout",
     "output_type": "stream",
     "text": [
      "train entries: 288692\n",
      "val entries: 56019\n",
      "classlist is: ['acoustic guitar', 'auxiliary percussion', 'brass section', 'cello', 'clean electric guitar', 'distorted electric guitar', 'double bass', 'drum set', 'electric bass', 'female singer', 'male singer', 'oboe', 'piano', 'synthesizer', 'tack piano', 'trumpet', 'vibraphone', 'viola', 'violin', 'vocalists']\n",
      "loading model...\n",
      "building task...\n",
      "running task\n",
      "Test tube created git tag: tt_ENSEMBLE-len-2_v0\n"
     ]
    },
    {
     "data": {
      "application/vnd.jupyter.widget-view+json": {
       "model_id": "ae639cd81bce4ccba78933c19caa0ace",
       "version_major": 2,
       "version_minor": 0
      },
      "text/plain": [
       "HBox(children=(HTML(value='Testing'), FloatProgress(value=1.0, bar_style='info', layout=Layout(flex='2'), max=…"
      ]
     },
     "metadata": {},
     "output_type": "display_data"
    },
    {
     "name": "stdout",
     "output_type": "stream",
     "text": [
      "--------------------------------------------------------------------------------\n",
      "DATALOADER:0 TEST RESULTS\n",
      "{'ECE/test': 0.20694211740928867,\n",
      " 'accuracy/test': 0.7068316107035113,\n",
      " 'fscore/test': 0.7068316107035113,\n",
      " 'fscore_test': 0.7068316107035113,\n",
      " 'loss/test': tensor(1.8120),\n",
      " 'precision/test': 0.7068316107035113,\n",
      " 'recall/test': 0.7068316107035113}\n",
      "--------------------------------------------------------------------------------\n",
      "\n",
      "loading datamodule...\n"
     ]
    },
    {
     "name": "stderr",
     "output_type": "stream",
     "text": [
      "GPU available: True, used: True\n",
      "INFO:lightning:GPU available: True, used: True\n",
      "TPU available: False, using: 0 TPU cores\n",
      "INFO:lightning:TPU available: False, using: 0 TPU cores\n",
      "LOCAL_RANK: 0 - CUDA_VISIBLE_DEVICES: [0,1,2]\n",
      "INFO:lightning:LOCAL_RANK: 0 - CUDA_VISIBLE_DEVICES: [0,1,2]\n"
     ]
    },
    {
     "name": "stdout",
     "output_type": "stream",
     "text": [
      "train entries: 288692\n",
      "val entries: 56019\n",
      "classlist is: ['acoustic guitar', 'auxiliary percussion', 'brass section', 'cello', 'clean electric guitar', 'distorted electric guitar', 'double bass', 'drum set', 'electric bass', 'female singer', 'male singer', 'oboe', 'piano', 'synthesizer', 'tack piano', 'trumpet', 'vibraphone', 'viola', 'violin', 'vocalists']\n",
      "loading model...\n",
      "building task...\n",
      "running task\n",
      "Test tube created git tag: tt_ENSEMBLE-len-4_v0\n"
     ]
    },
    {
     "data": {
      "application/vnd.jupyter.widget-view+json": {
       "model_id": "af294d1926e3418398c9f36120f691c8",
       "version_major": 2,
       "version_minor": 0
      },
      "text/plain": [
       "HBox(children=(HTML(value='Testing'), FloatProgress(value=1.0, bar_style='info', layout=Layout(flex='2'), max=…"
      ]
     },
     "metadata": {},
     "output_type": "display_data"
    },
    {
     "name": "stdout",
     "output_type": "stream",
     "text": [
      "--------------------------------------------------------------------------------\n",
      "DATALOADER:0 TEST RESULTS\n",
      "{'ECE/test': 0.19995761369494425,\n",
      " 'accuracy/test': 0.7085988682411325,\n",
      " 'fscore/test': 0.7085988682411325,\n",
      " 'fscore_test': 0.7085988682411325,\n",
      " 'loss/test': tensor(1.7239),\n",
      " 'precision/test': 0.7085988682411325,\n",
      " 'recall/test': 0.7085988682411325}\n",
      "--------------------------------------------------------------------------------\n",
      "\n",
      "loading datamodule...\n"
     ]
    },
    {
     "name": "stderr",
     "output_type": "stream",
     "text": [
      "GPU available: True, used: True\n",
      "INFO:lightning:GPU available: True, used: True\n",
      "TPU available: False, using: 0 TPU cores\n",
      "INFO:lightning:TPU available: False, using: 0 TPU cores\n",
      "LOCAL_RANK: 0 - CUDA_VISIBLE_DEVICES: [0,1,2]\n",
      "INFO:lightning:LOCAL_RANK: 0 - CUDA_VISIBLE_DEVICES: [0,1,2]\n"
     ]
    },
    {
     "name": "stdout",
     "output_type": "stream",
     "text": [
      "train entries: 288692\n",
      "val entries: 56019\n",
      "classlist is: ['acoustic guitar', 'auxiliary percussion', 'brass section', 'cello', 'clean electric guitar', 'distorted electric guitar', 'double bass', 'drum set', 'electric bass', 'female singer', 'male singer', 'oboe', 'piano', 'synthesizer', 'tack piano', 'trumpet', 'vibraphone', 'viola', 'violin', 'vocalists']\n",
      "loading model...\n",
      "building task...\n",
      "running task\n",
      "Test tube created git tag: tt_ENSEMBLE-len-8_v0\n"
     ]
    },
    {
     "data": {
      "application/vnd.jupyter.widget-view+json": {
       "model_id": "35b06a7d24724b6b97be9eb81b381c5b",
       "version_major": 2,
       "version_minor": 0
      },
      "text/plain": [
       "HBox(children=(HTML(value='Testing'), FloatProgress(value=1.0, bar_style='info', layout=Layout(flex='2'), max=…"
      ]
     },
     "metadata": {},
     "output_type": "display_data"
    },
    {
     "name": "stdout",
     "output_type": "stream",
     "text": [
      "--------------------------------------------------------------------------------\n",
      "DATALOADER:0 TEST RESULTS\n",
      "{'ECE/test': 0.19539712481215987,\n",
      " 'accuracy/test': 0.7103839768649922,\n",
      " 'fscore/test': 0.7103839768649922,\n",
      " 'fscore_test': 0.7103839768649922,\n",
      " 'loss/test': tensor(1.6934),\n",
      " 'precision/test': 0.7103839768649922,\n",
      " 'recall/test': 0.7103839768649922}\n",
      "--------------------------------------------------------------------------------\n",
      "\n"
     ]
    }
   ],
   "source": [
    "ensemble_lens = [1, 2, 4, 8]\n",
    "\n",
    "def make_ensemble(model_list, num_members):\n",
    "    assert num_members <= len(model_list)\n",
    "    members = []\n",
    "    for idx in range(num_members):\n",
    "        members.append(model_list[idx])\n",
    "    return Ensemble(members)\n",
    "\n",
    "# evaluate ensemble models\n",
    "base_exp_dict = trial_dicts[0]\n",
    "\n",
    "results = []\n",
    "for num_members in ensemble_lens:\n",
    "    # make model ensemble\n",
    "    model = make_ensemble(ensemble_models, num_members)\n",
    "    \n",
    "    # change the name of the base_exp_dict\n",
    "    exp_dict = dict(base_exp_dict)\n",
    "    exp_dict['name'] = f'ENSEMBLE-len-{num_members}'\n",
    "    \n",
    "    # train and gather results\n",
    "    task, result = run_trial(exp_dict, model, test=True)\n",
    "    results.append(result)"
   ]
  },
  {
   "cell_type": "code",
   "execution_count": 21,
   "metadata": {},
   "outputs": [
    {
     "name": "stdout",
     "output_type": "stream",
     "text": [
      "[[{'accuracy/test': 0.7032792445420304, 'precision/test': 0.7032792445420304, 'recall/test': 0.7032792445420304, 'fscore/test': 0.7032792445420304, 'fscore_test': 0.7032792445420304, 'ECE/test': 0.2121113933046012, 'loss/test': 1.797116756439209}], [{'accuracy/test': 0.7068316107035113, 'precision/test': 0.7068316107035113, 'recall/test': 0.7068316107035113, 'fscore/test': 0.7068316107035113, 'fscore_test': 0.7068316107035113, 'ECE/test': 0.20694211740928867, 'loss/test': 1.811961054801941}], [{'accuracy/test': 0.7085988682411325, 'precision/test': 0.7085988682411325, 'recall/test': 0.7085988682411325, 'fscore/test': 0.7085988682411325, 'fscore_test': 0.7085988682411325, 'ECE/test': 0.19995761369494425, 'loss/test': 1.723899245262146}], [{'accuracy/test': 0.7103839768649922, 'precision/test': 0.7103839768649922, 'recall/test': 0.7103839768649922, 'fscore/test': 0.7103839768649922, 'fscore_test': 0.7103839768649922, 'ECE/test': 0.19539712481215987, 'loss/test': 1.6933530569076538}]]\n"
     ]
    }
   ],
   "source": [
    "print(results)"
   ]
  },
  {
   "cell_type": "code",
   "execution_count": 24,
   "metadata": {},
   "outputs": [
    {
     "data": {
      "text/html": [
       "<div>\n",
       "<style scoped>\n",
       "    .dataframe tbody tr th:only-of-type {\n",
       "        vertical-align: middle;\n",
       "    }\n",
       "\n",
       "    .dataframe tbody tr th {\n",
       "        vertical-align: top;\n",
       "    }\n",
       "\n",
       "    .dataframe thead th {\n",
       "        text-align: right;\n",
       "    }\n",
       "</style>\n",
       "<table border=\"1\" class=\"dataframe\">\n",
       "  <thead>\n",
       "    <tr style=\"text-align: right;\">\n",
       "      <th></th>\n",
       "      <th>accuracy/test</th>\n",
       "      <th>precision/test</th>\n",
       "      <th>recall/test</th>\n",
       "      <th>fscore/test</th>\n",
       "      <th>fscore_test</th>\n",
       "      <th>ECE/test</th>\n",
       "      <th>loss/test</th>\n",
       "    </tr>\n",
       "  </thead>\n",
       "  <tbody>\n",
       "    <tr>\n",
       "      <th>0</th>\n",
       "      <td>0.703279</td>\n",
       "      <td>0.703279</td>\n",
       "      <td>0.703279</td>\n",
       "      <td>0.703279</td>\n",
       "      <td>0.703279</td>\n",
       "      <td>0.212111</td>\n",
       "      <td>1.797117</td>\n",
       "    </tr>\n",
       "    <tr>\n",
       "      <th>1</th>\n",
       "      <td>0.706832</td>\n",
       "      <td>0.706832</td>\n",
       "      <td>0.706832</td>\n",
       "      <td>0.706832</td>\n",
       "      <td>0.706832</td>\n",
       "      <td>0.206942</td>\n",
       "      <td>1.811961</td>\n",
       "    </tr>\n",
       "    <tr>\n",
       "      <th>2</th>\n",
       "      <td>0.708599</td>\n",
       "      <td>0.708599</td>\n",
       "      <td>0.708599</td>\n",
       "      <td>0.708599</td>\n",
       "      <td>0.708599</td>\n",
       "      <td>0.199958</td>\n",
       "      <td>1.723899</td>\n",
       "    </tr>\n",
       "    <tr>\n",
       "      <th>3</th>\n",
       "      <td>0.710384</td>\n",
       "      <td>0.710384</td>\n",
       "      <td>0.710384</td>\n",
       "      <td>0.710384</td>\n",
       "      <td>0.710384</td>\n",
       "      <td>0.195397</td>\n",
       "      <td>1.693353</td>\n",
       "    </tr>\n",
       "  </tbody>\n",
       "</table>\n",
       "</div>"
      ],
      "text/plain": [
       "   accuracy/test  precision/test  recall/test  fscore/test  fscore_test  \\\n",
       "0       0.703279        0.703279     0.703279     0.703279     0.703279   \n",
       "1       0.706832        0.706832     0.706832     0.706832     0.706832   \n",
       "2       0.708599        0.708599     0.708599     0.708599     0.708599   \n",
       "3       0.710384        0.710384     0.710384     0.710384     0.710384   \n",
       "\n",
       "   ECE/test  loss/test  \n",
       "0  0.212111   1.797117  \n",
       "1  0.206942   1.811961  \n",
       "2  0.199958   1.723899  \n",
       "3  0.195397   1.693353  "
      ]
     },
     "execution_count": 24,
     "metadata": {},
     "output_type": "execute_result"
    }
   ],
   "source": [
    "import pandas as pd\n",
    "records = [d for r in results for d in r]\n",
    "df = pd.DataFrame.from_records(records)\n",
    "df"
   ]
  },
  {
   "cell_type": "code",
   "execution_count": null,
   "metadata": {},
   "outputs": [],
   "source": []
  }
 ],
 "metadata": {
  "kernelspec": {
   "display_name": "Python 3",
   "language": "python",
   "name": "python3"
  },
  "language_info": {
   "codemirror_mode": {
    "name": "ipython",
    "version": 3
   },
   "file_extension": ".py",
   "mimetype": "text/x-python",
   "name": "python",
   "nbconvert_exporter": "python",
   "pygments_lexer": "ipython3",
   "version": "3.6.9"
  }
 },
 "nbformat": 4,
 "nbformat_minor": 4
}
