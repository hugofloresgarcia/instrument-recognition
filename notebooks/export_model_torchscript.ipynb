{
 "cells": [
  {
   "cell_type": "code",
   "execution_count": 6,
   "metadata": {},
   "outputs": [],
   "source": [
    "import os\n",
    "from instrument_recognition.trials import trials\n",
    "\n",
    "# NOTE: the following code is here\n",
    "# because of a bug. train_instrument_detection_task\n",
    "# was not saving the exp_dict.yaml file that it was supposed \n",
    "# to, meaning that I had to reconstruct the exp dicts from \n",
    "# the trials in trials.py\n",
    "# ideally, the bug should be fixed and this code should\n",
    "# instead load the trial dict from the exp_dict.yaml\n",
    "# (which should be less hacky)\n",
    "\n",
    "# define experiment path\n",
    "base_path = '/home/hugo/lab/mono_music_sed/instrument_recognition/logs/experiment-MIXUP-09.12.2020'\n",
    "\n",
    "# get the paths and names to each trial\n",
    "trial_names = os.listdir(base_path)\n",
    "trial_paths = [os.path.join(base_path, subdir) for subdir in os.listdir(base_path)]\n",
    "\n",
    "# get the trial dicts\n",
    "trial_dicts = [trials[name] for name in trial_names]\n",
    "\n",
    "# change the logdir to the trial path\n",
    "for trial_path, trial_dict in zip(trial_paths, trial_dicts):\n",
    "    trial_dict['log_dir'] = base_path\n",
    "\n",
    "metrics_paths = [os.path.join(d, 'version_0', 'metrics.csv') for d in trial_paths]\n"
   ]
  },
  {
   "cell_type": "code",
   "execution_count": null,
   "metadata": {},
   "outputs": [
    {
     "name": "stdout",
     "output_type": "stream",
     "text": [
      "loading datamodule...\n"
     ]
    },
    {
     "name": "stderr",
     "output_type": "stream",
     "text": [
      "/home/hugo/lab/venv/lib/python3.6/site-packages/pytorch_lightning/utilities/distributed.py:45: UserWarning:\n",
      "\n",
      "Checkpoint directory /home/hugo/lab/mono_music_sed/instrument_recognition/logs/experiment-MIXUP-09.12.2020/openl3-mlp-MIXUP-alpha=0.2/version_0/checkpoints exists and is not empty. With save_top_k=3, all files in this directory will be deleted when a checkpoint is saved!\n",
      "\n",
      "GPU available: True, used: True\n",
      "INFO:lightning:GPU available: True, used: True\n",
      "TPU available: False, using: 0 TPU cores\n",
      "INFO:lightning:TPU available: False, using: 0 TPU cores\n",
      "LOCAL_RANK: 0 - CUDA_VISIBLE_DEVICES: [0,1,2]\n",
      "INFO:lightning:LOCAL_RANK: 0 - CUDA_VISIBLE_DEVICES: [0,1,2]\n"
     ]
    },
    {
     "name": "stdout",
     "output_type": "stream",
     "text": [
      "train entries: 288692\n",
      "val entries: 56019\n",
      "classlist is: ['acoustic guitar', 'auxiliary percussion', 'brass section', 'cello', 'clean electric guitar', 'distorted electric guitar', 'double bass', 'drum set', 'electric bass', 'female singer', 'male singer', 'oboe', 'piano', 'synthesizer', 'tack piano', 'trumpet', 'vibraphone', 'viola', 'violin', 'vocalists']\n",
      "loading model...\n",
      "building task...\n",
      "running task\n",
      "found checkpoint: /home/hugo/lab/mono_music_sed/instrument_recognition/logs/experiment-MIXUP-09.12.2020/openl3-mlp-MIXUP-alpha=0.2/version_0/checkpoints/epoch=12-fscore_val=0.70.ckpt\n",
      "Test tube created git tag: tt_openl3-mlp-MIXUP-alpha=0.2_v0\n"
     ]
    },
    {
     "data": {
      "application/vnd.jupyter.widget-view+json": {
       "model_id": "7f9a7620fe944747b35a9c9276cb0d3c",
       "version_major": 2,
       "version_minor": 0
      },
      "text/plain": [
       "HBox(children=(HTML(value='Testing'), FloatProgress(value=1.0, bar_style='info', layout=Layout(flex='2'), max=…"
      ]
     },
     "metadata": {},
     "output_type": "display_data"
    },
    {
     "name": "stdout",
     "output_type": "stream",
     "text": [
      "--------------------------------------------------------------------------------\n",
      "DATALOADER:0 TEST RESULTS\n",
      "{'ECE/test': 0.06122429460876555,\n",
      " 'accuracy/test': 0.7039397347328585,\n",
      " 'fscore/test': 0.7039397347328585,\n",
      " 'fscore_test': 0.7039397347328585,\n",
      " 'loss/test': tensor(1.0784),\n",
      " 'precision/test': 0.7039397347328585,\n",
      " 'recall/test': 0.7039397347328585}\n",
      "--------------------------------------------------------------------------------\n",
      "\n",
      "{'accuracy/test': 0.7039397347328585, 'precision/test': 0.7039397347328585, 'recall/test': 0.7039397347328585, 'fscore/test': 0.7039397347328585, 'fscore_test': 0.7039397347328585, 'ECE/test': 0.06122429460876555, 'loss/test': 1.0784144401550293, 'batch_size': 512, 'num_workers': 20, 'learning_rate': 0.0003, 'weighted_cross_entropy': True, 'dropout': 0.1, 'random_seed': 20, 'max_epochs': 100, 'log_dir': '/home/hugo/lab/mono_music_sed/instrument_recognition/logs/experiment-MIXUP-09.12.2020', 'version': 0, 'gpuid': 2, 'trainer_kwargs': {}, 'name': 'openl3-mlp-MIXUP-alpha=0.2', 'path_to_data': '/home/hugo/data/mono_music_sed/mdb/EMBEDDINGS', 'use_npy': True, 'model_name': 'mlp-6144', 'mixup': True, 'mixup_alpha': 0.2}\n",
      "loading datamodule...\n"
     ]
    },
    {
     "name": "stderr",
     "output_type": "stream",
     "text": [
      "/home/hugo/lab/venv/lib/python3.6/site-packages/pytorch_lightning/utilities/distributed.py:45: UserWarning:\n",
      "\n",
      "Checkpoint directory /home/hugo/lab/mono_music_sed/instrument_recognition/logs/experiment-MIXUP-09.12.2020/openl3-mlp-MIXUP-alpha=0.6/version_0/checkpoints exists and is not empty. With save_top_k=3, all files in this directory will be deleted when a checkpoint is saved!\n",
      "\n",
      "GPU available: True, used: True\n",
      "INFO:lightning:GPU available: True, used: True\n",
      "TPU available: False, using: 0 TPU cores\n",
      "INFO:lightning:TPU available: False, using: 0 TPU cores\n",
      "LOCAL_RANK: 0 - CUDA_VISIBLE_DEVICES: [0,1,2]\n",
      "INFO:lightning:LOCAL_RANK: 0 - CUDA_VISIBLE_DEVICES: [0,1,2]\n"
     ]
    },
    {
     "name": "stdout",
     "output_type": "stream",
     "text": [
      "train entries: 288692\n",
      "val entries: 56019\n",
      "classlist is: ['acoustic guitar', 'auxiliary percussion', 'brass section', 'cello', 'clean electric guitar', 'distorted electric guitar', 'double bass', 'drum set', 'electric bass', 'female singer', 'male singer', 'oboe', 'piano', 'synthesizer', 'tack piano', 'trumpet', 'vibraphone', 'viola', 'violin', 'vocalists']\n",
      "loading model...\n",
      "building task...\n",
      "running task\n",
      "found checkpoint: /home/hugo/lab/mono_music_sed/instrument_recognition/logs/experiment-MIXUP-09.12.2020/openl3-mlp-MIXUP-alpha=0.6/version_0/checkpoints/epoch=18-fscore_val=0.69.ckpt\n",
      "Test tube created git tag: tt_openl3-mlp-MIXUP-alpha=0.6_v0\n"
     ]
    },
    {
     "data": {
      "application/vnd.jupyter.widget-view+json": {
       "model_id": "062a110fa27c48d390555581e85c3005",
       "version_major": 2,
       "version_minor": 0
      },
      "text/plain": [
       "HBox(children=(HTML(value='Testing'), FloatProgress(value=1.0, bar_style='info', layout=Layout(flex='2'), max=…"
      ]
     },
     "metadata": {},
     "output_type": "display_data"
    },
    {
     "name": "stdout",
     "output_type": "stream",
     "text": [
      "--------------------------------------------------------------------------------\n",
      "DATALOADER:0 TEST RESULTS\n",
      "{'ECE/test': 0.04974582529050545,\n",
      " 'accuracy/test': 0.6886413538263804,\n",
      " 'fscore/test': 0.6886413538263804,\n",
      " 'fscore_test': 0.6886413538263804,\n",
      " 'loss/test': tensor(1.0993),\n",
      " 'precision/test': 0.6886413538263804,\n",
      " 'recall/test': 0.6886413538263804}\n",
      "--------------------------------------------------------------------------------\n",
      "\n",
      "{'accuracy/test': 0.6886413538263804, 'precision/test': 0.6886413538263804, 'recall/test': 0.6886413538263804, 'fscore/test': 0.6886413538263804, 'fscore_test': 0.6886413538263804, 'ECE/test': 0.04974582529050545, 'loss/test': 1.0992990732192993, 'batch_size': 512, 'num_workers': 20, 'learning_rate': 0.0003, 'weighted_cross_entropy': True, 'dropout': 0.1, 'random_seed': 20, 'max_epochs': 100, 'log_dir': '/home/hugo/lab/mono_music_sed/instrument_recognition/logs/experiment-MIXUP-09.12.2020', 'version': 0, 'gpuid': 2, 'trainer_kwargs': {}, 'name': 'openl3-mlp-MIXUP-alpha=0.6', 'path_to_data': '/home/hugo/data/mono_music_sed/mdb/EMBEDDINGS', 'use_npy': True, 'model_name': 'mlp-6144', 'mixup': True, 'mixup_alpha': 0.6}\n",
      "loading datamodule...\n"
     ]
    },
    {
     "name": "stderr",
     "output_type": "stream",
     "text": [
      "/home/hugo/lab/venv/lib/python3.6/site-packages/pytorch_lightning/utilities/distributed.py:45: UserWarning:\n",
      "\n",
      "Checkpoint directory /home/hugo/lab/mono_music_sed/instrument_recognition/logs/experiment-MIXUP-09.12.2020/openl3-mlp-MIXUP-alpha=0.5/version_0/checkpoints exists and is not empty. With save_top_k=3, all files in this directory will be deleted when a checkpoint is saved!\n",
      "\n",
      "GPU available: True, used: True\n",
      "INFO:lightning:GPU available: True, used: True\n",
      "TPU available: False, using: 0 TPU cores\n",
      "INFO:lightning:TPU available: False, using: 0 TPU cores\n",
      "LOCAL_RANK: 0 - CUDA_VISIBLE_DEVICES: [0,1,2]\n",
      "INFO:lightning:LOCAL_RANK: 0 - CUDA_VISIBLE_DEVICES: [0,1,2]\n"
     ]
    },
    {
     "name": "stdout",
     "output_type": "stream",
     "text": [
      "train entries: 288692\n",
      "val entries: 56019\n",
      "classlist is: ['acoustic guitar', 'auxiliary percussion', 'brass section', 'cello', 'clean electric guitar', 'distorted electric guitar', 'double bass', 'drum set', 'electric bass', 'female singer', 'male singer', 'oboe', 'piano', 'synthesizer', 'tack piano', 'trumpet', 'vibraphone', 'viola', 'violin', 'vocalists']\n",
      "loading model...\n",
      "building task...\n",
      "running task\n",
      "found checkpoint: /home/hugo/lab/mono_music_sed/instrument_recognition/logs/experiment-MIXUP-09.12.2020/openl3-mlp-MIXUP-alpha=0.5/version_0/checkpoints/epoch=41-fscore_val=0.70.ckpt\n",
      "Test tube created git tag: tt_openl3-mlp-MIXUP-alpha=0.5_v0\n"
     ]
    },
    {
     "data": {
      "application/vnd.jupyter.widget-view+json": {
       "model_id": "f436abe622f8454c87d20eb2f4f570a9",
       "version_major": 2,
       "version_minor": 0
      },
      "text/plain": [
       "HBox(children=(HTML(value='Testing'), FloatProgress(value=1.0, bar_style='info', layout=Layout(flex='2'), max=…"
      ]
     },
     "metadata": {},
     "output_type": "display_data"
    },
    {
     "name": "stdout",
     "output_type": "stream",
     "text": [
      "--------------------------------------------------------------------------------\n",
      "DATALOADER:0 TEST RESULTS\n",
      "{'ECE/test': 0.036848240779046894,\n",
      " 'accuracy/test': 0.6972991306521001,\n",
      " 'fscore/test': 0.6972991306521001,\n",
      " 'fscore_test': 0.6972991306521001,\n",
      " 'loss/test': tensor(1.0883),\n",
      " 'precision/test': 0.6972991306521001,\n",
      " 'recall/test': 0.6972991306521001}\n",
      "--------------------------------------------------------------------------------\n",
      "\n",
      "{'accuracy/test': 0.6972991306521001, 'precision/test': 0.6972991306521001, 'recall/test': 0.6972991306521001, 'fscore/test': 0.6972991306521001, 'fscore_test': 0.6972991306521001, 'ECE/test': 0.036848240779046894, 'loss/test': 1.0882833003997803, 'batch_size': 512, 'num_workers': 20, 'learning_rate': 0.0003, 'weighted_cross_entropy': True, 'dropout': 0.1, 'random_seed': 20, 'max_epochs': 100, 'log_dir': '/home/hugo/lab/mono_music_sed/instrument_recognition/logs/experiment-MIXUP-09.12.2020', 'version': 0, 'gpuid': 2, 'trainer_kwargs': {}, 'name': 'openl3-mlp-MIXUP-alpha=0.5', 'path_to_data': '/home/hugo/data/mono_music_sed/mdb/EMBEDDINGS', 'use_npy': True, 'model_name': 'mlp-6144', 'mixup': True, 'mixup_alpha': 0.5}\n",
      "loading datamodule...\n"
     ]
    },
    {
     "name": "stderr",
     "output_type": "stream",
     "text": [
      "/home/hugo/lab/venv/lib/python3.6/site-packages/pytorch_lightning/utilities/distributed.py:45: UserWarning:\n",
      "\n",
      "Checkpoint directory /home/hugo/lab/mono_music_sed/instrument_recognition/logs/experiment-MIXUP-09.12.2020/openl3-mlp-MIXUP-alpha=0.7/version_0/checkpoints exists and is not empty. With save_top_k=3, all files in this directory will be deleted when a checkpoint is saved!\n",
      "\n",
      "GPU available: True, used: True\n",
      "INFO:lightning:GPU available: True, used: True\n",
      "TPU available: False, using: 0 TPU cores\n",
      "INFO:lightning:TPU available: False, using: 0 TPU cores\n",
      "LOCAL_RANK: 0 - CUDA_VISIBLE_DEVICES: [0,1,2]\n",
      "INFO:lightning:LOCAL_RANK: 0 - CUDA_VISIBLE_DEVICES: [0,1,2]\n"
     ]
    },
    {
     "name": "stdout",
     "output_type": "stream",
     "text": [
      "train entries: 288692\n",
      "val entries: 56019\n",
      "classlist is: ['acoustic guitar', 'auxiliary percussion', 'brass section', 'cello', 'clean electric guitar', 'distorted electric guitar', 'double bass', 'drum set', 'electric bass', 'female singer', 'male singer', 'oboe', 'piano', 'synthesizer', 'tack piano', 'trumpet', 'vibraphone', 'viola', 'violin', 'vocalists']\n",
      "loading model...\n",
      "building task...\n",
      "running task\n",
      "found checkpoint: /home/hugo/lab/mono_music_sed/instrument_recognition/logs/experiment-MIXUP-09.12.2020/openl3-mlp-MIXUP-alpha=0.7/version_0/checkpoints/epoch=26-fscore_val=0.69.ckpt\n",
      "Test tube created git tag: tt_openl3-mlp-MIXUP-alpha=0.7_v0\n"
     ]
    },
    {
     "data": {
      "application/vnd.jupyter.widget-view+json": {
       "model_id": "989d7d139d8648c3bcbac265fb1ec0fb",
       "version_major": 2,
       "version_minor": 0
      },
      "text/plain": [
       "HBox(children=(HTML(value='Testing'), FloatProgress(value=1.0, bar_style='info', layout=Layout(flex='2'), max=…"
      ]
     },
     "metadata": {},
     "output_type": "display_data"
    },
    {
     "name": "stdout",
     "output_type": "stream",
     "text": [
      "--------------------------------------------------------------------------------\n",
      "DATALOADER:0 TEST RESULTS\n",
      "{'ECE/test': 0.033127085669857136,\n",
      " 'accuracy/test': 0.6946750209750263,\n",
      " 'fscore/test': 0.6946750209750263,\n",
      " 'fscore_test': 0.6946750209750263,\n",
      " 'loss/test': tensor(1.1299),\n",
      " 'precision/test': 0.6946750209750263,\n",
      " 'recall/test': 0.6946750209750263}\n",
      "--------------------------------------------------------------------------------\n",
      "\n",
      "{'accuracy/test': 0.6946750209750263, 'precision/test': 0.6946750209750263, 'recall/test': 0.6946750209750263, 'fscore/test': 0.6946750209750263, 'fscore_test': 0.6946750209750263, 'ECE/test': 0.033127085669857136, 'loss/test': 1.129927635192871, 'batch_size': 512, 'num_workers': 20, 'learning_rate': 0.0003, 'weighted_cross_entropy': True, 'dropout': 0.1, 'random_seed': 20, 'max_epochs': 100, 'log_dir': '/home/hugo/lab/mono_music_sed/instrument_recognition/logs/experiment-MIXUP-09.12.2020', 'version': 0, 'gpuid': 2, 'trainer_kwargs': {}, 'name': 'openl3-mlp-MIXUP-alpha=0.7', 'path_to_data': '/home/hugo/data/mono_music_sed/mdb/EMBEDDINGS', 'use_npy': True, 'model_name': 'mlp-6144', 'mixup': True, 'mixup_alpha': 0.7}\n",
      "loading datamodule...\n"
     ]
    },
    {
     "name": "stderr",
     "output_type": "stream",
     "text": [
      "/home/hugo/lab/venv/lib/python3.6/site-packages/pytorch_lightning/utilities/distributed.py:45: UserWarning:\n",
      "\n",
      "Checkpoint directory /home/hugo/lab/mono_music_sed/instrument_recognition/logs/experiment-MIXUP-09.12.2020/openl3-mlp-MIXUP-alpha=0.1/version_0/checkpoints exists and is not empty. With save_top_k=3, all files in this directory will be deleted when a checkpoint is saved!\n",
      "\n",
      "GPU available: True, used: True\n",
      "INFO:lightning:GPU available: True, used: True\n",
      "TPU available: False, using: 0 TPU cores\n",
      "INFO:lightning:TPU available: False, using: 0 TPU cores\n",
      "LOCAL_RANK: 0 - CUDA_VISIBLE_DEVICES: [0,1,2]\n",
      "INFO:lightning:LOCAL_RANK: 0 - CUDA_VISIBLE_DEVICES: [0,1,2]\n"
     ]
    },
    {
     "name": "stdout",
     "output_type": "stream",
     "text": [
      "train entries: 288692\n",
      "val entries: 56019\n",
      "classlist is: ['acoustic guitar', 'auxiliary percussion', 'brass section', 'cello', 'clean electric guitar', 'distorted electric guitar', 'double bass', 'drum set', 'electric bass', 'female singer', 'male singer', 'oboe', 'piano', 'synthesizer', 'tack piano', 'trumpet', 'vibraphone', 'viola', 'violin', 'vocalists']\n",
      "loading model...\n",
      "building task...\n",
      "running task\n",
      "found checkpoint: /home/hugo/lab/mono_music_sed/instrument_recognition/logs/experiment-MIXUP-09.12.2020/openl3-mlp-MIXUP-alpha=0.1/version_0/checkpoints/epoch=22-fscore_val=0.70.ckpt\n",
      "Test tube created git tag: tt_openl3-mlp-MIXUP-alpha=0.1_v0\n"
     ]
    },
    {
     "data": {
      "application/vnd.jupyter.widget-view+json": {
       "model_id": "4b7f1bda33a24caaae5dac6bd0f20061",
       "version_major": 2,
       "version_minor": 0
      },
      "text/plain": [
       "HBox(children=(HTML(value='Testing'), FloatProgress(value=1.0, bar_style='info', layout=Layout(flex='2'), max=…"
      ]
     },
     "metadata": {},
     "output_type": "display_data"
    },
    {
     "name": "stdout",
     "output_type": "stream",
     "text": [
      "--------------------------------------------------------------------------------\n",
      "DATALOADER:0 TEST RESULTS\n",
      "{'ECE/test': 0.1189748056979198,\n",
      " 'accuracy/test': 0.7002624109677074,\n",
      " 'fscore/test': 0.7002624109677074,\n",
      " 'fscore_test': 0.7002624109677074,\n",
      " 'loss/test': tensor(1.1591),\n",
      " 'precision/test': 0.7002624109677074,\n",
      " 'recall/test': 0.7002624109677074}\n",
      "--------------------------------------------------------------------------------\n",
      "\n",
      "{'accuracy/test': 0.7002624109677074, 'precision/test': 0.7002624109677074, 'recall/test': 0.7002624109677074, 'fscore/test': 0.7002624109677074, 'fscore_test': 0.7002624109677074, 'ECE/test': 0.1189748056979198, 'loss/test': 1.1590856313705444, 'batch_size': 512, 'num_workers': 20, 'learning_rate': 0.0003, 'weighted_cross_entropy': True, 'dropout': 0.1, 'random_seed': 20, 'max_epochs': 100, 'log_dir': '/home/hugo/lab/mono_music_sed/instrument_recognition/logs/experiment-MIXUP-09.12.2020', 'version': 0, 'gpuid': 2, 'trainer_kwargs': {}, 'name': 'openl3-mlp-MIXUP-alpha=0.1', 'path_to_data': '/home/hugo/data/mono_music_sed/mdb/EMBEDDINGS', 'use_npy': True, 'model_name': 'mlp-6144', 'mixup': True, 'mixup_alpha': 0.1}\n",
      "loading datamodule...\n"
     ]
    },
    {
     "name": "stderr",
     "output_type": "stream",
     "text": [
      "/home/hugo/lab/venv/lib/python3.6/site-packages/pytorch_lightning/utilities/distributed.py:45: UserWarning:\n",
      "\n",
      "Checkpoint directory /home/hugo/lab/mono_music_sed/instrument_recognition/logs/experiment-MIXUP-09.12.2020/openl3-mlp-MIXUP-alpha=0.3/version_0/checkpoints exists and is not empty. With save_top_k=3, all files in this directory will be deleted when a checkpoint is saved!\n",
      "\n",
      "GPU available: True, used: True\n",
      "INFO:lightning:GPU available: True, used: True\n",
      "TPU available: False, using: 0 TPU cores\n",
      "INFO:lightning:TPU available: False, using: 0 TPU cores\n",
      "LOCAL_RANK: 0 - CUDA_VISIBLE_DEVICES: [0,1,2]\n",
      "INFO:lightning:LOCAL_RANK: 0 - CUDA_VISIBLE_DEVICES: [0,1,2]\n"
     ]
    },
    {
     "name": "stdout",
     "output_type": "stream",
     "text": [
      "train entries: 288692\n",
      "val entries: 56019\n",
      "classlist is: ['acoustic guitar', 'auxiliary percussion', 'brass section', 'cello', 'clean electric guitar', 'distorted electric guitar', 'double bass', 'drum set', 'electric bass', 'female singer', 'male singer', 'oboe', 'piano', 'synthesizer', 'tack piano', 'trumpet', 'vibraphone', 'viola', 'violin', 'vocalists']\n",
      "loading model...\n",
      "building task...\n",
      "running task\n",
      "found checkpoint: /home/hugo/lab/mono_music_sed/instrument_recognition/logs/experiment-MIXUP-09.12.2020/openl3-mlp-MIXUP-alpha=0.3/version_0/checkpoints/epoch=29-fscore_val=0.70.ckpt\n",
      "Test tube created git tag: tt_openl3-mlp-MIXUP-alpha=0.3_v0\n"
     ]
    },
    {
     "data": {
      "application/vnd.jupyter.widget-view+json": {
       "model_id": "bd76f4b129eb425db2ede12c892d77dc",
       "version_major": 2,
       "version_minor": 0
      },
      "text/plain": [
       "HBox(children=(HTML(value='Testing'), FloatProgress(value=1.0, bar_style='info', layout=Layout(flex='2'), max=…"
      ]
     },
     "metadata": {},
     "output_type": "display_data"
    },
    {
     "name": "stdout",
     "output_type": "stream",
     "text": [
      "--------------------------------------------------------------------------------\n",
      "DATALOADER:0 TEST RESULTS\n",
      "{'ECE/test': 0.047512026642967393,\n",
      " 'accuracy/test': 0.7027437119548725,\n",
      " 'fscore/test': 0.7027437119548725,\n",
      " 'fscore_test': 0.7027437119548725,\n",
      " 'loss/test': tensor(1.1627),\n",
      " 'precision/test': 0.7027437119548725,\n",
      " 'recall/test': 0.7027437119548725}\n",
      "--------------------------------------------------------------------------------\n",
      "\n",
      "{'accuracy/test': 0.7027437119548725, 'precision/test': 0.7027437119548725, 'recall/test': 0.7027437119548725, 'fscore/test': 0.7027437119548725, 'fscore_test': 0.7027437119548725, 'ECE/test': 0.047512026642967393, 'loss/test': 1.1626536846160889, 'batch_size': 512, 'num_workers': 20, 'learning_rate': 0.0003, 'weighted_cross_entropy': True, 'dropout': 0.1, 'random_seed': 20, 'max_epochs': 100, 'log_dir': '/home/hugo/lab/mono_music_sed/instrument_recognition/logs/experiment-MIXUP-09.12.2020', 'version': 0, 'gpuid': 2, 'trainer_kwargs': {}, 'name': 'openl3-mlp-MIXUP-alpha=0.3', 'path_to_data': '/home/hugo/data/mono_music_sed/mdb/EMBEDDINGS', 'use_npy': True, 'model_name': 'mlp-6144', 'mixup': True, 'mixup_alpha': 0.3}\n",
      "loading datamodule...\n"
     ]
    },
    {
     "name": "stderr",
     "output_type": "stream",
     "text": [
      "/home/hugo/lab/venv/lib/python3.6/site-packages/pytorch_lightning/utilities/distributed.py:45: UserWarning:\n",
      "\n",
      "Checkpoint directory /home/hugo/lab/mono_music_sed/instrument_recognition/logs/experiment-MIXUP-09.12.2020/openl3-mlp-MIXUP-alpha=0.4/version_0/checkpoints exists and is not empty. With save_top_k=3, all files in this directory will be deleted when a checkpoint is saved!\n",
      "\n",
      "GPU available: True, used: True\n",
      "INFO:lightning:GPU available: True, used: True\n",
      "TPU available: False, using: 0 TPU cores\n",
      "INFO:lightning:TPU available: False, using: 0 TPU cores\n",
      "LOCAL_RANK: 0 - CUDA_VISIBLE_DEVICES: [0,1,2]\n",
      "INFO:lightning:LOCAL_RANK: 0 - CUDA_VISIBLE_DEVICES: [0,1,2]\n"
     ]
    },
    {
     "name": "stdout",
     "output_type": "stream",
     "text": [
      "train entries: 288692\n",
      "val entries: 56019\n",
      "classlist is: ['acoustic guitar', 'auxiliary percussion', 'brass section', 'cello', 'clean electric guitar', 'distorted electric guitar', 'double bass', 'drum set', 'electric bass', 'female singer', 'male singer', 'oboe', 'piano', 'synthesizer', 'tack piano', 'trumpet', 'vibraphone', 'viola', 'violin', 'vocalists']\n",
      "loading model...\n",
      "building task...\n",
      "running task\n",
      "found checkpoint: /home/hugo/lab/mono_music_sed/instrument_recognition/logs/experiment-MIXUP-09.12.2020/openl3-mlp-MIXUP-alpha=0.4/version_0/checkpoints/epoch=12-fscore_val=0.71.ckpt\n",
      "Test tube created git tag: tt_openl3-mlp-MIXUP-alpha=0.4_v0\n"
     ]
    },
    {
     "data": {
      "application/vnd.jupyter.widget-view+json": {
       "model_id": "0ed0821ed8374d689d3958d152f0ac54",
       "version_major": 2,
       "version_minor": 0
      },
      "text/plain": [
       "HBox(children=(HTML(value='Testing'), FloatProgress(value=1.0, bar_style='info', layout=Layout(flex='2'), max=…"
      ]
     },
     "metadata": {},
     "output_type": "display_data"
    },
    {
     "name": "stdout",
     "output_type": "stream",
     "text": [
      "--------------------------------------------------------------------------------\n",
      "DATALOADER:0 TEST RESULTS\n",
      "{'ECE/test': 0.025207600687635816,\n",
      " 'accuracy/test': 0.7146325353897784,\n",
      " 'fscore/test': 0.7146325353897784,\n",
      " 'fscore_test': 0.7146325353897784,\n",
      " 'loss/test': tensor(1.0377),\n",
      " 'precision/test': 0.7146325353897784,\n",
      " 'recall/test': 0.7146325353897784}\n",
      "--------------------------------------------------------------------------------\n",
      "\n",
      "{'accuracy/test': 0.7146325353897784, 'precision/test': 0.7146325353897784, 'recall/test': 0.7146325353897784, 'fscore/test': 0.7146325353897784, 'fscore_test': 0.7146325353897784, 'ECE/test': 0.025207600687635816, 'loss/test': 1.0377252101898193, 'batch_size': 512, 'num_workers': 20, 'learning_rate': 0.0003, 'weighted_cross_entropy': True, 'dropout': 0.1, 'random_seed': 20, 'max_epochs': 100, 'log_dir': '/home/hugo/lab/mono_music_sed/instrument_recognition/logs/experiment-MIXUP-09.12.2020', 'version': 0, 'gpuid': 2, 'trainer_kwargs': {}, 'name': 'openl3-mlp-MIXUP-alpha=0.4', 'path_to_data': '/home/hugo/data/mono_music_sed/mdb/EMBEDDINGS', 'use_npy': True, 'model_name': 'mlp-6144', 'mixup': True, 'mixup_alpha': 0.4}\n",
      "loading datamodule...\n"
     ]
    },
    {
     "name": "stderr",
     "output_type": "stream",
     "text": [
      "/home/hugo/lab/venv/lib/python3.6/site-packages/pytorch_lightning/utilities/distributed.py:45: UserWarning:\n",
      "\n",
      "Checkpoint directory /home/hugo/lab/mono_music_sed/instrument_recognition/logs/experiment-MIXUP-09.12.2020/openl3-mlp-MIXUP-alpha=0.0/version_0/checkpoints exists and is not empty. With save_top_k=3, all files in this directory will be deleted when a checkpoint is saved!\n",
      "\n",
      "GPU available: True, used: True\n",
      "INFO:lightning:GPU available: True, used: True\n",
      "TPU available: False, using: 0 TPU cores\n",
      "INFO:lightning:TPU available: False, using: 0 TPU cores\n",
      "LOCAL_RANK: 0 - CUDA_VISIBLE_DEVICES: [0,1,2]\n",
      "INFO:lightning:LOCAL_RANK: 0 - CUDA_VISIBLE_DEVICES: [0,1,2]\n"
     ]
    },
    {
     "name": "stdout",
     "output_type": "stream",
     "text": [
      "train entries: 288692\n",
      "val entries: 56019\n",
      "classlist is: ['acoustic guitar', 'auxiliary percussion', 'brass section', 'cello', 'clean electric guitar', 'distorted electric guitar', 'double bass', 'drum set', 'electric bass', 'female singer', 'male singer', 'oboe', 'piano', 'synthesizer', 'tack piano', 'trumpet', 'vibraphone', 'viola', 'violin', 'vocalists']\n",
      "loading model...\n",
      "building task...\n",
      "running task\n",
      "found checkpoint: /home/hugo/lab/mono_music_sed/instrument_recognition/logs/experiment-MIXUP-09.12.2020/openl3-mlp-MIXUP-alpha=0.0/version_0/checkpoints/epoch=69-fscore_val=0.70.ckpt\n",
      "Test tube created git tag: tt_openl3-mlp-MIXUP-alpha=0.0_v0\n"
     ]
    },
    {
     "data": {
      "application/vnd.jupyter.widget-view+json": {
       "model_id": "79ee90fea3ff4db88bbe359d4149b443",
       "version_major": 2,
       "version_minor": 0
      },
      "text/plain": [
       "HBox(children=(HTML(value='Testing'), FloatProgress(value=1.0, bar_style='info', layout=Layout(flex='2'), max=…"
      ]
     },
     "metadata": {},
     "output_type": "display_data"
    }
   ],
   "source": [
    "import pandas as pd\n",
    "from instrument_recognition.train import run_trial\n",
    "\n",
    "# test each trial and gather results\n",
    "results = []\n",
    "models = []\n",
    "for trial_dict in trial_dicts:\n",
    "    task, result = run_trial(trial_dict, test=True)\n",
    "    result = result[0]\n",
    "    result.update(trial_dict)\n",
    "    print(result)\n",
    "    results.append(result)\n",
    "    models.append(task.model)\n",
    "\n",
    "# lets take a look at what results we have available!\n",
    "result_df = pd.DataFrame.from_records(results)\n",
    "result_df"
   ]
  },
  {
   "cell_type": "code",
   "execution_count": 13,
   "metadata": {},
   "outputs": [
    {
     "data": {
      "text/html": [
       "<div>\n",
       "<style scoped>\n",
       "    .dataframe tbody tr th:only-of-type {\n",
       "        vertical-align: middle;\n",
       "    }\n",
       "\n",
       "    .dataframe tbody tr th {\n",
       "        vertical-align: top;\n",
       "    }\n",
       "\n",
       "    .dataframe thead th {\n",
       "        text-align: right;\n",
       "    }\n",
       "</style>\n",
       "<table border=\"1\" class=\"dataframe\">\n",
       "  <thead>\n",
       "    <tr style=\"text-align: right;\">\n",
       "      <th></th>\n",
       "      <th>accuracy/test</th>\n",
       "      <th>precision/test</th>\n",
       "      <th>recall/test</th>\n",
       "      <th>fscore/test</th>\n",
       "      <th>fscore_test</th>\n",
       "      <th>ECE/test</th>\n",
       "      <th>loss/test</th>\n",
       "      <th>batch_size</th>\n",
       "      <th>num_workers</th>\n",
       "      <th>learning_rate</th>\n",
       "      <th>...</th>\n",
       "      <th>log_dir</th>\n",
       "      <th>version</th>\n",
       "      <th>gpuid</th>\n",
       "      <th>trainer_kwargs</th>\n",
       "      <th>name</th>\n",
       "      <th>path_to_data</th>\n",
       "      <th>use_npy</th>\n",
       "      <th>model_name</th>\n",
       "      <th>mixup</th>\n",
       "      <th>mixup_alpha</th>\n",
       "    </tr>\n",
       "  </thead>\n",
       "  <tbody>\n",
       "    <tr>\n",
       "      <th>0</th>\n",
       "      <td>0.703940</td>\n",
       "      <td>0.703940</td>\n",
       "      <td>0.703940</td>\n",
       "      <td>0.703940</td>\n",
       "      <td>0.703940</td>\n",
       "      <td>0.061224</td>\n",
       "      <td>1.078414</td>\n",
       "      <td>512</td>\n",
       "      <td>20</td>\n",
       "      <td>0.0003</td>\n",
       "      <td>...</td>\n",
       "      <td>/home/hugo/lab/mono_music_sed/instrument_recog...</td>\n",
       "      <td>0</td>\n",
       "      <td>2</td>\n",
       "      <td>{}</td>\n",
       "      <td>openl3-mlp-MIXUP-alpha=0.2</td>\n",
       "      <td>/home/hugo/data/mono_music_sed/mdb/EMBEDDINGS</td>\n",
       "      <td>True</td>\n",
       "      <td>mlp-6144</td>\n",
       "      <td>True</td>\n",
       "      <td>0.2</td>\n",
       "    </tr>\n",
       "    <tr>\n",
       "      <th>1</th>\n",
       "      <td>0.688641</td>\n",
       "      <td>0.688641</td>\n",
       "      <td>0.688641</td>\n",
       "      <td>0.688641</td>\n",
       "      <td>0.688641</td>\n",
       "      <td>0.049746</td>\n",
       "      <td>1.099299</td>\n",
       "      <td>512</td>\n",
       "      <td>20</td>\n",
       "      <td>0.0003</td>\n",
       "      <td>...</td>\n",
       "      <td>/home/hugo/lab/mono_music_sed/instrument_recog...</td>\n",
       "      <td>0</td>\n",
       "      <td>2</td>\n",
       "      <td>{}</td>\n",
       "      <td>openl3-mlp-MIXUP-alpha=0.6</td>\n",
       "      <td>/home/hugo/data/mono_music_sed/mdb/EMBEDDINGS</td>\n",
       "      <td>True</td>\n",
       "      <td>mlp-6144</td>\n",
       "      <td>True</td>\n",
       "      <td>0.6</td>\n",
       "    </tr>\n",
       "    <tr>\n",
       "      <th>2</th>\n",
       "      <td>0.697299</td>\n",
       "      <td>0.697299</td>\n",
       "      <td>0.697299</td>\n",
       "      <td>0.697299</td>\n",
       "      <td>0.697299</td>\n",
       "      <td>0.036848</td>\n",
       "      <td>1.088283</td>\n",
       "      <td>512</td>\n",
       "      <td>20</td>\n",
       "      <td>0.0003</td>\n",
       "      <td>...</td>\n",
       "      <td>/home/hugo/lab/mono_music_sed/instrument_recog...</td>\n",
       "      <td>0</td>\n",
       "      <td>2</td>\n",
       "      <td>{}</td>\n",
       "      <td>openl3-mlp-MIXUP-alpha=0.5</td>\n",
       "      <td>/home/hugo/data/mono_music_sed/mdb/EMBEDDINGS</td>\n",
       "      <td>True</td>\n",
       "      <td>mlp-6144</td>\n",
       "      <td>True</td>\n",
       "      <td>0.5</td>\n",
       "    </tr>\n",
       "    <tr>\n",
       "      <th>3</th>\n",
       "      <td>0.694675</td>\n",
       "      <td>0.694675</td>\n",
       "      <td>0.694675</td>\n",
       "      <td>0.694675</td>\n",
       "      <td>0.694675</td>\n",
       "      <td>0.033127</td>\n",
       "      <td>1.129928</td>\n",
       "      <td>512</td>\n",
       "      <td>20</td>\n",
       "      <td>0.0003</td>\n",
       "      <td>...</td>\n",
       "      <td>/home/hugo/lab/mono_music_sed/instrument_recog...</td>\n",
       "      <td>0</td>\n",
       "      <td>2</td>\n",
       "      <td>{}</td>\n",
       "      <td>openl3-mlp-MIXUP-alpha=0.7</td>\n",
       "      <td>/home/hugo/data/mono_music_sed/mdb/EMBEDDINGS</td>\n",
       "      <td>True</td>\n",
       "      <td>mlp-6144</td>\n",
       "      <td>True</td>\n",
       "      <td>0.7</td>\n",
       "    </tr>\n",
       "    <tr>\n",
       "      <th>4</th>\n",
       "      <td>0.700262</td>\n",
       "      <td>0.700262</td>\n",
       "      <td>0.700262</td>\n",
       "      <td>0.700262</td>\n",
       "      <td>0.700262</td>\n",
       "      <td>0.118975</td>\n",
       "      <td>1.159086</td>\n",
       "      <td>512</td>\n",
       "      <td>20</td>\n",
       "      <td>0.0003</td>\n",
       "      <td>...</td>\n",
       "      <td>/home/hugo/lab/mono_music_sed/instrument_recog...</td>\n",
       "      <td>0</td>\n",
       "      <td>2</td>\n",
       "      <td>{}</td>\n",
       "      <td>openl3-mlp-MIXUP-alpha=0.1</td>\n",
       "      <td>/home/hugo/data/mono_music_sed/mdb/EMBEDDINGS</td>\n",
       "      <td>True</td>\n",
       "      <td>mlp-6144</td>\n",
       "      <td>True</td>\n",
       "      <td>0.1</td>\n",
       "    </tr>\n",
       "    <tr>\n",
       "      <th>5</th>\n",
       "      <td>0.702744</td>\n",
       "      <td>0.702744</td>\n",
       "      <td>0.702744</td>\n",
       "      <td>0.702744</td>\n",
       "      <td>0.702744</td>\n",
       "      <td>0.047512</td>\n",
       "      <td>1.162654</td>\n",
       "      <td>512</td>\n",
       "      <td>20</td>\n",
       "      <td>0.0003</td>\n",
       "      <td>...</td>\n",
       "      <td>/home/hugo/lab/mono_music_sed/instrument_recog...</td>\n",
       "      <td>0</td>\n",
       "      <td>2</td>\n",
       "      <td>{}</td>\n",
       "      <td>openl3-mlp-MIXUP-alpha=0.3</td>\n",
       "      <td>/home/hugo/data/mono_music_sed/mdb/EMBEDDINGS</td>\n",
       "      <td>True</td>\n",
       "      <td>mlp-6144</td>\n",
       "      <td>True</td>\n",
       "      <td>0.3</td>\n",
       "    </tr>\n",
       "    <tr>\n",
       "      <th>6</th>\n",
       "      <td>0.714633</td>\n",
       "      <td>0.714633</td>\n",
       "      <td>0.714633</td>\n",
       "      <td>0.714633</td>\n",
       "      <td>0.714633</td>\n",
       "      <td>0.025208</td>\n",
       "      <td>1.037725</td>\n",
       "      <td>512</td>\n",
       "      <td>20</td>\n",
       "      <td>0.0003</td>\n",
       "      <td>...</td>\n",
       "      <td>/home/hugo/lab/mono_music_sed/instrument_recog...</td>\n",
       "      <td>0</td>\n",
       "      <td>2</td>\n",
       "      <td>{}</td>\n",
       "      <td>openl3-mlp-MIXUP-alpha=0.4</td>\n",
       "      <td>/home/hugo/data/mono_music_sed/mdb/EMBEDDINGS</td>\n",
       "      <td>True</td>\n",
       "      <td>mlp-6144</td>\n",
       "      <td>True</td>\n",
       "      <td>0.4</td>\n",
       "    </tr>\n",
       "    <tr>\n",
       "      <th>7</th>\n",
       "      <td>0.703922</td>\n",
       "      <td>0.703922</td>\n",
       "      <td>0.703922</td>\n",
       "      <td>0.703922</td>\n",
       "      <td>0.703922</td>\n",
       "      <td>0.244783</td>\n",
       "      <td>2.490265</td>\n",
       "      <td>512</td>\n",
       "      <td>20</td>\n",
       "      <td>0.0003</td>\n",
       "      <td>...</td>\n",
       "      <td>/home/hugo/lab/mono_music_sed/instrument_recog...</td>\n",
       "      <td>0</td>\n",
       "      <td>2</td>\n",
       "      <td>{}</td>\n",
       "      <td>openl3-mlp-MIXUP-alpha=0.0</td>\n",
       "      <td>/home/hugo/data/mono_music_sed/mdb/EMBEDDINGS</td>\n",
       "      <td>True</td>\n",
       "      <td>mlp-6144</td>\n",
       "      <td>False</td>\n",
       "      <td>0.0</td>\n",
       "    </tr>\n",
       "  </tbody>\n",
       "</table>\n",
       "<p>8 rows × 24 columns</p>\n",
       "</div>"
      ],
      "text/plain": [
       "   accuracy/test  precision/test  recall/test  fscore/test  fscore_test  \\\n",
       "0       0.703940        0.703940     0.703940     0.703940     0.703940   \n",
       "1       0.688641        0.688641     0.688641     0.688641     0.688641   \n",
       "2       0.697299        0.697299     0.697299     0.697299     0.697299   \n",
       "3       0.694675        0.694675     0.694675     0.694675     0.694675   \n",
       "4       0.700262        0.700262     0.700262     0.700262     0.700262   \n",
       "5       0.702744        0.702744     0.702744     0.702744     0.702744   \n",
       "6       0.714633        0.714633     0.714633     0.714633     0.714633   \n",
       "7       0.703922        0.703922     0.703922     0.703922     0.703922   \n",
       "\n",
       "   ECE/test  loss/test  batch_size  num_workers  learning_rate  ...  \\\n",
       "0  0.061224   1.078414         512           20         0.0003  ...   \n",
       "1  0.049746   1.099299         512           20         0.0003  ...   \n",
       "2  0.036848   1.088283         512           20         0.0003  ...   \n",
       "3  0.033127   1.129928         512           20         0.0003  ...   \n",
       "4  0.118975   1.159086         512           20         0.0003  ...   \n",
       "5  0.047512   1.162654         512           20         0.0003  ...   \n",
       "6  0.025208   1.037725         512           20         0.0003  ...   \n",
       "7  0.244783   2.490265         512           20         0.0003  ...   \n",
       "\n",
       "                                             log_dir  version  gpuid  \\\n",
       "0  /home/hugo/lab/mono_music_sed/instrument_recog...        0      2   \n",
       "1  /home/hugo/lab/mono_music_sed/instrument_recog...        0      2   \n",
       "2  /home/hugo/lab/mono_music_sed/instrument_recog...        0      2   \n",
       "3  /home/hugo/lab/mono_music_sed/instrument_recog...        0      2   \n",
       "4  /home/hugo/lab/mono_music_sed/instrument_recog...        0      2   \n",
       "5  /home/hugo/lab/mono_music_sed/instrument_recog...        0      2   \n",
       "6  /home/hugo/lab/mono_music_sed/instrument_recog...        0      2   \n",
       "7  /home/hugo/lab/mono_music_sed/instrument_recog...        0      2   \n",
       "\n",
       "   trainer_kwargs                        name  \\\n",
       "0              {}  openl3-mlp-MIXUP-alpha=0.2   \n",
       "1              {}  openl3-mlp-MIXUP-alpha=0.6   \n",
       "2              {}  openl3-mlp-MIXUP-alpha=0.5   \n",
       "3              {}  openl3-mlp-MIXUP-alpha=0.7   \n",
       "4              {}  openl3-mlp-MIXUP-alpha=0.1   \n",
       "5              {}  openl3-mlp-MIXUP-alpha=0.3   \n",
       "6              {}  openl3-mlp-MIXUP-alpha=0.4   \n",
       "7              {}  openl3-mlp-MIXUP-alpha=0.0   \n",
       "\n",
       "                                    path_to_data  use_npy model_name  mixup  \\\n",
       "0  /home/hugo/data/mono_music_sed/mdb/EMBEDDINGS     True   mlp-6144   True   \n",
       "1  /home/hugo/data/mono_music_sed/mdb/EMBEDDINGS     True   mlp-6144   True   \n",
       "2  /home/hugo/data/mono_music_sed/mdb/EMBEDDINGS     True   mlp-6144   True   \n",
       "3  /home/hugo/data/mono_music_sed/mdb/EMBEDDINGS     True   mlp-6144   True   \n",
       "4  /home/hugo/data/mono_music_sed/mdb/EMBEDDINGS     True   mlp-6144   True   \n",
       "5  /home/hugo/data/mono_music_sed/mdb/EMBEDDINGS     True   mlp-6144   True   \n",
       "6  /home/hugo/data/mono_music_sed/mdb/EMBEDDINGS     True   mlp-6144   True   \n",
       "7  /home/hugo/data/mono_music_sed/mdb/EMBEDDINGS     True   mlp-6144  False   \n",
       "\n",
       "  mixup_alpha  \n",
       "0         0.2  \n",
       "1         0.6  \n",
       "2         0.5  \n",
       "3         0.7  \n",
       "4         0.1  \n",
       "5         0.3  \n",
       "6         0.4  \n",
       "7         0.0  \n",
       "\n",
       "[8 rows x 24 columns]"
      ]
     },
     "execution_count": 13,
     "metadata": {},
     "output_type": "execute_result"
    }
   ],
   "source": [
    "result_df"
   ]
  },
  {
   "cell_type": "code",
   "execution_count": 14,
   "metadata": {},
   "outputs": [
    {
     "data": {
      "text/plain": [
       "MLP6144(\n",
       "  (fc): Sequential(\n",
       "    (0): BatchNorm1d(6144, eps=1e-05, momentum=0.1, affine=True, track_running_stats=True)\n",
       "    (1): Linear(in_features=6144, out_features=512, bias=True)\n",
       "    (2): ReLU()\n",
       "    (3): Dropout(p=0.1, inplace=False)\n",
       "    (4): BatchNorm1d(512, eps=1e-05, momentum=0.1, affine=True, track_running_stats=True)\n",
       "    (5): Linear(in_features=512, out_features=128, bias=True)\n",
       "    (6): ReLU()\n",
       "    (7): Dropout(p=0.1, inplace=False)\n",
       "    (8): BatchNorm1d(128, eps=1e-05, momentum=0.1, affine=True, track_running_stats=True)\n",
       "    (9): Linear(in_features=128, out_features=20, bias=True)\n",
       "  )\n",
       ")"
      ]
     },
     "execution_count": 14,
     "metadata": {},
     "output_type": "execute_result"
    }
   ],
   "source": [
    "target_exp = 'openl3-mlp-MIXUP-alpha=0.4'\n",
    "for model, result in zip(models, results):\n",
    "    if result['name'] == target_exp:\n",
    "        target_model = model\n",
    "        \n",
    "mlp = target_model\n",
    "mlp"
   ]
  },
  {
   "cell_type": "code",
   "execution_count": 13,
   "metadata": {},
   "outputs": [
    {
     "data": {
      "text/plain": [
       "Sequential(\n",
       "  (0): OpenL3Embedding(\n",
       "    (filters): Melspectrogram(\n",
       "      (conv1d_real): Conv1d(1, 1025, kernel_size=(2048,), stride=(242,), padding=(1101,), bias=False)\n",
       "      (conv1d_imag): Conv1d(1, 1025, kernel_size=(2048,), stride=(242,), padding=(1101,), bias=False)\n",
       "      (freq2mel): Linear(in_features=1025, out_features=128, bias=False)\n",
       "    )\n",
       "    (openl3): OpenL3Mel128(\n",
       "      (batch_normalization_1): BatchNorm2d(1, eps=0.0010000000474974513, momentum=0.5, affine=True, track_running_stats=True)\n",
       "      (conv2d_1): Conv2d(1, 64, kernel_size=(3, 3), stride=(1, 1))\n",
       "      (batch_normalization_2): BatchNorm2d(64, eps=0.0010000000474974513, momentum=0.5, affine=True, track_running_stats=True)\n",
       "      (conv2d_2): Conv2d(64, 64, kernel_size=(3, 3), stride=(1, 1))\n",
       "      (batch_normalization_3): BatchNorm2d(64, eps=0.0010000000474974513, momentum=0.5, affine=True, track_running_stats=True)\n",
       "      (conv2d_3): Conv2d(64, 128, kernel_size=(3, 3), stride=(1, 1))\n",
       "      (batch_normalization_4): BatchNorm2d(128, eps=0.0010000000474974513, momentum=0.5, affine=True, track_running_stats=True)\n",
       "      (conv2d_4): Conv2d(128, 128, kernel_size=(3, 3), stride=(1, 1))\n",
       "      (batch_normalization_5): BatchNorm2d(128, eps=0.0010000000474974513, momentum=0.5, affine=True, track_running_stats=True)\n",
       "      (conv2d_5): Conv2d(128, 256, kernel_size=(3, 3), stride=(1, 1))\n",
       "      (batch_normalization_6): BatchNorm2d(256, eps=0.0010000000474974513, momentum=0.5, affine=True, track_running_stats=True)\n",
       "      (conv2d_6): Conv2d(256, 256, kernel_size=(3, 3), stride=(1, 1))\n",
       "      (batch_normalization_7): BatchNorm2d(256, eps=0.0010000000474974513, momentum=0.5, affine=True, track_running_stats=True)\n",
       "      (conv2d_7): Conv2d(256, 512, kernel_size=(3, 3), stride=(1, 1))\n",
       "      (batch_normalization_8): BatchNorm2d(512, eps=0.0010000000474974513, momentum=0.5, affine=True, track_running_stats=True)\n",
       "      (audio_embedding_layer): Conv2d(512, 512, kernel_size=(3, 3), stride=(1, 1))\n",
       "      (maxpool): MaxPool2d(kernel_size=(4, 8), stride=(4, 8), padding=0, dilation=1, ceil_mode=False)\n",
       "    )\n",
       "    (flatten): Flatten(start_dim=1, end_dim=-1)\n",
       "  )\n",
       "  (1): MLP6144(\n",
       "    (fc): Sequential(\n",
       "      (0): BatchNorm1d(6144, eps=1e-05, momentum=0.1, affine=True, track_running_stats=True)\n",
       "      (1): Linear(in_features=6144, out_features=512, bias=True)\n",
       "      (2): ReLU()\n",
       "      (3): Dropout(p=0.1, inplace=False)\n",
       "      (4): BatchNorm1d(512, eps=1e-05, momentum=0.1, affine=True, track_running_stats=True)\n",
       "      (5): Linear(in_features=512, out_features=128, bias=True)\n",
       "      (6): ReLU()\n",
       "      (7): Dropout(p=0.1, inplace=False)\n",
       "      (8): BatchNorm1d(128, eps=1e-05, momentum=0.1, affine=True, track_running_stats=True)\n",
       "      (9): Linear(in_features=128, out_features=20, bias=True)\n",
       "    )\n",
       "  )\n",
       "  (2): Softmax(dim=1)\n",
       ")"
      ]
     },
     "execution_count": 13,
     "metadata": {},
     "output_type": "execute_result"
    }
   ],
   "source": [
    "from instrument_recognition.models.torchopenl3 import OpenL3Embedding\n",
    "from torch import nn\n",
    "\n",
    "embedding = OpenL3Embedding(128, 6144, pretrained=True, use_spectrogram_input=False)\n",
    "\n",
    "model = nn.Sequential(embedding, mlp, nn.Softmax(dim=1))\n",
    "model = model.cpu()\n",
    "model.eval()"
   ]
  },
  {
   "cell_type": "code",
   "execution_count": 15,
   "metadata": {},
   "outputs": [],
   "source": [
    "from instrument_recognition.utils.train import save_torchscript_model\n",
    "import torch \n",
    "\n",
    "save_path = target_exp+'.pt'\n",
    "audio = torch.randn((10, 1, 48000))\n",
    "\n",
    "traced_module = torch.jit.trace(model, audio)\n",
    "sm = torch.jit.script(traced_module)\n",
    "torch.jit.save(sm, save_path)\n"
   ]
  },
  {
   "cell_type": "code",
   "execution_count": null,
   "metadata": {},
   "outputs": [],
   "source": []
  }
 ],
 "metadata": {
  "kernelspec": {
   "display_name": "Python 3",
   "language": "python",
   "name": "python3"
  },
  "language_info": {
   "codemirror_mode": {
    "name": "ipython",
    "version": 3
   },
   "file_extension": ".py",
   "mimetype": "text/x-python",
   "name": "python",
   "nbconvert_exporter": "python",
   "pygments_lexer": "ipython3",
   "version": "3.6.9"
  }
 },
 "nbformat": 4,
 "nbformat_minor": 4
}
