{
 "cells": [
  {
   "cell_type": "markdown",
   "metadata": {},
   "source": [
    "## Experiments on Instrument Detection Models\n",
    "\n",
    "11/30/2020\n",
    "\n",
    "Evaluation Metrics: F1 score, Expected Calibration Error (ECE)"
   ]
  },
  {
   "cell_type": "code",
   "execution_count": 8,
   "metadata": {},
   "outputs": [
    {
     "name": "stdout",
     "output_type": "stream",
     "text": [
      "The autoreload extension is already loaded. To reload it, use:\n",
      "  %reload_ext autoreload\n"
     ]
    }
   ],
   "source": [
    "# set up autoreload \n",
    "%load_ext autoreload\n",
    "%autoreload 2"
   ]
  },
  {
   "cell_type": "markdown",
   "metadata": {},
   "source": [
    "### define data paths"
   ]
  },
  {
   "cell_type": "code",
   "execution_count": 9,
   "metadata": {},
   "outputs": [],
   "source": [
    "# define paths to datamodules \n",
    "dm_paths = {\n",
    "    'audio': \n",
    "    '/home/hugo/CHONK/data/mdb-hop-0.25-chunk-1-AUGMENTED/splits-85-15-REMAPPED-testclean', \n",
    "    \n",
    "    'embeddings-512': \n",
    "    '/home/hugo/CHONK/data/mdb-hop-0.25-chunk-1-AUGMENTED-EMBEDDINGS-512/splits-85-15-REMAPPED-testclean', \n",
    "\n",
    "    'embeddings-6144':\n",
    "    '/home/hugo/CHONK/data/mdb-hop-0.25-chunk-1-AUGMENTED-EMBEDDINGS-6144/splits-85-15-REMAPPED-testclean'}\n"
   ]
  },
  {
   "cell_type": "markdown",
   "metadata": {},
   "source": [
    "### define a run_trial function"
   ]
  },
  {
   "cell_type": "code",
   "execution_count": 10,
   "metadata": {
    "jupyter": {
     "source_hidden": true
    }
   },
   "outputs": [],
   "source": [
    "%%capture\n",
    "from instrument_recognition.task import InstrumentDetectionTask, train_instrument_detection_model\n",
    "from instrument_recognition.models.zoo import load_model\n",
    "from instrument_recognition.datasets import load_datamodule\n",
    "import os\n",
    "import yaml\n",
    "\n",
    "def run_trial(exp_dict, test_only=False):\n",
    "\n",
    "    # load the datamodule\n",
    "    print(f'loading datamodule...')\n",
    "    dm = load_datamodule(path_to_data=exp_dict['path_to_data'], \n",
    "                         batch_size=exp_dict['batch_size'], \n",
    "                         num_workers=exp_dict['num_workers'],\n",
    "                         use_embeddings=exp_dict['use_embeddings'])\n",
    "    \n",
    "    # get classlist and number of classes\n",
    "    classlist = dm.get_classes()\n",
    "    num_output_units = len(classlist)\n",
    "    print(f'classlist is: {classlist}')\n",
    "\n",
    "    # load model\n",
    "    print(f'loading model...')\n",
    "    model = load_model(model_name=exp_dict['model_name'], \n",
    "                       output_units=num_output_units, \n",
    "                       dropout=exp_dict['dropout'], \n",
    "                       random_seed=exp_dict['random_seed'])\n",
    "    \n",
    "    # build task\n",
    "    print(f'building task...')\n",
    "    task = InstrumentDetectionTask(model, dm, \n",
    "                            max_epochs=exp_dict['max_epochs'],\n",
    "                            learning_rate=exp_dict['learning_rate'], \n",
    "                            weighted_cross_entropy=exp_dict['weighted_cross_entropy'], \n",
    "                            mixup=exp_dict['mixup'],\n",
    "                            mixup_alpha=exp_dict['mixup_alpha'], \n",
    "                            log_epoch_metrics=True)\n",
    "    \n",
    "    # run train fn and get back test results\n",
    "    print(f'running task')\n",
    "    result = train_instrument_detection_model(task, \n",
    "                                    name=exp_dict['name'], \n",
    "                                    version=exp_dict['version'], \n",
    "                                    gpuid=exp_dict['gpuid'], \n",
    "                                    max_epochs=exp_dict['max_epochs'],\n",
    "                                    random_seed=exp_dict['random_seed'], \n",
    "                                    log_dir=exp_dict['log_dir'],\n",
    "                                    test_only=test_only,\n",
    "                                    **exp_dict['trainer_kwargs'])\n",
    "\n",
    "    # save exp_dict to yaml file for easy reloading\n",
    "    with open(os.path.join(exp_dict['log_dir'], 'exp_dict.yaml'), 'w') as f:\n",
    "        yaml.dump(exp_dict, f)\n",
    "    \n",
    "    result = result[0]\n",
    "\n",
    "    return result"
   ]
  },
  {
   "cell_type": "markdown",
   "metadata": {},
   "source": [
    "### define fixed hyperparameters\n",
    "\n",
    "we won't change these (except for the batch size in raw audio models)"
   ]
  },
  {
   "cell_type": "code",
   "execution_count": 11,
   "metadata": {},
   "outputs": [],
   "source": [
    "import datetime\n",
    "import os\n",
    "now = datetime.datetime.now().strftime(\"%d.%m.%Y\")\n",
    "log_dir = os.path.join('logs', f'experiment-uncertainty-{now}')\n",
    "# log_dir = os.path.join('logs', 'experiment-02.12.2020')\n",
    "\n",
    "# define experiment\n",
    "FIXED = dict(batch_size=128*3, num_workers=20, learning_rate=3e-4,\n",
    "             weighted_cross_entropy=True, dropout=0.5, random_seed=20, \n",
    "             max_epochs=80, log_dir=log_dir,  version=0,  gpuid=-1,\n",
    "             trainer_kwargs={}) \n",
    "    \n",
    "def make_trial(trial_dict):\n",
    "    \"\"\" creates a dict with fixed hyperparams\n",
    "    and then adds trial_dict on top\n",
    "    \"\"\"\n",
    "    exp_dict = dict(FIXED) \n",
    "    exp_dict.update(trial_dict)\n",
    "    return exp_dict\n"
   ]
  },
  {
   "cell_type": "markdown",
   "metadata": {},
   "source": [
    "### define all trials"
   ]
  },
  {
   "cell_type": "code",
   "execution_count": 12,
   "metadata": {},
   "outputs": [],
   "source": [
    "trials = [\n",
    "    dict(name='openl3-mlp-ERM',\n",
    "    path_to_data=dm_paths['embeddings-6144'],\n",
    "    use_embeddings= True, \n",
    "    model_name='mlp-6144',\n",
    "    mixup=False,\n",
    "    mixup_alpha=0), \n",
    "    \n",
    "    dict(name='openl3-mlp-MIXUP-alpha=0.2',\n",
    "    path_to_data=dm_paths['embeddings-6144'],\n",
    "    use_embeddings= True, \n",
    "    model_name='mlp-6144',\n",
    "    mixup=True,\n",
    "    mixup_alpha=0.2),\n",
    "    \n",
    "    dict(name='openl3-mlp-MIXUP-alpha=0.4',\n",
    "    path_to_data=dm_paths['embeddings-6144'],\n",
    "    use_embeddings= True, \n",
    "    model_name='mlp-6144',\n",
    "    mixup=True,\n",
    "    mixup_alpha=0.4), \n",
    "    \n",
    "    dict(name='openl3-mlp-ERM-ensemble-4',\n",
    "    path_to_data=dm_paths['embeddings-6144'],\n",
    "    use_embeddings= True, \n",
    "    model_name='mlp-6144-ensemble-4',\n",
    "    mixup=False,\n",
    "    mixup_alpha=0), \n",
    "    \n",
    "    dict(name='openl3-mlp-MIXUP-alpha=0.2-ensemble-4',\n",
    "    path_to_data=dm_paths['embeddings-6144'],\n",
    "    use_embeddings= True, \n",
    "    model_name='mlp-6144-ensemble-4',\n",
    "    mixup=True,\n",
    "    mixup_alpha=0.2),\n",
    "    \n",
    "\n",
    "]\n",
    "trials = {t['name']: make_trial(t) for t in trials}"
   ]
  },
  {
   "cell_type": "markdown",
   "metadata": {},
   "source": [
    "## train models!! :) "
   ]
  },
  {
   "cell_type": "code",
   "execution_count": 13,
   "metadata": {},
   "outputs": [
    {
     "name": "stdout",
     "output_type": "stream",
     "text": [
      "openl3-mlp-ERM\n",
      "openl3-mlp-MIXUP-alpha=0.2\n",
      "openl3-mlp-MIXUP-alpha=0.4\n",
      "openl3-mlp-ERM-ensemble-4\n",
      "openl3-mlp-MIXUP-alpha=0.2-ensemble-4\n"
     ]
    }
   ],
   "source": [
    "# run me too see what trials I can run\n",
    "for k in trials:\n",
    "    print(k)"
   ]
  },
  {
   "cell_type": "code",
   "execution_count": null,
   "metadata": {
    "collapsed": true
   },
   "outputs": [
    {
     "name": "stdout",
     "output_type": "stream",
     "text": [
      "loading datamodule...\n",
      "medley db path: /home/hugo/data/medleydb\n"
     ]
    },
    {
     "name": "stderr",
     "output_type": "stream",
     "text": [
      "/home/hugo/lab/venv/lib/python3.6/site-packages/medleydb/__init__.py:65: YAMLLoadWarning:\n",
      "\n",
      "calling yaml.load() without Loader=... is deprecated, as the default Loader is unsafe. Please read https://msg.pyyaml.org/load for full details.\n",
      "\n",
      "/home/hugo/lab/venv/lib/python3.6/site-packages/medleydb/__init__.py:73: YAMLLoadWarning:\n",
      "\n",
      "calling yaml.load() without Loader=... is deprecated, as the default Loader is unsafe. Please read https://msg.pyyaml.org/load for full details.\n",
      "\n",
      "INFO:lightning:GPU available: True, used: True\n",
      "INFO:lightning:TPU available: False, using: 0 TPU cores\n",
      "INFO:lightning:LOCAL_RANK: 0 - CUDA_VISIBLE_DEVICES: [0,1,2]\n",
      "INFO:lightning:Using native 16bit precision.\n"
     ]
    },
    {
     "name": "stdout",
     "output_type": "stream",
     "text": [
      "train entries: 288692\n",
      "val entries: 14005\n",
      "classlist is: ['acoustic guitar', 'auxiliary percussion', 'brass section', 'cello', 'clean electric guitar', 'distorted electric guitar', 'double bass', 'drum set', 'electric bass', 'female singer', 'male singer', 'oboe', 'piano', 'synthesizer', 'tack piano', 'trumpet', 'vibraphone', 'viola', 'violin', 'vocalists']\n",
      "loading model...\n",
      "building task...\n",
      "running task\n"
     ]
    },
    {
     "name": "stderr",
     "output_type": "stream",
     "text": [
      "/home/hugo/lab/venv/lib/python3.6/site-packages/torch/nn/parallel/data_parallel.py:30: UserWarning:\n",
      "\n",
      "\n",
      "    There is an imbalance between your GPUs. You may want to exclude GPU 1 which\n",
      "    has less than 75% of the memory or cores of GPU 0. You can do so by setting\n",
      "    the device_ids argument to DataParallel, or by setting the CUDA_VISIBLE_DEVICES\n",
      "    environment variable.\n",
      "\n",
      "INFO:lightning:\n",
      "   | Name       | Type        | Params\n",
      "--------------------------------------------\n",
      "0  | model      | MLP6144     | 3 M   \n",
      "1  | model.fc   | Sequential  | 3 M   \n",
      "2  | model.fc.0 | BatchNorm1d | 12 K  \n",
      "3  | model.fc.1 | Linear      | 3 M   \n",
      "4  | model.fc.2 | ReLU        | 0     \n",
      "5  | model.fc.3 | Dropout     | 0     \n",
      "6  | model.fc.4 | BatchNorm1d | 1 K   \n",
      "7  | model.fc.5 | Linear      | 65 K  \n",
      "8  | model.fc.6 | ReLU        | 0     \n",
      "9  | model.fc.7 | Dropout     | 0     \n",
      "10 | model.fc.8 | BatchNorm1d | 256   \n",
      "11 | model.fc.9 | Linear      | 2 K   \n"
     ]
    },
    {
     "name": "stdout",
     "output_type": "stream",
     "text": [
      "Test tube created git tag: tt_openl3-mlp-ERM_v0\n"
     ]
    },
    {
     "data": {
      "application/vnd.jupyter.widget-view+json": {
       "model_id": "",
       "version_major": 2,
       "version_minor": 0
      },
      "text/plain": [
       "HBox(children=(HTML(value='Validation sanity check'), FloatProgress(value=1.0, bar_style='info', layout=Layout…"
      ]
     },
     "metadata": {},
     "output_type": "display_data"
    },
    {
     "data": {
      "application/vnd.jupyter.widget-view+json": {
       "model_id": "584686a372494383b697ccad7751c8fc",
       "version_major": 2,
       "version_minor": 0
      },
      "text/plain": [
       "HBox(children=(HTML(value='Training'), FloatProgress(value=1.0, bar_style='info', layout=Layout(flex='2'), max…"
      ]
     },
     "metadata": {},
     "output_type": "display_data"
    },
    {
     "name": "stderr",
     "output_type": "stream",
     "text": [
      "/home/hugo/lab/venv/lib/python3.6/site-packages/torch/nn/parallel/_functions.py:64: UserWarning:\n",
      "\n",
      "Was asked to gather along dimension 0, but all input tensors were scalars; will instead unsqueeze and return a vector.\n",
      "\n"
     ]
    },
    {
     "data": {
      "application/vnd.jupyter.widget-view+json": {
       "model_id": "",
       "version_major": 2,
       "version_minor": 0
      },
      "text/plain": [
       "HBox(children=(HTML(value='Validating'), FloatProgress(value=1.0, bar_style='info', layout=Layout(flex='2'), m…"
      ]
     },
     "metadata": {},
     "output_type": "display_data"
    },
    {
     "name": "stderr",
     "output_type": "stream",
     "text": [
      "INFO:lightning:Epoch 0: loss/val reached 1.07446 (best 1.07446), saving model to /home/hugo/lab/mono_music_sed/instrument_recognition/notebooks/logs/experiment-uncertainty-04.12.2020/openl3-mlp-ERM/version_0/checkpoints/epoch=00-loss_val=1.07.ckpt as top 3\n"
     ]
    },
    {
     "data": {
      "application/vnd.jupyter.widget-view+json": {
       "model_id": "",
       "version_major": 2,
       "version_minor": 0
      },
      "text/plain": [
       "HBox(children=(HTML(value='Validating'), FloatProgress(value=1.0, bar_style='info', layout=Layout(flex='2'), m…"
      ]
     },
     "metadata": {},
     "output_type": "display_data"
    },
    {
     "name": "stderr",
     "output_type": "stream",
     "text": [
      "INFO:lightning:Epoch 1: loss/val reached 0.90700 (best 0.90700), saving model to /home/hugo/lab/mono_music_sed/instrument_recognition/notebooks/logs/experiment-uncertainty-04.12.2020/openl3-mlp-ERM/version_0/checkpoints/epoch=01-loss_val=0.86.ckpt as top 3\n"
     ]
    },
    {
     "data": {
      "application/vnd.jupyter.widget-view+json": {
       "model_id": "",
       "version_major": 2,
       "version_minor": 0
      },
      "text/plain": [
       "HBox(children=(HTML(value='Validating'), FloatProgress(value=1.0, bar_style='info', layout=Layout(flex='2'), m…"
      ]
     },
     "metadata": {},
     "output_type": "display_data"
    },
    {
     "name": "stderr",
     "output_type": "stream",
     "text": [
      "INFO:lightning:Epoch 2: loss/val reached 1.01792 (best 0.90700), saving model to /home/hugo/lab/mono_music_sed/instrument_recognition/notebooks/logs/experiment-uncertainty-04.12.2020/openl3-mlp-ERM/version_0/checkpoints/epoch=02-loss_val=1.02.ckpt as top 3\n"
     ]
    },
    {
     "data": {
      "application/vnd.jupyter.widget-view+json": {
       "model_id": "",
       "version_major": 2,
       "version_minor": 0
      },
      "text/plain": [
       "HBox(children=(HTML(value='Validating'), FloatProgress(value=1.0, bar_style='info', layout=Layout(flex='2'), m…"
      ]
     },
     "metadata": {},
     "output_type": "display_data"
    },
    {
     "name": "stderr",
     "output_type": "stream",
     "text": [
      "INFO:lightning:Epoch 3: loss/val was not in top 3\n"
     ]
    },
    {
     "data": {
      "application/vnd.jupyter.widget-view+json": {
       "model_id": "",
       "version_major": 2,
       "version_minor": 0
      },
      "text/plain": [
       "HBox(children=(HTML(value='Validating'), FloatProgress(value=1.0, bar_style='info', layout=Layout(flex='2'), m…"
      ]
     },
     "metadata": {},
     "output_type": "display_data"
    },
    {
     "name": "stderr",
     "output_type": "stream",
     "text": [
      "INFO:lightning:Epoch 4: loss/val reached 0.94855 (best 0.90700), saving model to /home/hugo/lab/mono_music_sed/instrument_recognition/notebooks/logs/experiment-uncertainty-04.12.2020/openl3-mlp-ERM/version_0/checkpoints/epoch=04-loss_val=1.00.ckpt as top 3\n"
     ]
    },
    {
     "data": {
      "application/vnd.jupyter.widget-view+json": {
       "model_id": "",
       "version_major": 2,
       "version_minor": 0
      },
      "text/plain": [
       "HBox(children=(HTML(value='Validating'), FloatProgress(value=1.0, bar_style='info', layout=Layout(flex='2'), m…"
      ]
     },
     "metadata": {},
     "output_type": "display_data"
    },
    {
     "name": "stderr",
     "output_type": "stream",
     "text": [
      "INFO:lightning:Epoch 5: loss/val reached 1.00980 (best 0.90700), saving model to /home/hugo/lab/mono_music_sed/instrument_recognition/notebooks/logs/experiment-uncertainty-04.12.2020/openl3-mlp-ERM/version_0/checkpoints/epoch=05-loss_val=1.01.ckpt as top 3\n"
     ]
    },
    {
     "data": {
      "application/vnd.jupyter.widget-view+json": {
       "model_id": "",
       "version_major": 2,
       "version_minor": 0
      },
      "text/plain": [
       "HBox(children=(HTML(value='Validating'), FloatProgress(value=1.0, bar_style='info', layout=Layout(flex='2'), m…"
      ]
     },
     "metadata": {},
     "output_type": "display_data"
    },
    {
     "name": "stderr",
     "output_type": "stream",
     "text": [
      "INFO:lightning:Epoch 6: loss/val was not in top 3\n"
     ]
    }
   ],
   "source": [
    "# %%capture cap\n",
    "run_trial(trials['openl3-mlp-ERM'])"
   ]
  },
  {
   "cell_type": "code",
   "execution_count": null,
   "metadata": {
    "jupyter": {
     "outputs_hidden": true
    },
    "scrolled": true
   },
   "outputs": [],
   "source": [
    "# %%capture cap\n",
    "run_trial(trials['openl3-mlp-MIXUP-alpha=0.2'])"
   ]
  },
  {
   "cell_type": "code",
   "execution_count": null,
   "metadata": {
    "jupyter": {
     "outputs_hidden": true
    }
   },
   "outputs": [],
   "source": [
    "# %%capture cap\n",
    "run_trial(trials['openl3-mlp-MIXUP-alpha=0.4'])"
   ]
  },
  {
   "cell_type": "code",
   "execution_count": null,
   "metadata": {
    "collapsed": true
   },
   "outputs": [
    {
     "name": "stdout",
     "output_type": "stream",
     "text": [
      "loading datamodule...\n",
      "medley db path: /home/hugo/data/medleydb\n"
     ]
    },
    {
     "name": "stderr",
     "output_type": "stream",
     "text": [
      "/home/hugo/lab/venv/lib/python3.6/site-packages/medleydb/__init__.py:65: YAMLLoadWarning:\n",
      "\n",
      "calling yaml.load() without Loader=... is deprecated, as the default Loader is unsafe. Please read https://msg.pyyaml.org/load for full details.\n",
      "\n",
      "/home/hugo/lab/venv/lib/python3.6/site-packages/medleydb/__init__.py:73: YAMLLoadWarning:\n",
      "\n",
      "calling yaml.load() without Loader=... is deprecated, as the default Loader is unsafe. Please read https://msg.pyyaml.org/load for full details.\n",
      "\n",
      "/home/hugo/lab/venv/lib/python3.6/site-packages/pytorch_lightning/utilities/distributed.py:45: UserWarning:\n",
      "\n",
      "Checkpoint directory /home/hugo/lab/mono_music_sed/instrument_recognition/notebooks/logs/experiment-uncertainty-04.12.2020/openl3-mlp-ERM-ensemble-4/version_0/checkpoints exists and is not empty. With save_top_k=3, all files in this directory will be deleted when a checkpoint is saved!\n",
      "\n",
      "INFO:lightning:GPU available: True, used: True\n",
      "INFO:lightning:TPU available: False, using: 0 TPU cores\n",
      "INFO:lightning:LOCAL_RANK: 0 - CUDA_VISIBLE_DEVICES: [0,1,2]\n",
      "INFO:lightning:Using native 16bit precision.\n"
     ]
    },
    {
     "name": "stdout",
     "output_type": "stream",
     "text": [
      "train entries: 288692\n",
      "val entries: 14005\n",
      "classlist is: ['acoustic guitar', 'auxiliary percussion', 'brass section', 'cello', 'clean electric guitar', 'distorted electric guitar', 'double bass', 'drum set', 'electric bass', 'female singer', 'male singer', 'oboe', 'piano', 'synthesizer', 'tack piano', 'trumpet', 'vibraphone', 'viola', 'violin', 'vocalists']\n",
      "loading model...\n",
      "building task...\n",
      "running task\n",
      "found checkpoint: logs/experiment-uncertainty-04.12.2020/openl3-mlp-ERM-ensemble-4/version_0/checkpoints/epoch=08-loss_val=0.99.ckpt\n"
     ]
    },
    {
     "name": "stderr",
     "output_type": "stream",
     "text": [
      "/home/hugo/lab/venv/lib/python3.6/site-packages/torch/nn/parallel/data_parallel.py:30: UserWarning:\n",
      "\n",
      "\n",
      "    There is an imbalance between your GPUs. You may want to exclude GPU 1 which\n",
      "    has less than 75% of the memory or cores of GPU 0. You can do so by setting\n",
      "    the device_ids argument to DataParallel, or by setting the CUDA_VISIBLE_DEVICES\n",
      "    environment variable.\n",
      "\n",
      "INFO:lightning:\n",
      "   | Name                 | Type        | Params\n",
      "------------------------------------------------------\n",
      "0  | model                | Ensemble    | 12 M  \n",
      "1  | model.members        | ModuleList  | 12 M  \n",
      "2  | model.members.0      | MLP6144     | 3 M   \n",
      "3  | model.members.0.fc   | Sequential  | 3 M   \n",
      "4  | model.members.0.fc.0 | BatchNorm1d | 12 K  \n",
      "5  | model.members.0.fc.1 | Linear      | 3 M   \n",
      "6  | model.members.0.fc.2 | ReLU        | 0     \n",
      "7  | model.members.0.fc.3 | Dropout     | 0     \n",
      "8  | model.members.0.fc.4 | BatchNorm1d | 1 K   \n",
      "9  | model.members.0.fc.5 | Linear      | 65 K  \n",
      "10 | model.members.0.fc.6 | ReLU        | 0     \n",
      "11 | model.members.0.fc.7 | Dropout     | 0     \n",
      "12 | model.members.0.fc.8 | BatchNorm1d | 256   \n",
      "13 | model.members.0.fc.9 | Linear      | 2 K   \n",
      "14 | model.members.1      | MLP6144     | 3 M   \n",
      "15 | model.members.1.fc   | Sequential  | 3 M   \n",
      "16 | model.members.1.fc.0 | BatchNorm1d | 12 K  \n",
      "17 | model.members.1.fc.1 | Linear      | 3 M   \n",
      "18 | model.members.1.fc.2 | ReLU        | 0     \n",
      "19 | model.members.1.fc.3 | Dropout     | 0     \n",
      "20 | model.members.1.fc.4 | BatchNorm1d | 1 K   \n",
      "21 | model.members.1.fc.5 | Linear      | 65 K  \n",
      "22 | model.members.1.fc.6 | ReLU        | 0     \n",
      "23 | model.members.1.fc.7 | Dropout     | 0     \n",
      "24 | model.members.1.fc.8 | BatchNorm1d | 256   \n",
      "25 | model.members.1.fc.9 | Linear      | 2 K   \n",
      "26 | model.members.2      | MLP6144     | 3 M   \n",
      "27 | model.members.2.fc   | Sequential  | 3 M   \n",
      "28 | model.members.2.fc.0 | BatchNorm1d | 12 K  \n",
      "29 | model.members.2.fc.1 | Linear      | 3 M   \n",
      "30 | model.members.2.fc.2 | ReLU        | 0     \n",
      "31 | model.members.2.fc.3 | Dropout     | 0     \n",
      "32 | model.members.2.fc.4 | BatchNorm1d | 1 K   \n",
      "33 | model.members.2.fc.5 | Linear      | 65 K  \n",
      "34 | model.members.2.fc.6 | ReLU        | 0     \n",
      "35 | model.members.2.fc.7 | Dropout     | 0     \n",
      "36 | model.members.2.fc.8 | BatchNorm1d | 256   \n",
      "37 | model.members.2.fc.9 | Linear      | 2 K   \n",
      "38 | model.members.3      | MLP6144     | 3 M   \n",
      "39 | model.members.3.fc   | Sequential  | 3 M   \n",
      "40 | model.members.3.fc.0 | BatchNorm1d | 12 K  \n",
      "41 | model.members.3.fc.1 | Linear      | 3 M   \n",
      "42 | model.members.3.fc.2 | ReLU        | 0     \n",
      "43 | model.members.3.fc.3 | Dropout     | 0     \n",
      "44 | model.members.3.fc.4 | BatchNorm1d | 1 K   \n",
      "45 | model.members.3.fc.5 | Linear      | 65 K  \n",
      "46 | model.members.3.fc.6 | ReLU        | 0     \n",
      "47 | model.members.3.fc.7 | Dropout     | 0     \n",
      "48 | model.members.3.fc.8 | BatchNorm1d | 256   \n",
      "49 | model.members.3.fc.9 | Linear      | 2 K   \n"
     ]
    },
    {
     "name": "stdout",
     "output_type": "stream",
     "text": [
      "Test tube created git tag: tt_openl3-mlp-ERM-ensemble-4_v0\n"
     ]
    },
    {
     "data": {
      "application/vnd.jupyter.widget-view+json": {
       "model_id": "",
       "version_major": 2,
       "version_minor": 0
      },
      "text/plain": [
       "HBox(children=(HTML(value='Validation sanity check'), FloatProgress(value=1.0, bar_style='info', layout=Layout…"
      ]
     },
     "metadata": {},
     "output_type": "display_data"
    },
    {
     "data": {
      "application/vnd.jupyter.widget-view+json": {
       "model_id": "9139071a213d44dbb367f414230c276f",
       "version_major": 2,
       "version_minor": 0
      },
      "text/plain": [
       "HBox(children=(HTML(value='Training'), FloatProgress(value=1.0, bar_style='info', layout=Layout(flex='2'), max…"
      ]
     },
     "metadata": {},
     "output_type": "display_data"
    },
    {
     "name": "stderr",
     "output_type": "stream",
     "text": [
      "/home/hugo/lab/venv/lib/python3.6/site-packages/torch/nn/parallel/_functions.py:64: UserWarning:\n",
      "\n",
      "Was asked to gather along dimension 0, but all input tensors were scalars; will instead unsqueeze and return a vector.\n",
      "\n"
     ]
    },
    {
     "data": {
      "application/vnd.jupyter.widget-view+json": {
       "model_id": "",
       "version_major": 2,
       "version_minor": 0
      },
      "text/plain": [
       "HBox(children=(HTML(value='Validating'), FloatProgress(value=1.0, bar_style='info', layout=Layout(flex='2'), m…"
      ]
     },
     "metadata": {},
     "output_type": "display_data"
    },
    {
     "name": "stderr",
     "output_type": "stream",
     "text": [
      "INFO:lightning:Epoch 9: loss/val reached 1.22595 (best 1.22595), saving model to /home/hugo/lab/mono_music_sed/instrument_recognition/notebooks/logs/experiment-uncertainty-04.12.2020/openl3-mlp-ERM-ensemble-4/version_0/checkpoints/epoch=09-loss_val=1.22.ckpt as top 3\n"
     ]
    },
    {
     "data": {
      "application/vnd.jupyter.widget-view+json": {
       "model_id": "",
       "version_major": 2,
       "version_minor": 0
      },
      "text/plain": [
       "HBox(children=(HTML(value='Validating'), FloatProgress(value=1.0, bar_style='info', layout=Layout(flex='2'), m…"
      ]
     },
     "metadata": {},
     "output_type": "display_data"
    },
    {
     "name": "stderr",
     "output_type": "stream",
     "text": [
      "INFO:lightning:Epoch 10: loss/val reached 1.28017 (best 1.22595), saving model to /home/hugo/lab/mono_music_sed/instrument_recognition/notebooks/logs/experiment-uncertainty-04.12.2020/openl3-mlp-ERM-ensemble-4/version_0/checkpoints/epoch=10-loss_val=1.28.ckpt as top 3\n"
     ]
    }
   ],
   "source": [
    "# %%capture cap\n",
    "run_trial(trials['openl3-mlp-ERM-ensemble-4'])\n"
   ]
  },
  {
   "cell_type": "code",
   "execution_count": null,
   "metadata": {
    "scrolled": true
   },
   "outputs": [
    {
     "name": "stdout",
     "output_type": "stream",
     "text": [
      "loading datamodule...\n"
     ]
    },
    {
     "name": "stderr",
     "output_type": "stream",
     "text": [
      "INFO:lightning:GPU available: True, used: True\n",
      "INFO:lightning:TPU available: False, using: 0 TPU cores\n",
      "INFO:lightning:LOCAL_RANK: 0 - CUDA_VISIBLE_DEVICES: [0,1,2]\n",
      "INFO:lightning:Using native 16bit precision.\n"
     ]
    },
    {
     "name": "stdout",
     "output_type": "stream",
     "text": [
      "train entries: 288692\n",
      "val entries: 14005\n",
      "classlist is: ['acoustic guitar', 'auxiliary percussion', 'brass section', 'cello', 'clean electric guitar', 'distorted electric guitar', 'double bass', 'drum set', 'electric bass', 'female singer', 'male singer', 'oboe', 'piano', 'synthesizer', 'tack piano', 'trumpet', 'vibraphone', 'viola', 'violin', 'vocalists']\n",
      "loading model...\n",
      "building task...\n",
      "running task\n"
     ]
    },
    {
     "name": "stderr",
     "output_type": "stream",
     "text": [
      "INFO:lightning:\n",
      "   | Name                 | Type        | Params\n",
      "------------------------------------------------------\n",
      "0  | model                | Ensemble    | 12 M  \n",
      "1  | model.members        | ModuleList  | 12 M  \n",
      "2  | model.members.0      | MLP6144     | 3 M   \n",
      "3  | model.members.0.fc   | Sequential  | 3 M   \n",
      "4  | model.members.0.fc.0 | BatchNorm1d | 12 K  \n",
      "5  | model.members.0.fc.1 | Linear      | 3 M   \n",
      "6  | model.members.0.fc.2 | ReLU        | 0     \n",
      "7  | model.members.0.fc.3 | Dropout     | 0     \n",
      "8  | model.members.0.fc.4 | BatchNorm1d | 1 K   \n",
      "9  | model.members.0.fc.5 | Linear      | 65 K  \n",
      "10 | model.members.0.fc.6 | ReLU        | 0     \n",
      "11 | model.members.0.fc.7 | Dropout     | 0     \n",
      "12 | model.members.0.fc.8 | BatchNorm1d | 256   \n",
      "13 | model.members.0.fc.9 | Linear      | 2 K   \n",
      "14 | model.members.1      | MLP6144     | 3 M   \n",
      "15 | model.members.1.fc   | Sequential  | 3 M   \n",
      "16 | model.members.1.fc.0 | BatchNorm1d | 12 K  \n",
      "17 | model.members.1.fc.1 | Linear      | 3 M   \n",
      "18 | model.members.1.fc.2 | ReLU        | 0     \n",
      "19 | model.members.1.fc.3 | Dropout     | 0     \n",
      "20 | model.members.1.fc.4 | BatchNorm1d | 1 K   \n",
      "21 | model.members.1.fc.5 | Linear      | 65 K  \n",
      "22 | model.members.1.fc.6 | ReLU        | 0     \n",
      "23 | model.members.1.fc.7 | Dropout     | 0     \n",
      "24 | model.members.1.fc.8 | BatchNorm1d | 256   \n",
      "25 | model.members.1.fc.9 | Linear      | 2 K   \n",
      "26 | model.members.2      | MLP6144     | 3 M   \n",
      "27 | model.members.2.fc   | Sequential  | 3 M   \n",
      "28 | model.members.2.fc.0 | BatchNorm1d | 12 K  \n",
      "29 | model.members.2.fc.1 | Linear      | 3 M   \n",
      "30 | model.members.2.fc.2 | ReLU        | 0     \n",
      "31 | model.members.2.fc.3 | Dropout     | 0     \n",
      "32 | model.members.2.fc.4 | BatchNorm1d | 1 K   \n",
      "33 | model.members.2.fc.5 | Linear      | 65 K  \n",
      "34 | model.members.2.fc.6 | ReLU        | 0     \n",
      "35 | model.members.2.fc.7 | Dropout     | 0     \n",
      "36 | model.members.2.fc.8 | BatchNorm1d | 256   \n",
      "37 | model.members.2.fc.9 | Linear      | 2 K   \n",
      "38 | model.members.3      | MLP6144     | 3 M   \n",
      "39 | model.members.3.fc   | Sequential  | 3 M   \n",
      "40 | model.members.3.fc.0 | BatchNorm1d | 12 K  \n",
      "41 | model.members.3.fc.1 | Linear      | 3 M   \n",
      "42 | model.members.3.fc.2 | ReLU        | 0     \n",
      "43 | model.members.3.fc.3 | Dropout     | 0     \n",
      "44 | model.members.3.fc.4 | BatchNorm1d | 1 K   \n",
      "45 | model.members.3.fc.5 | Linear      | 65 K  \n",
      "46 | model.members.3.fc.6 | ReLU        | 0     \n",
      "47 | model.members.3.fc.7 | Dropout     | 0     \n",
      "48 | model.members.3.fc.8 | BatchNorm1d | 256   \n",
      "49 | model.members.3.fc.9 | Linear      | 2 K   \n"
     ]
    },
    {
     "name": "stdout",
     "output_type": "stream",
     "text": [
      "Test tube created git tag: tt_openl3-mlp-MIXUP-alpha=0.2-ensemble-4_v0\n"
     ]
    },
    {
     "data": {
      "application/vnd.jupyter.widget-view+json": {
       "model_id": "",
       "version_major": 2,
       "version_minor": 0
      },
      "text/plain": [
       "HBox(children=(HTML(value='Validation sanity check'), FloatProgress(value=1.0, bar_style='info', layout=Layout…"
      ]
     },
     "metadata": {},
     "output_type": "display_data"
    },
    {
     "data": {
      "application/vnd.jupyter.widget-view+json": {
       "model_id": "a2bb21791f7a4b22863e052bacdf9618",
       "version_major": 2,
       "version_minor": 0
      },
      "text/plain": [
       "HBox(children=(HTML(value='Training'), FloatProgress(value=1.0, bar_style='info', layout=Layout(flex='2'), max…"
      ]
     },
     "metadata": {},
     "output_type": "display_data"
    },
    {
     "data": {
      "application/vnd.jupyter.widget-view+json": {
       "model_id": "",
       "version_major": 2,
       "version_minor": 0
      },
      "text/plain": [
       "HBox(children=(HTML(value='Validating'), FloatProgress(value=1.0, bar_style='info', layout=Layout(flex='2'), m…"
      ]
     },
     "metadata": {},
     "output_type": "display_data"
    },
    {
     "name": "stderr",
     "output_type": "stream",
     "text": [
      "INFO:lightning:Epoch 0: loss/val reached 1.19762 (best 1.19762), saving model to /home/hugo/lab/mono_music_sed/instrument_recognition/notebooks/logs/experiment-uncertainty-04.12.2020/openl3-mlp-MIXUP-alpha=0.2-ensemble-4/version_0/checkpoints/epoch=00-loss_val=1.20.ckpt as top 3\n"
     ]
    },
    {
     "data": {
      "application/vnd.jupyter.widget-view+json": {
       "model_id": "",
       "version_major": 2,
       "version_minor": 0
      },
      "text/plain": [
       "HBox(children=(HTML(value='Validating'), FloatProgress(value=1.0, bar_style='info', layout=Layout(flex='2'), m…"
      ]
     },
     "metadata": {},
     "output_type": "display_data"
    },
    {
     "name": "stderr",
     "output_type": "stream",
     "text": [
      "INFO:lightning:Epoch 1: loss/val reached 1.17720 (best 1.17720), saving model to /home/hugo/lab/mono_music_sed/instrument_recognition/notebooks/logs/experiment-uncertainty-04.12.2020/openl3-mlp-MIXUP-alpha=0.2-ensemble-4/version_0/checkpoints/epoch=01-loss_val=1.17.ckpt as top 3\n"
     ]
    },
    {
     "data": {
      "application/vnd.jupyter.widget-view+json": {
       "model_id": "",
       "version_major": 2,
       "version_minor": 0
      },
      "text/plain": [
       "HBox(children=(HTML(value='Validating'), FloatProgress(value=1.0, bar_style='info', layout=Layout(flex='2'), m…"
      ]
     },
     "metadata": {},
     "output_type": "display_data"
    },
    {
     "name": "stderr",
     "output_type": "stream",
     "text": [
      "INFO:lightning:Epoch 2: loss/val reached 0.90867 (best 0.90867), saving model to /home/hugo/lab/mono_music_sed/instrument_recognition/notebooks/logs/experiment-uncertainty-04.12.2020/openl3-mlp-MIXUP-alpha=0.2-ensemble-4/version_0/checkpoints/epoch=02-loss_val=0.91.ckpt as top 3\n"
     ]
    },
    {
     "data": {
      "application/vnd.jupyter.widget-view+json": {
       "model_id": "",
       "version_major": 2,
       "version_minor": 0
      },
      "text/plain": [
       "HBox(children=(HTML(value='Validating'), FloatProgress(value=1.0, bar_style='info', layout=Layout(flex='2'), m…"
      ]
     },
     "metadata": {},
     "output_type": "display_data"
    },
    {
     "name": "stderr",
     "output_type": "stream",
     "text": [
      "INFO:lightning:Epoch 3: loss/val reached 0.82548 (best 0.82548), saving model to /home/hugo/lab/mono_music_sed/instrument_recognition/notebooks/logs/experiment-uncertainty-04.12.2020/openl3-mlp-MIXUP-alpha=0.2-ensemble-4/version_0/checkpoints/epoch=03-loss_val=0.91.ckpt as top 3\n"
     ]
    },
    {
     "data": {
      "application/vnd.jupyter.widget-view+json": {
       "model_id": "",
       "version_major": 2,
       "version_minor": 0
      },
      "text/plain": [
       "HBox(children=(HTML(value='Validating'), FloatProgress(value=1.0, bar_style='info', layout=Layout(flex='2'), m…"
      ]
     },
     "metadata": {},
     "output_type": "display_data"
    },
    {
     "name": "stderr",
     "output_type": "stream",
     "text": [
      "INFO:lightning:Epoch 4: loss/val reached 0.91603 (best 0.82548), saving model to /home/hugo/lab/mono_music_sed/instrument_recognition/notebooks/logs/experiment-uncertainty-04.12.2020/openl3-mlp-MIXUP-alpha=0.2-ensemble-4/version_0/checkpoints/epoch=04-loss_val=0.92.ckpt as top 3\n"
     ]
    },
    {
     "data": {
      "application/vnd.jupyter.widget-view+json": {
       "model_id": "",
       "version_major": 2,
       "version_minor": 0
      },
      "text/plain": [
       "HBox(children=(HTML(value='Validating'), FloatProgress(value=1.0, bar_style='info', layout=Layout(flex='2'), m…"
      ]
     },
     "metadata": {},
     "output_type": "display_data"
    },
    {
     "name": "stderr",
     "output_type": "stream",
     "text": [
      "INFO:lightning:Epoch 5: loss/val was not in top 3\n"
     ]
    },
    {
     "data": {
      "application/vnd.jupyter.widget-view+json": {
       "model_id": "",
       "version_major": 2,
       "version_minor": 0
      },
      "text/plain": [
       "HBox(children=(HTML(value='Validating'), FloatProgress(value=1.0, bar_style='info', layout=Layout(flex='2'), m…"
      ]
     },
     "metadata": {},
     "output_type": "display_data"
    },
    {
     "name": "stderr",
     "output_type": "stream",
     "text": [
      "INFO:lightning:Epoch 6: loss/val was not in top 3\n"
     ]
    },
    {
     "data": {
      "application/vnd.jupyter.widget-view+json": {
       "model_id": "",
       "version_major": 2,
       "version_minor": 0
      },
      "text/plain": [
       "HBox(children=(HTML(value='Validating'), FloatProgress(value=1.0, bar_style='info', layout=Layout(flex='2'), m…"
      ]
     },
     "metadata": {},
     "output_type": "display_data"
    },
    {
     "name": "stderr",
     "output_type": "stream",
     "text": [
      "INFO:lightning:Epoch 7: loss/val reached 0.89578 (best 0.82548), saving model to /home/hugo/lab/mono_music_sed/instrument_recognition/notebooks/logs/experiment-uncertainty-04.12.2020/openl3-mlp-MIXUP-alpha=0.2-ensemble-4/version_0/checkpoints/epoch=07-loss_val=0.90.ckpt as top 3\n"
     ]
    },
    {
     "data": {
      "application/vnd.jupyter.widget-view+json": {
       "model_id": "",
       "version_major": 2,
       "version_minor": 0
      },
      "text/plain": [
       "HBox(children=(HTML(value='Validating'), FloatProgress(value=1.0, bar_style='info', layout=Layout(flex='2'), m…"
      ]
     },
     "metadata": {},
     "output_type": "display_data"
    },
    {
     "name": "stderr",
     "output_type": "stream",
     "text": [
      "INFO:lightning:Epoch 8: loss/val reached 0.90082 (best 0.82548), saving model to /home/hugo/lab/mono_music_sed/instrument_recognition/notebooks/logs/experiment-uncertainty-04.12.2020/openl3-mlp-MIXUP-alpha=0.2-ensemble-4/version_0/checkpoints/epoch=08-loss_val=0.90.ckpt as top 3\n"
     ]
    },
    {
     "data": {
      "application/vnd.jupyter.widget-view+json": {
       "model_id": "",
       "version_major": 2,
       "version_minor": 0
      },
      "text/plain": [
       "HBox(children=(HTML(value='Validating'), FloatProgress(value=1.0, bar_style='info', layout=Layout(flex='2'), m…"
      ]
     },
     "metadata": {},
     "output_type": "display_data"
    },
    {
     "name": "stderr",
     "output_type": "stream",
     "text": [
      "INFO:lightning:Epoch 9: loss/val was not in top 3\n"
     ]
    },
    {
     "data": {
      "application/vnd.jupyter.widget-view+json": {
       "model_id": "",
       "version_major": 2,
       "version_minor": 0
      },
      "text/plain": [
       "HBox(children=(HTML(value='Validating'), FloatProgress(value=1.0, bar_style='info', layout=Layout(flex='2'), m…"
      ]
     },
     "metadata": {},
     "output_type": "display_data"
    },
    {
     "name": "stderr",
     "output_type": "stream",
     "text": [
      "INFO:lightning:Epoch 10: loss/val was not in top 3\n"
     ]
    },
    {
     "data": {
      "application/vnd.jupyter.widget-view+json": {
       "model_id": "",
       "version_major": 2,
       "version_minor": 0
      },
      "text/plain": [
       "HBox(children=(HTML(value='Validating'), FloatProgress(value=1.0, bar_style='info', layout=Layout(flex='2'), m…"
      ]
     },
     "metadata": {},
     "output_type": "display_data"
    },
    {
     "name": "stderr",
     "output_type": "stream",
     "text": [
      "INFO:lightning:Epoch 11: loss/val was not in top 3\n"
     ]
    },
    {
     "data": {
      "application/vnd.jupyter.widget-view+json": {
       "model_id": "",
       "version_major": 2,
       "version_minor": 0
      },
      "text/plain": [
       "HBox(children=(HTML(value='Validating'), FloatProgress(value=1.0, bar_style='info', layout=Layout(flex='2'), m…"
      ]
     },
     "metadata": {},
     "output_type": "display_data"
    },
    {
     "name": "stderr",
     "output_type": "stream",
     "text": [
      "INFO:lightning:Epoch 12: loss/val was not in top 3\n"
     ]
    },
    {
     "data": {
      "application/vnd.jupyter.widget-view+json": {
       "model_id": "",
       "version_major": 2,
       "version_minor": 0
      },
      "text/plain": [
       "HBox(children=(HTML(value='Validating'), FloatProgress(value=1.0, bar_style='info', layout=Layout(flex='2'), m…"
      ]
     },
     "metadata": {},
     "output_type": "display_data"
    },
    {
     "name": "stderr",
     "output_type": "stream",
     "text": [
      "INFO:lightning:Epoch 13: loss/val was not in top 3\n"
     ]
    },
    {
     "data": {
      "application/vnd.jupyter.widget-view+json": {
       "model_id": "",
       "version_major": 2,
       "version_minor": 0
      },
      "text/plain": [
       "HBox(children=(HTML(value='Validating'), FloatProgress(value=1.0, bar_style='info', layout=Layout(flex='2'), m…"
      ]
     },
     "metadata": {},
     "output_type": "display_data"
    },
    {
     "name": "stderr",
     "output_type": "stream",
     "text": [
      "INFO:lightning:Epoch 14: loss/val was not in top 3\n"
     ]
    },
    {
     "data": {
      "application/vnd.jupyter.widget-view+json": {
       "model_id": "",
       "version_major": 2,
       "version_minor": 0
      },
      "text/plain": [
       "HBox(children=(HTML(value='Validating'), FloatProgress(value=1.0, bar_style='info', layout=Layout(flex='2'), m…"
      ]
     },
     "metadata": {},
     "output_type": "display_data"
    },
    {
     "name": "stderr",
     "output_type": "stream",
     "text": [
      "INFO:lightning:Epoch 15: loss/val was not in top 3\n"
     ]
    },
    {
     "data": {
      "application/vnd.jupyter.widget-view+json": {
       "model_id": "",
       "version_major": 2,
       "version_minor": 0
      },
      "text/plain": [
       "HBox(children=(HTML(value='Validating'), FloatProgress(value=1.0, bar_style='info', layout=Layout(flex='2'), m…"
      ]
     },
     "metadata": {},
     "output_type": "display_data"
    },
    {
     "name": "stderr",
     "output_type": "stream",
     "text": [
      "INFO:lightning:Epoch 16: loss/val was not in top 3\n"
     ]
    },
    {
     "data": {
      "application/vnd.jupyter.widget-view+json": {
       "model_id": "",
       "version_major": 2,
       "version_minor": 0
      },
      "text/plain": [
       "HBox(children=(HTML(value='Validating'), FloatProgress(value=1.0, bar_style='info', layout=Layout(flex='2'), m…"
      ]
     },
     "metadata": {},
     "output_type": "display_data"
    },
    {
     "name": "stderr",
     "output_type": "stream",
     "text": [
      "INFO:lightning:Epoch 17: loss/val was not in top 3\n"
     ]
    },
    {
     "data": {
      "application/vnd.jupyter.widget-view+json": {
       "model_id": "",
       "version_major": 2,
       "version_minor": 0
      },
      "text/plain": [
       "HBox(children=(HTML(value='Validating'), FloatProgress(value=1.0, bar_style='info', layout=Layout(flex='2'), m…"
      ]
     },
     "metadata": {},
     "output_type": "display_data"
    },
    {
     "name": "stderr",
     "output_type": "stream",
     "text": [
      "INFO:lightning:Epoch 18: loss/val was not in top 3\n"
     ]
    }
   ],
   "source": [
    "# %%capture cap\n",
    "run_trial(trials['openl3-mlp-MIXUP-alpha=0.2-ensemble-4'])"
   ]
  },
  {
   "cell_type": "markdown",
   "metadata": {},
   "source": [
    "## test models :)"
   ]
  },
  {
   "cell_type": "code",
   "execution_count": null,
   "metadata": {},
   "outputs": [],
   "source": [
    "import traceback \n",
    "import pandas as pd\n",
    "\n",
    "scoreboard = []\n",
    "for exp in exp_dicts:\n",
    "    print(100*'-', '\\n', 100*'-')\n",
    "    try:\n",
    "        if not exp['done']:\n",
    "            results = run_trial(exp)\n",
    "            exp['done'] = True\n",
    "        else:\n",
    "            print(f'skipping {exp[\"name\"]}')\n",
    "    except:\n",
    "        print(f'exp: {exp[\"name\"]} failed.')\n",
    "        traceback.print_exc(limit=None, file=None, chain=True)\n",
    "        results = {'error': True}\n",
    "        \n",
    "    score = dict(exp)\n",
    "    score.update(results)\n",
    "    scoreboard.append(score)\n",
    "    \n",
    "scoreboard_df = pd.DataFrame(scoreboard)"
   ]
  },
  {
   "cell_type": "code",
   "execution_count": null,
   "metadata": {},
   "outputs": [],
   "source": [
    "%store"
   ]
  },
  {
   "cell_type": "code",
   "execution_count": null,
   "metadata": {
    "collapsed": true,
    "jupyter": {
     "outputs_hidden": true
    }
   },
   "outputs": [],
   "source": [
    "scoreboard_df.to_csv(os.path.join(log_dir, 'scoreboard.csv'))\n",
    "with open(os.path.join(log_dir, 'output.txt'),  'w') as f:\n",
    "    f.write(cap.stdout)"
   ]
  },
  {
   "cell_type": "code",
   "execution_count": null,
   "metadata": {},
   "outputs": [],
   "source": []
  }
 ],
 "metadata": {
  "kernelspec": {
   "display_name": "Python 3",
   "language": "python",
   "name": "python3"
  },
  "language_info": {
   "codemirror_mode": {
    "name": "ipython",
    "version": 3
   },
   "file_extension": ".py",
   "mimetype": "text/x-python",
   "name": "python",
   "nbconvert_exporter": "python",
   "pygments_lexer": "ipython3",
   "version": "3.6.9"
  }
 },
 "nbformat": 4,
 "nbformat_minor": 4
}
