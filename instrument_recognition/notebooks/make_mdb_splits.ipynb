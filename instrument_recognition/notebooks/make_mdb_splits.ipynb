{
 "cells": [
  {
   "cell_type": "code",
   "execution_count": 1,
   "metadata": {},
   "outputs": [
    {
     "name": "stdout",
     "output_type": "stream",
     "text": [
      "medley db path: /home/hugo/data/medleydb\n"
     ]
    },
    {
     "name": "stderr",
     "output_type": "stream",
     "text": [
      "/home/hugo/lab/venv/lib/python3.6/site-packages/medleydb/__init__.py:65: YAMLLoadWarning: calling yaml.load() without Loader=... is deprecated, as the default Loader is unsafe. Please read https://msg.pyyaml.org/load for full details.\n",
      "  INST_TAXONOMY = yaml.load(fhandle)\n",
      "/home/hugo/lab/venv/lib/python3.6/site-packages/medleydb/__init__.py:73: YAMLLoadWarning: calling yaml.load() without Loader=... is deprecated, as the default Loader is unsafe. Please read https://msg.pyyaml.org/load for full details.\n",
      "  MIXING_COEFFICIENTS = yaml.load(fhandle)\n",
      "/home/hugo/lab/venv/lib/python3.6/site-packages/torchaudio/backend/utils.py:54: UserWarning: \"sox\" backend is being deprecated. The default backend will be changed to \"sox_io\" backend in 0.8.0 and \"sox\" backend will be removed in 0.9.0. Please migrate to \"sox_io\" backend. Please refer to https://github.com/pytorch/audio/issues/903 for the detail.\n",
      "  '\"sox\" backend is being deprecated. '\n"
     ]
    }
   ],
   "source": [
    "from instrument_recognition.scripts.split_mdb import unwanted_classes, split_mdb_metadata"
   ]
  },
  {
   "cell_type": "code",
   "execution_count": 2,
   "metadata": {
    "tags": []
   },
   "outputs": [
    {
     "name": "stdout",
     "output_type": "stream",
     "text": [
      "['distorted electric guitar', 'clarinet section', 'brass section', 'auxiliary percussion', 'timpani', 'clean electric guitar', 'drum set', 'synthesizer', 'double bass', 'violin', 'piccolo', 'viola', 'tack piano', 'fx/processed sound', 'female singer', 'flute section', 'electric bass', 'male singer', 'acoustic guitar', 'oboe', 'piano', 'trumpet section', 'tambourine', 'tuba', 'violin section', 'cymbal', 'cello', 'vibraphone', 'viola section', 'vocalists', 'tenor saxophone', 'trumpet']\n",
      "done! :)\n",
      "['distorted electric guitar', 'clarinet section', 'brass section', 'auxiliary percussion', 'timpani', 'clean electric guitar', 'drum set', 'synthesizer', 'double bass', 'violin', 'piccolo', 'viola', 'tack piano', 'female singer', 'flute section', 'electric bass', 'male singer', 'acoustic guitar', 'oboe', 'piano', 'trumpet section', 'tambourine', 'tuba', 'violin section', 'cymbal', 'cello', 'vibraphone', 'viola section', 'vocalists', 'tenor saxophone', 'trumpet']\n",
      "done! :)\n",
      "['distorted electric guitar', 'clarinet section', 'brass section', 'auxiliary percussion', 'timpani', 'clean electric guitar', 'drum set', 'synthesizer', 'double bass', 'violin', 'piccolo', 'viola', 'tack piano', 'female singer', 'flute section', 'electric bass', 'male singer', 'acoustic guitar', 'oboe', 'piano', 'trumpet section', 'tambourine', 'tuba', 'violin section', 'cymbal', 'cello', 'vibraphone', 'viola section', 'vocalists', 'tenor saxophone', 'trumpet']\n",
      "done! :)\n"
     ]
    }
   ],
   "source": [
    "import os\n",
    "data_paths = ['/home/hugo/CHONK/data/mdb-hop-0.25-chunk-1-AUGMENTED/',\n",
    "              '/home/hugo/CHONK/data/mdb-hop-0.25-chunk-1-AUGMENTED-EMBEDDINGS-512/', \n",
    "              '/home/hugo/CHONK/data/mdb-hop-0.25-chunk-1-AUGMENTED-EMBEDDINGS-6144/']\n",
    "output_paths = [os.path.join(p, 'splits-85-15-REMAPPED/') for p in data_paths]\n",
    "test_size = 0.15\n",
    "random_seed = 20\n",
    "\n",
    "for inp, outp in zip(data_paths, output_paths):\n",
    "    split_mdb_metadata(inp, outp, test_size, random_seed)"
   ]
  },
  {
   "cell_type": "code",
   "execution_count": null,
   "metadata": {},
   "outputs": [],
   "source": []
  }
 ],
 "metadata": {
  "kernelspec": {
   "display_name": "Python 3",
   "language": "python",
   "name": "python3"
  },
  "language_info": {
   "codemirror_mode": {
    "name": "ipython",
    "version": 3
   },
   "file_extension": ".py",
   "mimetype": "text/x-python",
   "name": "python",
   "nbconvert_exporter": "python",
   "pygments_lexer": "ipython3",
   "version": "3.6.9"
  }
 },
 "nbformat": 4,
 "nbformat_minor": 4
}
