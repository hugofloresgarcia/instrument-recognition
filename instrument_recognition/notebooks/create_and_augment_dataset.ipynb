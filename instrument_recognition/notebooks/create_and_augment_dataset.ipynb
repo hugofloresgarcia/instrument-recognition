{
 "cells": [
  {
   "cell_type": "code",
   "execution_count": null,
   "metadata": {},
   "outputs": [],
   "source": [
    "# set up autoreload \n",
    "%load_ext autoreload\n",
    "%autoreload 2"
   ]
  },
  {
   "cell_type": "code",
   "execution_count": 2,
   "metadata": {},
   "outputs": [
    {
     "output_type": "stream",
     "name": "stdout",
     "text": [
      "generating\n"
     ]
    },
    {
     "output_type": "display_data",
     "data": {
      "text/plain": "HBox(children=(HTML(value=''), FloatProgress(value=0.0, max=196.0), HTML(value='')))",
      "application/vnd.jupyter.widget-view+json": {
       "version_major": 2,
       "version_minor": 0,
       "model_id": "cc4b577c1a6e4f9db7391753bc81e23e"
      }
     },
     "metadata": {}
    }
   ],
   "source": [
    "from instrument_recognition.scripts.generate_dataset import generate_medleydb_samples\n",
    "\n",
    "path_to_output = '/home/hugo/CHONK/data/mono_music_sed/mdb-hop-0.25-1s'\n",
    "sr = 48000\n",
    "chunk_size = 1.0\n",
    "hop_size = 0.1\n",
    "num_workers = 20\n",
    "\n",
    "print('generating')\n",
    "generate_medleydb_samples(path_to_output, sr, chunk_size, \n",
    "                          hop_size, num_workers, augment=True,\n",
    "                          random_seed=20, test_size=0.15,\n",
    "                          max_worker_threads=10)"
   ]
  },
  {
   "cell_type": "code",
   "execution_count": null,
   "metadata": {},
   "outputs": [],
   "source": [
    "from instrument_recognition.scripts.split_mdb import unwanted_classes, split_mdb_metadata\n",
    "import os\n",
    "data_paths = ['/home/hugo/CHONK/data/mdb-hop-1-chunk-1-clean-EMBEDDINGS-6144/',]\n",
    "output_paths = [os.path.join(p, 'splits-85-15/') for p in data_paths]\n",
    "test_size = 0.15\n",
    "random_seed = 20\n",
    "\n",
    "for inp, outp in zip(data_paths, output_paths):\n",
    "    split_mdb_metadata(inp, outp, test_size, random_seed)"
   ]
  },
  {
   "cell_type": "code",
   "execution_count": null,
   "metadata": {
    "collapsed": true,
    "jupyter": {
     "outputs_hidden": true
    }
   },
   "outputs": [],
   "source": [
    "from instrument_recognition.scripts.embed_dataset import embed_dataset\n",
    "path_to_data = '/home/hugo/CHONK/data/mdb-hop-1-chunk-1-clean/splits-85-15/test/'\n",
    "path_to_output = '/home/hugo/CHONK/data/mdb-hop-1-chunk-1-clean-EMBEDDINGS-6144/splits-85-15/test/'\n",
    "\n",
    "batch_size = 64\n",
    "num_workers = 18\n",
    "gpuid = 0\n",
    "use_augmented=False\n",
    "\n",
    "embed_dataset(path_to_data, path_to_output, 'openl3-128-6144', \n",
    "              batch_size, num_workers, gpuid, use_augmented)\n"
   ]
  },
  {
   "cell_type": "code",
   "execution_count": null,
   "metadata": {},
   "outputs": [],
   "source": [
    "from instrument_recognition.utils.data import load_dataset_metadata, save_metadata_csv\n",
    "import os\n",
    "# make metadata\n",
    "path_to_data = '/home/hugo/CHONK/data/mdb-hop-1-chunk-1-clean-EMBEDDINGS-6144'\n",
    "\n",
    "metadata = load_dataset_metadata(path_to_data)\n",
    "outpath =  path_to_data+'/splits-85-15/test/metadata.csv'\n",
    "\n",
    "save_metadata_csv(metadata, outpath)"
   ]
  },
  {
   "cell_type": "code",
   "execution_count": null,
   "metadata": {},
   "outputs": [],
   "source": []
  }
 ],
 "metadata": {
  "kernelspec": {
   "display_name": "Python 3",
   "language": "python",
   "name": "python3"
  },
  "language_info": {
   "codemirror_mode": {
    "name": "ipython",
    "version": 3
   },
   "file_extension": ".py",
   "mimetype": "text/x-python",
   "name": "python",
   "nbconvert_exporter": "python",
   "pygments_lexer": "ipython3",
   "version": "3.6.9-final"
  }
 },
 "nbformat": 4,
 "nbformat_minor": 4
}