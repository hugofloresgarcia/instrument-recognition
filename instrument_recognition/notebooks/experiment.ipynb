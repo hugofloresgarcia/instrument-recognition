{
 "metadata": {
  "language_info": {
   "codemirror_mode": {
    "name": "ipython",
    "version": 3
   },
   "file_extension": ".py",
   "mimetype": "text/x-python",
   "name": "python",
   "nbconvert_exporter": "python",
   "pygments_lexer": "ipython3",
   "version": "3.6.9-final"
  },
  "orig_nbformat": 2,
  "kernelspec": {
   "name": "python3",
   "display_name": "Python 3"
  }
 },
 "nbformat": 4,
 "nbformat_minor": 2,
 "cells": [
  {
   "source": [
    "## Experiments on Instrument Detection Models\n",
    "\n",
    "11/30/2020\n",
    "\n",
    "Evaluation Metrics: F1 score, Expected Calibration Error (ECE)"
   ],
   "cell_type": "markdown",
   "metadata": {}
  },
  {
   "cell_type": "code",
   "execution_count": 1,
   "metadata": {},
   "outputs": [],
   "source": [
    "# set up autoreload \n",
    "%load_ext autoreload\n",
    "%autoreload 2"
   ]
  },
  {
   "source": [
    "from instrument_recognition.task import load_datamodule\n",
    "\n",
    "batch_size = 64\n",
    "num_workers = 20\n",
    "\n",
    "dm_paths = {\n",
    "    'audio': \n",
    "    '/home/hugo/CHONK/data/mdb-hop-0.25-chunk-1-AUGMENTED/splits-85-15', \n",
    "\n",
    "    'embeddings-512': \n",
    "    '/home/hugo/CHONK/data/mdb-hop-0.25-chunk-1-AUGMENTED-EMBEDDINGS-512/splits-85-15', \n",
    "\n",
    "    'embeddings-6144':\n",
    "    '/home/hugo/CHONK/data/mdb-hop-0.25-chunk-1-AUGMENTED-EMBEDDINGS-6144/splits-85-15'}\n",
    "\n",
    "#  load datasets\n",
    "datamodules = {}\n",
    "for k, dm_path in dm_paths.items():\n",
    "    use_embeddings = True if 'embeddings' in k else False\n",
    "    datamodules[k] = load_datamodule(path_to_data=dm_path, batch_size=batch_size, \n",
    "                                num_workers=num_workers, use_embeddings=use_embeddings) \n",
    "\n",
    "# make sure all the classlists are the same\n",
    "assert datamodules['audio'].get_classes() == datamodules['embeddings-512'].get_classes()\n",
    "assert datamodules['audio'].get_classes() == datamodules['embeddings-6144'].get_classes()\n",
    "\n",
    "classlist = datamodules['audio'].get_classes()\n",
    "\n"
   ],
   "cell_type": "code",
   "metadata": {},
   "execution_count": 5,
   "outputs": [
    {
     "output_type": "stream",
     "name": "stdout",
     "text": [
      "found 288764 entries\n",
      "(('acoustic guitar', 16412), ('auxiliary percussion', 6588), ('brass section', 2220), ('cello', 7284), ('clean electric guitar', 30248), ('distorted electric guitar', 8152), ('double bass', 10608), ('drum set', 34264), ('electric bass', 36596), ('female singer', 16016), ('flute section', 72), ('male singer', 14748), ('oboe', 960), ('piano', 30908), ('synthesizer', 25908), ('tack piano', 2788), ('trumpet', 1380), ('vibraphone', 2524), ('viola', 5496), ('viola section', 1080), ('violin', 23244), ('violin section', 2612), ('vocalists', 8656))\n",
      "found 288764 entries\n",
      "(('acoustic guitar', 16412), ('auxiliary percussion', 6588), ('brass section', 2220), ('cello', 7284), ('clean electric guitar', 30248), ('distorted electric guitar', 8152), ('double bass', 10608), ('drum set', 34264), ('electric bass', 36596), ('female singer', 16016), ('flute section', 72), ('male singer', 14748), ('oboe', 960), ('piano', 30908), ('synthesizer', 25908), ('tack piano', 2788), ('trumpet', 1380), ('vibraphone', 2524), ('viola', 5496), ('viola section', 1080), ('violin', 23244), ('violin section', 2612), ('vocalists', 8656))\n",
      "found 56160 entries\n",
      "(('acoustic guitar', 1840), ('auxiliary percussion', 2132), ('brass section', 292), ('cello', 1452), ('clean electric guitar', 2116), ('distorted electric guitar', 7940), ('double bass', 640), ('drum set', 7000), ('electric bass', 7504), ('female singer', 724), ('flute section', 140), ('male singer', 5568), ('oboe', 108), ('piano', 2984), ('synthesizer', 7080), ('tack piano', 960), ('trumpet', 268), ('vibraphone', 600), ('viola', 1172), ('viola section', 172), ('violin', 2072), ('violin section', 372), ('vocalists', 3024))\n",
      "found 56160 entries\n",
      "(('acoustic guitar', 1840), ('auxiliary percussion', 2132), ('brass section', 292), ('cello', 1452), ('clean electric guitar', 2116), ('distorted electric guitar', 7940), ('double bass', 640), ('drum set', 7000), ('electric bass', 7504), ('female singer', 724), ('flute section', 140), ('male singer', 5568), ('oboe', 108), ('piano', 2984), ('synthesizer', 7080), ('tack piano', 960), ('trumpet', 268), ('vibraphone', 600), ('viola', 1172), ('viola section', 172), ('violin', 2072), ('violin section', 372), ('vocalists', 3024))\n",
      "found 56160 entries\n",
      "(('acoustic guitar', 1840), ('auxiliary percussion', 2132), ('brass section', 292), ('cello', 1452), ('clean electric guitar', 2116), ('distorted electric guitar', 7940), ('double bass', 640), ('drum set', 7000), ('electric bass', 7504), ('female singer', 724), ('flute section', 140), ('male singer', 5568), ('oboe', 108), ('piano', 2984), ('synthesizer', 7080), ('tack piano', 960), ('trumpet', 268), ('vibraphone', 600), ('viola', 1172), ('viola section', 172), ('violin', 2072), ('violin section', 372), ('vocalists', 3024))\n",
      "found 56160 entries\n",
      "(('acoustic guitar', 1840), ('auxiliary percussion', 2132), ('brass section', 292), ('cello', 1452), ('clean electric guitar', 2116), ('distorted electric guitar', 7940), ('double bass', 640), ('drum set', 7000), ('electric bass', 7504), ('female singer', 724), ('flute section', 140), ('male singer', 5568), ('oboe', 108), ('piano', 2984), ('synthesizer', 7080), ('tack piano', 960), ('trumpet', 268), ('vibraphone', 600), ('viola', 1172), ('viola section', 172), ('violin', 2072), ('violin section', 372), ('vocalists', 3024))\n",
      "train 288764\n",
      "val 56160\n",
      "found 288764 entries\n",
      "(('acoustic guitar', 16412), ('auxiliary percussion', 6588), ('brass section', 2220), ('cello', 7284), ('clean electric guitar', 30248), ('distorted electric guitar', 8152), ('double bass', 10608), ('drum set', 34264), ('electric bass', 36596), ('female singer', 16016), ('flute section', 72), ('male singer', 14748), ('oboe', 960), ('piano', 30908), ('synthesizer', 25908), ('tack piano', 2788), ('trumpet', 1380), ('vibraphone', 2524), ('viola', 5496), ('viola section', 1080), ('violin', 23244), ('violin section', 2612), ('vocalists', 8656))\n",
      "found 288764 entries\n",
      "(('acoustic guitar', 16412), ('auxiliary percussion', 6588), ('brass section', 2220), ('cello', 7284), ('clean electric guitar', 30248), ('distorted electric guitar', 8152), ('double bass', 10608), ('drum set', 34264), ('electric bass', 36596), ('female singer', 16016), ('flute section', 72), ('male singer', 14748), ('oboe', 960), ('piano', 30908), ('synthesizer', 25908), ('tack piano', 2788), ('trumpet', 1380), ('vibraphone', 2524), ('viola', 5496), ('viola section', 1080), ('violin', 23244), ('violin section', 2612), ('vocalists', 8656))\n",
      "found 56160 entries\n",
      "(('acoustic guitar', 1840), ('auxiliary percussion', 2132), ('brass section', 292), ('cello', 1452), ('clean electric guitar', 2116), ('distorted electric guitar', 7940), ('double bass', 640), ('drum set', 7000), ('electric bass', 7504), ('female singer', 724), ('flute section', 140), ('male singer', 5568), ('oboe', 108), ('piano', 2984), ('synthesizer', 7080), ('tack piano', 960), ('trumpet', 268), ('vibraphone', 600), ('viola', 1172), ('viola section', 172), ('violin', 2072), ('violin section', 372), ('vocalists', 3024))\n",
      "found 56160 entries\n",
      "(('acoustic guitar', 1840), ('auxiliary percussion', 2132), ('brass section', 292), ('cello', 1452), ('clean electric guitar', 2116), ('distorted electric guitar', 7940), ('double bass', 640), ('drum set', 7000), ('electric bass', 7504), ('female singer', 724), ('flute section', 140), ('male singer', 5568), ('oboe', 108), ('piano', 2984), ('synthesizer', 7080), ('tack piano', 960), ('trumpet', 268), ('vibraphone', 600), ('viola', 1172), ('viola section', 172), ('violin', 2072), ('violin section', 372), ('vocalists', 3024))\n",
      "found 56160 entries\n",
      "(('acoustic guitar', 1840), ('auxiliary percussion', 2132), ('brass section', 292), ('cello', 1452), ('clean electric guitar', 2116), ('distorted electric guitar', 7940), ('double bass', 640), ('drum set', 7000), ('electric bass', 7504), ('female singer', 724), ('flute section', 140), ('male singer', 5568), ('oboe', 108), ('piano', 2984), ('synthesizer', 7080), ('tack piano', 960), ('trumpet', 268), ('vibraphone', 600), ('viola', 1172), ('viola section', 172), ('violin', 2072), ('violin section', 372), ('vocalists', 3024))\n",
      "found 56160 entries\n",
      "(('acoustic guitar', 1840), ('auxiliary percussion', 2132), ('brass section', 292), ('cello', 1452), ('clean electric guitar', 2116), ('distorted electric guitar', 7940), ('double bass', 640), ('drum set', 7000), ('electric bass', 7504), ('female singer', 724), ('flute section', 140), ('male singer', 5568), ('oboe', 108), ('piano', 2984), ('synthesizer', 7080), ('tack piano', 960), ('trumpet', 268), ('vibraphone', 600), ('viola', 1172), ('viola section', 172), ('violin', 2072), ('violin section', 372), ('vocalists', 3024))\n",
      "train 288764\n",
      "val 56160\n",
      "found 288764 entries\n",
      "(('acoustic guitar', 16412), ('auxiliary percussion', 6588), ('brass section', 2220), ('cello', 7284), ('clean electric guitar', 30248), ('distorted electric guitar', 8152), ('double bass', 10608), ('drum set', 34264), ('electric bass', 36596), ('female singer', 16016), ('flute section', 72), ('male singer', 14748), ('oboe', 960), ('piano', 30908), ('synthesizer', 25908), ('tack piano', 2788), ('trumpet', 1380), ('vibraphone', 2524), ('viola', 5496), ('viola section', 1080), ('violin', 23244), ('violin section', 2612), ('vocalists', 8656))\n",
      "found 288764 entries\n",
      "(('acoustic guitar', 16412), ('auxiliary percussion', 6588), ('brass section', 2220), ('cello', 7284), ('clean electric guitar', 30248), ('distorted electric guitar', 8152), ('double bass', 10608), ('drum set', 34264), ('electric bass', 36596), ('female singer', 16016), ('flute section', 72), ('male singer', 14748), ('oboe', 960), ('piano', 30908), ('synthesizer', 25908), ('tack piano', 2788), ('trumpet', 1380), ('vibraphone', 2524), ('viola', 5496), ('viola section', 1080), ('violin', 23244), ('violin section', 2612), ('vocalists', 8656))\n",
      "found 56160 entries\n",
      "(('acoustic guitar', 1840), ('auxiliary percussion', 2132), ('brass section', 292), ('cello', 1452), ('clean electric guitar', 2116), ('distorted electric guitar', 7940), ('double bass', 640), ('drum set', 7000), ('electric bass', 7504), ('female singer', 724), ('flute section', 140), ('male singer', 5568), ('oboe', 108), ('piano', 2984), ('synthesizer', 7080), ('tack piano', 960), ('trumpet', 268), ('vibraphone', 600), ('viola', 1172), ('viola section', 172), ('violin', 2072), ('violin section', 372), ('vocalists', 3024))\n",
      "found 56160 entries\n",
      "(('acoustic guitar', 1840), ('auxiliary percussion', 2132), ('brass section', 292), ('cello', 1452), ('clean electric guitar', 2116), ('distorted electric guitar', 7940), ('double bass', 640), ('drum set', 7000), ('electric bass', 7504), ('female singer', 724), ('flute section', 140), ('male singer', 5568), ('oboe', 108), ('piano', 2984), ('synthesizer', 7080), ('tack piano', 960), ('trumpet', 268), ('vibraphone', 600), ('viola', 1172), ('viola section', 172), ('violin', 2072), ('violin section', 372), ('vocalists', 3024))\n",
      "found 56160 entries\n",
      "(('acoustic guitar', 1840), ('auxiliary percussion', 2132), ('brass section', 292), ('cello', 1452), ('clean electric guitar', 2116), ('distorted electric guitar', 7940), ('double bass', 640), ('drum set', 7000), ('electric bass', 7504), ('female singer', 724), ('flute section', 140), ('male singer', 5568), ('oboe', 108), ('piano', 2984), ('synthesizer', 7080), ('tack piano', 960), ('trumpet', 268), ('vibraphone', 600), ('viola', 1172), ('viola section', 172), ('violin', 2072), ('violin section', 372), ('vocalists', 3024))\n",
      "found 56160 entries\n",
      "(('acoustic guitar', 1840), ('auxiliary percussion', 2132), ('brass section', 292), ('cello', 1452), ('clean electric guitar', 2116), ('distorted electric guitar', 7940), ('double bass', 640), ('drum set', 7000), ('electric bass', 7504), ('female singer', 724), ('flute section', 140), ('male singer', 5568), ('oboe', 108), ('piano', 2984), ('synthesizer', 7080), ('tack piano', 960), ('trumpet', 268), ('vibraphone', 600), ('viola', 1172), ('viola section', 172), ('violin', 2072), ('violin section', 372), ('vocalists', 3024))\n",
      "train 288764\n",
      "val 56160\n"
     ]
    }
   ]
  },
  {
   "cell_type": "code",
   "execution_count": 6,
   "metadata": {},
   "outputs": [
    {
     "output_type": "stream",
     "name": "stdout",
     "text": [
      "['acoustic guitar', 'auxiliary percussion', 'brass section', 'cello', 'clean electric guitar', 'distorted electric guitar', 'double bass', 'drum set', 'electric bass', 'female singer', 'flute section', 'male singer', 'oboe', 'piano', 'synthesizer', 'tack piano', 'trumpet', 'vibraphone', 'viola', 'viola section', 'violin', 'violin section', 'vocalists']\n"
     ]
    }
   ],
   "source": [
    "# load the models \n",
    "from instrument_recognition.task import load_model\n",
    "\n",
    "models = {}\n",
    "model_names = ['mlp-512', 'mlp-6144', 'baseline']"
   ]
  },
  {
   "cell_type": "code",
   "execution_count": 7,
   "metadata": {},
   "outputs": [
    {
     "output_type": "stream",
     "text": [
      "\u001b[0;31mSignature:\u001b[0m \u001b[0mload_model\u001b[0m\u001b[0;34m(\u001b[0m\u001b[0mmodel_name\u001b[0m\u001b[0;34m,\u001b[0m \u001b[0moutput_units\u001b[0m\u001b[0;34m=\u001b[0m\u001b[0;32mNone\u001b[0m\u001b[0;34m)\u001b[0m\u001b[0;34m\u001b[0m\u001b[0;34m\u001b[0m\u001b[0m\n",
      "\u001b[0;31mDocstring:\u001b[0m\n",
      "loads an instrument detection model\n",
      "options: tunedopenl3, openl3mlp6144-finetuned, openl3mlp-512,\n",
      "         openl3mlp-6144, mlp-512, mlp-6144\n",
      "\u001b[0;31mFile:\u001b[0m      ~/lab/mono_music_sed/instrument_recognition/task.py\n",
      "\u001b[0;31mType:\u001b[0m      function\n"
     ],
     "name": "stdout"
    }
   ],
   "source": [
    "load_model?"
   ]
  },
  {
   "cell_type": "code",
   "execution_count": null,
   "metadata": {},
   "outputs": [],
   "source": []
  }
 ]
}