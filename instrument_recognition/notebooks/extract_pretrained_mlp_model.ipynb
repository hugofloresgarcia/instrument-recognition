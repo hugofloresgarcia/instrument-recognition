{
 "metadata": {
  "language_info": {
   "codemirror_mode": {
    "name": "ipython",
    "version": 3
   },
   "file_extension": ".py",
   "mimetype": "text/x-python",
   "name": "python",
   "nbconvert_exporter": "python",
   "pygments_lexer": "ipython3",
   "version": "3.6.9-final"
  },
  "orig_nbformat": 2,
  "kernelspec": {
   "name": "python3",
   "display_name": "Python 3"
  }
 },
 "nbformat": 4,
 "nbformat_minor": 2,
 "cells": [
  {
   "cell_type": "code",
   "execution_count": 7,
   "metadata": {},
   "outputs": [
    {
     "output_type": "execute_result",
     "data": {
      "text/plain": [
       "True"
      ]
     },
     "metadata": {},
     "execution_count": 7
    }
   ],
   "source": [
    "from instrument_recognition.models.mlp import MLP512, MLP6144\n",
    "import os\n",
    "\n",
    "ckpt_path_6144 = '/home/hugo/lab/mono_music_sed/instrument_recognition/test-tubes/mlp-6144-mix-moremix/version_0/checkpoints/epoch=100-loss_val=1.47.ckpt'\n",
    "\n",
    "os.path.exists(ckpt_path_6144)"
   ]
  },
  {
   "cell_type": "code",
   "execution_count": 11,
   "metadata": {
    "tags": []
   },
   "outputs": [
    {
     "output_type": "stream",
     "name": "stdout",
     "text": [
      "dict_keys(['epoch', 'global_step', 'pytorch-lightning_version', 'callbacks', 'optimizer_states', 'lr_schedulers', 'state_dict', 'hparams_name', 'hyper_parameters'])\n\nodict_keys(['class_weights', 'model.fc.0.weight', 'model.fc.0.bias', 'model.fc.0.running_mean', 'model.fc.0.running_var', 'model.fc.0.num_batches_tracked', 'model.fc.1.weight', 'model.fc.1.bias', 'model.fc.4.weight', 'model.fc.4.bias', 'model.fc.4.running_mean', 'model.fc.4.running_var', 'model.fc.4.num_batches_tracked', 'model.fc.5.weight', 'model.fc.5.bias', 'model.fc.8.weight', 'model.fc.8.bias', 'model.fc.8.running_mean', 'model.fc.8.running_var', 'model.fc.8.num_batches_tracked', 'model.fc.9.weight', 'model.fc.9.bias'])\n"
     ]
    }
   ],
   "source": [
    "import torch\n",
    "\n",
    "ckpt = torch.load(ckpt_path_6144)\n",
    "print(ckpt.keys())\n",
    "print()\n",
    "print(ckpt['state_dict'].keys())"
   ]
  },
  {
   "cell_type": "code",
   "execution_count": 12,
   "metadata": {},
   "outputs": [
    {
     "output_type": "stream",
     "name": "stdout",
     "text": [
      "odict_keys(['fc.0.weight', 'fc.0.bias', 'fc.0.running_mean', 'fc.0.running_var', 'fc.0.num_batches_tracked', 'fc.1.weight', 'fc.1.bias', 'fc.4.weight', 'fc.4.bias', 'fc.4.running_mean', 'fc.4.running_var', 'fc.4.num_batches_tracked', 'fc.5.weight', 'fc.5.bias', 'fc.8.weight', 'fc.8.bias', 'fc.8.running_mean', 'fc.8.running_var', 'fc.8.num_batches_tracked', 'fc.9.weight', 'fc.9.bias'])\n"
     ]
    }
   ],
   "source": [
    "from collections import OrderedDict\n",
    "# remove the model. from the state dict\n",
    "mlp_state_dict = OrderedDict()\n",
    "for k in ckpt['state_dict']:\n",
    "    if 'model.' in k:\n",
    "        new_k = k.replace('model.', '')\n",
    "        mlp_state_dict[new_k] = ckpt['state_dict'][k]\n",
    "\n",
    "print(mlp_state_dict.keys())"
   ]
  },
  {
   "cell_type": "code",
   "execution_count": 14,
   "metadata": {},
   "outputs": [
    {
     "output_type": "execute_result",
     "data": {
      "text/plain": [
       "MLP6144(\n",
       "  (fc): Sequential(\n",
       "    (0): BatchNorm1d(6144, eps=1e-05, momentum=0.1, affine=True, track_running_stats=True)\n",
       "    (1): Linear(in_features=6144, out_features=512, bias=True)\n",
       "    (2): ReLU()\n",
       "    (3): Dropout(p=0, inplace=False)\n",
       "    (4): BatchNorm1d(512, eps=1e-05, momentum=0.1, affine=True, track_running_stats=True)\n",
       "    (5): Linear(in_features=512, out_features=128, bias=True)\n",
       "    (6): ReLU()\n",
       "    (7): Dropout(p=0, inplace=False)\n",
       "    (8): BatchNorm1d(128, eps=1e-05, momentum=0.1, affine=True, track_running_stats=True)\n",
       "    (9): Linear(in_features=128, out_features=39, bias=True)\n",
       "  )\n",
       ")"
      ]
     },
     "metadata": {},
     "execution_count": 14
    }
   ],
   "source": [
    "# create model and load state_dict\n",
    "\n",
    "# num_output_units = mlp_state_dict['fc.9.weight'].shape[0]\n",
    "\n",
    "num_output_units = 39\n",
    "model = MLP6144(dropout=0, num_output_units=num_output_units)\n",
    "\n",
    "model.load_state_dict(mlp_state_dict)\n",
    "model.eval()"
   ]
  },
  {
   "cell_type": "code",
   "execution_count": 16,
   "metadata": {},
   "outputs": [],
   "source": [
    "output_state_dict = model.state_dict()\n",
    "\n",
    "torch.save(output_state_dict, '../weights/mlp-6144-mixup')"
   ]
  },
  {
   "cell_type": "code",
   "execution_count": 15,
   "metadata": {},
   "outputs": [
    {
     "output_type": "stream",
     "text": [
      "\u001b[0;31mSignature:\u001b[0m\n",
      "\u001b[0mtorch\u001b[0m\u001b[0;34m.\u001b[0m\u001b[0msave\u001b[0m\u001b[0;34m(\u001b[0m\u001b[0;34m\u001b[0m\n",
      "\u001b[0;34m\u001b[0m    \u001b[0mobj\u001b[0m\u001b[0;34m,\u001b[0m\u001b[0;34m\u001b[0m\n",
      "\u001b[0;34m\u001b[0m    \u001b[0mf\u001b[0m\u001b[0;34m:\u001b[0m\u001b[0mUnion\u001b[0m\u001b[0;34m[\u001b[0m\u001b[0mstr\u001b[0m\u001b[0;34m,\u001b[0m \u001b[0mos\u001b[0m\u001b[0;34m.\u001b[0m\u001b[0mPathLike\u001b[0m\u001b[0;34m,\u001b[0m \u001b[0mBinaryIO\u001b[0m\u001b[0;34m]\u001b[0m\u001b[0;34m,\u001b[0m\u001b[0;34m\u001b[0m\n",
      "\u001b[0;34m\u001b[0m    \u001b[0mpickle_module\u001b[0m\u001b[0;34m=\u001b[0m\u001b[0;34m<\u001b[0m\u001b[0mmodule\u001b[0m \u001b[0;34m'pickle'\u001b[0m \u001b[0;32mfrom\u001b[0m \u001b[0;34m'/usr/lib/python3.6/pickle.py'\u001b[0m\u001b[0;34m>\u001b[0m\u001b[0;34m,\u001b[0m\u001b[0;34m\u001b[0m\n",
      "\u001b[0;34m\u001b[0m    \u001b[0mpickle_protocol\u001b[0m\u001b[0;34m=\u001b[0m\u001b[0;36m2\u001b[0m\u001b[0;34m,\u001b[0m\u001b[0;34m\u001b[0m\n",
      "\u001b[0;34m\u001b[0m    \u001b[0m_use_new_zipfile_serialization\u001b[0m\u001b[0;34m=\u001b[0m\u001b[0;32mTrue\u001b[0m\u001b[0;34m,\u001b[0m\u001b[0;34m\u001b[0m\n",
      "\u001b[0;34m\u001b[0m\u001b[0;34m)\u001b[0m \u001b[0;34m->\u001b[0m \u001b[0;32mNone\u001b[0m\u001b[0;34m\u001b[0m\u001b[0;34m\u001b[0m\u001b[0m\n",
      "\u001b[0;31mDocstring:\u001b[0m\n",
      "Saves an object to a disk file.\n",
      "\n",
      "See also: `saving-loading-tensors`\n",
      "\n",
      "Args:\n",
      "    obj: saved object\n",
      "    f: a file-like object (has to implement write and flush) or a string or\n",
      "       os.PathLike object containing a file name\n",
      "    pickle_module: module used for pickling metadata and objects\n",
      "    pickle_protocol: can be specified to override the default protocol\n",
      "\n",
      ".. note::\n",
      "    A common PyTorch convention is to save tensors using .pt file extension.\n",
      "\n",
      ".. note::\n",
      "    PyTorch preserves storage sharing across serialization. See\n",
      "    `preserve-storage-sharing` for more details.\n",
      "\n",
      ".. note::\n",
      "    The 1.6 release of PyTorch switched ``torch.save`` to use a new\n",
      "    zipfile-based file format. ``torch.load`` still retains the ability to\n",
      "    load files in the old format. If for any reason you want ``torch.save``\n",
      "    to use the old format, pass the kwarg ``_use_new_zipfile_serialization=False``.\n",
      "\n",
      "Example:\n",
      "    >>> # Save to file\n",
      "    >>> x = torch.tensor([0, 1, 2, 3, 4])\n",
      "    >>> torch.save(x, 'tensor.pt')\n",
      "    >>> # Save to io.BytesIO buffer\n",
      "    >>> buffer = io.BytesIO()\n",
      "    >>> torch.save(x, buffer)\n",
      "\u001b[0;31mFile:\u001b[0m      ~/lab/venv/lib/python3.6/site-packages/torch/serialization.py\n",
      "\u001b[0;31mType:\u001b[0m      function\n"
     ],
     "name": "stdout"
    }
   ],
   "source": [
    "torch.save?"
   ]
  },
  {
   "cell_type": "code",
   "execution_count": null,
   "metadata": {},
   "outputs": [],
   "source": []
  }
 ]
}